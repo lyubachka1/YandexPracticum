{
  "cells": [
    {
      "cell_type": "markdown",
      "metadata": {
        "toc": true,
        "id": "2SesQ9z8SnDe"
      },
      "source": [
        "<h1>Содержание<span class=\"tocSkip\"></span></h1>\n",
        "<div class=\"toc\"><ul class=\"toc-item\"><li><span><a href=\"#Подготовка-данных\" data-toc-modified-id=\"Подготовка-данных-1\"><span class=\"toc-item-num\">1&nbsp;&nbsp;</span>Подготовка данных</a></span></li><li><span><a href=\"#Исследование-задачи\" data-toc-modified-id=\"Исследование-задачи-2\"><span class=\"toc-item-num\">2&nbsp;&nbsp;</span>Исследование задачи</a></span><ul class=\"toc-item\"><li><span><a href=\"#Формирование-выборок:-обучающая,-валидационная,-тестовая\" data-toc-modified-id=\"Формирование-выборок:-обучающая,-валидационная,-тестовая-2.1\"><span class=\"toc-item-num\">2.1&nbsp;&nbsp;</span>Формирование выборок: обучающая, валидационная, тестовая</a></span></li><li><span><a href=\"#Масштабирование-признаков\" data-toc-modified-id=\"Масштабирование-признаков-2.2\"><span class=\"toc-item-num\">2.2&nbsp;&nbsp;</span>Масштабирование признаков</a></span></li><li><span><a href=\"#Логистическая-регрессия\" data-toc-modified-id=\"Логистическая-регрессия-2.3\"><span class=\"toc-item-num\">2.3&nbsp;&nbsp;</span>Логистическая регрессия</a></span></li><li><span><a href=\"#Решающее-дерево\" data-toc-modified-id=\"Решающее-дерево-2.4\"><span class=\"toc-item-num\">2.4&nbsp;&nbsp;</span>Решающее дерево</a></span></li><li><span><a href=\"#Случайный-лес\" data-toc-modified-id=\"Случайный-лес-2.5\"><span class=\"toc-item-num\">2.5&nbsp;&nbsp;</span>Случайный лес</a></span></li></ul></li><li><span><a href=\"#Борьба-с-дисбалансом\" data-toc-modified-id=\"Борьба-с-дисбалансом-3\"><span class=\"toc-item-num\">3&nbsp;&nbsp;</span>Борьба с дисбалансом</a></span><ul class=\"toc-item\"><li><span><a href=\"#Техника-upsampling\" data-toc-modified-id=\"Техника-upsampling-3.1\"><span class=\"toc-item-num\">3.1&nbsp;&nbsp;</span>Техника upsampling</a></span><ul class=\"toc-item\"><li><span><a href=\"#Логистическая-регрессия\" data-toc-modified-id=\"Логистическая-регрессия-3.1.1\"><span class=\"toc-item-num\">3.1.1&nbsp;&nbsp;</span>Логистическая регрессия</a></span></li><li><span><a href=\"#Решающее-дерево\" data-toc-modified-id=\"Решающее-дерево-3.1.2\"><span class=\"toc-item-num\">3.1.2&nbsp;&nbsp;</span>Решающее дерево</a></span></li><li><span><a href=\"#Случайный-лес\" data-toc-modified-id=\"Случайный-лес-3.1.3\"><span class=\"toc-item-num\">3.1.3&nbsp;&nbsp;</span>Случайный лес</a></span></li></ul></li><li><span><a href=\"#Техника-downsampling\" data-toc-modified-id=\"Техника-downsampling-3.2\"><span class=\"toc-item-num\">3.2&nbsp;&nbsp;</span>Техника downsampling</a></span><ul class=\"toc-item\"><li><span><a href=\"#Логистическая-регрессия\" data-toc-modified-id=\"Логистическая-регрессия-3.2.1\"><span class=\"toc-item-num\">3.2.1&nbsp;&nbsp;</span>Логистическая регрессия</a></span></li><li><span><a href=\"#Решающее-дерево\" data-toc-modified-id=\"Решающее-дерево-3.2.2\"><span class=\"toc-item-num\">3.2.2&nbsp;&nbsp;</span>Решающее дерево</a></span></li><li><span><a href=\"#Случайный-лес\" data-toc-modified-id=\"Случайный-лес-3.2.3\"><span class=\"toc-item-num\">3.2.3&nbsp;&nbsp;</span>Случайный лес</a></span></li></ul></li></ul></li><li><span><a href=\"#Тестирование-модели\" data-toc-modified-id=\"Тестирование-модели-4\"><span class=\"toc-item-num\">4&nbsp;&nbsp;</span>Тестирование модели</a></span></li><li><span><a href=\"#Чек-лист-готовности-проекта\" data-toc-modified-id=\"Чек-лист-готовности-проекта-5\"><span class=\"toc-item-num\">5&nbsp;&nbsp;</span>Чек-лист готовности проекта</a></span></li></ul></div>"
      ]
    },
    {
      "cell_type": "markdown",
      "metadata": {
        "id": "MvqYoMCrSnDi"
      },
      "source": [
        "# Отток клиентов"
      ]
    },
    {
      "cell_type": "markdown",
      "metadata": {
        "id": "8zD3uT8XSnDj"
      },
      "source": [
        "Из «Бета-Банка» стали уходить клиенты. Каждый месяц. Немного, но заметно. Банковские маркетологи посчитали: сохранять текущих клиентов дешевле, чем привлекать новых.\n",
        "\n",
        "Нужно спрогнозировать, уйдёт клиент из банка в ближайшее время или нет. Вам предоставлены исторические данные о поведении клиентов и расторжении договоров с банком.\n",
        "\n",
        "Постройте модель с предельно большим значением *F1*-меры. Чтобы сдать проект успешно, нужно довести метрику до 0.59. Проверьте *F1*-меру на тестовой выборке самостоятельно.\n",
        "\n",
        "Дополнительно измеряйте *AUC-ROC*, сравнивайте её значение с *F1*-мерой.\n",
        "\n",
        "Источник данных: [https://www.kaggle.com/barelydedicated/bank-customer-churn-modeling](https://www.kaggle.com/barelydedicated/bank-customer-churn-modeling)"
      ]
    },
    {
      "cell_type": "markdown",
      "metadata": {
        "id": "rwadFDLTSnDk"
      },
      "source": [
        "**Признаки**\n",
        "* RowNumber — индекс строки в данных\n",
        "* CustomerId — уникальный идентификатор клиента\n",
        "* Surname — фамилия\n",
        "* CreditScore — кредитный рейтинг\n",
        "* Geography — страна проживания\n",
        "* Gender — пол\n",
        "* Age — возраст\n",
        "* Tenure — сколько лет человек является клиентом банка\n",
        "* Balance — баланс на счёте\n",
        "* NumOfProducts — количество продуктов банка, используемых клиентом\n",
        "* HasCrCard — наличие кредитной карты\n",
        "* IsActiveMember — активность клиента\n",
        "* EstimatedSalary — предполагаемая зарплата\n",
        "\n",
        "**Целевой признак**\n",
        "* Exited — факт ухода клиента"
      ]
    },
    {
      "cell_type": "markdown",
      "metadata": {
        "id": "IJQj4x-YSnDm"
      },
      "source": [
        "## Подготовка данных"
      ]
    },
    {
      "cell_type": "code",
      "execution_count": null,
      "metadata": {
        "id": "iDcth9IxSnDo"
      },
      "outputs": [],
      "source": [
        "# импортируем необходимые библиотеки\n",
        "import pandas as pd\n",
        "import numpy as np\n",
        "import re\n",
        "import matplotlib.pyplot as plt\n",
        "import random\n",
        "import seaborn as sns\n",
        "import warnings\n",
        "from sklearn.model_selection import train_test_split\n",
        "from sklearn.preprocessing import StandardScaler\n",
        "from sklearn.linear_model import LogisticRegression\n",
        "from sklearn.tree import DecisionTreeClassifier\n",
        "from sklearn.ensemble import RandomForestClassifier\n",
        "from sklearn.metrics import accuracy_score,roc_auc_score,f1_score,precision_score, recall_score\n",
        "from sklearn.dummy import DummyClassifier\n",
        "from sklearn.metrics import precision_recall_curve\n",
        "from sklearn.utils import shuffle\n",
        "from sklearn.metrics import confusion_matrix\n",
        "from sklearn.metrics import roc_curve"
      ]
    },
    {
      "cell_type": "code",
      "execution_count": null,
      "metadata": {
        "id": "mUnqE7OhSnDr"
      },
      "outputs": [],
      "source": [
        "warnings.filterwarnings(\"ignore\") # уберем некритические предупреждения в коде"
      ]
    },
    {
      "cell_type": "code",
      "execution_count": null,
      "metadata": {
        "id": "d3xUx46zSnDs"
      },
      "outputs": [],
      "source": [
        "data = pd.read_csv('/datasets/Churn.csv')"
      ]
    },
    {
      "cell_type": "markdown",
      "metadata": {
        "id": "4Y6sbeRcSnDu"
      },
      "source": [
        "*Изучим данные*"
      ]
    },
    {
      "cell_type": "code",
      "execution_count": null,
      "metadata": {
        "id": "81vnwYdfSnDv",
        "outputId": "fd36b1c1-6766-490d-959e-95b697a40ebf"
      },
      "outputs": [
        {
          "data": {
            "text/html": [
              "<div>\n",
              "<style scoped>\n",
              "    .dataframe tbody tr th:only-of-type {\n",
              "        vertical-align: middle;\n",
              "    }\n",
              "\n",
              "    .dataframe tbody tr th {\n",
              "        vertical-align: top;\n",
              "    }\n",
              "\n",
              "    .dataframe thead th {\n",
              "        text-align: right;\n",
              "    }\n",
              "</style>\n",
              "<table border=\"1\" class=\"dataframe\">\n",
              "  <thead>\n",
              "    <tr style=\"text-align: right;\">\n",
              "      <th></th>\n",
              "      <th>RowNumber</th>\n",
              "      <th>CustomerId</th>\n",
              "      <th>Surname</th>\n",
              "      <th>CreditScore</th>\n",
              "      <th>Geography</th>\n",
              "      <th>Gender</th>\n",
              "      <th>Age</th>\n",
              "      <th>Tenure</th>\n",
              "      <th>Balance</th>\n",
              "      <th>NumOfProducts</th>\n",
              "      <th>HasCrCard</th>\n",
              "      <th>IsActiveMember</th>\n",
              "      <th>EstimatedSalary</th>\n",
              "      <th>Exited</th>\n",
              "    </tr>\n",
              "  </thead>\n",
              "  <tbody>\n",
              "    <tr>\n",
              "      <th>0</th>\n",
              "      <td>1</td>\n",
              "      <td>15634602</td>\n",
              "      <td>Hargrave</td>\n",
              "      <td>619</td>\n",
              "      <td>France</td>\n",
              "      <td>Female</td>\n",
              "      <td>42</td>\n",
              "      <td>2.0</td>\n",
              "      <td>0.00</td>\n",
              "      <td>1</td>\n",
              "      <td>1</td>\n",
              "      <td>1</td>\n",
              "      <td>101348.88</td>\n",
              "      <td>1</td>\n",
              "    </tr>\n",
              "    <tr>\n",
              "      <th>1</th>\n",
              "      <td>2</td>\n",
              "      <td>15647311</td>\n",
              "      <td>Hill</td>\n",
              "      <td>608</td>\n",
              "      <td>Spain</td>\n",
              "      <td>Female</td>\n",
              "      <td>41</td>\n",
              "      <td>1.0</td>\n",
              "      <td>83807.86</td>\n",
              "      <td>1</td>\n",
              "      <td>0</td>\n",
              "      <td>1</td>\n",
              "      <td>112542.58</td>\n",
              "      <td>0</td>\n",
              "    </tr>\n",
              "    <tr>\n",
              "      <th>2</th>\n",
              "      <td>3</td>\n",
              "      <td>15619304</td>\n",
              "      <td>Onio</td>\n",
              "      <td>502</td>\n",
              "      <td>France</td>\n",
              "      <td>Female</td>\n",
              "      <td>42</td>\n",
              "      <td>8.0</td>\n",
              "      <td>159660.80</td>\n",
              "      <td>3</td>\n",
              "      <td>1</td>\n",
              "      <td>0</td>\n",
              "      <td>113931.57</td>\n",
              "      <td>1</td>\n",
              "    </tr>\n",
              "    <tr>\n",
              "      <th>3</th>\n",
              "      <td>4</td>\n",
              "      <td>15701354</td>\n",
              "      <td>Boni</td>\n",
              "      <td>699</td>\n",
              "      <td>France</td>\n",
              "      <td>Female</td>\n",
              "      <td>39</td>\n",
              "      <td>1.0</td>\n",
              "      <td>0.00</td>\n",
              "      <td>2</td>\n",
              "      <td>0</td>\n",
              "      <td>0</td>\n",
              "      <td>93826.63</td>\n",
              "      <td>0</td>\n",
              "    </tr>\n",
              "    <tr>\n",
              "      <th>4</th>\n",
              "      <td>5</td>\n",
              "      <td>15737888</td>\n",
              "      <td>Mitchell</td>\n",
              "      <td>850</td>\n",
              "      <td>Spain</td>\n",
              "      <td>Female</td>\n",
              "      <td>43</td>\n",
              "      <td>2.0</td>\n",
              "      <td>125510.82</td>\n",
              "      <td>1</td>\n",
              "      <td>1</td>\n",
              "      <td>1</td>\n",
              "      <td>79084.10</td>\n",
              "      <td>0</td>\n",
              "    </tr>\n",
              "  </tbody>\n",
              "</table>\n",
              "</div>"
            ],
            "text/plain": [
              "   RowNumber  CustomerId   Surname  CreditScore Geography  Gender  Age  \\\n",
              "0          1    15634602  Hargrave          619    France  Female   42   \n",
              "1          2    15647311      Hill          608     Spain  Female   41   \n",
              "2          3    15619304      Onio          502    France  Female   42   \n",
              "3          4    15701354      Boni          699    France  Female   39   \n",
              "4          5    15737888  Mitchell          850     Spain  Female   43   \n",
              "\n",
              "   Tenure    Balance  NumOfProducts  HasCrCard  IsActiveMember  \\\n",
              "0     2.0       0.00              1          1               1   \n",
              "1     1.0   83807.86              1          0               1   \n",
              "2     8.0  159660.80              3          1               0   \n",
              "3     1.0       0.00              2          0               0   \n",
              "4     2.0  125510.82              1          1               1   \n",
              "\n",
              "   EstimatedSalary  Exited  \n",
              "0        101348.88       1  \n",
              "1        112542.58       0  \n",
              "2        113931.57       1  \n",
              "3         93826.63       0  \n",
              "4         79084.10       0  "
            ]
          },
          "execution_count": 6,
          "metadata": {},
          "output_type": "execute_result"
        }
      ],
      "source": [
        "data.head() # выведем первые 5 строк данных"
      ]
    },
    {
      "cell_type": "code",
      "execution_count": null,
      "metadata": {
        "id": "UC1l3lC4SnDy",
        "outputId": "7594c294-c495-4a76-e6d3-dcef686078d1"
      },
      "outputs": [
        {
          "name": "stdout",
          "output_type": "stream",
          "text": [
            "<class 'pandas.core.frame.DataFrame'>\n",
            "RangeIndex: 10000 entries, 0 to 9999\n",
            "Data columns (total 14 columns):\n",
            " #   Column           Non-Null Count  Dtype  \n",
            "---  ------           --------------  -----  \n",
            " 0   RowNumber        10000 non-null  int64  \n",
            " 1   CustomerId       10000 non-null  int64  \n",
            " 2   Surname          10000 non-null  object \n",
            " 3   CreditScore      10000 non-null  int64  \n",
            " 4   Geography        10000 non-null  object \n",
            " 5   Gender           10000 non-null  object \n",
            " 6   Age              10000 non-null  int64  \n",
            " 7   Tenure           9091 non-null   float64\n",
            " 8   Balance          10000 non-null  float64\n",
            " 9   NumOfProducts    10000 non-null  int64  \n",
            " 10  HasCrCard        10000 non-null  int64  \n",
            " 11  IsActiveMember   10000 non-null  int64  \n",
            " 12  EstimatedSalary  10000 non-null  float64\n",
            " 13  Exited           10000 non-null  int64  \n",
            "dtypes: float64(3), int64(8), object(3)\n",
            "memory usage: 1.1+ MB\n"
          ]
        }
      ],
      "source": [
        "data.info()"
      ]
    },
    {
      "cell_type": "code",
      "execution_count": null,
      "metadata": {
        "id": "4lzj0BPYSnD0",
        "outputId": "c928622c-04d8-484e-d481-07212d0c97ca"
      },
      "outputs": [
        {
          "data": {
            "text/plain": [
              "(10000, 14)"
            ]
          },
          "execution_count": 8,
          "metadata": {},
          "output_type": "execute_result"
        }
      ],
      "source": [
        "data.shape # сколько в DF строк и столбцов"
      ]
    },
    {
      "cell_type": "code",
      "execution_count": null,
      "metadata": {
        "id": "di9u9u8RSnD1",
        "outputId": "a897bf54-2305-44e4-b519-a9ce49644cff"
      },
      "outputs": [
        {
          "data": {
            "text/plain": [
              "['row_number',\n",
              " 'customer_id',\n",
              " 'surname',\n",
              " 'credit_score',\n",
              " 'geography',\n",
              " 'gender',\n",
              " 'age',\n",
              " 'tenure',\n",
              " 'balance',\n",
              " 'num_of_products',\n",
              " 'has_cr_card',\n",
              " 'is_active_member',\n",
              " 'estimated_salary',\n",
              " 'exited']"
            ]
          },
          "execution_count": 9,
          "metadata": {},
          "output_type": "execute_result"
        }
      ],
      "source": [
        "# приведем название столбцов к нижнему регистру\n",
        "columns = data.columns\n",
        "columns_new = []\n",
        "for name in columns:\n",
        "    columns_new.append(re.sub(r'(?<!^)(?=[A-Z])', '_', name).lower())\n",
        "columns_new"
      ]
    },
    {
      "cell_type": "code",
      "execution_count": null,
      "metadata": {
        "id": "jEjhEJ4BSnD2"
      },
      "outputs": [],
      "source": [
        "data.set_axis(columns_new, axis='columns', inplace=True)"
      ]
    },
    {
      "cell_type": "code",
      "execution_count": null,
      "metadata": {
        "id": "sYVBs_F7SnD3",
        "outputId": "9b8f0fba-f1b7-4fad-a571-a5934393f9f3"
      },
      "outputs": [
        {
          "data": {
            "text/html": [
              "<div>\n",
              "<style scoped>\n",
              "    .dataframe tbody tr th:only-of-type {\n",
              "        vertical-align: middle;\n",
              "    }\n",
              "\n",
              "    .dataframe tbody tr th {\n",
              "        vertical-align: top;\n",
              "    }\n",
              "\n",
              "    .dataframe thead th {\n",
              "        text-align: right;\n",
              "    }\n",
              "</style>\n",
              "<table border=\"1\" class=\"dataframe\">\n",
              "  <thead>\n",
              "    <tr style=\"text-align: right;\">\n",
              "      <th></th>\n",
              "      <th>row_number</th>\n",
              "      <th>customer_id</th>\n",
              "      <th>credit_score</th>\n",
              "      <th>age</th>\n",
              "      <th>tenure</th>\n",
              "      <th>balance</th>\n",
              "      <th>num_of_products</th>\n",
              "      <th>has_cr_card</th>\n",
              "      <th>is_active_member</th>\n",
              "      <th>estimated_salary</th>\n",
              "      <th>exited</th>\n",
              "    </tr>\n",
              "  </thead>\n",
              "  <tbody>\n",
              "    <tr>\n",
              "      <th>count</th>\n",
              "      <td>10000.00000</td>\n",
              "      <td>1.000000e+04</td>\n",
              "      <td>10000.000000</td>\n",
              "      <td>10000.000000</td>\n",
              "      <td>9091.000000</td>\n",
              "      <td>10000.000000</td>\n",
              "      <td>10000.000000</td>\n",
              "      <td>10000.00000</td>\n",
              "      <td>10000.000000</td>\n",
              "      <td>10000.000000</td>\n",
              "      <td>10000.000000</td>\n",
              "    </tr>\n",
              "    <tr>\n",
              "      <th>mean</th>\n",
              "      <td>5000.50000</td>\n",
              "      <td>1.569094e+07</td>\n",
              "      <td>650.528800</td>\n",
              "      <td>38.921800</td>\n",
              "      <td>4.997690</td>\n",
              "      <td>76485.889288</td>\n",
              "      <td>1.530200</td>\n",
              "      <td>0.70550</td>\n",
              "      <td>0.515100</td>\n",
              "      <td>100090.239881</td>\n",
              "      <td>0.203700</td>\n",
              "    </tr>\n",
              "    <tr>\n",
              "      <th>std</th>\n",
              "      <td>2886.89568</td>\n",
              "      <td>7.193619e+04</td>\n",
              "      <td>96.653299</td>\n",
              "      <td>10.487806</td>\n",
              "      <td>2.894723</td>\n",
              "      <td>62397.405202</td>\n",
              "      <td>0.581654</td>\n",
              "      <td>0.45584</td>\n",
              "      <td>0.499797</td>\n",
              "      <td>57510.492818</td>\n",
              "      <td>0.402769</td>\n",
              "    </tr>\n",
              "    <tr>\n",
              "      <th>min</th>\n",
              "      <td>1.00000</td>\n",
              "      <td>1.556570e+07</td>\n",
              "      <td>350.000000</td>\n",
              "      <td>18.000000</td>\n",
              "      <td>0.000000</td>\n",
              "      <td>0.000000</td>\n",
              "      <td>1.000000</td>\n",
              "      <td>0.00000</td>\n",
              "      <td>0.000000</td>\n",
              "      <td>11.580000</td>\n",
              "      <td>0.000000</td>\n",
              "    </tr>\n",
              "    <tr>\n",
              "      <th>25%</th>\n",
              "      <td>2500.75000</td>\n",
              "      <td>1.562853e+07</td>\n",
              "      <td>584.000000</td>\n",
              "      <td>32.000000</td>\n",
              "      <td>2.000000</td>\n",
              "      <td>0.000000</td>\n",
              "      <td>1.000000</td>\n",
              "      <td>0.00000</td>\n",
              "      <td>0.000000</td>\n",
              "      <td>51002.110000</td>\n",
              "      <td>0.000000</td>\n",
              "    </tr>\n",
              "    <tr>\n",
              "      <th>50%</th>\n",
              "      <td>5000.50000</td>\n",
              "      <td>1.569074e+07</td>\n",
              "      <td>652.000000</td>\n",
              "      <td>37.000000</td>\n",
              "      <td>5.000000</td>\n",
              "      <td>97198.540000</td>\n",
              "      <td>1.000000</td>\n",
              "      <td>1.00000</td>\n",
              "      <td>1.000000</td>\n",
              "      <td>100193.915000</td>\n",
              "      <td>0.000000</td>\n",
              "    </tr>\n",
              "    <tr>\n",
              "      <th>75%</th>\n",
              "      <td>7500.25000</td>\n",
              "      <td>1.575323e+07</td>\n",
              "      <td>718.000000</td>\n",
              "      <td>44.000000</td>\n",
              "      <td>7.000000</td>\n",
              "      <td>127644.240000</td>\n",
              "      <td>2.000000</td>\n",
              "      <td>1.00000</td>\n",
              "      <td>1.000000</td>\n",
              "      <td>149388.247500</td>\n",
              "      <td>0.000000</td>\n",
              "    </tr>\n",
              "    <tr>\n",
              "      <th>max</th>\n",
              "      <td>10000.00000</td>\n",
              "      <td>1.581569e+07</td>\n",
              "      <td>850.000000</td>\n",
              "      <td>92.000000</td>\n",
              "      <td>10.000000</td>\n",
              "      <td>250898.090000</td>\n",
              "      <td>4.000000</td>\n",
              "      <td>1.00000</td>\n",
              "      <td>1.000000</td>\n",
              "      <td>199992.480000</td>\n",
              "      <td>1.000000</td>\n",
              "    </tr>\n",
              "  </tbody>\n",
              "</table>\n",
              "</div>"
            ],
            "text/plain": [
              "        row_number   customer_id  credit_score           age       tenure  \\\n",
              "count  10000.00000  1.000000e+04  10000.000000  10000.000000  9091.000000   \n",
              "mean    5000.50000  1.569094e+07    650.528800     38.921800     4.997690   \n",
              "std     2886.89568  7.193619e+04     96.653299     10.487806     2.894723   \n",
              "min        1.00000  1.556570e+07    350.000000     18.000000     0.000000   \n",
              "25%     2500.75000  1.562853e+07    584.000000     32.000000     2.000000   \n",
              "50%     5000.50000  1.569074e+07    652.000000     37.000000     5.000000   \n",
              "75%     7500.25000  1.575323e+07    718.000000     44.000000     7.000000   \n",
              "max    10000.00000  1.581569e+07    850.000000     92.000000    10.000000   \n",
              "\n",
              "             balance  num_of_products  has_cr_card  is_active_member  \\\n",
              "count   10000.000000     10000.000000  10000.00000      10000.000000   \n",
              "mean    76485.889288         1.530200      0.70550          0.515100   \n",
              "std     62397.405202         0.581654      0.45584          0.499797   \n",
              "min         0.000000         1.000000      0.00000          0.000000   \n",
              "25%         0.000000         1.000000      0.00000          0.000000   \n",
              "50%     97198.540000         1.000000      1.00000          1.000000   \n",
              "75%    127644.240000         2.000000      1.00000          1.000000   \n",
              "max    250898.090000         4.000000      1.00000          1.000000   \n",
              "\n",
              "       estimated_salary        exited  \n",
              "count      10000.000000  10000.000000  \n",
              "mean      100090.239881      0.203700  \n",
              "std        57510.492818      0.402769  \n",
              "min           11.580000      0.000000  \n",
              "25%        51002.110000      0.000000  \n",
              "50%       100193.915000      0.000000  \n",
              "75%       149388.247500      0.000000  \n",
              "max       199992.480000      1.000000  "
            ]
          },
          "execution_count": 11,
          "metadata": {},
          "output_type": "execute_result"
        }
      ],
      "source": [
        "data.describe()"
      ]
    },
    {
      "cell_type": "code",
      "execution_count": null,
      "metadata": {
        "id": "NuPqRDLzSnD4",
        "outputId": "27a67a70-aeb4-4e95-a561-cff5e46c3119"
      },
      "outputs": [
        {
          "data": {
            "text/html": [
              "<style  type=\"text/css\" >\n",
              "#T_fc5e0_row0_col0,#T_fc5e0_row1_col0,#T_fc5e0_row2_col0,#T_fc5e0_row3_col0,#T_fc5e0_row4_col0,#T_fc5e0_row5_col0,#T_fc5e0_row6_col0,#T_fc5e0_row8_col0,#T_fc5e0_row9_col0,#T_fc5e0_row10_col0,#T_fc5e0_row11_col0,#T_fc5e0_row12_col0,#T_fc5e0_row13_col0{\n",
              "            background-color:  #3b4cc0;\n",
              "            color:  #f1f1f1;\n",
              "        }#T_fc5e0_row7_col0{\n",
              "            background-color:  #b40426;\n",
              "            color:  #f1f1f1;\n",
              "        }</style><table id=\"T_fc5e0_\" ><thead>    <tr>        <th class=\"blank level0\" ></th>        <th class=\"col_heading level0 col0\" >0</th>    </tr></thead><tbody>\n",
              "                <tr>\n",
              "                        <th id=\"T_fc5e0_level0_row0\" class=\"row_heading level0 row0\" >row_number</th>\n",
              "                        <td id=\"T_fc5e0_row0_col0\" class=\"data row0 col0\" >0.000000</td>\n",
              "            </tr>\n",
              "            <tr>\n",
              "                        <th id=\"T_fc5e0_level0_row1\" class=\"row_heading level0 row1\" >customer_id</th>\n",
              "                        <td id=\"T_fc5e0_row1_col0\" class=\"data row1 col0\" >0.000000</td>\n",
              "            </tr>\n",
              "            <tr>\n",
              "                        <th id=\"T_fc5e0_level0_row2\" class=\"row_heading level0 row2\" >surname</th>\n",
              "                        <td id=\"T_fc5e0_row2_col0\" class=\"data row2 col0\" >0.000000</td>\n",
              "            </tr>\n",
              "            <tr>\n",
              "                        <th id=\"T_fc5e0_level0_row3\" class=\"row_heading level0 row3\" >credit_score</th>\n",
              "                        <td id=\"T_fc5e0_row3_col0\" class=\"data row3 col0\" >0.000000</td>\n",
              "            </tr>\n",
              "            <tr>\n",
              "                        <th id=\"T_fc5e0_level0_row4\" class=\"row_heading level0 row4\" >geography</th>\n",
              "                        <td id=\"T_fc5e0_row4_col0\" class=\"data row4 col0\" >0.000000</td>\n",
              "            </tr>\n",
              "            <tr>\n",
              "                        <th id=\"T_fc5e0_level0_row5\" class=\"row_heading level0 row5\" >gender</th>\n",
              "                        <td id=\"T_fc5e0_row5_col0\" class=\"data row5 col0\" >0.000000</td>\n",
              "            </tr>\n",
              "            <tr>\n",
              "                        <th id=\"T_fc5e0_level0_row6\" class=\"row_heading level0 row6\" >age</th>\n",
              "                        <td id=\"T_fc5e0_row6_col0\" class=\"data row6 col0\" >0.000000</td>\n",
              "            </tr>\n",
              "            <tr>\n",
              "                        <th id=\"T_fc5e0_level0_row7\" class=\"row_heading level0 row7\" >tenure</th>\n",
              "                        <td id=\"T_fc5e0_row7_col0\" class=\"data row7 col0\" >9.000000</td>\n",
              "            </tr>\n",
              "            <tr>\n",
              "                        <th id=\"T_fc5e0_level0_row8\" class=\"row_heading level0 row8\" >balance</th>\n",
              "                        <td id=\"T_fc5e0_row8_col0\" class=\"data row8 col0\" >0.000000</td>\n",
              "            </tr>\n",
              "            <tr>\n",
              "                        <th id=\"T_fc5e0_level0_row9\" class=\"row_heading level0 row9\" >num_of_products</th>\n",
              "                        <td id=\"T_fc5e0_row9_col0\" class=\"data row9 col0\" >0.000000</td>\n",
              "            </tr>\n",
              "            <tr>\n",
              "                        <th id=\"T_fc5e0_level0_row10\" class=\"row_heading level0 row10\" >has_cr_card</th>\n",
              "                        <td id=\"T_fc5e0_row10_col0\" class=\"data row10 col0\" >0.000000</td>\n",
              "            </tr>\n",
              "            <tr>\n",
              "                        <th id=\"T_fc5e0_level0_row11\" class=\"row_heading level0 row11\" >is_active_member</th>\n",
              "                        <td id=\"T_fc5e0_row11_col0\" class=\"data row11 col0\" >0.000000</td>\n",
              "            </tr>\n",
              "            <tr>\n",
              "                        <th id=\"T_fc5e0_level0_row12\" class=\"row_heading level0 row12\" >estimated_salary</th>\n",
              "                        <td id=\"T_fc5e0_row12_col0\" class=\"data row12 col0\" >0.000000</td>\n",
              "            </tr>\n",
              "            <tr>\n",
              "                        <th id=\"T_fc5e0_level0_row13\" class=\"row_heading level0 row13\" >exited</th>\n",
              "                        <td id=\"T_fc5e0_row13_col0\" class=\"data row13 col0\" >0.000000</td>\n",
              "            </tr>\n",
              "    </tbody></table>"
            ],
            "text/plain": [
              "<pandas.io.formats.style.Styler at 0x7efe4e70f0d0>"
            ]
          },
          "execution_count": 12,
          "metadata": {},
          "output_type": "execute_result"
        }
      ],
      "source": [
        "pd.DataFrame(round(data.isna().mean()*100,)).style.background_gradient('coolwarm') # колличество пропусков в %"
      ]
    },
    {
      "cell_type": "markdown",
      "metadata": {
        "id": "_CskncTaSnD5"
      },
      "source": [
        "*В столбце 'Tenure' - сколько лет человек является клиентом банка, есть пропуски. В связи с тем что природа появления пропусков нам не известна и количество пропусков 9%, заполним их случайными значениями.*"
      ]
    },
    {
      "cell_type": "code",
      "execution_count": null,
      "metadata": {
        "id": "hijq3CTfSnD5",
        "outputId": "ecd81d15-7f30-4631-d146-a5a6fbb222db"
      },
      "outputs": [
        {
          "data": {
            "text/plain": [
              "1.0     952\n",
              "2.0     950\n",
              "8.0     933\n",
              "3.0     928\n",
              "5.0     927\n",
              "7.0     925\n",
              "4.0     885\n",
              "9.0     882\n",
              "6.0     881\n",
              "10.0    446\n",
              "0.0     382\n",
              "Name: tenure, dtype: int64"
            ]
          },
          "execution_count": 13,
          "metadata": {},
          "output_type": "execute_result"
        }
      ],
      "source": [
        "data['tenure'].value_counts() # посмотрим уникальные значения в столбце 'Tenure'"
      ]
    },
    {
      "cell_type": "code",
      "execution_count": null,
      "metadata": {
        "id": "QNCIutUpSnD6",
        "outputId": "bfd0d3ed-d8fc-44e0-eb62-064aa77ff070"
      },
      "outputs": [
        {
          "data": {
            "image/png": "[encoded data removed]",
            "text/plain": [
              "<Figure size 432x288 with 1 Axes>"
            ]
          },
          "metadata": {
            "needs_background": "light"
          },
          "output_type": "display_data"
        }
      ],
      "source": [
        "# построим гистограмму по столбцу Tenure\n",
        "data['tenure'].hist(bins=11)\n",
        "plt.show()"
      ]
    },
    {
      "cell_type": "code",
      "execution_count": null,
      "metadata": {
        "id": "30Uz_cycSnD7"
      },
      "outputs": [],
      "source": [
        "# заполним пропущенные значения случайными числами от 0 до 10\n",
        "data_w = np.random.randint(0,10,size=data['tenure'].isna().sum())\n",
        "data.loc[data['tenure'].isna(),'tenure'] = data_w"
      ]
    },
    {
      "cell_type": "code",
      "execution_count": null,
      "metadata": {
        "id": "ToGWAKAlSnD8",
        "outputId": "38dd2d54-d9e5-4363-f8bb-a1e69ba3de11"
      },
      "outputs": [
        {
          "data": {
            "image/png": "[encoded data removed]",
            "text/plain": [
              "<Figure size 432x288 with 1 Axes>"
            ]
          },
          "metadata": {
            "needs_background": "light"
          },
          "output_type": "display_data"
        }
      ],
      "source": [
        "# построим повторно гистограмму по столбцу Tenure и проверим распределение\n",
        "data['tenure'].hist(bins=11)\n",
        "plt.show()"
      ]
    },
    {
      "cell_type": "code",
      "execution_count": null,
      "metadata": {
        "id": "y50onPCySnD9"
      },
      "outputs": [],
      "source": [
        "# так как все уникальные значения являются целыми числами, заменим тип данных на int64\n",
        "data['tenure'] = data['tenure'].astype('int')"
      ]
    },
    {
      "cell_type": "markdown",
      "metadata": {
        "id": "8OkimYoZSnEG"
      },
      "source": [
        "*Для нашей задачи столбцы RowNumber, CustomerId и Surname (порядковый номер, идентификатор, фамилия) не потребуются. В них слишком много уникальных значений. Уберем эти столбцы.*"
      ]
    },
    {
      "cell_type": "code",
      "execution_count": null,
      "metadata": {
        "id": "ex9oxCX6SnEG"
      },
      "outputs": [],
      "source": [
        "data.drop(columns=['row_number', 'customer_id', 'surname'], inplace=True) # удалим столбцы"
      ]
    },
    {
      "cell_type": "code",
      "execution_count": null,
      "metadata": {
        "id": "lNPYctcvSnEI",
        "outputId": "71f08d7d-8632-4f58-b79a-4607eb7445cf"
      },
      "outputs": [
        {
          "data": {
            "text/plain": [
              "credit_score        0\n",
              "geography           0\n",
              "gender              0\n",
              "age                 0\n",
              "tenure              0\n",
              "balance             0\n",
              "num_of_products     0\n",
              "has_cr_card         0\n",
              "is_active_member    0\n",
              "estimated_salary    0\n",
              "exited              0\n",
              "dtype: int64"
            ]
          },
          "execution_count": 19,
          "metadata": {},
          "output_type": "execute_result"
        }
      ],
      "source": [
        "# Проверим датафрейм на пропущенные значения\n",
        "data.isna().sum()"
      ]
    },
    {
      "cell_type": "code",
      "execution_count": null,
      "metadata": {
        "id": "klnTCpspSnEJ",
        "outputId": "b65fb081-005c-41eb-ba19-430c8ba16e61"
      },
      "outputs": [
        {
          "data": {
            "text/plain": [
              "0"
            ]
          },
          "execution_count": 20,
          "metadata": {},
          "output_type": "execute_result"
        }
      ],
      "source": [
        "#Проверим на дубликаты\n",
        "data.duplicated().sum()"
      ]
    },
    {
      "cell_type": "markdown",
      "metadata": {
        "id": "RfY1gvkxSnEK"
      },
      "source": [
        "**Вывод:**\n",
        "* Изучили и подготовили данные для дальнейшего исследования.\n",
        "* Всего в таблице 10000 строк (наблюдений) и 13 столбцов, встречаются следующие типы данных: int64, float64, object.\n",
        "* Привели название столбцов к нижнему регистру.\n",
        "* Дубликатов нет.\n",
        "* В столбце Tenure есть пропущенные значения. Причина появления пропусков нам не известна. Заменили пропуски случайным значением для сохранения распределения. Заменили тип данных на int64.\n",
        "* Удалили столбцы 'RowNumber', 'CustomerId', 'Surname', так как они неинформативны как признаки и несут дополнительную нагрузку при анализе.\n"
      ]
    },
    {
      "cell_type": "markdown",
      "metadata": {
        "id": "W9DZDGHpSnEM"
      },
      "source": [
        "## Исследование задачи"
      ]
    },
    {
      "cell_type": "code",
      "execution_count": null,
      "metadata": {
        "id": "HLfXEn45SnEM",
        "outputId": "be699cf8-a356-411f-c575-3e785fbded55"
      },
      "outputs": [
        {
          "data": {
            "text/html": [
              "<div>\n",
              "<style scoped>\n",
              "    .dataframe tbody tr th:only-of-type {\n",
              "        vertical-align: middle;\n",
              "    }\n",
              "\n",
              "    .dataframe tbody tr th {\n",
              "        vertical-align: top;\n",
              "    }\n",
              "\n",
              "    .dataframe thead th {\n",
              "        text-align: right;\n",
              "    }\n",
              "</style>\n",
              "<table border=\"1\" class=\"dataframe\">\n",
              "  <thead>\n",
              "    <tr style=\"text-align: right;\">\n",
              "      <th></th>\n",
              "      <th>credit_score</th>\n",
              "      <th>age</th>\n",
              "      <th>tenure</th>\n",
              "      <th>balance</th>\n",
              "      <th>num_of_products</th>\n",
              "      <th>has_cr_card</th>\n",
              "      <th>is_active_member</th>\n",
              "      <th>estimated_salary</th>\n",
              "      <th>exited</th>\n",
              "    </tr>\n",
              "  </thead>\n",
              "  <tbody>\n",
              "    <tr>\n",
              "      <th>count</th>\n",
              "      <td>10000.000000</td>\n",
              "      <td>10000.000000</td>\n",
              "      <td>10000.000000</td>\n",
              "      <td>10000.000000</td>\n",
              "      <td>10000.000000</td>\n",
              "      <td>10000.00000</td>\n",
              "      <td>10000.000000</td>\n",
              "      <td>10000.000000</td>\n",
              "      <td>10000.000000</td>\n",
              "    </tr>\n",
              "    <tr>\n",
              "      <th>mean</th>\n",
              "      <td>650.528800</td>\n",
              "      <td>38.921800</td>\n",
              "      <td>4.953100</td>\n",
              "      <td>76485.889288</td>\n",
              "      <td>1.530200</td>\n",
              "      <td>0.70550</td>\n",
              "      <td>0.515100</td>\n",
              "      <td>100090.239881</td>\n",
              "      <td>0.203700</td>\n",
              "    </tr>\n",
              "    <tr>\n",
              "      <th>std</th>\n",
              "      <td>96.653299</td>\n",
              "      <td>10.487806</td>\n",
              "      <td>2.894052</td>\n",
              "      <td>62397.405202</td>\n",
              "      <td>0.581654</td>\n",
              "      <td>0.45584</td>\n",
              "      <td>0.499797</td>\n",
              "      <td>57510.492818</td>\n",
              "      <td>0.402769</td>\n",
              "    </tr>\n",
              "    <tr>\n",
              "      <th>min</th>\n",
              "      <td>350.000000</td>\n",
              "      <td>18.000000</td>\n",
              "      <td>0.000000</td>\n",
              "      <td>0.000000</td>\n",
              "      <td>1.000000</td>\n",
              "      <td>0.00000</td>\n",
              "      <td>0.000000</td>\n",
              "      <td>11.580000</td>\n",
              "      <td>0.000000</td>\n",
              "    </tr>\n",
              "    <tr>\n",
              "      <th>25%</th>\n",
              "      <td>584.000000</td>\n",
              "      <td>32.000000</td>\n",
              "      <td>2.000000</td>\n",
              "      <td>0.000000</td>\n",
              "      <td>1.000000</td>\n",
              "      <td>0.00000</td>\n",
              "      <td>0.000000</td>\n",
              "      <td>51002.110000</td>\n",
              "      <td>0.000000</td>\n",
              "    </tr>\n",
              "    <tr>\n",
              "      <th>50%</th>\n",
              "      <td>652.000000</td>\n",
              "      <td>37.000000</td>\n",
              "      <td>5.000000</td>\n",
              "      <td>97198.540000</td>\n",
              "      <td>1.000000</td>\n",
              "      <td>1.00000</td>\n",
              "      <td>1.000000</td>\n",
              "      <td>100193.915000</td>\n",
              "      <td>0.000000</td>\n",
              "    </tr>\n",
              "    <tr>\n",
              "      <th>75%</th>\n",
              "      <td>718.000000</td>\n",
              "      <td>44.000000</td>\n",
              "      <td>7.000000</td>\n",
              "      <td>127644.240000</td>\n",
              "      <td>2.000000</td>\n",
              "      <td>1.00000</td>\n",
              "      <td>1.000000</td>\n",
              "      <td>149388.247500</td>\n",
              "      <td>0.000000</td>\n",
              "    </tr>\n",
              "    <tr>\n",
              "      <th>max</th>\n",
              "      <td>850.000000</td>\n",
              "      <td>92.000000</td>\n",
              "      <td>10.000000</td>\n",
              "      <td>250898.090000</td>\n",
              "      <td>4.000000</td>\n",
              "      <td>1.00000</td>\n",
              "      <td>1.000000</td>\n",
              "      <td>199992.480000</td>\n",
              "      <td>1.000000</td>\n",
              "    </tr>\n",
              "  </tbody>\n",
              "</table>\n",
              "</div>"
            ],
            "text/plain": [
              "       credit_score           age        tenure        balance  \\\n",
              "count  10000.000000  10000.000000  10000.000000   10000.000000   \n",
              "mean     650.528800     38.921800      4.953100   76485.889288   \n",
              "std       96.653299     10.487806      2.894052   62397.405202   \n",
              "min      350.000000     18.000000      0.000000       0.000000   \n",
              "25%      584.000000     32.000000      2.000000       0.000000   \n",
              "50%      652.000000     37.000000      5.000000   97198.540000   \n",
              "75%      718.000000     44.000000      7.000000  127644.240000   \n",
              "max      850.000000     92.000000     10.000000  250898.090000   \n",
              "\n",
              "       num_of_products  has_cr_card  is_active_member  estimated_salary  \\\n",
              "count     10000.000000  10000.00000      10000.000000      10000.000000   \n",
              "mean          1.530200      0.70550          0.515100     100090.239881   \n",
              "std           0.581654      0.45584          0.499797      57510.492818   \n",
              "min           1.000000      0.00000          0.000000         11.580000   \n",
              "25%           1.000000      0.00000          0.000000      51002.110000   \n",
              "50%           1.000000      1.00000          1.000000     100193.915000   \n",
              "75%           2.000000      1.00000          1.000000     149388.247500   \n",
              "max           4.000000      1.00000          1.000000     199992.480000   \n",
              "\n",
              "             exited  \n",
              "count  10000.000000  \n",
              "mean       0.203700  \n",
              "std        0.402769  \n",
              "min        0.000000  \n",
              "25%        0.000000  \n",
              "50%        0.000000  \n",
              "75%        0.000000  \n",
              "max        1.000000  "
            ]
          },
          "execution_count": 21,
          "metadata": {},
          "output_type": "execute_result"
        }
      ],
      "source": [
        "# основные статистические показатели для количественных данных\n",
        "data.describe(include=np.number)"
      ]
    },
    {
      "cell_type": "code",
      "execution_count": null,
      "metadata": {
        "id": "aTVtW-q1SnFF",
        "outputId": "4a2d0241-501a-4e1b-b844-f03c570cc6ac"
      },
      "outputs": [
        {
          "data": {
            "text/html": [
              "<div>\n",
              "<style scoped>\n",
              "    .dataframe tbody tr th:only-of-type {\n",
              "        vertical-align: middle;\n",
              "    }\n",
              "\n",
              "    .dataframe tbody tr th {\n",
              "        vertical-align: top;\n",
              "    }\n",
              "\n",
              "    .dataframe thead th {\n",
              "        text-align: right;\n",
              "    }\n",
              "</style>\n",
              "<table border=\"1\" class=\"dataframe\">\n",
              "  <thead>\n",
              "    <tr style=\"text-align: right;\">\n",
              "      <th></th>\n",
              "      <th>geography</th>\n",
              "      <th>gender</th>\n",
              "    </tr>\n",
              "  </thead>\n",
              "  <tbody>\n",
              "    <tr>\n",
              "      <th>count</th>\n",
              "      <td>10000</td>\n",
              "      <td>10000</td>\n",
              "    </tr>\n",
              "    <tr>\n",
              "      <th>unique</th>\n",
              "      <td>3</td>\n",
              "      <td>2</td>\n",
              "    </tr>\n",
              "    <tr>\n",
              "      <th>top</th>\n",
              "      <td>France</td>\n",
              "      <td>Male</td>\n",
              "    </tr>\n",
              "    <tr>\n",
              "      <th>freq</th>\n",
              "      <td>5014</td>\n",
              "      <td>5457</td>\n",
              "    </tr>\n",
              "  </tbody>\n",
              "</table>\n",
              "</div>"
            ],
            "text/plain": [
              "       geography gender\n",
              "count      10000  10000\n",
              "unique         3      2\n",
              "top       France   Male\n",
              "freq        5014   5457"
            ]
          },
          "execution_count": 22,
          "metadata": {},
          "output_type": "execute_result"
        }
      ],
      "source": [
        "# основные статистические показатели для количественных данных\n",
        "data.describe(include=np.object)"
      ]
    },
    {
      "cell_type": "code",
      "execution_count": null,
      "metadata": {
        "id": "G2BkE2IKSnFG",
        "outputId": "14a7529d-1c97-4515-8970-b41a8265c79d"
      },
      "outputs": [
        {
          "data": {
            "image/png": "[encoded data removed]",
            "text/plain": [
              "<Figure size 1296x720 with 1 Axes>"
            ]
          },
          "metadata": {
            "needs_background": "light"
          },
          "output_type": "display_data"
        }
      ],
      "source": [
        "# матрица корреляций\n",
        "plt.figure(figsize=(18, 10))\n",
        "sns.heatmap(data.corr(), annot=True, cmap='YlGnBu', cbar=False, robust=True, linewidths=.2)\n",
        "plt.show()"
      ]
    },
    {
      "cell_type": "markdown",
      "metadata": {
        "id": "_49MVSPKSnFH"
      },
      "source": [
        "*Сильной прямой корреляции между оттоком нет ни с какими признаками. Есть небольшая положительная корреляция у таких признаков как возраст и баланс. Что показывает нам, что чем старше человек, тем больше Exited, а точнее 1. Так же и с балансом.*"
      ]
    },
    {
      "cell_type": "code",
      "execution_count": null,
      "metadata": {
        "id": "TuJdgMQTSnFJ",
        "outputId": "ea2a72ea-dbaa-438b-b51f-2455b1cfa628"
      },
      "outputs": [
        {
          "data": {
            "text/html": [
              "<div>\n",
              "<style scoped>\n",
              "    .dataframe tbody tr th:only-of-type {\n",
              "        vertical-align: middle;\n",
              "    }\n",
              "\n",
              "    .dataframe tbody tr th {\n",
              "        vertical-align: top;\n",
              "    }\n",
              "\n",
              "    .dataframe thead th {\n",
              "        text-align: right;\n",
              "    }\n",
              "</style>\n",
              "<table border=\"1\" class=\"dataframe\">\n",
              "  <thead>\n",
              "    <tr style=\"text-align: right;\">\n",
              "      <th></th>\n",
              "      <th>credit_score</th>\n",
              "      <th>age</th>\n",
              "      <th>tenure</th>\n",
              "      <th>balance</th>\n",
              "      <th>num_of_products</th>\n",
              "      <th>has_cr_card</th>\n",
              "      <th>is_active_member</th>\n",
              "      <th>estimated_salary</th>\n",
              "      <th>exited</th>\n",
              "      <th>geography_Germany</th>\n",
              "      <th>geography_Spain</th>\n",
              "      <th>gender_Male</th>\n",
              "    </tr>\n",
              "  </thead>\n",
              "  <tbody>\n",
              "    <tr>\n",
              "      <th>0</th>\n",
              "      <td>619</td>\n",
              "      <td>42</td>\n",
              "      <td>2</td>\n",
              "      <td>0.00</td>\n",
              "      <td>1</td>\n",
              "      <td>1</td>\n",
              "      <td>1</td>\n",
              "      <td>101348.88</td>\n",
              "      <td>1</td>\n",
              "      <td>0</td>\n",
              "      <td>0</td>\n",
              "      <td>0</td>\n",
              "    </tr>\n",
              "    <tr>\n",
              "      <th>1</th>\n",
              "      <td>608</td>\n",
              "      <td>41</td>\n",
              "      <td>1</td>\n",
              "      <td>83807.86</td>\n",
              "      <td>1</td>\n",
              "      <td>0</td>\n",
              "      <td>1</td>\n",
              "      <td>112542.58</td>\n",
              "      <td>0</td>\n",
              "      <td>0</td>\n",
              "      <td>1</td>\n",
              "      <td>0</td>\n",
              "    </tr>\n",
              "    <tr>\n",
              "      <th>2</th>\n",
              "      <td>502</td>\n",
              "      <td>42</td>\n",
              "      <td>8</td>\n",
              "      <td>159660.80</td>\n",
              "      <td>3</td>\n",
              "      <td>1</td>\n",
              "      <td>0</td>\n",
              "      <td>113931.57</td>\n",
              "      <td>1</td>\n",
              "      <td>0</td>\n",
              "      <td>0</td>\n",
              "      <td>0</td>\n",
              "    </tr>\n",
              "    <tr>\n",
              "      <th>3</th>\n",
              "      <td>699</td>\n",
              "      <td>39</td>\n",
              "      <td>1</td>\n",
              "      <td>0.00</td>\n",
              "      <td>2</td>\n",
              "      <td>0</td>\n",
              "      <td>0</td>\n",
              "      <td>93826.63</td>\n",
              "      <td>0</td>\n",
              "      <td>0</td>\n",
              "      <td>0</td>\n",
              "      <td>0</td>\n",
              "    </tr>\n",
              "    <tr>\n",
              "      <th>4</th>\n",
              "      <td>850</td>\n",
              "      <td>43</td>\n",
              "      <td>2</td>\n",
              "      <td>125510.82</td>\n",
              "      <td>1</td>\n",
              "      <td>1</td>\n",
              "      <td>1</td>\n",
              "      <td>79084.10</td>\n",
              "      <td>0</td>\n",
              "      <td>0</td>\n",
              "      <td>1</td>\n",
              "      <td>0</td>\n",
              "    </tr>\n",
              "  </tbody>\n",
              "</table>\n",
              "</div>"
            ],
            "text/plain": [
              "   credit_score  age  tenure    balance  num_of_products  has_cr_card  \\\n",
              "0           619   42       2       0.00                1            1   \n",
              "1           608   41       1   83807.86                1            0   \n",
              "2           502   42       8  159660.80                3            1   \n",
              "3           699   39       1       0.00                2            0   \n",
              "4           850   43       2  125510.82                1            1   \n",
              "\n",
              "   is_active_member  estimated_salary  exited  geography_Germany  \\\n",
              "0                 1         101348.88       1                  0   \n",
              "1                 1         112542.58       0                  0   \n",
              "2                 0         113931.57       1                  0   \n",
              "3                 0          93826.63       0                  0   \n",
              "4                 1          79084.10       0                  0   \n",
              "\n",
              "   geography_Spain  gender_Male  \n",
              "0                0            0  \n",
              "1                1            0  \n",
              "2                0            0  \n",
              "3                0            0  \n",
              "4                1            0  "
            ]
          },
          "execution_count": 24,
          "metadata": {},
          "output_type": "execute_result"
        }
      ],
      "source": [
        "# применим OHE к датафрейму, чтобы избежать \"дамми-ловушки\" и позволит нам использовать\n",
        "# модели дерево решений, случайный лес и логистическую регрессию.\n",
        "\n",
        "data_ohe = pd.get_dummies(data, drop_first=True)\n",
        "data_ohe.head()"
      ]
    },
    {
      "cell_type": "markdown",
      "metadata": {
        "id": "e5WDiA_7SnFM"
      },
      "source": [
        "### Формирование выборок: обучающая, валидационная, тестовая"
      ]
    },
    {
      "cell_type": "markdown",
      "metadata": {
        "id": "RkhTsCiISnFM"
      },
      "source": [
        "*Извлечем признаки и целевой признак*"
      ]
    },
    {
      "cell_type": "code",
      "execution_count": null,
      "metadata": {
        "id": "AC47KlWdSnFN"
      },
      "outputs": [],
      "source": [
        "features = data_ohe.drop(['exited'], axis=1)\n",
        "target = data_ohe['exited']"
      ]
    },
    {
      "cell_type": "markdown",
      "metadata": {
        "id": "9bJrt_vISnFO"
      },
      "source": [
        "*Разделим данные на обучающую, валидационную и тестовую выборки 3:1:1*"
      ]
    },
    {
      "cell_type": "code",
      "execution_count": null,
      "metadata": {
        "id": "4I2mgmMUSnFO"
      },
      "outputs": [],
      "source": [
        "# отделяем тестовую выборку\n",
        "features_train_valid, features_test, target_train_valid, target_test = train_test_split(\n",
        "    features, target, test_size=0.2, random_state=12345)\n",
        "# выделяем из валидационной обучающую\n",
        "features_train, features_valid, target_train, target_valid = train_test_split(\n",
        "    features_train_valid, target_train_valid, test_size=0.25, random_state=12345)"
      ]
    },
    {
      "cell_type": "markdown",
      "metadata": {
        "id": "XARwcG7LSnFP"
      },
      "source": [
        "*Выведем размеры выборок*"
      ]
    },
    {
      "cell_type": "code",
      "execution_count": null,
      "metadata": {
        "id": "TzpoSIMvSnFQ",
        "outputId": "f19799fb-251c-4a88-a7a2-3c3b7fc73e86"
      },
      "outputs": [
        {
          "name": "stdout",
          "output_type": "stream",
          "text": [
            "(6000, 11)\n",
            "(6000,)\n"
          ]
        }
      ],
      "source": [
        "# размер обучающей выборки\n",
        "print(features_train.shape)\n",
        "print(target_train.shape)"
      ]
    },
    {
      "cell_type": "code",
      "execution_count": null,
      "metadata": {
        "id": "rUSzZrFcSnFR",
        "outputId": "45b601dd-7bb7-4b72-93e7-bc0d9622a63d"
      },
      "outputs": [
        {
          "name": "stdout",
          "output_type": "stream",
          "text": [
            "(2000, 11)\n",
            "(2000,)\n"
          ]
        }
      ],
      "source": [
        "# размер валидационной выборки\n",
        "print(features_valid.shape)\n",
        "print(target_valid.shape)"
      ]
    },
    {
      "cell_type": "code",
      "execution_count": null,
      "metadata": {
        "id": "ZIaHHtsNSnFS",
        "outputId": "32112cbd-d6c1-4b37-d9e2-c654e90cad2c"
      },
      "outputs": [
        {
          "name": "stdout",
          "output_type": "stream",
          "text": [
            "(2000, 11)\n",
            "(2000,)\n"
          ]
        }
      ],
      "source": [
        "# размер тестовой выборки\n",
        "print(features_test.shape)\n",
        "print(target_test.shape)"
      ]
    },
    {
      "cell_type": "markdown",
      "metadata": {
        "id": "PoDeCDMdSnFU"
      },
      "source": [
        "### Масштабирование признаков"
      ]
    },
    {
      "cell_type": "code",
      "execution_count": null,
      "metadata": {
        "id": "8fPVnmS5SnFV",
        "outputId": "1582f3da-f989-4159-9035-c633ffe27afa"
      },
      "outputs": [
        {
          "data": {
            "text/html": [
              "<div>\n",
              "<style scoped>\n",
              "    .dataframe tbody tr th:only-of-type {\n",
              "        vertical-align: middle;\n",
              "    }\n",
              "\n",
              "    .dataframe tbody tr th {\n",
              "        vertical-align: top;\n",
              "    }\n",
              "\n",
              "    .dataframe thead th {\n",
              "        text-align: right;\n",
              "    }\n",
              "</style>\n",
              "<table border=\"1\" class=\"dataframe\">\n",
              "  <thead>\n",
              "    <tr style=\"text-align: right;\">\n",
              "      <th></th>\n",
              "      <th>credit_score</th>\n",
              "      <th>age</th>\n",
              "      <th>tenure</th>\n",
              "      <th>balance</th>\n",
              "      <th>num_of_products</th>\n",
              "      <th>has_cr_card</th>\n",
              "      <th>is_active_member</th>\n",
              "      <th>estimated_salary</th>\n",
              "      <th>geography_Germany</th>\n",
              "      <th>geography_Spain</th>\n",
              "      <th>gender_Male</th>\n",
              "    </tr>\n",
              "  </thead>\n",
              "  <tbody>\n",
              "    <tr>\n",
              "      <th>492</th>\n",
              "      <td>-0.134048</td>\n",
              "      <td>-0.078068</td>\n",
              "      <td>4</td>\n",
              "      <td>0.076163</td>\n",
              "      <td>0.816929</td>\n",
              "      <td>0</td>\n",
              "      <td>1</td>\n",
              "      <td>0.331571</td>\n",
              "      <td>0</td>\n",
              "      <td>0</td>\n",
              "      <td>0</td>\n",
              "    </tr>\n",
              "    <tr>\n",
              "      <th>6655</th>\n",
              "      <td>-1.010798</td>\n",
              "      <td>0.494555</td>\n",
              "      <td>5</td>\n",
              "      <td>0.136391</td>\n",
              "      <td>-0.896909</td>\n",
              "      <td>1</td>\n",
              "      <td>1</td>\n",
              "      <td>-0.727858</td>\n",
              "      <td>0</td>\n",
              "      <td>0</td>\n",
              "      <td>1</td>\n",
              "    </tr>\n",
              "    <tr>\n",
              "      <th>4287</th>\n",
              "      <td>0.639554</td>\n",
              "      <td>1.353490</td>\n",
              "      <td>1</td>\n",
              "      <td>0.358435</td>\n",
              "      <td>-0.896909</td>\n",
              "      <td>1</td>\n",
              "      <td>1</td>\n",
              "      <td>-0.477006</td>\n",
              "      <td>1</td>\n",
              "      <td>0</td>\n",
              "      <td>1</td>\n",
              "    </tr>\n",
              "    <tr>\n",
              "      <th>42</th>\n",
              "      <td>-0.990168</td>\n",
              "      <td>2.116987</td>\n",
              "      <td>2</td>\n",
              "      <td>0.651725</td>\n",
              "      <td>-0.896909</td>\n",
              "      <td>1</td>\n",
              "      <td>1</td>\n",
              "      <td>-0.100232</td>\n",
              "      <td>0</td>\n",
              "      <td>0</td>\n",
              "      <td>0</td>\n",
              "    </tr>\n",
              "    <tr>\n",
              "      <th>8178</th>\n",
              "      <td>0.567351</td>\n",
              "      <td>0.685430</td>\n",
              "      <td>7</td>\n",
              "      <td>0.813110</td>\n",
              "      <td>0.816929</td>\n",
              "      <td>1</td>\n",
              "      <td>1</td>\n",
              "      <td>0.801922</td>\n",
              "      <td>0</td>\n",
              "      <td>0</td>\n",
              "      <td>0</td>\n",
              "    </tr>\n",
              "  </tbody>\n",
              "</table>\n",
              "</div>"
            ],
            "text/plain": [
              "      credit_score       age  tenure   balance  num_of_products  has_cr_card  \\\n",
              "492      -0.134048 -0.078068       4  0.076163         0.816929            0   \n",
              "6655     -1.010798  0.494555       5  0.136391        -0.896909            1   \n",
              "4287      0.639554  1.353490       1  0.358435        -0.896909            1   \n",
              "42       -0.990168  2.116987       2  0.651725        -0.896909            1   \n",
              "8178      0.567351  0.685430       7  0.813110         0.816929            1   \n",
              "\n",
              "      is_active_member  estimated_salary  geography_Germany  geography_Spain  \\\n",
              "492                  1          0.331571                  0                0   \n",
              "6655                 1         -0.727858                  0                0   \n",
              "4287                 1         -0.477006                  1                0   \n",
              "42                   1         -0.100232                  0                0   \n",
              "8178                 1          0.801922                  0                0   \n",
              "\n",
              "      gender_Male  \n",
              "492             0  \n",
              "6655            1  \n",
              "4287            1  \n",
              "42              0  \n",
              "8178            0  "
            ]
          },
          "execution_count": 30,
          "metadata": {},
          "output_type": "execute_result"
        }
      ],
      "source": [
        "# стандартизируем численные признаки\n",
        "numeric = ['credit_score', 'age', 'balance', 'num_of_products', 'estimated_salary']\n",
        "\n",
        "scaler = StandardScaler()\n",
        "scaler.fit(features_train[numeric])\n",
        "features_train[numeric] = scaler.transform(features_train[numeric])\n",
        "features_valid[numeric] = scaler.transform(features_valid[numeric])\n",
        "features_test[numeric] = scaler.transform(features_test[numeric])\n",
        "features_train.head()"
      ]
    },
    {
      "cell_type": "markdown",
      "metadata": {
        "id": "nEeHp8pjSnFX"
      },
      "source": [
        "### Логистическая регрессия"
      ]
    },
    {
      "cell_type": "markdown",
      "metadata": {
        "id": "aje4DGq4SnFX"
      },
      "source": [
        "*Найдём наилучшую модель LogisticRegression. Переберем гиперпараметры 'newton-cg', 'lbfgs', 'liblinear', 'sag', 'saga', и оценим качество модели на валидационной выборке.*"
      ]
    },
    {
      "cell_type": "code",
      "execution_count": null,
      "metadata": {
        "id": "3GfTvJs3SnFY",
        "outputId": "9ae753af-5cdb-4536-e095-39a4d9fbd9c9"
      },
      "outputs": [
        {
          "name": "stdout",
          "output_type": "stream",
          "text": [
            "Качество модели: 0.815\n",
            "Лучший гиперпараметр: newton-cg\n"
          ]
        }
      ],
      "source": [
        "best_model_lr = None\n",
        "best_result_lr = 0\n",
        "solver = ['newton-cg', 'lbfgs', 'liblinear', 'sag', 'saga']\n",
        "for s in solver:\n",
        "    model_lr = LogisticRegression(random_state=12345, solver=s, max_iter=10000).fit(features_train, target_train)\n",
        "    predictions_valid_lr = model_lr.predict(features_valid)\n",
        "    result_lr = accuracy_score(target_valid, predictions_valid_lr)\n",
        "    if best_result_lr < result_lr:\n",
        "        best_model_lr = model_lr\n",
        "        best_result_lr = result_lr\n",
        "        best_s = s\n",
        "\n",
        "print('Качество модели:', best_result_lr)\n",
        "print('Лучший гиперпараметр:', best_s)"
      ]
    },
    {
      "cell_type": "markdown",
      "metadata": {
        "id": "Fe6NgAwRSnFZ"
      },
      "source": [
        "*На первый взгляд качество модели высокое. Посмотрим на баланс классов.*"
      ]
    },
    {
      "cell_type": "code",
      "execution_count": null,
      "metadata": {
        "id": "6vJO00pBSnFa",
        "outputId": "a0985199-36a0-459d-d167-ed454df08f55"
      },
      "outputs": [
        {
          "name": "stdout",
          "output_type": "stream",
          "text": [
            "0    0.9295\n",
            "1    0.0705\n",
            "dtype: float64\n"
          ]
        },
        {
          "data": {
            "text/plain": [
              "<AxesSubplot:>"
            ]
          },
          "execution_count": 32,
          "metadata": {},
          "output_type": "execute_result"
        },
        {
          "data": {
            "image/png": "[encoded data removed]",
            "text/plain": [
              "<Figure size 432x288 with 1 Axes>"
            ]
          },
          "metadata": {
            "needs_background": "light"
          },
          "output_type": "display_data"
        }
      ],
      "source": [
        "predicted_valid_lr = pd.Series(predictions_valid_lr)\n",
        "\n",
        "class_frequency_lr = predicted_valid_lr.value_counts(normalize=True)\n",
        "print(class_frequency_lr)\n",
        "class_frequency_lr.plot(kind='bar')"
      ]
    },
    {
      "cell_type": "markdown",
      "metadata": {
        "id": "GHK4FhpbSnFb"
      },
      "source": [
        "*Наблюдается сильный дисбаланс классов, что плохо сказывается на обучении модели, поэтому мы не можем использовать Accuracy для оценки качества модели.*"
      ]
    },
    {
      "cell_type": "code",
      "execution_count": null,
      "metadata": {
        "id": "PMFf7M7NSnFc",
        "outputId": "600003dc-5a65-48de-8f50-e9e10b1ef4d3"
      },
      "outputs": [
        {
          "name": "stdout",
          "output_type": "stream",
          "text": [
            "[[1549   60]\n",
            " [ 310   81]]\n"
          ]
        }
      ],
      "source": [
        "# Построим матрицу ошибок для логистической регрессии.\n",
        "print(confusion_matrix(target_valid, predicted_valid_lr))"
      ]
    },
    {
      "cell_type": "markdown",
      "metadata": {
        "id": "GlcY1ts6SnFd"
      },
      "source": [
        "*Много отрицательных ответов там, где их нет.*"
      ]
    },
    {
      "cell_type": "markdown",
      "metadata": {
        "id": "KvT0oq23SnFd"
      },
      "source": [
        "*Изучим полноту, точность, F1-меру и AUC-ROC.*"
      ]
    },
    {
      "cell_type": "code",
      "execution_count": null,
      "metadata": {
        "id": "2XtzGWUKSnFe"
      },
      "outputs": [],
      "source": [
        "def rec_prec_f1(target_valid, prediction):\n",
        "    print(\"Полнота\" , recall_score(target_valid, prediction))\n",
        "    print(\"Точность\", precision_score(target_valid, prediction))\n",
        "    print(\"F1-мера\", f1_score(target_valid, prediction))\n",
        "    print(\"AUC-ROC\", roc_auc_score(target_valid, prediction))"
      ]
    },
    {
      "cell_type": "code",
      "execution_count": null,
      "metadata": {
        "id": "X6PODaVTSnFf",
        "outputId": "997d9c2d-d458-4041-8bd3-d337eb82794e"
      },
      "outputs": [
        {
          "name": "stdout",
          "output_type": "stream",
          "text": [
            "Полнота 0.2071611253196931\n",
            "Точность 0.574468085106383\n",
            "F1-мера 0.30451127819548873\n",
            "AUC-ROC 0.5849354414665587\n"
          ]
        }
      ],
      "source": [
        "rec_prec_f1(target_valid, predictions_valid_lr)"
      ]
    },
    {
      "cell_type": "markdown",
      "metadata": {
        "id": "dDAPE6gASnFf"
      },
      "source": [
        "*Низкое значение F-1 и AUC-ROC говорит нам о том, что данный метод классификации работает плохо и мы не достигли нужного нам результата.*"
      ]
    },
    {
      "cell_type": "markdown",
      "metadata": {
        "id": "P1qgIHU_SnFi"
      },
      "source": [
        "###  Решающее дерево"
      ]
    },
    {
      "cell_type": "markdown",
      "metadata": {
        "id": "QD5J6vChSnFj"
      },
      "source": [
        "*Найдём наилучшую модель. Переберем гиперпараметр 'max_depth' и оценим качество модели на валидационной выборке.*"
      ]
    },
    {
      "cell_type": "code",
      "execution_count": null,
      "metadata": {
        "id": "05lrUsoISnFk",
        "outputId": "04b92307-9a40-4437-f31c-886d4b5eebe2"
      },
      "outputs": [
        {
          "name": "stdout",
          "output_type": "stream",
          "text": [
            "Глубина дерева: 6\n",
            "Качество модели: 0.8595\n"
          ]
        }
      ],
      "source": [
        "best_model_dc = None\n",
        "best_depth_dc = 0\n",
        "best_result_dc = 0\n",
        "for depth in range(1, 21):\n",
        "    model_dc = DecisionTreeClassifier(random_state=12345, max_depth = depth).fit(features_train, target_train)\n",
        "    predictions_valid_dc = model_dc.predict(features_valid)\n",
        "    result_dc = accuracy_score(target_valid, predictions_valid_dc)\n",
        "    if best_result_dc < result_dc:\n",
        "        best_model_dc = model_dc\n",
        "        best_depth_dc = depth\n",
        "        best_result_dc = result_dc\n",
        "\n",
        "print('Глубина дерева:', best_depth_dc)\n",
        "print('Качество модели:', best_result_dc)\n"
      ]
    },
    {
      "cell_type": "markdown",
      "metadata": {
        "id": "UhCY8SL-SnFl"
      },
      "source": [
        "*На первый взгляд качество модели высокое. Посмотрим на баланс классов.*"
      ]
    },
    {
      "cell_type": "code",
      "execution_count": null,
      "metadata": {
        "id": "DVrblSItSnFm",
        "outputId": "3fbcdb27-0108-4fd1-e9ca-985a505582a5"
      },
      "outputs": [
        {
          "name": "stdout",
          "output_type": "stream",
          "text": [
            "0    0.795\n",
            "1    0.205\n",
            "dtype: float64\n"
          ]
        },
        {
          "data": {
            "text/plain": [
              "<AxesSubplot:>"
            ]
          },
          "execution_count": 37,
          "metadata": {},
          "output_type": "execute_result"
        },
        {
          "data": {
            "image/png": "[encoded data removed]",
            "text/plain": [
              "<Figure size 432x288 with 1 Axes>"
            ]
          },
          "metadata": {
            "needs_background": "light"
          },
          "output_type": "display_data"
        }
      ],
      "source": [
        "predicted_valid_dc = pd.Series(predictions_valid_dc)\n",
        "\n",
        "class_frequency_dc = predicted_valid_dc.value_counts(normalize=True)\n",
        "print(class_frequency_dc)\n",
        "class_frequency_dc.plot(kind='bar')"
      ]
    },
    {
      "cell_type": "markdown",
      "metadata": {
        "id": "6cY0iw_xSnFn"
      },
      "source": [
        "*Наблюдается сильный дисбаланс классов, что плохо сказывается на обучении модели, поэтому мы не можем использовать Accuracy для оценки качества модели.*"
      ]
    },
    {
      "cell_type": "code",
      "execution_count": null,
      "metadata": {
        "id": "EfHZ0tPISnFn",
        "outputId": "15a7ebcb-2e1c-410b-d8f3-615cbf911c76"
      },
      "outputs": [
        {
          "name": "stdout",
          "output_type": "stream",
          "text": [
            "[[1390  219]\n",
            " [ 200  191]]\n"
          ]
        }
      ],
      "source": [
        "# Построим матрицу ошибок для дерева решений.\n",
        "print(confusion_matrix(target_valid, predictions_valid_dc))"
      ]
    },
    {
      "cell_type": "markdown",
      "metadata": {
        "id": "id4B8NJuSnFp"
      },
      "source": [
        "*Много отрицательных ответов там, где их нет.*"
      ]
    },
    {
      "cell_type": "markdown",
      "metadata": {
        "id": "RSj78PBsSnFp"
      },
      "source": [
        "*Изучим полноту, точность, F1-меру и AUC-ROC.*"
      ]
    },
    {
      "cell_type": "code",
      "execution_count": null,
      "metadata": {
        "id": "HMkR9fEkSnFq",
        "outputId": "c82c9efc-17ee-4a79-fb35-4ed0f08243f4"
      },
      "outputs": [
        {
          "name": "stdout",
          "output_type": "stream",
          "text": [
            "Полнота 0.4884910485933504\n",
            "Точность 0.4658536585365854\n",
            "F1-мера 0.4769038701622972\n",
            "AUC-ROC 0.6761908319411749\n"
          ]
        }
      ],
      "source": [
        "rec_prec_f1(target_valid, predictions_valid_dc)"
      ]
    },
    {
      "cell_type": "markdown",
      "metadata": {
        "id": "H7j48WjrSnFr"
      },
      "source": [
        "*Значения F-1 и AUC-ROC уже выше, модель с большей вероятностью предсказывает верные ответы. Требуемы результат не достигнут.*"
      ]
    },
    {
      "cell_type": "markdown",
      "metadata": {
        "id": "HBIOnOh7SnFr"
      },
      "source": [
        "###  Случайный лес"
      ]
    },
    {
      "cell_type": "markdown",
      "metadata": {
        "id": "HHO2jt5hSnFs"
      },
      "source": [
        "*Найдём наилучшую модель. Переберем гиперпараметры 'n_estimators' и 'max_depth', и оценим качество модели на валидационной выборке.*"
      ]
    },
    {
      "cell_type": "code",
      "execution_count": null,
      "metadata": {
        "id": "uTbiHsLYSnFt",
        "outputId": "1c36031e-b378-4b8d-dbca-80ffe2ea474e"
      },
      "outputs": [
        {
          "name": "stdout",
          "output_type": "stream",
          "text": [
            "Количество деревьев: 60\n",
            "Глубина дерева: 10\n",
            "Качество модели: 0.8665\n"
          ]
        }
      ],
      "source": [
        "best_model_rc = None\n",
        "best_est_rc = 0\n",
        "best_depth_rc = 0\n",
        "best_result_rc = 0\n",
        "for est in range(10, 101, 10):\n",
        "    for depth in range(1, 21):\n",
        "        model_rc = RandomForestClassifier(random_state=12345, n_estimators=est, max_depth = depth).\\\n",
        "        fit(features_train, target_train)\n",
        "        predictions_valid_rc = model_rc.predict(features_valid)\n",
        "        result_rc = accuracy_score(target_valid, predictions_valid_rc)\n",
        "        if best_result_rc < result_rc:\n",
        "            best_model_rc = model_rc\n",
        "            best_est_rc = est\n",
        "            best_depth_rc = depth\n",
        "            best_result_rc = result_rc\n",
        "print('Количество деревьев:', best_est_rc)\n",
        "print('Глубина дерева:', best_depth_rc)\n",
        "print('Качество модели:', best_result_rc)"
      ]
    },
    {
      "cell_type": "markdown",
      "metadata": {
        "id": "1N2nebkoSnFw"
      },
      "source": [
        "*На первый взгляд качество модели высокое. Посмотрим на баланс классов.*"
      ]
    },
    {
      "cell_type": "code",
      "execution_count": null,
      "metadata": {
        "id": "2rczlFO_SnFx",
        "outputId": "b11409dd-a8d4-45c5-dea5-3b2b893ad172"
      },
      "outputs": [
        {
          "name": "stdout",
          "output_type": "stream",
          "text": [
            "0    0.888\n",
            "1    0.112\n",
            "dtype: float64\n"
          ]
        },
        {
          "data": {
            "text/plain": [
              "<AxesSubplot:>"
            ]
          },
          "execution_count": 41,
          "metadata": {},
          "output_type": "execute_result"
        },
        {
          "data": {
            "image/png": "[encoded data removed]",
            "text/plain": [
              "<Figure size 432x288 with 1 Axes>"
            ]
          },
          "metadata": {
            "needs_background": "light"
          },
          "output_type": "display_data"
        }
      ],
      "source": [
        "predicted_valid_rc = pd.Series(predictions_valid_rc)\n",
        "\n",
        "class_frequency_rc = predicted_valid_rc.value_counts(normalize=True)\n",
        "print(class_frequency_rc)\n",
        "class_frequency_rc.plot(kind='bar')"
      ]
    },
    {
      "cell_type": "markdown",
      "metadata": {
        "id": "nGY6NpMUSnFy"
      },
      "source": [
        "*Наблюдается сильный дисбаланс классов, что плохо сказывается на обучении модели, поэтому мы не можем использовать Accuracy для оценки качества модели.*"
      ]
    },
    {
      "cell_type": "code",
      "execution_count": null,
      "metadata": {
        "id": "dRwar_05SnFz",
        "outputId": "093c920f-58d8-426e-dbfb-2e47a7c50e39"
      },
      "outputs": [
        {
          "name": "stdout",
          "output_type": "stream",
          "text": [
            "[[1554   55]\n",
            " [ 222  169]]\n"
          ]
        }
      ],
      "source": [
        "# Построим матрицу ошибок для случайного леса.\n",
        "print(confusion_matrix(target_valid, predictions_valid_rc))"
      ]
    },
    {
      "cell_type": "markdown",
      "metadata": {
        "id": "xCK2XY3ISnF0"
      },
      "source": [
        "*Много отрицательных ответов там, где их нет.*"
      ]
    },
    {
      "cell_type": "markdown",
      "metadata": {
        "id": "36RqqFWUSnF1"
      },
      "source": [
        "*Изучим полноту, точность, F1-меру и AUC-ROC.*"
      ]
    },
    {
      "cell_type": "code",
      "execution_count": null,
      "metadata": {
        "id": "wMC2PbUfSnF1",
        "outputId": "0a0fcd27-fe2f-4f02-edee-58f327d0eda2"
      },
      "outputs": [
        {
          "name": "stdout",
          "output_type": "stream",
          "text": [
            "Полнота 0.4322250639386189\n",
            "Точность 0.7544642857142857\n",
            "F1-мера 0.5495934959349593\n",
            "AUC-ROC 0.6990211708754622\n"
          ]
        }
      ],
      "source": [
        "rec_prec_f1(target_valid, predictions_valid_rc)"
      ]
    },
    {
      "cell_type": "markdown",
      "metadata": {
        "id": "hqmg1ZJHSnF3"
      },
      "source": [
        "*Значения F-1 и AUC-ROC уже выше, модель с большей вероятностью предсказывает верные ответы. Требуемы результат не достигнут.*"
      ]
    },
    {
      "cell_type": "markdown",
      "metadata": {
        "id": "YOz9rPlLSnF9"
      },
      "source": [
        "**Вывод:**\n",
        "* Изучили основные статистические показатели.\n",
        "* Построили матрицу корреляций. Линейных зависимостей между численными признаками, которые влияли бы на целевой признак, не обнаружено.\n",
        "* Применили прямое кодирование, преобразовав категориальные признаки в количественные.\n",
        "* Разделили данные на признаки и целевой признак, и на обучающую, валидационную и тестовую выборки 3:1:1.\n",
        "* Стандартизировали данные.\n",
        "* Исследовали модели Decision Tree Classifier, RandomForestClassifier и Logistic Regression, однако наблюдается дисбаланс классов, поэтому метрика Accurasy не подходит для оценки качества модели.\n",
        "* Посчитали значение F1-меры для исследуемых моделей, но нужного результата не было достигнуто.\n"
      ]
    },
    {
      "cell_type": "markdown",
      "metadata": {
        "id": "LGmWtmAmSnF-"
      },
      "source": [
        "## Борьба с дисбалансом"
      ]
    },
    {
      "cell_type": "markdown",
      "metadata": {
        "id": "iZkThX_NSnF_"
      },
      "source": [
        "### Техника upsampling"
      ]
    },
    {
      "cell_type": "markdown",
      "metadata": {
        "id": "wwmUnVriSnF_"
      },
      "source": [
        "*Применим технику upsampling для взвешивания классов.*"
      ]
    },
    {
      "cell_type": "code",
      "execution_count": null,
      "metadata": {
        "id": "MqIr20wGSnGA"
      },
      "outputs": [],
      "source": [
        "def upsample(features, target, repeat):\n",
        "    features_zeros = features[target == 0]\n",
        "    features_ones = features[target == 1]\n",
        "    target_zeros = target[target == 0]\n",
        "    target_ones = target[target == 1]\n",
        "    features_upsampled = pd.concat([features_zeros] + [features_ones] * repeat)\n",
        "    target_upsampled = pd.concat([target_zeros] + [target_ones] * repeat)\n",
        "    features_upsampled, target_upsampled = shuffle(features_upsampled, target_upsampled, random_state=12345)\n",
        "    return features_upsampled, target_upsampled\n",
        "\n",
        "features_upsampled, target_upsampled = upsample(features_train, target_train, 10)"
      ]
    },
    {
      "cell_type": "markdown",
      "metadata": {
        "id": "6YiodVi1SnGB"
      },
      "source": [
        "#### Логистическая регрессия"
      ]
    },
    {
      "cell_type": "code",
      "execution_count": null,
      "metadata": {
        "id": "m7W3bLPLSnGC",
        "outputId": "601380d2-f1ed-44f3-dd88-9ae979bd5b5c"
      },
      "outputs": [
        {
          "name": "stdout",
          "output_type": "stream",
          "text": [
            "F1: 0.4043956043956044\n"
          ]
        }
      ],
      "source": [
        "model_lr = LogisticRegression(random_state=12345, solver='newton-cg')\n",
        "model_lr.fit(features_upsampled, target_upsampled)\n",
        "predicted_valid_lr = model_lr.predict(features_valid)\n",
        "f1_lr = f1_score(target_valid, predicted_valid_lr)\n",
        "\n",
        "print(\"F1:\", f1_lr)"
      ]
    },
    {
      "cell_type": "markdown",
      "metadata": {
        "id": "yR1QejmQSnGD"
      },
      "source": [
        "*Метрика F1 увеличилась, но не достигла нужных нам результатов.*"
      ]
    },
    {
      "cell_type": "code",
      "execution_count": null,
      "metadata": {
        "id": "YPaxsHggSnGD",
        "outputId": "9e652cf7-c126-4add-c349-d3b02cda451c"
      },
      "outputs": [
        {
          "name": "stdout",
          "output_type": "stream",
          "text": [
            "AUC-ROC 0.773604039935211\n"
          ]
        },
        {
          "data": {
            "image/png": "[encoded data removed]",
            "text/plain": [
              "<Figure size 432x288 with 1 Axes>"
            ]
          },
          "metadata": {
            "needs_background": "light"
          },
          "output_type": "display_data"
        }
      ],
      "source": [
        "# построим ROC-кривую для логистической регрессии\n",
        "probabilities_valid_lr = model_lr.predict_proba(features_valid)\n",
        "probabilities_one_valid_lr = probabilities_valid_lr[:, 1]\n",
        "\n",
        "fpr, tpr, thresholds = roc_curve(target_valid, probabilities_one_valid_lr)\n",
        "\n",
        "# посчитаем для логистической регрессии AUC-ROC\n",
        "auc_roc_lr = roc_auc_score(target_valid, probabilities_one_valid_lr)\n",
        "print('AUC-ROC', auc_roc_lr)\n",
        "\n",
        "plt.figure()\n",
        "\n",
        "plt.plot(fpr, tpr)\n",
        "\n",
        "# ROC-кривая случайной модели\n",
        "plt.plot([0, 1], [0, 1], linestyle='--')\n",
        "\n",
        "plt.xlim([0.0, 1.0])\n",
        "plt.ylim([0.0, 1.0])\n",
        "plt.xlabel('False Positive Rate')\n",
        "plt.ylabel('True Positive Rate')\n",
        "plt.title('ROC-кривая')\n",
        "plt.show()"
      ]
    },
    {
      "cell_type": "markdown",
      "metadata": {
        "id": "vmsg-xBCSnGF"
      },
      "source": [
        "*Наша модель больше 0,5 и меньше 1, что говорит о том, что предсказывать она умеет, но не идеально.*"
      ]
    },
    {
      "cell_type": "markdown",
      "metadata": {
        "id": "-QahI1b-SnGG"
      },
      "source": [
        "#### Решающее дерево"
      ]
    },
    {
      "cell_type": "code",
      "execution_count": null,
      "metadata": {
        "id": "weR5oSmVSnGH",
        "outputId": "33af5a18-ec6d-40d3-c62d-9b189dd477df"
      },
      "outputs": [
        {
          "name": "stdout",
          "output_type": "stream",
          "text": [
            "F1: 0.46984572230014027\n"
          ]
        }
      ],
      "source": [
        "model_dc = DecisionTreeClassifier(random_state=12345, max_depth=6)\n",
        "model_dc.fit(features_upsampled, target_upsampled)\n",
        "predicted_valid_dc = model_dc.predict(features_valid)\n",
        "f1_dc = f1_score(target_valid, predicted_valid_dc)\n",
        "\n",
        "print(\"F1:\", f1_dc)"
      ]
    },
    {
      "cell_type": "markdown",
      "metadata": {
        "id": "FcBK_1YjSnGI"
      },
      "source": [
        "*Метрика F1 увеличилась, но не достигла нужных нам результатов.*"
      ]
    },
    {
      "cell_type": "code",
      "execution_count": null,
      "metadata": {
        "id": "giQAYl1nSnGJ",
        "outputId": "bdf8e959-b70a-407b-9b07-875fcfedccbb"
      },
      "outputs": [
        {
          "name": "stdout",
          "output_type": "stream",
          "text": [
            "AUC-ROC 0.821860411146381\n"
          ]
        },
        {
          "data": {
            "image/png": "[encoded data removed]",
            "text/plain": [
              "<Figure size 432x288 with 1 Axes>"
            ]
          },
          "metadata": {
            "needs_background": "light"
          },
          "output_type": "display_data"
        }
      ],
      "source": [
        "# построим ROC-кривую для дерева решений\n",
        "probabilities_valid_dc = model_dc.predict_proba(features_valid)\n",
        "probabilities_one_valid_dc = probabilities_valid_dc[:, 1]\n",
        "\n",
        "# посчитаем для дерева решений AUC-ROC\n",
        "auc_roc_dc = roc_auc_score(target_valid, probabilities_one_valid_dc)\n",
        "print('AUC-ROC', auc_roc_dc)\n",
        "\n",
        "fpr, tpr, thresholds = roc_curve(target_valid, probabilities_one_valid_dc)\n",
        "plt.figure()\n",
        "\n",
        "plt.plot(fpr, tpr)\n",
        "\n",
        "# ROC-кривая случайной модели\n",
        "plt.plot([0, 1], [0, 1], linestyle='--')\n",
        "\n",
        "plt.xlim([0.0, 1.0])\n",
        "plt.ylim([0.0, 1.0])\n",
        "plt.xlabel('False Positive Rate')\n",
        "plt.ylabel('True Positive Rate')\n",
        "plt.title('ROC-кривая')\n",
        "plt.show()"
      ]
    },
    {
      "cell_type": "markdown",
      "metadata": {
        "id": "cj-6Lm5dSnGO"
      },
      "source": [
        "*Наша модель больше 0,5 и меньше 1, что говорит о том, что предсказывать она умеет, но не идеально.*"
      ]
    },
    {
      "cell_type": "markdown",
      "metadata": {
        "id": "QQGF9MjWSnGP"
      },
      "source": [
        "#### Случайный лес"
      ]
    },
    {
      "cell_type": "code",
      "execution_count": null,
      "metadata": {
        "id": "Wn6L-xH6SnGQ",
        "outputId": "553cbedc-5a25-40d8-a498-17d0f17d5f29"
      },
      "outputs": [
        {
          "name": "stdout",
          "output_type": "stream",
          "text": [
            "F1: 0.5707491082045185\n"
          ]
        }
      ],
      "source": [
        "model_rc = RandomForestClassifier(random_state=12345, n_estimators=70, max_depth=14)\n",
        "model_rc.fit(features_upsampled, target_upsampled)\n",
        "predicted_valid_rc = model_rc.predict(features_valid)\n",
        "f1_rc = f1_score(target_valid, predicted_valid_rc)\n",
        "\n",
        "print(\"F1:\", f1_rc)"
      ]
    },
    {
      "cell_type": "markdown",
      "metadata": {
        "id": "Y1_VutfNSnGR"
      },
      "source": [
        "*Метрика F1 увеличилась и не достигла нужных нам результатов.*"
      ]
    },
    {
      "cell_type": "code",
      "execution_count": null,
      "metadata": {
        "id": "l67ZMh40SnGR",
        "outputId": "8731647b-3fb1-48ac-f7aa-7836f313258f"
      },
      "outputs": [
        {
          "name": "stdout",
          "output_type": "stream",
          "text": [
            "AUC-ROC 0.8377270436912572\n"
          ]
        },
        {
          "data": {
            "image/png": "[encoded data removed]",
            "text/plain": [
              "<Figure size 432x288 with 1 Axes>"
            ]
          },
          "metadata": {
            "needs_background": "light"
          },
          "output_type": "display_data"
        }
      ],
      "source": [
        "# построим ROC-кривую для случайного леса\n",
        "probabilities_valid_rc = model_rc.predict_proba(features_valid)\n",
        "probabilities_one_valid_rc = probabilities_valid_rc[:, 1]\n",
        "\n",
        "\n",
        "# посчитаем для случайного леса AUC-ROC\n",
        "auc_roc_rc = roc_auc_score(target_valid, probabilities_one_valid_rc)\n",
        "print('AUC-ROC', auc_roc_rc)\n",
        "\n",
        "fpr, tpr, thresholds = roc_curve(target_valid, probabilities_one_valid_rc)\n",
        "\n",
        "plt.figure()\n",
        "\n",
        "plt.plot(fpr, tpr)\n",
        "\n",
        "# ROC-кривая случайной модели\n",
        "plt.plot([0, 1], [0, 1], linestyle='--')\n",
        "\n",
        "plt.xlim([0.0, 1.0])\n",
        "plt.ylim([0.0, 1.0])\n",
        "plt.xlabel('False Positive Rate')\n",
        "plt.ylabel('True Positive Rate')\n",
        "plt.title('ROC-кривая')\n",
        "plt.show()"
      ]
    },
    {
      "cell_type": "markdown",
      "metadata": {
        "id": "oGGr6JSgSnGT"
      },
      "source": [
        "*Наша модель больше 0,5 и меньше 1, что говорит о том, что предсказывать она умеет, но не идеально.*"
      ]
    },
    {
      "cell_type": "markdown",
      "metadata": {
        "id": "ve0xGNAoSnGT"
      },
      "source": [
        "### Техника downsampling"
      ]
    },
    {
      "cell_type": "markdown",
      "metadata": {
        "id": "u1Z-n5LnSnGU"
      },
      "source": [
        "*Применим технику downsampling для взвешивания классов.*"
      ]
    },
    {
      "cell_type": "code",
      "execution_count": null,
      "metadata": {
        "id": "rzb0L729SnGV"
      },
      "outputs": [],
      "source": [
        "def downsample(features, target, fraction):\n",
        "    features_zeros = features[target == 0]\n",
        "    features_ones = features[target == 1]\n",
        "    target_zeros = target[target == 0]\n",
        "    target_ones = target[target == 1]\n",
        "    features_downsampled = pd.concat(\n",
        "        [features_zeros.sample(frac=fraction, random_state=12345)] + [features_ones])\n",
        "    target_downsampled = pd.concat(\n",
        "        [target_zeros.sample(frac=fraction, random_state=12345)] + [target_ones])\n",
        "\n",
        "    features_downsampled, target_downsampled = shuffle(\n",
        "        features_downsampled, target_downsampled, random_state=12345)\n",
        "\n",
        "    return features_downsampled, target_downsampled\n",
        "\n",
        "features_downsampled, target_downsampled = downsample(features_train, target_train, 0.1)"
      ]
    },
    {
      "cell_type": "markdown",
      "metadata": {
        "id": "dhALk1OPSnGW"
      },
      "source": [
        "#### Логистическая регрессия"
      ]
    },
    {
      "cell_type": "code",
      "execution_count": null,
      "metadata": {
        "id": "QzH-i8LJSnGX",
        "outputId": "d9044e99-1c3a-424a-bc58-ca66401eceb3"
      },
      "outputs": [
        {
          "name": "stdout",
          "output_type": "stream",
          "text": [
            "F1: 0.4043956043956044\n"
          ]
        }
      ],
      "source": [
        "model_lr = LogisticRegression(random_state=12345, solver='liblinear')\n",
        "model_lr.fit(features_downsampled, target_downsampled)\n",
        "predicted_valid_lr_downsampled = model_lr.predict(features_valid)\n",
        "f1_lr = f1_score(target_valid, predicted_valid_lr)\n",
        "\n",
        "print(\"F1:\", f1_lr)"
      ]
    },
    {
      "cell_type": "code",
      "execution_count": null,
      "metadata": {
        "id": "AhQAZffkSnGY",
        "outputId": "f63bf38a-5f72-4cf5-b84a-dc886494b01d"
      },
      "outputs": [
        {
          "name": "stdout",
          "output_type": "stream",
          "text": [
            "AUC-ROC 0.7730858549813311\n"
          ]
        },
        {
          "data": {
            "image/png": "[encoded data removed]",
            "text/plain": [
              "<Figure size 432x288 with 1 Axes>"
            ]
          },
          "metadata": {
            "needs_background": "light"
          },
          "output_type": "display_data"
        }
      ],
      "source": [
        "# построим ROC-кривую для логистической регрессии\n",
        "probabilities_valid_lr = model_lr.predict_proba(features_valid)\n",
        "probabilities_one_valid_lr = probabilities_valid_lr[:, 1]\n",
        "\n",
        "fpr, tpr, thresholds = roc_curve(target_valid, probabilities_one_valid_lr)\n",
        "\n",
        "# посчитаем для логистической регрессии AUC-ROC\n",
        "auc_roc_lr = roc_auc_score(target_valid, probabilities_one_valid_lr)\n",
        "print('AUC-ROC', auc_roc_lr)\n",
        "\n",
        "plt.figure()\n",
        "\n",
        "plt.plot(fpr, tpr)\n",
        "\n",
        "# ROC-кривая случайной модели\n",
        "plt.plot([0, 1], [0, 1], linestyle='--')\n",
        "\n",
        "plt.xlim([0.0, 1.0])\n",
        "plt.ylim([0.0, 1.0])\n",
        "plt.xlabel('False Positive Rate')\n",
        "plt.ylabel('True Positive Rate')\n",
        "plt.title('ROC-кривая')\n",
        "plt.show()"
      ]
    },
    {
      "cell_type": "markdown",
      "metadata": {
        "id": "NVrM_5nBSnGZ"
      },
      "source": [
        "*Значения F1 и AUC-ROC не изменились.*"
      ]
    },
    {
      "cell_type": "markdown",
      "metadata": {
        "id": "AQCLqiaWSnGa"
      },
      "source": [
        "#### Решающее дерево"
      ]
    },
    {
      "cell_type": "code",
      "execution_count": null,
      "metadata": {
        "id": "KER1RU1PSnGa",
        "outputId": "2497255b-1e94-4196-b1dd-d1a95c3f4c30"
      },
      "outputs": [
        {
          "name": "stdout",
          "output_type": "stream",
          "text": [
            "F1: 0.46872753414809487\n"
          ]
        }
      ],
      "source": [
        "model_dc = DecisionTreeClassifier(random_state=12345, max_depth=6)\n",
        "model_dc.fit(features_downsampled, target_downsampled)\n",
        "predicted_valid_dc = model_dc.predict(features_valid)\n",
        "f1_dc = f1_score(target_valid, predicted_valid_dc)\n",
        "\n",
        "print(\"F1:\", f1_dc)"
      ]
    },
    {
      "cell_type": "code",
      "execution_count": null,
      "metadata": {
        "id": "BQO2fOL3SnGc",
        "outputId": "a9a7d452-22b0-45cc-d778-df48cc75fb2a"
      },
      "outputs": [
        {
          "name": "stdout",
          "output_type": "stream",
          "text": [
            "AUC-ROC 0.7969438214391872\n"
          ]
        },
        {
          "data": {
            "image/png": "[encoded data removed]",
            "text/plain": [
              "<Figure size 432x288 with 1 Axes>"
            ]
          },
          "metadata": {
            "needs_background": "light"
          },
          "output_type": "display_data"
        }
      ],
      "source": [
        "# построим ROC-кривую для дерева решений\n",
        "probabilities_valid_dc = model_dc.predict_proba(features_valid)\n",
        "probabilities_one_valid_dc = probabilities_valid_dc[:, 1]\n",
        "\n",
        "# посчитаем для дерева решений AUC-ROC\n",
        "auc_roc_dc = roc_auc_score(target_valid, probabilities_one_valid_dc)\n",
        "print('AUC-ROC', auc_roc_dc)\n",
        "\n",
        "fpr, tpr, thresholds = roc_curve(target_valid, probabilities_one_valid_dc)\n",
        "plt.figure()\n",
        "\n",
        "plt.plot(fpr, tpr)\n",
        "\n",
        "# ROC-кривая случайной модели\n",
        "plt.plot([0, 1], [0, 1], linestyle='--')\n",
        "\n",
        "plt.xlim([0.0, 1.0])\n",
        "plt.ylim([0.0, 1.0])\n",
        "plt.xlabel('False Positive Rate')\n",
        "plt.ylabel('True Positive Rate')\n",
        "plt.title('ROC-кривая')\n",
        "plt.show()"
      ]
    },
    {
      "cell_type": "markdown",
      "metadata": {
        "id": "7PQtEq33SnGf"
      },
      "source": [
        "*Значения F1 и AUC-ROC стали хуже.*"
      ]
    },
    {
      "cell_type": "markdown",
      "metadata": {
        "id": "E1rSz9lrSnGg"
      },
      "source": [
        "#### Случайный лес"
      ]
    },
    {
      "cell_type": "code",
      "execution_count": null,
      "metadata": {
        "id": "e2DfzJdpSnGg",
        "outputId": "f2d239d7-1705-4977-f3cf-166a4ae14486"
      },
      "outputs": [
        {
          "name": "stdout",
          "output_type": "stream",
          "text": [
            "F1: 0.4732620320855615\n"
          ]
        }
      ],
      "source": [
        "model_rc = RandomForestClassifier(random_state=12345, n_estimators=70, max_depth=14)\n",
        "model_rc.fit(features_downsampled, target_downsampled)\n",
        "predicted_valid_rc = model_rc.predict(features_valid)\n",
        "f1_rc = f1_score(target_valid, predicted_valid_rc)\n",
        "\n",
        "print(\"F1:\", f1_rc)"
      ]
    },
    {
      "cell_type": "code",
      "execution_count": null,
      "metadata": {
        "id": "cEwLAEVkSnGh",
        "outputId": "7c1b27f8-7225-4a38-def0-e677ea108d6d"
      },
      "outputs": [
        {
          "name": "stdout",
          "output_type": "stream",
          "text": [
            "AUC-ROC 0.8315255142508811\n"
          ]
        },
        {
          "data": {
            "image/png": "[encoded data removed]",
            "text/plain": [
              "<Figure size 432x288 with 1 Axes>"
            ]
          },
          "metadata": {
            "needs_background": "light"
          },
          "output_type": "display_data"
        }
      ],
      "source": [
        "# построим ROC-кривую для случайного леса\n",
        "probabilities_valid_rc = model_rc.predict_proba(features_valid)\n",
        "probabilities_one_valid_rc = probabilities_valid_rc[:, 1]\n",
        "\n",
        "\n",
        "# посчитаем для случайного леса AUC-ROC\n",
        "auc_roc_rc = roc_auc_score(target_valid, probabilities_one_valid_rc)\n",
        "print('AUC-ROC', auc_roc_rc)\n",
        "\n",
        "fpr, tpr, thresholds = roc_curve(target_valid, probabilities_one_valid_rc)\n",
        "\n",
        "plt.figure()\n",
        "\n",
        "plt.plot(fpr, tpr)\n",
        "\n",
        "# ROC-кривая случайной модели\n",
        "plt.plot([0, 1], [0, 1], linestyle='--')\n",
        "\n",
        "plt.xlim([0.0, 1.0])\n",
        "plt.ylim([0.0, 1.0])\n",
        "plt.xlabel('False Positive Rate')\n",
        "plt.ylabel('True Positive Rate')\n",
        "plt.title('ROC-кривая')\n",
        "plt.show()"
      ]
    },
    {
      "cell_type": "markdown",
      "metadata": {
        "id": "r5nsAma1SnGi"
      },
      "source": [
        "*Значения F1 и AUC-ROC стали хуже. Но Случайный лес показывает лучший результат с применением downsampling.*"
      ]
    },
    {
      "cell_type": "markdown",
      "metadata": {
        "id": "4l1XNYiDSnGl"
      },
      "source": [
        "## Тестирование модели"
      ]
    },
    {
      "cell_type": "code",
      "execution_count": null,
      "metadata": {
        "id": "sPi_sYJXSnGm"
      },
      "outputs": [],
      "source": [
        "def rec_prec_f1(target_valid, prediction):\n",
        "    print(\"Полнота\" , recall_score(target_valid, prediction))\n",
        "    print(\"Точность\", precision_score(target_valid, prediction))\n",
        "    print(\"F1-мера\", f1_score(target_valid, prediction))"
      ]
    },
    {
      "cell_type": "code",
      "execution_count": null,
      "metadata": {
        "id": "q-eHu9R_SnGn",
        "outputId": "be0a4718-f0b1-452d-ab35-e227dd54b80d"
      },
      "outputs": [
        {
          "name": "stdout",
          "output_type": "stream",
          "text": [
            "Полнота 0.6627634660421545\n",
            "Точность 0.5775510204081633\n",
            "F1-мера 0.6172300981461286\n"
          ]
        }
      ],
      "source": [
        "model_rc = RandomForestClassifier(random_state=12345, n_estimators=70, max_depth=14)\n",
        "model_rc.fit(features_upsampled, target_upsampled)\n",
        "model_rc_test = model_rc\n",
        "predictions_test_rc = model_rc_test.predict(features_test)\n",
        "rec_prec_f1(target_test, predictions_test_rc)"
      ]
    },
    {
      "cell_type": "code",
      "execution_count": null,
      "metadata": {
        "id": "Z37yIvuKSnGo",
        "outputId": "8bc90ca9-e8c3-4ac3-e9d6-b5bc77e73e66"
      },
      "outputs": [
        {
          "name": "stdout",
          "output_type": "stream",
          "text": [
            "AUC-ROC: 0.8510535664037899\n"
          ]
        },
        {
          "data": {
            "image/png": "[encoded data removed]",
            "text/plain": [
              "<Figure size 432x288 with 1 Axes>"
            ]
          },
          "metadata": {
            "needs_background": "light"
          },
          "output_type": "display_data"
        }
      ],
      "source": [
        "# построим ROC-кривую для итоговой модели и посчитаем AUC-ROC\n",
        "probabilities_valid_test = model_rc_test.predict_proba(features_test)\n",
        "probabilities_one_valid_rc = probabilities_valid_test[:, 1]\n",
        "\n",
        "fpr, tpr, thresholds = roc_curve(target_test, probabilities_one_valid_rc)\n",
        "\n",
        "print('AUC-ROC:',roc_auc_score(target_test, probabilities_one_valid_rc))\n",
        "\n",
        "plt.figure()\n",
        "\n",
        "plt.plot(fpr, tpr)\n",
        "\n",
        "# ROC-кривая случайной модели\n",
        "plt.plot([0, 1], [0, 1], linestyle='--')\n",
        "\n",
        "plt.xlim([0.0, 1.0])\n",
        "plt.ylim([0.0, 1.0])\n",
        "plt.xlabel('False Positive Rate')\n",
        "plt.ylabel('True Positive Rate')\n",
        "plt.title('ROC-кривая')\n",
        "plt.show()"
      ]
    },
    {
      "cell_type": "markdown",
      "metadata": {
        "id": "6m8TbmAvSnGr"
      },
      "source": [
        "**Вывод:**\n",
        "\n",
        "* Подготовлены данные для дальнейшего исследования.\n",
        "* Проведены масштибирование, борьба с дисбалансом.\n",
        "* Исследованы модели Decision Tree Classifier, RandomForestClassifier и Logistic Regression.\n",
        "* Проведена работа с дисбалансом техникой upsampling и downsampling. Лучший результат показала upsampling.\n",
        "* Наилучшую эффективность показала модель RandomForestClassifier с гиперпараметрами n_estimators равным = 70 и max_depth = 14.\n",
        "* На тестовой выборке модель достигла заданой метрики (F1 > 0.59) и показала адекватные результаты.\n",
        "* Модель характеризуется достаточным показателем полноты равным 0.66 (min = 0, max = 1), поэтому она с достаточной вероятностью предскажет уход клиента из банка.\n",
        "* Показатель точности равен 0.59 (min = 0, max = 1) — модель верно предсказывает больше половины ухода клиентов.\n",
        "* Значение AUC-ROC = 0.85 говорит о том, что модель умеет предсказывать.\n",
        "\n"
      ]
    },
    {
      "cell_type": "code",
      "execution_count": null,
      "metadata": {
        "id": "CzY5Dju5SnGu"
      },
      "outputs": [],
      "source": []
    }
  ],
  "metadata": {
    "ExecuteTimeLog": [
      {
        "duration": 394,
        "start_time": "2022-12-11T09:50:48.804Z"
      },
      {
        "duration": 1912,
        "start_time": "2022-12-11T09:51:26.568Z"
      },
      {
        "duration": 71,
        "start_time": "2022-12-11T09:52:59.523Z"
      },
      {
        "duration": 8,
        "start_time": "2022-12-11T09:53:24.832Z"
      },
      {
        "duration": 8,
        "start_time": "2022-12-11T09:53:27.775Z"
      },
      {
        "duration": 3,
        "start_time": "2022-12-11T09:54:05.986Z"
      },
      {
        "duration": 3,
        "start_time": "2022-12-11T09:54:11.447Z"
      },
      {
        "duration": 1832,
        "start_time": "2022-12-11T09:54:13.945Z"
      },
      {
        "duration": 405,
        "start_time": "2022-12-12T08:56:55.272Z"
      },
      {
        "duration": 3,
        "start_time": "2022-12-12T08:57:00.973Z"
      },
      {
        "duration": 86,
        "start_time": "2022-12-12T08:57:11.258Z"
      },
      {
        "duration": 7,
        "start_time": "2022-12-12T08:57:54.012Z"
      },
      {
        "duration": 1763,
        "start_time": "2022-12-12T08:58:03.695Z"
      },
      {
        "duration": 1815,
        "start_time": "2022-12-12T09:01:28.163Z"
      },
      {
        "duration": 306,
        "start_time": "2022-12-12T09:03:40.379Z"
      },
      {
        "duration": 303,
        "start_time": "2022-12-12T09:03:59.336Z"
      },
      {
        "duration": 87,
        "start_time": "2022-12-12T09:05:25.711Z"
      },
      {
        "duration": 3,
        "start_time": "2022-12-12T09:05:30.232Z"
      },
      {
        "duration": 2,
        "start_time": "2022-12-12T09:05:32.747Z"
      },
      {
        "duration": 53,
        "start_time": "2022-12-12T09:05:34.015Z"
      },
      {
        "duration": 2030,
        "start_time": "2022-12-12T09:06:23.566Z"
      },
      {
        "duration": 2402,
        "start_time": "2022-12-12T09:09:11.942Z"
      },
      {
        "duration": 1792,
        "start_time": "2022-12-12T09:09:44.461Z"
      },
      {
        "duration": 1832,
        "start_time": "2022-12-12T09:09:53.691Z"
      },
      {
        "duration": 1816,
        "start_time": "2022-12-12T09:10:21.238Z"
      },
      {
        "duration": 57,
        "start_time": "2022-12-12T09:16:58.453Z"
      },
      {
        "duration": 176,
        "start_time": "2022-12-12T09:28:02.454Z"
      },
      {
        "duration": 1293,
        "start_time": "2022-12-12T09:38:39.374Z"
      },
      {
        "duration": 3,
        "start_time": "2022-12-12T09:38:43.710Z"
      },
      {
        "duration": 43,
        "start_time": "2022-12-12T09:38:47.924Z"
      },
      {
        "duration": 19,
        "start_time": "2022-12-12T09:39:01.311Z"
      },
      {
        "duration": 13,
        "start_time": "2022-12-12T09:39:16.952Z"
      },
      {
        "duration": 13,
        "start_time": "2022-12-12T09:40:09.080Z"
      },
      {
        "duration": 14,
        "start_time": "2022-12-12T09:40:56.548Z"
      },
      {
        "duration": 72,
        "start_time": "2022-12-12T10:21:36.470Z"
      },
      {
        "duration": 13,
        "start_time": "2022-12-12T10:21:41.852Z"
      },
      {
        "duration": 4,
        "start_time": "2022-12-12T10:22:44.652Z"
      },
      {
        "duration": 3,
        "start_time": "2022-12-12T10:22:46.279Z"
      },
      {
        "duration": 38,
        "start_time": "2022-12-12T10:22:47.671Z"
      },
      {
        "duration": 13,
        "start_time": "2022-12-12T10:22:51.291Z"
      },
      {
        "duration": 13,
        "start_time": "2022-12-12T10:22:53.585Z"
      },
      {
        "duration": 4,
        "start_time": "2022-12-12T10:26:55.944Z"
      },
      {
        "duration": 43,
        "start_time": "2022-12-12T10:28:54.549Z"
      },
      {
        "duration": 67,
        "start_time": "2022-12-12T10:39:29.629Z"
      },
      {
        "duration": 13,
        "start_time": "2022-12-12T10:41:36.557Z"
      },
      {
        "duration": 3,
        "start_time": "2022-12-12T10:42:20.845Z"
      },
      {
        "duration": 11,
        "start_time": "2022-12-12T10:42:33.698Z"
      },
      {
        "duration": 9,
        "start_time": "2022-12-12T10:43:13.343Z"
      },
      {
        "duration": 10,
        "start_time": "2022-12-12T10:44:13.897Z"
      },
      {
        "duration": 5,
        "start_time": "2022-12-12T10:44:30.854Z"
      },
      {
        "duration": 3,
        "start_time": "2022-12-12T10:44:31.923Z"
      },
      {
        "duration": 55,
        "start_time": "2022-12-12T10:44:32.941Z"
      },
      {
        "duration": 19,
        "start_time": "2022-12-12T10:44:34.940Z"
      },
      {
        "duration": 14,
        "start_time": "2022-12-12T10:44:36.254Z"
      },
      {
        "duration": 4,
        "start_time": "2022-12-12T10:44:37.111Z"
      },
      {
        "duration": 41,
        "start_time": "2022-12-12T10:44:38.252Z"
      },
      {
        "duration": 15,
        "start_time": "2022-12-12T10:44:40.315Z"
      },
      {
        "duration": 12,
        "start_time": "2022-12-12T10:44:41.816Z"
      },
      {
        "duration": 7,
        "start_time": "2022-12-12T10:44:45.198Z"
      },
      {
        "duration": 9,
        "start_time": "2022-12-12T10:45:28.906Z"
      },
      {
        "duration": 4,
        "start_time": "2022-12-12T10:45:30.572Z"
      },
      {
        "duration": 11,
        "start_time": "2022-12-12T10:47:24.202Z"
      },
      {
        "duration": 9,
        "start_time": "2022-12-12T10:48:13.223Z"
      },
      {
        "duration": 10,
        "start_time": "2022-12-12T10:52:21.791Z"
      },
      {
        "duration": 10,
        "start_time": "2022-12-12T10:55:13.691Z"
      },
      {
        "duration": 10,
        "start_time": "2022-12-12T10:56:03.504Z"
      },
      {
        "duration": 11,
        "start_time": "2022-12-12T10:57:15.082Z"
      },
      {
        "duration": 10,
        "start_time": "2022-12-12T10:57:24.877Z"
      },
      {
        "duration": 9,
        "start_time": "2022-12-12T10:57:31.370Z"
      },
      {
        "duration": 1481,
        "start_time": "2022-12-12T10:57:46.246Z"
      },
      {
        "duration": 4,
        "start_time": "2022-12-12T10:57:48.886Z"
      },
      {
        "duration": 43,
        "start_time": "2022-12-12T10:57:50.351Z"
      },
      {
        "duration": 19,
        "start_time": "2022-12-12T10:57:51.874Z"
      },
      {
        "duration": 15,
        "start_time": "2022-12-12T10:57:52.658Z"
      },
      {
        "duration": 4,
        "start_time": "2022-12-12T10:57:53.429Z"
      },
      {
        "duration": 44,
        "start_time": "2022-12-12T10:57:54.267Z"
      },
      {
        "duration": 73,
        "start_time": "2022-12-12T10:57:55.067Z"
      },
      {
        "duration": 7,
        "start_time": "2022-12-12T10:57:58.212Z"
      },
      {
        "duration": 14,
        "start_time": "2022-12-12T10:57:59.371Z"
      },
      {
        "duration": 14,
        "start_time": "2022-12-12T10:58:46.851Z"
      },
      {
        "duration": 14,
        "start_time": "2022-12-12T10:58:54.426Z"
      },
      {
        "duration": 8,
        "start_time": "2022-12-12T10:59:13.046Z"
      },
      {
        "duration": 7,
        "start_time": "2022-12-12T11:00:06.623Z"
      },
      {
        "duration": 6,
        "start_time": "2022-12-12T11:00:08.678Z"
      },
      {
        "duration": 4,
        "start_time": "2022-12-12T11:00:30.246Z"
      },
      {
        "duration": 3,
        "start_time": "2022-12-12T11:00:31.066Z"
      },
      {
        "duration": 46,
        "start_time": "2022-12-12T11:00:31.731Z"
      },
      {
        "duration": 13,
        "start_time": "2022-12-12T11:00:33.026Z"
      },
      {
        "duration": 15,
        "start_time": "2022-12-12T11:00:33.862Z"
      },
      {
        "duration": 4,
        "start_time": "2022-12-12T11:00:34.638Z"
      },
      {
        "duration": 42,
        "start_time": "2022-12-12T11:00:35.664Z"
      },
      {
        "duration": 15,
        "start_time": "2022-12-12T11:00:36.626Z"
      },
      {
        "duration": 12,
        "start_time": "2022-12-12T11:00:37.677Z"
      },
      {
        "duration": 6,
        "start_time": "2022-12-12T11:00:39.850Z"
      },
      {
        "duration": 8,
        "start_time": "2022-12-12T11:00:45.862Z"
      },
      {
        "duration": 116,
        "start_time": "2022-12-12T11:05:28.195Z"
      },
      {
        "duration": 11,
        "start_time": "2022-12-12T11:06:30.122Z"
      },
      {
        "duration": 11,
        "start_time": "2022-12-12T11:07:59.666Z"
      },
      {
        "duration": 11,
        "start_time": "2022-12-12T11:08:01.163Z"
      },
      {
        "duration": 10,
        "start_time": "2022-12-12T11:08:03.061Z"
      },
      {
        "duration": 8,
        "start_time": "2022-12-12T11:08:10.981Z"
      },
      {
        "duration": 5,
        "start_time": "2022-12-12T11:08:11.858Z"
      },
      {
        "duration": 5,
        "start_time": "2022-12-12T11:08:22.813Z"
      },
      {
        "duration": 3,
        "start_time": "2022-12-12T11:08:23.621Z"
      },
      {
        "duration": 40,
        "start_time": "2022-12-12T11:08:24.301Z"
      },
      {
        "duration": 13,
        "start_time": "2022-12-12T11:08:26.125Z"
      },
      {
        "duration": 13,
        "start_time": "2022-12-12T11:08:26.905Z"
      },
      {
        "duration": 4,
        "start_time": "2022-12-12T11:08:27.551Z"
      },
      {
        "duration": 46,
        "start_time": "2022-12-12T11:08:28.265Z"
      },
      {
        "duration": 17,
        "start_time": "2022-12-12T11:08:29.260Z"
      },
      {
        "duration": 12,
        "start_time": "2022-12-12T11:08:30.009Z"
      },
      {
        "duration": 6,
        "start_time": "2022-12-12T11:08:32.102Z"
      },
      {
        "duration": 14,
        "start_time": "2022-12-12T11:08:33.730Z"
      },
      {
        "duration": 11,
        "start_time": "2022-12-12T11:16:49.730Z"
      },
      {
        "duration": 33,
        "start_time": "2022-12-12T11:23:43.474Z"
      },
      {
        "duration": 5,
        "start_time": "2022-12-12T11:30:36.731Z"
      },
      {
        "duration": 17,
        "start_time": "2022-12-12T11:30:40.830Z"
      },
      {
        "duration": 328,
        "start_time": "2022-12-12T11:30:52.967Z"
      },
      {
        "duration": 5,
        "start_time": "2022-12-12T11:31:09.603Z"
      },
      {
        "duration": 216,
        "start_time": "2022-12-12T11:31:15.821Z"
      },
      {
        "duration": 16,
        "start_time": "2022-12-12T11:40:27.136Z"
      },
      {
        "duration": 1521,
        "start_time": "2022-12-12T11:40:49.141Z"
      },
      {
        "duration": 3,
        "start_time": "2022-12-12T11:40:51.775Z"
      },
      {
        "duration": 43,
        "start_time": "2022-12-12T11:40:52.710Z"
      },
      {
        "duration": 16,
        "start_time": "2022-12-12T11:40:54.506Z"
      },
      {
        "duration": 13,
        "start_time": "2022-12-12T11:40:55.439Z"
      },
      {
        "duration": 5,
        "start_time": "2022-12-12T11:40:56.344Z"
      },
      {
        "duration": 39,
        "start_time": "2022-12-12T11:40:57.404Z"
      },
      {
        "duration": 50,
        "start_time": "2022-12-12T11:40:58.635Z"
      },
      {
        "duration": 12,
        "start_time": "2022-12-12T11:41:00.262Z"
      },
      {
        "duration": 6,
        "start_time": "2022-12-12T11:41:03.787Z"
      },
      {
        "duration": 6,
        "start_time": "2022-12-12T11:41:05.332Z"
      },
      {
        "duration": 5,
        "start_time": "2022-12-12T11:41:17.841Z"
      },
      {
        "duration": 6,
        "start_time": "2022-12-12T11:41:31.268Z"
      },
      {
        "duration": 14,
        "start_time": "2022-12-12T11:41:51.271Z"
      },
      {
        "duration": 140,
        "start_time": "2022-12-12T11:42:42.088Z"
      },
      {
        "duration": 118,
        "start_time": "2022-12-12T11:43:52.368Z"
      },
      {
        "duration": 10,
        "start_time": "2022-12-12T11:47:29.430Z"
      },
      {
        "duration": 11,
        "start_time": "2022-12-12T11:48:54.822Z"
      },
      {
        "duration": 13,
        "start_time": "2022-12-12T11:50:44.781Z"
      },
      {
        "duration": 9,
        "start_time": "2022-12-12T11:51:27.699Z"
      },
      {
        "duration": 9,
        "start_time": "2022-12-12T11:53:30.128Z"
      },
      {
        "duration": 1479,
        "start_time": "2022-12-12T11:53:48.269Z"
      },
      {
        "duration": 3,
        "start_time": "2022-12-12T11:53:49.750Z"
      },
      {
        "duration": 51,
        "start_time": "2022-12-12T11:53:49.755Z"
      },
      {
        "duration": 18,
        "start_time": "2022-12-12T11:53:50.232Z"
      },
      {
        "duration": 15,
        "start_time": "2022-12-12T11:53:50.806Z"
      },
      {
        "duration": 5,
        "start_time": "2022-12-12T11:53:51.346Z"
      },
      {
        "duration": 43,
        "start_time": "2022-12-12T11:53:52.275Z"
      },
      {
        "duration": 55,
        "start_time": "2022-12-12T11:53:53.597Z"
      },
      {
        "duration": 17,
        "start_time": "2022-12-12T11:53:55.772Z"
      },
      {
        "duration": 7,
        "start_time": "2022-12-12T11:54:05.205Z"
      },
      {
        "duration": 6,
        "start_time": "2022-12-12T11:54:07.383Z"
      },
      {
        "duration": 14,
        "start_time": "2022-12-12T11:54:08.331Z"
      },
      {
        "duration": 149,
        "start_time": "2022-12-12T11:54:09.074Z"
      },
      {
        "duration": 117,
        "start_time": "2022-12-12T11:54:16.127Z"
      },
      {
        "duration": 1732,
        "start_time": "2022-12-13T06:45:01.981Z"
      },
      {
        "duration": 3,
        "start_time": "2022-12-13T06:45:03.716Z"
      },
      {
        "duration": 104,
        "start_time": "2022-12-13T06:45:03.722Z"
      },
      {
        "duration": 18,
        "start_time": "2022-12-13T06:45:06.006Z"
      },
      {
        "duration": 14,
        "start_time": "2022-12-13T06:45:07.134Z"
      },
      {
        "duration": 4,
        "start_time": "2022-12-13T06:45:14.634Z"
      },
      {
        "duration": 43,
        "start_time": "2022-12-13T06:45:16.571Z"
      },
      {
        "duration": 52,
        "start_time": "2022-12-13T06:45:17.633Z"
      },
      {
        "duration": 11,
        "start_time": "2022-12-13T06:45:18.681Z"
      },
      {
        "duration": 7,
        "start_time": "2022-12-13T06:45:21.101Z"
      },
      {
        "duration": 7,
        "start_time": "2022-12-13T06:46:19.498Z"
      },
      {
        "duration": 5,
        "start_time": "2022-12-13T06:46:24.852Z"
      },
      {
        "duration": 14,
        "start_time": "2022-12-13T06:46:26.646Z"
      },
      {
        "duration": 6,
        "start_time": "2022-12-13T06:48:52.133Z"
      },
      {
        "duration": 5,
        "start_time": "2022-12-13T06:49:18.511Z"
      },
      {
        "duration": 4,
        "start_time": "2022-12-13T06:49:44.775Z"
      },
      {
        "duration": 3,
        "start_time": "2022-12-13T06:49:45.014Z"
      },
      {
        "duration": 41,
        "start_time": "2022-12-13T06:49:45.330Z"
      },
      {
        "duration": 21,
        "start_time": "2022-12-13T06:49:45.926Z"
      },
      {
        "duration": 15,
        "start_time": "2022-12-13T06:49:46.215Z"
      },
      {
        "duration": 4,
        "start_time": "2022-12-13T06:49:46.701Z"
      },
      {
        "duration": 40,
        "start_time": "2022-12-13T06:49:47.219Z"
      },
      {
        "duration": 15,
        "start_time": "2022-12-13T06:49:47.865Z"
      },
      {
        "duration": 11,
        "start_time": "2022-12-13T06:49:48.463Z"
      },
      {
        "duration": 7,
        "start_time": "2022-12-13T06:49:51.569Z"
      },
      {
        "duration": 7,
        "start_time": "2022-12-13T06:49:52.797Z"
      },
      {
        "duration": 6,
        "start_time": "2022-12-13T06:49:56.897Z"
      },
      {
        "duration": 5,
        "start_time": "2022-12-13T06:50:05.454Z"
      },
      {
        "duration": 20,
        "start_time": "2022-12-13T06:50:06.439Z"
      },
      {
        "duration": 12,
        "start_time": "2022-12-13T06:51:32.291Z"
      },
      {
        "duration": 4,
        "start_time": "2022-12-13T06:52:16.742Z"
      },
      {
        "duration": 3,
        "start_time": "2022-12-13T06:52:17.381Z"
      },
      {
        "duration": 40,
        "start_time": "2022-12-13T06:52:17.950Z"
      },
      {
        "duration": 13,
        "start_time": "2022-12-13T06:52:19.366Z"
      },
      {
        "duration": 13,
        "start_time": "2022-12-13T06:52:20.034Z"
      },
      {
        "duration": 4,
        "start_time": "2022-12-13T06:52:21.832Z"
      },
      {
        "duration": 42,
        "start_time": "2022-12-13T06:52:28.511Z"
      },
      {
        "duration": 14,
        "start_time": "2022-12-13T06:52:30.095Z"
      },
      {
        "duration": 10,
        "start_time": "2022-12-13T06:52:31.612Z"
      },
      {
        "duration": 8,
        "start_time": "2022-12-13T06:52:38.695Z"
      },
      {
        "duration": 6,
        "start_time": "2022-12-13T06:52:41.387Z"
      },
      {
        "duration": 7,
        "start_time": "2022-12-13T06:52:42.961Z"
      },
      {
        "duration": 13,
        "start_time": "2022-12-13T06:52:44.900Z"
      },
      {
        "duration": 5,
        "start_time": "2022-12-13T06:54:31.420Z"
      },
      {
        "duration": 6,
        "start_time": "2022-12-13T06:54:36.482Z"
      },
      {
        "duration": 13,
        "start_time": "2022-12-13T06:54:39.661Z"
      },
      {
        "duration": 4,
        "start_time": "2022-12-13T06:55:19.919Z"
      },
      {
        "duration": 117,
        "start_time": "2022-12-13T06:55:24.087Z"
      },
      {
        "duration": 10,
        "start_time": "2022-12-13T06:55:34.842Z"
      },
      {
        "duration": 10,
        "start_time": "2022-12-13T06:55:41.419Z"
      },
      {
        "duration": 4,
        "start_time": "2022-12-13T06:56:19.253Z"
      },
      {
        "duration": 4,
        "start_time": "2022-12-13T06:56:19.862Z"
      },
      {
        "duration": 40,
        "start_time": "2022-12-13T06:56:20.455Z"
      },
      {
        "duration": 14,
        "start_time": "2022-12-13T06:56:22.718Z"
      },
      {
        "duration": 15,
        "start_time": "2022-12-13T06:56:23.600Z"
      },
      {
        "duration": 4,
        "start_time": "2022-12-13T06:56:24.302Z"
      },
      {
        "duration": 44,
        "start_time": "2022-12-13T06:56:25.011Z"
      },
      {
        "duration": 14,
        "start_time": "2022-12-13T06:56:25.916Z"
      },
      {
        "duration": 12,
        "start_time": "2022-12-13T06:56:26.919Z"
      },
      {
        "duration": 7,
        "start_time": "2022-12-13T06:56:28.543Z"
      },
      {
        "duration": 4,
        "start_time": "2022-12-13T06:56:30.404Z"
      },
      {
        "duration": 10,
        "start_time": "2022-12-13T06:56:38.806Z"
      },
      {
        "duration": 9,
        "start_time": "2022-12-13T06:57:51.878Z"
      },
      {
        "duration": 4,
        "start_time": "2022-12-13T06:58:31.581Z"
      },
      {
        "duration": 2,
        "start_time": "2022-12-13T06:58:32.000Z"
      },
      {
        "duration": 40,
        "start_time": "2022-12-13T06:58:32.454Z"
      },
      {
        "duration": 16,
        "start_time": "2022-12-13T06:58:33.731Z"
      },
      {
        "duration": 13,
        "start_time": "2022-12-13T06:58:33.978Z"
      },
      {
        "duration": 4,
        "start_time": "2022-12-13T06:58:39.719Z"
      },
      {
        "duration": 42,
        "start_time": "2022-12-13T06:58:40.453Z"
      },
      {
        "duration": 14,
        "start_time": "2022-12-13T06:58:41.405Z"
      },
      {
        "duration": 11,
        "start_time": "2022-12-13T06:58:50.439Z"
      },
      {
        "duration": 6,
        "start_time": "2022-12-13T06:58:52.029Z"
      },
      {
        "duration": 4,
        "start_time": "2022-12-13T06:58:59.191Z"
      },
      {
        "duration": 9,
        "start_time": "2022-12-13T06:59:23.121Z"
      },
      {
        "duration": 10,
        "start_time": "2022-12-13T06:59:42.331Z"
      },
      {
        "duration": 5,
        "start_time": "2022-12-13T06:59:49.874Z"
      },
      {
        "duration": 3,
        "start_time": "2022-12-13T06:59:50.432Z"
      },
      {
        "duration": 40,
        "start_time": "2022-12-13T06:59:50.961Z"
      },
      {
        "duration": 13,
        "start_time": "2022-12-13T06:59:52.215Z"
      },
      {
        "duration": 13,
        "start_time": "2022-12-13T06:59:53.115Z"
      },
      {
        "duration": 4,
        "start_time": "2022-12-13T06:59:53.786Z"
      },
      {
        "duration": 53,
        "start_time": "2022-12-13T06:59:54.497Z"
      },
      {
        "duration": 16,
        "start_time": "2022-12-13T07:00:02.935Z"
      },
      {
        "duration": 11,
        "start_time": "2022-12-13T07:00:03.528Z"
      },
      {
        "duration": 6,
        "start_time": "2022-12-13T07:00:05.048Z"
      },
      {
        "duration": 4,
        "start_time": "2022-12-13T07:00:05.906Z"
      },
      {
        "duration": 12,
        "start_time": "2022-12-13T07:00:06.614Z"
      },
      {
        "duration": 4,
        "start_time": "2022-12-13T07:01:06.408Z"
      },
      {
        "duration": 12,
        "start_time": "2022-12-13T07:01:12.349Z"
      },
      {
        "duration": 6,
        "start_time": "2022-12-13T07:01:22.883Z"
      },
      {
        "duration": 140,
        "start_time": "2022-12-13T07:01:33.087Z"
      },
      {
        "duration": 5,
        "start_time": "2022-12-13T07:03:36.449Z"
      },
      {
        "duration": 130,
        "start_time": "2022-12-13T07:04:13.207Z"
      },
      {
        "duration": 4,
        "start_time": "2022-12-13T07:04:21.132Z"
      },
      {
        "duration": 3,
        "start_time": "2022-12-13T07:04:21.747Z"
      },
      {
        "duration": 48,
        "start_time": "2022-12-13T07:04:22.278Z"
      },
      {
        "duration": 14,
        "start_time": "2022-12-13T07:04:23.553Z"
      },
      {
        "duration": 15,
        "start_time": "2022-12-13T07:04:24.199Z"
      },
      {
        "duration": 6,
        "start_time": "2022-12-13T07:04:24.996Z"
      },
      {
        "duration": 126,
        "start_time": "2022-12-13T07:04:25.668Z"
      },
      {
        "duration": 20,
        "start_time": "2022-12-13T07:04:26.539Z"
      },
      {
        "duration": 17,
        "start_time": "2022-12-13T07:04:27.260Z"
      },
      {
        "duration": 7,
        "start_time": "2022-12-13T07:04:29.818Z"
      },
      {
        "duration": 122,
        "start_time": "2022-12-13T07:04:31.308Z"
      },
      {
        "duration": 5,
        "start_time": "2022-12-13T07:05:10.913Z"
      },
      {
        "duration": 121,
        "start_time": "2022-12-13T07:06:10.671Z"
      },
      {
        "duration": 120,
        "start_time": "2022-12-13T07:06:20.829Z"
      },
      {
        "duration": 7,
        "start_time": "2022-12-13T07:06:23.308Z"
      },
      {
        "duration": 125,
        "start_time": "2022-12-13T07:06:24.613Z"
      },
      {
        "duration": 4,
        "start_time": "2022-12-13T07:06:35.034Z"
      },
      {
        "duration": 3,
        "start_time": "2022-12-13T07:06:35.686Z"
      },
      {
        "duration": 40,
        "start_time": "2022-12-13T07:06:36.307Z"
      },
      {
        "duration": 14,
        "start_time": "2022-12-13T07:06:37.635Z"
      },
      {
        "duration": 13,
        "start_time": "2022-12-13T07:06:38.344Z"
      },
      {
        "duration": 4,
        "start_time": "2022-12-13T07:06:39.077Z"
      },
      {
        "duration": 55,
        "start_time": "2022-12-13T07:06:39.850Z"
      },
      {
        "duration": 14,
        "start_time": "2022-12-13T07:06:40.777Z"
      },
      {
        "duration": 12,
        "start_time": "2022-12-13T07:06:41.482Z"
      },
      {
        "duration": 11,
        "start_time": "2022-12-13T07:06:43.727Z"
      },
      {
        "duration": 124,
        "start_time": "2022-12-13T07:06:49.810Z"
      },
      {
        "duration": 5,
        "start_time": "2022-12-13T07:06:50.989Z"
      },
      {
        "duration": 128,
        "start_time": "2022-12-13T07:06:55.855Z"
      },
      {
        "duration": 5,
        "start_time": "2022-12-13T07:07:26.219Z"
      },
      {
        "duration": 135,
        "start_time": "2022-12-13T07:07:28.837Z"
      },
      {
        "duration": 17,
        "start_time": "2022-12-13T07:08:01.037Z"
      },
      {
        "duration": 8,
        "start_time": "2022-12-13T07:08:09.462Z"
      },
      {
        "duration": 5,
        "start_time": "2022-12-13T07:08:17.523Z"
      },
      {
        "duration": 3,
        "start_time": "2022-12-13T07:08:18.441Z"
      },
      {
        "duration": 41,
        "start_time": "2022-12-13T07:08:19.286Z"
      },
      {
        "duration": 13,
        "start_time": "2022-12-13T07:08:21.054Z"
      },
      {
        "duration": 13,
        "start_time": "2022-12-13T07:08:22.278Z"
      },
      {
        "duration": 4,
        "start_time": "2022-12-13T07:08:23.614Z"
      },
      {
        "duration": 45,
        "start_time": "2022-12-13T07:08:24.742Z"
      },
      {
        "duration": 15,
        "start_time": "2022-12-13T07:08:25.780Z"
      },
      {
        "duration": 13,
        "start_time": "2022-12-13T07:08:27.084Z"
      },
      {
        "duration": 6,
        "start_time": "2022-12-13T07:08:29.682Z"
      },
      {
        "duration": 124,
        "start_time": "2022-12-13T07:08:31.934Z"
      },
      {
        "duration": 5,
        "start_time": "2022-12-13T07:08:33.941Z"
      },
      {
        "duration": 121,
        "start_time": "2022-12-13T07:08:36.306Z"
      },
      {
        "duration": 7,
        "start_time": "2022-12-13T07:09:24.163Z"
      },
      {
        "duration": 5,
        "start_time": "2022-12-13T07:09:28.191Z"
      },
      {
        "duration": 7,
        "start_time": "2022-12-13T07:09:32.289Z"
      },
      {
        "duration": 6,
        "start_time": "2022-12-13T07:09:44.385Z"
      },
      {
        "duration": 6,
        "start_time": "2022-12-13T07:09:47.032Z"
      },
      {
        "duration": 134,
        "start_time": "2022-12-13T07:09:49.184Z"
      },
      {
        "duration": 128,
        "start_time": "2022-12-13T07:10:09.206Z"
      },
      {
        "duration": 14,
        "start_time": "2022-12-13T07:10:13.595Z"
      },
      {
        "duration": 7,
        "start_time": "2022-12-13T07:10:54.049Z"
      },
      {
        "duration": 126,
        "start_time": "2022-12-13T07:10:57.088Z"
      },
      {
        "duration": 5,
        "start_time": "2022-12-13T07:10:58.346Z"
      },
      {
        "duration": 228,
        "start_time": "2022-12-13T07:10:59.590Z"
      },
      {
        "duration": 10,
        "start_time": "2022-12-13T07:12:19.956Z"
      },
      {
        "duration": 17,
        "start_time": "2022-12-13T07:12:44.374Z"
      },
      {
        "duration": 5,
        "start_time": "2022-12-13T07:41:55.968Z"
      },
      {
        "duration": 148,
        "start_time": "2022-12-13T07:41:59.363Z"
      },
      {
        "duration": 6,
        "start_time": "2022-12-13T07:42:00.750Z"
      },
      {
        "duration": 162,
        "start_time": "2022-12-13T07:42:01.652Z"
      },
      {
        "duration": 21,
        "start_time": "2022-12-13T07:42:03.640Z"
      },
      {
        "duration": 9,
        "start_time": "2022-12-13T07:55:12.475Z"
      },
      {
        "duration": 13,
        "start_time": "2022-12-13T07:55:15.220Z"
      },
      {
        "duration": 6,
        "start_time": "2022-12-13T07:55:23.446Z"
      },
      {
        "duration": 3,
        "start_time": "2022-12-13T07:55:23.910Z"
      },
      {
        "duration": 53,
        "start_time": "2022-12-13T07:55:24.344Z"
      },
      {
        "duration": 15,
        "start_time": "2022-12-13T07:55:25.223Z"
      },
      {
        "duration": 13,
        "start_time": "2022-12-13T07:55:26.168Z"
      },
      {
        "duration": 4,
        "start_time": "2022-12-13T07:55:26.627Z"
      },
      {
        "duration": 45,
        "start_time": "2022-12-13T07:55:27.365Z"
      },
      {
        "duration": 15,
        "start_time": "2022-12-13T07:55:28.189Z"
      },
      {
        "duration": 20,
        "start_time": "2022-12-13T07:55:29.850Z"
      },
      {
        "duration": 20,
        "start_time": "2022-12-13T07:55:30.911Z"
      },
      {
        "duration": 137,
        "start_time": "2022-12-13T07:55:32.869Z"
      },
      {
        "duration": 15,
        "start_time": "2022-12-13T07:55:41.707Z"
      },
      {
        "duration": 126,
        "start_time": "2022-12-13T07:57:28.495Z"
      },
      {
        "duration": 5,
        "start_time": "2022-12-13T07:57:30.411Z"
      },
      {
        "duration": 143,
        "start_time": "2022-12-13T07:57:31.705Z"
      },
      {
        "duration": 5,
        "start_time": "2022-12-13T07:57:33.179Z"
      },
      {
        "duration": 8,
        "start_time": "2022-12-13T07:57:37.974Z"
      },
      {
        "duration": 13,
        "start_time": "2022-12-13T07:57:39.836Z"
      },
      {
        "duration": 14,
        "start_time": "2022-12-13T07:57:50.214Z"
      },
      {
        "duration": 4,
        "start_time": "2022-12-13T07:58:00.436Z"
      },
      {
        "duration": 4,
        "start_time": "2022-12-13T07:58:00.867Z"
      },
      {
        "duration": 44,
        "start_time": "2022-12-13T07:58:01.263Z"
      },
      {
        "duration": 18,
        "start_time": "2022-12-13T07:58:02.067Z"
      },
      {
        "duration": 14,
        "start_time": "2022-12-13T07:58:02.886Z"
      },
      {
        "duration": 4,
        "start_time": "2022-12-13T07:58:03.405Z"
      },
      {
        "duration": 44,
        "start_time": "2022-12-13T07:58:04.009Z"
      },
      {
        "duration": 17,
        "start_time": "2022-12-13T07:58:04.703Z"
      },
      {
        "duration": 7,
        "start_time": "2022-12-13T07:58:06.083Z"
      },
      {
        "duration": 124,
        "start_time": "2022-12-13T07:58:06.820Z"
      },
      {
        "duration": 6,
        "start_time": "2022-12-13T07:58:07.569Z"
      },
      {
        "duration": 136,
        "start_time": "2022-12-13T07:58:08.508Z"
      },
      {
        "duration": 4,
        "start_time": "2022-12-13T07:58:09.332Z"
      },
      {
        "duration": 8,
        "start_time": "2022-12-13T07:58:11.471Z"
      },
      {
        "duration": 14,
        "start_time": "2022-12-13T07:58:12.668Z"
      },
      {
        "duration": 30,
        "start_time": "2022-12-13T07:58:35.434Z"
      },
      {
        "duration": 14,
        "start_time": "2022-12-13T08:02:22.815Z"
      },
      {
        "duration": 13,
        "start_time": "2022-12-13T08:02:28.572Z"
      },
      {
        "duration": 33,
        "start_time": "2022-12-13T08:06:44.155Z"
      },
      {
        "duration": 4,
        "start_time": "2022-12-13T08:06:47.669Z"
      },
      {
        "duration": 15,
        "start_time": "2022-12-13T08:06:50.700Z"
      },
      {
        "duration": 4,
        "start_time": "2022-12-13T08:06:59.441Z"
      },
      {
        "duration": 5,
        "start_time": "2022-12-13T08:06:59.967Z"
      },
      {
        "duration": 47,
        "start_time": "2022-12-13T08:07:00.367Z"
      },
      {
        "duration": 15,
        "start_time": "2022-12-13T08:07:01.439Z"
      },
      {
        "duration": 15,
        "start_time": "2022-12-13T08:07:02.104Z"
      },
      {
        "duration": 5,
        "start_time": "2022-12-13T08:07:02.667Z"
      },
      {
        "duration": 71,
        "start_time": "2022-12-13T08:07:03.319Z"
      },
      {
        "duration": 18,
        "start_time": "2022-12-13T08:07:04.022Z"
      },
      {
        "duration": 16,
        "start_time": "2022-12-13T08:07:05.155Z"
      },
      {
        "duration": 135,
        "start_time": "2022-12-13T08:07:05.769Z"
      },
      {
        "duration": 5,
        "start_time": "2022-12-13T08:07:06.307Z"
      },
      {
        "duration": 161,
        "start_time": "2022-12-13T08:07:06.948Z"
      },
      {
        "duration": 5,
        "start_time": "2022-12-13T08:07:07.824Z"
      },
      {
        "duration": 7,
        "start_time": "2022-12-13T08:07:09.612Z"
      },
      {
        "duration": 16,
        "start_time": "2022-12-13T08:07:30.491Z"
      },
      {
        "duration": 19,
        "start_time": "2022-12-13T08:07:39.908Z"
      },
      {
        "duration": 76,
        "start_time": "2022-12-13T08:07:58.650Z"
      },
      {
        "duration": 21,
        "start_time": "2022-12-13T08:08:09.540Z"
      },
      {
        "duration": 15,
        "start_time": "2022-12-13T08:08:16.486Z"
      },
      {
        "duration": 21,
        "start_time": "2022-12-13T08:09:27.582Z"
      },
      {
        "duration": 1666,
        "start_time": "2022-12-13T08:09:46.230Z"
      },
      {
        "duration": 4,
        "start_time": "2022-12-13T08:09:47.898Z"
      },
      {
        "duration": 62,
        "start_time": "2022-12-13T08:09:47.904Z"
      },
      {
        "duration": 18,
        "start_time": "2022-12-13T08:09:50.422Z"
      },
      {
        "duration": 16,
        "start_time": "2022-12-13T08:09:51.968Z"
      },
      {
        "duration": 4,
        "start_time": "2022-12-13T08:09:52.920Z"
      },
      {
        "duration": 66,
        "start_time": "2022-12-13T08:09:53.715Z"
      },
      {
        "duration": 85,
        "start_time": "2022-12-13T08:09:54.826Z"
      },
      {
        "duration": 8,
        "start_time": "2022-12-13T08:09:56.411Z"
      },
      {
        "duration": 157,
        "start_time": "2022-12-13T08:09:57.222Z"
      },
      {
        "duration": 5,
        "start_time": "2022-12-13T08:09:58.868Z"
      },
      {
        "duration": 166,
        "start_time": "2022-12-13T08:10:00.050Z"
      },
      {
        "duration": 5,
        "start_time": "2022-12-13T08:10:01.901Z"
      },
      {
        "duration": 8,
        "start_time": "2022-12-13T08:10:06.368Z"
      },
      {
        "duration": 135,
        "start_time": "2022-12-13T08:10:09.868Z"
      },
      {
        "duration": 27,
        "start_time": "2022-12-13T08:10:26.946Z"
      },
      {
        "duration": 23,
        "start_time": "2022-12-13T08:10:34.646Z"
      },
      {
        "duration": 5,
        "start_time": "2022-12-13T08:13:11.861Z"
      },
      {
        "duration": 3,
        "start_time": "2022-12-13T08:13:12.470Z"
      },
      {
        "duration": 42,
        "start_time": "2022-12-13T08:13:13.084Z"
      },
      {
        "duration": 15,
        "start_time": "2022-12-13T08:13:14.211Z"
      },
      {
        "duration": 105,
        "start_time": "2022-12-13T08:13:14.738Z"
      },
      {
        "duration": 4,
        "start_time": "2022-12-13T08:13:15.210Z"
      },
      {
        "duration": 43,
        "start_time": "2022-12-13T08:13:15.856Z"
      },
      {
        "duration": 16,
        "start_time": "2022-12-13T08:13:16.570Z"
      },
      {
        "duration": 6,
        "start_time": "2022-12-13T08:13:17.898Z"
      },
      {
        "duration": 120,
        "start_time": "2022-12-13T08:13:18.512Z"
      },
      {
        "duration": 7,
        "start_time": "2022-12-13T08:13:19.128Z"
      },
      {
        "duration": 132,
        "start_time": "2022-12-13T08:13:19.638Z"
      },
      {
        "duration": 4,
        "start_time": "2022-12-13T08:13:20.632Z"
      },
      {
        "duration": 6,
        "start_time": "2022-12-13T08:13:23.530Z"
      },
      {
        "duration": 14,
        "start_time": "2022-12-13T08:13:37.354Z"
      },
      {
        "duration": 2,
        "start_time": "2022-12-13T08:13:55.070Z"
      },
      {
        "duration": 3,
        "start_time": "2022-12-13T08:13:58.145Z"
      },
      {
        "duration": 3,
        "start_time": "2022-12-13T08:14:05.508Z"
      },
      {
        "duration": 4,
        "start_time": "2022-12-13T08:14:20.566Z"
      },
      {
        "duration": 14,
        "start_time": "2022-12-13T08:14:23.435Z"
      },
      {
        "duration": 1655,
        "start_time": "2022-12-13T08:14:46.329Z"
      },
      {
        "duration": 4,
        "start_time": "2022-12-13T08:14:48.873Z"
      },
      {
        "duration": 51,
        "start_time": "2022-12-13T08:14:49.823Z"
      },
      {
        "duration": 19,
        "start_time": "2022-12-13T08:14:51.697Z"
      },
      {
        "duration": 13,
        "start_time": "2022-12-13T08:14:52.722Z"
      },
      {
        "duration": 5,
        "start_time": "2022-12-13T08:14:53.672Z"
      },
      {
        "duration": 54,
        "start_time": "2022-12-13T08:14:54.567Z"
      },
      {
        "duration": 58,
        "start_time": "2022-12-13T08:14:55.487Z"
      },
      {
        "duration": 7,
        "start_time": "2022-12-13T08:14:57.290Z"
      },
      {
        "duration": 198,
        "start_time": "2022-12-13T08:14:58.478Z"
      },
      {
        "duration": 6,
        "start_time": "2022-12-13T08:14:59.687Z"
      },
      {
        "duration": 180,
        "start_time": "2022-12-13T08:15:00.571Z"
      },
      {
        "duration": 6,
        "start_time": "2022-12-13T08:15:02.558Z"
      },
      {
        "duration": 6,
        "start_time": "2022-12-13T08:15:07.677Z"
      },
      {
        "duration": 17,
        "start_time": "2022-12-13T08:15:09.310Z"
      },
      {
        "duration": 8,
        "start_time": "2022-12-13T08:15:39.728Z"
      },
      {
        "duration": 9,
        "start_time": "2022-12-13T08:15:43.606Z"
      },
      {
        "duration": 14,
        "start_time": "2022-12-13T08:16:33.438Z"
      },
      {
        "duration": 7,
        "start_time": "2022-12-13T08:17:42.092Z"
      },
      {
        "duration": 16123,
        "start_time": "2022-12-13T08:33:59.561Z"
      },
      {
        "duration": 1560,
        "start_time": "2022-12-13T11:15:57.623Z"
      },
      {
        "duration": 4,
        "start_time": "2022-12-13T11:15:59.186Z"
      },
      {
        "duration": 189,
        "start_time": "2022-12-13T11:15:59.192Z"
      },
      {
        "duration": 23,
        "start_time": "2022-12-13T11:16:00.992Z"
      },
      {
        "duration": 13,
        "start_time": "2022-12-13T11:16:02.711Z"
      },
      {
        "duration": 5,
        "start_time": "2022-12-13T11:16:08.607Z"
      },
      {
        "duration": 125,
        "start_time": "2022-12-13T11:17:08.364Z"
      },
      {
        "duration": 3,
        "start_time": "2022-12-13T11:17:44.643Z"
      },
      {
        "duration": 3,
        "start_time": "2022-12-13T11:17:51.331Z"
      },
      {
        "duration": 42,
        "start_time": "2022-12-13T11:17:52.346Z"
      },
      {
        "duration": 17,
        "start_time": "2022-12-13T11:17:55.131Z"
      },
      {
        "duration": 12,
        "start_time": "2022-12-13T11:17:56.338Z"
      },
      {
        "duration": 5,
        "start_time": "2022-12-13T11:17:57.967Z"
      },
      {
        "duration": 7,
        "start_time": "2022-12-13T11:17:59.289Z"
      },
      {
        "duration": 41,
        "start_time": "2022-12-13T11:18:07.219Z"
      },
      {
        "duration": 47,
        "start_time": "2022-12-13T11:19:50.668Z"
      },
      {
        "duration": 43,
        "start_time": "2022-12-13T11:19:55.866Z"
      },
      {
        "duration": 4,
        "start_time": "2022-12-13T11:20:06.717Z"
      },
      {
        "duration": 59,
        "start_time": "2022-12-13T11:20:09.696Z"
      },
      {
        "duration": 4,
        "start_time": "2022-12-13T11:21:13.950Z"
      },
      {
        "duration": 47,
        "start_time": "2022-12-13T11:21:16.640Z"
      },
      {
        "duration": 67,
        "start_time": "2022-12-13T11:21:18.361Z"
      },
      {
        "duration": 1230,
        "start_time": "2022-12-13T11:21:24.836Z"
      },
      {
        "duration": 8,
        "start_time": "2022-12-13T11:21:39.999Z"
      },
      {
        "duration": 159,
        "start_time": "2022-12-13T11:21:47.778Z"
      },
      {
        "duration": 1517,
        "start_time": "2022-12-13T11:21:55.357Z"
      },
      {
        "duration": 6,
        "start_time": "2022-12-13T11:22:10.201Z"
      },
      {
        "duration": 129,
        "start_time": "2022-12-13T11:22:18.647Z"
      },
      {
        "duration": 4,
        "start_time": "2022-12-13T11:22:33.243Z"
      },
      {
        "duration": 13,
        "start_time": "2022-12-13T11:22:39.501Z"
      },
      {
        "duration": 5,
        "start_time": "2022-12-13T11:23:06.743Z"
      },
      {
        "duration": 10,
        "start_time": "2022-12-13T11:23:09.665Z"
      },
      {
        "duration": 8,
        "start_time": "2022-12-13T11:36:25.742Z"
      },
      {
        "duration": 128,
        "start_time": "2022-12-13T11:44:29.171Z"
      },
      {
        "duration": 14,
        "start_time": "2022-12-13T11:45:22.418Z"
      },
      {
        "duration": 892,
        "start_time": "2022-12-13T11:56:27.574Z"
      },
      {
        "duration": 17,
        "start_time": "2022-12-13T12:05:57.745Z"
      },
      {
        "duration": 801,
        "start_time": "2022-12-13T12:06:19.246Z"
      },
      {
        "duration": 12,
        "start_time": "2022-12-13T12:18:36.931Z"
      },
      {
        "duration": 21,
        "start_time": "2022-12-13T12:18:47.866Z"
      },
      {
        "duration": 905,
        "start_time": "2022-12-13T12:30:42.430Z"
      },
      {
        "duration": 25,
        "start_time": "2022-12-13T12:30:46.641Z"
      },
      {
        "duration": 5,
        "start_time": "2022-12-13T12:30:49.205Z"
      },
      {
        "duration": 8,
        "start_time": "2022-12-13T12:30:52.425Z"
      },
      {
        "duration": 3,
        "start_time": "2022-12-13T12:30:56.361Z"
      },
      {
        "duration": 4,
        "start_time": "2022-12-13T12:30:58.367Z"
      },
      {
        "duration": 4,
        "start_time": "2022-12-13T12:31:00.431Z"
      },
      {
        "duration": 6,
        "start_time": "2022-12-13T12:31:58.417Z"
      },
      {
        "duration": 10,
        "start_time": "2022-12-13T12:32:03.271Z"
      },
      {
        "duration": 4,
        "start_time": "2022-12-13T12:32:05.220Z"
      },
      {
        "duration": 4,
        "start_time": "2022-12-13T12:32:07.277Z"
      },
      {
        "duration": 3,
        "start_time": "2022-12-13T12:32:08.458Z"
      },
      {
        "duration": 50846,
        "start_time": "2022-12-13T12:38:12.380Z"
      },
      {
        "duration": 3,
        "start_time": "2022-12-13T12:40:39.632Z"
      },
      {
        "duration": 50,
        "start_time": "2022-12-13T12:40:41.681Z"
      },
      {
        "duration": 52,
        "start_time": "2022-12-13T12:45:45.927Z"
      },
      {
        "duration": 18,
        "start_time": "2022-12-13T12:50:37.875Z"
      },
      {
        "duration": 6,
        "start_time": "2022-12-13T12:51:16.890Z"
      },
      {
        "duration": 3,
        "start_time": "2022-12-13T12:51:17.899Z"
      },
      {
        "duration": 41,
        "start_time": "2022-12-13T12:51:18.656Z"
      },
      {
        "duration": 12,
        "start_time": "2022-12-13T12:51:20.671Z"
      },
      {
        "duration": 13,
        "start_time": "2022-12-13T12:51:21.710Z"
      },
      {
        "duration": 4,
        "start_time": "2022-12-13T12:51:23.223Z"
      },
      {
        "duration": 5,
        "start_time": "2022-12-13T12:51:24.257Z"
      },
      {
        "duration": 3,
        "start_time": "2022-12-13T12:51:24.964Z"
      },
      {
        "duration": 43,
        "start_time": "2022-12-13T12:51:25.694Z"
      },
      {
        "duration": 15,
        "start_time": "2022-12-13T12:51:26.509Z"
      },
      {
        "duration": 7,
        "start_time": "2022-12-13T12:51:28.344Z"
      },
      {
        "duration": 121,
        "start_time": "2022-12-13T12:51:29.163Z"
      },
      {
        "duration": 6,
        "start_time": "2022-12-13T12:51:30.191Z"
      },
      {
        "duration": 125,
        "start_time": "2022-12-13T12:51:31.328Z"
      },
      {
        "duration": 4,
        "start_time": "2022-12-13T12:51:32.030Z"
      },
      {
        "duration": 5,
        "start_time": "2022-12-13T12:51:33.532Z"
      },
      {
        "duration": 9,
        "start_time": "2022-12-13T12:51:34.284Z"
      },
      {
        "duration": 13,
        "start_time": "2022-12-13T12:51:35.000Z"
      },
      {
        "duration": 37,
        "start_time": "2022-12-13T12:51:37.253Z"
      },
      {
        "duration": 19,
        "start_time": "2022-12-13T12:51:38.276Z"
      },
      {
        "duration": 752,
        "start_time": "2022-12-13T12:51:39.054Z"
      },
      {
        "duration": 18,
        "start_time": "2022-12-13T12:51:41.864Z"
      },
      {
        "duration": 5,
        "start_time": "2022-12-13T12:51:44.321Z"
      },
      {
        "duration": 10,
        "start_time": "2022-12-13T12:51:48.626Z"
      },
      {
        "duration": 3,
        "start_time": "2022-12-13T12:51:55.275Z"
      },
      {
        "duration": 4,
        "start_time": "2022-12-13T12:51:56.519Z"
      },
      {
        "duration": 3,
        "start_time": "2022-12-13T12:51:57.460Z"
      },
      {
        "duration": 12,
        "start_time": "2022-12-13T12:51:58.922Z"
      },
      {
        "duration": 21,
        "start_time": "2022-12-13T12:52:45.759Z"
      },
      {
        "duration": 21,
        "start_time": "2022-12-13T13:01:57.802Z"
      },
      {
        "duration": 22,
        "start_time": "2022-12-13T13:02:42.714Z"
      },
      {
        "duration": 29,
        "start_time": "2022-12-13T13:03:34.851Z"
      },
      {
        "duration": 330,
        "start_time": "2022-12-13T13:09:47.723Z"
      },
      {
        "duration": 4,
        "start_time": "2022-12-13T13:10:37.100Z"
      },
      {
        "duration": 4,
        "start_time": "2022-12-13T13:10:37.698Z"
      },
      {
        "duration": 46,
        "start_time": "2022-12-13T13:10:38.097Z"
      },
      {
        "duration": 17,
        "start_time": "2022-12-13T13:10:39.146Z"
      },
      {
        "duration": 13,
        "start_time": "2022-12-13T13:10:39.722Z"
      },
      {
        "duration": 4,
        "start_time": "2022-12-13T13:10:40.361Z"
      },
      {
        "duration": 4,
        "start_time": "2022-12-13T13:10:40.873Z"
      },
      {
        "duration": 3,
        "start_time": "2022-12-13T13:10:41.461Z"
      },
      {
        "duration": 38,
        "start_time": "2022-12-13T13:10:42.309Z"
      },
      {
        "duration": 15,
        "start_time": "2022-12-13T13:10:43.024Z"
      },
      {
        "duration": 6,
        "start_time": "2022-12-13T13:10:44.354Z"
      },
      {
        "duration": 107,
        "start_time": "2022-12-13T13:10:44.896Z"
      },
      {
        "duration": 5,
        "start_time": "2022-12-13T13:10:45.380Z"
      },
      {
        "duration": 110,
        "start_time": "2022-12-13T13:10:45.894Z"
      },
      {
        "duration": 5,
        "start_time": "2022-12-13T13:10:46.402Z"
      },
      {
        "duration": 5,
        "start_time": "2022-12-13T13:10:47.546Z"
      },
      {
        "duration": 7,
        "start_time": "2022-12-13T13:10:48.407Z"
      },
      {
        "duration": 9,
        "start_time": "2022-12-13T13:10:49.790Z"
      },
      {
        "duration": 36,
        "start_time": "2022-12-13T13:10:52.469Z"
      },
      {
        "duration": 15,
        "start_time": "2022-12-13T13:10:53.207Z"
      },
      {
        "duration": 765,
        "start_time": "2022-12-13T13:10:53.980Z"
      },
      {
        "duration": 18,
        "start_time": "2022-12-13T13:10:56.344Z"
      },
      {
        "duration": 5,
        "start_time": "2022-12-13T13:10:59.696Z"
      },
      {
        "duration": 8,
        "start_time": "2022-12-13T13:11:01.455Z"
      },
      {
        "duration": 4,
        "start_time": "2022-12-13T13:11:07.497Z"
      },
      {
        "duration": 4,
        "start_time": "2022-12-13T13:11:08.178Z"
      },
      {
        "duration": 3,
        "start_time": "2022-12-13T13:11:08.865Z"
      },
      {
        "duration": 30,
        "start_time": "2022-12-13T13:11:10.060Z"
      },
      {
        "duration": 261,
        "start_time": "2022-12-13T13:11:13.437Z"
      },
      {
        "duration": 10,
        "start_time": "2022-12-13T13:14:21.945Z"
      },
      {
        "duration": 4,
        "start_time": "2022-12-13T13:14:51.817Z"
      },
      {
        "duration": 7,
        "start_time": "2022-12-13T13:14:54.009Z"
      },
      {
        "duration": 2,
        "start_time": "2022-12-13T13:14:54.430Z"
      },
      {
        "duration": 38,
        "start_time": "2022-12-13T13:14:54.830Z"
      },
      {
        "duration": 13,
        "start_time": "2022-12-13T13:14:55.646Z"
      },
      {
        "duration": 13,
        "start_time": "2022-12-13T13:14:55.911Z"
      },
      {
        "duration": 4,
        "start_time": "2022-12-13T13:14:56.365Z"
      },
      {
        "duration": 4,
        "start_time": "2022-12-13T13:14:56.818Z"
      },
      {
        "duration": 4,
        "start_time": "2022-12-13T13:14:57.287Z"
      },
      {
        "duration": 42,
        "start_time": "2022-12-13T13:14:57.649Z"
      },
      {
        "duration": 21,
        "start_time": "2022-12-13T13:14:58.200Z"
      },
      {
        "duration": 8,
        "start_time": "2022-12-13T13:14:59.139Z"
      },
      {
        "duration": 149,
        "start_time": "2022-12-13T13:14:59.643Z"
      },
      {
        "duration": 6,
        "start_time": "2022-12-13T13:14:59.946Z"
      },
      {
        "duration": 167,
        "start_time": "2022-12-13T13:15:00.460Z"
      },
      {
        "duration": 5,
        "start_time": "2022-12-13T13:15:00.970Z"
      },
      {
        "duration": 7,
        "start_time": "2022-12-13T13:15:02.100Z"
      },
      {
        "duration": 10,
        "start_time": "2022-12-13T13:15:02.870Z"
      },
      {
        "duration": 10,
        "start_time": "2022-12-13T13:15:03.530Z"
      },
      {
        "duration": 39,
        "start_time": "2022-12-13T13:15:05.169Z"
      },
      {
        "duration": 17,
        "start_time": "2022-12-13T13:15:06.847Z"
      },
      {
        "duration": 783,
        "start_time": "2022-12-13T13:15:07.584Z"
      },
      {
        "duration": 15,
        "start_time": "2022-12-13T13:15:10.312Z"
      },
      {
        "duration": 5,
        "start_time": "2022-12-13T13:15:11.564Z"
      },
      {
        "duration": 8,
        "start_time": "2022-12-13T13:15:12.828Z"
      },
      {
        "duration": 5,
        "start_time": "2022-12-13T13:15:13.881Z"
      },
      {
        "duration": 5,
        "start_time": "2022-12-13T13:15:14.600Z"
      },
      {
        "duration": 3,
        "start_time": "2022-12-13T13:15:15.046Z"
      },
      {
        "duration": 27,
        "start_time": "2022-12-13T13:15:15.818Z"
      },
      {
        "duration": 218,
        "start_time": "2022-12-13T13:15:16.535Z"
      },
      {
        "duration": 7,
        "start_time": "2022-12-13T13:15:21.472Z"
      },
      {
        "duration": 6,
        "start_time": "2022-12-13T13:19:32.124Z"
      },
      {
        "duration": 5,
        "start_time": "2022-12-13T13:27:38.430Z"
      },
      {
        "duration": 19,
        "start_time": "2022-12-13T13:51:22.488Z"
      },
      {
        "duration": 112,
        "start_time": "2022-12-13T13:51:25.377Z"
      },
      {
        "duration": 97,
        "start_time": "2022-12-13T13:58:15.488Z"
      },
      {
        "duration": 5,
        "start_time": "2022-12-13T13:59:05.716Z"
      },
      {
        "duration": 5,
        "start_time": "2022-12-13T13:59:07.328Z"
      },
      {
        "duration": 3,
        "start_time": "2022-12-13T13:59:07.665Z"
      },
      {
        "duration": 37,
        "start_time": "2022-12-13T13:59:08.138Z"
      },
      {
        "duration": 16,
        "start_time": "2022-12-13T13:59:08.676Z"
      },
      {
        "duration": 13,
        "start_time": "2022-12-13T13:59:08.944Z"
      },
      {
        "duration": 4,
        "start_time": "2022-12-13T13:59:09.239Z"
      },
      {
        "duration": 6,
        "start_time": "2022-12-13T13:59:09.499Z"
      },
      {
        "duration": 4,
        "start_time": "2022-12-13T13:59:09.767Z"
      },
      {
        "duration": 57,
        "start_time": "2022-12-13T13:59:10.270Z"
      },
      {
        "duration": 14,
        "start_time": "2022-12-13T13:59:10.532Z"
      },
      {
        "duration": 8,
        "start_time": "2022-12-13T13:59:11.294Z"
      },
      {
        "duration": 111,
        "start_time": "2022-12-13T13:59:11.620Z"
      },
      {
        "duration": 5,
        "start_time": "2022-12-13T13:59:11.939Z"
      },
      {
        "duration": 220,
        "start_time": "2022-12-13T13:59:12.226Z"
      },
      {
        "duration": 5,
        "start_time": "2022-12-13T13:59:12.503Z"
      },
      {
        "duration": 5,
        "start_time": "2022-12-13T13:59:13.052Z"
      },
      {
        "duration": 8,
        "start_time": "2022-12-13T13:59:13.490Z"
      },
      {
        "duration": 12,
        "start_time": "2022-12-13T13:59:13.803Z"
      },
      {
        "duration": 37,
        "start_time": "2022-12-13T13:59:14.691Z"
      },
      {
        "duration": 20,
        "start_time": "2022-12-13T13:59:14.981Z"
      },
      {
        "duration": 776,
        "start_time": "2022-12-13T13:59:15.267Z"
      },
      {
        "duration": 16,
        "start_time": "2022-12-13T13:59:16.044Z"
      },
      {
        "duration": 5,
        "start_time": "2022-12-13T13:59:16.517Z"
      },
      {
        "duration": 9,
        "start_time": "2022-12-13T13:59:17.444Z"
      },
      {
        "duration": 5,
        "start_time": "2022-12-13T13:59:18.496Z"
      },
      {
        "duration": 4,
        "start_time": "2022-12-13T13:59:20.108Z"
      },
      {
        "duration": 3,
        "start_time": "2022-12-13T13:59:20.845Z"
      },
      {
        "duration": 29,
        "start_time": "2022-12-13T13:59:21.591Z"
      },
      {
        "duration": 261,
        "start_time": "2022-12-13T13:59:23.817Z"
      },
      {
        "duration": 7,
        "start_time": "2022-12-13T13:59:25.093Z"
      },
      {
        "duration": 9,
        "start_time": "2022-12-13T13:59:26.293Z"
      },
      {
        "duration": 17,
        "start_time": "2022-12-13T13:59:28.370Z"
      },
      {
        "duration": 104,
        "start_time": "2022-12-13T13:59:28.973Z"
      },
      {
        "duration": 278,
        "start_time": "2022-12-13T13:59:31.102Z"
      },
      {
        "duration": 229,
        "start_time": "2022-12-13T14:02:19.654Z"
      },
      {
        "duration": 212,
        "start_time": "2022-12-13T14:08:39.694Z"
      },
      {
        "duration": 29,
        "start_time": "2022-12-13T14:13:10.451Z"
      },
      {
        "duration": 4,
        "start_time": "2022-12-13T14:13:41.591Z"
      },
      {
        "duration": 5,
        "start_time": "2022-12-13T14:13:43.308Z"
      },
      {
        "duration": 4,
        "start_time": "2022-12-13T14:13:43.680Z"
      },
      {
        "duration": 45,
        "start_time": "2022-12-13T14:13:43.952Z"
      },
      {
        "duration": 12,
        "start_time": "2022-12-13T14:13:44.436Z"
      },
      {
        "duration": 13,
        "start_time": "2022-12-13T14:13:44.906Z"
      },
      {
        "duration": 4,
        "start_time": "2022-12-13T14:13:45.232Z"
      },
      {
        "duration": 6,
        "start_time": "2022-12-13T14:13:45.496Z"
      },
      {
        "duration": 3,
        "start_time": "2022-12-13T14:13:45.852Z"
      },
      {
        "duration": 37,
        "start_time": "2022-12-13T14:13:46.131Z"
      },
      {
        "duration": 13,
        "start_time": "2022-12-13T14:13:46.721Z"
      },
      {
        "duration": 9,
        "start_time": "2022-12-13T14:13:47.084Z"
      },
      {
        "duration": 118,
        "start_time": "2022-12-13T14:13:47.714Z"
      },
      {
        "duration": 5,
        "start_time": "2022-12-13T14:13:48.061Z"
      },
      {
        "duration": 121,
        "start_time": "2022-12-13T14:13:48.324Z"
      },
      {
        "duration": 4,
        "start_time": "2022-12-13T14:13:48.611Z"
      },
      {
        "duration": 7,
        "start_time": "2022-12-13T14:13:49.199Z"
      },
      {
        "duration": 9,
        "start_time": "2022-12-13T14:13:49.580Z"
      },
      {
        "duration": 10,
        "start_time": "2022-12-13T14:13:50.142Z"
      },
      {
        "duration": 32,
        "start_time": "2022-12-13T14:13:51.209Z"
      },
      {
        "duration": 14,
        "start_time": "2022-12-13T14:13:51.521Z"
      },
      {
        "duration": 806,
        "start_time": "2022-12-13T14:13:51.793Z"
      },
      {
        "duration": 26,
        "start_time": "2022-12-13T14:13:52.706Z"
      },
      {
        "duration": 4,
        "start_time": "2022-12-13T14:13:53.437Z"
      },
      {
        "duration": 8,
        "start_time": "2022-12-13T14:13:54.349Z"
      },
      {
        "duration": 3,
        "start_time": "2022-12-13T14:13:55.226Z"
      },
      {
        "duration": 4,
        "start_time": "2022-12-13T14:13:55.508Z"
      },
      {
        "duration": 3,
        "start_time": "2022-12-13T14:13:55.749Z"
      },
      {
        "duration": 28,
        "start_time": "2022-12-13T14:13:56.024Z"
      },
      {
        "duration": 299,
        "start_time": "2022-12-13T14:13:58.155Z"
      },
      {
        "duration": 6,
        "start_time": "2022-12-13T14:13:59.558Z"
      },
      {
        "duration": 7,
        "start_time": "2022-12-13T14:14:00.450Z"
      },
      {
        "duration": 16,
        "start_time": "2022-12-13T14:14:01.808Z"
      },
      {
        "duration": 56,
        "start_time": "2022-12-13T14:14:02.352Z"
      },
      {
        "duration": 37,
        "start_time": "2022-12-13T14:14:03.943Z"
      },
      {
        "duration": 5,
        "start_time": "2022-12-13T14:14:59.066Z"
      },
      {
        "duration": 4,
        "start_time": "2022-12-13T14:15:00.756Z"
      },
      {
        "duration": 4,
        "start_time": "2022-12-13T14:15:00.993Z"
      },
      {
        "duration": 41,
        "start_time": "2022-12-13T14:15:01.204Z"
      },
      {
        "duration": 15,
        "start_time": "2022-12-13T14:15:01.782Z"
      },
      {
        "duration": 17,
        "start_time": "2022-12-13T14:15:01.980Z"
      },
      {
        "duration": 5,
        "start_time": "2022-12-13T14:15:02.192Z"
      },
      {
        "duration": 5,
        "start_time": "2022-12-13T14:15:02.380Z"
      },
      {
        "duration": 7,
        "start_time": "2022-12-13T14:15:02.579Z"
      },
      {
        "duration": 44,
        "start_time": "2022-12-13T14:15:02.781Z"
      },
      {
        "duration": 17,
        "start_time": "2022-12-13T14:15:02.979Z"
      },
      {
        "duration": 8,
        "start_time": "2022-12-13T14:15:03.378Z"
      },
      {
        "duration": 117,
        "start_time": "2022-12-13T14:15:03.578Z"
      },
      {
        "duration": 7,
        "start_time": "2022-12-13T14:15:03.800Z"
      },
      {
        "duration": 148,
        "start_time": "2022-12-13T14:15:04.008Z"
      },
      {
        "duration": 5,
        "start_time": "2022-12-13T14:15:04.251Z"
      },
      {
        "duration": 4,
        "start_time": "2022-12-13T14:15:04.658Z"
      },
      {
        "duration": 6,
        "start_time": "2022-12-13T14:15:04.861Z"
      },
      {
        "duration": 9,
        "start_time": "2022-12-13T14:15:05.056Z"
      },
      {
        "duration": 32,
        "start_time": "2022-12-13T14:15:06.535Z"
      },
      {
        "duration": 14,
        "start_time": "2022-12-13T14:15:06.935Z"
      },
      {
        "duration": 886,
        "start_time": "2022-12-13T14:15:07.157Z"
      },
      {
        "duration": 16,
        "start_time": "2022-12-13T14:15:08.045Z"
      },
      {
        "duration": 7,
        "start_time": "2022-12-13T14:15:08.076Z"
      },
      {
        "duration": 12,
        "start_time": "2022-12-13T14:15:08.592Z"
      },
      {
        "duration": 4,
        "start_time": "2022-12-13T14:15:09.070Z"
      },
      {
        "duration": 3,
        "start_time": "2022-12-13T14:15:09.320Z"
      },
      {
        "duration": 8,
        "start_time": "2022-12-13T14:15:09.595Z"
      },
      {
        "duration": 29,
        "start_time": "2022-12-13T14:15:10.009Z"
      },
      {
        "duration": 251,
        "start_time": "2022-12-13T14:15:11.206Z"
      },
      {
        "duration": 5,
        "start_time": "2022-12-13T14:15:12.071Z"
      },
      {
        "duration": 7,
        "start_time": "2022-12-13T14:15:13.020Z"
      },
      {
        "duration": 15,
        "start_time": "2022-12-13T14:15:14.649Z"
      },
      {
        "duration": 91,
        "start_time": "2022-12-13T14:15:15.191Z"
      },
      {
        "duration": 245,
        "start_time": "2022-12-13T14:15:16.736Z"
      },
      {
        "duration": 22,
        "start_time": "2022-12-13T14:17:43.194Z"
      },
      {
        "duration": 12,
        "start_time": "2022-12-13T14:24:50.309Z"
      },
      {
        "duration": 11,
        "start_time": "2022-12-13T14:25:15.459Z"
      },
      {
        "duration": 4,
        "start_time": "2022-12-13T14:25:29.126Z"
      },
      {
        "duration": 5,
        "start_time": "2022-12-13T14:26:00.748Z"
      },
      {
        "duration": 5,
        "start_time": "2022-12-13T14:26:02.747Z"
      },
      {
        "duration": 3,
        "start_time": "2022-12-13T14:26:03.049Z"
      },
      {
        "duration": 55,
        "start_time": "2022-12-13T14:26:03.274Z"
      },
      {
        "duration": 24,
        "start_time": "2022-12-13T14:26:03.674Z"
      },
      {
        "duration": 16,
        "start_time": "2022-12-13T14:26:04.061Z"
      },
      {
        "duration": 5,
        "start_time": "2022-12-13T14:26:04.331Z"
      },
      {
        "duration": 5,
        "start_time": "2022-12-13T14:26:04.568Z"
      },
      {
        "duration": 5,
        "start_time": "2022-12-13T14:26:04.780Z"
      },
      {
        "duration": 45,
        "start_time": "2022-12-13T14:26:04.994Z"
      },
      {
        "duration": 19,
        "start_time": "2022-12-13T14:26:05.394Z"
      },
      {
        "duration": 9,
        "start_time": "2022-12-13T14:26:05.878Z"
      },
      {
        "duration": 125,
        "start_time": "2022-12-13T14:26:06.111Z"
      },
      {
        "duration": 6,
        "start_time": "2022-12-13T14:26:06.328Z"
      },
      {
        "duration": 126,
        "start_time": "2022-12-13T14:26:06.546Z"
      },
      {
        "duration": 5,
        "start_time": "2022-12-13T14:26:06.774Z"
      },
      {
        "duration": 6,
        "start_time": "2022-12-13T14:26:07.217Z"
      },
      {
        "duration": 9,
        "start_time": "2022-12-13T14:26:07.446Z"
      },
      {
        "duration": 9,
        "start_time": "2022-12-13T14:26:07.696Z"
      },
      {
        "duration": 42,
        "start_time": "2022-12-13T14:26:08.373Z"
      },
      {
        "duration": 13,
        "start_time": "2022-12-13T14:26:08.610Z"
      },
      {
        "duration": 840,
        "start_time": "2022-12-13T14:26:08.898Z"
      },
      {
        "duration": 17,
        "start_time": "2022-12-13T14:26:09.740Z"
      },
      {
        "duration": 8,
        "start_time": "2022-12-13T14:26:10.007Z"
      },
      {
        "duration": 10,
        "start_time": "2022-12-13T14:26:10.503Z"
      },
      {
        "duration": 4,
        "start_time": "2022-12-13T14:26:10.962Z"
      },
      {
        "duration": 5,
        "start_time": "2022-12-13T14:26:11.207Z"
      },
      {
        "duration": 4,
        "start_time": "2022-12-13T14:26:11.449Z"
      },
      {
        "duration": 30,
        "start_time": "2022-12-13T14:26:11.715Z"
      },
      {
        "duration": 310,
        "start_time": "2022-12-13T14:26:13.868Z"
      },
      {
        "duration": 8,
        "start_time": "2022-12-13T14:26:15.268Z"
      },
      {
        "duration": 6,
        "start_time": "2022-12-13T14:26:16.254Z"
      },
      {
        "duration": 17,
        "start_time": "2022-12-13T14:26:17.008Z"
      },
      {
        "duration": 64,
        "start_time": "2022-12-13T14:26:17.252Z"
      },
      {
        "duration": 316,
        "start_time": "2022-12-13T14:26:19.804Z"
      },
      {
        "duration": 10,
        "start_time": "2022-12-13T14:26:20.766Z"
      },
      {
        "duration": 38,
        "start_time": "2022-12-13T14:26:22.822Z"
      },
      {
        "duration": 44,
        "start_time": "2022-12-13T14:27:12.208Z"
      },
      {
        "duration": 897,
        "start_time": "2022-12-13T14:29:55.093Z"
      },
      {
        "duration": 62,
        "start_time": "2022-12-13T14:31:11.199Z"
      },
      {
        "duration": 136,
        "start_time": "2022-12-13T14:32:43.446Z"
      },
      {
        "duration": 126,
        "start_time": "2022-12-13T14:33:14.436Z"
      },
      {
        "duration": 10,
        "start_time": "2022-12-13T14:34:26.754Z"
      },
      {
        "duration": 26,
        "start_time": "2022-12-13T14:35:50.178Z"
      },
      {
        "duration": 68,
        "start_time": "2022-12-13T14:35:52.896Z"
      },
      {
        "duration": 142,
        "start_time": "2022-12-13T14:35:55.508Z"
      },
      {
        "duration": 15,
        "start_time": "2022-12-13T14:35:57.277Z"
      },
      {
        "duration": 35,
        "start_time": "2022-12-13T14:37:10.540Z"
      },
      {
        "duration": 936,
        "start_time": "2022-12-13T14:37:43.719Z"
      },
      {
        "duration": 56,
        "start_time": "2022-12-13T14:40:10.412Z"
      },
      {
        "duration": 1366,
        "start_time": "2022-12-13T14:40:25.823Z"
      },
      {
        "duration": 180,
        "start_time": "2022-12-13T14:41:43.723Z"
      },
      {
        "duration": 58,
        "start_time": "2022-12-13T14:42:05.832Z"
      },
      {
        "duration": 60,
        "start_time": "2022-12-13T14:44:54.769Z"
      },
      {
        "duration": 93,
        "start_time": "2022-12-13T14:48:26.959Z"
      },
      {
        "duration": 3066,
        "start_time": "2022-12-13T14:48:35.903Z"
      },
      {
        "duration": 77,
        "start_time": "2022-12-13T14:52:15.968Z"
      },
      {
        "duration": 74,
        "start_time": "2022-12-13T14:53:32.294Z"
      },
      {
        "duration": 77,
        "start_time": "2022-12-13T14:55:17.010Z"
      },
      {
        "duration": 76,
        "start_time": "2022-12-13T14:56:13.220Z"
      },
      {
        "duration": 1559,
        "start_time": "2022-12-14T01:42:14.390Z"
      },
      {
        "duration": 3,
        "start_time": "2022-12-14T01:42:15.951Z"
      },
      {
        "duration": 100,
        "start_time": "2022-12-14T01:42:15.955Z"
      },
      {
        "duration": 22,
        "start_time": "2022-12-14T01:42:16.057Z"
      },
      {
        "duration": 12,
        "start_time": "2022-12-14T01:42:16.081Z"
      },
      {
        "duration": 6,
        "start_time": "2022-12-14T01:42:16.220Z"
      },
      {
        "duration": 4,
        "start_time": "2022-12-14T01:42:16.500Z"
      },
      {
        "duration": 4,
        "start_time": "2022-12-14T01:42:16.784Z"
      },
      {
        "duration": 40,
        "start_time": "2022-12-14T01:42:17.189Z"
      },
      {
        "duration": 49,
        "start_time": "2022-12-14T01:42:17.440Z"
      },
      {
        "duration": 6,
        "start_time": "2022-12-14T01:42:18.452Z"
      },
      {
        "duration": 135,
        "start_time": "2022-12-14T01:42:18.929Z"
      },
      {
        "duration": 5,
        "start_time": "2022-12-14T01:42:19.436Z"
      },
      {
        "duration": 177,
        "start_time": "2022-12-14T01:42:19.990Z"
      },
      {
        "duration": 3,
        "start_time": "2022-12-14T01:42:20.510Z"
      },
      {
        "duration": 5,
        "start_time": "2022-12-14T01:42:21.506Z"
      },
      {
        "duration": 8,
        "start_time": "2022-12-14T01:42:22.207Z"
      },
      {
        "duration": 10,
        "start_time": "2022-12-14T01:42:22.849Z"
      },
      {
        "duration": 33,
        "start_time": "2022-12-14T01:42:24.551Z"
      },
      {
        "duration": 13,
        "start_time": "2022-12-14T01:42:25.131Z"
      },
      {
        "duration": 820,
        "start_time": "2022-12-14T01:42:25.825Z"
      },
      {
        "duration": 17,
        "start_time": "2022-12-14T01:42:28.646Z"
      },
      {
        "duration": 6,
        "start_time": "2022-12-14T01:42:29.968Z"
      },
      {
        "duration": 8,
        "start_time": "2022-12-14T01:42:31.300Z"
      },
      {
        "duration": 4,
        "start_time": "2022-12-14T01:42:32.464Z"
      },
      {
        "duration": 3,
        "start_time": "2022-12-14T01:42:33.188Z"
      },
      {
        "duration": 3,
        "start_time": "2022-12-14T01:42:34.052Z"
      },
      {
        "duration": 28,
        "start_time": "2022-12-14T01:42:34.755Z"
      },
      {
        "duration": 2490,
        "start_time": "2022-12-14T01:42:36.526Z"
      },
      {
        "duration": 88,
        "start_time": "2022-12-14T01:45:29.719Z"
      },
      {
        "duration": 56,
        "start_time": "2022-12-14T01:46:13.762Z"
      },
      {
        "duration": 124,
        "start_time": "2022-12-14T01:48:17.498Z"
      },
      {
        "duration": 6,
        "start_time": "2022-12-14T01:48:54.777Z"
      },
      {
        "duration": 9,
        "start_time": "2022-12-14T01:49:47.541Z"
      },
      {
        "duration": 7,
        "start_time": "2022-12-14T01:49:54.670Z"
      },
      {
        "duration": 153,
        "start_time": "2022-12-14T01:54:21.349Z"
      },
      {
        "duration": 55,
        "start_time": "2022-12-14T01:54:49.146Z"
      },
      {
        "duration": 92,
        "start_time": "2022-12-14T01:56:03.106Z"
      },
      {
        "duration": 5,
        "start_time": "2022-12-14T01:57:27.593Z"
      },
      {
        "duration": 68,
        "start_time": "2022-12-14T01:57:47.333Z"
      },
      {
        "duration": 6,
        "start_time": "2022-12-14T01:58:34.566Z"
      },
      {
        "duration": 97,
        "start_time": "2022-12-14T02:00:20.017Z"
      },
      {
        "duration": 2610,
        "start_time": "2022-12-14T02:00:29.427Z"
      },
      {
        "duration": 98,
        "start_time": "2022-12-14T02:02:40.057Z"
      },
      {
        "duration": 6,
        "start_time": "2022-12-14T02:03:40.808Z"
      },
      {
        "duration": 8,
        "start_time": "2022-12-14T02:04:29.331Z"
      },
      {
        "duration": 17,
        "start_time": "2022-12-14T02:12:39.085Z"
      },
      {
        "duration": 45,
        "start_time": "2022-12-14T02:13:58.591Z"
      },
      {
        "duration": 64,
        "start_time": "2022-12-14T02:14:07.525Z"
      },
      {
        "duration": 10,
        "start_time": "2022-12-14T02:14:13.539Z"
      },
      {
        "duration": 48,
        "start_time": "2022-12-14T02:14:47.585Z"
      },
      {
        "duration": 45,
        "start_time": "2022-12-14T02:14:56.971Z"
      },
      {
        "duration": 445,
        "start_time": "2022-12-14T02:15:39.290Z"
      },
      {
        "duration": 116,
        "start_time": "2022-12-14T02:15:51.970Z"
      },
      {
        "duration": 5,
        "start_time": "2022-12-14T02:15:54.927Z"
      },
      {
        "duration": 6,
        "start_time": "2022-12-14T02:15:56.454Z"
      },
      {
        "duration": 2719,
        "start_time": "2022-12-14T02:16:11.595Z"
      },
      {
        "duration": 2647,
        "start_time": "2022-12-14T02:16:20.774Z"
      },
      {
        "duration": 24652,
        "start_time": "2022-12-14T02:16:33.794Z"
      },
      {
        "duration": 100,
        "start_time": "2022-12-14T02:17:54.757Z"
      },
      {
        "duration": 6,
        "start_time": "2022-12-14T02:17:57.641Z"
      },
      {
        "duration": 6,
        "start_time": "2022-12-14T02:18:00.106Z"
      },
      {
        "duration": 19,
        "start_time": "2022-12-14T02:18:22.762Z"
      },
      {
        "duration": 140,
        "start_time": "2022-12-14T02:18:28.275Z"
      },
      {
        "duration": 222,
        "start_time": "2022-12-14T02:19:58.479Z"
      },
      {
        "duration": 13,
        "start_time": "2022-12-14T02:20:35.143Z"
      },
      {
        "duration": 10,
        "start_time": "2022-12-14T02:21:01.751Z"
      },
      {
        "duration": 94,
        "start_time": "2022-12-14T02:21:49.227Z"
      },
      {
        "duration": 62,
        "start_time": "2022-12-14T02:24:20.767Z"
      },
      {
        "duration": 57,
        "start_time": "2022-12-14T02:25:00.614Z"
      },
      {
        "duration": 56,
        "start_time": "2022-12-14T02:28:04.382Z"
      },
      {
        "duration": 40,
        "start_time": "2022-12-14T02:29:02.627Z"
      },
      {
        "duration": 112,
        "start_time": "2022-12-14T02:29:58.647Z"
      },
      {
        "duration": 8,
        "start_time": "2022-12-14T02:30:41.159Z"
      },
      {
        "duration": 721,
        "start_time": "2022-12-14T02:32:57.196Z"
      },
      {
        "duration": 120,
        "start_time": "2022-12-14T02:33:14.482Z"
      },
      {
        "duration": 106,
        "start_time": "2022-12-14T02:33:57.891Z"
      },
      {
        "duration": 128,
        "start_time": "2022-12-14T02:34:54.680Z"
      },
      {
        "duration": 129,
        "start_time": "2022-12-14T02:35:42.558Z"
      },
      {
        "duration": 14,
        "start_time": "2022-12-14T02:36:26.299Z"
      },
      {
        "duration": 6,
        "start_time": "2022-12-14T02:37:21.706Z"
      },
      {
        "duration": 3,
        "start_time": "2022-12-14T02:37:23.220Z"
      },
      {
        "duration": 40,
        "start_time": "2022-12-14T02:37:24.014Z"
      },
      {
        "duration": 13,
        "start_time": "2022-12-14T02:37:25.658Z"
      },
      {
        "duration": 12,
        "start_time": "2022-12-14T02:37:26.758Z"
      },
      {
        "duration": 3,
        "start_time": "2022-12-14T02:37:27.656Z"
      },
      {
        "duration": 5,
        "start_time": "2022-12-14T02:37:28.908Z"
      },
      {
        "duration": 3,
        "start_time": "2022-12-14T02:37:30.035Z"
      },
      {
        "duration": 40,
        "start_time": "2022-12-14T02:37:30.868Z"
      },
      {
        "duration": 16,
        "start_time": "2022-12-14T02:37:32.068Z"
      },
      {
        "duration": 6,
        "start_time": "2022-12-14T02:37:34.244Z"
      },
      {
        "duration": 106,
        "start_time": "2022-12-14T02:37:35.045Z"
      },
      {
        "duration": 5,
        "start_time": "2022-12-14T02:37:35.905Z"
      },
      {
        "duration": 196,
        "start_time": "2022-12-14T02:37:36.639Z"
      },
      {
        "duration": 4,
        "start_time": "2022-12-14T02:37:37.512Z"
      },
      {
        "duration": 5,
        "start_time": "2022-12-14T02:37:39.347Z"
      },
      {
        "duration": 7,
        "start_time": "2022-12-14T02:37:40.186Z"
      },
      {
        "duration": 10,
        "start_time": "2022-12-14T02:37:40.882Z"
      },
      {
        "duration": 35,
        "start_time": "2022-12-14T02:37:44.626Z"
      },
      {
        "duration": 15,
        "start_time": "2022-12-14T02:37:45.778Z"
      },
      {
        "duration": 721,
        "start_time": "2022-12-14T02:37:46.579Z"
      },
      {
        "duration": 17,
        "start_time": "2022-12-14T02:37:49.457Z"
      },
      {
        "duration": 5,
        "start_time": "2022-12-14T02:37:50.994Z"
      },
      {
        "duration": 9,
        "start_time": "2022-12-14T02:37:56.682Z"
      },
      {
        "duration": 4,
        "start_time": "2022-12-14T02:37:57.772Z"
      },
      {
        "duration": 4,
        "start_time": "2022-12-14T02:37:58.447Z"
      },
      {
        "duration": 3,
        "start_time": "2022-12-14T02:37:59.258Z"
      },
      {
        "duration": 30,
        "start_time": "2022-12-14T02:37:59.894Z"
      },
      {
        "duration": 1137,
        "start_time": "2022-12-14T02:38:03.295Z"
      },
      {
        "duration": 94,
        "start_time": "2022-12-14T02:38:12.629Z"
      },
      {
        "duration": 7,
        "start_time": "2022-12-14T02:38:15.206Z"
      },
      {
        "duration": 5,
        "start_time": "2022-12-14T02:38:18.079Z"
      },
      {
        "duration": 8,
        "start_time": "2022-12-14T02:38:50.846Z"
      },
      {
        "duration": 1336,
        "start_time": "2022-12-14T02:39:04.800Z"
      },
      {
        "duration": 3,
        "start_time": "2022-12-14T02:39:06.778Z"
      },
      {
        "duration": 42,
        "start_time": "2022-12-14T02:39:07.277Z"
      },
      {
        "duration": 16,
        "start_time": "2022-12-14T02:39:08.427Z"
      },
      {
        "duration": 13,
        "start_time": "2022-12-14T02:39:09.579Z"
      },
      {
        "duration": 4,
        "start_time": "2022-12-14T02:39:12.716Z"
      },
      {
        "duration": 4,
        "start_time": "2022-12-14T02:39:13.373Z"
      },
      {
        "duration": 3,
        "start_time": "2022-12-14T02:39:13.981Z"
      },
      {
        "duration": 54,
        "start_time": "2022-12-14T02:39:14.850Z"
      },
      {
        "duration": 66,
        "start_time": "2022-12-14T02:39:15.686Z"
      },
      {
        "duration": 8,
        "start_time": "2022-12-14T02:39:17.080Z"
      },
      {
        "duration": 128,
        "start_time": "2022-12-14T02:39:17.787Z"
      },
      {
        "duration": 5,
        "start_time": "2022-12-14T02:39:18.442Z"
      },
      {
        "duration": 124,
        "start_time": "2022-12-14T02:39:19.026Z"
      },
      {
        "duration": 5,
        "start_time": "2022-12-14T02:39:19.648Z"
      },
      {
        "duration": 5,
        "start_time": "2022-12-14T02:39:21.121Z"
      },
      {
        "duration": 10,
        "start_time": "2022-12-14T02:39:21.912Z"
      },
      {
        "duration": 9,
        "start_time": "2022-12-14T02:39:22.545Z"
      },
      {
        "duration": 95,
        "start_time": "2022-12-14T02:39:24.427Z"
      },
      {
        "duration": 14,
        "start_time": "2022-12-14T02:39:25.085Z"
      },
      {
        "duration": 824,
        "start_time": "2022-12-14T02:39:25.724Z"
      },
      {
        "duration": 19,
        "start_time": "2022-12-14T02:39:28.222Z"
      },
      {
        "duration": 5,
        "start_time": "2022-12-14T02:39:29.752Z"
      },
      {
        "duration": 10,
        "start_time": "2022-12-14T02:39:33.108Z"
      },
      {
        "duration": 3,
        "start_time": "2022-12-14T02:39:35.214Z"
      },
      {
        "duration": 4,
        "start_time": "2022-12-14T02:39:35.781Z"
      },
      {
        "duration": 4,
        "start_time": "2022-12-14T02:39:36.300Z"
      },
      {
        "duration": 41,
        "start_time": "2022-12-14T02:39:36.808Z"
      },
      {
        "duration": 5437,
        "start_time": "2022-12-14T02:39:39.284Z"
      },
      {
        "duration": 2122,
        "start_time": "2022-12-14T02:40:05.695Z"
      },
      {
        "duration": 89,
        "start_time": "2022-12-14T02:40:13.167Z"
      },
      {
        "duration": 6,
        "start_time": "2022-12-14T02:40:15.503Z"
      },
      {
        "duration": 8,
        "start_time": "2022-12-14T02:40:17.153Z"
      },
      {
        "duration": 455,
        "start_time": "2022-12-14T02:41:08.734Z"
      },
      {
        "duration": 106,
        "start_time": "2022-12-14T02:41:14.348Z"
      },
      {
        "duration": 6,
        "start_time": "2022-12-14T02:41:16.810Z"
      },
      {
        "duration": 6,
        "start_time": "2022-12-14T02:41:20.731Z"
      },
      {
        "duration": 24733,
        "start_time": "2022-12-14T02:41:40.168Z"
      },
      {
        "duration": 24782,
        "start_time": "2022-12-14T02:42:41.932Z"
      },
      {
        "duration": 86,
        "start_time": "2022-12-14T02:43:06.716Z"
      },
      {
        "duration": 5,
        "start_time": "2022-12-14T02:43:06.816Z"
      },
      {
        "duration": 6,
        "start_time": "2022-12-14T02:52:10.748Z"
      },
      {
        "duration": 101,
        "start_time": "2022-12-14T02:52:24.293Z"
      },
      {
        "duration": 5,
        "start_time": "2022-12-14T02:52:29.458Z"
      },
      {
        "duration": 5,
        "start_time": "2022-12-14T02:52:35.931Z"
      },
      {
        "duration": 16,
        "start_time": "2022-12-14T02:53:06.105Z"
      },
      {
        "duration": 1033,
        "start_time": "2022-12-14T02:53:08.883Z"
      },
      {
        "duration": 265,
        "start_time": "2022-12-14T02:53:13.132Z"
      },
      {
        "duration": 23,
        "start_time": "2022-12-14T02:53:15.904Z"
      },
      {
        "duration": 39,
        "start_time": "2022-12-14T02:53:19.122Z"
      },
      {
        "duration": 115,
        "start_time": "2022-12-14T02:53:22.143Z"
      },
      {
        "duration": 9,
        "start_time": "2022-12-14T02:53:23.522Z"
      },
      {
        "duration": 232,
        "start_time": "2022-12-14T02:53:29.609Z"
      },
      {
        "duration": 127,
        "start_time": "2022-12-14T02:53:35.586Z"
      },
      {
        "duration": 15,
        "start_time": "2022-12-14T02:53:37.441Z"
      },
      {
        "duration": 1668,
        "start_time": "2022-12-18T14:05:12.443Z"
      },
      {
        "duration": 3,
        "start_time": "2022-12-18T14:05:16.826Z"
      },
      {
        "duration": 91,
        "start_time": "2022-12-18T14:05:18.748Z"
      },
      {
        "duration": 18,
        "start_time": "2022-12-18T14:05:20.814Z"
      },
      {
        "duration": 14,
        "start_time": "2022-12-18T14:05:22.455Z"
      },
      {
        "duration": 4,
        "start_time": "2022-12-18T14:05:24.784Z"
      },
      {
        "duration": 5,
        "start_time": "2022-12-18T14:05:25.951Z"
      },
      {
        "duration": 3,
        "start_time": "2022-12-18T14:05:29.015Z"
      },
      {
        "duration": 41,
        "start_time": "2022-12-18T14:05:30.368Z"
      },
      {
        "duration": 69,
        "start_time": "2022-12-18T14:05:32.214Z"
      },
      {
        "duration": 7,
        "start_time": "2022-12-18T14:05:35.227Z"
      },
      {
        "duration": 137,
        "start_time": "2022-12-18T14:05:36.647Z"
      },
      {
        "duration": 5,
        "start_time": "2022-12-18T14:05:37.524Z"
      },
      {
        "duration": 131,
        "start_time": "2022-12-18T14:05:38.606Z"
      },
      {
        "duration": 4,
        "start_time": "2022-12-18T14:05:39.957Z"
      },
      {
        "duration": 6,
        "start_time": "2022-12-18T14:05:41.977Z"
      },
      {
        "duration": 7,
        "start_time": "2022-12-18T14:05:42.987Z"
      },
      {
        "duration": 10,
        "start_time": "2022-12-18T14:05:44.660Z"
      },
      {
        "duration": 115,
        "start_time": "2022-12-18T14:05:49.498Z"
      },
      {
        "duration": 15,
        "start_time": "2022-12-18T14:05:53.535Z"
      },
      {
        "duration": 949,
        "start_time": "2022-12-18T14:05:55.887Z"
      },
      {
        "duration": 1542,
        "start_time": "2022-12-19T01:31:33.210Z"
      },
      {
        "duration": 3,
        "start_time": "2022-12-19T01:31:38.024Z"
      },
      {
        "duration": 88,
        "start_time": "2022-12-19T01:31:39.196Z"
      },
      {
        "duration": 16,
        "start_time": "2022-12-19T01:31:41.001Z"
      },
      {
        "duration": 13,
        "start_time": "2022-12-19T01:31:42.170Z"
      },
      {
        "duration": 4,
        "start_time": "2022-12-19T01:31:43.069Z"
      },
      {
        "duration": 5,
        "start_time": "2022-12-19T01:31:43.926Z"
      },
      {
        "duration": 3,
        "start_time": "2022-12-19T01:31:48.549Z"
      },
      {
        "duration": 38,
        "start_time": "2022-12-19T01:31:49.535Z"
      },
      {
        "duration": 48,
        "start_time": "2022-12-19T01:31:51.225Z"
      },
      {
        "duration": 7,
        "start_time": "2022-12-19T01:31:56.144Z"
      },
      {
        "duration": 123,
        "start_time": "2022-12-19T01:31:56.915Z"
      },
      {
        "duration": 5,
        "start_time": "2022-12-19T01:31:57.618Z"
      },
      {
        "duration": 124,
        "start_time": "2022-12-19T01:31:58.404Z"
      },
      {
        "duration": 4,
        "start_time": "2022-12-19T01:31:59.191Z"
      },
      {
        "duration": 6,
        "start_time": "2022-12-19T01:32:00.723Z"
      },
      {
        "duration": 6,
        "start_time": "2022-12-19T01:32:01.482Z"
      },
      {
        "duration": 10,
        "start_time": "2022-12-19T01:32:02.126Z"
      },
      {
        "duration": 107,
        "start_time": "2022-12-19T01:32:09.097Z"
      },
      {
        "duration": 13,
        "start_time": "2022-12-19T01:32:10.944Z"
      },
      {
        "duration": 785,
        "start_time": "2022-12-19T01:32:12.610Z"
      },
      {
        "duration": 17,
        "start_time": "2022-12-19T01:32:15.748Z"
      },
      {
        "duration": 116,
        "start_time": "2022-12-19T01:37:21.850Z"
      },
      {
        "duration": 7,
        "start_time": "2022-12-19T01:37:51.635Z"
      },
      {
        "duration": 3,
        "start_time": "2022-12-19T01:37:52.357Z"
      },
      {
        "duration": 46,
        "start_time": "2022-12-19T01:37:52.988Z"
      },
      {
        "duration": 16,
        "start_time": "2022-12-19T01:37:54.351Z"
      },
      {
        "duration": 16,
        "start_time": "2022-12-19T01:37:55.048Z"
      },
      {
        "duration": 4,
        "start_time": "2022-12-19T01:37:55.805Z"
      },
      {
        "duration": 6,
        "start_time": "2022-12-19T01:37:56.636Z"
      },
      {
        "duration": 3,
        "start_time": "2022-12-19T01:37:57.429Z"
      },
      {
        "duration": 41,
        "start_time": "2022-12-19T01:37:58.576Z"
      },
      {
        "duration": 14,
        "start_time": "2022-12-19T01:37:59.400Z"
      },
      {
        "duration": 7,
        "start_time": "2022-12-19T01:38:00.995Z"
      },
      {
        "duration": 113,
        "start_time": "2022-12-19T01:38:01.818Z"
      },
      {
        "duration": 5,
        "start_time": "2022-12-19T01:38:02.585Z"
      },
      {
        "duration": 113,
        "start_time": "2022-12-19T01:38:03.933Z"
      },
      {
        "duration": 4,
        "start_time": "2022-12-19T01:38:04.759Z"
      },
      {
        "duration": 5,
        "start_time": "2022-12-19T01:38:06.702Z"
      },
      {
        "duration": 9,
        "start_time": "2022-12-19T01:38:16.616Z"
      },
      {
        "duration": 13,
        "start_time": "2022-12-19T01:38:23.589Z"
      },
      {
        "duration": 13,
        "start_time": "2022-12-19T01:38:38.406Z"
      },
      {
        "duration": 5,
        "start_time": "2022-12-19T01:38:49.253Z"
      },
      {
        "duration": 3,
        "start_time": "2022-12-19T01:38:50.076Z"
      },
      {
        "duration": 39,
        "start_time": "2022-12-19T01:38:50.916Z"
      },
      {
        "duration": 14,
        "start_time": "2022-12-19T01:38:52.442Z"
      },
      {
        "duration": 12,
        "start_time": "2022-12-19T01:38:53.211Z"
      },
      {
        "duration": 4,
        "start_time": "2022-12-19T01:38:54.025Z"
      },
      {
        "duration": 6,
        "start_time": "2022-12-19T01:38:54.892Z"
      },
      {
        "duration": 3,
        "start_time": "2022-12-19T01:38:55.747Z"
      },
      {
        "duration": 40,
        "start_time": "2022-12-19T01:38:56.479Z"
      },
      {
        "duration": 14,
        "start_time": "2022-12-19T01:38:57.536Z"
      },
      {
        "duration": 7,
        "start_time": "2022-12-19T01:38:58.967Z"
      },
      {
        "duration": 107,
        "start_time": "2022-12-19T01:38:59.748Z"
      },
      {
        "duration": 5,
        "start_time": "2022-12-19T01:39:00.547Z"
      },
      {
        "duration": 116,
        "start_time": "2022-12-19T01:39:01.375Z"
      },
      {
        "duration": 4,
        "start_time": "2022-12-19T01:39:02.468Z"
      },
      {
        "duration": 6,
        "start_time": "2022-12-19T01:39:04.207Z"
      },
      {
        "duration": 9,
        "start_time": "2022-12-19T01:39:10.391Z"
      },
      {
        "duration": 12,
        "start_time": "2022-12-19T01:39:12.988Z"
      },
      {
        "duration": 33,
        "start_time": "2022-12-19T01:39:17.802Z"
      },
      {
        "duration": 31,
        "start_time": "2022-12-19T01:39:47.935Z"
      },
      {
        "duration": 13,
        "start_time": "2022-12-19T01:39:49.085Z"
      },
      {
        "duration": 694,
        "start_time": "2022-12-19T01:39:49.898Z"
      },
      {
        "duration": 18,
        "start_time": "2022-12-19T01:40:39.852Z"
      },
      {
        "duration": 16,
        "start_time": "2022-12-19T01:44:21.313Z"
      },
      {
        "duration": 6,
        "start_time": "2022-12-19T01:44:23.592Z"
      },
      {
        "duration": 8,
        "start_time": "2022-12-19T01:44:24.936Z"
      },
      {
        "duration": 3,
        "start_time": "2022-12-19T01:44:26.601Z"
      },
      {
        "duration": 3,
        "start_time": "2022-12-19T01:44:27.346Z"
      },
      {
        "duration": 3,
        "start_time": "2022-12-19T01:44:28.074Z"
      },
      {
        "duration": 30,
        "start_time": "2022-12-19T01:44:30.321Z"
      },
      {
        "duration": 26,
        "start_time": "2022-12-19T01:45:23.435Z"
      },
      {
        "duration": 1442,
        "start_time": "2022-12-19T01:46:33.784Z"
      },
      {
        "duration": 1328,
        "start_time": "2022-12-19T01:48:48.301Z"
      },
      {
        "duration": 107,
        "start_time": "2022-12-19T01:49:32.017Z"
      },
      {
        "duration": 93,
        "start_time": "2022-12-19T01:49:49.753Z"
      },
      {
        "duration": 6,
        "start_time": "2022-12-19T01:49:52.379Z"
      },
      {
        "duration": 9,
        "start_time": "2022-12-19T01:49:56.317Z"
      },
      {
        "duration": 440,
        "start_time": "2022-12-19T01:50:09.830Z"
      },
      {
        "duration": 117,
        "start_time": "2022-12-19T01:50:14.016Z"
      },
      {
        "duration": 5,
        "start_time": "2022-12-19T01:50:16.814Z"
      },
      {
        "duration": 7,
        "start_time": "2022-12-19T01:50:18.910Z"
      },
      {
        "duration": 6,
        "start_time": "2022-12-19T01:52:48.738Z"
      },
      {
        "duration": 1411,
        "start_time": "2022-12-19T02:01:20.090Z"
      },
      {
        "duration": 3,
        "start_time": "2022-12-19T02:01:21.503Z"
      },
      {
        "duration": 45,
        "start_time": "2022-12-19T02:01:21.507Z"
      },
      {
        "duration": 16,
        "start_time": "2022-12-19T02:01:22.508Z"
      },
      {
        "duration": 15,
        "start_time": "2022-12-19T02:01:23.618Z"
      },
      {
        "duration": 4,
        "start_time": "2022-12-19T02:01:24.449Z"
      },
      {
        "duration": 5,
        "start_time": "2022-12-19T02:01:25.060Z"
      },
      {
        "duration": 3,
        "start_time": "2022-12-19T02:01:25.664Z"
      },
      {
        "duration": 46,
        "start_time": "2022-12-19T02:01:26.240Z"
      },
      {
        "duration": 50,
        "start_time": "2022-12-19T02:01:26.810Z"
      },
      {
        "duration": 6,
        "start_time": "2022-12-19T02:01:28.121Z"
      },
      {
        "duration": 115,
        "start_time": "2022-12-19T02:01:28.717Z"
      },
      {
        "duration": 5,
        "start_time": "2022-12-19T02:01:29.350Z"
      },
      {
        "duration": 109,
        "start_time": "2022-12-19T02:01:29.918Z"
      },
      {
        "duration": 4,
        "start_time": "2022-12-19T02:01:30.658Z"
      },
      {
        "duration": 5,
        "start_time": "2022-12-19T02:01:31.771Z"
      },
      {
        "duration": 9,
        "start_time": "2022-12-19T02:01:32.460Z"
      },
      {
        "duration": 10,
        "start_time": "2022-12-19T02:01:33.084Z"
      },
      {
        "duration": 97,
        "start_time": "2022-12-19T02:01:34.732Z"
      },
      {
        "duration": 12,
        "start_time": "2022-12-19T02:01:35.284Z"
      },
      {
        "duration": 796,
        "start_time": "2022-12-19T02:01:35.896Z"
      },
      {
        "duration": 17,
        "start_time": "2022-12-19T02:01:38.313Z"
      },
      {
        "duration": 5,
        "start_time": "2022-12-19T02:01:40.723Z"
      },
      {
        "duration": 9,
        "start_time": "2022-12-19T02:01:46.978Z"
      },
      {
        "duration": 3,
        "start_time": "2022-12-19T02:01:48.204Z"
      },
      {
        "duration": 4,
        "start_time": "2022-12-19T02:01:48.672Z"
      },
      {
        "duration": 3,
        "start_time": "2022-12-19T02:01:49.170Z"
      },
      {
        "duration": 26,
        "start_time": "2022-12-19T02:01:51.723Z"
      },
      {
        "duration": 1609,
        "start_time": "2022-12-19T02:01:54.220Z"
      },
      {
        "duration": 85,
        "start_time": "2022-12-19T02:01:59.325Z"
      },
      {
        "duration": 4,
        "start_time": "2022-12-19T02:02:00.606Z"
      },
      {
        "duration": 5,
        "start_time": "2022-12-19T02:02:01.853Z"
      },
      {
        "duration": 451,
        "start_time": "2022-12-19T02:02:06.279Z"
      },
      {
        "duration": 110,
        "start_time": "2022-12-19T02:02:08.415Z"
      },
      {
        "duration": 5,
        "start_time": "2022-12-19T02:02:11.232Z"
      },
      {
        "duration": 6,
        "start_time": "2022-12-19T02:02:12.959Z"
      },
      {
        "duration": 47413,
        "start_time": "2022-12-19T02:03:45.583Z"
      },
      {
        "duration": 92,
        "start_time": "2022-12-19T02:09:00.702Z"
      },
      {
        "duration": 5,
        "start_time": "2022-12-19T02:09:07.574Z"
      },
      {
        "duration": 6,
        "start_time": "2022-12-19T02:09:09.542Z"
      },
      {
        "duration": 15,
        "start_time": "2022-12-19T02:09:18.468Z"
      },
      {
        "duration": 747,
        "start_time": "2022-12-19T02:09:22.170Z"
      },
      {
        "duration": 920,
        "start_time": "2022-12-19T02:10:07.806Z"
      },
      {
        "duration": 15,
        "start_time": "2022-12-19T02:10:21.264Z"
      },
      {
        "duration": 605,
        "start_time": "2022-12-19T02:10:23.316Z"
      },
      {
        "duration": 262,
        "start_time": "2022-12-19T02:10:27.343Z"
      },
      {
        "duration": 102,
        "start_time": "2022-12-19T02:10:29.119Z"
      },
      {
        "duration": 43,
        "start_time": "2022-12-19T02:11:28.210Z"
      },
      {
        "duration": 115,
        "start_time": "2022-12-19T02:11:31.728Z"
      },
      {
        "duration": 8,
        "start_time": "2022-12-19T02:11:33.198Z"
      },
      {
        "duration": 229,
        "start_time": "2022-12-19T02:11:38.631Z"
      },
      {
        "duration": 136,
        "start_time": "2022-12-19T02:11:41.749Z"
      },
      {
        "duration": 16,
        "start_time": "2022-12-19T02:11:43.319Z"
      },
      {
        "duration": 227,
        "start_time": "2022-12-19T02:24:42.963Z"
      },
      {
        "duration": 15,
        "start_time": "2022-12-19T02:24:53.747Z"
      },
      {
        "duration": 232,
        "start_time": "2022-12-19T02:24:57.410Z"
      },
      {
        "duration": 124,
        "start_time": "2022-12-19T02:25:04.413Z"
      },
      {
        "duration": 931,
        "start_time": "2022-12-19T02:25:49.171Z"
      },
      {
        "duration": 141,
        "start_time": "2022-12-19T02:25:57.528Z"
      },
      {
        "duration": 38,
        "start_time": "2022-12-19T02:25:59.543Z"
      },
      {
        "duration": 936,
        "start_time": "2022-12-19T02:26:13.116Z"
      },
      {
        "duration": 485,
        "start_time": "2022-12-19T02:26:40.616Z"
      },
      {
        "duration": 88,
        "start_time": "2022-12-19T02:27:29.856Z"
      },
      {
        "duration": 6,
        "start_time": "2022-12-19T02:27:33.619Z"
      },
      {
        "duration": 5,
        "start_time": "2022-12-19T02:27:35.858Z"
      },
      {
        "duration": 15,
        "start_time": "2022-12-19T02:27:52.159Z"
      },
      {
        "duration": 809,
        "start_time": "2022-12-19T02:27:53.911Z"
      },
      {
        "duration": 295,
        "start_time": "2022-12-19T02:27:59.007Z"
      },
      {
        "duration": 232,
        "start_time": "2022-12-19T02:28:03.563Z"
      },
      {
        "duration": 8,
        "start_time": "2022-12-19T02:28:05.136Z"
      },
      {
        "duration": 35,
        "start_time": "2022-12-19T02:28:12.164Z"
      },
      {
        "duration": 186,
        "start_time": "2022-12-19T02:28:19.307Z"
      },
      {
        "duration": 8,
        "start_time": "2022-12-19T02:28:20.560Z"
      },
      {
        "duration": 892,
        "start_time": "2022-12-19T02:28:23.882Z"
      },
      {
        "duration": 135,
        "start_time": "2022-12-19T02:28:29.362Z"
      },
      {
        "duration": 40,
        "start_time": "2022-12-19T02:28:30.605Z"
      },
      {
        "duration": 489,
        "start_time": "2022-12-19T02:28:33.205Z"
      },
      {
        "duration": 136,
        "start_time": "2022-12-19T02:28:42.399Z"
      },
      {
        "duration": 895,
        "start_time": "2022-12-19T02:29:14.065Z"
      },
      {
        "duration": 129,
        "start_time": "2022-12-19T02:30:32.616Z"
      },
      {
        "duration": 871,
        "start_time": "2022-12-19T02:30:38.127Z"
      },
      {
        "duration": 921,
        "start_time": "2022-12-19T02:30:49.223Z"
      },
      {
        "duration": 884,
        "start_time": "2022-12-19T02:31:07.961Z"
      },
      {
        "duration": 3,
        "start_time": "2022-12-19T02:39:07.931Z"
      },
      {
        "duration": 105,
        "start_time": "2022-12-19T02:39:10.626Z"
      },
      {
        "duration": 13,
        "start_time": "2022-12-19T02:42:07.501Z"
      },
      {
        "duration": 916,
        "start_time": "2022-12-19T02:42:29.608Z"
      },
      {
        "duration": 503,
        "start_time": "2022-12-19T02:43:44.788Z"
      },
      {
        "duration": 900,
        "start_time": "2022-12-19T02:44:23.223Z"
      },
      {
        "duration": 1291,
        "start_time": "2022-12-19T02:45:40.840Z"
      },
      {
        "duration": 3,
        "start_time": "2022-12-19T02:45:47.103Z"
      },
      {
        "duration": 39,
        "start_time": "2022-12-19T02:45:51.688Z"
      },
      {
        "duration": 15,
        "start_time": "2022-12-19T02:45:52.988Z"
      },
      {
        "duration": 11,
        "start_time": "2022-12-19T02:45:53.819Z"
      },
      {
        "duration": 4,
        "start_time": "2022-12-19T02:45:54.491Z"
      },
      {
        "duration": 4,
        "start_time": "2022-12-19T02:45:55.157Z"
      },
      {
        "duration": 3,
        "start_time": "2022-12-19T02:45:55.891Z"
      },
      {
        "duration": 37,
        "start_time": "2022-12-19T02:45:56.615Z"
      },
      {
        "duration": 48,
        "start_time": "2022-12-19T02:45:57.634Z"
      },
      {
        "duration": 7,
        "start_time": "2022-12-19T02:45:59.110Z"
      },
      {
        "duration": 128,
        "start_time": "2022-12-19T02:45:59.787Z"
      },
      {
        "duration": 5,
        "start_time": "2022-12-19T02:46:00.769Z"
      },
      {
        "duration": 109,
        "start_time": "2022-12-19T02:46:01.484Z"
      },
      {
        "duration": 3,
        "start_time": "2022-12-19T02:46:02.220Z"
      },
      {
        "duration": 5,
        "start_time": "2022-12-19T02:46:03.476Z"
      },
      {
        "duration": 7,
        "start_time": "2022-12-19T02:46:04.174Z"
      },
      {
        "duration": 9,
        "start_time": "2022-12-19T02:46:04.848Z"
      },
      {
        "duration": 94,
        "start_time": "2022-12-19T02:46:09.123Z"
      },
      {
        "duration": 14,
        "start_time": "2022-12-19T02:46:09.810Z"
      },
      {
        "duration": 676,
        "start_time": "2022-12-19T02:46:10.544Z"
      },
      {
        "duration": 16,
        "start_time": "2022-12-19T02:46:13.485Z"
      },
      {
        "duration": 5,
        "start_time": "2022-12-19T02:46:15.080Z"
      },
      {
        "duration": 8,
        "start_time": "2022-12-19T02:46:19.602Z"
      },
      {
        "duration": 4,
        "start_time": "2022-12-19T02:46:20.874Z"
      },
      {
        "duration": 4,
        "start_time": "2022-12-19T02:46:21.531Z"
      },
      {
        "duration": 4,
        "start_time": "2022-12-19T02:46:22.338Z"
      },
      {
        "duration": 28,
        "start_time": "2022-12-19T02:46:23.859Z"
      },
      {
        "duration": 1464,
        "start_time": "2022-12-19T02:46:25.669Z"
      },
      {
        "duration": 1457,
        "start_time": "2022-12-19T02:46:35.777Z"
      },
      {
        "duration": 1480,
        "start_time": "2022-12-19T02:46:43.852Z"
      },
      {
        "duration": 86,
        "start_time": "2022-12-19T02:46:47.280Z"
      },
      {
        "duration": 5,
        "start_time": "2022-12-19T02:46:48.569Z"
      },
      {
        "duration": 5,
        "start_time": "2022-12-19T02:46:49.683Z"
      },
      {
        "duration": 467,
        "start_time": "2022-12-19T02:46:52.255Z"
      },
      {
        "duration": 99,
        "start_time": "2022-12-19T02:46:55.236Z"
      },
      {
        "duration": 5,
        "start_time": "2022-12-19T02:46:57.306Z"
      },
      {
        "duration": 6,
        "start_time": "2022-12-19T02:46:58.687Z"
      },
      {
        "duration": 47805,
        "start_time": "2022-12-19T02:47:03.283Z"
      },
      {
        "duration": 98,
        "start_time": "2022-12-19T02:56:20.032Z"
      },
      {
        "duration": 5,
        "start_time": "2022-12-19T02:56:21.478Z"
      },
      {
        "duration": 6,
        "start_time": "2022-12-19T02:56:22.974Z"
      },
      {
        "duration": 13,
        "start_time": "2022-12-19T02:56:26.835Z"
      },
      {
        "duration": 1224,
        "start_time": "2022-12-19T02:56:28.599Z"
      },
      {
        "duration": 296,
        "start_time": "2022-12-19T02:56:32.130Z"
      },
      {
        "duration": 25,
        "start_time": "2022-12-19T02:56:33.277Z"
      },
      {
        "duration": 48,
        "start_time": "2022-12-19T02:56:35.989Z"
      },
      {
        "duration": 114,
        "start_time": "2022-12-19T02:56:38.243Z"
      },
      {
        "duration": 9,
        "start_time": "2022-12-19T02:56:39.059Z"
      },
      {
        "duration": 773,
        "start_time": "2022-12-19T02:56:47.787Z"
      },
      {
        "duration": 133,
        "start_time": "2022-12-19T02:57:15.932Z"
      },
      {
        "duration": 33,
        "start_time": "2022-12-19T02:57:16.716Z"
      },
      {
        "duration": 3,
        "start_time": "2022-12-19T02:57:18.219Z"
      },
      {
        "duration": 484,
        "start_time": "2022-12-19T02:57:19.177Z"
      },
      {
        "duration": 922,
        "start_time": "2022-12-19T02:57:52.680Z"
      },
      {
        "duration": 31,
        "start_time": "2022-12-19T03:09:43.413Z"
      },
      {
        "duration": 1434,
        "start_time": "2022-12-19T03:09:48.598Z"
      },
      {
        "duration": 87,
        "start_time": "2022-12-19T03:09:53.054Z"
      },
      {
        "duration": 6,
        "start_time": "2022-12-19T03:09:54.861Z"
      },
      {
        "duration": 7,
        "start_time": "2022-12-19T03:09:56.651Z"
      },
      {
        "duration": 434,
        "start_time": "2022-12-19T03:10:01.442Z"
      },
      {
        "duration": 114,
        "start_time": "2022-12-19T03:10:06.124Z"
      },
      {
        "duration": 5,
        "start_time": "2022-12-19T03:10:08.282Z"
      },
      {
        "duration": 6,
        "start_time": "2022-12-19T03:10:10.075Z"
      },
      {
        "duration": 48321,
        "start_time": "2022-12-19T03:10:15.696Z"
      },
      {
        "duration": 88,
        "start_time": "2022-12-19T03:12:20.568Z"
      },
      {
        "duration": 5,
        "start_time": "2022-12-19T03:12:23.071Z"
      },
      {
        "duration": 5,
        "start_time": "2022-12-19T03:12:24.730Z"
      },
      {
        "duration": 14,
        "start_time": "2022-12-19T03:12:31.899Z"
      },
      {
        "duration": 813,
        "start_time": "2022-12-19T03:12:33.921Z"
      },
      {
        "duration": 288,
        "start_time": "2022-12-19T03:12:37.616Z"
      },
      {
        "duration": 10,
        "start_time": "2022-12-19T03:12:38.971Z"
      },
      {
        "duration": 36,
        "start_time": "2022-12-19T03:12:41.616Z"
      },
      {
        "duration": 194,
        "start_time": "2022-12-19T03:12:43.965Z"
      },
      {
        "duration": 8,
        "start_time": "2022-12-19T03:12:45.199Z"
      },
      {
        "duration": 788,
        "start_time": "2022-12-19T03:12:49.012Z"
      },
      {
        "duration": 144,
        "start_time": "2022-12-19T03:12:52.726Z"
      },
      {
        "duration": 33,
        "start_time": "2022-12-19T03:12:54.012Z"
      },
      {
        "duration": 4,
        "start_time": "2022-12-19T03:12:55.862Z"
      },
      {
        "duration": 930,
        "start_time": "2022-12-19T03:13:01.301Z"
      },
      {
        "duration": 489,
        "start_time": "2022-12-19T03:13:25.633Z"
      },
      {
        "duration": 418,
        "start_time": "2022-12-19T03:13:32.930Z"
      },
      {
        "duration": 884,
        "start_time": "2022-12-19T03:15:36.456Z"
      },
      {
        "duration": 481,
        "start_time": "2022-12-19T03:15:46.664Z"
      },
      {
        "duration": 834,
        "start_time": "2022-12-19T03:18:25.780Z"
      },
      {
        "duration": 458,
        "start_time": "2022-12-19T03:18:42.789Z"
      },
      {
        "duration": 434,
        "start_time": "2022-12-19T03:19:44.866Z"
      },
      {
        "duration": 406,
        "start_time": "2022-12-19T03:20:04.880Z"
      },
      {
        "duration": 23,
        "start_time": "2022-12-19T03:21:05.952Z"
      },
      {
        "duration": 32,
        "start_time": "2022-12-19T03:21:16.007Z"
      },
      {
        "duration": 763,
        "start_time": "2022-12-19T03:22:43.601Z"
      },
      {
        "duration": 785,
        "start_time": "2022-12-19T03:22:59.394Z"
      },
      {
        "duration": 137,
        "start_time": "2022-12-19T03:23:03.169Z"
      },
      {
        "duration": 31,
        "start_time": "2022-12-19T03:23:05.527Z"
      },
      {
        "duration": 34,
        "start_time": "2022-12-19T03:23:21.017Z"
      },
      {
        "duration": 3,
        "start_time": "2022-12-19T03:23:22.798Z"
      },
      {
        "duration": 31,
        "start_time": "2022-12-19T03:23:29.681Z"
      },
      {
        "duration": 24,
        "start_time": "2022-12-19T03:23:31.546Z"
      },
      {
        "duration": 141,
        "start_time": "2022-12-19T03:23:32.399Z"
      },
      {
        "duration": 1322,
        "start_time": "2022-12-19T03:23:54.336Z"
      },
      {
        "duration": 3,
        "start_time": "2022-12-19T03:24:03.091Z"
      },
      {
        "duration": 41,
        "start_time": "2022-12-19T03:24:04.297Z"
      },
      {
        "duration": 16,
        "start_time": "2022-12-19T03:24:06.000Z"
      },
      {
        "duration": 13,
        "start_time": "2022-12-19T03:24:07.723Z"
      },
      {
        "duration": 4,
        "start_time": "2022-12-19T03:24:09.276Z"
      },
      {
        "duration": 6,
        "start_time": "2022-12-19T03:24:10.084Z"
      },
      {
        "duration": 3,
        "start_time": "2022-12-19T03:24:11.260Z"
      },
      {
        "duration": 47,
        "start_time": "2022-12-19T03:24:12.133Z"
      },
      {
        "duration": 49,
        "start_time": "2022-12-19T03:24:13.249Z"
      },
      {
        "duration": 7,
        "start_time": "2022-12-19T03:24:15.144Z"
      },
      {
        "duration": 137,
        "start_time": "2022-12-19T03:24:16.161Z"
      },
      {
        "duration": 5,
        "start_time": "2022-12-19T03:24:17.256Z"
      },
      {
        "duration": 105,
        "start_time": "2022-12-19T03:24:18.262Z"
      },
      {
        "duration": 4,
        "start_time": "2022-12-19T03:24:19.379Z"
      },
      {
        "duration": 5,
        "start_time": "2022-12-19T03:24:21.383Z"
      },
      {
        "duration": 6,
        "start_time": "2022-12-19T03:24:23.415Z"
      },
      {
        "duration": 8,
        "start_time": "2022-12-19T03:24:24.519Z"
      },
      {
        "duration": 102,
        "start_time": "2022-12-19T03:24:26.971Z"
      },
      {
        "duration": 14,
        "start_time": "2022-12-19T03:24:27.902Z"
      },
      {
        "duration": 727,
        "start_time": "2022-12-19T03:24:28.789Z"
      },
      {
        "duration": 17,
        "start_time": "2022-12-19T03:24:32.369Z"
      },
      {
        "duration": 6,
        "start_time": "2022-12-19T03:24:37.374Z"
      },
      {
        "duration": 9,
        "start_time": "2022-12-19T03:24:41.086Z"
      },
      {
        "duration": 3,
        "start_time": "2022-12-19T03:24:43.956Z"
      },
      {
        "duration": 3,
        "start_time": "2022-12-19T03:24:45.065Z"
      },
      {
        "duration": 4,
        "start_time": "2022-12-19T03:24:47.004Z"
      },
      {
        "duration": 8,
        "start_time": "2022-12-19T03:33:35.741Z"
      },
      {
        "duration": 3,
        "start_time": "2022-12-19T03:33:40.075Z"
      },
      {
        "duration": 3,
        "start_time": "2022-12-19T03:33:41.203Z"
      },
      {
        "duration": 3,
        "start_time": "2022-12-19T03:33:42.138Z"
      },
      {
        "duration": 32,
        "start_time": "2022-12-19T03:33:43.998Z"
      },
      {
        "duration": 1376,
        "start_time": "2022-12-19T03:33:48.850Z"
      },
      {
        "duration": 82,
        "start_time": "2022-12-19T03:34:08.696Z"
      },
      {
        "duration": 5,
        "start_time": "2022-12-19T03:34:11.200Z"
      },
      {
        "duration": 6,
        "start_time": "2022-12-19T03:34:12.959Z"
      },
      {
        "duration": 418,
        "start_time": "2022-12-19T03:34:40.728Z"
      },
      {
        "duration": 101,
        "start_time": "2022-12-19T03:34:48.184Z"
      },
      {
        "duration": 5,
        "start_time": "2022-12-19T03:34:51.165Z"
      },
      {
        "duration": 5,
        "start_time": "2022-12-19T03:34:53.869Z"
      },
      {
        "duration": 45899,
        "start_time": "2022-12-19T03:35:12.520Z"
      },
      {
        "duration": 105,
        "start_time": "2022-12-19T03:36:10.493Z"
      },
      {
        "duration": 6,
        "start_time": "2022-12-19T03:36:12.434Z"
      },
      {
        "duration": 6,
        "start_time": "2022-12-19T03:36:14.435Z"
      },
      {
        "duration": 13,
        "start_time": "2022-12-19T03:36:32.736Z"
      },
      {
        "duration": 804,
        "start_time": "2022-12-19T03:36:36.715Z"
      },
      {
        "duration": 282,
        "start_time": "2022-12-19T03:36:40.921Z"
      },
      {
        "duration": 16,
        "start_time": "2022-12-19T03:36:42.474Z"
      },
      {
        "duration": 36,
        "start_time": "2022-12-19T03:36:45.337Z"
      },
      {
        "duration": 108,
        "start_time": "2022-12-19T03:36:49.562Z"
      },
      {
        "duration": 8,
        "start_time": "2022-12-19T03:36:50.858Z"
      },
      {
        "duration": 757,
        "start_time": "2022-12-19T03:36:54.067Z"
      },
      {
        "duration": 350,
        "start_time": "2022-12-19T03:37:01.921Z"
      },
      {
        "duration": 120,
        "start_time": "2022-12-19T03:37:06.351Z"
      },
      {
        "duration": 21,
        "start_time": "2022-12-19T03:37:08.558Z"
      },
      {
        "duration": 4,
        "start_time": "2022-12-19T03:37:10.425Z"
      },
      {
        "duration": 28,
        "start_time": "2022-12-19T03:37:12.028Z"
      },
      {
        "duration": 22,
        "start_time": "2022-12-19T03:37:27.603Z"
      },
      {
        "duration": 192,
        "start_time": "2022-12-19T03:37:42.105Z"
      },
      {
        "duration": 28,
        "start_time": "2022-12-19T03:37:50.028Z"
      },
      {
        "duration": 4,
        "start_time": "2022-12-19T03:37:56.302Z"
      },
      {
        "duration": 22,
        "start_time": "2022-12-19T03:37:57.518Z"
      },
      {
        "duration": 190,
        "start_time": "2022-12-19T03:38:01.716Z"
      },
      {
        "duration": 21,
        "start_time": "2022-12-19T03:38:13.761Z"
      },
      {
        "duration": 126,
        "start_time": "2022-12-19T03:38:22.005Z"
      },
      {
        "duration": 820,
        "start_time": "2022-12-19T03:38:55.757Z"
      },
      {
        "duration": 342,
        "start_time": "2022-12-19T03:39:01.430Z"
      },
      {
        "duration": 142,
        "start_time": "2022-12-19T03:39:07.713Z"
      },
      {
        "duration": 22,
        "start_time": "2022-12-19T03:39:08.634Z"
      },
      {
        "duration": 3,
        "start_time": "2022-12-19T03:39:10.765Z"
      },
      {
        "duration": 206,
        "start_time": "2022-12-19T03:39:12.376Z"
      },
      {
        "duration": 359,
        "start_time": "2022-12-19T03:39:26.258Z"
      },
      {
        "duration": 130,
        "start_time": "2022-12-19T03:39:28.295Z"
      },
      {
        "duration": 22,
        "start_time": "2022-12-19T03:39:29.184Z"
      },
      {
        "duration": 3,
        "start_time": "2022-12-19T03:39:30.743Z"
      },
      {
        "duration": 25,
        "start_time": "2022-12-19T03:39:31.917Z"
      },
      {
        "duration": 4,
        "start_time": "2022-12-19T03:39:55.431Z"
      },
      {
        "duration": 3,
        "start_time": "2022-12-19T03:39:56.217Z"
      },
      {
        "duration": 39,
        "start_time": "2022-12-19T03:39:56.766Z"
      },
      {
        "duration": 12,
        "start_time": "2022-12-19T03:40:03.096Z"
      },
      {
        "duration": 14,
        "start_time": "2022-12-19T03:40:04.018Z"
      },
      {
        "duration": 4,
        "start_time": "2022-12-19T03:40:04.537Z"
      },
      {
        "duration": 4,
        "start_time": "2022-12-19T03:40:04.829Z"
      },
      {
        "duration": 3,
        "start_time": "2022-12-19T03:40:05.193Z"
      },
      {
        "duration": 39,
        "start_time": "2022-12-19T03:40:05.813Z"
      },
      {
        "duration": 16,
        "start_time": "2022-12-19T03:40:06.332Z"
      },
      {
        "duration": 6,
        "start_time": "2022-12-19T03:40:07.243Z"
      },
      {
        "duration": 108,
        "start_time": "2022-12-19T03:40:07.821Z"
      },
      {
        "duration": 5,
        "start_time": "2022-12-19T03:40:08.378Z"
      },
      {
        "duration": 111,
        "start_time": "2022-12-19T03:40:09.014Z"
      },
      {
        "duration": 4,
        "start_time": "2022-12-19T03:40:09.634Z"
      },
      {
        "duration": 6,
        "start_time": "2022-12-19T03:40:10.781Z"
      },
      {
        "duration": 7,
        "start_time": "2022-12-19T03:40:11.349Z"
      },
      {
        "duration": 9,
        "start_time": "2022-12-19T03:40:11.938Z"
      },
      {
        "duration": 31,
        "start_time": "2022-12-19T03:40:13.465Z"
      },
      {
        "duration": 14,
        "start_time": "2022-12-19T03:40:14.141Z"
      },
      {
        "duration": 796,
        "start_time": "2022-12-19T03:40:14.968Z"
      },
      {
        "duration": 17,
        "start_time": "2022-12-19T03:40:17.143Z"
      },
      {
        "duration": 7,
        "start_time": "2022-12-19T03:40:20.018Z"
      },
      {
        "duration": 9,
        "start_time": "2022-12-19T03:40:21.480Z"
      },
      {
        "duration": 4,
        "start_time": "2022-12-19T03:40:24.685Z"
      },
      {
        "duration": 3,
        "start_time": "2022-12-19T03:40:25.316Z"
      },
      {
        "duration": 3,
        "start_time": "2022-12-19T03:40:26.016Z"
      },
      {
        "duration": 30,
        "start_time": "2022-12-19T03:40:28.287Z"
      },
      {
        "duration": 1373,
        "start_time": "2022-12-19T03:40:34.255Z"
      },
      {
        "duration": 87,
        "start_time": "2022-12-19T03:40:37.302Z"
      },
      {
        "duration": 6,
        "start_time": "2022-12-19T03:40:38.511Z"
      },
      {
        "duration": 6,
        "start_time": "2022-12-19T03:40:39.979Z"
      },
      {
        "duration": 432,
        "start_time": "2022-12-19T03:40:42.841Z"
      },
      {
        "duration": 101,
        "start_time": "2022-12-19T03:40:47.270Z"
      },
      {
        "duration": 5,
        "start_time": "2022-12-19T03:40:49.320Z"
      },
      {
        "duration": 6,
        "start_time": "2022-12-19T03:40:50.607Z"
      },
      {
        "duration": 46196,
        "start_time": "2022-12-19T03:40:55.141Z"
      },
      {
        "duration": 85,
        "start_time": "2022-12-19T03:44:19.624Z"
      },
      {
        "duration": 4,
        "start_time": "2022-12-19T03:44:21.693Z"
      },
      {
        "duration": 6,
        "start_time": "2022-12-19T03:44:24.542Z"
      },
      {
        "duration": 15,
        "start_time": "2022-12-19T03:44:40.232Z"
      },
      {
        "duration": 749,
        "start_time": "2022-12-19T03:44:42.272Z"
      },
      {
        "duration": 238,
        "start_time": "2022-12-19T03:44:45.177Z"
      },
      {
        "duration": 28,
        "start_time": "2022-12-19T03:44:46.188Z"
      },
      {
        "duration": 35,
        "start_time": "2022-12-19T03:44:49.344Z"
      },
      {
        "duration": 121,
        "start_time": "2022-12-19T03:44:52.724Z"
      },
      {
        "duration": 8,
        "start_time": "2022-12-19T03:44:53.621Z"
      },
      {
        "duration": 343,
        "start_time": "2022-12-19T03:44:56.880Z"
      },
      {
        "duration": 119,
        "start_time": "2022-12-19T03:45:05.279Z"
      },
      {
        "duration": 114,
        "start_time": "2022-12-19T03:45:10.391Z"
      },
      {
        "duration": 12,
        "start_time": "2022-12-19T03:45:11.454Z"
      },
      {
        "duration": 4,
        "start_time": "2022-12-19T03:45:13.516Z"
      },
      {
        "duration": 18,
        "start_time": "2022-12-19T03:45:14.811Z"
      },
      {
        "duration": 850,
        "start_time": "2022-12-19T03:45:31.738Z"
      },
      {
        "duration": 160,
        "start_time": "2022-12-19T03:45:36.583Z"
      },
      {
        "duration": 40,
        "start_time": "2022-12-19T03:45:37.530Z"
      },
      {
        "duration": 3,
        "start_time": "2022-12-19T03:45:39.261Z"
      },
      {
        "duration": 45,
        "start_time": "2022-12-19T03:45:40.447Z"
      },
      {
        "duration": 5,
        "start_time": "2022-12-19T03:46:39.611Z"
      },
      {
        "duration": 1364,
        "start_time": "2022-12-19T03:47:36.187Z"
      },
      {
        "duration": 6,
        "start_time": "2022-12-19T03:48:27.101Z"
      },
      {
        "duration": 4,
        "start_time": "2022-12-19T03:48:29.956Z"
      },
      {
        "duration": 3,
        "start_time": "2022-12-19T03:48:30.562Z"
      },
      {
        "duration": 40,
        "start_time": "2022-12-19T03:48:31.167Z"
      },
      {
        "duration": 18,
        "start_time": "2022-12-19T03:48:32.400Z"
      },
      {
        "duration": 12,
        "start_time": "2022-12-19T03:48:33.441Z"
      },
      {
        "duration": 4,
        "start_time": "2022-12-19T03:48:33.987Z"
      },
      {
        "duration": 5,
        "start_time": "2022-12-19T03:48:34.980Z"
      },
      {
        "duration": 3,
        "start_time": "2022-12-19T03:48:35.832Z"
      },
      {
        "duration": 37,
        "start_time": "2022-12-19T03:48:36.420Z"
      },
      {
        "duration": 49,
        "start_time": "2022-12-19T03:48:37.049Z"
      },
      {
        "duration": 6,
        "start_time": "2022-12-19T03:48:38.640Z"
      },
      {
        "duration": 117,
        "start_time": "2022-12-19T03:48:40.401Z"
      },
      {
        "duration": 6,
        "start_time": "2022-12-19T03:48:41.087Z"
      },
      {
        "duration": 116,
        "start_time": "2022-12-19T03:48:42.671Z"
      },
      {
        "duration": 4,
        "start_time": "2022-12-19T03:48:43.606Z"
      },
      {
        "duration": 5,
        "start_time": "2022-12-19T03:48:44.841Z"
      },
      {
        "duration": 7,
        "start_time": "2022-12-19T03:48:45.445Z"
      },
      {
        "duration": 8,
        "start_time": "2022-12-19T03:48:46.135Z"
      },
      {
        "duration": 104,
        "start_time": "2022-12-19T03:48:47.870Z"
      },
      {
        "duration": 18,
        "start_time": "2022-12-19T03:48:49.004Z"
      },
      {
        "duration": 694,
        "start_time": "2022-12-19T03:48:49.565Z"
      },
      {
        "duration": 17,
        "start_time": "2022-12-19T03:48:52.870Z"
      },
      {
        "duration": 5,
        "start_time": "2022-12-19T03:48:55.358Z"
      },
      {
        "duration": 9,
        "start_time": "2022-12-19T03:48:56.498Z"
      },
      {
        "duration": 3,
        "start_time": "2022-12-19T03:48:57.651Z"
      },
      {
        "duration": 3,
        "start_time": "2022-12-19T03:48:58.236Z"
      },
      {
        "duration": 3,
        "start_time": "2022-12-19T03:48:58.798Z"
      },
      {
        "duration": 33,
        "start_time": "2022-12-19T03:49:00.484Z"
      },
      {
        "duration": 1327,
        "start_time": "2022-12-19T03:49:02.805Z"
      },
      {
        "duration": 87,
        "start_time": "2022-12-19T03:49:05.415Z"
      },
      {
        "duration": 5,
        "start_time": "2022-12-19T03:49:06.737Z"
      },
      {
        "duration": 6,
        "start_time": "2022-12-19T03:49:07.947Z"
      },
      {
        "duration": 432,
        "start_time": "2022-12-19T03:49:13.854Z"
      },
      {
        "duration": 106,
        "start_time": "2022-12-19T03:49:17.360Z"
      },
      {
        "duration": 5,
        "start_time": "2022-12-19T03:49:18.654Z"
      },
      {
        "duration": 5,
        "start_time": "2022-12-19T03:49:19.928Z"
      },
      {
        "duration": 46062,
        "start_time": "2022-12-19T03:49:25.913Z"
      },
      {
        "duration": 99,
        "start_time": "2022-12-19T03:50:33.163Z"
      },
      {
        "duration": 7,
        "start_time": "2022-12-19T03:50:34.668Z"
      },
      {
        "duration": 8,
        "start_time": "2022-12-19T03:50:38.356Z"
      },
      {
        "duration": 15,
        "start_time": "2022-12-19T03:50:41.746Z"
      },
      {
        "duration": 2325,
        "start_time": "2022-12-19T03:50:42.895Z"
      },
      {
        "duration": 400,
        "start_time": "2022-12-19T03:50:45.224Z"
      },
      {
        "duration": 10,
        "start_time": "2022-12-19T03:50:45.689Z"
      },
      {
        "duration": 1140,
        "start_time": "2022-12-19T03:51:21.080Z"
      },
      {
        "duration": 15,
        "start_time": "2022-12-19T03:51:25.184Z"
      },
      {
        "duration": 1160,
        "start_time": "2022-12-19T03:51:28.165Z"
      },
      {
        "duration": 1541,
        "start_time": "2022-12-19T03:51:31.182Z"
      },
      {
        "duration": 301,
        "start_time": "2022-12-19T03:51:32.816Z"
      },
      {
        "duration": 11,
        "start_time": "2022-12-19T03:51:33.866Z"
      },
      {
        "duration": 38,
        "start_time": "2022-12-19T03:51:38.729Z"
      },
      {
        "duration": 109,
        "start_time": "2022-12-19T03:51:40.533Z"
      },
      {
        "duration": 9,
        "start_time": "2022-12-19T03:51:41.058Z"
      },
      {
        "duration": 538,
        "start_time": "2022-12-19T03:51:59.521Z"
      },
      {
        "duration": 130,
        "start_time": "2022-12-19T03:52:04.783Z"
      },
      {
        "duration": 29,
        "start_time": "2022-12-19T03:52:05.819Z"
      },
      {
        "duration": 3,
        "start_time": "2022-12-19T03:52:08.205Z"
      },
      {
        "duration": 31,
        "start_time": "2022-12-19T03:52:09.674Z"
      },
      {
        "duration": 55897,
        "start_time": "2022-12-19T03:52:43.427Z"
      },
      {
        "duration": 95,
        "start_time": "2022-12-19T03:53:48.128Z"
      },
      {
        "duration": 6,
        "start_time": "2022-12-19T03:53:49.828Z"
      },
      {
        "duration": 6,
        "start_time": "2022-12-19T03:53:51.537Z"
      },
      {
        "duration": 14,
        "start_time": "2022-12-19T03:53:57.655Z"
      },
      {
        "duration": 903,
        "start_time": "2022-12-19T03:53:59.318Z"
      },
      {
        "duration": 303,
        "start_time": "2022-12-19T03:54:01.403Z"
      },
      {
        "duration": 82,
        "start_time": "2022-12-19T03:54:02.934Z"
      },
      {
        "duration": 287,
        "start_time": "2022-12-19T03:54:12.406Z"
      },
      {
        "duration": 10,
        "start_time": "2022-12-19T03:54:14.162Z"
      },
      {
        "duration": 36,
        "start_time": "2022-12-19T03:54:17.589Z"
      },
      {
        "duration": 193,
        "start_time": "2022-12-19T03:54:20.158Z"
      },
      {
        "duration": 9,
        "start_time": "2022-12-19T03:54:21.007Z"
      },
      {
        "duration": 542,
        "start_time": "2022-12-19T03:54:24.022Z"
      },
      {
        "duration": 132,
        "start_time": "2022-12-19T03:54:27.617Z"
      },
      {
        "duration": 29,
        "start_time": "2022-12-19T03:54:29.227Z"
      },
      {
        "duration": 3,
        "start_time": "2022-12-19T03:54:30.867Z"
      },
      {
        "duration": 32,
        "start_time": "2022-12-19T03:54:33.500Z"
      },
      {
        "duration": 810,
        "start_time": "2022-12-19T03:54:59.064Z"
      },
      {
        "duration": 141,
        "start_time": "2022-12-19T03:55:04.183Z"
      },
      {
        "duration": 39,
        "start_time": "2022-12-19T03:55:05.188Z"
      },
      {
        "duration": 3,
        "start_time": "2022-12-19T03:55:07.083Z"
      },
      {
        "duration": 44,
        "start_time": "2022-12-19T03:55:08.832Z"
      },
      {
        "duration": 111,
        "start_time": "2022-12-19T03:55:11.466Z"
      },
      {
        "duration": 6,
        "start_time": "2022-12-19T04:12:47.649Z"
      },
      {
        "duration": 22,
        "start_time": "2022-12-19T04:16:10.860Z"
      },
      {
        "duration": 23,
        "start_time": "2022-12-19T04:18:36.085Z"
      },
      {
        "duration": 8,
        "start_time": "2022-12-19T04:19:12.750Z"
      },
      {
        "duration": 146,
        "start_time": "2022-12-19T04:23:42.649Z"
      },
      {
        "duration": 146,
        "start_time": "2022-12-19T04:26:00.090Z"
      },
      {
        "duration": 45,
        "start_time": "2022-12-19T04:27:34.850Z"
      },
      {
        "duration": 4,
        "start_time": "2022-12-19T04:27:39.422Z"
      },
      {
        "duration": 43,
        "start_time": "2022-12-19T04:27:41.331Z"
      },
      {
        "duration": 161,
        "start_time": "2022-12-19T04:33:11.880Z"
      },
      {
        "duration": 1640,
        "start_time": "2022-12-20T01:40:18.115Z"
      },
      {
        "duration": 3,
        "start_time": "2022-12-20T01:40:19.757Z"
      },
      {
        "duration": 156,
        "start_time": "2022-12-20T01:40:20.000Z"
      },
      {
        "duration": 18,
        "start_time": "2022-12-20T01:40:24.318Z"
      },
      {
        "duration": 14,
        "start_time": "2022-12-20T01:40:25.541Z"
      },
      {
        "duration": 4,
        "start_time": "2022-12-20T01:40:29.776Z"
      },
      {
        "duration": 5,
        "start_time": "2022-12-20T01:40:30.786Z"
      },
      {
        "duration": 4,
        "start_time": "2022-12-20T01:40:38.058Z"
      },
      {
        "duration": 43,
        "start_time": "2022-12-20T01:40:39.444Z"
      },
      {
        "duration": 56,
        "start_time": "2022-12-20T01:40:40.634Z"
      },
      {
        "duration": 6,
        "start_time": "2022-12-20T01:40:46.269Z"
      },
      {
        "duration": 130,
        "start_time": "2022-12-20T01:40:54.328Z"
      },
      {
        "duration": 5,
        "start_time": "2022-12-20T01:40:55.299Z"
      },
      {
        "duration": 124,
        "start_time": "2022-12-20T01:40:56.333Z"
      },
      {
        "duration": 4,
        "start_time": "2022-12-20T01:41:02.231Z"
      },
      {
        "duration": 5,
        "start_time": "2022-12-20T01:41:09.953Z"
      },
      {
        "duration": 7,
        "start_time": "2022-12-20T01:41:16.841Z"
      },
      {
        "duration": 10,
        "start_time": "2022-12-20T01:41:17.581Z"
      },
      {
        "duration": 5,
        "start_time": "2022-12-20T01:50:11.661Z"
      },
      {
        "duration": 3,
        "start_time": "2022-12-20T01:50:12.322Z"
      },
      {
        "duration": 41,
        "start_time": "2022-12-20T01:50:13.003Z"
      },
      {
        "duration": 13,
        "start_time": "2022-12-20T01:50:15.273Z"
      },
      {
        "duration": 13,
        "start_time": "2022-12-20T01:50:16.047Z"
      },
      {
        "duration": 4,
        "start_time": "2022-12-20T01:50:17.447Z"
      },
      {
        "duration": 4,
        "start_time": "2022-12-20T01:50:18.247Z"
      },
      {
        "duration": 3,
        "start_time": "2022-12-20T01:50:20.004Z"
      },
      {
        "duration": 39,
        "start_time": "2022-12-20T01:50:20.727Z"
      },
      {
        "duration": 14,
        "start_time": "2022-12-20T01:50:21.866Z"
      },
      {
        "duration": 6,
        "start_time": "2022-12-20T01:50:24.425Z"
      },
      {
        "duration": 113,
        "start_time": "2022-12-20T01:50:25.160Z"
      },
      {
        "duration": 5,
        "start_time": "2022-12-20T01:50:25.632Z"
      },
      {
        "duration": 201,
        "start_time": "2022-12-20T01:50:26.267Z"
      },
      {
        "duration": 4,
        "start_time": "2022-12-20T01:50:26.902Z"
      },
      {
        "duration": 5,
        "start_time": "2022-12-20T01:50:32.950Z"
      },
      {
        "duration": 8,
        "start_time": "2022-12-20T01:50:35.522Z"
      },
      {
        "duration": 11,
        "start_time": "2022-12-20T01:50:36.493Z"
      },
      {
        "duration": 35,
        "start_time": "2022-12-20T01:50:43.250Z"
      },
      {
        "duration": 15,
        "start_time": "2022-12-20T01:50:44.804Z"
      },
      {
        "duration": 785,
        "start_time": "2022-12-20T01:50:46.053Z"
      },
      {
        "duration": 19,
        "start_time": "2022-12-20T01:51:06.284Z"
      },
      {
        "duration": 5,
        "start_time": "2022-12-20T01:52:58.311Z"
      },
      {
        "duration": 9,
        "start_time": "2022-12-20T01:52:59.473Z"
      },
      {
        "duration": 3,
        "start_time": "2022-12-20T01:53:00.610Z"
      },
      {
        "duration": 3,
        "start_time": "2022-12-20T01:53:01.238Z"
      },
      {
        "duration": 3,
        "start_time": "2022-12-20T01:53:01.864Z"
      },
      {
        "duration": 34,
        "start_time": "2022-12-20T01:53:03.957Z"
      },
      {
        "duration": 1469,
        "start_time": "2022-12-20T01:53:07.480Z"
      },
      {
        "duration": 99,
        "start_time": "2022-12-20T01:53:10.396Z"
      },
      {
        "duration": 7,
        "start_time": "2022-12-20T01:53:12.542Z"
      },
      {
        "duration": 6,
        "start_time": "2022-12-20T01:53:14.324Z"
      },
      {
        "duration": 6,
        "start_time": "2022-12-20T01:56:51.488Z"
      },
      {
        "duration": 2,
        "start_time": "2022-12-20T01:56:58.079Z"
      },
      {
        "duration": 4,
        "start_time": "2022-12-20T01:57:00.714Z"
      },
      {
        "duration": 10,
        "start_time": "2022-12-20T01:59:29.559Z"
      },
      {
        "duration": 6,
        "start_time": "2022-12-20T01:59:37.783Z"
      },
      {
        "duration": 10,
        "start_time": "2022-12-20T02:11:50.461Z"
      },
      {
        "duration": 100,
        "start_time": "2022-12-20T02:12:55.950Z"
      },
      {
        "duration": 113,
        "start_time": "2022-12-20T02:14:28.503Z"
      },
      {
        "duration": 456,
        "start_time": "2022-12-20T02:14:51.641Z"
      },
      {
        "duration": 107,
        "start_time": "2022-12-20T02:14:56.104Z"
      },
      {
        "duration": 5,
        "start_time": "2022-12-20T02:14:58.197Z"
      },
      {
        "duration": 11,
        "start_time": "2022-12-20T02:15:01.954Z"
      },
      {
        "duration": 11,
        "start_time": "2022-12-20T02:17:15.356Z"
      },
      {
        "duration": 112,
        "start_time": "2022-12-20T02:18:19.638Z"
      },
      {
        "duration": 58646,
        "start_time": "2022-12-20T02:18:19.752Z"
      },
      {
        "duration": 93,
        "start_time": "2022-12-20T02:26:11.820Z"
      },
      {
        "duration": 5,
        "start_time": "2022-12-20T02:26:16.796Z"
      },
      {
        "duration": 12,
        "start_time": "2022-12-20T02:26:36.086Z"
      },
      {
        "duration": 15,
        "start_time": "2022-12-20T02:30:19.947Z"
      },
      {
        "duration": 1167,
        "start_time": "2022-12-20T02:30:22.375Z"
      },
      {
        "duration": 267,
        "start_time": "2022-12-20T02:30:26.208Z"
      },
      {
        "duration": 15,
        "start_time": "2022-12-20T02:30:28.022Z"
      },
      {
        "duration": 37,
        "start_time": "2022-12-20T02:30:32.960Z"
      },
      {
        "duration": 116,
        "start_time": "2022-12-20T02:30:35.597Z"
      },
      {
        "duration": 8,
        "start_time": "2022-12-20T02:30:36.945Z"
      },
      {
        "duration": 874,
        "start_time": "2022-12-20T02:30:40.593Z"
      },
      {
        "duration": 158,
        "start_time": "2022-12-20T02:30:45.781Z"
      },
      {
        "duration": 41,
        "start_time": "2022-12-20T02:30:46.845Z"
      },
      {
        "duration": 3,
        "start_time": "2022-12-20T02:31:14.744Z"
      },
      {
        "duration": 51,
        "start_time": "2022-12-20T02:31:15.753Z"
      },
      {
        "duration": 882,
        "start_time": "2022-12-20T02:31:31.751Z"
      },
      {
        "duration": 3,
        "start_time": "2022-12-20T02:31:47.852Z"
      },
      {
        "duration": 46,
        "start_time": "2022-12-20T02:31:51.815Z"
      },
      {
        "duration": 15,
        "start_time": "2022-12-20T02:47:40.433Z"
      },
      {
        "duration": 1192,
        "start_time": "2022-12-20T02:47:41.850Z"
      },
      {
        "duration": 274,
        "start_time": "2022-12-20T02:47:47.352Z"
      },
      {
        "duration": 10,
        "start_time": "2022-12-20T02:47:48.661Z"
      },
      {
        "duration": 38,
        "start_time": "2022-12-20T02:47:58.396Z"
      },
      {
        "duration": 118,
        "start_time": "2022-12-20T02:48:00.468Z"
      },
      {
        "duration": 8,
        "start_time": "2022-12-20T02:48:01.510Z"
      },
      {
        "duration": 873,
        "start_time": "2022-12-20T02:48:04.210Z"
      },
      {
        "duration": 240,
        "start_time": "2022-12-20T02:48:07.316Z"
      },
      {
        "duration": 41,
        "start_time": "2022-12-20T02:48:09.179Z"
      },
      {
        "duration": 463,
        "start_time": "2022-12-20T02:48:31.974Z"
      },
      {
        "duration": 832,
        "start_time": "2022-12-20T02:48:37.901Z"
      },
      {
        "duration": 807,
        "start_time": "2022-12-20T02:48:43.458Z"
      },
      {
        "duration": 1018,
        "start_time": "2022-12-20T02:48:50.061Z"
      },
      {
        "duration": 1116,
        "start_time": "2022-12-20T02:48:59.086Z"
      },
      {
        "duration": 1169,
        "start_time": "2022-12-20T02:49:06.503Z"
      },
      {
        "duration": 1132,
        "start_time": "2022-12-20T02:49:14.067Z"
      },
      {
        "duration": 1179,
        "start_time": "2022-12-20T02:49:25.240Z"
      },
      {
        "duration": 1240,
        "start_time": "2022-12-20T02:49:34.299Z"
      },
      {
        "duration": 1294,
        "start_time": "2022-12-20T02:49:40.859Z"
      },
      {
        "duration": 1261,
        "start_time": "2022-12-20T02:49:47.488Z"
      },
      {
        "duration": 1113,
        "start_time": "2022-12-20T02:49:52.326Z"
      },
      {
        "duration": 1228,
        "start_time": "2022-12-20T02:49:57.596Z"
      },
      {
        "duration": 1229,
        "start_time": "2022-12-20T02:50:02.869Z"
      },
      {
        "duration": 1270,
        "start_time": "2022-12-20T02:50:07.092Z"
      },
      {
        "duration": 1230,
        "start_time": "2022-12-20T02:50:12.421Z"
      },
      {
        "duration": 1293,
        "start_time": "2022-12-20T02:50:20.042Z"
      },
      {
        "duration": 1376,
        "start_time": "2022-12-20T02:50:25.782Z"
      },
      {
        "duration": 1517,
        "start_time": "2022-12-20T02:50:31.736Z"
      },
      {
        "duration": 1889,
        "start_time": "2022-12-20T02:50:37.586Z"
      },
      {
        "duration": 2534,
        "start_time": "2022-12-20T02:50:44.103Z"
      },
      {
        "duration": 2375,
        "start_time": "2022-12-20T02:50:55.086Z"
      },
      {
        "duration": 514,
        "start_time": "2022-12-20T02:51:03.527Z"
      },
      {
        "duration": 142,
        "start_time": "2022-12-20T02:51:14.043Z"
      },
      {
        "duration": 29,
        "start_time": "2022-12-20T02:51:15.584Z"
      },
      {
        "duration": 3,
        "start_time": "2022-12-20T02:51:19.806Z"
      },
      {
        "duration": 30,
        "start_time": "2022-12-20T02:51:21.479Z"
      },
      {
        "duration": 141,
        "start_time": "2022-12-20T02:51:25.799Z"
      },
      {
        "duration": 10,
        "start_time": "2022-12-20T03:08:25.294Z"
      },
      {
        "duration": 10,
        "start_time": "2022-12-20T03:09:27.612Z"
      },
      {
        "duration": 10,
        "start_time": "2022-12-20T03:12:44.277Z"
      },
      {
        "duration": 4,
        "start_time": "2022-12-20T03:13:03.341Z"
      },
      {
        "duration": 11,
        "start_time": "2022-12-20T03:13:20.992Z"
      },
      {
        "duration": 4,
        "start_time": "2022-12-20T03:13:48.008Z"
      },
      {
        "duration": 3,
        "start_time": "2022-12-20T03:17:57.121Z"
      },
      {
        "duration": 30,
        "start_time": "2022-12-20T03:17:59.804Z"
      },
      {
        "duration": 73,
        "start_time": "2022-12-20T03:21:02.473Z"
      },
      {
        "duration": 12,
        "start_time": "2022-12-20T03:27:58.137Z"
      },
      {
        "duration": 5,
        "start_time": "2022-12-20T03:32:13.338Z"
      },
      {
        "duration": 3,
        "start_time": "2022-12-20T03:32:16.759Z"
      },
      {
        "duration": 37,
        "start_time": "2022-12-20T03:32:17.345Z"
      },
      {
        "duration": 13,
        "start_time": "2022-12-20T03:32:20.027Z"
      },
      {
        "duration": 15,
        "start_time": "2022-12-20T03:32:20.709Z"
      },
      {
        "duration": 4,
        "start_time": "2022-12-20T03:32:22.178Z"
      },
      {
        "duration": 5,
        "start_time": "2022-12-20T03:32:22.958Z"
      },
      {
        "duration": 3,
        "start_time": "2022-12-20T03:32:24.309Z"
      },
      {
        "duration": 44,
        "start_time": "2022-12-20T03:32:24.996Z"
      },
      {
        "duration": 14,
        "start_time": "2022-12-20T03:32:25.950Z"
      },
      {
        "duration": 6,
        "start_time": "2022-12-20T03:32:27.051Z"
      },
      {
        "duration": 115,
        "start_time": "2022-12-20T03:32:27.762Z"
      },
      {
        "duration": 5,
        "start_time": "2022-12-20T03:32:28.477Z"
      },
      {
        "duration": 119,
        "start_time": "2022-12-20T03:32:29.105Z"
      },
      {
        "duration": 4,
        "start_time": "2022-12-20T03:32:29.825Z"
      },
      {
        "duration": 4,
        "start_time": "2022-12-20T03:32:31.975Z"
      },
      {
        "duration": 7,
        "start_time": "2022-12-20T03:32:33.390Z"
      },
      {
        "duration": 7,
        "start_time": "2022-12-20T03:32:37.080Z"
      },
      {
        "duration": 9,
        "start_time": "2022-12-20T03:32:38.770Z"
      },
      {
        "duration": 34,
        "start_time": "2022-12-20T03:32:41.733Z"
      },
      {
        "duration": 14,
        "start_time": "2022-12-20T03:32:42.450Z"
      },
      {
        "duration": 703,
        "start_time": "2022-12-20T03:32:43.159Z"
      },
      {
        "duration": 18,
        "start_time": "2022-12-20T03:32:46.607Z"
      },
      {
        "duration": 5,
        "start_time": "2022-12-20T03:32:52.760Z"
      },
      {
        "duration": 8,
        "start_time": "2022-12-20T03:32:54.685Z"
      },
      {
        "duration": 3,
        "start_time": "2022-12-20T03:32:57.275Z"
      },
      {
        "duration": 3,
        "start_time": "2022-12-20T03:32:57.887Z"
      },
      {
        "duration": 3,
        "start_time": "2022-12-20T03:32:58.534Z"
      },
      {
        "duration": 34,
        "start_time": "2022-12-20T03:33:00.563Z"
      },
      {
        "duration": 1427,
        "start_time": "2022-12-20T03:33:04.919Z"
      },
      {
        "duration": 94,
        "start_time": "2022-12-20T03:33:09.120Z"
      },
      {
        "duration": 5,
        "start_time": "2022-12-20T03:33:11.153Z"
      },
      {
        "duration": 3,
        "start_time": "2022-12-20T03:33:13.758Z"
      },
      {
        "duration": 11,
        "start_time": "2022-12-20T03:33:15.440Z"
      },
      {
        "duration": 423,
        "start_time": "2022-12-20T03:33:27.253Z"
      },
      {
        "duration": 111,
        "start_time": "2022-12-20T03:33:30.767Z"
      },
      {
        "duration": 5,
        "start_time": "2022-12-20T03:33:32.631Z"
      },
      {
        "duration": 10,
        "start_time": "2022-12-20T03:33:35.044Z"
      },
      {
        "duration": 59032,
        "start_time": "2022-12-20T03:33:40.794Z"
      },
      {
        "duration": 103,
        "start_time": "2022-12-20T03:34:47.148Z"
      },
      {
        "duration": 7,
        "start_time": "2022-12-20T03:34:48.842Z"
      },
      {
        "duration": 11,
        "start_time": "2022-12-20T03:34:51.364Z"
      },
      {
        "duration": 16,
        "start_time": "2022-12-20T03:35:00.786Z"
      },
      {
        "duration": 1189,
        "start_time": "2022-12-20T03:35:04.549Z"
      },
      {
        "duration": 228,
        "start_time": "2022-12-20T03:35:06.297Z"
      },
      {
        "duration": 12,
        "start_time": "2022-12-20T03:35:07.666Z"
      },
      {
        "duration": 37,
        "start_time": "2022-12-20T03:35:12.254Z"
      },
      {
        "duration": 117,
        "start_time": "2022-12-20T03:35:13.991Z"
      },
      {
        "duration": 9,
        "start_time": "2022-12-20T03:35:14.862Z"
      },
      {
        "duration": 523,
        "start_time": "2022-12-20T03:35:17.124Z"
      },
      {
        "duration": 232,
        "start_time": "2022-12-20T03:35:31.082Z"
      },
      {
        "duration": 886,
        "start_time": "2022-12-20T03:35:37.794Z"
      },
      {
        "duration": 3,
        "start_time": "2022-12-20T03:45:50.925Z"
      },
      {
        "duration": 12,
        "start_time": "2022-12-20T04:32:58.303Z"
      },
      {
        "duration": 198,
        "start_time": "2022-12-20T04:38:04.547Z"
      },
      {
        "duration": 282,
        "start_time": "2022-12-20T04:39:52.464Z"
      },
      {
        "duration": 335,
        "start_time": "2022-12-20T04:40:27.393Z"
      },
      {
        "duration": 1229,
        "start_time": "2022-12-20T04:41:52.210Z"
      },
      {
        "duration": 1133,
        "start_time": "2022-12-20T04:42:57.410Z"
      },
      {
        "duration": 37,
        "start_time": "2022-12-20T04:43:11.029Z"
      },
      {
        "duration": 255,
        "start_time": "2022-12-20T04:44:38.082Z"
      },
      {
        "duration": 1171,
        "start_time": "2022-12-20T04:47:10.873Z"
      },
      {
        "duration": 247,
        "start_time": "2022-12-20T04:48:31.002Z"
      },
      {
        "duration": 36,
        "start_time": "2022-12-20T04:49:04.838Z"
      },
      {
        "duration": 121,
        "start_time": "2022-12-20T04:49:29.784Z"
      },
      {
        "duration": 122,
        "start_time": "2022-12-20T04:50:26.061Z"
      },
      {
        "duration": 144,
        "start_time": "2022-12-20T04:51:08.288Z"
      },
      {
        "duration": 293,
        "start_time": "2022-12-20T04:53:09.230Z"
      },
      {
        "duration": 157,
        "start_time": "2022-12-20T04:53:32.990Z"
      },
      {
        "duration": 15,
        "start_time": "2022-12-20T04:55:12.570Z"
      },
      {
        "duration": 13,
        "start_time": "2022-12-20T05:00:32.465Z"
      },
      {
        "duration": 120,
        "start_time": "2022-12-20T05:01:18.341Z"
      },
      {
        "duration": 195,
        "start_time": "2022-12-20T05:18:31.827Z"
      },
      {
        "duration": 150,
        "start_time": "2022-12-20T05:19:18.065Z"
      },
      {
        "duration": 4,
        "start_time": "2022-12-20T05:21:44.599Z"
      },
      {
        "duration": 41,
        "start_time": "2022-12-20T05:21:46.885Z"
      },
      {
        "duration": 875,
        "start_time": "2022-12-20T05:23:36.297Z"
      },
      {
        "duration": 876,
        "start_time": "2022-12-20T05:32:12.711Z"
      },
      {
        "duration": 49,
        "start_time": "2022-12-20T05:32:31.281Z"
      },
      {
        "duration": 8,
        "start_time": "2022-12-20T05:32:32.053Z"
      },
      {
        "duration": 1398,
        "start_time": "2022-12-20T05:32:45.410Z"
      },
      {
        "duration": 3,
        "start_time": "2022-12-20T05:32:46.810Z"
      },
      {
        "duration": 40,
        "start_time": "2022-12-20T05:32:47.519Z"
      },
      {
        "duration": 17,
        "start_time": "2022-12-20T05:32:50.072Z"
      },
      {
        "duration": 13,
        "start_time": "2022-12-20T05:32:51.070Z"
      },
      {
        "duration": 4,
        "start_time": "2022-12-20T05:32:51.688Z"
      },
      {
        "duration": 7,
        "start_time": "2022-12-20T05:32:52.143Z"
      },
      {
        "duration": 3,
        "start_time": "2022-12-20T05:32:53.143Z"
      },
      {
        "duration": 42,
        "start_time": "2022-12-20T05:32:53.543Z"
      },
      {
        "duration": 52,
        "start_time": "2022-12-20T05:32:54.551Z"
      },
      {
        "duration": 6,
        "start_time": "2022-12-20T05:32:55.713Z"
      },
      {
        "duration": 122,
        "start_time": "2022-12-20T05:32:56.368Z"
      },
      {
        "duration": 5,
        "start_time": "2022-12-20T05:32:57.055Z"
      },
      {
        "duration": 118,
        "start_time": "2022-12-20T05:32:57.595Z"
      },
      {
        "duration": 3,
        "start_time": "2022-12-20T05:32:58.122Z"
      },
      {
        "duration": 5,
        "start_time": "2022-12-20T05:32:59.834Z"
      },
      {
        "duration": 7,
        "start_time": "2022-12-20T05:33:00.921Z"
      },
      {
        "duration": 11,
        "start_time": "2022-12-20T05:33:01.550Z"
      },
      {
        "duration": 35,
        "start_time": "2022-12-20T05:33:03.716Z"
      },
      {
        "duration": 15,
        "start_time": "2022-12-20T05:33:04.353Z"
      },
      {
        "duration": 799,
        "start_time": "2022-12-20T05:33:04.875Z"
      },
      {
        "duration": 19,
        "start_time": "2022-12-20T05:33:07.075Z"
      },
      {
        "duration": 6,
        "start_time": "2022-12-20T05:33:10.025Z"
      },
      {
        "duration": 9,
        "start_time": "2022-12-20T05:33:11.156Z"
      },
      {
        "duration": 3,
        "start_time": "2022-12-20T05:33:12.220Z"
      },
      {
        "duration": 3,
        "start_time": "2022-12-20T05:33:12.760Z"
      },
      {
        "duration": 3,
        "start_time": "2022-12-20T05:33:13.248Z"
      },
      {
        "duration": 34,
        "start_time": "2022-12-20T05:33:14.844Z"
      },
      {
        "duration": 1555,
        "start_time": "2022-12-20T05:33:17.383Z"
      },
      {
        "duration": 98,
        "start_time": "2022-12-20T05:33:20.369Z"
      },
      {
        "duration": 5,
        "start_time": "2022-12-20T05:33:22.261Z"
      },
      {
        "duration": 3,
        "start_time": "2022-12-20T05:33:24.121Z"
      },
      {
        "duration": 10,
        "start_time": "2022-12-20T05:33:25.217Z"
      },
      {
        "duration": 463,
        "start_time": "2022-12-20T05:33:29.236Z"
      },
      {
        "duration": 111,
        "start_time": "2022-12-20T05:33:30.944Z"
      },
      {
        "duration": 6,
        "start_time": "2022-12-20T05:33:32.170Z"
      },
      {
        "duration": 11,
        "start_time": "2022-12-20T05:33:35.026Z"
      },
      {
        "duration": 59339,
        "start_time": "2022-12-20T05:33:39.531Z"
      },
      {
        "duration": 93,
        "start_time": "2022-12-20T05:38:11.187Z"
      },
      {
        "duration": 5,
        "start_time": "2022-12-20T05:38:13.665Z"
      },
      {
        "duration": 10,
        "start_time": "2022-12-20T05:38:15.195Z"
      },
      {
        "duration": 16,
        "start_time": "2022-12-20T05:38:20.422Z"
      },
      {
        "duration": 1061,
        "start_time": "2022-12-20T05:38:22.177Z"
      },
      {
        "duration": 294,
        "start_time": "2022-12-20T05:38:23.958Z"
      },
      {
        "duration": 36,
        "start_time": "2022-12-20T05:38:26.394Z"
      },
      {
        "duration": 138,
        "start_time": "2022-12-20T05:38:28.756Z"
      },
      {
        "duration": 885,
        "start_time": "2022-12-20T05:38:31.499Z"
      },
      {
        "duration": 157,
        "start_time": "2022-12-20T05:38:33.896Z"
      },
      {
        "duration": 13,
        "start_time": "2022-12-20T05:38:36.494Z"
      },
      {
        "duration": 14,
        "start_time": "2022-12-20T05:38:38.235Z"
      },
      {
        "duration": 263,
        "start_time": "2022-12-20T05:38:38.974Z"
      },
      {
        "duration": 15,
        "start_time": "2022-12-20T05:38:40.850Z"
      },
      {
        "duration": 126,
        "start_time": "2022-12-20T05:38:41.703Z"
      },
      {
        "duration": 208,
        "start_time": "2022-12-20T05:38:43.967Z"
      },
      {
        "duration": 168,
        "start_time": "2022-12-20T05:38:45.769Z"
      },
      {
        "duration": 3,
        "start_time": "2022-12-20T05:38:48.917Z"
      },
      {
        "duration": 933,
        "start_time": "2022-12-20T05:38:50.508Z"
      },
      {
        "duration": 868,
        "start_time": "2022-12-20T05:39:21.077Z"
      },
      {
        "duration": 896,
        "start_time": "2022-12-20T05:39:29.320Z"
      },
      {
        "duration": 170,
        "start_time": "2022-12-20T05:39:30.217Z"
      }
    ],
    "kernelspec": {
      "display_name": "Python 3 (ipykernel)",
      "language": "python",
      "name": "python3"
    },
    "language_info": {
      "codemirror_mode": {
        "name": "ipython",
        "version": 3
      },
      "file_extension": ".py",
      "mimetype": "text/x-python",
      "name": "python",
      "nbconvert_exporter": "python",
      "pygments_lexer": "ipython3",
      "version": "3.9.5"
    },
    "toc": {
      "base_numbering": 1,
      "nav_menu": {},
      "number_sections": true,
      "sideBar": true,
      "skip_h1_title": true,
      "title_cell": "Содержание",
      "title_sidebar": "Contents",
      "toc_cell": true,
      "toc_position": {
        "height": "calc(100% - 180px)",
        "left": "10px",
        "top": "150px",
        "width": "204px"
      },
      "toc_section_display": true,
      "toc_window_display": true
    },
    "colab": {
      "provenance": []
    }
  },
  "nbformat": 4,
  "nbformat_minor": 0
}