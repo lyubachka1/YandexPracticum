{
  "cells": [
    {
      "cell_type": "markdown",
      "metadata": {
        "id": "GQn29jGeeIo1"
      },
      "source": [
        "# Исследование объявлений о продаже квартир\n",
        "\n",
        "В вашем распоряжении данные сервиса Яндекс. Недвижимость — архив объявлений о продаже квартир в Санкт-Петербурге и соседних населённых пунктов за несколько лет. Нужно научиться определять рыночную стоимость объектов недвижимости. Ваша задача — установить параметры. Это позволит построить автоматизированную систему: она отследит аномалии и мошенническую деятельность.\n",
        "\n",
        "По каждой квартире на продажу доступны два вида данных. Первые вписаны пользователем, вторые — получены автоматически на основе картографических данных. Например, расстояние до центра, аэропорта, ближайшего парка и водоёма."
      ]
    },
    {
      "cell_type": "markdown",
      "metadata": {
        "id": "BJFpDuYKeIo7"
      },
      "source": [
        "**Цель исследования**:\n",
        "1. Выполнить предобработку данных.\n",
        "2. Изучить полученные данные.\n",
        "3. Провести исследовательский анализ данных.\n",
        "\n",
        "Данные Яндекс.Недвижимость получим из файла. Путь к файлу: /datasets/real_estate_data.csv."
      ]
    },
    {
      "cell_type": "markdown",
      "metadata": {
        "id": "7AS8R8a0eIo-"
      },
      "source": [
        "### Откройте файл с данными и изучите общую информацию."
      ]
    },
    {
      "cell_type": "code",
      "execution_count": null,
      "metadata": {
        "id": "DBOeb0tieIpA",
        "outputId": "55378c53-8790-48e6-a743-3e303eb1d44f"
      },
      "outputs": [
        {
          "data": {
            "text/html": [
              "<div>\n",
              "<style scoped>\n",
              "    .dataframe tbody tr th:only-of-type {\n",
              "        vertical-align: middle;\n",
              "    }\n",
              "\n",
              "    .dataframe tbody tr th {\n",
              "        vertical-align: top;\n",
              "    }\n",
              "\n",
              "    .dataframe thead th {\n",
              "        text-align: right;\n",
              "    }\n",
              "</style>\n",
              "<table border=\"1\" class=\"dataframe\">\n",
              "  <thead>\n",
              "    <tr style=\"text-align: right;\">\n",
              "      <th></th>\n",
              "      <th>total_images\\tlast_price\\ttotal_area\\tfirst_day_exposition\\trooms\\tceiling_height\\tfloors_total\\tliving_area\\tfloor\\tis_apartment\\tstudio\\topen_plan\\tkitchen_area\\tbalcony\\tlocality_name\\tairports_nearest\\tcityCenters_nearest\\tparks_around3000\\tparks_nearest\\tponds_around3000\\tponds_nearest\\tdays_exposition</th>\n",
              "    </tr>\n",
              "  </thead>\n",
              "  <tbody>\n",
              "    <tr>\n",
              "      <th>0</th>\n",
              "      <td>20\\t13000000.0\\t108.0\\t2019-03-07T00:00:00\\t3\\...</td>\n",
              "    </tr>\n",
              "    <tr>\n",
              "      <th>1</th>\n",
              "      <td>7\\t3350000.0\\t40.4\\t2018-12-04T00:00:00\\t1\\t\\t...</td>\n",
              "    </tr>\n",
              "    <tr>\n",
              "      <th>2</th>\n",
              "      <td>10\\t5196000.0\\t56.0\\t2015-08-20T00:00:00\\t2\\t\\...</td>\n",
              "    </tr>\n",
              "    <tr>\n",
              "      <th>3</th>\n",
              "      <td>0\\t64900000.0\\t159.0\\t2015-07-24T00:00:00\\t3\\t...</td>\n",
              "    </tr>\n",
              "    <tr>\n",
              "      <th>4</th>\n",
              "      <td>2\\t10000000.0\\t100.0\\t2018-06-19T00:00:00\\t2\\t...</td>\n",
              "    </tr>\n",
              "  </tbody>\n",
              "</table>\n",
              "</div>"
            ],
            "text/plain": [
              "  total_images\\tlast_price\\ttotal_area\\tfirst_day_exposition\\trooms\\tceiling_height\\tfloors_total\\tliving_area\\tfloor\\tis_apartment\\tstudio\\topen_plan\\tkitchen_area\\tbalcony\\tlocality_name\\tairports_nearest\\tcityCenters_nearest\\tparks_around3000\\tparks_nearest\\tponds_around3000\\tponds_nearest\\tdays_exposition\n",
              "0  20\\t13000000.0\\t108.0\\t2019-03-07T00:00:00\\t3\\...                                                                                                                                                                                                                                                                  \n",
              "1  7\\t3350000.0\\t40.4\\t2018-12-04T00:00:00\\t1\\t\\t...                                                                                                                                                                                                                                                                  \n",
              "2  10\\t5196000.0\\t56.0\\t2015-08-20T00:00:00\\t2\\t\\...                                                                                                                                                                                                                                                                  \n",
              "3  0\\t64900000.0\\t159.0\\t2015-07-24T00:00:00\\t3\\t...                                                                                                                                                                                                                                                                  \n",
              "4  2\\t10000000.0\\t100.0\\t2018-06-19T00:00:00\\t2\\t...                                                                                                                                                                                                                                                                  "
            ]
          },
          "execution_count": 3,
          "metadata": {},
          "output_type": "execute_result"
        }
      ],
      "source": [
        "import pandas as pd\n",
        "\n",
        "data = pd.read_csv('/datasets/real_estate_data.csv')\n",
        "\n",
        "# выведем первые 5 строчек датафрейма data на экран.\n",
        "data.head()"
      ]
    },
    {
      "cell_type": "markdown",
      "metadata": {
        "id": "iGOOugd6eIpH"
      },
      "source": [
        "**Данные склеились в одну строку и не разбились по колонкам. Исправим ситуацию.**"
      ]
    },
    {
      "cell_type": "code",
      "execution_count": null,
      "metadata": {
        "id": "O6x4WQY6eIpJ",
        "outputId": "4d9c8499-e7e4-4948-b997-15d613ac6df3"
      },
      "outputs": [
        {
          "data": {
            "text/html": [
              "<div>\n",
              "<style scoped>\n",
              "    .dataframe tbody tr th:only-of-type {\n",
              "        vertical-align: middle;\n",
              "    }\n",
              "\n",
              "    .dataframe tbody tr th {\n",
              "        vertical-align: top;\n",
              "    }\n",
              "\n",
              "    .dataframe thead th {\n",
              "        text-align: right;\n",
              "    }\n",
              "</style>\n",
              "<table border=\"1\" class=\"dataframe\">\n",
              "  <thead>\n",
              "    <tr style=\"text-align: right;\">\n",
              "      <th></th>\n",
              "      <th>total_images</th>\n",
              "      <th>last_price</th>\n",
              "      <th>total_area</th>\n",
              "      <th>first_day_exposition</th>\n",
              "      <th>rooms</th>\n",
              "      <th>ceiling_height</th>\n",
              "      <th>floors_total</th>\n",
              "      <th>living_area</th>\n",
              "      <th>floor</th>\n",
              "      <th>is_apartment</th>\n",
              "      <th>...</th>\n",
              "      <th>kitchen_area</th>\n",
              "      <th>balcony</th>\n",
              "      <th>locality_name</th>\n",
              "      <th>airports_nearest</th>\n",
              "      <th>cityCenters_nearest</th>\n",
              "      <th>parks_around3000</th>\n",
              "      <th>parks_nearest</th>\n",
              "      <th>ponds_around3000</th>\n",
              "      <th>ponds_nearest</th>\n",
              "      <th>days_exposition</th>\n",
              "    </tr>\n",
              "  </thead>\n",
              "  <tbody>\n",
              "    <tr>\n",
              "      <th>0</th>\n",
              "      <td>20</td>\n",
              "      <td>13000000.0</td>\n",
              "      <td>108.0</td>\n",
              "      <td>2019-03-07T00:00:00</td>\n",
              "      <td>3</td>\n",
              "      <td>2.70</td>\n",
              "      <td>16.0</td>\n",
              "      <td>51.0</td>\n",
              "      <td>8</td>\n",
              "      <td>NaN</td>\n",
              "      <td>...</td>\n",
              "      <td>25.0</td>\n",
              "      <td>NaN</td>\n",
              "      <td>Санкт-Петербург</td>\n",
              "      <td>18863.0</td>\n",
              "      <td>16028.0</td>\n",
              "      <td>1.0</td>\n",
              "      <td>482.0</td>\n",
              "      <td>2.0</td>\n",
              "      <td>755.0</td>\n",
              "      <td>NaN</td>\n",
              "    </tr>\n",
              "    <tr>\n",
              "      <th>1</th>\n",
              "      <td>7</td>\n",
              "      <td>3350000.0</td>\n",
              "      <td>40.4</td>\n",
              "      <td>2018-12-04T00:00:00</td>\n",
              "      <td>1</td>\n",
              "      <td>NaN</td>\n",
              "      <td>11.0</td>\n",
              "      <td>18.6</td>\n",
              "      <td>1</td>\n",
              "      <td>NaN</td>\n",
              "      <td>...</td>\n",
              "      <td>11.0</td>\n",
              "      <td>2.0</td>\n",
              "      <td>посёлок Шушары</td>\n",
              "      <td>12817.0</td>\n",
              "      <td>18603.0</td>\n",
              "      <td>0.0</td>\n",
              "      <td>NaN</td>\n",
              "      <td>0.0</td>\n",
              "      <td>NaN</td>\n",
              "      <td>81.0</td>\n",
              "    </tr>\n",
              "    <tr>\n",
              "      <th>2</th>\n",
              "      <td>10</td>\n",
              "      <td>5196000.0</td>\n",
              "      <td>56.0</td>\n",
              "      <td>2015-08-20T00:00:00</td>\n",
              "      <td>2</td>\n",
              "      <td>NaN</td>\n",
              "      <td>5.0</td>\n",
              "      <td>34.3</td>\n",
              "      <td>4</td>\n",
              "      <td>NaN</td>\n",
              "      <td>...</td>\n",
              "      <td>8.3</td>\n",
              "      <td>0.0</td>\n",
              "      <td>Санкт-Петербург</td>\n",
              "      <td>21741.0</td>\n",
              "      <td>13933.0</td>\n",
              "      <td>1.0</td>\n",
              "      <td>90.0</td>\n",
              "      <td>2.0</td>\n",
              "      <td>574.0</td>\n",
              "      <td>558.0</td>\n",
              "    </tr>\n",
              "    <tr>\n",
              "      <th>3</th>\n",
              "      <td>0</td>\n",
              "      <td>64900000.0</td>\n",
              "      <td>159.0</td>\n",
              "      <td>2015-07-24T00:00:00</td>\n",
              "      <td>3</td>\n",
              "      <td>NaN</td>\n",
              "      <td>14.0</td>\n",
              "      <td>NaN</td>\n",
              "      <td>9</td>\n",
              "      <td>NaN</td>\n",
              "      <td>...</td>\n",
              "      <td>NaN</td>\n",
              "      <td>0.0</td>\n",
              "      <td>Санкт-Петербург</td>\n",
              "      <td>28098.0</td>\n",
              "      <td>6800.0</td>\n",
              "      <td>2.0</td>\n",
              "      <td>84.0</td>\n",
              "      <td>3.0</td>\n",
              "      <td>234.0</td>\n",
              "      <td>424.0</td>\n",
              "    </tr>\n",
              "    <tr>\n",
              "      <th>4</th>\n",
              "      <td>2</td>\n",
              "      <td>10000000.0</td>\n",
              "      <td>100.0</td>\n",
              "      <td>2018-06-19T00:00:00</td>\n",
              "      <td>2</td>\n",
              "      <td>3.03</td>\n",
              "      <td>14.0</td>\n",
              "      <td>32.0</td>\n",
              "      <td>13</td>\n",
              "      <td>NaN</td>\n",
              "      <td>...</td>\n",
              "      <td>41.0</td>\n",
              "      <td>NaN</td>\n",
              "      <td>Санкт-Петербург</td>\n",
              "      <td>31856.0</td>\n",
              "      <td>8098.0</td>\n",
              "      <td>2.0</td>\n",
              "      <td>112.0</td>\n",
              "      <td>1.0</td>\n",
              "      <td>48.0</td>\n",
              "      <td>121.0</td>\n",
              "    </tr>\n",
              "  </tbody>\n",
              "</table>\n",
              "<p>5 rows × 22 columns</p>\n",
              "</div>"
            ],
            "text/plain": [
              "   total_images  last_price  total_area first_day_exposition  rooms  \\\n",
              "0            20  13000000.0       108.0  2019-03-07T00:00:00      3   \n",
              "1             7   3350000.0        40.4  2018-12-04T00:00:00      1   \n",
              "2            10   5196000.0        56.0  2015-08-20T00:00:00      2   \n",
              "3             0  64900000.0       159.0  2015-07-24T00:00:00      3   \n",
              "4             2  10000000.0       100.0  2018-06-19T00:00:00      2   \n",
              "\n",
              "   ceiling_height  floors_total  living_area  floor is_apartment  ...  \\\n",
              "0            2.70          16.0         51.0      8          NaN  ...   \n",
              "1             NaN          11.0         18.6      1          NaN  ...   \n",
              "2             NaN           5.0         34.3      4          NaN  ...   \n",
              "3             NaN          14.0          NaN      9          NaN  ...   \n",
              "4            3.03          14.0         32.0     13          NaN  ...   \n",
              "\n",
              "   kitchen_area  balcony    locality_name  airports_nearest  \\\n",
              "0          25.0      NaN  Санкт-Петербург           18863.0   \n",
              "1          11.0      2.0   посёлок Шушары           12817.0   \n",
              "2           8.3      0.0  Санкт-Петербург           21741.0   \n",
              "3           NaN      0.0  Санкт-Петербург           28098.0   \n",
              "4          41.0      NaN  Санкт-Петербург           31856.0   \n",
              "\n",
              "  cityCenters_nearest  parks_around3000  parks_nearest  ponds_around3000  \\\n",
              "0             16028.0               1.0          482.0               2.0   \n",
              "1             18603.0               0.0            NaN               0.0   \n",
              "2             13933.0               1.0           90.0               2.0   \n",
              "3              6800.0               2.0           84.0               3.0   \n",
              "4              8098.0               2.0          112.0               1.0   \n",
              "\n",
              "   ponds_nearest  days_exposition  \n",
              "0          755.0              NaN  \n",
              "1            NaN             81.0  \n",
              "2          574.0            558.0  \n",
              "3          234.0            424.0  \n",
              "4           48.0            121.0  \n",
              "\n",
              "[5 rows x 22 columns]"
            ]
          },
          "execution_count": 4,
          "metadata": {},
          "output_type": "execute_result"
        }
      ],
      "source": [
        "data = pd.read_csv('/datasets/real_estate_data.csv', sep='\\t')\n",
        "data.head()"
      ]
    },
    {
      "cell_type": "markdown",
      "metadata": {
        "id": "d9TgmBjgeIpM"
      },
      "source": [
        "**Выведем основную информацию о датафрейме.**"
      ]
    },
    {
      "cell_type": "code",
      "execution_count": null,
      "metadata": {
        "id": "WWByN2XweIpN",
        "outputId": "96b99c29-5ea0-4bb6-f314-37d5c1234a88"
      },
      "outputs": [
        {
          "name": "stdout",
          "output_type": "stream",
          "text": [
            "<class 'pandas.core.frame.DataFrame'>\n",
            "RangeIndex: 23699 entries, 0 to 23698\n",
            "Data columns (total 22 columns):\n",
            " #   Column                Non-Null Count  Dtype  \n",
            "---  ------                --------------  -----  \n",
            " 0   total_images          23699 non-null  int64  \n",
            " 1   last_price            23699 non-null  float64\n",
            " 2   total_area            23699 non-null  float64\n",
            " 3   first_day_exposition  23699 non-null  object \n",
            " 4   rooms                 23699 non-null  int64  \n",
            " 5   ceiling_height        14504 non-null  float64\n",
            " 6   floors_total          23613 non-null  float64\n",
            " 7   living_area           21796 non-null  float64\n",
            " 8   floor                 23699 non-null  int64  \n",
            " 9   is_apartment          2775 non-null   object \n",
            " 10  studio                23699 non-null  bool   \n",
            " 11  open_plan             23699 non-null  bool   \n",
            " 12  kitchen_area          21421 non-null  float64\n",
            " 13  balcony               12180 non-null  float64\n",
            " 14  locality_name         23650 non-null  object \n",
            " 15  airports_nearest      18157 non-null  float64\n",
            " 16  cityCenters_nearest   18180 non-null  float64\n",
            " 17  parks_around3000      18181 non-null  float64\n",
            " 18  parks_nearest         8079 non-null   float64\n",
            " 19  ponds_around3000      18181 non-null  float64\n",
            " 20  ponds_nearest         9110 non-null   float64\n",
            " 21  days_exposition       20518 non-null  float64\n",
            "dtypes: bool(2), float64(14), int64(3), object(3)\n",
            "memory usage: 3.7+ MB\n"
          ]
        }
      ],
      "source": [
        "data.info()"
      ]
    },
    {
      "cell_type": "markdown",
      "metadata": {
        "id": "83FYKYBJeIpO"
      },
      "source": [
        "**Общая гистограмма для всех столбцов таблицы.**"
      ]
    },
    {
      "cell_type": "code",
      "execution_count": null,
      "metadata": {
        "id": "Sl8aP-xzeIpP",
        "outputId": "16f297fc-38ac-44ce-a955-276b5f385813"
      },
      "outputs": [
        {
          "data": {
            "image/png": "[encoded data removed]",
            "text/plain": [
              "<Figure size 1080x1440 with 20 Axes>"
            ]
          },
          "metadata": {
            "needs_background": "light"
          },
          "output_type": "display_data"
        }
      ],
      "source": [
        "import matplotlib.pyplot as plt\n",
        "\n",
        "data.hist(figsize=(15, 20))\n",
        "plt.show()"
      ]
    },
    {
      "cell_type": "code",
      "execution_count": null,
      "metadata": {
        "id": "P6sqLuNJeIpT",
        "outputId": "c84a2f1c-84bf-467e-f36d-b48fc2662e7c"
      },
      "outputs": [
        {
          "data": {
            "text/plain": [
              "(23699, 22)"
            ]
          },
          "execution_count": 7,
          "metadata": {},
          "output_type": "execute_result"
        }
      ],
      "source": [
        "data.shape # сколько в DF строк и столбцов"
      ]
    },
    {
      "cell_type": "code",
      "execution_count": null,
      "metadata": {
        "id": "GkPk-rLieIpU",
        "outputId": "9a772d82-76bd-442a-d00e-4d8db2534c03"
      },
      "outputs": [
        {
          "data": {
            "text/html": [
              "<div>\n",
              "<style scoped>\n",
              "    .dataframe tbody tr th:only-of-type {\n",
              "        vertical-align: middle;\n",
              "    }\n",
              "\n",
              "    .dataframe tbody tr th {\n",
              "        vertical-align: top;\n",
              "    }\n",
              "\n",
              "    .dataframe thead th {\n",
              "        text-align: right;\n",
              "    }\n",
              "</style>\n",
              "<table border=\"1\" class=\"dataframe\">\n",
              "  <thead>\n",
              "    <tr style=\"text-align: right;\">\n",
              "      <th></th>\n",
              "      <th>total_images</th>\n",
              "      <th>last_price</th>\n",
              "      <th>total_area</th>\n",
              "      <th>rooms</th>\n",
              "      <th>ceiling_height</th>\n",
              "      <th>floors_total</th>\n",
              "      <th>living_area</th>\n",
              "      <th>floor</th>\n",
              "      <th>kitchen_area</th>\n",
              "      <th>balcony</th>\n",
              "      <th>airports_nearest</th>\n",
              "      <th>cityCenters_nearest</th>\n",
              "      <th>parks_around3000</th>\n",
              "      <th>parks_nearest</th>\n",
              "      <th>ponds_around3000</th>\n",
              "      <th>ponds_nearest</th>\n",
              "      <th>days_exposition</th>\n",
              "    </tr>\n",
              "  </thead>\n",
              "  <tbody>\n",
              "    <tr>\n",
              "      <th>count</th>\n",
              "      <td>23699.000000</td>\n",
              "      <td>2.369900e+04</td>\n",
              "      <td>23699.000000</td>\n",
              "      <td>23699.000000</td>\n",
              "      <td>14504.000000</td>\n",
              "      <td>23613.000000</td>\n",
              "      <td>21796.000000</td>\n",
              "      <td>23699.000000</td>\n",
              "      <td>21421.000000</td>\n",
              "      <td>12180.000000</td>\n",
              "      <td>18157.000000</td>\n",
              "      <td>18180.000000</td>\n",
              "      <td>18181.000000</td>\n",
              "      <td>8079.000000</td>\n",
              "      <td>18181.000000</td>\n",
              "      <td>9110.000000</td>\n",
              "      <td>20518.000000</td>\n",
              "    </tr>\n",
              "    <tr>\n",
              "      <th>mean</th>\n",
              "      <td>9.858475</td>\n",
              "      <td>6.541549e+06</td>\n",
              "      <td>60.348651</td>\n",
              "      <td>2.070636</td>\n",
              "      <td>2.771499</td>\n",
              "      <td>10.673824</td>\n",
              "      <td>34.457852</td>\n",
              "      <td>5.892358</td>\n",
              "      <td>10.569807</td>\n",
              "      <td>1.150082</td>\n",
              "      <td>28793.672193</td>\n",
              "      <td>14191.277833</td>\n",
              "      <td>0.611408</td>\n",
              "      <td>490.804555</td>\n",
              "      <td>0.770255</td>\n",
              "      <td>517.980900</td>\n",
              "      <td>180.888634</td>\n",
              "    </tr>\n",
              "    <tr>\n",
              "      <th>std</th>\n",
              "      <td>5.682529</td>\n",
              "      <td>1.088701e+07</td>\n",
              "      <td>35.654083</td>\n",
              "      <td>1.078405</td>\n",
              "      <td>1.261056</td>\n",
              "      <td>6.597173</td>\n",
              "      <td>22.030445</td>\n",
              "      <td>4.885249</td>\n",
              "      <td>5.905438</td>\n",
              "      <td>1.071300</td>\n",
              "      <td>12630.880622</td>\n",
              "      <td>8608.386210</td>\n",
              "      <td>0.802074</td>\n",
              "      <td>342.317995</td>\n",
              "      <td>0.938346</td>\n",
              "      <td>277.720643</td>\n",
              "      <td>219.727988</td>\n",
              "    </tr>\n",
              "    <tr>\n",
              "      <th>min</th>\n",
              "      <td>0.000000</td>\n",
              "      <td>1.219000e+04</td>\n",
              "      <td>12.000000</td>\n",
              "      <td>0.000000</td>\n",
              "      <td>1.000000</td>\n",
              "      <td>1.000000</td>\n",
              "      <td>2.000000</td>\n",
              "      <td>1.000000</td>\n",
              "      <td>1.300000</td>\n",
              "      <td>0.000000</td>\n",
              "      <td>0.000000</td>\n",
              "      <td>181.000000</td>\n",
              "      <td>0.000000</td>\n",
              "      <td>1.000000</td>\n",
              "      <td>0.000000</td>\n",
              "      <td>13.000000</td>\n",
              "      <td>1.000000</td>\n",
              "    </tr>\n",
              "    <tr>\n",
              "      <th>25%</th>\n",
              "      <td>6.000000</td>\n",
              "      <td>3.400000e+06</td>\n",
              "      <td>40.000000</td>\n",
              "      <td>1.000000</td>\n",
              "      <td>2.520000</td>\n",
              "      <td>5.000000</td>\n",
              "      <td>18.600000</td>\n",
              "      <td>2.000000</td>\n",
              "      <td>7.000000</td>\n",
              "      <td>0.000000</td>\n",
              "      <td>18585.000000</td>\n",
              "      <td>9238.000000</td>\n",
              "      <td>0.000000</td>\n",
              "      <td>288.000000</td>\n",
              "      <td>0.000000</td>\n",
              "      <td>294.000000</td>\n",
              "      <td>45.000000</td>\n",
              "    </tr>\n",
              "    <tr>\n",
              "      <th>50%</th>\n",
              "      <td>9.000000</td>\n",
              "      <td>4.650000e+06</td>\n",
              "      <td>52.000000</td>\n",
              "      <td>2.000000</td>\n",
              "      <td>2.650000</td>\n",
              "      <td>9.000000</td>\n",
              "      <td>30.000000</td>\n",
              "      <td>4.000000</td>\n",
              "      <td>9.100000</td>\n",
              "      <td>1.000000</td>\n",
              "      <td>26726.000000</td>\n",
              "      <td>13098.500000</td>\n",
              "      <td>0.000000</td>\n",
              "      <td>455.000000</td>\n",
              "      <td>1.000000</td>\n",
              "      <td>502.000000</td>\n",
              "      <td>95.000000</td>\n",
              "    </tr>\n",
              "    <tr>\n",
              "      <th>75%</th>\n",
              "      <td>14.000000</td>\n",
              "      <td>6.800000e+06</td>\n",
              "      <td>69.900000</td>\n",
              "      <td>3.000000</td>\n",
              "      <td>2.800000</td>\n",
              "      <td>16.000000</td>\n",
              "      <td>42.300000</td>\n",
              "      <td>8.000000</td>\n",
              "      <td>12.000000</td>\n",
              "      <td>2.000000</td>\n",
              "      <td>37273.000000</td>\n",
              "      <td>16293.000000</td>\n",
              "      <td>1.000000</td>\n",
              "      <td>612.000000</td>\n",
              "      <td>1.000000</td>\n",
              "      <td>729.000000</td>\n",
              "      <td>232.000000</td>\n",
              "    </tr>\n",
              "    <tr>\n",
              "      <th>max</th>\n",
              "      <td>50.000000</td>\n",
              "      <td>7.630000e+08</td>\n",
              "      <td>900.000000</td>\n",
              "      <td>19.000000</td>\n",
              "      <td>100.000000</td>\n",
              "      <td>60.000000</td>\n",
              "      <td>409.700000</td>\n",
              "      <td>33.000000</td>\n",
              "      <td>112.000000</td>\n",
              "      <td>5.000000</td>\n",
              "      <td>84869.000000</td>\n",
              "      <td>65968.000000</td>\n",
              "      <td>3.000000</td>\n",
              "      <td>3190.000000</td>\n",
              "      <td>3.000000</td>\n",
              "      <td>1344.000000</td>\n",
              "      <td>1580.000000</td>\n",
              "    </tr>\n",
              "  </tbody>\n",
              "</table>\n",
              "</div>"
            ],
            "text/plain": [
              "       total_images    last_price    total_area         rooms  ceiling_height  \\\n",
              "count  23699.000000  2.369900e+04  23699.000000  23699.000000    14504.000000   \n",
              "mean       9.858475  6.541549e+06     60.348651      2.070636        2.771499   \n",
              "std        5.682529  1.088701e+07     35.654083      1.078405        1.261056   \n",
              "min        0.000000  1.219000e+04     12.000000      0.000000        1.000000   \n",
              "25%        6.000000  3.400000e+06     40.000000      1.000000        2.520000   \n",
              "50%        9.000000  4.650000e+06     52.000000      2.000000        2.650000   \n",
              "75%       14.000000  6.800000e+06     69.900000      3.000000        2.800000   \n",
              "max       50.000000  7.630000e+08    900.000000     19.000000      100.000000   \n",
              "\n",
              "       floors_total   living_area         floor  kitchen_area       balcony  \\\n",
              "count  23613.000000  21796.000000  23699.000000  21421.000000  12180.000000   \n",
              "mean      10.673824     34.457852      5.892358     10.569807      1.150082   \n",
              "std        6.597173     22.030445      4.885249      5.905438      1.071300   \n",
              "min        1.000000      2.000000      1.000000      1.300000      0.000000   \n",
              "25%        5.000000     18.600000      2.000000      7.000000      0.000000   \n",
              "50%        9.000000     30.000000      4.000000      9.100000      1.000000   \n",
              "75%       16.000000     42.300000      8.000000     12.000000      2.000000   \n",
              "max       60.000000    409.700000     33.000000    112.000000      5.000000   \n",
              "\n",
              "       airports_nearest  cityCenters_nearest  parks_around3000  parks_nearest  \\\n",
              "count      18157.000000         18180.000000      18181.000000    8079.000000   \n",
              "mean       28793.672193         14191.277833          0.611408     490.804555   \n",
              "std        12630.880622          8608.386210          0.802074     342.317995   \n",
              "min            0.000000           181.000000          0.000000       1.000000   \n",
              "25%        18585.000000          9238.000000          0.000000     288.000000   \n",
              "50%        26726.000000         13098.500000          0.000000     455.000000   \n",
              "75%        37273.000000         16293.000000          1.000000     612.000000   \n",
              "max        84869.000000         65968.000000          3.000000    3190.000000   \n",
              "\n",
              "       ponds_around3000  ponds_nearest  days_exposition  \n",
              "count      18181.000000    9110.000000     20518.000000  \n",
              "mean           0.770255     517.980900       180.888634  \n",
              "std            0.938346     277.720643       219.727988  \n",
              "min            0.000000      13.000000         1.000000  \n",
              "25%            0.000000     294.000000        45.000000  \n",
              "50%            1.000000     502.000000        95.000000  \n",
              "75%            1.000000     729.000000       232.000000  \n",
              "max            3.000000    1344.000000      1580.000000  "
            ]
          },
          "execution_count": 8,
          "metadata": {},
          "output_type": "execute_result"
        }
      ],
      "source": [
        "data.describe()"
      ]
    },
    {
      "cell_type": "markdown",
      "metadata": {
        "id": "BNf2uw3yeIpV"
      },
      "source": [
        "### Предобработка данных"
      ]
    },
    {
      "cell_type": "markdown",
      "metadata": {
        "id": "PSXUs2qXeIpW"
      },
      "source": [
        "**Выведем количество пропущенных значений для каждого столбца.**"
      ]
    },
    {
      "cell_type": "code",
      "execution_count": null,
      "metadata": {
        "scrolled": true,
        "id": "bPR45Q1eeIpX",
        "outputId": "aa5da567-36d4-47d2-eec1-1b84623e7470"
      },
      "outputs": [
        {
          "name": "stdout",
          "output_type": "stream",
          "text": [
            "ceiling_height          9195\n",
            "floors_total              86\n",
            "living_area             1903\n",
            "is_apartment           20924\n",
            "kitchen_area            2278\n",
            "balcony                11519\n",
            "locality_name             49\n",
            "airports_nearest        5542\n",
            "cityCenters_nearest     5519\n",
            "parks_around3000        5518\n",
            "parks_nearest          15620\n",
            "ponds_around3000        5518\n",
            "ponds_nearest          14589\n",
            "days_exposition         3181\n",
            "dtype: int64\n"
          ]
        }
      ],
      "source": [
        "missing = data.isna().sum()\n",
        "print(missing[missing > 0])"
      ]
    },
    {
      "cell_type": "code",
      "execution_count": null,
      "metadata": {
        "id": "km5sCKK9eIpZ",
        "outputId": "ffe5b8df-6e1a-40db-ec1f-d9814f742ca9"
      },
      "outputs": [
        {
          "data": {
            "text/html": [
              "<style  type=\"text/css\" >\n",
              "#T_1fc87_row0_col0,#T_1fc87_row1_col0,#T_1fc87_row2_col0,#T_1fc87_row3_col0,#T_1fc87_row4_col0,#T_1fc87_row6_col0,#T_1fc87_row8_col0,#T_1fc87_row10_col0,#T_1fc87_row11_col0,#T_1fc87_row14_col0{\n",
              "            background-color:  #3b4cc0;\n",
              "            color:  #f1f1f1;\n",
              "        }#T_1fc87_row5_col0{\n",
              "            background-color:  #cdd9ec;\n",
              "            color:  #000000;\n",
              "        }#T_1fc87_row7_col0{\n",
              "            background-color:  #5673e0;\n",
              "            color:  #000000;\n",
              "        }#T_1fc87_row9_col0{\n",
              "            background-color:  #b40426;\n",
              "            color:  #f1f1f1;\n",
              "        }#T_1fc87_row12_col0{\n",
              "            background-color:  #5e7de7;\n",
              "            color:  #000000;\n",
              "        }#T_1fc87_row13_col0{\n",
              "            background-color:  #ead4c8;\n",
              "            color:  #000000;\n",
              "        }#T_1fc87_row15_col0,#T_1fc87_row16_col0,#T_1fc87_row17_col0,#T_1fc87_row19_col0{\n",
              "            background-color:  #90b2fe;\n",
              "            color:  #000000;\n",
              "        }#T_1fc87_row18_col0{\n",
              "            background-color:  #f4987a;\n",
              "            color:  #000000;\n",
              "        }#T_1fc87_row20_col0{\n",
              "            background-color:  #f7aa8c;\n",
              "            color:  #000000;\n",
              "        }#T_1fc87_row21_col0{\n",
              "            background-color:  #688aef;\n",
              "            color:  #000000;\n",
              "        }</style><table id=\"T_1fc87_\" ><thead>    <tr>        <th class=\"blank level0\" ></th>        <th class=\"col_heading level0 col0\" >0</th>    </tr></thead><tbody>\n",
              "                <tr>\n",
              "                        <th id=\"T_1fc87_level0_row0\" class=\"row_heading level0 row0\" >total_images</th>\n",
              "                        <td id=\"T_1fc87_row0_col0\" class=\"data row0 col0\" >0.000000</td>\n",
              "            </tr>\n",
              "            <tr>\n",
              "                        <th id=\"T_1fc87_level0_row1\" class=\"row_heading level0 row1\" >last_price</th>\n",
              "                        <td id=\"T_1fc87_row1_col0\" class=\"data row1 col0\" >0.000000</td>\n",
              "            </tr>\n",
              "            <tr>\n",
              "                        <th id=\"T_1fc87_level0_row2\" class=\"row_heading level0 row2\" >total_area</th>\n",
              "                        <td id=\"T_1fc87_row2_col0\" class=\"data row2 col0\" >0.000000</td>\n",
              "            </tr>\n",
              "            <tr>\n",
              "                        <th id=\"T_1fc87_level0_row3\" class=\"row_heading level0 row3\" >first_day_exposition</th>\n",
              "                        <td id=\"T_1fc87_row3_col0\" class=\"data row3 col0\" >0.000000</td>\n",
              "            </tr>\n",
              "            <tr>\n",
              "                        <th id=\"T_1fc87_level0_row4\" class=\"row_heading level0 row4\" >rooms</th>\n",
              "                        <td id=\"T_1fc87_row4_col0\" class=\"data row4 col0\" >0.000000</td>\n",
              "            </tr>\n",
              "            <tr>\n",
              "                        <th id=\"T_1fc87_level0_row5\" class=\"row_heading level0 row5\" >ceiling_height</th>\n",
              "                        <td id=\"T_1fc87_row5_col0\" class=\"data row5 col0\" >39.000000</td>\n",
              "            </tr>\n",
              "            <tr>\n",
              "                        <th id=\"T_1fc87_level0_row6\" class=\"row_heading level0 row6\" >floors_total</th>\n",
              "                        <td id=\"T_1fc87_row6_col0\" class=\"data row6 col0\" >0.000000</td>\n",
              "            </tr>\n",
              "            <tr>\n",
              "                        <th id=\"T_1fc87_level0_row7\" class=\"row_heading level0 row7\" >living_area</th>\n",
              "                        <td id=\"T_1fc87_row7_col0\" class=\"data row7 col0\" >8.000000</td>\n",
              "            </tr>\n",
              "            <tr>\n",
              "                        <th id=\"T_1fc87_level0_row8\" class=\"row_heading level0 row8\" >floor</th>\n",
              "                        <td id=\"T_1fc87_row8_col0\" class=\"data row8 col0\" >0.000000</td>\n",
              "            </tr>\n",
              "            <tr>\n",
              "                        <th id=\"T_1fc87_level0_row9\" class=\"row_heading level0 row9\" >is_apartment</th>\n",
              "                        <td id=\"T_1fc87_row9_col0\" class=\"data row9 col0\" >88.000000</td>\n",
              "            </tr>\n",
              "            <tr>\n",
              "                        <th id=\"T_1fc87_level0_row10\" class=\"row_heading level0 row10\" >studio</th>\n",
              "                        <td id=\"T_1fc87_row10_col0\" class=\"data row10 col0\" >0.000000</td>\n",
              "            </tr>\n",
              "            <tr>\n",
              "                        <th id=\"T_1fc87_level0_row11\" class=\"row_heading level0 row11\" >open_plan</th>\n",
              "                        <td id=\"T_1fc87_row11_col0\" class=\"data row11 col0\" >0.000000</td>\n",
              "            </tr>\n",
              "            <tr>\n",
              "                        <th id=\"T_1fc87_level0_row12\" class=\"row_heading level0 row12\" >kitchen_area</th>\n",
              "                        <td id=\"T_1fc87_row12_col0\" class=\"data row12 col0\" >10.000000</td>\n",
              "            </tr>\n",
              "            <tr>\n",
              "                        <th id=\"T_1fc87_level0_row13\" class=\"row_heading level0 row13\" >balcony</th>\n",
              "                        <td id=\"T_1fc87_row13_col0\" class=\"data row13 col0\" >49.000000</td>\n",
              "            </tr>\n",
              "            <tr>\n",
              "                        <th id=\"T_1fc87_level0_row14\" class=\"row_heading level0 row14\" >locality_name</th>\n",
              "                        <td id=\"T_1fc87_row14_col0\" class=\"data row14 col0\" >0.000000</td>\n",
              "            </tr>\n",
              "            <tr>\n",
              "                        <th id=\"T_1fc87_level0_row15\" class=\"row_heading level0 row15\" >airports_nearest</th>\n",
              "                        <td id=\"T_1fc87_row15_col0\" class=\"data row15 col0\" >23.000000</td>\n",
              "            </tr>\n",
              "            <tr>\n",
              "                        <th id=\"T_1fc87_level0_row16\" class=\"row_heading level0 row16\" >cityCenters_nearest</th>\n",
              "                        <td id=\"T_1fc87_row16_col0\" class=\"data row16 col0\" >23.000000</td>\n",
              "            </tr>\n",
              "            <tr>\n",
              "                        <th id=\"T_1fc87_level0_row17\" class=\"row_heading level0 row17\" >parks_around3000</th>\n",
              "                        <td id=\"T_1fc87_row17_col0\" class=\"data row17 col0\" >23.000000</td>\n",
              "            </tr>\n",
              "            <tr>\n",
              "                        <th id=\"T_1fc87_level0_row18\" class=\"row_heading level0 row18\" >parks_nearest</th>\n",
              "                        <td id=\"T_1fc87_row18_col0\" class=\"data row18 col0\" >66.000000</td>\n",
              "            </tr>\n",
              "            <tr>\n",
              "                        <th id=\"T_1fc87_level0_row19\" class=\"row_heading level0 row19\" >ponds_around3000</th>\n",
              "                        <td id=\"T_1fc87_row19_col0\" class=\"data row19 col0\" >23.000000</td>\n",
              "            </tr>\n",
              "            <tr>\n",
              "                        <th id=\"T_1fc87_level0_row20\" class=\"row_heading level0 row20\" >ponds_nearest</th>\n",
              "                        <td id=\"T_1fc87_row20_col0\" class=\"data row20 col0\" >62.000000</td>\n",
              "            </tr>\n",
              "            <tr>\n",
              "                        <th id=\"T_1fc87_level0_row21\" class=\"row_heading level0 row21\" >days_exposition</th>\n",
              "                        <td id=\"T_1fc87_row21_col0\" class=\"data row21 col0\" >13.000000</td>\n",
              "            </tr>\n",
              "    </tbody></table>"
            ],
            "text/plain": [
              "<pandas.io.formats.style.Styler at 0x7f6990d93700>"
            ]
          },
          "execution_count": 10,
          "metadata": {},
          "output_type": "execute_result"
        }
      ],
      "source": [
        "pd.DataFrame(round(data.isna().mean()*100,)).style.background_gradient('coolwarm')"
      ]
    },
    {
      "cell_type": "markdown",
      "metadata": {
        "id": "lCHtS0H-eIpc"
      },
      "source": [
        "**Пропуски в 14 столбцах. Заменим пропущенные значения там, где возможно на логичные значения.**"
      ]
    },
    {
      "cell_type": "code",
      "execution_count": null,
      "metadata": {
        "id": "f6scULs3eIpd",
        "outputId": "8bf5c626-4e33-4aad-9be9-fef35275354a"
      },
      "outputs": [
        {
          "name": "stdout",
          "output_type": "stream",
          "text": [
            "floors_total              86\n",
            "living_area             1903\n",
            "kitchen_area            2278\n",
            "locality_name             49\n",
            "airports_nearest        5542\n",
            "cityCenters_nearest     5519\n",
            "parks_around3000        5518\n",
            "parks_nearest          15620\n",
            "ponds_around3000        5518\n",
            "ponds_nearest          14589\n",
            "dtype: int64\n"
          ]
        }
      ],
      "source": [
        "# Заменим пропуски в столбце 'balcony' на 0\n",
        "data['balcony'] = data['balcony'].fillna(0)\n",
        "\n",
        "# Заменим пропуски в столбце 'is_apartment' на False\n",
        "data['is_apartment'] = data['is_apartment'].fillna(False)\n",
        "\n",
        "# Заменим пропущенные значения в столбце 'ceiling_height' медианным значением\n",
        "data['ceiling_height'].fillna(data['ceiling_height'].median(),inplace = True)\n",
        "\n",
        "# Заменим пропущенные значения в столбце 'days_exposition' медианным значением\n",
        "data['days_exposition'].fillna(data['days_exposition'].median(),inplace = True)\n",
        "\n",
        "missing = data.isna().sum()\n",
        "print(missing[missing > 0])"
      ]
    },
    {
      "cell_type": "markdown",
      "metadata": {
        "id": "dB9auFgReIpg"
      },
      "source": [
        "**Посмотрим уникальные значения в столбце 'ceiling_height'**"
      ]
    },
    {
      "cell_type": "code",
      "execution_count": null,
      "metadata": {
        "id": "Aht6O6SKeIph",
        "outputId": "3b5db33a-5cc0-44a3-b30f-8eaf60aef2cf"
      },
      "outputs": [
        {
          "data": {
            "text/plain": [
              "array([  2.7 ,   2.65,   3.03,   2.5 ,   2.67,   2.56,   3.05,   2.75,\n",
              "         2.6 ,   2.9 ,   2.8 ,   2.55,   3.  ,   3.2 ,   2.61,   3.25,\n",
              "         3.45,   2.77,   2.85,   2.64,   2.57,   4.15,   3.5 ,   3.3 ,\n",
              "         2.71,   4.  ,   2.47,   2.73,   2.84,   3.1 ,   2.34,   3.4 ,\n",
              "         3.06,   2.72,   2.54,   2.51,   2.78,   2.76,  25.  ,   2.58,\n",
              "         3.7 ,   2.52,   5.2 ,   2.87,   2.66,   2.59,   2.  ,   2.45,\n",
              "         3.6 ,   2.92,   3.11,   3.13,   3.8 ,   3.15,   3.55,   3.16,\n",
              "         3.62,   3.12,   2.53,   2.74,   2.96,   2.46,   5.3 ,   5.  ,\n",
              "         2.79,   2.95,   4.06,   2.94,   3.82,   3.54,   3.53,   2.83,\n",
              "         4.7 ,   2.4 ,   3.38,   3.01,   5.6 ,   3.65,   3.9 ,   3.18,\n",
              "         3.35,   2.3 ,   3.57,   2.48,   2.62,   2.82,   3.98,   2.63,\n",
              "         3.83,   3.52,   3.95,   3.75,   2.88,   3.67,   3.87,   3.66,\n",
              "         3.85,   3.86,   4.19,   3.24,   4.8 ,   4.5 ,   4.2 ,   3.36,\n",
              "        32.  ,   3.08,   3.68,   3.07,   3.37,   3.09,   8.  ,   3.26,\n",
              "         3.34,   2.81,   3.44,   2.97,   3.14,   4.37,   2.68,   3.22,\n",
              "         3.27,  27.  ,   4.1 ,   2.93,   3.46,  24.  ,   3.47,   3.33,\n",
              "         3.63,   3.32,  26.  ,   1.2 ,   8.3 ,   2.98,   2.86,   3.17,\n",
              "         4.4 ,   3.28,   3.04,   4.45,   5.5 ,   3.84,   3.23,   3.02,\n",
              "         3.21,   3.43,   3.78,   4.3 ,   3.39,   2.69,   3.31,   4.65,\n",
              "         3.56,   2.2 ,   3.51,   3.93,   3.42,   2.99,   3.49,  14.  ,\n",
              "         4.14,   2.91,   3.88,   1.75,   4.25,   3.29,  20.  ,   2.25,\n",
              "         3.76,   3.69,   6.  ,  22.6 ,   2.89,   3.58,   5.8 ,  27.5 ,\n",
              "         2.49,   4.9 ,   3.48,  10.3 ,   1.  , 100.  ,   3.59])"
            ]
          },
          "execution_count": 10,
          "metadata": {},
          "output_type": "execute_result"
        }
      ],
      "source": [
        "data['ceiling_height'].unique()"
      ]
    },
    {
      "cell_type": "markdown",
      "metadata": {
        "id": "EeoslEoEeIpi"
      },
      "source": [
        "**По уникальным значениям видно, что есть аномальные значения высоты потолка. В стандартных квартирах принята высота потолков от 2.5 метров, в домах со вторым светом максимальная высота 6 метров. Допустим высоту от 2.5 метров до 10. Значения выше 10 метров разделим на 10(скорее всего здесь ошибка в запятой), а значения меньше 2.5 заменим медианой.**"
      ]
    },
    {
      "cell_type": "code",
      "execution_count": null,
      "metadata": {
        "id": "kky55L9BeIpj",
        "outputId": "774c8b4b-ee44-4250-8f7f-c57020bc9c2b"
      },
      "outputs": [
        {
          "data": {
            "text/plain": [
              "array([ 2.7 ,  2.65,  3.03,  2.5 ,  2.67,  2.56,  3.05,  2.75,  2.6 ,\n",
              "        2.9 ,  2.8 ,  2.55,  3.  ,  3.2 ,  2.61,  3.25,  3.45,  2.77,\n",
              "        2.85,  2.64,  2.57,  4.15,  3.5 ,  3.3 ,  2.71,  4.  ,  2.73,\n",
              "        2.84,  3.1 ,  3.4 ,  3.06,  2.72,  2.54,  2.51,  2.78,  2.76,\n",
              "        2.58,  3.7 ,  2.52,  5.2 ,  2.87,  2.66,  2.59,  3.6 ,  2.92,\n",
              "        3.11,  3.13,  3.8 ,  3.15,  3.55,  3.16,  3.62,  3.12,  2.53,\n",
              "        2.74,  2.96,  5.3 ,  5.  ,  2.79,  2.95,  4.06,  2.94,  3.82,\n",
              "        3.54,  3.53,  2.83,  4.7 ,  3.38,  3.01,  5.6 ,  3.65,  3.9 ,\n",
              "        3.18,  3.35,  3.57,  2.62,  2.82,  3.98,  2.63,  3.83,  3.52,\n",
              "        3.95,  3.75,  2.88,  3.67,  3.87,  3.66,  3.85,  3.86,  4.19,\n",
              "        3.24,  4.8 ,  4.5 ,  4.2 ,  3.36,  3.08,  3.68,  3.07,  3.37,\n",
              "        3.09,  8.  ,  3.26,  3.34,  2.81,  3.44,  2.97,  3.14,  4.37,\n",
              "        2.68,  3.22,  3.27,  4.1 ,  2.93,  3.46,  3.47,  3.33,  3.63,\n",
              "        3.32,  8.3 ,  2.98,  2.86,  3.17,  4.4 ,  3.28,  3.04,  4.45,\n",
              "        5.5 ,  3.84,  3.23,  3.02,  3.21,  3.43,  3.78,  4.3 ,  3.39,\n",
              "        2.69,  3.31,  4.65,  3.56,  3.51,  3.93,  3.42,  2.99,  3.49,\n",
              "        4.14,  2.91,  3.88,  4.25,  3.29,  3.76,  3.69,  6.  ,  2.89,\n",
              "        3.58,  5.8 ,  4.9 ,  3.48, 10.  ,  3.59])"
            ]
          },
          "execution_count": 11,
          "metadata": {},
          "output_type": "execute_result"
        }
      ],
      "source": [
        "data.loc[(data.ceiling_height > 10), 'ceiling_height'] = data['ceiling_height']/10\n",
        "data.loc[(data.ceiling_height < 2.5), 'ceiling_height'] = data['ceiling_height'].median()\n",
        "data['ceiling_height'].unique()"
      ]
    },
    {
      "cell_type": "markdown",
      "metadata": {
        "id": "SaUHt187eIpk"
      },
      "source": [
        "**Обработаем пропуски в столбцах с данными площади квартир.**"
      ]
    },
    {
      "cell_type": "markdown",
      "metadata": {
        "id": "flGdnXKzeIpl"
      },
      "source": [
        "*Заполним пропуски в столбце 'kitchen_area'*"
      ]
    },
    {
      "cell_type": "code",
      "execution_count": null,
      "metadata": {
        "id": "oQiguABJeIpm",
        "outputId": "a36b9d9a-3478-4fae-aff3-2cb7ece8e7e2"
      },
      "outputs": [
        {
          "data": {
            "text/plain": [
              "0"
            ]
          },
          "execution_count": 12,
          "metadata": {},
          "output_type": "execute_result"
        }
      ],
      "source": [
        "for t in data['rooms'].unique():\n",
        "    data.loc[(data['rooms'] == t) & (data['kitchen_area'].isna()), 'kitchen_area'] = \\\n",
        "    (data['kitchen_area'] / data['total_area']).median()*data['total_area']\n",
        "\n",
        "data['kitchen_area'].isna().sum() # проверим наличие пропусков"
      ]
    },
    {
      "cell_type": "markdown",
      "metadata": {
        "id": "DMWelQMDeIpn"
      },
      "source": [
        "*Заполним пропуски в столбце 'living_area'*"
      ]
    },
    {
      "cell_type": "code",
      "execution_count": null,
      "metadata": {
        "id": "cj5Ve-CleIpn",
        "outputId": "d8aa09df-932c-49d5-be5a-72b50baf025d"
      },
      "outputs": [
        {
          "data": {
            "text/plain": [
              "0"
            ]
          },
          "execution_count": 13,
          "metadata": {},
          "output_type": "execute_result"
        }
      ],
      "source": [
        "for t in data['rooms'].unique():\n",
        "    data.loc[(data['rooms'] == t) & (data['living_area'].isna()), 'living_area'] = \\\n",
        "    (data['living_area'] / data['total_area']).median()*data['total_area']\n",
        "\n",
        "data['living_area'].isna().sum() # проверим наличие пропусков"
      ]
    },
    {
      "cell_type": "markdown",
      "metadata": {
        "id": "2_lyUkqfeIqg"
      },
      "source": [
        "*Проверим правильность заполнения данных в столбце 'kitchen_area' выполнением условия:*\n",
        "*'kitchen_area' < 'total_area' - 'living_area'*\n"
      ]
    },
    {
      "cell_type": "code",
      "execution_count": null,
      "metadata": {
        "id": "uuEjHxP7eIqh",
        "outputId": "a24feb5f-28f6-457f-e0dd-093706d4dde7"
      },
      "outputs": [
        {
          "name": "stdout",
          "output_type": "stream",
          "text": [
            "(181, 22)\n"
          ]
        },
        {
          "data": {
            "text/plain": [
              "(23699, 22)"
            ]
          },
          "execution_count": 14,
          "metadata": {},
          "output_type": "execute_result"
        }
      ],
      "source": [
        "data_kitchen = data.query('(total_area - living_area) <= kitchen_area')\n",
        "print(data_kitchen.shape)\n",
        "data.shape"
      ]
    },
    {
      "cell_type": "markdown",
      "metadata": {
        "id": "s9L3WknOeIqj"
      },
      "source": [
        "*181 строк не соответствуют условиям. Ввиду того, что процент этих сток от общего датафрейма мал, удалим их.*"
      ]
    },
    {
      "cell_type": "code",
      "execution_count": null,
      "metadata": {
        "id": "Q7vyVtB7eIqj",
        "outputId": "abf6ed5e-002f-412b-a3d9-1b2b1f208ffe"
      },
      "outputs": [
        {
          "data": {
            "text/plain": [
              "(23518, 22)"
            ]
          },
          "execution_count": 15,
          "metadata": {},
          "output_type": "execute_result"
        }
      ],
      "source": [
        "data = data.query('(total_area - living_area) > kitchen_area')\n",
        "data.shape # убедимся, что строки удалены"
      ]
    },
    {
      "cell_type": "markdown",
      "metadata": {
        "id": "MV97J1L4eIql"
      },
      "source": [
        "*Столбец 'floors_total' можно заполнить максимально возможным значением ввиду малого процента от общего объёма данных*"
      ]
    },
    {
      "cell_type": "code",
      "execution_count": null,
      "metadata": {
        "id": "0rh86TRieIql",
        "outputId": "f819b30a-5510-4ac2-828a-b0c1d8fded82"
      },
      "outputs": [
        {
          "data": {
            "text/plain": [
              "(0, 22)"
            ]
          },
          "execution_count": 16,
          "metadata": {},
          "output_type": "execute_result"
        }
      ],
      "source": [
        "data['floors_total'].fillna(data['floor'],inplace = True)\n",
        "data_floors = data.query('floors_total < floor') # проверим выполнение условия\n",
        "data_floors.shape\n"
      ]
    },
    {
      "cell_type": "markdown",
      "metadata": {
        "id": "YUoPvBGceIqm"
      },
      "source": [
        "**Раасмотрим типы данных в столбцах. Найдём столбцы, в которых нужно изменить тип данных и преобразуем в выбранных столбцах.**\n",
        "\n",
        "*В столбце 'first_day_exposition' тип данных object. Заменим его на datatime, чтобы можно было работать с датами.*"
      ]
    },
    {
      "cell_type": "code",
      "execution_count": null,
      "metadata": {
        "id": "LHN5fpS3eIqn"
      },
      "outputs": [],
      "source": [
        "data['first_day_exposition'] = pd.to_datetime(\n",
        "    data['first_day_exposition'], format='%Y-%m-%dT%H:%M:%S'\n",
        ")"
      ]
    },
    {
      "cell_type": "markdown",
      "metadata": {
        "id": "GZMD8VGIeIqo"
      },
      "source": [
        "*В столбце 'floors_total' тип данных float64. Количество этажей может быть только целым числом. Заменим тип данных на int64.*"
      ]
    },
    {
      "cell_type": "code",
      "execution_count": null,
      "metadata": {
        "id": "zOzMmYpHeIqp"
      },
      "outputs": [],
      "source": [
        "data['floors_total'] = data['floors_total'].astype('int')"
      ]
    },
    {
      "cell_type": "markdown",
      "metadata": {
        "id": "zA2ZbLhGeIqq"
      },
      "source": [
        "*В столбце 'balcony' тип данных float64. Количество балконов может быть только целым числом. Заменим тип данных на int64.*"
      ]
    },
    {
      "cell_type": "code",
      "execution_count": null,
      "metadata": {
        "id": "_C4L6sdheIqq"
      },
      "outputs": [],
      "source": [
        "data['balcony'] = data['balcony'].astype('int')"
      ]
    },
    {
      "cell_type": "markdown",
      "metadata": {
        "id": "HDX8Vwa0eIqr"
      },
      "source": [
        "*В столбце 'days_exposition' тип данных float64. Количество дней может быть только целым числом. Заменим тип данных на int64.*"
      ]
    },
    {
      "cell_type": "code",
      "execution_count": null,
      "metadata": {
        "id": "eiIGEHsSeIqs"
      },
      "outputs": [],
      "source": [
        "data['days_exposition'] = data['days_exposition'].astype('int')"
      ]
    },
    {
      "cell_type": "markdown",
      "metadata": {
        "id": "Jd8f6M9ieIqt"
      },
      "source": [
        "*В столбце 'last_price' тип данных float64. Цена может быть только целым числом. Заменим тип данных на int64.*"
      ]
    },
    {
      "cell_type": "code",
      "execution_count": null,
      "metadata": {
        "id": "9Wid5tpfeIqu"
      },
      "outputs": [],
      "source": [
        "data['last_price'] = data['last_price'].astype('int')"
      ]
    },
    {
      "cell_type": "markdown",
      "metadata": {
        "id": "befq-WzIeIqu"
      },
      "source": [
        "*В столбцах 'parks_around3000' и 'ponds_around3000' тип данных float64. Количество парков и водоёмов может быть только целым числом, но в столбцах есть пропуски. В этом случае мы не можем изменить тип данных, не заполнив пропуски. Оставим пока без изменения типы данных этих столбцов.*\n",
        "*Посмотрим результат.*"
      ]
    },
    {
      "cell_type": "code",
      "execution_count": null,
      "metadata": {
        "id": "ZC3l-zbfeIqv",
        "outputId": "127685c8-bdb2-4e39-a365-78de672dfdc0"
      },
      "outputs": [
        {
          "name": "stdout",
          "output_type": "stream",
          "text": [
            "<class 'pandas.core.frame.DataFrame'>\n",
            "Int64Index: 23518 entries, 0 to 23698\n",
            "Data columns (total 22 columns):\n",
            " #   Column                Non-Null Count  Dtype         \n",
            "---  ------                --------------  -----         \n",
            " 0   total_images          23518 non-null  int64         \n",
            " 1   last_price            23518 non-null  int64         \n",
            " 2   total_area            23518 non-null  float64       \n",
            " 3   first_day_exposition  23518 non-null  datetime64[ns]\n",
            " 4   rooms                 23518 non-null  int64         \n",
            " 5   ceiling_height        23518 non-null  float64       \n",
            " 6   floors_total          23518 non-null  int64         \n",
            " 7   living_area           23518 non-null  float64       \n",
            " 8   floor                 23518 non-null  int64         \n",
            " 9   is_apartment          23518 non-null  bool          \n",
            " 10  studio                23518 non-null  bool          \n",
            " 11  open_plan             23518 non-null  bool          \n",
            " 12  kitchen_area          23518 non-null  float64       \n",
            " 13  balcony               23518 non-null  int64         \n",
            " 14  locality_name         23469 non-null  object        \n",
            " 15  airports_nearest      18038 non-null  float64       \n",
            " 16  cityCenters_nearest   18061 non-null  float64       \n",
            " 17  parks_around3000      18062 non-null  float64       \n",
            " 18  parks_nearest         8026 non-null   float64       \n",
            " 19  ponds_around3000      18062 non-null  float64       \n",
            " 20  ponds_nearest         9054 non-null   float64       \n",
            " 21  days_exposition       23518 non-null  int64         \n",
            "dtypes: bool(3), datetime64[ns](1), float64(10), int64(7), object(1)\n",
            "memory usage: 3.7+ MB\n"
          ]
        }
      ],
      "source": [
        "data.info()"
      ]
    },
    {
      "cell_type": "markdown",
      "metadata": {
        "id": "OrVGkKjqeIqz"
      },
      "source": [
        "**Проверим столбец 'locality_name' на неявные дубликаты.**"
      ]
    },
    {
      "cell_type": "code",
      "execution_count": null,
      "metadata": {
        "id": "EazS8iZReIq0",
        "outputId": "ed1fc1a8-2e5d-4c88-fd23-fc7b9681d2f7"
      },
      "outputs": [
        {
          "data": {
            "text/plain": [
              "array(['Бокситогорск', 'Волосово', 'Волхов', 'Всеволожск', 'Выборг',\n",
              "       'Высоцк', 'Гатчина', 'Зеленогорск', 'Ивангород', 'Каменногорск',\n",
              "       'Кингисепп', 'Кириши', 'Кировск', 'Колпино', 'Коммунар',\n",
              "       'Красное Село', 'Кронштадт', 'Кудрово', 'Лодейное Поле',\n",
              "       'Ломоносов', 'Луга', 'Любань', 'Мурино', 'Никольское',\n",
              "       'Новая Ладога', 'Отрадное', 'Павловск', 'Петергоф', 'Пикалёво',\n",
              "       'Подпорожье', 'Приморск', 'Приозерск', 'Пушкин', 'Санкт-Петербург',\n",
              "       'Светогорск', 'Сертолово', 'Сестрорецк', 'Сланцы', 'Сосновый Бор',\n",
              "       'Сясьстрой', 'Тихвин', 'Тосно', 'Шлиссельбург',\n",
              "       'городской поселок Большая Ижора', 'городской поселок Янино-1',\n",
              "       'городской посёлок Будогощь', 'городской посёлок Виллози',\n",
              "       'городской посёлок Лесогорский', 'городской посёлок Мга',\n",
              "       'городской посёлок Назия', 'городской посёлок Новоселье',\n",
              "       'городской посёлок Павлово', 'городской посёлок Рощино',\n",
              "       'городской посёлок Свирьстрой', 'городской посёлок Советский',\n",
              "       'городской посёлок Фёдоровское', 'городской посёлок Янино-1',\n",
              "       'деревня Агалатово', 'деревня Аро', 'деревня Батово',\n",
              "       'деревня Бегуницы', 'деревня Белогорка', 'деревня Большая Вруда',\n",
              "       'деревня Большая Пустомержа', 'деревня Большие Колпаны',\n",
              "       'деревня Большое Рейзино', 'деревня Большой Сабск', 'деревня Бор',\n",
              "       'деревня Борисова Грива', 'деревня Ваганово', 'деревня Вартемяги',\n",
              "       'деревня Вахнова Кара', 'деревня Выскатка', 'деревня Гарболово',\n",
              "       'деревня Глинка', 'деревня Горбунки', 'деревня Гостилицы',\n",
              "       'деревня Заклинье', 'деревня Заневка', 'деревня Зимитицы',\n",
              "       'деревня Извара', 'деревня Иссад', 'деревня Калитино',\n",
              "       'деревня Кальтино', 'деревня Камышовка', 'деревня Каськово',\n",
              "       'деревня Келози', 'деревня Кипень', 'деревня Кисельня',\n",
              "       'деревня Колтуши', 'деревня Коркино', 'деревня Котлы',\n",
              "       'деревня Кривко', 'деревня Кудрово', 'деревня Кузьмолово',\n",
              "       'деревня Курковицы', 'деревня Куровицы', 'деревня Куттузи',\n",
              "       'деревня Лаврики', 'деревня Лаголово', 'деревня Лампово',\n",
              "       'деревня Лесколово', 'деревня Лопухинка', 'деревня Лупполово',\n",
              "       'деревня Малая Романовка', 'деревня Малое Верево',\n",
              "       'деревня Малое Карлино', 'деревня Малые Колпаны',\n",
              "       'деревня Мануйлово', 'деревня Меньково', 'деревня Мины',\n",
              "       'деревня Мистолово', 'деревня Ненимяки', 'деревня Нижние Осельки',\n",
              "       'деревня Нижняя', 'деревня Низино', 'деревня Новое Девяткино',\n",
              "       'деревня Новолисино', 'деревня Нурма', 'деревня Оржицы',\n",
              "       'деревня Парицы', 'деревня Пельгора', 'деревня Пеники',\n",
              "       'деревня Пижма', 'деревня Пикколово', 'деревня Пудомяги',\n",
              "       'деревня Пустынка', 'деревня Пчева', 'деревня Рабитицы',\n",
              "       'деревня Разбегаево', 'деревня Раздолье', 'деревня Разметелево',\n",
              "       'деревня Рапполово', 'деревня Реброво', 'деревня Русско',\n",
              "       'деревня Сижно', 'деревня Снегирёвка', 'деревня Старая',\n",
              "       'деревня Старая Пустошь', 'деревня Старое Хинколово',\n",
              "       'деревня Старополье', 'деревня Старосиверская',\n",
              "       'деревня Старые Бегуницы', 'деревня Суоранда',\n",
              "       'деревня Сяськелево', 'деревня Тарасово', 'деревня Терпилицы',\n",
              "       'деревня Тихковицы', 'деревня Тойворово', 'деревня Торосово',\n",
              "       'деревня Торошковичи', 'деревня Трубников Бор',\n",
              "       'деревня Фалилеево', 'деревня Фёдоровское', 'деревня Хапо-Ое',\n",
              "       'деревня Хязельки', 'деревня Чудской Бор', 'деревня Шпаньково',\n",
              "       'деревня Щеглово', 'деревня Юкки', 'деревня Ялгино',\n",
              "       'деревня Яльгелево', 'деревня Ям-Тесово',\n",
              "       'коттеджный поселок Кивеннапа Север', 'коттеджный поселок Счастье',\n",
              "       'коттеджный посёлок Лесное', 'поселок Аннино', 'поселок Барышево',\n",
              "       'поселок Бугры', 'поселок Возрождение', 'поселок Войсковицы',\n",
              "       'поселок Володарское', 'поселок Гаврилово', 'поселок Гарболово',\n",
              "       'поселок Гладкое', 'поселок Глажево', 'поселок Глебычево',\n",
              "       'поселок Гончарово', 'поселок Громово', 'поселок Дружноселье',\n",
              "       'поселок Елизаветино', 'поселок Жилгородок', 'поселок Жилпосёлок',\n",
              "       'поселок Житково', 'поселок Заводской', 'поселок Запорожское',\n",
              "       'поселок Зимитицы', 'поселок Ильичёво', 'поселок Калитино',\n",
              "       'поселок Каложицы', 'поселок Кингисеппский', 'поселок Кирпичное',\n",
              "       'поселок Кобралово', 'поселок Кобринское', 'поселок Коммунары',\n",
              "       'поселок Коробицыно', 'поселок Котельский',\n",
              "       'поселок Красная Долина', 'поселок Красносельское',\n",
              "       'поселок Лесное', 'поселок Лисий Нос', 'поселок Лукаши',\n",
              "       'поселок Любань', 'поселок Мельниково', 'поселок Мичуринское',\n",
              "       'поселок Молодцово', 'поселок Мурино', 'поселок Новый Свет',\n",
              "       'поселок Новый Учхоз', 'поселок Оредеж',\n",
              "       'поселок Пансионат Зелёный Бор', 'поселок Первомайское',\n",
              "       'поселок Перово', 'поселок Петровское', 'поселок Победа',\n",
              "       'поселок Поляны', 'поселок Почап', 'поселок Починок',\n",
              "       'поселок Пушное', 'поселок Пчевжа', 'поселок Рабитицы',\n",
              "       'поселок Романовка', 'поселок Ромашки', 'поселок Рябово',\n",
              "       'поселок Севастьяново', 'поселок Селезнёво', 'поселок Сельцо',\n",
              "       'поселок Семиозерье', 'поселок Семрино', 'поселок Серебрянский',\n",
              "       'поселок Совхозный', 'поселок Старая Малукса',\n",
              "       'поселок Стеклянный', 'поселок Сумино', 'поселок Суходолье',\n",
              "       'поселок Тельмана', 'поселок Терволово', 'поселок Торковичи',\n",
              "       'поселок Тёсово-4', 'поселок Углово', 'поселок Усть-Луга',\n",
              "       'поселок Ушаки', 'поселок Цвелодубово', 'поселок Цвылёво',\n",
              "       'поселок городского типа Большая Ижора',\n",
              "       'поселок городского типа Вырица',\n",
              "       'поселок городского типа Дружная Горка',\n",
              "       'поселок городского типа Дубровка',\n",
              "       'поселок городского типа Ефимовский',\n",
              "       'поселок городского типа Кондратьево',\n",
              "       'поселок городского типа Красный Бор',\n",
              "       'поселок городского типа Кузьмоловский',\n",
              "       'поселок городского типа Лебяжье',\n",
              "       'поселок городского типа Лесогорский',\n",
              "       'поселок городского типа Назия',\n",
              "       'поселок городского типа Никольский',\n",
              "       'поселок городского типа Приладожский',\n",
              "       'поселок городского типа Рахья', 'поселок городского типа Рощино',\n",
              "       'поселок городского типа Рябово',\n",
              "       'поселок городского типа Синявино',\n",
              "       'поселок городского типа Советский',\n",
              "       'поселок городского типа Токсово',\n",
              "       'поселок городского типа Форносово',\n",
              "       'поселок городского типа имени Свердлова',\n",
              "       'поселок станции Вещево', 'поселок станции Корнево',\n",
              "       'поселок станции Лужайка', 'поселок станции Приветнинское',\n",
              "       'посёлок Александровская', 'посёлок Алексеевка', 'посёлок Аннино',\n",
              "       'посёлок Белоостров', 'посёлок Бугры', 'посёлок Возрождение',\n",
              "       'посёлок Войскорово', 'посёлок Высокоключевой',\n",
              "       'посёлок Гаврилово', 'посёлок Дзержинского', 'посёлок Жилгородок',\n",
              "       'посёлок Ильичёво', 'посёлок Кикерино', 'посёлок Кобралово',\n",
              "       'посёлок Коробицыно', 'посёлок Левашово', 'посёлок Ленинское',\n",
              "       'посёлок Лисий Нос', 'посёлок Мельниково', 'посёлок Металлострой',\n",
              "       'посёлок Мичуринское', 'посёлок Молодёжное', 'посёлок Мурино',\n",
              "       'посёлок Мыза-Ивановка', 'посёлок Новогорелово',\n",
              "       'посёлок Новый Свет', 'посёлок Пансионат Зелёный Бор',\n",
              "       'посёлок Парголово', 'посёлок Перово', 'посёлок Песочный',\n",
              "       'посёлок Петро-Славянка', 'посёлок Петровское',\n",
              "       'посёлок Платформа 69-й километр', 'посёлок Плодовое',\n",
              "       'посёлок Плоское', 'посёлок Победа', 'посёлок Поляны',\n",
              "       'посёлок Понтонный', 'посёлок Пригородный', 'посёлок Пудость',\n",
              "       'посёлок Репино', 'посёлок Ропша', 'посёлок Сапёрное',\n",
              "       'посёлок Сапёрный', 'посёлок Сосново', 'посёлок Старая Малукса',\n",
              "       'посёлок Стеклянный', 'посёлок Стрельна', 'посёлок Суйда',\n",
              "       'посёлок Сумино', 'посёлок Тельмана', 'посёлок Терволово',\n",
              "       'посёлок Торфяное', 'посёлок Усть-Ижора', 'посёлок Усть-Луга',\n",
              "       'посёлок Форт Красная Горка', 'посёлок Шугозеро', 'посёлок Шушары',\n",
              "       'посёлок Щеглово', 'посёлок городского типа Важины',\n",
              "       'посёлок городского типа Вознесенье',\n",
              "       'посёлок городского типа Вырица',\n",
              "       'посёлок городского типа Красный Бор',\n",
              "       'посёлок городского типа Кузнечное',\n",
              "       'посёлок городского типа Кузьмоловский',\n",
              "       'посёлок городского типа Лебяжье', 'посёлок городского типа Мга',\n",
              "       'посёлок городского типа Павлово',\n",
              "       'посёлок городского типа Рощино', 'посёлок городского типа Рябово',\n",
              "       'посёлок городского типа Сиверский',\n",
              "       'посёлок городского типа Тайцы', 'посёлок городского типа Токсово',\n",
              "       'посёлок городского типа Ульяновка',\n",
              "       'посёлок городского типа Форносово',\n",
              "       'посёлок городского типа имени Морозова',\n",
              "       'посёлок городского типа имени Свердлова',\n",
              "       'посёлок при железнодорожной станции Вещево',\n",
              "       'посёлок при железнодорожной станции Приветнинское',\n",
              "       'посёлок станции Громово', 'посёлок станции Свирь',\n",
              "       'садоводческое некоммерческое товарищество Лесная Поляна',\n",
              "       'садовое товарищество Новая Ропша',\n",
              "       'садовое товарищество Приладожский', 'садовое товарищество Рахья',\n",
              "       'садовое товарищество Садко', 'село Копорье', 'село Никольское',\n",
              "       'село Павлово', 'село Паша', 'село Путилово', 'село Рождествено',\n",
              "       'село Русско-Высоцкое', 'село Старая Ладога', 'село Шум', nan],\n",
              "      dtype=object)"
            ]
          },
          "execution_count": 23,
          "metadata": {},
          "output_type": "execute_result"
        }
      ],
      "source": [
        "data['locality_name'].sort_values().unique()"
      ]
    },
    {
      "cell_type": "markdown",
      "metadata": {
        "id": "cyogmPgHeIq1"
      },
      "source": [
        "**Уберём все слова, которые могут участвовать в дублированиии названий населённых пунктов.**"
      ]
    },
    {
      "cell_type": "code",
      "execution_count": null,
      "metadata": {
        "id": "KTM1uHBLeIq2",
        "outputId": "fb4856c2-19e9-44bf-dd70-f47035cb026b"
      },
      "outputs": [
        {
          "data": {
            "text/plain": [
              "array(['Агалатово', 'Александровская', 'Алексеевка', 'Аннино', 'Аро',\n",
              "       'Барышево', 'Батово', 'Бегуницы', 'Белогорка', 'Белоостров',\n",
              "       'Бокситогорск', 'Большая Вруда', 'Большая Ижора',\n",
              "       'Большая Пустомержа', 'Большие Колпаны', 'Большое Рейзино',\n",
              "       'Большой Сабск', 'Бор', 'Борисова Грива', 'Бугры', 'Будогощь',\n",
              "       'Ваганово', 'Важины', 'Вартемяги', 'Вахнова Кара', 'Вещево',\n",
              "       'Виллози', 'Вознесенье', 'Возрождение', 'Войсковицы', 'Войскорово',\n",
              "       'Володарское', 'Волосово', 'Волхов', 'Всеволожск', 'Выборг',\n",
              "       'Вырица', 'Выскатка', 'Высокоключевой', 'Высоцк', 'Гаврилово',\n",
              "       'Гарболово', 'Гатчина', 'Гладкое', 'Глажево', 'Глебычево',\n",
              "       'Глинка', 'Гончарово', 'Горбунки', 'Гостилицы', 'Громово',\n",
              "       'Дзержинского', 'Дружная Горка', 'Дружноселье', 'Дубровка',\n",
              "       'Елизаветино', 'Ефимовский', 'Жилгородок', 'Жилпосёлок', 'Житково',\n",
              "       'Заводской', 'Заклинье', 'Заневка', 'Запорожское', 'Зеленогорск',\n",
              "       'Зимитицы', 'Ивангород', 'Извара', 'Ильичёво', 'Иссад', 'Калитино',\n",
              "       'Каложицы', 'Кальтино', 'Каменногорск', 'Камышовка', 'Каськово',\n",
              "       'Келози', 'Кивеннапа Север', 'Кикерино', 'Кингисепп',\n",
              "       'Кингисеппский', 'Кипень', 'Кириши', 'Кировск', 'Кирпичное',\n",
              "       'Кисельня', 'Кобралово', 'Кобринское', 'Колпино', 'Колтуши',\n",
              "       'Коммунар', 'Коммунары', 'Кондратьево', 'Копорье', 'Коркино',\n",
              "       'Корнево', 'Коробицыно', 'Котельский', 'Котлы', 'Красная Долина',\n",
              "       'Красное Село', 'Красносельское', 'Красный Бор', 'Кривко',\n",
              "       'Кронштадт', 'Кудрово', 'Кузнечное', 'Кузьмолово', 'Кузьмоловский',\n",
              "       'Курковицы', 'Куровицы', 'Куттузи', 'Лаврики', 'Лаголово',\n",
              "       'Лампово', 'Лебяжье', 'Левашово', 'Ленинское', 'Лесколово',\n",
              "       'Лесная Поляна', 'Лесное', 'Лесогорский', 'Лисий Нос',\n",
              "       'Лодейное Поле', 'Ломоносов', 'Лопухинка', 'Луга', 'Лужайка',\n",
              "       'Лукаши', 'Лупполово', 'Любань', 'Малая Романовка', 'Малое Верево',\n",
              "       'Малое Карлино', 'Малые Колпаны', 'Мануйлово', 'Мга', 'Мельниково',\n",
              "       'Меньково', 'Металлострой', 'Мины', 'Мистолово', 'Мичуринское',\n",
              "       'Молодцово', 'Молодёжное', 'Мурино', 'Мыза-Ивановка', 'Назия',\n",
              "       'Ненимяки', 'Нижние Осельки', 'Нижняя', 'Низино', 'Никольский',\n",
              "       'Никольское', 'Новая Ладога', 'Новая Ропша', 'Новогорелово',\n",
              "       'Новое Девяткино', 'Новолисино', 'Новоселье', 'Новый Свет',\n",
              "       'Новый Учхоз', 'Нурма', 'Оредеж', 'Оржицы', 'Отрадное', 'Павлово',\n",
              "       'Павловск', 'Пансионат Зелёный Бор', 'Парголово', 'Парицы', 'Паша',\n",
              "       'Пельгора', 'Пеники', 'Первомайское', 'Перово', 'Песочный',\n",
              "       'Петергоф', 'Петро-Славянка', 'Петровское', 'Пижма', 'Пикалёво',\n",
              "       'Пикколово', 'Платформа 69-й километр', 'Плодовое', 'Плоское',\n",
              "       'Победа', 'Подпорожье', 'Поляны', 'Понтонный', 'Почап', 'Починок',\n",
              "       'Приветнинское', 'Пригородный', 'Приладожский', 'Приморск',\n",
              "       'Приозерск', 'Пудомяги', 'Пудость', 'Пустынка', 'Путилово',\n",
              "       'Пушкин', 'Пушное', 'Пчева', 'Пчевжа', 'Рабитицы', 'Разбегаево',\n",
              "       'Раздолье', 'Разметелево', 'Рапполово', 'Рахья', 'Реброво',\n",
              "       'Репино', 'Рождествено', 'Романовка', 'Ромашки', 'Ропша', 'Рощино',\n",
              "       'Русско', 'Русско-Высоцкое', 'Рябово', 'Садко', 'Санкт-Петербург',\n",
              "       'Сапёрное', 'Сапёрный', 'Светогорск', 'Свирь', 'Свирьстрой',\n",
              "       'Севастьяново', 'Селезнёво', 'Сельцо', 'Семиозерье', 'Семрино',\n",
              "       'Серебрянский', 'Сертолово', 'Сестрорецк', 'Сиверский', 'Сижно',\n",
              "       'Синявино', 'Сланцы', 'Снегирёвка', 'Советский', 'Совхозный',\n",
              "       'Сосново', 'Сосновый Бор', 'Старая', 'Старая Ладога',\n",
              "       'Старая Малукса', 'Старая Пустошь', 'Старое Хинколово',\n",
              "       'Старополье', 'Старосиверская', 'Старые Бегуницы', 'Стеклянный',\n",
              "       'Стрельна', 'Суйда', 'Сумино', 'Суоранда', 'Суходолье', 'Счастье',\n",
              "       'Сяськелево', 'Сясьстрой', 'Тайцы', 'Тарасово', 'Тельмана',\n",
              "       'Терволово', 'Терпилицы', 'Тихвин', 'Тихковицы', 'Тойворово',\n",
              "       'Токсово', 'Торковичи', 'Торосово', 'Торошковичи', 'Торфяное',\n",
              "       'Тосно', 'Трубников Бор', 'Тёсово-4', 'Углово', 'Ульяновка',\n",
              "       'Усть-Ижора', 'Усть-Луга', 'Ушаки', 'Фалилеево', 'Форносово',\n",
              "       'Форт Красная Горка', 'Фёдоровское', 'Хапо-Ое', 'Хязельки',\n",
              "       'Цвелодубово', 'Цвылёво', 'Чудской Бор', 'Шлиссельбург',\n",
              "       'Шпаньково', 'Шугозеро', 'Шум', 'Шушары', 'Щеглово', 'Юкки',\n",
              "       'Ялгино', 'Яльгелево', 'Ям-Тесово', 'Янино-1', 'имени Морозова',\n",
              "       'имени Свердлова', nan], dtype=object)"
            ]
          },
          "execution_count": 24,
          "metadata": {},
          "output_type": "execute_result"
        }
      ],
      "source": [
        "duplicates = ['поселок ', 'городского ', 'типа ', 'посёлок ', 'село ', 'при ', 'железнодорожной ', 'станции ',\\\n",
        "              'коттеджный ', 'городской ', 'деревня ', 'садоводческое некоммерческое ', 'садовое ', 'товарищество ']\n",
        "name = ''\n",
        "data['locality_name'] = data['locality_name'].replace(duplicates, name, regex=True)\n",
        "data['locality_name'].sort_values().unique()"
      ]
    },
    {
      "cell_type": "markdown",
      "metadata": {
        "id": "KRgchfQOeIq4"
      },
      "source": [
        "**Проверим наши данные на явные дубликаты.**"
      ]
    },
    {
      "cell_type": "code",
      "execution_count": null,
      "metadata": {
        "id": "IBJl7bhUeIq4",
        "outputId": "5f382d46-b71f-4daa-ac64-63d89877634b"
      },
      "outputs": [
        {
          "data": {
            "text/plain": [
              "0"
            ]
          },
          "execution_count": 25,
          "metadata": {},
          "output_type": "execute_result"
        }
      ],
      "source": [
        "data.duplicated().sum()"
      ]
    },
    {
      "cell_type": "markdown",
      "metadata": {
        "id": "MGSAqn02eIq8"
      },
      "source": [
        "**Наличие пропусков значений, неявных дубликатов объясняется как человеческим фактором, так и источником данных. Наибольшее количество пропусков в картографических данных, полученных из интернета. Возможно, данные ещё не были внесены в картографическую базу данных, либо присутствовала техническая ошибка. В пользовательских данных больше неявных дубликатов и аномальных значений, вызванных человеческим фактором.**"
      ]
    },
    {
      "cell_type": "markdown",
      "metadata": {
        "id": "fDAC3_HveIq9"
      },
      "source": [
        "### Посчитайте и добавьте в таблицу новые столбцы"
      ]
    },
    {
      "cell_type": "markdown",
      "metadata": {
        "id": "NzUq350ieIq_"
      },
      "source": [
        "#### Посчитаем стоимость одноко кв.метра для каждого объекта недвижимости и добавим в отдельный столбец."
      ]
    },
    {
      "cell_type": "code",
      "execution_count": null,
      "metadata": {
        "id": "sPurnPGseIrA"
      },
      "outputs": [],
      "source": [
        "data['price_square_meter'] = data['last_price']/data['total_area']"
      ]
    },
    {
      "cell_type": "markdown",
      "metadata": {
        "id": "hYzbQsm3eIrC"
      },
      "source": [
        "#### Добавим столбец дня недели, месяца и года публикации объявления."
      ]
    },
    {
      "cell_type": "code",
      "execution_count": null,
      "metadata": {
        "id": "tJchaePReIrD"
      },
      "outputs": [],
      "source": [
        "import datetime as dt\n",
        "data['day_week'] = data['first_day_exposition'].dt.weekday # день недели публикации (0 - пн, 1 - вт, 2 - ср,... )\n",
        "data['month'] = data['first_day_exposition'].dt.month # месяц пупликации\n",
        "data['year'] = data['first_day_exposition'].dt.year # год публицкации"
      ]
    },
    {
      "cell_type": "markdown",
      "metadata": {
        "id": "HG7mPYQueIrH"
      },
      "source": [
        "#### Добавим столбец с типом этажа квартиры (значения — «первый», «последний», «другой»)."
      ]
    },
    {
      "cell_type": "code",
      "execution_count": null,
      "metadata": {
        "id": "0FNZMlDweIrI"
      },
      "outputs": [],
      "source": [
        "def floor_tуpe(row):\n",
        "    if row['floor'] == 1:\n",
        "        return 'первый'\n",
        "    if row['floor'] == row['floors_total']:\n",
        "        return 'последний'\n",
        "    return 'другой'\n",
        "\n",
        "data['floor_tуpe'] = data.apply(floor_tуpe, axis=1)"
      ]
    },
    {
      "cell_type": "markdown",
      "metadata": {
        "id": "stQ28T0teIrJ"
      },
      "source": [
        "#### Добавим столбец с расстоянием до центра города в километрах."
      ]
    },
    {
      "cell_type": "code",
      "execution_count": null,
      "metadata": {
        "id": "BcZTwG0meIrJ"
      },
      "outputs": [],
      "source": [
        "data['cityCenters_nearest_km'] = (data['cityCenters_nearest']/1000).round()"
      ]
    },
    {
      "cell_type": "markdown",
      "metadata": {
        "id": "mvx6YQnLeIsM"
      },
      "source": [
        "### Проведите исследовательский анализ данных"
      ]
    },
    {
      "cell_type": "markdown",
      "metadata": {
        "id": "sLcahpJFeIsN"
      },
      "source": [
        "#### Изучим параметры объектов и построим гистограммы."
      ]
    },
    {
      "cell_type": "markdown",
      "metadata": {
        "id": "Itb3bSi6eIsO"
      },
      "source": [
        "**Построим гистограмму по общей площади объектов**"
      ]
    },
    {
      "cell_type": "code",
      "execution_count": null,
      "metadata": {
        "id": "jBb_VDqreIsP",
        "outputId": "ca785b5a-a641-4bfa-94c1-f982d0397028"
      },
      "outputs": [
        {
          "data": {
            "text/plain": [
              "<AxesSubplot:>"
            ]
          },
          "execution_count": 30,
          "metadata": {},
          "output_type": "execute_result"
        },
        {
          "data": {
            "image/png": "[encoded data removed]",
            "text/plain": [
              "<Figure size 432x288 with 1 Axes>"
            ]
          },
          "metadata": {
            "needs_background": "light"
          },
          "output_type": "display_data"
        }
      ],
      "source": [
        "data['total_area'].hist(range=(0,250),bins=50)"
      ]
    },
    {
      "cell_type": "markdown",
      "metadata": {
        "id": "z5Y1yb32eIsT"
      },
      "source": [
        "*Большее коичество объектов имеет площадь от 40 до 70 кв.метров.*"
      ]
    },
    {
      "cell_type": "markdown",
      "metadata": {
        "id": "02WkgD2_eIsU"
      },
      "source": [
        "**Построим гистограмму по жилой площади объектов.**"
      ]
    },
    {
      "cell_type": "code",
      "execution_count": null,
      "metadata": {
        "id": "bXZPw7JUeIsV",
        "outputId": "30932154-016d-4833-972b-b3d1314a1491"
      },
      "outputs": [
        {
          "data": {
            "text/plain": [
              "<AxesSubplot:>"
            ]
          },
          "execution_count": 31,
          "metadata": {},
          "output_type": "execute_result"
        },
        {
          "data": {
            "image/png": "[encoded data removed]",
            "text/plain": [
              "<Figure size 432x288 with 1 Axes>"
            ]
          },
          "metadata": {
            "needs_background": "light"
          },
          "output_type": "display_data"
        }
      ],
      "source": [
        "data['living_area'].hist(range=(0,200),bins=30)\n"
      ]
    },
    {
      "cell_type": "markdown",
      "metadata": {
        "id": "hehIRRnleIsX"
      },
      "source": [
        "*Жилая площадь у большинства объектов от 20 до 50 кв.метров.*"
      ]
    },
    {
      "cell_type": "markdown",
      "metadata": {
        "id": "MfRLojwheIsY"
      },
      "source": [
        "**Построим гистограмму по кухонной площади объектов.**"
      ]
    },
    {
      "cell_type": "code",
      "execution_count": null,
      "metadata": {
        "id": "CDvnPe6HeIsZ",
        "outputId": "01a3b2c8-7375-41f8-a460-a708e31b5a31"
      },
      "outputs": [
        {
          "data": {
            "text/plain": [
              "<AxesSubplot:>"
            ]
          },
          "execution_count": 32,
          "metadata": {},
          "output_type": "execute_result"
        },
        {
          "data": {
            "image/png": "[encoded data removed]",
            "text/plain": [
              "<Figure size 432x288 with 1 Axes>"
            ]
          },
          "metadata": {
            "needs_background": "light"
          },
          "output_type": "display_data"
        }
      ],
      "source": [
        "data['kitchen_area'].hist(range=(0,50),bins=30)"
      ]
    },
    {
      "cell_type": "markdown",
      "metadata": {
        "id": "3Xo1WPTmeIsb"
      },
      "source": [
        "*Площадь кухни у большинства объектов от 6 до 15 метров.*"
      ]
    },
    {
      "cell_type": "markdown",
      "metadata": {
        "id": "_u2d4LdBeIsc"
      },
      "source": [
        "**Гистограмма по ценам объектов.**"
      ]
    },
    {
      "cell_type": "code",
      "execution_count": null,
      "metadata": {
        "id": "ivT_hn_ieIsd",
        "outputId": "93191436-3c19-45cf-d20f-f9f52cacc5cc"
      },
      "outputs": [
        {
          "data": {
            "text/plain": [
              "<AxesSubplot:>"
            ]
          },
          "execution_count": 33,
          "metadata": {},
          "output_type": "execute_result"
        },
        {
          "data": {
            "image/png": "[encoded data removed]",
            "text/plain": [
              "<Figure size 432x288 with 1 Axes>"
            ]
          },
          "metadata": {
            "needs_background": "light"
          },
          "output_type": "display_data"
        }
      ],
      "source": [
        "data['last_price'].hist(range=(0,30_000_000),bins=30)"
      ]
    },
    {
      "cell_type": "markdown",
      "metadata": {
        "id": "L0s7ewKyeIse"
      },
      "source": [
        "*Основной диапазон цен от 2 000 000 руб до 15 000 000 руб.*"
      ]
    },
    {
      "cell_type": "markdown",
      "metadata": {
        "id": "5CwP5DFJeIsf"
      },
      "source": [
        "**Гистограмма по количеству комнат объектов.**"
      ]
    },
    {
      "cell_type": "code",
      "execution_count": null,
      "metadata": {
        "id": "t1_VU1BZeIsg",
        "outputId": "a02a1106-840b-4727-bb2a-c86e41cc3e17"
      },
      "outputs": [
        {
          "data": {
            "text/plain": [
              "<AxesSubplot:>"
            ]
          },
          "execution_count": 34,
          "metadata": {},
          "output_type": "execute_result"
        },
        {
          "data": {
            "image/png": "[encoded data removed]",
            "text/plain": [
              "<Figure size 432x288 with 1 Axes>"
            ]
          },
          "metadata": {
            "needs_background": "light"
          },
          "output_type": "display_data"
        }
      ],
      "source": [
        "data['rooms'].hist(range=(0,25),bins=30)"
      ]
    },
    {
      "cell_type": "markdown",
      "metadata": {
        "id": "fJh_feyeeIsi"
      },
      "source": [
        "*Большинство объектов имеют от 1 до 4 комнат.*"
      ]
    },
    {
      "cell_type": "markdown",
      "metadata": {
        "id": "kzGaTpO4eIsk"
      },
      "source": [
        "**Высота потолков.**"
      ]
    },
    {
      "cell_type": "code",
      "execution_count": null,
      "metadata": {
        "id": "BReR5VwseIsl",
        "outputId": "b9b9a882-0117-41c5-d780-ee2e4b38b277"
      },
      "outputs": [
        {
          "data": {
            "text/plain": [
              "<AxesSubplot:>"
            ]
          },
          "execution_count": 35,
          "metadata": {},
          "output_type": "execute_result"
        },
        {
          "data": {
            "image/png": "[encoded data removed]",
            "text/plain": [
              "<Figure size 432x288 with 1 Axes>"
            ]
          },
          "metadata": {
            "needs_background": "light"
          },
          "output_type": "display_data"
        }
      ],
      "source": [
        "data['ceiling_height'].hist(range=(2,8),bins=30)"
      ]
    },
    {
      "cell_type": "markdown",
      "metadata": {
        "id": "QlVjYDRueIsm"
      },
      "source": [
        "*У большинства объектов высота потолков от 2,5 до 3,5 метров.*"
      ]
    },
    {
      "cell_type": "markdown",
      "metadata": {
        "id": "AdAxl34WeIso"
      },
      "source": [
        "**Гистограмма этажа объектов.**"
      ]
    },
    {
      "cell_type": "code",
      "execution_count": null,
      "metadata": {
        "id": "InpPM4H4eIsp",
        "outputId": "b3d5a82c-8087-4010-b0f8-d74f30afa890"
      },
      "outputs": [
        {
          "data": {
            "text/plain": [
              "<AxesSubplot:>"
            ]
          },
          "execution_count": 36,
          "metadata": {},
          "output_type": "execute_result"
        },
        {
          "data": {
            "image/png": "[encoded data removed]",
            "text/plain": [
              "<Figure size 432x288 with 1 Axes>"
            ]
          },
          "metadata": {
            "needs_background": "light"
          },
          "output_type": "display_data"
        }
      ],
      "source": [
        "data['floor'].hist(range=(0,50),bins=25)"
      ]
    },
    {
      "cell_type": "markdown",
      "metadata": {
        "id": "tBxwRqDGeIsq"
      },
      "source": [
        "*Основная масса квартир находятся с 1 по 20 этаж.*"
      ]
    },
    {
      "cell_type": "markdown",
      "metadata": {
        "id": "RCg_t1r7eIss"
      },
      "source": [
        "**Тип этажа квартиры («первый», «последний», «другой»).**"
      ]
    },
    {
      "cell_type": "code",
      "execution_count": null,
      "metadata": {
        "id": "39y3u2lleIst",
        "outputId": "a35ced61-6b43-4af9-a559-4f9afeb9906e"
      },
      "outputs": [
        {
          "data": {
            "text/plain": [
              "<AxesSubplot:>"
            ]
          },
          "execution_count": 37,
          "metadata": {},
          "output_type": "execute_result"
        },
        {
          "data": {
            "image/png": "[encoded data removed]",
            "text/plain": [
              "<Figure size 432x288 with 1 Axes>"
            ]
          },
          "metadata": {
            "needs_background": "light"
          },
          "output_type": "display_data"
        }
      ],
      "source": [
        "data['floor_tуpe'].hist(range=(0,4),bins=4)"
      ]
    },
    {
      "cell_type": "markdown",
      "metadata": {
        "id": "duqXXnQyeIsu"
      },
      "source": [
        "*Большинство квартир находятся не на первом и не на последнем этажах.*"
      ]
    },
    {
      "cell_type": "markdown",
      "metadata": {
        "id": "eP7n_U-IeIsx"
      },
      "source": [
        "**Общее количество этажей в доме.**"
      ]
    },
    {
      "cell_type": "code",
      "execution_count": null,
      "metadata": {
        "id": "njUcCRO_eIsy",
        "outputId": "4adba955-1248-4747-9154-480efcad46b1"
      },
      "outputs": [
        {
          "data": {
            "text/plain": [
              "<AxesSubplot:>"
            ]
          },
          "execution_count": 38,
          "metadata": {},
          "output_type": "execute_result"
        },
        {
          "data": {
            "image/png": "[encoded data removed]",
            "text/plain": [
              "<Figure size 432x288 with 1 Axes>"
            ]
          },
          "metadata": {
            "needs_background": "light"
          },
          "output_type": "display_data"
        }
      ],
      "source": [
        "data['floors_total'].hist(range=(0,50),bins=50)"
      ]
    },
    {
      "cell_type": "markdown",
      "metadata": {
        "id": "bSiB6X9GeIsz"
      },
      "source": [
        "*В базе больше всего 6 этажных домов.*"
      ]
    },
    {
      "cell_type": "markdown",
      "metadata": {
        "id": "mPfVx6zEeIs1"
      },
      "source": [
        "**Расстояние до центра города в метрах.**"
      ]
    },
    {
      "cell_type": "code",
      "execution_count": null,
      "metadata": {
        "id": "nmsPny_SeIs2",
        "outputId": "76b78bdb-6822-48c8-d06a-bec759712b56"
      },
      "outputs": [
        {
          "data": {
            "text/plain": [
              "<AxesSubplot:>"
            ]
          },
          "execution_count": 39,
          "metadata": {},
          "output_type": "execute_result"
        },
        {
          "data": {
            "image/png": "[encoded data removed]",
            "text/plain": [
              "<Figure size 432x288 with 1 Axes>"
            ]
          },
          "metadata": {
            "needs_background": "light"
          },
          "output_type": "display_data"
        }
      ],
      "source": [
        "data['cityCenters_nearest'].hist(range=(0,60000),bins=60)"
      ]
    },
    {
      "cell_type": "markdown",
      "metadata": {
        "id": "VG3cWRo1eIs3"
      },
      "source": [
        "*Основная масса квартир находятся на расстоянии 5 000 - 35 000 м. Больше всего на расстоянии 11 000 - 14 000 метров.*"
      ]
    },
    {
      "cell_type": "markdown",
      "metadata": {
        "id": "U4QOagYQeIs4"
      },
      "source": [
        "**Расстояние до ближайшего аэропорта.**"
      ]
    },
    {
      "cell_type": "code",
      "execution_count": null,
      "metadata": {
        "id": "xVLhHN0SeIs6",
        "outputId": "226346c0-c7f3-49ef-f399-d35ae192bb99"
      },
      "outputs": [
        {
          "data": {
            "text/plain": [
              "<AxesSubplot:>"
            ]
          },
          "execution_count": 40,
          "metadata": {},
          "output_type": "execute_result"
        },
        {
          "data": {
            "image/png": "[encoded data removed]",
            "text/plain": [
              "<Figure size 432x288 with 1 Axes>"
            ]
          },
          "metadata": {
            "needs_background": "light"
          },
          "output_type": "display_data"
        }
      ],
      "source": [
        "data['airports_nearest'].hist(range=(0,80000),bins=60)"
      ]
    },
    {
      "cell_type": "markdown",
      "metadata": {
        "id": "WXfgsA-2eIs7"
      },
      "source": [
        "*Большинство объектов находятся на расстоянии от 11 000 до 40 000 метров. Шаговая доступность аэропорта не является преимуществом для жизни.*"
      ]
    },
    {
      "cell_type": "markdown",
      "metadata": {
        "id": "aaDJhd4NeIs8"
      },
      "source": [
        "**Расстояние до ближайшего парка.**"
      ]
    },
    {
      "cell_type": "code",
      "execution_count": null,
      "metadata": {
        "id": "sbXhiXg4eIs9",
        "outputId": "d540b1d7-04a9-4d3f-ff1b-6b8910bab981"
      },
      "outputs": [
        {
          "data": {
            "text/plain": [
              "<AxesSubplot:>"
            ]
          },
          "execution_count": 41,
          "metadata": {},
          "output_type": "execute_result"
        },
        {
          "data": {
            "image/png": "[encoded data removed]",
            "text/plain": [
              "<Figure size 432x288 with 1 Axes>"
            ]
          },
          "metadata": {
            "needs_background": "light"
          },
          "output_type": "display_data"
        }
      ],
      "source": [
        "data['parks_nearest'].hist(range=(0,4000),bins=60)"
      ]
    },
    {
      "cell_type": "markdown",
      "metadata": {
        "id": "XdlOz4NceIs-"
      },
      "source": [
        "*У большинства объектов расстояние до ближайшего парка около 500 метров. Скорее всего продавцы указывают расстояние до парка, если это является преимуществом. В противном случае могут просто не указать.*"
      ]
    },
    {
      "cell_type": "markdown",
      "metadata": {
        "id": "E-NYKMH1eIs_"
      },
      "source": [
        "**День и месяц публикации объявления.**"
      ]
    },
    {
      "cell_type": "code",
      "execution_count": null,
      "metadata": {
        "id": "s2ryuIdNeIt_",
        "outputId": "b040916c-ff52-4106-fdbc-21bb4d2bde1c"
      },
      "outputs": [
        {
          "data": {
            "text/plain": [
              "<AxesSubplot:>"
            ]
          },
          "execution_count": 42,
          "metadata": {},
          "output_type": "execute_result"
        },
        {
          "data": {
            "image/png": "[encoded data removed]",
            "text/plain": [
              "<Figure size 432x288 with 1 Axes>"
            ]
          },
          "metadata": {
            "needs_background": "light"
          },
          "output_type": "display_data"
        }
      ],
      "source": [
        "\n",
        "data['day_week'].hist(range=(0,7),bins=7)"
      ]
    },
    {
      "cell_type": "markdown",
      "metadata": {
        "id": "_RyMct7WeIuB"
      },
      "source": [
        "*Чаще всего публикуют объявления в будние дни.*\n"
      ]
    },
    {
      "cell_type": "code",
      "execution_count": null,
      "metadata": {
        "id": "Ix4QBEGXeIuC",
        "outputId": "a0064afc-a753-4ac4-e700-fe95c48446f5"
      },
      "outputs": [
        {
          "data": {
            "text/plain": [
              "<AxesSubplot:>"
            ]
          },
          "execution_count": 43,
          "metadata": {},
          "output_type": "execute_result"
        },
        {
          "data": {
            "image/png": "[encoded data removed]",
            "text/plain": [
              "<Figure size 432x288 with 1 Axes>"
            ]
          },
          "metadata": {
            "needs_background": "light"
          },
          "output_type": "display_data"
        }
      ],
      "source": [
        "data['month'].hist(range=(1,12),bins=12)"
      ]
    },
    {
      "cell_type": "markdown",
      "metadata": {
        "id": "_9hjg-mveIuE"
      },
      "source": [
        "*В феврале пик подачи новых объявлений.*"
      ]
    },
    {
      "cell_type": "markdown",
      "metadata": {
        "id": "tUfOBkAmeIuI"
      },
      "source": [
        "#### Изучим, как быстро продавались квартиры."
      ]
    },
    {
      "cell_type": "markdown",
      "metadata": {
        "id": "RN7EqLSYeIuJ"
      },
      "source": [
        "*Построим гистограмму размаха.*"
      ]
    },
    {
      "cell_type": "code",
      "execution_count": null,
      "metadata": {
        "id": "dQGA9NKHeIuK",
        "outputId": "70537a32-c415-4223-b8ea-3c39d28fcee3"
      },
      "outputs": [
        {
          "data": {
            "text/plain": [
              "<AxesSubplot:>"
            ]
          },
          "execution_count": 44,
          "metadata": {},
          "output_type": "execute_result"
        },
        {
          "data": {
            "image/png": "[encoded data removed]",
            "text/plain": [
              "<Figure size 432x288 with 1 Axes>"
            ]
          },
          "metadata": {
            "needs_background": "light"
          },
          "output_type": "display_data"
        }
      ],
      "source": [
        "import matplotlib.pyplot as plt\n",
        "plt.ylim(-50,600)\n",
        "data.boxplot('days_exposition')\n"
      ]
    },
    {
      "cell_type": "markdown",
      "metadata": {
        "id": "mL_nIn9WeIuO"
      },
      "source": [
        "*Нижний «ус» упирается в 0, минимальное значение. Верхний заканчивается около 450 дней — это ориентировочная граница нормального размаха. Всё, что лежит за ней выброс.*\n",
        "\n",
        "\n",
        "*Посчитаем среднее и медиану столбца 'days_exposition'.*"
      ]
    },
    {
      "cell_type": "code",
      "execution_count": null,
      "metadata": {
        "id": "Gc9L4XuxeIuR",
        "outputId": "c99a2726-4716-4d02-eb70-f65873049b29"
      },
      "outputs": [
        {
          "data": {
            "text/plain": [
              "count    23518.000000\n",
              "mean       169.642827\n",
              "std        206.767210\n",
              "min          1.000000\n",
              "25%         45.000000\n",
              "50%         95.000000\n",
              "75%        199.000000\n",
              "max       1580.000000\n",
              "Name: days_exposition, dtype: float64"
            ]
          },
          "execution_count": 45,
          "metadata": {},
          "output_type": "execute_result"
        }
      ],
      "source": [
        "data['days_exposition'].describe()"
      ]
    },
    {
      "cell_type": "markdown",
      "metadata": {
        "id": "6nfPg_npeIuT"
      },
      "source": [
        "*Исходя из полученных данных, медиана - 95 дней, среднее арифметическое - 169.64, что соответствует графику.*\n",
        "*Продажи недвижимости менее, чем через 45 дней  - необычно быстрые.*\n",
        "*Продажи более, чем через 199 дней - необычно долгие.*\n",
        "\n",
        "*Большое количество выбросов в данных влияют на значение среднего арифметического и смещают его значение в большую сторону. Большее количество объявлений было размещено 95 дней.*"
      ]
    },
    {
      "cell_type": "markdown",
      "metadata": {
        "id": "WosojIJqeIuV"
      },
      "source": [
        "#### Какие факторы больше всего влияют на общую (полную) стоимость объекта?"
      ]
    },
    {
      "cell_type": "code",
      "execution_count": null,
      "metadata": {
        "id": "EOONoqMweIuX",
        "outputId": "a3af783b-6834-4c79-ec51-77e511229cb1"
      },
      "outputs": [
        {
          "data": {
            "text/plain": [
              "<AxesSubplot:xlabel='last_price', ylabel='total_area'>"
            ]
          },
          "execution_count": 46,
          "metadata": {},
          "output_type": "execute_result"
        },
        {
          "data": {
            "image/png": "[encoded data removed]",
            "text/plain": [
              "<Figure size 648x360 with 1 Axes>"
            ]
          },
          "metadata": {
            "needs_background": "light"
          },
          "output_type": "display_data"
        }
      ],
      "source": [
        "# Зависимость цены от общей площади. Построим диаграмму рассеяния.\n",
        "\n",
        "data.plot(x='last_price', y='total_area', kind='scatter', grid=True, alpha=0.5, figsize=(9,5))"
      ]
    },
    {
      "cell_type": "code",
      "execution_count": null,
      "metadata": {
        "id": "PEZ7qZ0aeIuY",
        "outputId": "508721aa-63b9-4003-9877-2c6c4d98cbb2"
      },
      "outputs": [
        {
          "data": {
            "text/plain": [
              "0.6534732456617031"
            ]
          },
          "execution_count": 47,
          "metadata": {},
          "output_type": "execute_result"
        }
      ],
      "source": [
        "# коэффициент корреляции\n",
        "data['last_price'].corr(data['total_area'])"
      ]
    },
    {
      "cell_type": "markdown",
      "metadata": {
        "id": "qLwdqFnkeIua"
      },
      "source": [
        "*По диаграмме видно, что цена зависит от общей площади и эта зависимость стремится к линейной. Рост одной величины связан с ростом другой. Конечно, не только площадь влияет на цену. Рассмотрим другие возможные зависимости.*"
      ]
    },
    {
      "cell_type": "code",
      "execution_count": null,
      "metadata": {
        "id": "zj-LWWFQeIuc",
        "outputId": "e2f930bb-4ad6-4f2a-9401-118a2209badb"
      },
      "outputs": [
        {
          "data": {
            "text/plain": [
              "<AxesSubplot:xlabel='last_price', ylabel='living_area'>"
            ]
          },
          "execution_count": 48,
          "metadata": {},
          "output_type": "execute_result"
        },
        {
          "data": {
            "image/png": "[encoded data removed]",
            "text/plain": [
              "<Figure size 648x360 with 1 Axes>"
            ]
          },
          "metadata": {
            "needs_background": "light"
          },
          "output_type": "display_data"
        }
      ],
      "source": [
        "# Зависимость цены от жилой площади. Построим диаграмму рассеяния.\n",
        "\n",
        "data.plot(x='last_price', y='living_area', kind='scatter', grid=True, alpha=0.5, figsize=(9,5))"
      ]
    },
    {
      "cell_type": "code",
      "execution_count": null,
      "metadata": {
        "id": "UW0Mcri2eIue",
        "outputId": "aa72512f-cf8f-4ac4-c486-ae775384ac9d"
      },
      "outputs": [
        {
          "data": {
            "text/plain": [
              "0.5840182360216803"
            ]
          },
          "execution_count": 49,
          "metadata": {},
          "output_type": "execute_result"
        }
      ],
      "source": [
        "# коэффициент корреляции\n",
        "data['last_price'].corr(data['living_area'])"
      ]
    },
    {
      "cell_type": "markdown",
      "metadata": {
        "id": "oFZZyWlVeIuf"
      },
      "source": [
        "*Коэффициент положительный, поэтому при увеличении жилой площади цена будет расти.*"
      ]
    },
    {
      "cell_type": "code",
      "execution_count": null,
      "metadata": {
        "id": "pgw05weBeIug",
        "outputId": "18f32662-46ee-4f1f-c675-be9af9c3e7e9"
      },
      "outputs": [
        {
          "data": {
            "text/plain": [
              "<AxesSubplot:xlabel='last_price', ylabel='kitchen_area'>"
            ]
          },
          "execution_count": 50,
          "metadata": {},
          "output_type": "execute_result"
        },
        {
          "data": {
            "image/png": "[encoded data removed]",
            "text/plain": [
              "<Figure size 648x360 with 1 Axes>"
            ]
          },
          "metadata": {
            "needs_background": "light"
          },
          "output_type": "display_data"
        }
      ],
      "source": [
        "# Зависимость цены от площади кухни. Построим диаграмму рассеяния.\n",
        "\n",
        "data.plot(x='last_price', y='kitchen_area', kind='scatter', grid=True, alpha=0.5, figsize=(9,5))"
      ]
    },
    {
      "cell_type": "code",
      "execution_count": null,
      "metadata": {
        "id": "OK-A8c1DeIvD",
        "outputId": "9daf2898-3eca-47b6-87e4-5e9d3aebbfa2"
      },
      "outputs": [
        {
          "data": {
            "text/plain": [
              "0.5148288657485827"
            ]
          },
          "execution_count": 51,
          "metadata": {},
          "output_type": "execute_result"
        }
      ],
      "source": [
        "# коэффициент корреляции\n",
        "data['last_price'].corr(data['kitchen_area'])"
      ]
    },
    {
      "cell_type": "code",
      "execution_count": null,
      "metadata": {
        "id": "9gLX5pl_eIvE",
        "outputId": "33b3e39f-b3e7-44db-d7cf-db55016d5cd8"
      },
      "outputs": [
        {
          "data": {
            "text/plain": [
              "0.3618982069471513"
            ]
          },
          "execution_count": 52,
          "metadata": {},
          "output_type": "execute_result"
        },
        {
          "data": {
            "image/png": "[encoded data removed]",
            "text/plain": [
              "<Figure size 432x288 with 1 Axes>"
            ]
          },
          "metadata": {
            "needs_background": "light"
          },
          "output_type": "display_data"
        }
      ],
      "source": [
        "# построим сводную таблицу по количеству комнат\n",
        "\n",
        "room = data.pivot_table(index='rooms', values='last_price', aggfunc='median')\n",
        "room.plot()\n",
        "\n",
        "# коэффициент корреляции\n",
        "data['rooms'].corr(data['last_price'])"
      ]
    },
    {
      "cell_type": "markdown",
      "metadata": {
        "id": "F0NVi5UweIvG"
      },
      "source": [
        "*По коэффициенту корреляции видно, что линейная связь слабая.*"
      ]
    },
    {
      "cell_type": "code",
      "execution_count": null,
      "metadata": {
        "id": "O1Yk_G5peIvH",
        "outputId": "efd42af6-45ef-4a24-9b4a-830bc88832d8"
      },
      "outputs": [
        {
          "data": {
            "text/html": [
              "<div>\n",
              "<style scoped>\n",
              "    .dataframe tbody tr th:only-of-type {\n",
              "        vertical-align: middle;\n",
              "    }\n",
              "\n",
              "    .dataframe tbody tr th {\n",
              "        vertical-align: top;\n",
              "    }\n",
              "\n",
              "    .dataframe thead th {\n",
              "        text-align: right;\n",
              "    }\n",
              "</style>\n",
              "<table border=\"1\" class=\"dataframe\">\n",
              "  <thead>\n",
              "    <tr style=\"text-align: right;\">\n",
              "      <th></th>\n",
              "      <th>last_price</th>\n",
              "    </tr>\n",
              "    <tr>\n",
              "      <th>floor_tуpe</th>\n",
              "      <th></th>\n",
              "    </tr>\n",
              "  </thead>\n",
              "  <tbody>\n",
              "    <tr>\n",
              "      <th>другой</th>\n",
              "      <td>4850000</td>\n",
              "    </tr>\n",
              "    <tr>\n",
              "      <th>первый</th>\n",
              "      <td>3900000</td>\n",
              "    </tr>\n",
              "    <tr>\n",
              "      <th>последний</th>\n",
              "      <td>4350000</td>\n",
              "    </tr>\n",
              "  </tbody>\n",
              "</table>\n",
              "</div>"
            ],
            "text/plain": [
              "            last_price\n",
              "floor_tуpe            \n",
              "другой         4850000\n",
              "первый         3900000\n",
              "последний      4350000"
            ]
          },
          "execution_count": 53,
          "metadata": {},
          "output_type": "execute_result"
        },
        {
          "data": {
            "image/png": "[encoded data removed]",
            "text/plain": [
              "<Figure size 432x288 with 1 Axes>"
            ]
          },
          "metadata": {
            "needs_background": "light"
          },
          "output_type": "display_data"
        }
      ],
      "source": [
        "# построим сводную таблицу по этажу, на котором расположена квартира\n",
        "\n",
        "floors = data.pivot_table(index='floor_tуpe', values='last_price', aggfunc = 'median')\n",
        "floors.plot()\n",
        "floors\n",
        "\n"
      ]
    },
    {
      "cell_type": "markdown",
      "metadata": {
        "id": "KMBfvuLVeIvJ"
      },
      "source": [
        "*В данном случае видно, что самые популярные квартиры не на первом и не на последнем этажах, соответственно они дороже.*"
      ]
    },
    {
      "cell_type": "code",
      "execution_count": null,
      "metadata": {
        "id": "kB_xd2uoeIvN",
        "outputId": "0d078fdf-ad77-41b9-d1be-65a435f2a8ec"
      },
      "outputs": [
        {
          "data": {
            "text/html": [
              "<div>\n",
              "<style scoped>\n",
              "    .dataframe tbody tr th:only-of-type {\n",
              "        vertical-align: middle;\n",
              "    }\n",
              "\n",
              "    .dataframe tbody tr th {\n",
              "        vertical-align: top;\n",
              "    }\n",
              "\n",
              "    .dataframe thead th {\n",
              "        text-align: right;\n",
              "    }\n",
              "</style>\n",
              "<table border=\"1\" class=\"dataframe\">\n",
              "  <thead>\n",
              "    <tr style=\"text-align: right;\">\n",
              "      <th></th>\n",
              "      <th>last_price</th>\n",
              "    </tr>\n",
              "    <tr>\n",
              "      <th>floor_tуpe</th>\n",
              "      <th></th>\n",
              "    </tr>\n",
              "  </thead>\n",
              "  <tbody>\n",
              "    <tr>\n",
              "      <th>другой</th>\n",
              "      <td>4850000</td>\n",
              "    </tr>\n",
              "    <tr>\n",
              "      <th>первый</th>\n",
              "      <td>3900000</td>\n",
              "    </tr>\n",
              "    <tr>\n",
              "      <th>последний</th>\n",
              "      <td>4350000</td>\n",
              "    </tr>\n",
              "  </tbody>\n",
              "</table>\n",
              "</div>"
            ],
            "text/plain": [
              "            last_price\n",
              "floor_tуpe            \n",
              "другой         4850000\n",
              "первый         3900000\n",
              "последний      4350000"
            ]
          },
          "execution_count": 54,
          "metadata": {},
          "output_type": "execute_result"
        },
        {
          "data": {
            "image/png": "[encoded data removed]",
            "text/plain": [
              "<Figure size 432x288 with 1 Axes>"
            ]
          },
          "metadata": {
            "needs_background": "light"
          },
          "output_type": "display_data"
        }
      ],
      "source": [
        "# построим сводную таблицу по этажу, на котором расположена квартира\n",
        "\n",
        "floors = data.pivot_table(index='floor_tуpe', values='last_price', aggfunc = 'median')\n",
        "floors.plot()\n",
        "floors\n"
      ]
    },
    {
      "cell_type": "code",
      "execution_count": null,
      "metadata": {
        "id": "wabgzf1CeIvS",
        "outputId": "bbe859f6-8197-4ef6-b1db-d8c244c4aaa6"
      },
      "outputs": [
        {
          "data": {
            "text/html": [
              "<div>\n",
              "<style scoped>\n",
              "    .dataframe tbody tr th:only-of-type {\n",
              "        vertical-align: middle;\n",
              "    }\n",
              "\n",
              "    .dataframe tbody tr th {\n",
              "        vertical-align: top;\n",
              "    }\n",
              "\n",
              "    .dataframe thead th {\n",
              "        text-align: right;\n",
              "    }\n",
              "</style>\n",
              "<table border=\"1\" class=\"dataframe\">\n",
              "  <thead>\n",
              "    <tr style=\"text-align: right;\">\n",
              "      <th></th>\n",
              "      <th>last_price</th>\n",
              "    </tr>\n",
              "    <tr>\n",
              "      <th>day_week</th>\n",
              "      <th></th>\n",
              "    </tr>\n",
              "  </thead>\n",
              "  <tbody>\n",
              "    <tr>\n",
              "      <th>0</th>\n",
              "      <td>6.509317e+06</td>\n",
              "    </tr>\n",
              "    <tr>\n",
              "      <th>1</th>\n",
              "      <td>6.407285e+06</td>\n",
              "    </tr>\n",
              "    <tr>\n",
              "      <th>2</th>\n",
              "      <td>6.594344e+06</td>\n",
              "    </tr>\n",
              "    <tr>\n",
              "      <th>3</th>\n",
              "      <td>6.697808e+06</td>\n",
              "    </tr>\n",
              "    <tr>\n",
              "      <th>4</th>\n",
              "      <td>6.373716e+06</td>\n",
              "    </tr>\n",
              "    <tr>\n",
              "      <th>5</th>\n",
              "      <td>7.001917e+06</td>\n",
              "    </tr>\n",
              "    <tr>\n",
              "      <th>6</th>\n",
              "      <td>6.259747e+06</td>\n",
              "    </tr>\n",
              "  </tbody>\n",
              "</table>\n",
              "</div>"
            ],
            "text/plain": [
              "            last_price\n",
              "day_week              \n",
              "0         6.509317e+06\n",
              "1         6.407285e+06\n",
              "2         6.594344e+06\n",
              "3         6.697808e+06\n",
              "4         6.373716e+06\n",
              "5         7.001917e+06\n",
              "6         6.259747e+06"
            ]
          },
          "execution_count": 55,
          "metadata": {},
          "output_type": "execute_result"
        },
        {
          "data": {
            "image/png": "[encoded data removed]",
            "text/plain": [
              "<Figure size 432x288 with 1 Axes>"
            ]
          },
          "metadata": {
            "needs_background": "light"
          },
          "output_type": "display_data"
        }
      ],
      "source": [
        "# построим сводную таблицу по дню недели подачи объявления и цены\n",
        "\n",
        "day_weeks = data.pivot_table(index='day_week', values='last_price')\n",
        "day_weeks.plot()\n",
        "day_weeks"
      ]
    },
    {
      "cell_type": "markdown",
      "metadata": {
        "id": "AeBhH0w9eIvT"
      },
      "source": [
        "*По субботам подают объявления самых дорогих квартир, по воскресеньям самых дешевых.*"
      ]
    },
    {
      "cell_type": "code",
      "execution_count": null,
      "metadata": {
        "id": "jY_m_vd_eIvU",
        "outputId": "965c8119-ccfe-436e-a639-362f9f8895e6"
      },
      "outputs": [
        {
          "data": {
            "text/html": [
              "<div>\n",
              "<style scoped>\n",
              "    .dataframe tbody tr th:only-of-type {\n",
              "        vertical-align: middle;\n",
              "    }\n",
              "\n",
              "    .dataframe tbody tr th {\n",
              "        vertical-align: top;\n",
              "    }\n",
              "\n",
              "    .dataframe thead th {\n",
              "        text-align: right;\n",
              "    }\n",
              "</style>\n",
              "<table border=\"1\" class=\"dataframe\">\n",
              "  <thead>\n",
              "    <tr style=\"text-align: right;\">\n",
              "      <th></th>\n",
              "      <th>last_price</th>\n",
              "    </tr>\n",
              "    <tr>\n",
              "      <th>month</th>\n",
              "      <th></th>\n",
              "    </tr>\n",
              "  </thead>\n",
              "  <tbody>\n",
              "    <tr>\n",
              "      <th>1</th>\n",
              "      <td>6.682809e+06</td>\n",
              "    </tr>\n",
              "    <tr>\n",
              "      <th>2</th>\n",
              "      <td>6.479878e+06</td>\n",
              "    </tr>\n",
              "    <tr>\n",
              "      <th>3</th>\n",
              "      <td>6.362551e+06</td>\n",
              "    </tr>\n",
              "    <tr>\n",
              "      <th>4</th>\n",
              "      <td>6.749825e+06</td>\n",
              "    </tr>\n",
              "    <tr>\n",
              "      <th>5</th>\n",
              "      <td>6.621845e+06</td>\n",
              "    </tr>\n",
              "    <tr>\n",
              "      <th>6</th>\n",
              "      <td>6.284562e+06</td>\n",
              "    </tr>\n",
              "    <tr>\n",
              "      <th>7</th>\n",
              "      <td>6.640024e+06</td>\n",
              "    </tr>\n",
              "    <tr>\n",
              "      <th>8</th>\n",
              "      <td>6.340556e+06</td>\n",
              "    </tr>\n",
              "    <tr>\n",
              "      <th>9</th>\n",
              "      <td>6.844902e+06</td>\n",
              "    </tr>\n",
              "    <tr>\n",
              "      <th>10</th>\n",
              "      <td>6.172236e+06</td>\n",
              "    </tr>\n",
              "    <tr>\n",
              "      <th>11</th>\n",
              "      <td>6.456262e+06</td>\n",
              "    </tr>\n",
              "    <tr>\n",
              "      <th>12</th>\n",
              "      <td>7.017945e+06</td>\n",
              "    </tr>\n",
              "  </tbody>\n",
              "</table>\n",
              "</div>"
            ],
            "text/plain": [
              "         last_price\n",
              "month              \n",
              "1      6.682809e+06\n",
              "2      6.479878e+06\n",
              "3      6.362551e+06\n",
              "4      6.749825e+06\n",
              "5      6.621845e+06\n",
              "6      6.284562e+06\n",
              "7      6.640024e+06\n",
              "8      6.340556e+06\n",
              "9      6.844902e+06\n",
              "10     6.172236e+06\n",
              "11     6.456262e+06\n",
              "12     7.017945e+06"
            ]
          },
          "execution_count": 56,
          "metadata": {},
          "output_type": "execute_result"
        },
        {
          "data": {
            "image/png": "[encoded data removed]",
            "text/plain": [
              "<Figure size 432x288 with 1 Axes>"
            ]
          },
          "metadata": {
            "needs_background": "light"
          },
          "output_type": "display_data"
        }
      ],
      "source": [
        "# построим сводную таблицу по месяцу подачи объявления и цены\n",
        "\n",
        "months = data.pivot_table(index='month', values='last_price')\n",
        "months.plot()\n",
        "months\n"
      ]
    },
    {
      "cell_type": "markdown",
      "metadata": {
        "id": "F3mK0Cg_eIvW"
      },
      "source": [
        "*К декабрю цены на квартиры поднимаются.*"
      ]
    },
    {
      "cell_type": "code",
      "execution_count": null,
      "metadata": {
        "id": "TRL_M9a0eIvX",
        "outputId": "ce027e90-5b3e-4a35-ba9d-a77ff611c2cb"
      },
      "outputs": [
        {
          "data": {
            "text/html": [
              "<div>\n",
              "<style scoped>\n",
              "    .dataframe tbody tr th:only-of-type {\n",
              "        vertical-align: middle;\n",
              "    }\n",
              "\n",
              "    .dataframe tbody tr th {\n",
              "        vertical-align: top;\n",
              "    }\n",
              "\n",
              "    .dataframe thead th {\n",
              "        text-align: right;\n",
              "    }\n",
              "</style>\n",
              "<table border=\"1\" class=\"dataframe\">\n",
              "  <thead>\n",
              "    <tr style=\"text-align: right;\">\n",
              "      <th></th>\n",
              "      <th>last_price</th>\n",
              "    </tr>\n",
              "    <tr>\n",
              "      <th>year</th>\n",
              "      <th></th>\n",
              "    </tr>\n",
              "  </thead>\n",
              "  <tbody>\n",
              "    <tr>\n",
              "      <th>2014</th>\n",
              "      <td>1.227707e+07</td>\n",
              "    </tr>\n",
              "    <tr>\n",
              "      <th>2015</th>\n",
              "      <td>8.575438e+06</td>\n",
              "    </tr>\n",
              "    <tr>\n",
              "      <th>2016</th>\n",
              "      <td>6.824085e+06</td>\n",
              "    </tr>\n",
              "    <tr>\n",
              "      <th>2017</th>\n",
              "      <td>6.577872e+06</td>\n",
              "    </tr>\n",
              "    <tr>\n",
              "      <th>2018</th>\n",
              "      <td>5.948918e+06</td>\n",
              "    </tr>\n",
              "    <tr>\n",
              "      <th>2019</th>\n",
              "      <td>6.787520e+06</td>\n",
              "    </tr>\n",
              "  </tbody>\n",
              "</table>\n",
              "</div>"
            ],
            "text/plain": [
              "        last_price\n",
              "year              \n",
              "2014  1.227707e+07\n",
              "2015  8.575438e+06\n",
              "2016  6.824085e+06\n",
              "2017  6.577872e+06\n",
              "2018  5.948918e+06\n",
              "2019  6.787520e+06"
            ]
          },
          "execution_count": 57,
          "metadata": {},
          "output_type": "execute_result"
        },
        {
          "data": {
            "image/png": "[encoded data removed]",
            "text/plain": [
              "<Figure size 432x288 with 1 Axes>"
            ]
          },
          "metadata": {
            "needs_background": "light"
          },
          "output_type": "display_data"
        }
      ],
      "source": [
        "# построим сводную таблицу по году подачи объявления и цены\n",
        "\n",
        "years = data.pivot_table(index='year', values='last_price')\n",
        "years.plot()\n",
        "years\n"
      ]
    },
    {
      "cell_type": "markdown",
      "metadata": {
        "id": "ZpstC1zgeIvY"
      },
      "source": [
        "*Начиная с 2014 года, цены на недвижимость падали. В 2018 году появилась тенденция к росту цен на недвижимость.*\n",
        "\n",
        "*По полученным данным видно, что наибольшее влияние на стоимость квартиры имеет общая площадь.*"
      ]
    },
    {
      "cell_type": "code",
      "execution_count": null,
      "metadata": {
        "id": "lhFqvM35eIvb",
        "outputId": "a470d9e3-ac10-43cd-d06c-5b53f985e862"
      },
      "outputs": [
        {
          "data": {
            "text/html": [
              "<div>\n",
              "<style scoped>\n",
              "    .dataframe tbody tr th:only-of-type {\n",
              "        vertical-align: middle;\n",
              "    }\n",
              "\n",
              "    .dataframe tbody tr th {\n",
              "        vertical-align: top;\n",
              "    }\n",
              "\n",
              "    .dataframe thead th {\n",
              "        text-align: right;\n",
              "    }\n",
              "</style>\n",
              "<table border=\"1\" class=\"dataframe\">\n",
              "  <thead>\n",
              "    <tr style=\"text-align: right;\">\n",
              "      <th></th>\n",
              "      <th>last_price</th>\n",
              "    </tr>\n",
              "    <tr>\n",
              "      <th>total_area</th>\n",
              "      <th></th>\n",
              "    </tr>\n",
              "  </thead>\n",
              "  <tbody>\n",
              "    <tr>\n",
              "      <th>13.0</th>\n",
              "      <td>2350000.0</td>\n",
              "    </tr>\n",
              "    <tr>\n",
              "      <th>13.2</th>\n",
              "      <td>1686000.0</td>\n",
              "    </tr>\n",
              "    <tr>\n",
              "      <th>14.0</th>\n",
              "      <td>1190000.0</td>\n",
              "    </tr>\n",
              "    <tr>\n",
              "      <th>15.0</th>\n",
              "      <td>1725000.0</td>\n",
              "    </tr>\n",
              "    <tr>\n",
              "      <th>15.5</th>\n",
              "      <td>2450000.0</td>\n",
              "    </tr>\n",
              "    <tr>\n",
              "      <th>...</th>\n",
              "      <td>...</td>\n",
              "    </tr>\n",
              "    <tr>\n",
              "      <th>590.0</th>\n",
              "      <td>65000000.0</td>\n",
              "    </tr>\n",
              "    <tr>\n",
              "      <th>618.0</th>\n",
              "      <td>300000000.0</td>\n",
              "    </tr>\n",
              "    <tr>\n",
              "      <th>631.0</th>\n",
              "      <td>140000000.0</td>\n",
              "    </tr>\n",
              "    <tr>\n",
              "      <th>631.2</th>\n",
              "      <td>140000000.0</td>\n",
              "    </tr>\n",
              "    <tr>\n",
              "      <th>900.0</th>\n",
              "      <td>420000000.0</td>\n",
              "    </tr>\n",
              "  </tbody>\n",
              "</table>\n",
              "<p>2163 rows × 1 columns</p>\n",
              "</div>"
            ],
            "text/plain": [
              "             last_price\n",
              "total_area             \n",
              "13.0          2350000.0\n",
              "13.2          1686000.0\n",
              "14.0          1190000.0\n",
              "15.0          1725000.0\n",
              "15.5          2450000.0\n",
              "...                 ...\n",
              "590.0        65000000.0\n",
              "618.0       300000000.0\n",
              "631.0       140000000.0\n",
              "631.2       140000000.0\n",
              "900.0       420000000.0\n",
              "\n",
              "[2163 rows x 1 columns]"
            ]
          },
          "execution_count": 58,
          "metadata": {},
          "output_type": "execute_result"
        },
        {
          "data": {
            "image/png": "[encoded data removed]",
            "text/plain": [
              "<Figure size 432x288 with 1 Axes>"
            ]
          },
          "metadata": {
            "needs_background": "light"
          },
          "output_type": "display_data"
        }
      ],
      "source": [
        "# построим сводную таблицу по общей площади квартиры и цены\n",
        "\n",
        "total_area_ = data.pivot_table(index='total_area', values='last_price')\n",
        "total_area_.hist(bins=30)\n",
        "total_area_\n"
      ]
    },
    {
      "cell_type": "markdown",
      "metadata": {
        "id": "SU3aJXkIeIvd"
      },
      "source": [
        "*По гистограмме видно, что при плавном росте цены, площади квартир уменьшаются активнее. Следовательно не столько цены падали на недвижимость, начиная с 2014 года, а площадь покупаемых квартир.*"
      ]
    },
    {
      "cell_type": "markdown",
      "metadata": {
        "id": "zOflu0YMeIve"
      },
      "source": [
        "#### Населённые пункты с самой высокой и низкой стоимостью квадратного метра."
      ]
    },
    {
      "cell_type": "code",
      "execution_count": null,
      "metadata": {
        "id": "vynqKk0BeIvf",
        "outputId": "6b3476f9-deac-4325-e246-14d2aa7eef52"
      },
      "outputs": [
        {
          "data": {
            "text/html": [
              "<div>\n",
              "<style scoped>\n",
              "    .dataframe tbody tr th:only-of-type {\n",
              "        vertical-align: middle;\n",
              "    }\n",
              "\n",
              "    .dataframe tbody tr th {\n",
              "        vertical-align: top;\n",
              "    }\n",
              "\n",
              "    .dataframe thead th {\n",
              "        text-align: right;\n",
              "    }\n",
              "</style>\n",
              "<table border=\"1\" class=\"dataframe\">\n",
              "  <thead>\n",
              "    <tr style=\"text-align: right;\">\n",
              "      <th></th>\n",
              "      <th>count</th>\n",
              "      <th>median</th>\n",
              "    </tr>\n",
              "    <tr>\n",
              "      <th>locality_name</th>\n",
              "      <th></th>\n",
              "      <th></th>\n",
              "    </tr>\n",
              "  </thead>\n",
              "  <tbody>\n",
              "    <tr>\n",
              "      <th>Санкт-Петербург</th>\n",
              "      <td>15609</td>\n",
              "      <td>104651.162791</td>\n",
              "    </tr>\n",
              "    <tr>\n",
              "      <th>Мурино</th>\n",
              "      <td>578</td>\n",
              "      <td>86059.293995</td>\n",
              "    </tr>\n",
              "    <tr>\n",
              "      <th>Кудрово</th>\n",
              "      <td>467</td>\n",
              "      <td>95588.235294</td>\n",
              "    </tr>\n",
              "    <tr>\n",
              "      <th>Шушары</th>\n",
              "      <td>439</td>\n",
              "      <td>76829.268293</td>\n",
              "    </tr>\n",
              "    <tr>\n",
              "      <th>Всеволожск</th>\n",
              "      <td>390</td>\n",
              "      <td>65737.874097</td>\n",
              "    </tr>\n",
              "    <tr>\n",
              "      <th>Пушкин</th>\n",
              "      <td>369</td>\n",
              "      <td>100000.000000</td>\n",
              "    </tr>\n",
              "    <tr>\n",
              "      <th>Колпино</th>\n",
              "      <td>337</td>\n",
              "      <td>74725.274725</td>\n",
              "    </tr>\n",
              "    <tr>\n",
              "      <th>Парголово</th>\n",
              "      <td>326</td>\n",
              "      <td>91579.708641</td>\n",
              "    </tr>\n",
              "    <tr>\n",
              "      <th>Гатчина</th>\n",
              "      <td>303</td>\n",
              "      <td>67647.058824</td>\n",
              "    </tr>\n",
              "    <tr>\n",
              "      <th>Выборг</th>\n",
              "      <td>234</td>\n",
              "      <td>58357.385977</td>\n",
              "    </tr>\n",
              "  </tbody>\n",
              "</table>\n",
              "</div>"
            ],
            "text/plain": [
              "                 count         median\n",
              "locality_name                        \n",
              "Санкт-Петербург  15609  104651.162791\n",
              "Мурино             578   86059.293995\n",
              "Кудрово            467   95588.235294\n",
              "Шушары             439   76829.268293\n",
              "Всеволожск         390   65737.874097\n",
              "Пушкин             369  100000.000000\n",
              "Колпино            337   74725.274725\n",
              "Парголово          326   91579.708641\n",
              "Гатчина            303   67647.058824\n",
              "Выборг             234   58357.385977"
            ]
          },
          "execution_count": 59,
          "metadata": {},
          "output_type": "execute_result"
        }
      ],
      "source": [
        "data['metr_price'] = data['last_price'] / data['total_area'] # новый столец с ценой за кв.метр\n",
        "\n",
        "# содная таблица со средней ценой кв. метра в населённом пункте и количеством объявлений\n",
        "locality_metr_price = data.pivot_table(index='locality_name', values='metr_price', aggfunc=('count', 'median'))\n",
        "locality_metr_price = locality_metr_price.sort_values(by='count',ascending=False)\n",
        "# 10 населённых пунктов с наибольшим числом объявлений\n",
        "locality_metr_price.head(10)"
      ]
    },
    {
      "cell_type": "code",
      "execution_count": null,
      "metadata": {
        "id": "d4AiPU8xeIvi",
        "outputId": "c7bf0655-76d6-47a6-9903-110509e2ad8f"
      },
      "outputs": [
        {
          "data": {
            "text/html": [
              "<div>\n",
              "<style scoped>\n",
              "    .dataframe tbody tr th:only-of-type {\n",
              "        vertical-align: middle;\n",
              "    }\n",
              "\n",
              "    .dataframe tbody tr th {\n",
              "        vertical-align: top;\n",
              "    }\n",
              "\n",
              "    .dataframe thead th {\n",
              "        text-align: right;\n",
              "    }\n",
              "</style>\n",
              "<table border=\"1\" class=\"dataframe\">\n",
              "  <thead>\n",
              "    <tr style=\"text-align: right;\">\n",
              "      <th></th>\n",
              "      <th>count</th>\n",
              "      <th>median</th>\n",
              "    </tr>\n",
              "    <tr>\n",
              "      <th>locality_name</th>\n",
              "      <th></th>\n",
              "      <th></th>\n",
              "    </tr>\n",
              "  </thead>\n",
              "  <tbody>\n",
              "    <tr>\n",
              "      <th>Старополье</th>\n",
              "      <td>3</td>\n",
              "      <td>11000.0</td>\n",
              "    </tr>\n",
              "  </tbody>\n",
              "</table>\n",
              "</div>"
            ],
            "text/plain": [
              "               count   median\n",
              "locality_name                \n",
              "Старополье         3  11000.0"
            ]
          },
          "execution_count": 60,
          "metadata": {},
          "output_type": "execute_result"
        }
      ],
      "source": [
        "# населённый пункт самой низкой стоимостью квадратного метра\n",
        "\n",
        "mean_min = locality_metr_price[locality_metr_price['median']==locality_metr_price['median'].min()]\n",
        "mean_min\n"
      ]
    },
    {
      "cell_type": "code",
      "execution_count": null,
      "metadata": {
        "id": "MHndSLwXeIvj",
        "outputId": "965ab7c4-2301-4ce2-a73e-fef875e2744d"
      },
      "outputs": [
        {
          "data": {
            "text/html": [
              "<div>\n",
              "<style scoped>\n",
              "    .dataframe tbody tr th:only-of-type {\n",
              "        vertical-align: middle;\n",
              "    }\n",
              "\n",
              "    .dataframe tbody tr th {\n",
              "        vertical-align: top;\n",
              "    }\n",
              "\n",
              "    .dataframe thead th {\n",
              "        text-align: right;\n",
              "    }\n",
              "</style>\n",
              "<table border=\"1\" class=\"dataframe\">\n",
              "  <thead>\n",
              "    <tr style=\"text-align: right;\">\n",
              "      <th></th>\n",
              "      <th>count</th>\n",
              "      <th>median</th>\n",
              "    </tr>\n",
              "    <tr>\n",
              "      <th>locality_name</th>\n",
              "      <th></th>\n",
              "      <th></th>\n",
              "    </tr>\n",
              "  </thead>\n",
              "  <tbody>\n",
              "    <tr>\n",
              "      <th>Санкт-Петербург</th>\n",
              "      <td>15609</td>\n",
              "      <td>104651.162791</td>\n",
              "    </tr>\n",
              "  </tbody>\n",
              "</table>\n",
              "</div>"
            ],
            "text/plain": [
              "                 count         median\n",
              "locality_name                        \n",
              "Санкт-Петербург  15609  104651.162791"
            ]
          },
          "execution_count": 61,
          "metadata": {},
          "output_type": "execute_result"
        }
      ],
      "source": [
        "# населённый пункт самой высокой стоимостью квадратного метра\n",
        "\n",
        "mean_max = locality_metr_price[locality_metr_price['median']==locality_metr_price['median'].max()]\n",
        "mean_max"
      ]
    },
    {
      "cell_type": "markdown",
      "metadata": {
        "id": "UL14FBPFeIwN"
      },
      "source": [
        "*Самая дорогая цена за кв.метр в Санкт-Петербурге, а низкая в Старополье. Наибольшее количество объявлений в Санкт-Петербурге.*"
      ]
    },
    {
      "cell_type": "markdown",
      "metadata": {
        "id": "y1VXIUNAeIwO"
      },
      "source": [
        "#### Cредняя цена  километра в Санкт-Петербурге."
      ]
    },
    {
      "cell_type": "code",
      "execution_count": null,
      "metadata": {
        "id": "kuCS33KceIwP",
        "outputId": "b332b72e-4e31-4c7f-c3ea-0157a57b43d4"
      },
      "outputs": [
        {
          "name": "stdout",
          "output_type": "stream",
          "text": [
            "                           metr_price\n",
            "cityCenters_nearest_km               \n",
            "0.0                     229150.212712\n",
            "1.0                     176268.761787\n",
            "2.0                     157943.103802\n",
            "3.0                     121033.153588\n",
            "4.0                     132646.480038\n",
            "5.0                     140179.272703\n",
            "6.0                     150195.025874\n",
            "7.0                     156348.461854\n",
            "8.0                     124716.765644\n",
            "9.0                     112891.867284\n",
            "10.0                    112766.746144\n",
            "11.0                    108477.383131\n",
            "12.0                    107420.300233\n",
            "13.0                    108103.222388\n",
            "14.0                    104165.681463\n"
          ]
        },
        {
          "data": {
            "image/png": "[encoded data removed]",
            "text/plain": [
              "<Figure size 432x288 with 1 Axes>"
            ]
          },
          "metadata": {
            "needs_background": "light"
          },
          "output_type": "display_data"
        }
      ],
      "source": [
        "# Создадим таблицу объявлений в Санкт-Петербурге и отсортируем по расстоянию в километрах от центра\n",
        "city = data.query('locality_name==\"Санкт-Петербург\"').sort_values(by='cityCenters_nearest_km')\n",
        "\n",
        "# Переведем километры в метры\n",
        "#city['cityCenters_nearest'] = city['cityCenters_nearest_km']*1000\n",
        "\n",
        "# Перезапишем таблицу по расстоянию от центра\n",
        "city = data.pivot_table(index='cityCenters_nearest_km', values='metr_price').sort_values(by='cityCenters_nearest_km')\n",
        "print(city.head(15))\n",
        "\n",
        "# Построим гистаграмму\n",
        "city.plot(title = 'Заголовок');\n",
        "#city.hist(bins=50)"
      ]
    },
    {
      "cell_type": "markdown",
      "metadata": {
        "id": "0U1UjjM3eIwR"
      },
      "source": []
    },
    {
      "cell_type": "code",
      "execution_count": null,
      "metadata": {
        "id": "5k8ZAOFmeIwU",
        "outputId": "3f79a1a1-d8a7-434c-cd7d-1981eb652bc0"
      },
      "outputs": [
        {
          "data": {
            "text/plain": [
              "array([16., 14.,  7.,  8., 12., 15., 11., 13., 10.,  2.,  4., 17.,  5.,\n",
              "       nan,  9.,  3.,  6., 21., 18.,  1., 24., 26., 22., 20., 23., 25.,\n",
              "        0., 27., 28., 19., 29.])"
            ]
          },
          "execution_count": 63,
          "metadata": {},
          "output_type": "execute_result"
        }
      ],
      "source": [
        "spb = data.query('locality_name==\"Санкт-Петербург\"')\n",
        "spb['cityCenters_nearest_km'].unique()"
      ]
    },
    {
      "cell_type": "markdown",
      "metadata": {
        "id": "u3N5VDFMeIwa"
      },
      "source": [
        "*По диаграмме видно, что с отдалением от центра города, цена за квадратный метр падает. Это же подтверждаем сводная таблица.*"
      ]
    },
    {
      "cell_type": "markdown",
      "metadata": {
        "id": "qVgIGsfreIwc"
      },
      "source": [
        "### Общий вывод"
      ]
    },
    {
      "cell_type": "markdown",
      "metadata": {
        "id": "1yvph8ixeIwd"
      },
      "source": [
        "**В данном исследовании проведён анализ данных сервиса Яндекс Недвижимость.**\n",
        "\n",
        "**Проведена предобаботка данных: заполнены или восстановлены пропущенные значения, изменены типы данных.**\n",
        "\n",
        "**Наличие пропусков значений, неявных дубликатов объясняется как человеческим фактором, так и источником данных. Наибольшее количество пропусков в картографических данных, полученных из интернета. Возможно, данные ещё не были внесены в картографическую базу данных, либо присутствовала техническая ошибка. В пользовательских данных больше неявных дубликатов и аномальных значений, вызванных человеческим фактором.**\n",
        "\n",
        "**Основные выводы из полученных данных:**\n",
        "\n",
        "* Большее коичество объектов имеет площадь от 30 до 200 кв.метров.\n",
        "* Жилая площадь у большинства объектов от 20 до 70 кв.метров.\n",
        "* Площадь кухни у большинства объектов от 6 до 15 метров.\n",
        "* Основной диапазон цен от 2 000 000 руб до 15 000 000 руб.\n",
        "* Большинство объектов имеют от 1 до 4 комнат.\n",
        "* У большинства объектов высота потолков от 2,5 до 3,5 метров.\n",
        "* Основная масса квартир находятся с 1 по 20 этаж.\n",
        "* Большинство квартир находятся не на первом и не на последнем этажах.\n",
        "* Основная масса квартир находятся на расстоянии 5 000 - 35 000 м. Больше всего на расстоянии 11 000 - 14 000 метров.\n",
        "* Большинство объектов находятся на расстоянии от 11 000 до 40 000 метров. Шаговая доступность аэропорта не является преимуществом для покупки квартиры.\n",
        "* У большинства объектов расстояние до ближайшего парка около 500 метров. Скорее всего продавцы указывают расстояние до парка, если это является преимуществом. В противном случае могут просто не указать.\n",
        "* Чаще всего публикуют объявления в будние дни.\n",
        "* В феврале пик подачи новых объявлений, в мае наименьшее количество.\n",
        "* Продажи недвижимости менее, чем через 45 дней - необычно быстрые. Продажи более, чем через 199 дней - необычно долгие. В среднем квартиры продаются за 95 дней.\n",
        "* Больше всего цена зависит от общей площади.\n",
        "* Меньше всего цены на квартиры на первом этаже.\n",
        "* Начиная с 2014 года, цены на недвижимость падали вместе с уменьшением площади квартир. В 2018 году появилась тенденция к росту цен на недвижимость.\n",
        "* Самая дорогая цена за кв.метр в Санкт-Петербурге, а низкая в Старополье. Наибольшее количество объявлений в Санкт-Петербурге.\n",
        "* С отдалением от центра Санкт-Петербурга, цена за квадратный метр падает.\n",
        "\n",
        "**Полученные данные помогут определять рыночную стоимость объектов недвижимости, что позволит в будующем построить автоматизированную систему: она отследит аномалии и мошенническую деятельность.**"
      ]
    }
  ],
  "metadata": {
    "ExecuteTimeLog": [
      {
        "duration": 715,
        "start_time": "2022-10-09T10:10:54.579Z"
      },
      {
        "duration": 101,
        "start_time": "2022-10-09T10:21:46.339Z"
      },
      {
        "duration": 89,
        "start_time": "2022-10-09T10:24:35.493Z"
      },
      {
        "duration": 94,
        "start_time": "2022-10-09T10:24:56.810Z"
      },
      {
        "duration": 46,
        "start_time": "2022-10-09T10:25:09.916Z"
      },
      {
        "duration": 55,
        "start_time": "2022-10-09T10:25:40.734Z"
      },
      {
        "duration": 92,
        "start_time": "2022-10-09T10:25:45.752Z"
      },
      {
        "duration": 85,
        "start_time": "2022-10-09T10:25:56.355Z"
      },
      {
        "duration": 38,
        "start_time": "2022-10-09T10:26:05.827Z"
      },
      {
        "duration": 88,
        "start_time": "2022-10-09T10:26:11.157Z"
      },
      {
        "duration": 100,
        "start_time": "2022-10-09T10:27:24.058Z"
      },
      {
        "duration": 92,
        "start_time": "2022-10-09T10:27:34.314Z"
      },
      {
        "duration": 92,
        "start_time": "2022-10-09T10:28:32.674Z"
      },
      {
        "duration": 98,
        "start_time": "2022-10-09T10:30:34.543Z"
      },
      {
        "duration": 111,
        "start_time": "2022-10-09T10:30:46.300Z"
      },
      {
        "duration": 111,
        "start_time": "2022-10-09T10:31:03.495Z"
      },
      {
        "duration": 18,
        "start_time": "2022-10-09T10:32:23.477Z"
      },
      {
        "duration": 2465,
        "start_time": "2022-10-09T10:34:23.494Z"
      },
      {
        "duration": 12,
        "start_time": "2022-10-09T10:45:29.711Z"
      },
      {
        "duration": 126,
        "start_time": "2022-10-09T11:26:27.890Z"
      },
      {
        "duration": 112,
        "start_time": "2022-10-09T11:26:48.103Z"
      },
      {
        "duration": 30,
        "start_time": "2022-10-09T11:28:00.067Z"
      },
      {
        "duration": 10,
        "start_time": "2022-10-09T11:32:23.996Z"
      },
      {
        "duration": 46,
        "start_time": "2022-10-13T08:50:13.462Z"
      },
      {
        "duration": 7,
        "start_time": "2022-10-13T08:50:44.975Z"
      },
      {
        "duration": 2,
        "start_time": "2022-10-13T08:56:35.208Z"
      },
      {
        "duration": 6,
        "start_time": "2022-10-13T09:05:25.586Z"
      },
      {
        "duration": 522,
        "start_time": "2022-10-13T09:05:37.092Z"
      },
      {
        "duration": 94,
        "start_time": "2022-10-13T09:05:40.747Z"
      },
      {
        "duration": 13,
        "start_time": "2022-10-13T09:05:41.948Z"
      },
      {
        "duration": 2255,
        "start_time": "2022-10-13T09:05:44.041Z"
      },
      {
        "duration": 10,
        "start_time": "2022-10-13T09:05:46.968Z"
      },
      {
        "duration": 12,
        "start_time": "2022-10-13T09:05:48.444Z"
      },
      {
        "duration": 2,
        "start_time": "2022-10-13T09:05:54.716Z"
      },
      {
        "duration": 30,
        "start_time": "2022-10-13T09:05:56.230Z"
      },
      {
        "duration": 42,
        "start_time": "2022-10-13T09:06:36.789Z"
      },
      {
        "duration": 5,
        "start_time": "2022-10-13T09:12:33.671Z"
      },
      {
        "duration": 6,
        "start_time": "2022-10-13T09:16:34.370Z"
      },
      {
        "duration": 5,
        "start_time": "2022-10-13T09:17:40.098Z"
      },
      {
        "duration": 44,
        "start_time": "2022-10-13T09:18:58.036Z"
      },
      {
        "duration": 39,
        "start_time": "2022-10-13T09:19:40.408Z"
      },
      {
        "duration": 7,
        "start_time": "2022-10-13T09:36:10.461Z"
      },
      {
        "duration": 5,
        "start_time": "2022-10-13T09:36:48.978Z"
      },
      {
        "duration": 67,
        "start_time": "2022-10-13T09:41:28.126Z"
      },
      {
        "duration": 92,
        "start_time": "2022-10-13T09:41:30.770Z"
      },
      {
        "duration": 13,
        "start_time": "2022-10-13T09:41:32.233Z"
      },
      {
        "duration": 1796,
        "start_time": "2022-10-13T09:41:37.896Z"
      },
      {
        "duration": 8,
        "start_time": "2022-10-13T09:41:48.659Z"
      },
      {
        "duration": 7,
        "start_time": "2022-10-13T09:42:07.129Z"
      },
      {
        "duration": 6,
        "start_time": "2022-10-13T10:00:26.170Z"
      },
      {
        "duration": 5,
        "start_time": "2022-10-13T10:01:05.740Z"
      },
      {
        "duration": 5,
        "start_time": "2022-10-13T10:01:22.946Z"
      },
      {
        "duration": 38,
        "start_time": "2022-10-13T10:03:27.383Z"
      },
      {
        "duration": 7,
        "start_time": "2022-10-13T10:05:03.390Z"
      },
      {
        "duration": 7,
        "start_time": "2022-10-13T10:06:20.596Z"
      },
      {
        "duration": 8,
        "start_time": "2022-10-13T10:07:16.306Z"
      },
      {
        "duration": 5,
        "start_time": "2022-10-13T10:07:22.242Z"
      },
      {
        "duration": 7,
        "start_time": "2022-10-13T10:46:40.946Z"
      },
      {
        "duration": 7,
        "start_time": "2022-10-13T10:47:12.930Z"
      },
      {
        "duration": 9,
        "start_time": "2022-10-13T10:48:44.237Z"
      },
      {
        "duration": 6,
        "start_time": "2022-10-13T10:49:31.649Z"
      },
      {
        "duration": 6,
        "start_time": "2022-10-13T10:51:42.560Z"
      },
      {
        "duration": 6,
        "start_time": "2022-10-13T10:53:07.511Z"
      },
      {
        "duration": 29,
        "start_time": "2022-10-13T10:55:37.221Z"
      },
      {
        "duration": 35,
        "start_time": "2022-10-13T11:06:34.024Z"
      },
      {
        "duration": 36,
        "start_time": "2022-10-13T11:07:12.131Z"
      },
      {
        "duration": 7,
        "start_time": "2022-10-13T11:07:24.941Z"
      },
      {
        "duration": 38,
        "start_time": "2022-10-13T11:07:29.949Z"
      },
      {
        "duration": 31,
        "start_time": "2022-10-13T11:07:52.825Z"
      },
      {
        "duration": 31,
        "start_time": "2022-10-13T11:08:00.353Z"
      },
      {
        "duration": 28,
        "start_time": "2022-10-13T11:08:08.565Z"
      },
      {
        "duration": 11,
        "start_time": "2022-10-13T11:09:26.577Z"
      },
      {
        "duration": 31,
        "start_time": "2022-10-13T11:11:14.703Z"
      },
      {
        "duration": 29,
        "start_time": "2022-10-13T11:14:06.429Z"
      },
      {
        "duration": 27,
        "start_time": "2022-10-13T11:14:16.976Z"
      },
      {
        "duration": 10,
        "start_time": "2022-10-13T11:14:50.321Z"
      },
      {
        "duration": 8,
        "start_time": "2022-10-13T11:18:48.635Z"
      },
      {
        "duration": 11,
        "start_time": "2022-10-13T11:19:27.565Z"
      },
      {
        "duration": 28,
        "start_time": "2022-10-13T11:21:08.322Z"
      },
      {
        "duration": 3,
        "start_time": "2022-10-13T11:27:06.418Z"
      },
      {
        "duration": 12,
        "start_time": "2022-10-13T11:27:44.486Z"
      },
      {
        "duration": 19,
        "start_time": "2022-10-13T11:28:13.128Z"
      },
      {
        "duration": 18,
        "start_time": "2022-10-13T11:29:27.696Z"
      },
      {
        "duration": 17,
        "start_time": "2022-10-13T11:29:55.073Z"
      },
      {
        "duration": 9,
        "start_time": "2022-10-13T11:31:43.005Z"
      },
      {
        "duration": 8,
        "start_time": "2022-10-13T11:36:21.537Z"
      },
      {
        "duration": 42,
        "start_time": "2022-10-13T11:36:48.875Z"
      },
      {
        "duration": 44,
        "start_time": "2022-10-13T11:36:51.382Z"
      },
      {
        "duration": 68,
        "start_time": "2022-10-13T11:37:01.883Z"
      },
      {
        "duration": 93,
        "start_time": "2022-10-13T11:37:06.806Z"
      },
      {
        "duration": 13,
        "start_time": "2022-10-13T11:37:08.024Z"
      },
      {
        "duration": 1847,
        "start_time": "2022-10-13T11:37:09.970Z"
      },
      {
        "duration": 8,
        "start_time": "2022-10-13T11:37:13.354Z"
      },
      {
        "duration": 7,
        "start_time": "2022-10-13T11:37:15.013Z"
      },
      {
        "duration": 7,
        "start_time": "2022-10-13T11:37:22.955Z"
      },
      {
        "duration": 16,
        "start_time": "2022-10-13T11:37:24.393Z"
      },
      {
        "duration": 29,
        "start_time": "2022-10-13T11:37:27.088Z"
      },
      {
        "duration": 6,
        "start_time": "2022-10-13T11:37:44.688Z"
      },
      {
        "duration": 12,
        "start_time": "2022-10-13T11:38:03.936Z"
      },
      {
        "duration": 44,
        "start_time": "2022-10-13T11:39:28.933Z"
      },
      {
        "duration": 7,
        "start_time": "2022-10-13T11:40:39.023Z"
      },
      {
        "duration": 6,
        "start_time": "2022-10-13T11:40:48.266Z"
      },
      {
        "duration": 6,
        "start_time": "2022-10-13T11:42:40.734Z"
      },
      {
        "duration": 10,
        "start_time": "2022-10-13T11:42:44.213Z"
      },
      {
        "duration": 9,
        "start_time": "2022-10-13T11:42:55.024Z"
      },
      {
        "duration": 9,
        "start_time": "2022-10-13T11:42:59.900Z"
      },
      {
        "duration": 7,
        "start_time": "2022-10-13T11:43:15.130Z"
      },
      {
        "duration": 6,
        "start_time": "2022-10-13T11:43:17.074Z"
      },
      {
        "duration": 5,
        "start_time": "2022-10-13T11:43:34.691Z"
      },
      {
        "duration": 67,
        "start_time": "2022-10-13T11:43:59.178Z"
      },
      {
        "duration": 6,
        "start_time": "2022-10-13T11:45:50.986Z"
      },
      {
        "duration": 6,
        "start_time": "2022-10-13T11:45:55.185Z"
      },
      {
        "duration": 6,
        "start_time": "2022-10-13T11:45:58.102Z"
      },
      {
        "duration": 5,
        "start_time": "2022-10-13T11:46:00.382Z"
      },
      {
        "duration": 14,
        "start_time": "2022-10-13T11:46:05.225Z"
      },
      {
        "duration": 9,
        "start_time": "2022-10-13T11:46:08.792Z"
      },
      {
        "duration": 6,
        "start_time": "2022-10-13T11:46:11.267Z"
      },
      {
        "duration": 5,
        "start_time": "2022-10-13T11:46:12.580Z"
      },
      {
        "duration": 77,
        "start_time": "2022-10-13T11:46:25.398Z"
      },
      {
        "duration": 56,
        "start_time": "2022-10-13T11:46:26.279Z"
      },
      {
        "duration": 94,
        "start_time": "2022-10-13T11:46:28.727Z"
      },
      {
        "duration": 14,
        "start_time": "2022-10-13T11:46:29.787Z"
      },
      {
        "duration": 1709,
        "start_time": "2022-10-13T11:46:31.763Z"
      },
      {
        "duration": 10,
        "start_time": "2022-10-13T11:46:34.406Z"
      },
      {
        "duration": 7,
        "start_time": "2022-10-13T11:46:35.649Z"
      },
      {
        "duration": 5,
        "start_time": "2022-10-13T11:46:37.374Z"
      },
      {
        "duration": 5,
        "start_time": "2022-10-13T11:47:09.711Z"
      },
      {
        "duration": 29,
        "start_time": "2022-10-13T11:47:23.250Z"
      },
      {
        "duration": 30,
        "start_time": "2022-10-13T11:48:17.702Z"
      },
      {
        "duration": 29,
        "start_time": "2022-10-13T11:49:36.166Z"
      },
      {
        "duration": 26,
        "start_time": "2022-10-13T11:49:49.366Z"
      },
      {
        "duration": 63,
        "start_time": "2022-10-13T11:50:05.352Z"
      },
      {
        "duration": 91,
        "start_time": "2022-10-13T11:50:07.865Z"
      },
      {
        "duration": 122,
        "start_time": "2022-10-13T11:50:08.935Z"
      },
      {
        "duration": 1801,
        "start_time": "2022-10-13T11:50:10.992Z"
      },
      {
        "duration": 8,
        "start_time": "2022-10-13T11:50:13.203Z"
      },
      {
        "duration": 8,
        "start_time": "2022-10-13T11:50:15.181Z"
      },
      {
        "duration": 5,
        "start_time": "2022-10-13T11:50:17.127Z"
      },
      {
        "duration": 6,
        "start_time": "2022-10-13T11:50:25.114Z"
      },
      {
        "duration": 13,
        "start_time": "2022-10-13T11:50:27.060Z"
      },
      {
        "duration": 28,
        "start_time": "2022-10-13T11:50:29.210Z"
      },
      {
        "duration": 7,
        "start_time": "2022-10-13T11:51:18.164Z"
      },
      {
        "duration": 6,
        "start_time": "2022-10-13T11:51:32.188Z"
      },
      {
        "duration": 4,
        "start_time": "2022-10-13T12:09:17.040Z"
      },
      {
        "duration": 26,
        "start_time": "2022-10-13T12:09:43.406Z"
      },
      {
        "duration": 30,
        "start_time": "2022-10-13T12:10:22.584Z"
      },
      {
        "duration": 30,
        "start_time": "2022-10-13T12:11:51.754Z"
      },
      {
        "duration": 15,
        "start_time": "2022-10-13T12:12:16.647Z"
      },
      {
        "duration": 12,
        "start_time": "2022-10-13T12:12:35.537Z"
      },
      {
        "duration": 25,
        "start_time": "2022-10-13T12:12:58.012Z"
      },
      {
        "duration": 3,
        "start_time": "2022-10-13T12:16:18.939Z"
      },
      {
        "duration": 4,
        "start_time": "2022-10-13T12:16:59.644Z"
      },
      {
        "duration": 15,
        "start_time": "2022-10-13T12:17:02.998Z"
      },
      {
        "duration": 9,
        "start_time": "2022-10-13T12:18:05.079Z"
      },
      {
        "duration": 9,
        "start_time": "2022-10-13T12:18:19.828Z"
      },
      {
        "duration": 6,
        "start_time": "2022-10-13T12:18:42.592Z"
      },
      {
        "duration": 7,
        "start_time": "2022-10-13T12:19:53.052Z"
      },
      {
        "duration": 8,
        "start_time": "2022-10-13T12:19:56.654Z"
      },
      {
        "duration": 8,
        "start_time": "2022-10-13T12:19:57.951Z"
      },
      {
        "duration": 7,
        "start_time": "2022-10-13T12:20:08.113Z"
      },
      {
        "duration": 9,
        "start_time": "2022-10-13T12:20:10.397Z"
      },
      {
        "duration": 8,
        "start_time": "2022-10-13T12:20:15.237Z"
      },
      {
        "duration": 6,
        "start_time": "2022-10-13T12:23:10.323Z"
      },
      {
        "duration": 3,
        "start_time": "2022-10-13T12:29:27.689Z"
      },
      {
        "duration": 6,
        "start_time": "2022-10-13T12:29:51.754Z"
      },
      {
        "duration": 13,
        "start_time": "2022-10-13T12:30:56.672Z"
      },
      {
        "duration": 433,
        "start_time": "2022-10-13T12:40:42.599Z"
      },
      {
        "duration": 8,
        "start_time": "2022-10-13T12:53:10.914Z"
      },
      {
        "duration": 12,
        "start_time": "2022-10-13T12:56:43.571Z"
      },
      {
        "duration": 9,
        "start_time": "2022-10-13T12:56:52.722Z"
      },
      {
        "duration": 14,
        "start_time": "2022-10-13T12:57:23.764Z"
      },
      {
        "duration": 14,
        "start_time": "2022-10-13T13:10:11.039Z"
      },
      {
        "duration": 13,
        "start_time": "2022-10-13T13:14:36.833Z"
      },
      {
        "duration": 13,
        "start_time": "2022-10-13T13:15:00.155Z"
      },
      {
        "duration": 13,
        "start_time": "2022-10-13T13:15:19.340Z"
      },
      {
        "duration": 15,
        "start_time": "2022-10-13T13:17:46.491Z"
      },
      {
        "duration": 8,
        "start_time": "2022-10-13T13:17:50.681Z"
      },
      {
        "duration": 9,
        "start_time": "2022-10-13T13:18:01.205Z"
      },
      {
        "duration": 11,
        "start_time": "2022-10-13T13:18:17.666Z"
      },
      {
        "duration": 10,
        "start_time": "2022-10-13T13:18:34.275Z"
      },
      {
        "duration": 8,
        "start_time": "2022-10-13T13:20:34.780Z"
      },
      {
        "duration": 8,
        "start_time": "2022-10-13T13:20:41.118Z"
      },
      {
        "duration": 5,
        "start_time": "2022-10-13T13:21:25.848Z"
      },
      {
        "duration": 9,
        "start_time": "2022-10-13T13:21:52.668Z"
      },
      {
        "duration": 7,
        "start_time": "2022-10-13T13:22:18.348Z"
      },
      {
        "duration": 10,
        "start_time": "2022-10-13T13:24:50.549Z"
      },
      {
        "duration": 62,
        "start_time": "2022-10-13T13:24:57.652Z"
      },
      {
        "duration": 7,
        "start_time": "2022-10-13T13:32:05.936Z"
      },
      {
        "duration": 8,
        "start_time": "2022-10-13T13:34:53.979Z"
      },
      {
        "duration": 8,
        "start_time": "2022-10-13T13:35:15.170Z"
      },
      {
        "duration": 7,
        "start_time": "2022-10-13T13:35:36.080Z"
      },
      {
        "duration": 8,
        "start_time": "2022-10-13T13:36:38.356Z"
      },
      {
        "duration": 8,
        "start_time": "2022-10-13T13:37:08.435Z"
      },
      {
        "duration": 11,
        "start_time": "2022-10-13T13:47:43.330Z"
      },
      {
        "duration": 6,
        "start_time": "2022-10-13T13:48:16.218Z"
      },
      {
        "duration": 6,
        "start_time": "2022-10-13T13:48:20.468Z"
      },
      {
        "duration": 4,
        "start_time": "2022-10-13T13:48:26.335Z"
      },
      {
        "duration": 4,
        "start_time": "2022-10-13T13:48:46.473Z"
      },
      {
        "duration": 7,
        "start_time": "2022-10-13T13:48:51.869Z"
      },
      {
        "duration": 8,
        "start_time": "2022-10-13T13:49:04.142Z"
      },
      {
        "duration": 5,
        "start_time": "2022-10-13T13:49:09.876Z"
      },
      {
        "duration": 63,
        "start_time": "2022-10-13T13:49:18.190Z"
      },
      {
        "duration": 103,
        "start_time": "2022-10-13T13:49:21.359Z"
      },
      {
        "duration": 14,
        "start_time": "2022-10-13T13:49:23.202Z"
      },
      {
        "duration": 1786,
        "start_time": "2022-10-13T13:49:25.633Z"
      },
      {
        "duration": 70,
        "start_time": "2022-10-13T13:49:29.341Z"
      },
      {
        "duration": 9,
        "start_time": "2022-10-13T13:49:31.996Z"
      },
      {
        "duration": 10,
        "start_time": "2022-10-13T13:49:34.249Z"
      },
      {
        "duration": 8,
        "start_time": "2022-10-13T13:49:41.047Z"
      },
      {
        "duration": 7,
        "start_time": "2022-10-13T13:49:49.592Z"
      },
      {
        "duration": 6,
        "start_time": "2022-10-13T13:49:52.579Z"
      },
      {
        "duration": 7,
        "start_time": "2022-10-13T13:49:57.698Z"
      },
      {
        "duration": 6,
        "start_time": "2022-10-13T13:50:03.945Z"
      },
      {
        "duration": 7,
        "start_time": "2022-10-13T13:50:27.526Z"
      },
      {
        "duration": 9,
        "start_time": "2022-10-13T13:50:40.991Z"
      },
      {
        "duration": 8,
        "start_time": "2022-10-13T13:51:09.788Z"
      },
      {
        "duration": 7,
        "start_time": "2022-10-13T13:52:01.919Z"
      },
      {
        "duration": 7,
        "start_time": "2022-10-13T13:52:40.846Z"
      },
      {
        "duration": 9,
        "start_time": "2022-10-13T13:52:50.448Z"
      },
      {
        "duration": 9,
        "start_time": "2022-10-13T13:53:20.768Z"
      },
      {
        "duration": 776,
        "start_time": "2022-10-13T15:24:51.568Z"
      },
      {
        "duration": 137,
        "start_time": "2022-10-13T15:24:56.770Z"
      },
      {
        "duration": 16,
        "start_time": "2022-10-13T15:24:57.919Z"
      },
      {
        "duration": 2561,
        "start_time": "2022-10-13T15:25:00.233Z"
      },
      {
        "duration": 76,
        "start_time": "2022-10-13T15:25:03.772Z"
      },
      {
        "duration": 12,
        "start_time": "2022-10-13T15:25:06.826Z"
      },
      {
        "duration": 11,
        "start_time": "2022-10-13T15:25:08.200Z"
      },
      {
        "duration": 7,
        "start_time": "2022-10-13T15:25:18.934Z"
      },
      {
        "duration": 7,
        "start_time": "2022-10-13T15:25:34.185Z"
      },
      {
        "duration": 8,
        "start_time": "2022-10-13T15:25:40.717Z"
      },
      {
        "duration": 6,
        "start_time": "2022-10-13T15:25:44.739Z"
      },
      {
        "duration": 6,
        "start_time": "2022-10-13T15:25:50.150Z"
      },
      {
        "duration": 10,
        "start_time": "2022-10-13T15:25:56.889Z"
      },
      {
        "duration": 4,
        "start_time": "2022-10-13T15:37:25.894Z"
      },
      {
        "duration": 83,
        "start_time": "2022-10-13T15:38:03.940Z"
      },
      {
        "duration": 5,
        "start_time": "2022-10-13T15:39:11.607Z"
      },
      {
        "duration": 79,
        "start_time": "2022-10-13T15:39:39.625Z"
      },
      {
        "duration": 32,
        "start_time": "2022-10-13T15:39:51.857Z"
      },
      {
        "duration": 32,
        "start_time": "2022-10-13T15:41:43.685Z"
      },
      {
        "duration": 3,
        "start_time": "2022-10-13T15:43:13.035Z"
      },
      {
        "duration": 9,
        "start_time": "2022-10-13T15:43:23.427Z"
      },
      {
        "duration": 34,
        "start_time": "2022-10-13T15:43:57.170Z"
      },
      {
        "duration": 43,
        "start_time": "2022-10-13T15:44:23.830Z"
      },
      {
        "duration": 51,
        "start_time": "2022-10-13T15:49:59.406Z"
      },
      {
        "duration": 55,
        "start_time": "2022-10-13T15:50:05.003Z"
      },
      {
        "duration": 59,
        "start_time": "2022-10-13T15:53:38.377Z"
      },
      {
        "duration": 49,
        "start_time": "2022-10-13T15:53:46.323Z"
      },
      {
        "duration": 96,
        "start_time": "2022-10-13T15:53:59.378Z"
      },
      {
        "duration": 116,
        "start_time": "2022-10-13T15:54:02.600Z"
      },
      {
        "duration": 20,
        "start_time": "2022-10-13T15:54:04.010Z"
      },
      {
        "duration": 2230,
        "start_time": "2022-10-13T15:54:06.408Z"
      },
      {
        "duration": 85,
        "start_time": "2022-10-13T15:54:08.640Z"
      },
      {
        "duration": 10,
        "start_time": "2022-10-13T15:54:11.444Z"
      },
      {
        "duration": 11,
        "start_time": "2022-10-13T15:54:13.566Z"
      },
      {
        "duration": 9,
        "start_time": "2022-10-13T15:54:14.814Z"
      },
      {
        "duration": 8,
        "start_time": "2022-10-13T15:54:15.552Z"
      },
      {
        "duration": 8,
        "start_time": "2022-10-13T15:54:18.225Z"
      },
      {
        "duration": 11,
        "start_time": "2022-10-13T15:54:23.170Z"
      },
      {
        "duration": 24,
        "start_time": "2022-10-13T15:54:24.079Z"
      },
      {
        "duration": 9,
        "start_time": "2022-10-13T15:54:26.967Z"
      },
      {
        "duration": 9,
        "start_time": "2022-10-13T15:54:28.214Z"
      },
      {
        "duration": 11,
        "start_time": "2022-10-13T15:54:35.943Z"
      },
      {
        "duration": 52,
        "start_time": "2022-10-13T15:54:41.598Z"
      },
      {
        "duration": 37,
        "start_time": "2022-10-13T15:54:43.783Z"
      },
      {
        "duration": 40,
        "start_time": "2022-10-13T15:55:01.780Z"
      },
      {
        "duration": 39,
        "start_time": "2022-10-13T15:55:13.783Z"
      },
      {
        "duration": 40,
        "start_time": "2022-10-13T15:55:23.747Z"
      },
      {
        "duration": 38,
        "start_time": "2022-10-13T15:55:43.621Z"
      },
      {
        "duration": 39,
        "start_time": "2022-10-13T15:55:51.247Z"
      },
      {
        "duration": 35,
        "start_time": "2022-10-13T15:56:12.890Z"
      },
      {
        "duration": 45,
        "start_time": "2022-10-13T16:00:01.613Z"
      },
      {
        "duration": 14,
        "start_time": "2022-10-13T16:00:56.575Z"
      },
      {
        "duration": 11,
        "start_time": "2022-10-13T16:30:34.653Z"
      },
      {
        "duration": 10,
        "start_time": "2022-10-13T16:31:08.408Z"
      },
      {
        "duration": 39,
        "start_time": "2022-10-13T16:31:11.459Z"
      },
      {
        "duration": 11,
        "start_time": "2022-10-13T16:31:14.111Z"
      },
      {
        "duration": 10,
        "start_time": "2022-10-13T16:31:53.849Z"
      },
      {
        "duration": 59,
        "start_time": "2022-10-13T16:34:45.055Z"
      },
      {
        "duration": 47,
        "start_time": "2022-10-13T16:35:19.018Z"
      },
      {
        "duration": 45,
        "start_time": "2022-10-13T16:36:58.592Z"
      },
      {
        "duration": 30,
        "start_time": "2022-10-13T16:37:12.402Z"
      },
      {
        "duration": 34,
        "start_time": "2022-10-13T16:41:55.541Z"
      },
      {
        "duration": 12,
        "start_time": "2022-10-13T16:42:32.060Z"
      },
      {
        "duration": 4,
        "start_time": "2022-10-13T16:50:00.545Z"
      },
      {
        "duration": 8,
        "start_time": "2022-10-13T16:50:26.438Z"
      },
      {
        "duration": 9,
        "start_time": "2022-10-13T16:55:20.173Z"
      },
      {
        "duration": 38,
        "start_time": "2022-10-13T16:55:25.657Z"
      },
      {
        "duration": 8,
        "start_time": "2022-10-13T16:55:41.479Z"
      },
      {
        "duration": 39,
        "start_time": "2022-10-13T16:55:48.162Z"
      },
      {
        "duration": 7,
        "start_time": "2022-10-13T16:57:23.327Z"
      },
      {
        "duration": 43,
        "start_time": "2022-10-13T16:59:16.919Z"
      },
      {
        "duration": 7,
        "start_time": "2022-10-13T17:00:34.777Z"
      },
      {
        "duration": 16,
        "start_time": "2022-10-13T17:07:11.125Z"
      },
      {
        "duration": 6,
        "start_time": "2022-10-13T17:09:30.520Z"
      },
      {
        "duration": 13,
        "start_time": "2022-10-13T17:09:46.619Z"
      },
      {
        "duration": 7,
        "start_time": "2022-10-13T17:09:53.624Z"
      },
      {
        "duration": 9,
        "start_time": "2022-10-13T17:09:56.599Z"
      },
      {
        "duration": 11,
        "start_time": "2022-10-13T17:10:11.514Z"
      },
      {
        "duration": 15,
        "start_time": "2022-10-13T17:10:26.525Z"
      },
      {
        "duration": 9,
        "start_time": "2022-10-13T17:11:12.199Z"
      },
      {
        "duration": 7,
        "start_time": "2022-10-13T17:11:21.143Z"
      },
      {
        "duration": 9,
        "start_time": "2022-10-13T17:11:23.327Z"
      },
      {
        "duration": 39,
        "start_time": "2022-10-13T17:11:43.375Z"
      },
      {
        "duration": 138,
        "start_time": "2022-10-13T17:12:23.988Z"
      },
      {
        "duration": 41,
        "start_time": "2022-10-13T17:12:31.452Z"
      },
      {
        "duration": 37,
        "start_time": "2022-10-13T17:12:57.964Z"
      },
      {
        "duration": 15,
        "start_time": "2022-10-13T17:14:00.935Z"
      },
      {
        "duration": 7,
        "start_time": "2022-10-13T17:14:16.226Z"
      },
      {
        "duration": 14,
        "start_time": "2022-10-13T17:14:18.324Z"
      },
      {
        "duration": 8,
        "start_time": "2022-10-13T17:14:25.477Z"
      },
      {
        "duration": 6,
        "start_time": "2022-10-13T17:14:30.412Z"
      },
      {
        "duration": 5,
        "start_time": "2022-10-13T17:14:32.371Z"
      },
      {
        "duration": 7,
        "start_time": "2022-10-13T17:14:35.959Z"
      },
      {
        "duration": 80,
        "start_time": "2022-10-13T17:15:12.188Z"
      },
      {
        "duration": 120,
        "start_time": "2022-10-13T17:15:16.507Z"
      },
      {
        "duration": 15,
        "start_time": "2022-10-13T17:15:17.803Z"
      },
      {
        "duration": 2002,
        "start_time": "2022-10-13T17:15:20.396Z"
      },
      {
        "duration": 71,
        "start_time": "2022-10-13T17:15:22.401Z"
      },
      {
        "duration": 10,
        "start_time": "2022-10-13T17:15:25.692Z"
      },
      {
        "duration": 11,
        "start_time": "2022-10-13T17:15:27.467Z"
      },
      {
        "duration": 7,
        "start_time": "2022-10-13T17:15:28.623Z"
      },
      {
        "duration": 72,
        "start_time": "2022-10-13T17:15:35.139Z"
      },
      {
        "duration": 10,
        "start_time": "2022-10-13T17:15:40.374Z"
      },
      {
        "duration": 10,
        "start_time": "2022-10-13T17:15:46.831Z"
      },
      {
        "duration": 6,
        "start_time": "2022-10-13T17:15:49.673Z"
      },
      {
        "duration": 10,
        "start_time": "2022-10-13T17:15:55.969Z"
      },
      {
        "duration": 57,
        "start_time": "2022-10-13T17:16:06.770Z"
      },
      {
        "duration": 42,
        "start_time": "2022-10-13T17:16:11.773Z"
      },
      {
        "duration": 8,
        "start_time": "2022-10-13T17:16:14.450Z"
      },
      {
        "duration": 42,
        "start_time": "2022-10-13T17:16:17.629Z"
      },
      {
        "duration": 43,
        "start_time": "2022-10-13T17:17:33.199Z"
      },
      {
        "duration": 11,
        "start_time": "2022-10-13T17:18:27.449Z"
      },
      {
        "duration": 7,
        "start_time": "2022-10-13T17:18:37.082Z"
      },
      {
        "duration": 4,
        "start_time": "2022-10-13T17:19:44.426Z"
      },
      {
        "duration": 8,
        "start_time": "2022-10-13T17:20:44.473Z"
      },
      {
        "duration": 7,
        "start_time": "2022-10-13T17:23:40.994Z"
      },
      {
        "duration": 12,
        "start_time": "2022-10-13T17:24:27.491Z"
      },
      {
        "duration": 7,
        "start_time": "2022-10-13T17:24:31.508Z"
      },
      {
        "duration": 5,
        "start_time": "2022-10-13T17:24:33.634Z"
      },
      {
        "duration": 6,
        "start_time": "2022-10-13T17:24:35.585Z"
      },
      {
        "duration": 7,
        "start_time": "2022-10-13T17:24:37.328Z"
      },
      {
        "duration": 10,
        "start_time": "2022-10-13T17:24:38.898Z"
      },
      {
        "duration": 514,
        "start_time": "2022-10-13T17:24:58.765Z"
      },
      {
        "duration": 126,
        "start_time": "2022-10-13T17:25:00.628Z"
      },
      {
        "duration": 16,
        "start_time": "2022-10-13T17:25:01.144Z"
      },
      {
        "duration": 2220,
        "start_time": "2022-10-13T17:25:02.098Z"
      },
      {
        "duration": 4,
        "start_time": "2022-10-13T17:25:04.320Z"
      },
      {
        "duration": 77,
        "start_time": "2022-10-13T17:25:04.326Z"
      },
      {
        "duration": 9,
        "start_time": "2022-10-13T17:25:04.836Z"
      },
      {
        "duration": 10,
        "start_time": "2022-10-13T17:25:07.811Z"
      },
      {
        "duration": 7,
        "start_time": "2022-10-13T17:25:15.503Z"
      },
      {
        "duration": 8,
        "start_time": "2022-10-13T17:25:21.074Z"
      },
      {
        "duration": 7,
        "start_time": "2022-10-13T17:25:23.017Z"
      },
      {
        "duration": 8,
        "start_time": "2022-10-13T17:25:24.303Z"
      },
      {
        "duration": 7,
        "start_time": "2022-10-13T17:25:26.673Z"
      },
      {
        "duration": 10,
        "start_time": "2022-10-13T17:25:28.937Z"
      },
      {
        "duration": 54,
        "start_time": "2022-10-13T17:25:32.143Z"
      },
      {
        "duration": 43,
        "start_time": "2022-10-13T17:25:34.319Z"
      },
      {
        "duration": 9,
        "start_time": "2022-10-13T17:25:39.586Z"
      },
      {
        "duration": 78,
        "start_time": "2022-10-13T17:25:41.962Z"
      },
      {
        "duration": 18,
        "start_time": "2022-10-13T17:28:45.613Z"
      },
      {
        "duration": 44,
        "start_time": "2022-10-13T17:29:39.260Z"
      },
      {
        "duration": 8,
        "start_time": "2022-10-13T17:29:42.790Z"
      },
      {
        "duration": 16,
        "start_time": "2022-10-13T17:29:44.623Z"
      },
      {
        "duration": 4,
        "start_time": "2022-10-13T17:37:15.589Z"
      },
      {
        "duration": 4,
        "start_time": "2022-10-13T17:37:17.608Z"
      },
      {
        "duration": 11,
        "start_time": "2022-10-13T17:37:28.166Z"
      },
      {
        "duration": 10,
        "start_time": "2022-10-13T17:37:59.372Z"
      },
      {
        "duration": 35,
        "start_time": "2022-10-13T17:38:04.243Z"
      },
      {
        "duration": 44,
        "start_time": "2022-10-13T17:38:06.849Z"
      },
      {
        "duration": 8,
        "start_time": "2022-10-13T17:38:09.784Z"
      },
      {
        "duration": 82,
        "start_time": "2022-10-13T17:38:22.839Z"
      },
      {
        "duration": 127,
        "start_time": "2022-10-13T17:38:25.053Z"
      },
      {
        "duration": 22,
        "start_time": "2022-10-13T17:38:25.911Z"
      },
      {
        "duration": 2165,
        "start_time": "2022-10-13T17:38:27.682Z"
      },
      {
        "duration": 5,
        "start_time": "2022-10-13T17:38:29.849Z"
      },
      {
        "duration": 79,
        "start_time": "2022-10-13T17:38:30.627Z"
      },
      {
        "duration": 12,
        "start_time": "2022-10-13T17:38:33.242Z"
      },
      {
        "duration": 10,
        "start_time": "2022-10-13T17:38:35.119Z"
      },
      {
        "duration": 7,
        "start_time": "2022-10-13T17:38:39.458Z"
      },
      {
        "duration": 8,
        "start_time": "2022-10-13T17:38:40.908Z"
      },
      {
        "duration": 8,
        "start_time": "2022-10-13T17:38:42.930Z"
      },
      {
        "duration": 11,
        "start_time": "2022-10-13T17:38:45.284Z"
      },
      {
        "duration": 48,
        "start_time": "2022-10-13T17:38:49.062Z"
      },
      {
        "duration": 40,
        "start_time": "2022-10-13T17:38:51.648Z"
      },
      {
        "duration": 10,
        "start_time": "2022-10-13T17:38:54.520Z"
      },
      {
        "duration": 37,
        "start_time": "2022-10-13T17:39:07.119Z"
      },
      {
        "duration": 10,
        "start_time": "2022-10-13T17:39:09.919Z"
      },
      {
        "duration": 8,
        "start_time": "2022-10-13T17:39:13.732Z"
      },
      {
        "duration": 8,
        "start_time": "2022-10-13T17:39:57.808Z"
      },
      {
        "duration": 37,
        "start_time": "2022-10-13T17:40:00.863Z"
      },
      {
        "duration": 8,
        "start_time": "2022-10-13T17:40:04.272Z"
      },
      {
        "duration": 82,
        "start_time": "2022-10-13T17:40:09.234Z"
      },
      {
        "duration": 114,
        "start_time": "2022-10-13T17:40:11.482Z"
      },
      {
        "duration": 15,
        "start_time": "2022-10-13T17:40:12.427Z"
      },
      {
        "duration": 1951,
        "start_time": "2022-10-13T17:40:14.860Z"
      },
      {
        "duration": 4,
        "start_time": "2022-10-13T17:40:18.287Z"
      },
      {
        "duration": 72,
        "start_time": "2022-10-13T17:40:22.476Z"
      },
      {
        "duration": 73,
        "start_time": "2022-10-13T17:40:37.181Z"
      },
      {
        "duration": 10,
        "start_time": "2022-10-13T17:40:40.103Z"
      },
      {
        "duration": 8,
        "start_time": "2022-10-13T17:40:41.121Z"
      },
      {
        "duration": 9,
        "start_time": "2022-10-13T17:40:43.505Z"
      },
      {
        "duration": 8,
        "start_time": "2022-10-13T17:40:44.529Z"
      },
      {
        "duration": 11,
        "start_time": "2022-10-13T17:40:46.707Z"
      },
      {
        "duration": 9,
        "start_time": "2022-10-13T17:40:48.062Z"
      },
      {
        "duration": 6,
        "start_time": "2022-10-13T17:40:50.418Z"
      },
      {
        "duration": 10,
        "start_time": "2022-10-13T17:40:52.200Z"
      },
      {
        "duration": 44,
        "start_time": "2022-10-13T17:40:55.506Z"
      },
      {
        "duration": 43,
        "start_time": "2022-10-13T17:40:57.662Z"
      },
      {
        "duration": 9,
        "start_time": "2022-10-13T17:40:59.684Z"
      },
      {
        "duration": 10,
        "start_time": "2022-10-13T17:41:18.751Z"
      },
      {
        "duration": 8,
        "start_time": "2022-10-13T17:41:45.202Z"
      },
      {
        "duration": 9,
        "start_time": "2022-10-13T17:41:47.741Z"
      },
      {
        "duration": 10,
        "start_time": "2022-10-13T18:00:56.235Z"
      },
      {
        "duration": 9,
        "start_time": "2022-10-13T18:01:23.408Z"
      },
      {
        "duration": 11,
        "start_time": "2022-10-13T18:02:07.064Z"
      },
      {
        "duration": 25,
        "start_time": "2022-10-13T18:10:44.845Z"
      },
      {
        "duration": 9,
        "start_time": "2022-10-13T18:12:14.913Z"
      },
      {
        "duration": 24,
        "start_time": "2022-10-13T18:12:18.323Z"
      },
      {
        "duration": 82,
        "start_time": "2022-10-13T18:12:26.104Z"
      },
      {
        "duration": 115,
        "start_time": "2022-10-13T18:12:28.982Z"
      },
      {
        "duration": 15,
        "start_time": "2022-10-13T18:12:30.211Z"
      },
      {
        "duration": 12,
        "start_time": "2022-10-13T18:12:39.960Z"
      },
      {
        "duration": 1821,
        "start_time": "2022-10-13T18:12:41.984Z"
      },
      {
        "duration": 4,
        "start_time": "2022-10-13T18:12:45.609Z"
      },
      {
        "duration": 204,
        "start_time": "2022-10-13T18:12:47.461Z"
      },
      {
        "duration": 8,
        "start_time": "2022-10-13T18:12:59.414Z"
      },
      {
        "duration": 10,
        "start_time": "2022-10-13T18:13:02.070Z"
      },
      {
        "duration": 9,
        "start_time": "2022-10-13T18:13:04.399Z"
      },
      {
        "duration": 9,
        "start_time": "2022-10-13T18:13:05.663Z"
      },
      {
        "duration": 6,
        "start_time": "2022-10-13T18:13:07.477Z"
      },
      {
        "duration": 10,
        "start_time": "2022-10-13T18:13:09.728Z"
      },
      {
        "duration": 43,
        "start_time": "2022-10-13T18:13:13.421Z"
      },
      {
        "duration": 42,
        "start_time": "2022-10-13T18:13:17.179Z"
      },
      {
        "duration": 9,
        "start_time": "2022-10-13T18:13:19.416Z"
      },
      {
        "duration": 11,
        "start_time": "2022-10-13T18:13:22.084Z"
      },
      {
        "duration": 30,
        "start_time": "2022-10-13T18:13:28.276Z"
      },
      {
        "duration": 23,
        "start_time": "2022-10-13T18:15:35.876Z"
      },
      {
        "duration": 11,
        "start_time": "2022-10-13T18:15:50.024Z"
      },
      {
        "duration": 22,
        "start_time": "2022-10-13T18:15:53.200Z"
      },
      {
        "duration": 26,
        "start_time": "2022-10-13T18:16:41.433Z"
      },
      {
        "duration": 11,
        "start_time": "2022-10-13T18:20:43.899Z"
      },
      {
        "duration": 26,
        "start_time": "2022-10-13T18:25:12.438Z"
      },
      {
        "duration": 70,
        "start_time": "2022-10-13T18:26:37.682Z"
      },
      {
        "duration": 9,
        "start_time": "2022-10-13T18:32:30.069Z"
      },
      {
        "duration": 6,
        "start_time": "2022-10-13T18:33:13.474Z"
      },
      {
        "duration": 5,
        "start_time": "2022-10-13T18:33:48.969Z"
      },
      {
        "duration": 13,
        "start_time": "2022-10-13T18:33:52.709Z"
      },
      {
        "duration": 7,
        "start_time": "2022-10-13T18:33:57.216Z"
      },
      {
        "duration": 84,
        "start_time": "2022-10-13T18:34:04.103Z"
      },
      {
        "duration": 110,
        "start_time": "2022-10-13T18:34:06.051Z"
      },
      {
        "duration": 14,
        "start_time": "2022-10-13T18:34:07.539Z"
      },
      {
        "duration": 1857,
        "start_time": "2022-10-13T18:34:09.818Z"
      },
      {
        "duration": 4,
        "start_time": "2022-10-13T18:34:13.489Z"
      },
      {
        "duration": 70,
        "start_time": "2022-10-13T18:34:15.180Z"
      },
      {
        "duration": 9,
        "start_time": "2022-10-13T18:34:19.672Z"
      },
      {
        "duration": 8,
        "start_time": "2022-10-13T18:34:24.503Z"
      },
      {
        "duration": 11,
        "start_time": "2022-10-13T18:34:26.041Z"
      },
      {
        "duration": 9,
        "start_time": "2022-10-13T18:34:29.716Z"
      },
      {
        "duration": 9,
        "start_time": "2022-10-13T18:34:31.768Z"
      },
      {
        "duration": 9,
        "start_time": "2022-10-13T18:34:33.249Z"
      },
      {
        "duration": 6,
        "start_time": "2022-10-13T18:34:38.238Z"
      },
      {
        "duration": 9,
        "start_time": "2022-10-13T18:34:40.779Z"
      },
      {
        "duration": 43,
        "start_time": "2022-10-13T18:34:43.523Z"
      },
      {
        "duration": 43,
        "start_time": "2022-10-13T18:34:45.488Z"
      },
      {
        "duration": 10,
        "start_time": "2022-10-13T18:34:54.644Z"
      },
      {
        "duration": 5,
        "start_time": "2022-10-13T18:34:56.651Z"
      },
      {
        "duration": 9,
        "start_time": "2022-10-13T18:35:22.890Z"
      },
      {
        "duration": 25,
        "start_time": "2022-10-13T18:36:02.984Z"
      },
      {
        "duration": 663,
        "start_time": "2022-10-13T18:36:24.604Z"
      },
      {
        "duration": 9,
        "start_time": "2022-10-13T18:36:35.900Z"
      },
      {
        "duration": 9,
        "start_time": "2022-10-13T18:36:40.610Z"
      },
      {
        "duration": 10,
        "start_time": "2022-10-13T18:36:44.346Z"
      },
      {
        "duration": 10,
        "start_time": "2022-10-13T18:36:57.186Z"
      },
      {
        "duration": 83,
        "start_time": "2022-10-13T18:37:50.141Z"
      },
      {
        "duration": 114,
        "start_time": "2022-10-13T18:37:52.502Z"
      },
      {
        "duration": 17,
        "start_time": "2022-10-13T18:37:53.661Z"
      },
      {
        "duration": 2077,
        "start_time": "2022-10-13T18:37:56.289Z"
      },
      {
        "duration": 4,
        "start_time": "2022-10-13T18:37:58.368Z"
      },
      {
        "duration": 79,
        "start_time": "2022-10-13T18:37:59.570Z"
      },
      {
        "duration": 10,
        "start_time": "2022-10-13T18:38:05.403Z"
      },
      {
        "duration": 11,
        "start_time": "2022-10-13T18:38:07.409Z"
      },
      {
        "duration": 7,
        "start_time": "2022-10-13T18:38:12.760Z"
      },
      {
        "duration": 8,
        "start_time": "2022-10-13T18:38:18.652Z"
      },
      {
        "duration": 8,
        "start_time": "2022-10-13T18:38:20.830Z"
      },
      {
        "duration": 5,
        "start_time": "2022-10-13T18:38:28.143Z"
      },
      {
        "duration": 11,
        "start_time": "2022-10-13T18:38:30.138Z"
      },
      {
        "duration": 42,
        "start_time": "2022-10-13T18:38:32.768Z"
      },
      {
        "duration": 41,
        "start_time": "2022-10-13T18:38:34.245Z"
      },
      {
        "duration": 9,
        "start_time": "2022-10-13T18:38:35.838Z"
      },
      {
        "duration": 10,
        "start_time": "2022-10-13T18:38:37.270Z"
      },
      {
        "duration": 10,
        "start_time": "2022-10-13T18:38:39.331Z"
      },
      {
        "duration": 10,
        "start_time": "2022-10-13T18:38:47.144Z"
      },
      {
        "duration": 10,
        "start_time": "2022-10-13T18:38:54.796Z"
      },
      {
        "duration": 9,
        "start_time": "2022-10-13T18:39:00.031Z"
      },
      {
        "duration": 5,
        "start_time": "2022-10-13T18:41:14.762Z"
      },
      {
        "duration": 4,
        "start_time": "2022-10-13T18:42:36.190Z"
      },
      {
        "duration": 10,
        "start_time": "2022-10-13T18:42:54.430Z"
      },
      {
        "duration": 7,
        "start_time": "2022-10-13T18:44:42.447Z"
      },
      {
        "duration": 9,
        "start_time": "2022-10-13T18:45:13.089Z"
      },
      {
        "duration": 8,
        "start_time": "2022-10-13T18:45:14.307Z"
      },
      {
        "duration": 88,
        "start_time": "2022-10-13T18:45:51.451Z"
      },
      {
        "duration": 105,
        "start_time": "2022-10-13T18:45:53.271Z"
      },
      {
        "duration": 13,
        "start_time": "2022-10-13T18:45:54.126Z"
      },
      {
        "duration": 1924,
        "start_time": "2022-10-13T18:45:55.814Z"
      },
      {
        "duration": 4,
        "start_time": "2022-10-13T18:45:59.675Z"
      },
      {
        "duration": 273,
        "start_time": "2022-10-13T18:46:00.831Z"
      },
      {
        "duration": 10,
        "start_time": "2022-10-13T18:46:03.891Z"
      },
      {
        "duration": 10,
        "start_time": "2022-10-13T18:46:05.154Z"
      },
      {
        "duration": 8,
        "start_time": "2022-10-13T18:46:08.282Z"
      },
      {
        "duration": 10,
        "start_time": "2022-10-13T18:46:10.675Z"
      },
      {
        "duration": 43,
        "start_time": "2022-10-13T18:46:13.490Z"
      },
      {
        "duration": 48,
        "start_time": "2022-10-13T18:46:16.494Z"
      },
      {
        "duration": 37,
        "start_time": "2022-10-13T18:46:24.691Z"
      },
      {
        "duration": 9,
        "start_time": "2022-10-13T18:46:27.982Z"
      },
      {
        "duration": 10,
        "start_time": "2022-10-13T18:46:31.154Z"
      },
      {
        "duration": 8,
        "start_time": "2022-10-13T18:46:37.986Z"
      },
      {
        "duration": 9,
        "start_time": "2022-10-13T18:46:51.239Z"
      },
      {
        "duration": 9,
        "start_time": "2022-10-13T18:47:00.020Z"
      },
      {
        "duration": 13,
        "start_time": "2022-10-13T18:47:18.195Z"
      },
      {
        "duration": 12,
        "start_time": "2022-10-13T18:47:38.975Z"
      },
      {
        "duration": 8,
        "start_time": "2022-10-13T18:51:42.762Z"
      },
      {
        "duration": 7,
        "start_time": "2022-10-13T18:53:27.960Z"
      },
      {
        "duration": 46,
        "start_time": "2022-10-18T09:07:47.130Z"
      },
      {
        "duration": 44,
        "start_time": "2022-10-18T09:08:01.656Z"
      },
      {
        "duration": 507,
        "start_time": "2022-10-18T09:08:07.988Z"
      },
      {
        "duration": 125,
        "start_time": "2022-10-18T09:08:11.813Z"
      },
      {
        "duration": 19,
        "start_time": "2022-10-18T09:08:15.114Z"
      },
      {
        "duration": 2764,
        "start_time": "2022-10-18T09:08:18.035Z"
      },
      {
        "duration": 4,
        "start_time": "2022-10-18T09:08:23.400Z"
      },
      {
        "duration": 83,
        "start_time": "2022-10-18T09:08:24.991Z"
      },
      {
        "duration": 11,
        "start_time": "2022-10-18T09:08:31.659Z"
      },
      {
        "duration": 9,
        "start_time": "2022-10-18T09:26:57.730Z"
      },
      {
        "duration": 8,
        "start_time": "2022-10-18T09:27:00.273Z"
      },
      {
        "duration": 9,
        "start_time": "2022-10-18T09:27:11.240Z"
      },
      {
        "duration": 72,
        "start_time": "2022-10-18T09:27:16.664Z"
      },
      {
        "duration": 100,
        "start_time": "2022-10-18T09:27:20.330Z"
      },
      {
        "duration": 15,
        "start_time": "2022-10-18T09:27:22.897Z"
      },
      {
        "duration": 1981,
        "start_time": "2022-10-18T09:27:25.151Z"
      },
      {
        "duration": 4,
        "start_time": "2022-10-18T09:27:28.604Z"
      },
      {
        "duration": 76,
        "start_time": "2022-10-18T09:27:29.772Z"
      },
      {
        "duration": 8,
        "start_time": "2022-10-18T09:27:34.734Z"
      },
      {
        "duration": 10,
        "start_time": "2022-10-18T09:27:36.872Z"
      },
      {
        "duration": 7,
        "start_time": "2022-10-18T09:27:39.208Z"
      },
      {
        "duration": 11,
        "start_time": "2022-10-18T09:27:42.494Z"
      },
      {
        "duration": 47,
        "start_time": "2022-10-18T09:27:46.396Z"
      },
      {
        "duration": 43,
        "start_time": "2022-10-18T09:27:56.269Z"
      },
      {
        "duration": 9,
        "start_time": "2022-10-18T09:27:59.325Z"
      },
      {
        "duration": 9,
        "start_time": "2022-10-18T09:28:07.619Z"
      },
      {
        "duration": 8,
        "start_time": "2022-10-18T09:28:12.097Z"
      },
      {
        "duration": 13,
        "start_time": "2022-10-18T09:28:26.736Z"
      },
      {
        "duration": 641,
        "start_time": "2022-10-18T09:36:40.172Z"
      },
      {
        "duration": 869,
        "start_time": "2022-10-18T09:39:28.565Z"
      },
      {
        "duration": 20,
        "start_time": "2022-10-18T09:39:59.638Z"
      },
      {
        "duration": 25,
        "start_time": "2022-10-18T09:50:21.471Z"
      },
      {
        "duration": 14,
        "start_time": "2022-10-18T09:52:28.568Z"
      },
      {
        "duration": 23,
        "start_time": "2022-10-18T09:52:46.412Z"
      },
      {
        "duration": 17,
        "start_time": "2022-10-18T09:53:17.105Z"
      },
      {
        "duration": 22,
        "start_time": "2022-10-18T09:53:26.244Z"
      },
      {
        "duration": 105,
        "start_time": "2022-10-18T09:54:24.295Z"
      },
      {
        "duration": 11,
        "start_time": "2022-10-18T09:54:30.313Z"
      },
      {
        "duration": 4,
        "start_time": "2022-10-18T10:23:24.885Z"
      },
      {
        "duration": 10,
        "start_time": "2022-10-18T10:23:41.006Z"
      },
      {
        "duration": 3,
        "start_time": "2022-10-18T10:23:47.796Z"
      },
      {
        "duration": 5,
        "start_time": "2022-10-18T10:25:35.774Z"
      },
      {
        "duration": 9,
        "start_time": "2022-10-18T10:30:34.702Z"
      },
      {
        "duration": 534,
        "start_time": "2022-10-18T10:30:47.569Z"
      },
      {
        "duration": 62,
        "start_time": "2022-10-18T10:31:04.946Z"
      },
      {
        "duration": 14,
        "start_time": "2022-10-18T10:31:31.889Z"
      },
      {
        "duration": 4,
        "start_time": "2022-10-18T10:31:38.247Z"
      },
      {
        "duration": 14,
        "start_time": "2022-10-18T10:31:42.658Z"
      },
      {
        "duration": 75,
        "start_time": "2022-10-18T10:32:44.113Z"
      },
      {
        "duration": 103,
        "start_time": "2022-10-18T10:32:45.699Z"
      },
      {
        "duration": 14,
        "start_time": "2022-10-18T10:32:47.296Z"
      },
      {
        "duration": 1961,
        "start_time": "2022-10-18T10:32:49.050Z"
      },
      {
        "duration": 4,
        "start_time": "2022-10-18T10:32:52.775Z"
      },
      {
        "duration": 89,
        "start_time": "2022-10-18T10:32:56.096Z"
      },
      {
        "duration": 9,
        "start_time": "2022-10-18T10:32:59.199Z"
      },
      {
        "duration": 11,
        "start_time": "2022-10-18T10:33:01.769Z"
      },
      {
        "duration": 6,
        "start_time": "2022-10-18T10:33:04.619Z"
      },
      {
        "duration": 11,
        "start_time": "2022-10-18T10:33:06.835Z"
      },
      {
        "duration": 45,
        "start_time": "2022-10-18T10:33:09.857Z"
      },
      {
        "duration": 44,
        "start_time": "2022-10-18T10:33:12.427Z"
      },
      {
        "duration": 9,
        "start_time": "2022-10-18T10:33:14.396Z"
      },
      {
        "duration": 10,
        "start_time": "2022-10-18T10:33:16.365Z"
      },
      {
        "duration": 8,
        "start_time": "2022-10-18T10:33:18.544Z"
      },
      {
        "duration": 13,
        "start_time": "2022-10-18T10:33:19.777Z"
      },
      {
        "duration": 8,
        "start_time": "2022-10-18T10:33:23.720Z"
      },
      {
        "duration": 4,
        "start_time": "2022-10-18T10:33:27.147Z"
      },
      {
        "duration": 4,
        "start_time": "2022-10-18T10:33:30.915Z"
      },
      {
        "duration": 13,
        "start_time": "2022-10-18T10:33:33.641Z"
      },
      {
        "duration": 16,
        "start_time": "2022-10-18T10:33:55.814Z"
      },
      {
        "duration": 3,
        "start_time": "2022-10-18T10:34:10.249Z"
      },
      {
        "duration": 3,
        "start_time": "2022-10-18T10:34:14.018Z"
      },
      {
        "duration": 12,
        "start_time": "2022-10-18T10:34:16.975Z"
      },
      {
        "duration": 5,
        "start_time": "2022-10-18T10:35:42.345Z"
      },
      {
        "duration": 14,
        "start_time": "2022-10-18T10:39:57.051Z"
      },
      {
        "duration": 5,
        "start_time": "2022-10-18T11:19:00.576Z"
      },
      {
        "duration": 4,
        "start_time": "2022-10-18T11:19:35.551Z"
      },
      {
        "duration": 6,
        "start_time": "2022-10-18T11:19:57.163Z"
      },
      {
        "duration": 6,
        "start_time": "2022-10-18T11:24:49.880Z"
      },
      {
        "duration": 9,
        "start_time": "2022-10-18T11:35:40.858Z"
      },
      {
        "duration": 4,
        "start_time": "2022-10-18T11:38:17.742Z"
      },
      {
        "duration": 4,
        "start_time": "2022-10-18T11:38:21.202Z"
      },
      {
        "duration": 15,
        "start_time": "2022-10-18T11:38:24.609Z"
      },
      {
        "duration": 4,
        "start_time": "2022-10-18T11:39:05.912Z"
      },
      {
        "duration": 5,
        "start_time": "2022-10-18T11:39:24.916Z"
      },
      {
        "duration": 5,
        "start_time": "2022-10-18T11:39:50.003Z"
      },
      {
        "duration": 5,
        "start_time": "2022-10-18T11:40:10.452Z"
      },
      {
        "duration": 5,
        "start_time": "2022-10-18T11:40:27.418Z"
      },
      {
        "duration": 5,
        "start_time": "2022-10-18T11:40:46.271Z"
      },
      {
        "duration": 5,
        "start_time": "2022-10-18T11:41:35.473Z"
      },
      {
        "duration": 5,
        "start_time": "2022-10-18T11:41:50.177Z"
      },
      {
        "duration": 4,
        "start_time": "2022-10-18T11:42:20.122Z"
      },
      {
        "duration": 6,
        "start_time": "2022-10-18T11:42:30.877Z"
      },
      {
        "duration": 5,
        "start_time": "2022-10-18T11:43:07.080Z"
      },
      {
        "duration": 14,
        "start_time": "2022-10-18T11:43:20.330Z"
      },
      {
        "duration": 5,
        "start_time": "2022-10-18T11:43:37.016Z"
      },
      {
        "duration": 18,
        "start_time": "2022-10-18T11:45:33.114Z"
      },
      {
        "duration": 54,
        "start_time": "2022-10-18T12:09:30.253Z"
      },
      {
        "duration": 25,
        "start_time": "2022-10-18T12:10:04.633Z"
      },
      {
        "duration": 270,
        "start_time": "2022-10-18T12:10:57.526Z"
      },
      {
        "duration": 260,
        "start_time": "2022-10-18T12:11:36.898Z"
      },
      {
        "duration": 276,
        "start_time": "2022-10-18T12:13:27.942Z"
      },
      {
        "duration": 282,
        "start_time": "2022-10-18T12:13:59.722Z"
      },
      {
        "duration": 299,
        "start_time": "2022-10-18T12:14:26.308Z"
      },
      {
        "duration": 301,
        "start_time": "2022-10-18T12:14:52.598Z"
      },
      {
        "duration": 293,
        "start_time": "2022-10-18T12:15:19.720Z"
      },
      {
        "duration": 261,
        "start_time": "2022-10-18T12:15:23.111Z"
      },
      {
        "duration": 225,
        "start_time": "2022-10-18T12:18:08.062Z"
      },
      {
        "duration": 17,
        "start_time": "2022-10-18T12:18:23.194Z"
      },
      {
        "duration": 20,
        "start_time": "2022-10-18T12:18:24.399Z"
      },
      {
        "duration": 224,
        "start_time": "2022-10-18T12:18:28.244Z"
      },
      {
        "duration": 5,
        "start_time": "2022-10-18T12:18:42.690Z"
      },
      {
        "duration": 115,
        "start_time": "2022-10-18T12:18:57.298Z"
      },
      {
        "duration": 115,
        "start_time": "2022-10-18T12:18:59.208Z"
      },
      {
        "duration": 15,
        "start_time": "2022-10-18T12:19:00.688Z"
      },
      {
        "duration": 2085,
        "start_time": "2022-10-18T12:19:02.792Z"
      },
      {
        "duration": 4,
        "start_time": "2022-10-18T12:19:04.879Z"
      },
      {
        "duration": 80,
        "start_time": "2022-10-18T12:19:05.833Z"
      },
      {
        "duration": 10,
        "start_time": "2022-10-18T12:19:09.055Z"
      },
      {
        "duration": 11,
        "start_time": "2022-10-18T12:19:11.415Z"
      },
      {
        "duration": 9,
        "start_time": "2022-10-18T12:19:17.887Z"
      },
      {
        "duration": 9,
        "start_time": "2022-10-18T12:19:19.562Z"
      },
      {
        "duration": 6,
        "start_time": "2022-10-18T12:19:21.247Z"
      },
      {
        "duration": 11,
        "start_time": "2022-10-18T12:19:23.379Z"
      },
      {
        "duration": 46,
        "start_time": "2022-10-18T12:19:25.750Z"
      },
      {
        "duration": 47,
        "start_time": "2022-10-18T12:19:27.378Z"
      },
      {
        "duration": 13,
        "start_time": "2022-10-18T12:19:28.771Z"
      },
      {
        "duration": 10,
        "start_time": "2022-10-18T12:19:30.219Z"
      },
      {
        "duration": 9,
        "start_time": "2022-10-18T12:19:31.738Z"
      },
      {
        "duration": 8,
        "start_time": "2022-10-18T12:19:32.984Z"
      },
      {
        "duration": 9,
        "start_time": "2022-10-18T12:19:41.456Z"
      },
      {
        "duration": 11,
        "start_time": "2022-10-18T12:19:42.541Z"
      },
      {
        "duration": 4,
        "start_time": "2022-10-18T12:19:44.798Z"
      },
      {
        "duration": 4,
        "start_time": "2022-10-18T12:19:46.021Z"
      },
      {
        "duration": 4,
        "start_time": "2022-10-18T12:19:47.216Z"
      },
      {
        "duration": 12,
        "start_time": "2022-10-18T12:19:51.245Z"
      },
      {
        "duration": 19,
        "start_time": "2022-10-18T12:20:06.032Z"
      },
      {
        "duration": 237,
        "start_time": "2022-10-18T12:20:13.260Z"
      },
      {
        "duration": 225,
        "start_time": "2022-10-18T12:20:44.424Z"
      },
      {
        "duration": 30,
        "start_time": "2022-10-18T12:20:59.001Z"
      },
      {
        "duration": 17,
        "start_time": "2022-10-18T12:21:10.932Z"
      },
      {
        "duration": 23,
        "start_time": "2022-10-18T12:21:11.702Z"
      },
      {
        "duration": 233,
        "start_time": "2022-10-18T12:21:22.233Z"
      },
      {
        "duration": 15,
        "start_time": "2022-10-18T12:21:34.106Z"
      },
      {
        "duration": 18,
        "start_time": "2022-10-18T12:21:38.444Z"
      },
      {
        "duration": 292,
        "start_time": "2022-10-18T12:21:54.012Z"
      },
      {
        "duration": 73,
        "start_time": "2022-10-18T12:22:36.317Z"
      },
      {
        "duration": 91,
        "start_time": "2022-10-18T12:22:37.086Z"
      },
      {
        "duration": 16,
        "start_time": "2022-10-18T12:22:38.045Z"
      },
      {
        "duration": 2207,
        "start_time": "2022-10-18T12:22:38.907Z"
      },
      {
        "duration": 5,
        "start_time": "2022-10-18T12:22:41.116Z"
      },
      {
        "duration": 109,
        "start_time": "2022-10-18T12:22:41.123Z"
      },
      {
        "duration": 10,
        "start_time": "2022-10-18T12:22:43.226Z"
      },
      {
        "duration": 11,
        "start_time": "2022-10-18T12:22:44.874Z"
      },
      {
        "duration": 9,
        "start_time": "2022-10-18T12:22:51.590Z"
      },
      {
        "duration": 12,
        "start_time": "2022-10-18T12:22:53.255Z"
      },
      {
        "duration": 8,
        "start_time": "2022-10-18T12:22:54.682Z"
      },
      {
        "duration": 15,
        "start_time": "2022-10-18T12:22:56.128Z"
      },
      {
        "duration": 66,
        "start_time": "2022-10-18T12:22:57.944Z"
      },
      {
        "duration": 67,
        "start_time": "2022-10-18T12:22:59.154Z"
      },
      {
        "duration": 12,
        "start_time": "2022-10-18T12:23:00.286Z"
      },
      {
        "duration": 12,
        "start_time": "2022-10-18T12:23:01.565Z"
      },
      {
        "duration": 12,
        "start_time": "2022-10-18T12:23:03.026Z"
      },
      {
        "duration": 9,
        "start_time": "2022-10-18T12:23:04.957Z"
      },
      {
        "duration": 6,
        "start_time": "2022-10-18T12:23:06.168Z"
      },
      {
        "duration": 10,
        "start_time": "2022-10-18T12:23:07.124Z"
      },
      {
        "duration": 7,
        "start_time": "2022-10-18T12:23:08.124Z"
      },
      {
        "duration": 15,
        "start_time": "2022-10-18T12:23:09.721Z"
      },
      {
        "duration": 17,
        "start_time": "2022-10-18T12:23:11.531Z"
      },
      {
        "duration": 87,
        "start_time": "2022-10-18T12:28:41.353Z"
      },
      {
        "duration": 88,
        "start_time": "2022-10-18T12:28:42.171Z"
      },
      {
        "duration": 14,
        "start_time": "2022-10-18T12:28:43.245Z"
      },
      {
        "duration": 2098,
        "start_time": "2022-10-18T12:28:44.590Z"
      },
      {
        "duration": 4,
        "start_time": "2022-10-18T12:28:46.690Z"
      },
      {
        "duration": 99,
        "start_time": "2022-10-18T12:28:46.695Z"
      },
      {
        "duration": 9,
        "start_time": "2022-10-18T12:28:48.140Z"
      },
      {
        "duration": 11,
        "start_time": "2022-10-18T12:29:01.120Z"
      },
      {
        "duration": 8,
        "start_time": "2022-10-18T12:29:03.783Z"
      },
      {
        "duration": 8,
        "start_time": "2022-10-18T12:29:10.115Z"
      },
      {
        "duration": 9,
        "start_time": "2022-10-18T12:29:13.043Z"
      },
      {
        "duration": 6,
        "start_time": "2022-10-18T12:29:17.909Z"
      },
      {
        "duration": 10,
        "start_time": "2022-10-18T12:30:57.762Z"
      },
      {
        "duration": 9,
        "start_time": "2022-10-18T12:31:25.609Z"
      },
      {
        "duration": 8,
        "start_time": "2022-10-18T12:31:40.555Z"
      },
      {
        "duration": 7,
        "start_time": "2022-10-18T12:31:43.525Z"
      },
      {
        "duration": 12,
        "start_time": "2022-10-18T12:31:48.440Z"
      },
      {
        "duration": 5,
        "start_time": "2022-10-18T12:31:52.844Z"
      },
      {
        "duration": 7,
        "start_time": "2022-10-18T12:31:55.710Z"
      },
      {
        "duration": 74,
        "start_time": "2022-10-18T12:32:01.649Z"
      },
      {
        "duration": 93,
        "start_time": "2022-10-18T12:32:02.305Z"
      },
      {
        "duration": 19,
        "start_time": "2022-10-18T12:32:03.046Z"
      },
      {
        "duration": 2080,
        "start_time": "2022-10-18T12:32:04.310Z"
      },
      {
        "duration": 5,
        "start_time": "2022-10-18T12:32:06.392Z"
      },
      {
        "duration": 88,
        "start_time": "2022-10-18T12:32:06.399Z"
      },
      {
        "duration": 10,
        "start_time": "2022-10-18T12:32:11.041Z"
      },
      {
        "duration": 13,
        "start_time": "2022-10-18T12:32:14.044Z"
      },
      {
        "duration": 12,
        "start_time": "2022-10-18T12:32:19.039Z"
      },
      {
        "duration": 10,
        "start_time": "2022-10-18T12:32:25.016Z"
      },
      {
        "duration": 9,
        "start_time": "2022-10-18T12:32:26.641Z"
      },
      {
        "duration": 6,
        "start_time": "2022-10-18T12:32:28.044Z"
      },
      {
        "duration": 11,
        "start_time": "2022-10-18T12:32:49.469Z"
      },
      {
        "duration": 11,
        "start_time": "2022-10-18T12:34:27.877Z"
      },
      {
        "duration": 11,
        "start_time": "2022-10-18T12:36:17.856Z"
      },
      {
        "duration": 44,
        "start_time": "2022-10-18T12:37:43.951Z"
      },
      {
        "duration": 44,
        "start_time": "2022-10-18T12:37:45.719Z"
      },
      {
        "duration": 11,
        "start_time": "2022-10-18T12:37:48.897Z"
      },
      {
        "duration": 11,
        "start_time": "2022-10-18T12:37:50.145Z"
      },
      {
        "duration": 10,
        "start_time": "2022-10-18T12:37:51.658Z"
      },
      {
        "duration": 8,
        "start_time": "2022-10-18T12:37:52.999Z"
      },
      {
        "duration": 5,
        "start_time": "2022-10-18T12:37:54.105Z"
      },
      {
        "duration": 5,
        "start_time": "2022-10-18T12:37:54.933Z"
      },
      {
        "duration": 5,
        "start_time": "2022-10-18T12:37:55.853Z"
      },
      {
        "duration": 14,
        "start_time": "2022-10-18T12:37:57.499Z"
      },
      {
        "duration": 19,
        "start_time": "2022-10-18T12:38:08.653Z"
      },
      {
        "duration": 225,
        "start_time": "2022-10-18T12:38:16.669Z"
      },
      {
        "duration": 220,
        "start_time": "2022-10-18T12:40:41.644Z"
      },
      {
        "duration": 199,
        "start_time": "2022-10-18T12:40:50.754Z"
      },
      {
        "duration": 218,
        "start_time": "2022-10-18T12:40:52.720Z"
      },
      {
        "duration": 18,
        "start_time": "2022-10-18T12:41:02.333Z"
      },
      {
        "duration": 204,
        "start_time": "2022-10-18T12:41:06.846Z"
      },
      {
        "duration": 76,
        "start_time": "2022-10-18T12:41:17.378Z"
      },
      {
        "duration": 91,
        "start_time": "2022-10-18T12:41:17.993Z"
      },
      {
        "duration": 14,
        "start_time": "2022-10-18T12:41:18.591Z"
      },
      {
        "duration": 2215,
        "start_time": "2022-10-18T12:41:19.221Z"
      },
      {
        "duration": 4,
        "start_time": "2022-10-18T12:41:21.438Z"
      },
      {
        "duration": 86,
        "start_time": "2022-10-18T12:41:21.443Z"
      },
      {
        "duration": 9,
        "start_time": "2022-10-18T12:41:22.805Z"
      },
      {
        "duration": 12,
        "start_time": "2022-10-18T12:41:25.468Z"
      },
      {
        "duration": 10,
        "start_time": "2022-10-18T12:41:28.782Z"
      },
      {
        "duration": 8,
        "start_time": "2022-10-18T12:41:36.425Z"
      },
      {
        "duration": 9,
        "start_time": "2022-10-18T12:41:38.319Z"
      },
      {
        "duration": 8,
        "start_time": "2022-10-18T12:41:40.624Z"
      },
      {
        "duration": 10,
        "start_time": "2022-10-18T12:41:42.324Z"
      },
      {
        "duration": 44,
        "start_time": "2022-10-18T12:41:45.340Z"
      },
      {
        "duration": 61,
        "start_time": "2022-10-18T12:41:46.155Z"
      },
      {
        "duration": 10,
        "start_time": "2022-10-18T12:41:47.177Z"
      },
      {
        "duration": 10,
        "start_time": "2022-10-18T12:41:48.025Z"
      },
      {
        "duration": 10,
        "start_time": "2022-10-18T12:41:48.746Z"
      },
      {
        "duration": 8,
        "start_time": "2022-10-18T12:41:49.943Z"
      },
      {
        "duration": 6,
        "start_time": "2022-10-18T12:41:50.851Z"
      },
      {
        "duration": 6,
        "start_time": "2022-10-18T12:41:51.580Z"
      },
      {
        "duration": 4,
        "start_time": "2022-10-18T12:41:52.609Z"
      },
      {
        "duration": 15,
        "start_time": "2022-10-18T12:41:54.452Z"
      },
      {
        "duration": 19,
        "start_time": "2022-10-18T12:41:57.314Z"
      },
      {
        "duration": 220,
        "start_time": "2022-10-18T12:42:13.005Z"
      },
      {
        "duration": 82,
        "start_time": "2022-10-18T12:44:18.501Z"
      },
      {
        "duration": 74,
        "start_time": "2022-10-18T12:45:09.640Z"
      },
      {
        "duration": 87,
        "start_time": "2022-10-18T12:46:06.438Z"
      },
      {
        "duration": 90,
        "start_time": "2022-10-18T12:47:03.708Z"
      },
      {
        "duration": 93,
        "start_time": "2022-10-18T12:47:28.290Z"
      },
      {
        "duration": 108,
        "start_time": "2022-10-18T12:48:08.272Z"
      },
      {
        "duration": 110,
        "start_time": "2022-10-18T12:48:41.205Z"
      },
      {
        "duration": 113,
        "start_time": "2022-10-18T12:48:50.500Z"
      },
      {
        "duration": 117,
        "start_time": "2022-10-18T12:48:55.371Z"
      },
      {
        "duration": 113,
        "start_time": "2022-10-18T12:49:18.359Z"
      },
      {
        "duration": 27,
        "start_time": "2022-10-18T12:49:36.710Z"
      },
      {
        "duration": 125,
        "start_time": "2022-10-18T12:49:44.435Z"
      },
      {
        "duration": 74,
        "start_time": "2022-10-18T12:50:07.425Z"
      },
      {
        "duration": 94,
        "start_time": "2022-10-18T12:50:08.140Z"
      },
      {
        "duration": 16,
        "start_time": "2022-10-18T12:50:08.811Z"
      },
      {
        "duration": 2039,
        "start_time": "2022-10-18T12:50:09.487Z"
      },
      {
        "duration": 4,
        "start_time": "2022-10-18T12:50:11.529Z"
      },
      {
        "duration": 108,
        "start_time": "2022-10-18T12:50:11.535Z"
      },
      {
        "duration": 8,
        "start_time": "2022-10-18T12:50:12.526Z"
      },
      {
        "duration": 8,
        "start_time": "2022-10-18T12:50:19.744Z"
      },
      {
        "duration": 13,
        "start_time": "2022-10-18T12:50:25.392Z"
      },
      {
        "duration": 10,
        "start_time": "2022-10-18T12:50:31.869Z"
      },
      {
        "duration": 9,
        "start_time": "2022-10-18T12:50:43.900Z"
      },
      {
        "duration": 9,
        "start_time": "2022-10-18T12:50:47.152Z"
      },
      {
        "duration": 7,
        "start_time": "2022-10-18T12:50:49.545Z"
      },
      {
        "duration": 10,
        "start_time": "2022-10-18T12:50:51.919Z"
      },
      {
        "duration": 43,
        "start_time": "2022-10-18T12:50:54.472Z"
      },
      {
        "duration": 46,
        "start_time": "2022-10-18T12:50:56.453Z"
      },
      {
        "duration": 9,
        "start_time": "2022-10-18T12:50:57.870Z"
      },
      {
        "duration": 11,
        "start_time": "2022-10-18T12:50:59.294Z"
      },
      {
        "duration": 8,
        "start_time": "2022-10-18T12:51:00.736Z"
      },
      {
        "duration": 8,
        "start_time": "2022-10-18T12:51:02.287Z"
      },
      {
        "duration": 5,
        "start_time": "2022-10-18T12:51:03.766Z"
      },
      {
        "duration": 5,
        "start_time": "2022-10-18T12:51:05.842Z"
      },
      {
        "duration": 4,
        "start_time": "2022-10-18T12:51:07.421Z"
      },
      {
        "duration": 14,
        "start_time": "2022-10-18T12:51:09.261Z"
      },
      {
        "duration": 17,
        "start_time": "2022-10-18T12:51:20.391Z"
      },
      {
        "duration": 110,
        "start_time": "2022-10-18T12:51:24.653Z"
      },
      {
        "duration": 115,
        "start_time": "2022-10-18T12:52:14.762Z"
      },
      {
        "duration": 135,
        "start_time": "2022-10-18T12:53:13.554Z"
      },
      {
        "duration": 215,
        "start_time": "2022-10-18T12:53:58.907Z"
      },
      {
        "duration": 14,
        "start_time": "2022-10-18T12:54:20.693Z"
      },
      {
        "duration": 20,
        "start_time": "2022-10-18T12:54:23.977Z"
      },
      {
        "duration": 77,
        "start_time": "2022-10-18T12:54:34.153Z"
      },
      {
        "duration": 103,
        "start_time": "2022-10-18T12:54:35.656Z"
      },
      {
        "duration": 13,
        "start_time": "2022-10-18T12:54:37.540Z"
      },
      {
        "duration": 2171,
        "start_time": "2022-10-18T12:54:39.839Z"
      },
      {
        "duration": 4,
        "start_time": "2022-10-18T12:54:44.557Z"
      },
      {
        "duration": 73,
        "start_time": "2022-10-18T12:54:46.058Z"
      },
      {
        "duration": 9,
        "start_time": "2022-10-18T12:54:50.888Z"
      },
      {
        "duration": 11,
        "start_time": "2022-10-18T12:54:56.132Z"
      },
      {
        "duration": 8,
        "start_time": "2022-10-18T12:54:59.509Z"
      },
      {
        "duration": 8,
        "start_time": "2022-10-18T12:55:01.580Z"
      },
      {
        "duration": 13,
        "start_time": "2022-10-18T12:55:24.535Z"
      },
      {
        "duration": 7,
        "start_time": "2022-10-18T12:55:27.524Z"
      },
      {
        "duration": 11,
        "start_time": "2022-10-18T12:55:30.450Z"
      },
      {
        "duration": 46,
        "start_time": "2022-10-18T12:55:33.264Z"
      },
      {
        "duration": 42,
        "start_time": "2022-10-18T12:55:38.297Z"
      },
      {
        "duration": 9,
        "start_time": "2022-10-18T12:55:40.040Z"
      },
      {
        "duration": 10,
        "start_time": "2022-10-18T12:55:41.857Z"
      },
      {
        "duration": 9,
        "start_time": "2022-10-18T12:55:43.602Z"
      },
      {
        "duration": 8,
        "start_time": "2022-10-18T12:55:45.484Z"
      },
      {
        "duration": 5,
        "start_time": "2022-10-18T12:55:46.923Z"
      },
      {
        "duration": 5,
        "start_time": "2022-10-18T12:55:48.442Z"
      },
      {
        "duration": 4,
        "start_time": "2022-10-18T12:55:50.706Z"
      },
      {
        "duration": 14,
        "start_time": "2022-10-18T12:55:52.105Z"
      },
      {
        "duration": 22,
        "start_time": "2022-10-18T12:55:56.792Z"
      },
      {
        "duration": 156,
        "start_time": "2022-10-18T12:55:59.710Z"
      },
      {
        "duration": 159,
        "start_time": "2022-10-18T12:56:43.355Z"
      },
      {
        "duration": 191,
        "start_time": "2022-10-18T12:58:11.640Z"
      },
      {
        "duration": 279,
        "start_time": "2022-10-18T12:59:28.841Z"
      },
      {
        "duration": 235,
        "start_time": "2022-10-18T13:00:08.559Z"
      },
      {
        "duration": 247,
        "start_time": "2022-10-18T13:01:27.551Z"
      },
      {
        "duration": 239,
        "start_time": "2022-10-18T13:02:46.440Z"
      },
      {
        "duration": 360,
        "start_time": "2022-10-18T13:04:18.791Z"
      },
      {
        "duration": 76,
        "start_time": "2022-10-18T13:05:32.719Z"
      },
      {
        "duration": 104,
        "start_time": "2022-10-18T13:05:33.904Z"
      },
      {
        "duration": 15,
        "start_time": "2022-10-18T13:05:35.219Z"
      },
      {
        "duration": 1973,
        "start_time": "2022-10-18T13:05:36.466Z"
      },
      {
        "duration": 4,
        "start_time": "2022-10-18T13:05:38.441Z"
      },
      {
        "duration": 75,
        "start_time": "2022-10-18T13:05:39.339Z"
      },
      {
        "duration": 9,
        "start_time": "2022-10-18T13:05:41.805Z"
      },
      {
        "duration": 14,
        "start_time": "2022-10-18T13:05:43.222Z"
      },
      {
        "duration": 6,
        "start_time": "2022-10-18T13:05:44.514Z"
      },
      {
        "duration": 11,
        "start_time": "2022-10-18T13:05:45.884Z"
      },
      {
        "duration": 44,
        "start_time": "2022-10-18T13:05:48.740Z"
      },
      {
        "duration": 44,
        "start_time": "2022-10-18T13:05:49.643Z"
      },
      {
        "duration": 9,
        "start_time": "2022-10-18T13:05:50.253Z"
      },
      {
        "duration": 11,
        "start_time": "2022-10-18T13:05:50.789Z"
      },
      {
        "duration": 9,
        "start_time": "2022-10-18T13:05:51.447Z"
      },
      {
        "duration": 8,
        "start_time": "2022-10-18T13:05:52.110Z"
      },
      {
        "duration": 4,
        "start_time": "2022-10-18T13:05:53.189Z"
      },
      {
        "duration": 4,
        "start_time": "2022-10-18T13:05:53.975Z"
      },
      {
        "duration": 5,
        "start_time": "2022-10-18T13:05:54.688Z"
      },
      {
        "duration": 14,
        "start_time": "2022-10-18T13:05:56.169Z"
      },
      {
        "duration": 18,
        "start_time": "2022-10-18T13:05:57.957Z"
      },
      {
        "duration": 297,
        "start_time": "2022-10-18T13:06:05.634Z"
      },
      {
        "duration": 5,
        "start_time": "2022-10-18T13:26:31.148Z"
      },
      {
        "duration": 48,
        "start_time": "2022-10-18T13:26:43.138Z"
      },
      {
        "duration": 4,
        "start_time": "2022-10-18T13:39:11.970Z"
      },
      {
        "duration": 735,
        "start_time": "2022-10-18T15:16:08.116Z"
      },
      {
        "duration": 128,
        "start_time": "2022-10-18T15:16:20.565Z"
      },
      {
        "duration": 18,
        "start_time": "2022-10-18T15:16:25.004Z"
      },
      {
        "duration": 2706,
        "start_time": "2022-10-18T15:16:26.735Z"
      },
      {
        "duration": 5,
        "start_time": "2022-10-18T15:16:30.124Z"
      },
      {
        "duration": 91,
        "start_time": "2022-10-18T15:16:35.269Z"
      },
      {
        "duration": 12,
        "start_time": "2022-10-18T15:16:39.778Z"
      },
      {
        "duration": 20,
        "start_time": "2022-10-18T15:16:41.951Z"
      },
      {
        "duration": 6,
        "start_time": "2022-10-18T15:16:43.923Z"
      },
      {
        "duration": 12,
        "start_time": "2022-10-18T15:16:52.719Z"
      },
      {
        "duration": 64,
        "start_time": "2022-10-18T15:16:56.765Z"
      },
      {
        "duration": 54,
        "start_time": "2022-10-18T15:16:58.275Z"
      },
      {
        "duration": 10,
        "start_time": "2022-10-18T15:16:59.921Z"
      },
      {
        "duration": 12,
        "start_time": "2022-10-18T15:17:01.129Z"
      },
      {
        "duration": 9,
        "start_time": "2022-10-18T15:17:10.115Z"
      },
      {
        "duration": 12,
        "start_time": "2022-10-18T15:17:12.195Z"
      },
      {
        "duration": 6,
        "start_time": "2022-10-18T15:17:15.547Z"
      },
      {
        "duration": 5,
        "start_time": "2022-10-18T15:17:16.982Z"
      },
      {
        "duration": 4,
        "start_time": "2022-10-18T15:17:18.564Z"
      },
      {
        "duration": 16,
        "start_time": "2022-10-18T15:17:22.237Z"
      },
      {
        "duration": 21,
        "start_time": "2022-10-18T15:17:25.352Z"
      },
      {
        "duration": 292,
        "start_time": "2022-10-18T15:17:28.250Z"
      },
      {
        "duration": 80,
        "start_time": "2022-10-18T15:19:33.745Z"
      },
      {
        "duration": 10,
        "start_time": "2022-10-18T15:20:17.847Z"
      },
      {
        "duration": 49,
        "start_time": "2022-10-18T15:23:33.557Z"
      },
      {
        "duration": 1335,
        "start_time": "2022-10-18T15:25:08.936Z"
      },
      {
        "duration": 1437,
        "start_time": "2022-10-18T15:25:16.735Z"
      },
      {
        "duration": 50,
        "start_time": "2022-10-18T15:25:41.163Z"
      },
      {
        "duration": 50,
        "start_time": "2022-10-18T15:26:38.601Z"
      },
      {
        "duration": 13,
        "start_time": "2022-10-18T15:27:02.301Z"
      },
      {
        "duration": 67,
        "start_time": "2022-10-18T15:27:11.362Z"
      },
      {
        "duration": 47,
        "start_time": "2022-10-18T15:27:27.305Z"
      },
      {
        "duration": 13,
        "start_time": "2022-10-18T15:28:54.636Z"
      },
      {
        "duration": 72,
        "start_time": "2022-10-18T15:29:30.783Z"
      },
      {
        "duration": 332,
        "start_time": "2022-10-18T15:37:12.346Z"
      },
      {
        "duration": 471,
        "start_time": "2022-10-18T15:37:19.193Z"
      },
      {
        "duration": 334,
        "start_time": "2022-10-18T15:37:37.203Z"
      },
      {
        "duration": 76,
        "start_time": "2022-10-18T15:46:44.898Z"
      },
      {
        "duration": 87,
        "start_time": "2022-10-18T15:48:02.826Z"
      },
      {
        "duration": 4,
        "start_time": "2022-10-18T15:48:07.969Z"
      },
      {
        "duration": 4,
        "start_time": "2022-10-18T15:48:15.041Z"
      },
      {
        "duration": 3,
        "start_time": "2022-10-18T15:48:20.265Z"
      },
      {
        "duration": 9,
        "start_time": "2022-10-18T15:48:43.050Z"
      },
      {
        "duration": 72,
        "start_time": "2022-10-18T15:54:40.925Z"
      },
      {
        "duration": 73,
        "start_time": "2022-10-18T15:55:34.457Z"
      },
      {
        "duration": 352,
        "start_time": "2022-10-18T15:55:53.241Z"
      },
      {
        "duration": 317,
        "start_time": "2022-10-18T15:56:59.579Z"
      },
      {
        "duration": 71,
        "start_time": "2022-10-18T15:57:01.847Z"
      },
      {
        "duration": 102,
        "start_time": "2022-10-18T16:21:37.046Z"
      },
      {
        "duration": 73,
        "start_time": "2022-10-18T16:23:01.157Z"
      },
      {
        "duration": 80,
        "start_time": "2022-10-18T16:23:18.522Z"
      },
      {
        "duration": 76,
        "start_time": "2022-10-18T16:23:37.662Z"
      },
      {
        "duration": 72,
        "start_time": "2022-10-18T16:24:12.180Z"
      },
      {
        "duration": 393,
        "start_time": "2022-10-18T16:24:33.864Z"
      },
      {
        "duration": 79,
        "start_time": "2022-10-18T16:24:37.837Z"
      },
      {
        "duration": 77,
        "start_time": "2022-10-18T16:24:55.288Z"
      },
      {
        "duration": 76,
        "start_time": "2022-10-18T16:25:06.657Z"
      },
      {
        "duration": 94,
        "start_time": "2022-10-18T16:25:10.318Z"
      },
      {
        "duration": 91,
        "start_time": "2022-10-18T16:27:05.713Z"
      },
      {
        "duration": 80,
        "start_time": "2022-10-18T16:27:46.381Z"
      },
      {
        "duration": 81,
        "start_time": "2022-10-18T16:28:43.953Z"
      },
      {
        "duration": 69,
        "start_time": "2022-10-18T16:28:56.677Z"
      },
      {
        "duration": 96,
        "start_time": "2022-10-18T16:30:12.529Z"
      },
      {
        "duration": 222,
        "start_time": "2022-10-18T16:32:20.941Z"
      },
      {
        "duration": 83,
        "start_time": "2022-10-18T16:33:20.537Z"
      },
      {
        "duration": 102,
        "start_time": "2022-10-18T16:37:20.566Z"
      },
      {
        "duration": 97,
        "start_time": "2022-10-18T16:39:04.653Z"
      },
      {
        "duration": 5,
        "start_time": "2022-10-18T16:54:04.269Z"
      },
      {
        "duration": 41,
        "start_time": "2022-10-18T16:54:11.003Z"
      },
      {
        "duration": 12,
        "start_time": "2022-10-18T16:55:04.616Z"
      },
      {
        "duration": 11,
        "start_time": "2022-10-18T16:55:10.240Z"
      },
      {
        "duration": 10,
        "start_time": "2022-10-18T16:55:22.125Z"
      },
      {
        "duration": 10,
        "start_time": "2022-10-18T16:55:32.577Z"
      },
      {
        "duration": 8,
        "start_time": "2022-10-18T16:55:38.745Z"
      },
      {
        "duration": 834,
        "start_time": "2022-10-18T16:55:47.120Z"
      },
      {
        "duration": 9,
        "start_time": "2022-10-18T16:55:56.174Z"
      },
      {
        "duration": 9,
        "start_time": "2022-10-18T16:56:09.844Z"
      },
      {
        "duration": 4,
        "start_time": "2022-10-18T16:56:34.889Z"
      },
      {
        "duration": 123,
        "start_time": "2022-10-18T18:51:08.805Z"
      },
      {
        "duration": 205,
        "start_time": "2022-10-18T18:51:31.854Z"
      },
      {
        "duration": 251,
        "start_time": "2022-10-18T18:51:46.901Z"
      },
      {
        "duration": 184,
        "start_time": "2022-10-18T18:52:40.444Z"
      },
      {
        "duration": 168,
        "start_time": "2022-10-18T18:53:24.761Z"
      },
      {
        "duration": 177,
        "start_time": "2022-10-18T18:54:28.732Z"
      },
      {
        "duration": 153,
        "start_time": "2022-10-18T18:54:50.360Z"
      },
      {
        "duration": 66,
        "start_time": "2022-10-18T18:55:20.786Z"
      },
      {
        "duration": 158,
        "start_time": "2022-10-18T18:56:38.730Z"
      },
      {
        "duration": 157,
        "start_time": "2022-10-18T18:56:58.729Z"
      },
      {
        "duration": 185,
        "start_time": "2022-10-18T18:57:07.377Z"
      },
      {
        "duration": 171,
        "start_time": "2022-10-18T18:57:32.864Z"
      },
      {
        "duration": 167,
        "start_time": "2022-10-18T18:59:55.040Z"
      },
      {
        "duration": 165,
        "start_time": "2022-10-18T19:00:30.067Z"
      },
      {
        "duration": 190,
        "start_time": "2022-10-18T19:00:35.614Z"
      },
      {
        "duration": 258,
        "start_time": "2022-10-18T19:00:42.127Z"
      },
      {
        "duration": 158,
        "start_time": "2022-10-18T19:00:54.277Z"
      },
      {
        "duration": 215,
        "start_time": "2022-10-18T19:01:26.010Z"
      },
      {
        "duration": 199,
        "start_time": "2022-10-18T19:01:39.316Z"
      },
      {
        "duration": 260,
        "start_time": "2022-10-18T19:03:02.487Z"
      },
      {
        "duration": 260,
        "start_time": "2022-10-18T19:03:17.790Z"
      },
      {
        "duration": 72,
        "start_time": "2022-10-18T19:05:13.313Z"
      },
      {
        "duration": 153,
        "start_time": "2022-10-18T19:05:43.449Z"
      },
      {
        "duration": 166,
        "start_time": "2022-10-18T19:06:56.101Z"
      },
      {
        "duration": 320,
        "start_time": "2022-10-18T19:07:10.104Z"
      },
      {
        "duration": 195,
        "start_time": "2022-10-18T19:07:15.114Z"
      },
      {
        "duration": 185,
        "start_time": "2022-10-18T19:07:32.567Z"
      },
      {
        "duration": 196,
        "start_time": "2022-10-18T19:07:43.263Z"
      },
      {
        "duration": 148,
        "start_time": "2022-10-18T19:07:52.666Z"
      },
      {
        "duration": 175,
        "start_time": "2022-10-18T19:08:27.962Z"
      },
      {
        "duration": 156,
        "start_time": "2022-10-18T19:08:37.081Z"
      },
      {
        "duration": 160,
        "start_time": "2022-10-18T19:12:33.849Z"
      },
      {
        "duration": 167,
        "start_time": "2022-10-18T19:12:54.735Z"
      },
      {
        "duration": 273,
        "start_time": "2022-10-18T19:13:11.835Z"
      },
      {
        "duration": 266,
        "start_time": "2022-10-18T19:13:41.915Z"
      },
      {
        "duration": 211,
        "start_time": "2022-10-18T19:13:58.559Z"
      },
      {
        "duration": 164,
        "start_time": "2022-10-18T19:14:37.602Z"
      },
      {
        "duration": 332,
        "start_time": "2022-10-18T19:17:15.842Z"
      },
      {
        "duration": 213,
        "start_time": "2022-10-18T19:17:32.429Z"
      },
      {
        "duration": 196,
        "start_time": "2022-10-18T19:17:43.913Z"
      },
      {
        "duration": 178,
        "start_time": "2022-10-18T19:17:52.592Z"
      },
      {
        "duration": 169,
        "start_time": "2022-10-18T19:18:00.964Z"
      },
      {
        "duration": 156,
        "start_time": "2022-10-18T19:18:10.114Z"
      },
      {
        "duration": 179,
        "start_time": "2022-10-18T19:18:28.284Z"
      },
      {
        "duration": 204,
        "start_time": "2022-10-18T19:19:19.988Z"
      },
      {
        "duration": 170,
        "start_time": "2022-10-18T19:19:49.720Z"
      },
      {
        "duration": 201,
        "start_time": "2022-10-18T19:20:08.737Z"
      },
      {
        "duration": 176,
        "start_time": "2022-10-18T19:20:19.407Z"
      },
      {
        "duration": 178,
        "start_time": "2022-10-18T19:20:24.255Z"
      },
      {
        "duration": 180,
        "start_time": "2022-10-18T19:20:36.529Z"
      },
      {
        "duration": 223,
        "start_time": "2022-10-18T19:20:41.803Z"
      },
      {
        "duration": 156,
        "start_time": "2022-10-18T19:23:13.896Z"
      },
      {
        "duration": 186,
        "start_time": "2022-10-18T19:23:23.796Z"
      },
      {
        "duration": 194,
        "start_time": "2022-10-18T19:23:30.166Z"
      },
      {
        "duration": 329,
        "start_time": "2022-10-18T19:26:48.971Z"
      },
      {
        "duration": 159,
        "start_time": "2022-10-18T19:27:40.229Z"
      },
      {
        "duration": 158,
        "start_time": "2022-10-18T19:32:00.028Z"
      },
      {
        "duration": 130,
        "start_time": "2022-10-18T19:32:18.029Z"
      },
      {
        "duration": 127,
        "start_time": "2022-10-18T19:32:31.255Z"
      },
      {
        "duration": 117,
        "start_time": "2022-10-18T19:32:42.428Z"
      },
      {
        "duration": 171,
        "start_time": "2022-10-18T19:33:21.680Z"
      },
      {
        "duration": 130,
        "start_time": "2022-10-18T19:33:24.645Z"
      },
      {
        "duration": 69,
        "start_time": "2022-10-18T19:34:07.779Z"
      },
      {
        "duration": 163,
        "start_time": "2022-10-18T19:36:55.062Z"
      },
      {
        "duration": 162,
        "start_time": "2022-10-18T19:43:19.778Z"
      },
      {
        "duration": 457,
        "start_time": "2022-10-18T19:43:39.848Z"
      },
      {
        "duration": 209,
        "start_time": "2022-10-18T19:43:52.596Z"
      },
      {
        "duration": 183,
        "start_time": "2022-10-18T19:44:03.031Z"
      },
      {
        "duration": 213,
        "start_time": "2022-10-18T19:44:19.221Z"
      },
      {
        "duration": 185,
        "start_time": "2022-10-18T19:44:27.009Z"
      },
      {
        "duration": 218,
        "start_time": "2022-10-18T19:44:34.671Z"
      },
      {
        "duration": 180,
        "start_time": "2022-10-18T19:44:39.854Z"
      },
      {
        "duration": 401,
        "start_time": "2022-10-18T19:44:44.908Z"
      },
      {
        "duration": 226,
        "start_time": "2022-10-18T19:44:51.929Z"
      },
      {
        "duration": 192,
        "start_time": "2022-10-18T19:44:58.305Z"
      },
      {
        "duration": 201,
        "start_time": "2022-10-18T19:45:04.557Z"
      },
      {
        "duration": 187,
        "start_time": "2022-10-18T19:45:11.291Z"
      },
      {
        "duration": 232,
        "start_time": "2022-10-18T19:45:18.087Z"
      },
      {
        "duration": 206,
        "start_time": "2022-10-18T19:45:22.565Z"
      },
      {
        "duration": 196,
        "start_time": "2022-10-18T19:45:28.311Z"
      },
      {
        "duration": 220,
        "start_time": "2022-10-18T19:45:50.754Z"
      },
      {
        "duration": 91,
        "start_time": "2022-10-18T19:48:32.671Z"
      },
      {
        "duration": 70,
        "start_time": "2022-10-18T19:49:20.743Z"
      },
      {
        "duration": 221,
        "start_time": "2022-10-18T19:49:53.991Z"
      },
      {
        "duration": 226,
        "start_time": "2022-10-18T19:50:02.865Z"
      },
      {
        "duration": 223,
        "start_time": "2022-10-18T19:52:14.791Z"
      },
      {
        "duration": 202,
        "start_time": "2022-10-18T19:52:25.212Z"
      },
      {
        "duration": 265,
        "start_time": "2022-10-18T19:52:34.414Z"
      },
      {
        "duration": 205,
        "start_time": "2022-10-18T19:52:38.750Z"
      },
      {
        "duration": 208,
        "start_time": "2022-10-18T19:52:47.964Z"
      },
      {
        "duration": 69,
        "start_time": "2022-10-18T19:54:39.398Z"
      },
      {
        "duration": 490,
        "start_time": "2022-10-18T19:58:20.972Z"
      },
      {
        "duration": 183,
        "start_time": "2022-10-18T20:13:25.767Z"
      },
      {
        "duration": 204,
        "start_time": "2022-10-18T20:13:45.014Z"
      },
      {
        "duration": 177,
        "start_time": "2022-10-18T20:13:55.987Z"
      },
      {
        "duration": 182,
        "start_time": "2022-10-18T20:14:17.914Z"
      },
      {
        "duration": 153,
        "start_time": "2022-10-18T20:14:27.668Z"
      },
      {
        "duration": 155,
        "start_time": "2022-10-18T20:14:42.267Z"
      },
      {
        "duration": 132,
        "start_time": "2022-10-18T20:15:04.129Z"
      },
      {
        "duration": 209,
        "start_time": "2022-10-18T20:15:12.297Z"
      },
      {
        "duration": 132,
        "start_time": "2022-10-18T20:15:18.220Z"
      },
      {
        "duration": 170,
        "start_time": "2022-10-18T20:15:38.099Z"
      },
      {
        "duration": 14,
        "start_time": "2022-10-18T20:16:33.245Z"
      },
      {
        "duration": 53,
        "start_time": "2022-10-18T20:17:09.306Z"
      },
      {
        "duration": 12,
        "start_time": "2022-10-18T20:17:31.306Z"
      },
      {
        "duration": 150,
        "start_time": "2022-10-18T20:18:27.419Z"
      },
      {
        "duration": 175,
        "start_time": "2022-10-18T20:20:10.536Z"
      },
      {
        "duration": 130,
        "start_time": "2022-10-18T20:20:21.441Z"
      },
      {
        "duration": 150,
        "start_time": "2022-10-18T20:20:29.406Z"
      },
      {
        "duration": 142,
        "start_time": "2022-10-18T20:20:37.705Z"
      },
      {
        "duration": 151,
        "start_time": "2022-10-18T20:20:58.642Z"
      },
      {
        "duration": 169,
        "start_time": "2022-10-18T20:21:09.337Z"
      },
      {
        "duration": 163,
        "start_time": "2022-10-18T20:21:20.905Z"
      },
      {
        "duration": 162,
        "start_time": "2022-10-18T20:22:02.351Z"
      },
      {
        "duration": 177,
        "start_time": "2022-10-18T20:22:37.325Z"
      },
      {
        "duration": 158,
        "start_time": "2022-10-18T20:22:59.067Z"
      },
      {
        "duration": 155,
        "start_time": "2022-10-18T20:23:04.721Z"
      },
      {
        "duration": 139,
        "start_time": "2022-10-18T20:23:16.746Z"
      },
      {
        "duration": 42,
        "start_time": "2022-10-23T13:33:31.638Z"
      },
      {
        "duration": 724,
        "start_time": "2022-10-23T13:33:44.853Z"
      },
      {
        "duration": 104,
        "start_time": "2022-10-23T13:33:48.542Z"
      },
      {
        "duration": 13,
        "start_time": "2022-10-23T13:33:50.651Z"
      },
      {
        "duration": 2128,
        "start_time": "2022-10-23T13:33:52.803Z"
      },
      {
        "duration": 3,
        "start_time": "2022-10-23T13:33:56.173Z"
      },
      {
        "duration": 94,
        "start_time": "2022-10-23T13:33:57.960Z"
      },
      {
        "duration": 10,
        "start_time": "2022-10-23T13:34:06.795Z"
      },
      {
        "duration": 16,
        "start_time": "2022-10-23T13:34:11.271Z"
      },
      {
        "duration": 6,
        "start_time": "2022-10-23T13:34:13.939Z"
      },
      {
        "duration": 8,
        "start_time": "2022-10-23T13:34:15.910Z"
      },
      {
        "duration": 9,
        "start_time": "2022-10-23T13:34:20.547Z"
      },
      {
        "duration": 40,
        "start_time": "2022-10-23T13:34:23.584Z"
      },
      {
        "duration": 40,
        "start_time": "2022-10-23T13:34:25.403Z"
      },
      {
        "duration": 11,
        "start_time": "2022-10-23T13:34:27.125Z"
      },
      {
        "duration": 9,
        "start_time": "2022-10-23T13:34:28.892Z"
      },
      {
        "duration": 8,
        "start_time": "2022-10-23T13:34:30.498Z"
      },
      {
        "duration": 8,
        "start_time": "2022-10-23T13:34:32.016Z"
      },
      {
        "duration": 7,
        "start_time": "2022-10-23T13:34:33.878Z"
      },
      {
        "duration": 4,
        "start_time": "2022-10-23T13:34:35.580Z"
      },
      {
        "duration": 5,
        "start_time": "2022-10-23T13:34:37.435Z"
      },
      {
        "duration": 15,
        "start_time": "2022-10-23T13:34:39.118Z"
      },
      {
        "duration": 15,
        "start_time": "2022-10-23T13:34:42.170Z"
      },
      {
        "duration": 255,
        "start_time": "2022-10-23T13:34:44.220Z"
      },
      {
        "duration": 4,
        "start_time": "2022-10-23T13:34:48.977Z"
      },
      {
        "duration": 12,
        "start_time": "2022-10-23T13:34:50.935Z"
      },
      {
        "duration": 304,
        "start_time": "2022-10-23T13:34:53.865Z"
      },
      {
        "duration": 5,
        "start_time": "2022-10-23T13:34:55.784Z"
      },
      {
        "duration": 4,
        "start_time": "2022-10-23T13:34:59.918Z"
      },
      {
        "duration": 6,
        "start_time": "2022-10-23T13:35:16.885Z"
      },
      {
        "duration": 174,
        "start_time": "2022-10-23T13:35:23.016Z"
      },
      {
        "duration": 174,
        "start_time": "2022-10-23T13:35:25.896Z"
      },
      {
        "duration": 197,
        "start_time": "2022-10-23T13:35:29.054Z"
      },
      {
        "duration": 147,
        "start_time": "2022-10-23T13:35:32.027Z"
      },
      {
        "duration": 154,
        "start_time": "2022-10-23T13:35:35.071Z"
      },
      {
        "duration": 172,
        "start_time": "2022-10-23T13:35:38.117Z"
      },
      {
        "duration": 129,
        "start_time": "2022-10-23T13:35:41.948Z"
      },
      {
        "duration": 115,
        "start_time": "2022-10-23T13:35:45.393Z"
      },
      {
        "duration": 135,
        "start_time": "2022-10-23T13:35:53.718Z"
      },
      {
        "duration": 146,
        "start_time": "2022-10-23T13:36:36.505Z"
      },
      {
        "duration": 181,
        "start_time": "2022-10-23T13:36:49.222Z"
      },
      {
        "duration": 171,
        "start_time": "2022-10-23T13:37:01.876Z"
      },
      {
        "duration": 187,
        "start_time": "2022-10-23T13:37:18.686Z"
      },
      {
        "duration": 357,
        "start_time": "2022-10-23T13:37:22.161Z"
      },
      {
        "duration": 184,
        "start_time": "2022-10-23T13:37:25.276Z"
      },
      {
        "duration": 138,
        "start_time": "2022-10-23T13:37:28.363Z"
      },
      {
        "duration": 153,
        "start_time": "2022-10-23T13:37:30.590Z"
      },
      {
        "duration": 120,
        "start_time": "2022-10-23T13:37:35.050Z"
      },
      {
        "duration": 121,
        "start_time": "2022-10-23T13:37:50.153Z"
      },
      {
        "duration": 131,
        "start_time": "2022-10-23T13:38:05.698Z"
      },
      {
        "duration": 178,
        "start_time": "2022-10-23T13:38:18.841Z"
      },
      {
        "duration": 200,
        "start_time": "2022-10-23T13:38:33.733Z"
      },
      {
        "duration": 196,
        "start_time": "2022-10-23T13:38:44.516Z"
      },
      {
        "duration": 325,
        "start_time": "2022-10-23T13:38:52.698Z"
      },
      {
        "duration": 46,
        "start_time": "2022-10-23T13:39:48.918Z"
      },
      {
        "duration": 120,
        "start_time": "2022-10-23T13:50:11.772Z"
      },
      {
        "duration": 8,
        "start_time": "2022-10-23T13:52:08.974Z"
      },
      {
        "duration": 7,
        "start_time": "2022-10-23T13:52:11.476Z"
      },
      {
        "duration": 8,
        "start_time": "2022-10-23T13:52:20.503Z"
      },
      {
        "duration": 8,
        "start_time": "2022-10-23T13:52:22.222Z"
      },
      {
        "duration": 596,
        "start_time": "2022-10-23T13:52:52.050Z"
      },
      {
        "duration": 38,
        "start_time": "2022-10-23T13:53:32.132Z"
      },
      {
        "duration": 100,
        "start_time": "2022-10-23T13:53:49.521Z"
      },
      {
        "duration": 119,
        "start_time": "2022-10-23T13:56:25.790Z"
      },
      {
        "duration": 153,
        "start_time": "2022-10-23T13:57:18.668Z"
      },
      {
        "duration": 107,
        "start_time": "2022-10-23T13:57:48.243Z"
      },
      {
        "duration": 132,
        "start_time": "2022-10-23T13:58:00.797Z"
      },
      {
        "duration": 107,
        "start_time": "2022-10-23T14:00:06.740Z"
      },
      {
        "duration": 175,
        "start_time": "2022-10-23T14:00:51.024Z"
      },
      {
        "duration": 149,
        "start_time": "2022-10-23T14:01:05.758Z"
      },
      {
        "duration": 12,
        "start_time": "2022-10-23T14:01:28.784Z"
      },
      {
        "duration": 100,
        "start_time": "2022-10-23T14:01:41.918Z"
      },
      {
        "duration": 258,
        "start_time": "2022-10-23T14:01:57.920Z"
      },
      {
        "duration": 103,
        "start_time": "2022-10-23T14:05:22.136Z"
      },
      {
        "duration": 112,
        "start_time": "2022-10-23T14:05:32.835Z"
      },
      {
        "duration": 98,
        "start_time": "2022-10-23T14:05:52.954Z"
      },
      {
        "duration": 177,
        "start_time": "2022-10-23T14:09:54.267Z"
      },
      {
        "duration": 648,
        "start_time": "2022-10-23T14:10:16.330Z"
      },
      {
        "duration": 723,
        "start_time": "2022-10-23T14:10:36.424Z"
      },
      {
        "duration": 716,
        "start_time": "2022-10-23T14:11:37.935Z"
      },
      {
        "duration": 818,
        "start_time": "2022-10-23T14:12:08.325Z"
      },
      {
        "duration": 119,
        "start_time": "2022-10-23T14:13:31.212Z"
      },
      {
        "duration": 127,
        "start_time": "2022-10-23T14:14:08.573Z"
      },
      {
        "duration": 104,
        "start_time": "2022-10-23T14:14:16.144Z"
      },
      {
        "duration": 122,
        "start_time": "2022-10-23T14:14:43.070Z"
      },
      {
        "duration": 124,
        "start_time": "2022-10-23T14:14:51.046Z"
      },
      {
        "duration": 110,
        "start_time": "2022-10-23T14:15:03.336Z"
      },
      {
        "duration": 112,
        "start_time": "2022-10-23T14:15:06.261Z"
      },
      {
        "duration": 169,
        "start_time": "2022-10-23T14:15:20.757Z"
      },
      {
        "duration": 117,
        "start_time": "2022-10-23T14:15:35.038Z"
      },
      {
        "duration": 122,
        "start_time": "2022-10-23T14:15:52.530Z"
      },
      {
        "duration": 111,
        "start_time": "2022-10-23T14:15:57.051Z"
      },
      {
        "duration": 120,
        "start_time": "2022-10-23T14:16:43.300Z"
      },
      {
        "duration": 96,
        "start_time": "2022-10-23T14:16:54.242Z"
      },
      {
        "duration": 164,
        "start_time": "2022-10-23T14:18:04.556Z"
      },
      {
        "duration": 132,
        "start_time": "2022-10-23T14:18:10.451Z"
      },
      {
        "duration": 95,
        "start_time": "2022-10-23T14:18:41.113Z"
      },
      {
        "duration": 137,
        "start_time": "2022-10-23T14:19:33.008Z"
      },
      {
        "duration": 160,
        "start_time": "2022-10-23T14:19:54.308Z"
      },
      {
        "duration": 127,
        "start_time": "2022-10-23T14:20:47.152Z"
      },
      {
        "duration": 110,
        "start_time": "2022-10-23T14:21:01.540Z"
      },
      {
        "duration": 121,
        "start_time": "2022-10-23T15:57:46.195Z"
      },
      {
        "duration": 116,
        "start_time": "2022-10-23T15:58:16.805Z"
      },
      {
        "duration": 132,
        "start_time": "2022-10-23T15:59:49.032Z"
      },
      {
        "duration": 118,
        "start_time": "2022-10-23T16:00:48.037Z"
      },
      {
        "duration": 11,
        "start_time": "2022-10-23T16:03:50.825Z"
      },
      {
        "duration": 8,
        "start_time": "2022-10-23T16:04:08.306Z"
      },
      {
        "duration": 81,
        "start_time": "2022-10-23T16:08:52.711Z"
      },
      {
        "duration": 104,
        "start_time": "2022-10-23T16:08:54.541Z"
      },
      {
        "duration": 15,
        "start_time": "2022-10-23T16:08:56.305Z"
      },
      {
        "duration": 1886,
        "start_time": "2022-10-23T16:08:58.119Z"
      },
      {
        "duration": 4,
        "start_time": "2022-10-23T16:09:00.006Z"
      },
      {
        "duration": 79,
        "start_time": "2022-10-23T16:09:00.011Z"
      },
      {
        "duration": 8,
        "start_time": "2022-10-23T16:09:02.677Z"
      },
      {
        "duration": 14,
        "start_time": "2022-10-23T16:09:04.494Z"
      },
      {
        "duration": 6,
        "start_time": "2022-10-23T16:09:06.406Z"
      },
      {
        "duration": 10,
        "start_time": "2022-10-23T16:09:08.155Z"
      },
      {
        "duration": 41,
        "start_time": "2022-10-23T16:09:10.923Z"
      },
      {
        "duration": 43,
        "start_time": "2022-10-23T16:09:12.932Z"
      },
      {
        "duration": 12,
        "start_time": "2022-10-23T16:09:14.657Z"
      },
      {
        "duration": 10,
        "start_time": "2022-10-23T16:09:16.244Z"
      },
      {
        "duration": 9,
        "start_time": "2022-10-23T16:09:17.817Z"
      },
      {
        "duration": 12,
        "start_time": "2022-10-23T16:09:19.426Z"
      },
      {
        "duration": 5,
        "start_time": "2022-10-23T16:09:21.536Z"
      },
      {
        "duration": 5,
        "start_time": "2022-10-23T16:09:24.106Z"
      },
      {
        "duration": 5,
        "start_time": "2022-10-23T16:09:25.708Z"
      },
      {
        "duration": 19,
        "start_time": "2022-10-23T16:09:27.295Z"
      },
      {
        "duration": 26,
        "start_time": "2022-10-23T16:09:29.585Z"
      },
      {
        "duration": 242,
        "start_time": "2022-10-23T16:09:31.361Z"
      },
      {
        "duration": 6,
        "start_time": "2022-10-23T16:09:35.267Z"
      },
      {
        "duration": 16,
        "start_time": "2022-10-23T16:09:38.973Z"
      },
      {
        "duration": 313,
        "start_time": "2022-10-23T16:09:41.509Z"
      },
      {
        "duration": 6,
        "start_time": "2022-10-23T16:09:43.607Z"
      },
      {
        "duration": 191,
        "start_time": "2022-10-23T16:09:47.519Z"
      },
      {
        "duration": 182,
        "start_time": "2022-10-23T16:09:50.478Z"
      },
      {
        "duration": 195,
        "start_time": "2022-10-23T16:09:53.671Z"
      },
      {
        "duration": 165,
        "start_time": "2022-10-23T16:09:56.812Z"
      },
      {
        "duration": 180,
        "start_time": "2022-10-23T16:09:59.830Z"
      },
      {
        "duration": 170,
        "start_time": "2022-10-23T16:10:02.708Z"
      },
      {
        "duration": 158,
        "start_time": "2022-10-23T16:10:05.486Z"
      },
      {
        "duration": 105,
        "start_time": "2022-10-23T16:10:10.980Z"
      },
      {
        "duration": 161,
        "start_time": "2022-10-23T16:10:15.020Z"
      },
      {
        "duration": 193,
        "start_time": "2022-10-23T16:10:18.253Z"
      },
      {
        "duration": 193,
        "start_time": "2022-10-23T16:10:21.376Z"
      },
      {
        "duration": 192,
        "start_time": "2022-10-23T16:10:25.038Z"
      },
      {
        "duration": 361,
        "start_time": "2022-10-23T16:10:28.221Z"
      },
      {
        "duration": 161,
        "start_time": "2022-10-23T16:10:35.076Z"
      },
      {
        "duration": 117,
        "start_time": "2022-10-23T16:10:39.394Z"
      },
      {
        "duration": 10,
        "start_time": "2022-10-23T16:10:42.397Z"
      },
      {
        "duration": 211,
        "start_time": "2022-10-23T16:31:47.564Z"
      },
      {
        "duration": 206,
        "start_time": "2022-10-23T16:32:49.511Z"
      },
      {
        "duration": 174,
        "start_time": "2022-10-23T16:32:59.456Z"
      },
      {
        "duration": 164,
        "start_time": "2022-10-23T16:34:40.133Z"
      },
      {
        "duration": 73,
        "start_time": "2022-10-23T16:35:01.480Z"
      },
      {
        "duration": 172,
        "start_time": "2022-10-23T16:35:08.077Z"
      },
      {
        "duration": 161,
        "start_time": "2022-10-23T16:35:15.607Z"
      },
      {
        "duration": 164,
        "start_time": "2022-10-23T16:35:33.204Z"
      },
      {
        "duration": 33,
        "start_time": "2022-10-23T16:36:55.204Z"
      },
      {
        "duration": 215,
        "start_time": "2022-10-23T16:37:02.375Z"
      },
      {
        "duration": 198,
        "start_time": "2022-10-23T16:37:15.585Z"
      },
      {
        "duration": 160,
        "start_time": "2022-10-23T16:37:51.621Z"
      },
      {
        "duration": 178,
        "start_time": "2022-10-23T16:37:58.037Z"
      },
      {
        "duration": 5,
        "start_time": "2022-10-23T17:16:44.508Z"
      },
      {
        "duration": 194,
        "start_time": "2022-10-23T17:22:54.148Z"
      },
      {
        "duration": 5,
        "start_time": "2022-10-23T17:23:44.896Z"
      },
      {
        "duration": 172,
        "start_time": "2022-10-23T17:28:03.845Z"
      },
      {
        "duration": 5,
        "start_time": "2022-10-23T17:28:35.347Z"
      },
      {
        "duration": 163,
        "start_time": "2022-10-23T17:35:13.277Z"
      },
      {
        "duration": 177,
        "start_time": "2022-10-23T17:35:39.362Z"
      },
      {
        "duration": 152,
        "start_time": "2022-10-23T17:35:51.120Z"
      },
      {
        "duration": 160,
        "start_time": "2022-10-23T17:35:56.723Z"
      },
      {
        "duration": 186,
        "start_time": "2022-10-23T17:36:21.594Z"
      },
      {
        "duration": 171,
        "start_time": "2022-10-23T17:36:50.014Z"
      },
      {
        "duration": 224,
        "start_time": "2022-10-23T17:38:39.836Z"
      },
      {
        "duration": 162,
        "start_time": "2022-10-23T17:40:23.669Z"
      },
      {
        "duration": 167,
        "start_time": "2022-10-23T17:44:20.283Z"
      },
      {
        "duration": 168,
        "start_time": "2022-10-23T17:50:04.030Z"
      },
      {
        "duration": 173,
        "start_time": "2022-10-23T17:50:33.605Z"
      },
      {
        "duration": 148,
        "start_time": "2022-10-23T17:52:16.523Z"
      },
      {
        "duration": 149,
        "start_time": "2022-10-23T17:52:56.799Z"
      },
      {
        "duration": 166,
        "start_time": "2022-10-23T17:54:28.199Z"
      },
      {
        "duration": 20,
        "start_time": "2022-10-23T17:55:38.668Z"
      },
      {
        "duration": 18,
        "start_time": "2022-10-23T17:55:59.299Z"
      },
      {
        "duration": 482,
        "start_time": "2022-10-23T17:56:36.603Z"
      },
      {
        "duration": 151,
        "start_time": "2022-10-23T17:57:04.030Z"
      },
      {
        "duration": 151,
        "start_time": "2022-10-23T17:58:10.328Z"
      },
      {
        "duration": 488,
        "start_time": "2022-10-23T18:07:58.011Z"
      },
      {
        "duration": 770,
        "start_time": "2022-10-23T18:08:09.637Z"
      },
      {
        "duration": 148,
        "start_time": "2022-10-23T18:08:55.082Z"
      },
      {
        "duration": 574,
        "start_time": "2022-10-23T18:09:05.138Z"
      },
      {
        "duration": 161,
        "start_time": "2022-10-23T18:09:42.684Z"
      },
      {
        "duration": 151,
        "start_time": "2022-10-23T18:09:49.169Z"
      },
      {
        "duration": 168,
        "start_time": "2022-10-23T18:10:39.450Z"
      },
      {
        "duration": 188,
        "start_time": "2022-10-23T18:16:23.944Z"
      },
      {
        "duration": 167,
        "start_time": "2022-10-23T18:16:39.163Z"
      },
      {
        "duration": 175,
        "start_time": "2022-10-23T18:17:05.992Z"
      },
      {
        "duration": 188,
        "start_time": "2022-10-23T18:17:18.092Z"
      },
      {
        "duration": 208,
        "start_time": "2022-10-23T18:17:39.157Z"
      },
      {
        "duration": 167,
        "start_time": "2022-10-23T18:17:58.709Z"
      },
      {
        "duration": 72,
        "start_time": "2022-10-23T18:20:33.457Z"
      },
      {
        "duration": 175,
        "start_time": "2022-10-23T18:20:45.132Z"
      },
      {
        "duration": 19,
        "start_time": "2022-10-23T18:23:30.488Z"
      },
      {
        "duration": 173,
        "start_time": "2022-10-23T18:23:37.729Z"
      },
      {
        "duration": 149,
        "start_time": "2022-10-23T18:25:07.977Z"
      },
      {
        "duration": 119,
        "start_time": "2022-10-23T18:26:24.438Z"
      },
      {
        "duration": 436,
        "start_time": "2022-10-23T18:27:29.439Z"
      },
      {
        "duration": 122,
        "start_time": "2022-10-23T18:27:44.436Z"
      },
      {
        "duration": 165,
        "start_time": "2022-10-23T18:30:31.667Z"
      },
      {
        "duration": 305,
        "start_time": "2022-10-23T18:31:16.504Z"
      },
      {
        "duration": 119,
        "start_time": "2022-10-23T18:32:19.595Z"
      },
      {
        "duration": 114,
        "start_time": "2022-10-23T18:35:44.254Z"
      },
      {
        "duration": 125,
        "start_time": "2022-10-23T18:35:54.235Z"
      },
      {
        "duration": 345,
        "start_time": "2022-10-23T18:36:37.584Z"
      },
      {
        "duration": 133,
        "start_time": "2022-10-23T18:37:38.401Z"
      },
      {
        "duration": 235,
        "start_time": "2022-10-23T18:42:02.346Z"
      },
      {
        "duration": 158,
        "start_time": "2022-10-23T18:42:27.315Z"
      },
      {
        "duration": 42,
        "start_time": "2022-10-23T18:44:51.274Z"
      },
      {
        "duration": 10,
        "start_time": "2022-10-23T18:46:01.188Z"
      },
      {
        "duration": 9,
        "start_time": "2022-10-23T18:46:09.538Z"
      },
      {
        "duration": 140,
        "start_time": "2022-10-23T18:46:20.535Z"
      },
      {
        "duration": 27,
        "start_time": "2022-10-23T19:13:53.414Z"
      },
      {
        "duration": 26,
        "start_time": "2022-10-23T19:18:07.825Z"
      },
      {
        "duration": 74,
        "start_time": "2022-10-23T19:18:43.596Z"
      },
      {
        "duration": 105,
        "start_time": "2022-10-23T19:20:14.162Z"
      },
      {
        "duration": 22,
        "start_time": "2022-10-23T19:20:34.144Z"
      },
      {
        "duration": 29,
        "start_time": "2022-10-23T19:20:58.247Z"
      },
      {
        "duration": 30,
        "start_time": "2022-10-23T19:21:03.790Z"
      },
      {
        "duration": 29,
        "start_time": "2022-10-23T19:21:32.893Z"
      },
      {
        "duration": 10,
        "start_time": "2022-10-23T19:29:01.845Z"
      },
      {
        "duration": 4,
        "start_time": "2022-10-23T19:29:29.991Z"
      },
      {
        "duration": 11,
        "start_time": "2022-10-23T19:29:57.175Z"
      },
      {
        "duration": 13,
        "start_time": "2022-10-23T19:30:05.317Z"
      },
      {
        "duration": 5,
        "start_time": "2022-10-23T19:30:12.140Z"
      },
      {
        "duration": 6,
        "start_time": "2022-10-23T19:30:35.036Z"
      },
      {
        "duration": 82,
        "start_time": "2022-10-23T19:33:13.357Z"
      },
      {
        "duration": 17,
        "start_time": "2022-10-23T19:35:19.334Z"
      },
      {
        "duration": 32,
        "start_time": "2022-10-23T19:35:32.765Z"
      },
      {
        "duration": 11,
        "start_time": "2022-10-23T19:35:58.257Z"
      },
      {
        "duration": 20,
        "start_time": "2022-10-23T19:36:27.330Z"
      },
      {
        "duration": 19,
        "start_time": "2022-10-23T19:37:16.056Z"
      },
      {
        "duration": 23,
        "start_time": "2022-10-23T19:37:30.849Z"
      },
      {
        "duration": 22,
        "start_time": "2022-10-23T19:38:20.697Z"
      },
      {
        "duration": 10,
        "start_time": "2022-10-23T19:39:04.397Z"
      },
      {
        "duration": 25,
        "start_time": "2022-10-23T19:40:14.006Z"
      },
      {
        "duration": 1506,
        "start_time": "2022-10-23T19:43:27.139Z"
      },
      {
        "duration": 100,
        "start_time": "2022-10-23T19:44:25.002Z"
      },
      {
        "duration": 28,
        "start_time": "2022-10-23T19:46:19.927Z"
      },
      {
        "duration": 9,
        "start_time": "2022-10-23T19:49:22.057Z"
      },
      {
        "duration": 9,
        "start_time": "2022-10-23T19:49:28.973Z"
      },
      {
        "duration": 30,
        "start_time": "2022-10-23T19:49:40.161Z"
      },
      {
        "duration": 10,
        "start_time": "2022-10-23T19:49:42.247Z"
      },
      {
        "duration": 5,
        "start_time": "2022-10-23T19:50:01.490Z"
      },
      {
        "duration": 1331,
        "start_time": "2022-10-23T19:51:17.327Z"
      },
      {
        "duration": 1249,
        "start_time": "2022-10-23T19:53:10.395Z"
      },
      {
        "duration": 1288,
        "start_time": "2022-10-23T19:54:36.836Z"
      },
      {
        "duration": 10,
        "start_time": "2022-10-23T19:58:11.860Z"
      },
      {
        "duration": 13,
        "start_time": "2022-10-23T19:59:32.593Z"
      },
      {
        "duration": 11,
        "start_time": "2022-10-23T19:59:48.133Z"
      },
      {
        "duration": 8,
        "start_time": "2022-10-23T20:01:16.241Z"
      },
      {
        "duration": 8,
        "start_time": "2022-10-23T20:05:07.138Z"
      },
      {
        "duration": 13,
        "start_time": "2022-10-23T20:06:07.330Z"
      },
      {
        "duration": 12,
        "start_time": "2022-10-23T20:06:20.491Z"
      },
      {
        "duration": 46,
        "start_time": "2022-10-23T20:12:58.424Z"
      },
      {
        "duration": 43,
        "start_time": "2022-10-23T20:20:41.117Z"
      },
      {
        "duration": 35,
        "start_time": "2022-10-23T20:21:07.254Z"
      },
      {
        "duration": 40,
        "start_time": "2022-10-23T20:23:56.589Z"
      },
      {
        "duration": 44,
        "start_time": "2022-10-23T20:24:52.373Z"
      },
      {
        "duration": 8,
        "start_time": "2022-10-23T20:25:47.491Z"
      },
      {
        "duration": 7,
        "start_time": "2022-10-23T20:25:49.538Z"
      },
      {
        "duration": 33,
        "start_time": "2022-10-23T20:25:53.429Z"
      },
      {
        "duration": 15,
        "start_time": "2022-10-23T20:26:15.677Z"
      },
      {
        "duration": 40,
        "start_time": "2022-10-23T20:26:43.200Z"
      },
      {
        "duration": 24,
        "start_time": "2022-10-23T20:29:01.335Z"
      },
      {
        "duration": 162,
        "start_time": "2022-10-23T20:30:18.139Z"
      },
      {
        "duration": 188,
        "start_time": "2022-10-23T20:30:51.965Z"
      },
      {
        "duration": 25,
        "start_time": "2022-10-23T20:32:19.143Z"
      },
      {
        "duration": 29,
        "start_time": "2022-10-23T20:32:45.997Z"
      },
      {
        "duration": 243,
        "start_time": "2022-10-23T20:33:30.987Z"
      },
      {
        "duration": 193,
        "start_time": "2022-10-23T20:34:01.983Z"
      },
      {
        "duration": 161,
        "start_time": "2022-10-23T20:34:25.034Z"
      },
      {
        "duration": 172,
        "start_time": "2022-10-23T20:34:29.427Z"
      },
      {
        "duration": 193,
        "start_time": "2022-10-23T20:35:25.140Z"
      },
      {
        "duration": 548,
        "start_time": "2022-10-23T20:36:03.635Z"
      },
      {
        "duration": 160,
        "start_time": "2022-10-23T20:37:16.330Z"
      },
      {
        "duration": 490,
        "start_time": "2022-10-23T21:23:00.934Z"
      },
      {
        "duration": 89,
        "start_time": "2022-10-23T21:23:01.427Z"
      },
      {
        "duration": 15,
        "start_time": "2022-10-23T21:23:01.518Z"
      },
      {
        "duration": 2045,
        "start_time": "2022-10-23T21:23:01.535Z"
      },
      {
        "duration": 5,
        "start_time": "2022-10-23T21:23:03.582Z"
      },
      {
        "duration": 90,
        "start_time": "2022-10-23T21:23:03.588Z"
      },
      {
        "duration": 9,
        "start_time": "2022-10-23T21:23:03.680Z"
      },
      {
        "duration": 14,
        "start_time": "2022-10-23T21:23:03.691Z"
      },
      {
        "duration": 28,
        "start_time": "2022-10-23T21:23:03.706Z"
      },
      {
        "duration": 11,
        "start_time": "2022-10-23T21:23:03.737Z"
      },
      {
        "duration": 55,
        "start_time": "2022-10-23T21:23:03.750Z"
      },
      {
        "duration": 46,
        "start_time": "2022-10-23T21:23:03.807Z"
      },
      {
        "duration": 8,
        "start_time": "2022-10-23T21:23:03.855Z"
      },
      {
        "duration": 8,
        "start_time": "2022-10-23T21:23:03.864Z"
      },
      {
        "duration": 8,
        "start_time": "2022-10-23T21:23:03.874Z"
      },
      {
        "duration": 11,
        "start_time": "2022-10-23T21:23:03.884Z"
      },
      {
        "duration": 11,
        "start_time": "2022-10-23T21:23:03.897Z"
      },
      {
        "duration": 27,
        "start_time": "2022-10-23T21:23:03.910Z"
      },
      {
        "duration": 12,
        "start_time": "2022-10-23T21:23:03.940Z"
      },
      {
        "duration": 17,
        "start_time": "2022-10-23T21:23:03.954Z"
      },
      {
        "duration": 31,
        "start_time": "2022-10-23T21:23:03.972Z"
      },
      {
        "duration": 284,
        "start_time": "2022-10-23T21:23:04.005Z"
      },
      {
        "duration": 4,
        "start_time": "2022-10-23T21:23:04.291Z"
      },
      {
        "duration": 13,
        "start_time": "2022-10-23T21:23:04.296Z"
      },
      {
        "duration": 325,
        "start_time": "2022-10-23T21:23:04.311Z"
      },
      {
        "duration": 4,
        "start_time": "2022-10-23T21:23:04.638Z"
      },
      {
        "duration": 162,
        "start_time": "2022-10-23T21:23:04.644Z"
      },
      {
        "duration": 155,
        "start_time": "2022-10-23T21:23:04.811Z"
      },
      {
        "duration": 209,
        "start_time": "2022-10-23T21:23:04.968Z"
      },
      {
        "duration": 157,
        "start_time": "2022-10-23T21:23:05.178Z"
      },
      {
        "duration": 160,
        "start_time": "2022-10-23T21:23:05.337Z"
      },
      {
        "duration": 163,
        "start_time": "2022-10-23T21:23:05.500Z"
      },
      {
        "duration": 150,
        "start_time": "2022-10-23T21:23:05.664Z"
      },
      {
        "duration": 129,
        "start_time": "2022-10-23T21:23:05.815Z"
      },
      {
        "duration": 174,
        "start_time": "2022-10-23T21:23:05.946Z"
      },
      {
        "duration": 266,
        "start_time": "2022-10-23T21:23:06.122Z"
      },
      {
        "duration": 221,
        "start_time": "2022-10-23T21:23:06.390Z"
      },
      {
        "duration": 279,
        "start_time": "2022-10-23T21:23:06.613Z"
      },
      {
        "duration": 145,
        "start_time": "2022-10-23T21:23:06.894Z"
      },
      {
        "duration": 125,
        "start_time": "2022-10-23T21:23:07.041Z"
      },
      {
        "duration": 118,
        "start_time": "2022-10-23T21:23:07.167Z"
      },
      {
        "duration": 8,
        "start_time": "2022-10-23T21:23:07.287Z"
      },
      {
        "duration": 204,
        "start_time": "2022-10-23T21:23:07.297Z"
      },
      {
        "duration": 5,
        "start_time": "2022-10-23T21:23:07.503Z"
      },
      {
        "duration": 201,
        "start_time": "2022-10-23T21:23:07.510Z"
      },
      {
        "duration": 5,
        "start_time": "2022-10-23T21:23:07.713Z"
      },
      {
        "duration": 193,
        "start_time": "2022-10-23T21:23:07.719Z"
      },
      {
        "duration": 4,
        "start_time": "2022-10-23T21:23:07.914Z"
      },
      {
        "duration": 148,
        "start_time": "2022-10-23T21:23:07.920Z"
      },
      {
        "duration": 145,
        "start_time": "2022-10-23T21:23:08.069Z"
      },
      {
        "duration": 153,
        "start_time": "2022-10-23T21:23:08.215Z"
      },
      {
        "duration": 139,
        "start_time": "2022-10-23T21:23:08.370Z"
      },
      {
        "duration": 149,
        "start_time": "2022-10-23T21:23:08.511Z"
      },
      {
        "duration": 24,
        "start_time": "2022-10-23T21:23:08.662Z"
      },
      {
        "duration": 7,
        "start_time": "2022-10-23T21:23:08.688Z"
      },
      {
        "duration": 13,
        "start_time": "2022-10-23T21:23:08.696Z"
      },
      {
        "duration": 194,
        "start_time": "2022-10-23T21:23:08.711Z"
      },
      {
        "duration": 1242,
        "start_time": "2022-10-23T21:27:58.277Z"
      },
      {
        "duration": 506,
        "start_time": "2022-10-23T21:28:12.311Z"
      },
      {
        "duration": 88,
        "start_time": "2022-10-23T21:28:12.819Z"
      },
      {
        "duration": 14,
        "start_time": "2022-10-23T21:28:12.909Z"
      },
      {
        "duration": 2054,
        "start_time": "2022-10-23T21:28:12.925Z"
      },
      {
        "duration": 4,
        "start_time": "2022-10-23T21:28:14.981Z"
      },
      {
        "duration": 84,
        "start_time": "2022-10-23T21:28:14.987Z"
      },
      {
        "duration": 9,
        "start_time": "2022-10-23T21:28:15.073Z"
      },
      {
        "duration": 14,
        "start_time": "2022-10-23T21:28:15.084Z"
      },
      {
        "duration": 5,
        "start_time": "2022-10-23T21:28:15.099Z"
      },
      {
        "duration": 35,
        "start_time": "2022-10-23T21:28:15.107Z"
      },
      {
        "duration": 41,
        "start_time": "2022-10-23T21:28:15.144Z"
      },
      {
        "duration": 63,
        "start_time": "2022-10-23T21:28:15.186Z"
      },
      {
        "duration": 8,
        "start_time": "2022-10-23T21:28:15.251Z"
      },
      {
        "duration": 10,
        "start_time": "2022-10-23T21:28:15.261Z"
      },
      {
        "duration": 7,
        "start_time": "2022-10-23T21:28:15.273Z"
      },
      {
        "duration": 7,
        "start_time": "2022-10-23T21:28:15.282Z"
      },
      {
        "duration": 8,
        "start_time": "2022-10-23T21:28:15.291Z"
      },
      {
        "duration": 5,
        "start_time": "2022-10-23T21:28:15.333Z"
      },
      {
        "duration": 6,
        "start_time": "2022-10-23T21:28:15.340Z"
      },
      {
        "duration": 17,
        "start_time": "2022-10-23T21:28:15.348Z"
      },
      {
        "duration": 16,
        "start_time": "2022-10-23T21:28:15.367Z"
      },
      {
        "duration": 299,
        "start_time": "2022-10-23T21:28:15.385Z"
      },
      {
        "duration": 4,
        "start_time": "2022-10-23T21:28:15.686Z"
      },
      {
        "duration": 14,
        "start_time": "2022-10-23T21:28:15.692Z"
      },
      {
        "duration": 311,
        "start_time": "2022-10-23T21:28:15.708Z"
      },
      {
        "duration": 3,
        "start_time": "2022-10-23T21:28:16.021Z"
      },
      {
        "duration": 163,
        "start_time": "2022-10-23T21:28:16.033Z"
      },
      {
        "duration": 198,
        "start_time": "2022-10-23T21:28:16.201Z"
      },
      {
        "duration": 242,
        "start_time": "2022-10-23T21:28:16.401Z"
      },
      {
        "duration": 165,
        "start_time": "2022-10-23T21:28:16.645Z"
      },
      {
        "duration": 158,
        "start_time": "2022-10-23T21:28:16.812Z"
      },
      {
        "duration": 169,
        "start_time": "2022-10-23T21:28:16.972Z"
      },
      {
        "duration": 152,
        "start_time": "2022-10-23T21:28:17.143Z"
      },
      {
        "duration": 116,
        "start_time": "2022-10-23T21:28:17.296Z"
      },
      {
        "duration": 177,
        "start_time": "2022-10-23T21:28:17.413Z"
      },
      {
        "duration": 201,
        "start_time": "2022-10-23T21:28:17.592Z"
      },
      {
        "duration": 206,
        "start_time": "2022-10-23T21:28:17.795Z"
      },
      {
        "duration": 340,
        "start_time": "2022-10-23T21:28:18.003Z"
      },
      {
        "duration": 156,
        "start_time": "2022-10-23T21:28:18.345Z"
      },
      {
        "duration": 141,
        "start_time": "2022-10-23T21:28:18.503Z"
      },
      {
        "duration": 128,
        "start_time": "2022-10-23T21:28:18.645Z"
      },
      {
        "duration": 8,
        "start_time": "2022-10-23T21:28:18.775Z"
      },
      {
        "duration": 203,
        "start_time": "2022-10-23T21:28:18.785Z"
      },
      {
        "duration": 5,
        "start_time": "2022-10-23T21:28:18.990Z"
      },
      {
        "duration": 210,
        "start_time": "2022-10-23T21:28:18.996Z"
      },
      {
        "duration": 6,
        "start_time": "2022-10-23T21:28:19.208Z"
      },
      {
        "duration": 202,
        "start_time": "2022-10-23T21:28:19.216Z"
      },
      {
        "duration": 15,
        "start_time": "2022-10-23T21:28:19.420Z"
      },
      {
        "duration": 158,
        "start_time": "2022-10-23T21:28:19.437Z"
      },
      {
        "duration": 153,
        "start_time": "2022-10-23T21:28:19.597Z"
      },
      {
        "duration": 161,
        "start_time": "2022-10-23T21:28:19.752Z"
      },
      {
        "duration": 136,
        "start_time": "2022-10-23T21:28:19.915Z"
      },
      {
        "duration": 157,
        "start_time": "2022-10-23T21:28:20.053Z"
      },
      {
        "duration": 31,
        "start_time": "2022-10-23T21:28:20.212Z"
      },
      {
        "duration": 7,
        "start_time": "2022-10-23T21:28:20.245Z"
      },
      {
        "duration": 11,
        "start_time": "2022-10-23T21:28:20.253Z"
      },
      {
        "duration": 182,
        "start_time": "2022-10-23T21:28:20.266Z"
      },
      {
        "duration": 1101,
        "start_time": "2022-10-23T21:28:20.449Z"
      },
      {
        "duration": 723,
        "start_time": "2022-10-23T21:28:32.811Z"
      },
      {
        "duration": 9,
        "start_time": "2022-10-23T21:28:53.335Z"
      },
      {
        "duration": 180,
        "start_time": "2022-10-23T21:29:06.557Z"
      },
      {
        "duration": 28,
        "start_time": "2022-10-23T21:29:16.115Z"
      },
      {
        "duration": 178,
        "start_time": "2022-10-23T21:29:28.918Z"
      },
      {
        "duration": 163,
        "start_time": "2022-10-23T21:29:33.610Z"
      },
      {
        "duration": 320,
        "start_time": "2022-10-23T21:29:46.050Z"
      },
      {
        "duration": 170,
        "start_time": "2022-10-23T21:30:01.002Z"
      },
      {
        "duration": 174,
        "start_time": "2022-10-23T21:30:06.374Z"
      },
      {
        "duration": 338,
        "start_time": "2022-10-24T16:28:00.597Z"
      },
      {
        "duration": 6,
        "start_time": "2022-10-24T16:28:23.203Z"
      },
      {
        "duration": 5,
        "start_time": "2022-10-24T16:28:44.603Z"
      },
      {
        "duration": 869,
        "start_time": "2022-10-24T16:28:58.790Z"
      },
      {
        "duration": 112,
        "start_time": "2022-10-24T16:29:01.542Z"
      },
      {
        "duration": 16,
        "start_time": "2022-10-24T16:29:04.625Z"
      },
      {
        "duration": 2129,
        "start_time": "2022-10-24T16:29:07.148Z"
      },
      {
        "duration": 1780,
        "start_time": "2022-10-24T16:30:11.559Z"
      },
      {
        "duration": 47,
        "start_time": "2022-10-24T16:31:02.265Z"
      },
      {
        "duration": 425,
        "start_time": "2022-10-24T16:31:11.608Z"
      },
      {
        "duration": 15,
        "start_time": "2022-10-24T16:32:22.893Z"
      },
      {
        "duration": 7,
        "start_time": "2022-10-24T16:32:32.363Z"
      },
      {
        "duration": 8,
        "start_time": "2022-10-24T16:32:36.648Z"
      },
      {
        "duration": 9,
        "start_time": "2022-10-24T16:33:00.633Z"
      },
      {
        "duration": 8,
        "start_time": "2022-10-24T16:33:31.739Z"
      },
      {
        "duration": 7,
        "start_time": "2022-10-24T16:33:37.187Z"
      },
      {
        "duration": 47,
        "start_time": "2022-10-24T16:33:56.316Z"
      },
      {
        "duration": 6,
        "start_time": "2022-10-24T16:51:56.025Z"
      },
      {
        "duration": 15,
        "start_time": "2022-10-24T16:52:05.242Z"
      },
      {
        "duration": 8,
        "start_time": "2022-10-24T16:59:48.198Z"
      },
      {
        "duration": 10,
        "start_time": "2022-10-24T17:00:28.976Z"
      },
      {
        "duration": 23,
        "start_time": "2022-10-24T17:01:31.989Z"
      },
      {
        "duration": 33,
        "start_time": "2022-10-24T17:01:36.918Z"
      },
      {
        "duration": 43,
        "start_time": "2022-10-24T17:03:23.967Z"
      },
      {
        "duration": 21,
        "start_time": "2022-10-24T17:04:02.936Z"
      },
      {
        "duration": 50,
        "start_time": "2022-10-24T17:05:05.661Z"
      },
      {
        "duration": 47,
        "start_time": "2022-10-24T17:06:14.648Z"
      },
      {
        "duration": 136,
        "start_time": "2022-10-24T17:08:09.889Z"
      },
      {
        "duration": 164,
        "start_time": "2022-10-24T17:08:25.585Z"
      },
      {
        "duration": 162,
        "start_time": "2022-10-24T17:09:16.962Z"
      },
      {
        "duration": 151,
        "start_time": "2022-10-24T17:10:26.941Z"
      },
      {
        "duration": 162,
        "start_time": "2022-10-24T17:10:49.735Z"
      },
      {
        "duration": 167,
        "start_time": "2022-10-24T17:11:16.803Z"
      },
      {
        "duration": 233,
        "start_time": "2022-10-24T17:11:29.484Z"
      },
      {
        "duration": 157,
        "start_time": "2022-10-24T17:12:56.220Z"
      },
      {
        "duration": 143,
        "start_time": "2022-10-24T17:13:02.003Z"
      },
      {
        "duration": 128,
        "start_time": "2022-10-24T17:13:21.903Z"
      },
      {
        "duration": 128,
        "start_time": "2022-10-24T17:16:51.437Z"
      },
      {
        "duration": 127,
        "start_time": "2022-10-24T17:17:02.727Z"
      },
      {
        "duration": 119,
        "start_time": "2022-10-24T17:17:20.598Z"
      },
      {
        "duration": 125,
        "start_time": "2022-10-24T17:17:31.781Z"
      },
      {
        "duration": 123,
        "start_time": "2022-10-24T17:17:41.091Z"
      },
      {
        "duration": 14,
        "start_time": "2022-10-24T17:17:51.410Z"
      },
      {
        "duration": 12,
        "start_time": "2022-10-24T17:18:13.472Z"
      },
      {
        "duration": 12,
        "start_time": "2022-10-24T17:18:33.871Z"
      },
      {
        "duration": 12,
        "start_time": "2022-10-24T17:18:36.789Z"
      },
      {
        "duration": 138,
        "start_time": "2022-10-24T17:18:41.684Z"
      },
      {
        "duration": 12,
        "start_time": "2022-10-24T17:18:52.491Z"
      },
      {
        "duration": 13,
        "start_time": "2022-10-24T17:19:14.481Z"
      },
      {
        "duration": 16,
        "start_time": "2022-10-24T17:19:21.960Z"
      },
      {
        "duration": 13,
        "start_time": "2022-10-24T17:19:30.291Z"
      },
      {
        "duration": 78,
        "start_time": "2022-10-24T17:19:42.605Z"
      },
      {
        "duration": 114,
        "start_time": "2022-10-24T17:19:44.531Z"
      },
      {
        "duration": 14,
        "start_time": "2022-10-24T17:19:46.400Z"
      },
      {
        "duration": 1851,
        "start_time": "2022-10-24T17:19:48.616Z"
      },
      {
        "duration": 4,
        "start_time": "2022-10-24T17:19:53.517Z"
      },
      {
        "duration": 76,
        "start_time": "2022-10-24T17:19:54.748Z"
      },
      {
        "duration": 8,
        "start_time": "2022-10-24T17:19:57.859Z"
      },
      {
        "duration": 14,
        "start_time": "2022-10-24T17:20:00.376Z"
      },
      {
        "duration": 15,
        "start_time": "2022-10-24T17:20:04.722Z"
      },
      {
        "duration": 6,
        "start_time": "2022-10-24T17:20:11.807Z"
      },
      {
        "duration": 9,
        "start_time": "2022-10-24T17:20:14.257Z"
      },
      {
        "duration": 40,
        "start_time": "2022-10-24T17:20:18.548Z"
      },
      {
        "duration": 38,
        "start_time": "2022-10-24T17:20:20.561Z"
      },
      {
        "duration": 8,
        "start_time": "2022-10-24T17:20:23.496Z"
      },
      {
        "duration": 9,
        "start_time": "2022-10-24T17:20:25.598Z"
      },
      {
        "duration": 9,
        "start_time": "2022-10-24T17:20:27.513Z"
      },
      {
        "duration": 12,
        "start_time": "2022-10-24T17:20:29.819Z"
      },
      {
        "duration": 5,
        "start_time": "2022-10-24T17:20:32.596Z"
      },
      {
        "duration": 5,
        "start_time": "2022-10-24T17:20:34.293Z"
      },
      {
        "duration": 5,
        "start_time": "2022-10-24T17:20:35.850Z"
      },
      {
        "duration": 5,
        "start_time": "2022-10-24T17:20:37.800Z"
      },
      {
        "duration": 17,
        "start_time": "2022-10-24T17:20:39.620Z"
      },
      {
        "duration": 28,
        "start_time": "2022-10-24T17:20:43.849Z"
      },
      {
        "duration": 317,
        "start_time": "2022-10-24T17:20:46.706Z"
      },
      {
        "duration": 18,
        "start_time": "2022-10-24T17:20:51.028Z"
      },
      {
        "duration": 4,
        "start_time": "2022-10-24T17:20:57.141Z"
      },
      {
        "duration": 12,
        "start_time": "2022-10-24T17:20:59.064Z"
      },
      {
        "duration": 285,
        "start_time": "2022-10-24T17:21:03.293Z"
      },
      {
        "duration": 6,
        "start_time": "2022-10-24T17:21:05.148Z"
      },
      {
        "duration": 244,
        "start_time": "2022-10-24T17:21:10.254Z"
      },
      {
        "duration": 150,
        "start_time": "2022-10-24T17:21:15.078Z"
      },
      {
        "duration": 121,
        "start_time": "2022-10-24T17:21:18.462Z"
      },
      {
        "duration": 135,
        "start_time": "2022-10-24T17:21:21.417Z"
      },
      {
        "duration": 141,
        "start_time": "2022-10-24T17:21:24.312Z"
      },
      {
        "duration": 144,
        "start_time": "2022-10-24T17:21:28.012Z"
      },
      {
        "duration": 137,
        "start_time": "2022-10-24T17:21:31.139Z"
      },
      {
        "duration": 126,
        "start_time": "2022-10-24T17:21:32.781Z"
      },
      {
        "duration": 96,
        "start_time": "2022-10-24T17:21:36.414Z"
      },
      {
        "duration": 149,
        "start_time": "2022-10-24T17:21:40.367Z"
      },
      {
        "duration": 177,
        "start_time": "2022-10-24T17:21:43.321Z"
      },
      {
        "duration": 279,
        "start_time": "2022-10-24T17:21:46.490Z"
      },
      {
        "duration": 166,
        "start_time": "2022-10-24T17:21:49.695Z"
      },
      {
        "duration": 123,
        "start_time": "2022-10-24T17:21:53.086Z"
      },
      {
        "duration": 104,
        "start_time": "2022-10-24T17:21:55.353Z"
      },
      {
        "duration": 104,
        "start_time": "2022-10-24T17:22:01.864Z"
      },
      {
        "duration": 8,
        "start_time": "2022-10-24T17:22:09.365Z"
      },
      {
        "duration": 169,
        "start_time": "2022-10-24T17:22:30.338Z"
      },
      {
        "duration": 5,
        "start_time": "2022-10-24T17:22:31.336Z"
      },
      {
        "duration": 196,
        "start_time": "2022-10-24T17:22:34.165Z"
      },
      {
        "duration": 5,
        "start_time": "2022-10-24T17:22:35.239Z"
      },
      {
        "duration": 186,
        "start_time": "2022-10-24T17:22:37.374Z"
      },
      {
        "duration": 5,
        "start_time": "2022-10-24T17:22:38.741Z"
      },
      {
        "duration": 122,
        "start_time": "2022-10-24T17:22:39.895Z"
      },
      {
        "duration": 118,
        "start_time": "2022-10-24T17:22:42.711Z"
      },
      {
        "duration": 152,
        "start_time": "2022-10-24T17:23:34.370Z"
      },
      {
        "duration": 130,
        "start_time": "2022-10-24T17:23:41.021Z"
      },
      {
        "duration": 128,
        "start_time": "2022-10-24T17:23:43.625Z"
      },
      {
        "duration": 15,
        "start_time": "2022-10-24T17:26:21.451Z"
      },
      {
        "duration": 10,
        "start_time": "2022-10-24T17:27:05.050Z"
      },
      {
        "duration": 123,
        "start_time": "2022-10-24T17:30:24.331Z"
      },
      {
        "duration": 240,
        "start_time": "2022-10-24T17:32:16.218Z"
      },
      {
        "duration": 110,
        "start_time": "2022-10-24T17:35:11.131Z"
      },
      {
        "duration": 141,
        "start_time": "2022-10-24T17:36:49.154Z"
      },
      {
        "duration": 151,
        "start_time": "2022-10-24T17:37:12.142Z"
      },
      {
        "duration": 42,
        "start_time": "2022-10-24T17:38:00.306Z"
      },
      {
        "duration": 255,
        "start_time": "2022-10-24T17:38:10.006Z"
      },
      {
        "duration": 178,
        "start_time": "2022-10-24T17:38:17.046Z"
      },
      {
        "duration": 146,
        "start_time": "2022-10-24T17:38:51.547Z"
      },
      {
        "duration": 49,
        "start_time": "2022-10-24T17:40:22.757Z"
      },
      {
        "duration": 23,
        "start_time": "2022-10-24T17:40:57.882Z"
      },
      {
        "duration": 892,
        "start_time": "2022-10-24T17:41:12.311Z"
      },
      {
        "duration": 724,
        "start_time": "2022-10-24T17:41:25.581Z"
      },
      {
        "duration": 679,
        "start_time": "2022-10-24T17:41:31.961Z"
      },
      {
        "duration": 153,
        "start_time": "2022-10-24T17:41:41.042Z"
      },
      {
        "duration": 20,
        "start_time": "2022-10-24T17:41:44.580Z"
      },
      {
        "duration": 700,
        "start_time": "2022-10-24T17:41:48.285Z"
      },
      {
        "duration": 9,
        "start_time": "2022-10-24T17:42:11.880Z"
      },
      {
        "duration": 7,
        "start_time": "2022-10-24T17:42:20.523Z"
      },
      {
        "duration": 20,
        "start_time": "2022-10-24T17:44:10.237Z"
      },
      {
        "duration": 228,
        "start_time": "2022-10-24T17:45:08.481Z"
      },
      {
        "duration": 71,
        "start_time": "2022-10-24T19:31:17.897Z"
      },
      {
        "duration": 520,
        "start_time": "2022-10-24T19:31:24.081Z"
      },
      {
        "duration": 113,
        "start_time": "2022-10-24T19:31:24.603Z"
      },
      {
        "duration": 24,
        "start_time": "2022-10-24T19:31:24.719Z"
      },
      {
        "duration": 3903,
        "start_time": "2022-10-24T19:31:24.746Z"
      },
      {
        "duration": 6,
        "start_time": "2022-10-24T19:31:28.651Z"
      },
      {
        "duration": 121,
        "start_time": "2022-10-24T19:31:28.660Z"
      },
      {
        "duration": 12,
        "start_time": "2022-10-24T19:31:28.783Z"
      },
      {
        "duration": 83,
        "start_time": "2022-10-24T19:31:28.797Z"
      },
      {
        "duration": 24,
        "start_time": "2022-10-24T19:31:28.884Z"
      },
      {
        "duration": 26,
        "start_time": "2022-10-24T19:31:28.910Z"
      },
      {
        "duration": 15,
        "start_time": "2022-10-24T19:31:28.937Z"
      },
      {
        "duration": 62,
        "start_time": "2022-10-24T19:31:28.953Z"
      },
      {
        "duration": 50,
        "start_time": "2022-10-24T19:31:29.017Z"
      },
      {
        "duration": 11,
        "start_time": "2022-10-24T19:31:29.069Z"
      },
      {
        "duration": 30,
        "start_time": "2022-10-24T19:31:29.081Z"
      },
      {
        "duration": 21,
        "start_time": "2022-10-24T19:31:29.113Z"
      },
      {
        "duration": 34,
        "start_time": "2022-10-24T19:31:29.136Z"
      },
      {
        "duration": 21,
        "start_time": "2022-10-24T19:31:29.172Z"
      },
      {
        "duration": 13,
        "start_time": "2022-10-24T19:31:29.195Z"
      },
      {
        "duration": 26,
        "start_time": "2022-10-24T19:31:29.211Z"
      },
      {
        "duration": 20,
        "start_time": "2022-10-24T19:31:29.239Z"
      },
      {
        "duration": 32,
        "start_time": "2022-10-24T19:31:29.261Z"
      },
      {
        "duration": 51,
        "start_time": "2022-10-24T19:31:29.295Z"
      },
      {
        "duration": 356,
        "start_time": "2022-10-24T19:31:29.348Z"
      },
      {
        "duration": 41,
        "start_time": "2022-10-24T19:31:29.705Z"
      },
      {
        "duration": 5,
        "start_time": "2022-10-24T19:31:29.747Z"
      },
      {
        "duration": 33,
        "start_time": "2022-10-24T19:31:29.758Z"
      },
      {
        "duration": 375,
        "start_time": "2022-10-24T19:31:29.793Z"
      },
      {
        "duration": 6,
        "start_time": "2022-10-24T19:31:30.170Z"
      },
      {
        "duration": 252,
        "start_time": "2022-10-24T19:31:30.178Z"
      },
      {
        "duration": 238,
        "start_time": "2022-10-24T19:31:30.432Z"
      },
      {
        "duration": 274,
        "start_time": "2022-10-24T19:31:30.675Z"
      },
      {
        "duration": 200,
        "start_time": "2022-10-24T19:31:30.951Z"
      },
      {
        "duration": 200,
        "start_time": "2022-10-24T19:31:31.153Z"
      },
      {
        "duration": 202,
        "start_time": "2022-10-24T19:31:31.355Z"
      },
      {
        "duration": 188,
        "start_time": "2022-10-24T19:31:31.559Z"
      },
      {
        "duration": 191,
        "start_time": "2022-10-24T19:31:31.749Z"
      },
      {
        "duration": 303,
        "start_time": "2022-10-24T19:31:31.943Z"
      },
      {
        "duration": 233,
        "start_time": "2022-10-24T19:31:32.248Z"
      },
      {
        "duration": 259,
        "start_time": "2022-10-24T19:31:32.483Z"
      },
      {
        "duration": 316,
        "start_time": "2022-10-24T19:31:32.745Z"
      },
      {
        "duration": 189,
        "start_time": "2022-10-24T19:31:33.062Z"
      },
      {
        "duration": 156,
        "start_time": "2022-10-24T19:31:33.253Z"
      },
      {
        "duration": 170,
        "start_time": "2022-10-24T19:31:33.411Z"
      },
      {
        "duration": 9,
        "start_time": "2022-10-24T19:31:33.583Z"
      },
      {
        "duration": 247,
        "start_time": "2022-10-24T19:31:33.594Z"
      },
      {
        "duration": 7,
        "start_time": "2022-10-24T19:31:33.843Z"
      },
      {
        "duration": 263,
        "start_time": "2022-10-24T19:31:33.852Z"
      },
      {
        "duration": 16,
        "start_time": "2022-10-24T19:31:34.117Z"
      },
      {
        "duration": 243,
        "start_time": "2022-10-24T19:31:34.137Z"
      },
      {
        "duration": 6,
        "start_time": "2022-10-24T19:31:34.382Z"
      },
      {
        "duration": 193,
        "start_time": "2022-10-24T19:31:34.389Z"
      },
      {
        "duration": 169,
        "start_time": "2022-10-24T19:31:34.584Z"
      },
      {
        "duration": 176,
        "start_time": "2022-10-24T19:31:34.755Z"
      },
      {
        "duration": 205,
        "start_time": "2022-10-24T19:31:34.937Z"
      },
      {
        "duration": 173,
        "start_time": "2022-10-24T19:31:35.144Z"
      },
      {
        "duration": 190,
        "start_time": "2022-10-24T19:31:35.318Z"
      },
      {
        "duration": 315,
        "start_time": "2022-10-24T19:31:35.509Z"
      },
      {
        "duration": 32,
        "start_time": "2022-10-24T19:31:35.828Z"
      },
      {
        "duration": 10,
        "start_time": "2022-10-24T19:31:35.862Z"
      },
      {
        "duration": 69,
        "start_time": "2022-10-24T19:31:35.874Z"
      },
      {
        "duration": 219,
        "start_time": "2022-10-24T19:31:35.946Z"
      },
      {
        "duration": 11,
        "start_time": "2022-10-24T19:32:59.690Z"
      },
      {
        "duration": 11,
        "start_time": "2022-10-24T19:33:03.293Z"
      },
      {
        "duration": 76,
        "start_time": "2022-10-25T03:01:43.408Z"
      },
      {
        "duration": 776,
        "start_time": "2022-10-25T03:02:06.973Z"
      },
      {
        "duration": 121,
        "start_time": "2022-10-25T03:02:09.429Z"
      },
      {
        "duration": 23,
        "start_time": "2022-10-25T03:02:12.028Z"
      },
      {
        "duration": 2812,
        "start_time": "2022-10-25T03:02:14.765Z"
      },
      {
        "duration": 11,
        "start_time": "2022-10-25T03:02:20.655Z"
      },
      {
        "duration": 105,
        "start_time": "2022-10-25T03:02:21.625Z"
      },
      {
        "duration": 11,
        "start_time": "2022-10-25T03:02:24.424Z"
      },
      {
        "duration": 58,
        "start_time": "2022-10-25T03:02:26.272Z"
      },
      {
        "duration": 17,
        "start_time": "2022-10-25T03:02:30.015Z"
      },
      {
        "duration": 8,
        "start_time": "2022-10-25T03:02:34.531Z"
      },
      {
        "duration": 14,
        "start_time": "2022-10-25T03:02:36.507Z"
      },
      {
        "duration": 60,
        "start_time": "2022-10-25T03:02:40.572Z"
      },
      {
        "duration": 57,
        "start_time": "2022-10-25T03:02:42.257Z"
      },
      {
        "duration": 14,
        "start_time": "2022-10-25T03:02:44.675Z"
      },
      {
        "duration": 13,
        "start_time": "2022-10-25T03:02:46.252Z"
      },
      {
        "duration": 9,
        "start_time": "2022-10-25T03:02:47.805Z"
      },
      {
        "duration": 8,
        "start_time": "2022-10-25T03:02:49.280Z"
      },
      {
        "duration": 7,
        "start_time": "2022-10-25T03:02:50.697Z"
      },
      {
        "duration": 5,
        "start_time": "2022-10-25T03:02:52.099Z"
      },
      {
        "duration": 5,
        "start_time": "2022-10-25T03:02:53.522Z"
      },
      {
        "duration": 12,
        "start_time": "2022-10-25T03:02:54.952Z"
      },
      {
        "duration": 23,
        "start_time": "2022-10-25T03:02:56.552Z"
      },
      {
        "duration": 18,
        "start_time": "2022-10-25T03:03:01.216Z"
      },
      {
        "duration": 307,
        "start_time": "2022-10-25T03:03:04.009Z"
      },
      {
        "duration": 36,
        "start_time": "2022-10-25T03:03:07.348Z"
      },
      {
        "duration": 9,
        "start_time": "2022-10-25T03:03:17.659Z"
      },
      {
        "duration": 14,
        "start_time": "2022-10-25T03:03:19.102Z"
      },
      {
        "duration": 360,
        "start_time": "2022-10-25T03:03:52.869Z"
      },
      {
        "duration": 5,
        "start_time": "2022-10-25T03:03:54.917Z"
      },
      {
        "duration": 210,
        "start_time": "2022-10-25T03:03:59.079Z"
      },
      {
        "duration": 281,
        "start_time": "2022-10-25T03:04:04.426Z"
      },
      {
        "duration": 208,
        "start_time": "2022-10-25T03:04:07.135Z"
      },
      {
        "duration": 163,
        "start_time": "2022-10-25T03:04:09.892Z"
      },
      {
        "duration": 183,
        "start_time": "2022-10-25T03:04:12.752Z"
      },
      {
        "duration": 237,
        "start_time": "2022-10-25T03:04:15.477Z"
      },
      {
        "duration": 211,
        "start_time": "2022-10-25T03:04:17.935Z"
      },
      {
        "duration": 148,
        "start_time": "2022-10-25T03:04:20.560Z"
      },
      {
        "duration": 195,
        "start_time": "2022-10-25T03:04:32.099Z"
      },
      {
        "duration": 210,
        "start_time": "2022-10-25T03:04:35.125Z"
      },
      {
        "duration": 312,
        "start_time": "2022-10-25T03:04:38.470Z"
      },
      {
        "duration": 219,
        "start_time": "2022-10-25T03:04:40.990Z"
      },
      {
        "duration": 173,
        "start_time": "2022-10-25T03:04:44.235Z"
      },
      {
        "duration": 138,
        "start_time": "2022-10-25T03:04:45.975Z"
      },
      {
        "duration": 161,
        "start_time": "2022-10-25T03:04:51.480Z"
      },
      {
        "duration": 9,
        "start_time": "2022-10-25T03:05:03.221Z"
      },
      {
        "duration": 235,
        "start_time": "2022-10-25T03:05:10.829Z"
      },
      {
        "duration": 6,
        "start_time": "2022-10-25T03:05:12.634Z"
      },
      {
        "duration": 234,
        "start_time": "2022-10-25T03:05:15.173Z"
      },
      {
        "duration": 5,
        "start_time": "2022-10-25T03:05:16.406Z"
      },
      {
        "duration": 217,
        "start_time": "2022-10-25T03:05:18.073Z"
      },
      {
        "duration": 7,
        "start_time": "2022-10-25T03:05:19.006Z"
      },
      {
        "duration": 155,
        "start_time": "2022-10-25T03:05:19.793Z"
      },
      {
        "duration": 197,
        "start_time": "2022-10-25T03:05:21.580Z"
      },
      {
        "duration": 75,
        "start_time": "2022-10-25T03:15:51.478Z"
      },
      {
        "duration": 160,
        "start_time": "2022-10-25T03:15:59.077Z"
      },
      {
        "duration": 166,
        "start_time": "2022-10-25T03:16:01.153Z"
      },
      {
        "duration": 299,
        "start_time": "2022-10-25T03:16:05.290Z"
      },
      {
        "duration": 184,
        "start_time": "2022-10-25T03:16:09.212Z"
      },
      {
        "duration": 164,
        "start_time": "2022-10-25T03:16:11.250Z"
      },
      {
        "duration": 198,
        "start_time": "2022-10-25T03:16:13.648Z"
      },
      {
        "duration": 202,
        "start_time": "2022-10-25T03:16:16.349Z"
      },
      {
        "duration": 27,
        "start_time": "2022-10-25T03:16:18.825Z"
      },
      {
        "duration": 8,
        "start_time": "2022-10-25T03:16:20.471Z"
      },
      {
        "duration": 9,
        "start_time": "2022-10-25T03:16:21.248Z"
      },
      {
        "duration": 192,
        "start_time": "2022-10-25T03:16:23.553Z"
      },
      {
        "duration": 200,
        "start_time": "2022-10-25T03:18:13.776Z"
      },
      {
        "duration": 242,
        "start_time": "2022-10-25T03:19:35.378Z"
      },
      {
        "duration": 195,
        "start_time": "2022-10-25T03:20:11.006Z"
      },
      {
        "duration": 54,
        "start_time": "2022-10-25T16:12:27.076Z"
      },
      {
        "duration": 570,
        "start_time": "2022-10-25T16:12:31.962Z"
      },
      {
        "duration": 117,
        "start_time": "2022-10-25T16:12:32.534Z"
      },
      {
        "duration": 36,
        "start_time": "2022-10-25T16:12:32.653Z"
      },
      {
        "duration": 2319,
        "start_time": "2022-10-25T16:12:32.691Z"
      },
      {
        "duration": 5,
        "start_time": "2022-10-25T16:12:35.012Z"
      },
      {
        "duration": 90,
        "start_time": "2022-10-25T16:12:35.018Z"
      },
      {
        "duration": 10,
        "start_time": "2022-10-25T16:12:35.110Z"
      },
      {
        "duration": 76,
        "start_time": "2022-10-25T16:12:35.122Z"
      },
      {
        "duration": 18,
        "start_time": "2022-10-25T16:12:35.202Z"
      },
      {
        "duration": 26,
        "start_time": "2022-10-25T16:12:35.223Z"
      },
      {
        "duration": 20,
        "start_time": "2022-10-25T16:12:35.251Z"
      },
      {
        "duration": 86,
        "start_time": "2022-10-25T16:12:35.273Z"
      },
      {
        "duration": 58,
        "start_time": "2022-10-25T16:12:35.361Z"
      },
      {
        "duration": 10,
        "start_time": "2022-10-25T16:12:35.421Z"
      },
      {
        "duration": 15,
        "start_time": "2022-10-25T16:12:35.433Z"
      },
      {
        "duration": 15,
        "start_time": "2022-10-25T16:12:35.450Z"
      },
      {
        "duration": 22,
        "start_time": "2022-10-25T16:12:35.467Z"
      },
      {
        "duration": 23,
        "start_time": "2022-10-25T16:12:35.490Z"
      },
      {
        "duration": 15,
        "start_time": "2022-10-25T16:12:35.514Z"
      },
      {
        "duration": 31,
        "start_time": "2022-10-25T16:12:35.530Z"
      },
      {
        "duration": 8,
        "start_time": "2022-10-25T16:12:35.563Z"
      },
      {
        "duration": 40,
        "start_time": "2022-10-25T16:12:35.572Z"
      },
      {
        "duration": 16,
        "start_time": "2022-10-25T16:12:35.614Z"
      },
      {
        "duration": 296,
        "start_time": "2022-10-25T16:12:35.632Z"
      },
      {
        "duration": 23,
        "start_time": "2022-10-25T16:12:35.929Z"
      },
      {
        "duration": 5,
        "start_time": "2022-10-25T16:12:35.953Z"
      },
      {
        "duration": 33,
        "start_time": "2022-10-25T16:12:35.960Z"
      },
      {
        "duration": 353,
        "start_time": "2022-10-25T16:12:35.998Z"
      },
      {
        "duration": 4,
        "start_time": "2022-10-25T16:12:36.353Z"
      },
      {
        "duration": 188,
        "start_time": "2022-10-25T16:12:36.359Z"
      },
      {
        "duration": 191,
        "start_time": "2022-10-25T16:12:36.549Z"
      },
      {
        "duration": 254,
        "start_time": "2022-10-25T16:12:36.741Z"
      },
      {
        "duration": 185,
        "start_time": "2022-10-25T16:12:36.997Z"
      },
      {
        "duration": 165,
        "start_time": "2022-10-25T16:12:37.183Z"
      },
      {
        "duration": 182,
        "start_time": "2022-10-25T16:12:37.350Z"
      },
      {
        "duration": 162,
        "start_time": "2022-10-25T16:12:37.534Z"
      },
      {
        "duration": 132,
        "start_time": "2022-10-25T16:12:37.698Z"
      },
      {
        "duration": 207,
        "start_time": "2022-10-25T16:12:37.832Z"
      },
      {
        "duration": 232,
        "start_time": "2022-10-25T16:12:38.041Z"
      },
      {
        "duration": 221,
        "start_time": "2022-10-25T16:12:38.274Z"
      },
      {
        "duration": 266,
        "start_time": "2022-10-25T16:12:38.496Z"
      },
      {
        "duration": 155,
        "start_time": "2022-10-25T16:12:38.764Z"
      },
      {
        "duration": 171,
        "start_time": "2022-10-25T16:12:38.920Z"
      },
      {
        "duration": 116,
        "start_time": "2022-10-25T16:12:39.092Z"
      },
      {
        "duration": 10,
        "start_time": "2022-10-25T16:12:39.210Z"
      },
      {
        "duration": 216,
        "start_time": "2022-10-25T16:12:39.222Z"
      },
      {
        "duration": 5,
        "start_time": "2022-10-25T16:12:39.440Z"
      },
      {
        "duration": 229,
        "start_time": "2022-10-25T16:12:39.447Z"
      },
      {
        "duration": 8,
        "start_time": "2022-10-25T16:12:39.678Z"
      },
      {
        "duration": 217,
        "start_time": "2022-10-25T16:12:39.689Z"
      },
      {
        "duration": 5,
        "start_time": "2022-10-25T16:12:39.908Z"
      },
      {
        "duration": 157,
        "start_time": "2022-10-25T16:12:39.915Z"
      },
      {
        "duration": 149,
        "start_time": "2022-10-25T16:12:40.074Z"
      },
      {
        "duration": 137,
        "start_time": "2022-10-25T16:12:40.225Z"
      },
      {
        "duration": 172,
        "start_time": "2022-10-25T16:12:40.363Z"
      },
      {
        "duration": 163,
        "start_time": "2022-10-25T16:12:40.536Z"
      },
      {
        "duration": 152,
        "start_time": "2022-10-25T16:12:40.701Z"
      },
      {
        "duration": 274,
        "start_time": "2022-10-25T16:12:40.855Z"
      },
      {
        "duration": 26,
        "start_time": "2022-10-25T16:12:41.130Z"
      },
      {
        "duration": 33,
        "start_time": "2022-10-25T16:12:41.157Z"
      },
      {
        "duration": 9,
        "start_time": "2022-10-25T16:12:41.193Z"
      },
      {
        "duration": 176,
        "start_time": "2022-10-25T16:12:41.204Z"
      },
      {
        "duration": 13,
        "start_time": "2022-10-25T16:12:41.382Z"
      },
      {
        "duration": 741,
        "start_time": "2022-11-01T08:05:58.046Z"
      },
      {
        "duration": 309,
        "start_time": "2022-11-01T08:40:38.796Z"
      },
      {
        "duration": 91,
        "start_time": "2022-11-01T08:40:51.154Z"
      },
      {
        "duration": 114,
        "start_time": "2022-11-01T08:40:53.099Z"
      },
      {
        "duration": 15,
        "start_time": "2022-11-01T08:40:54.809Z"
      },
      {
        "duration": 1977,
        "start_time": "2022-11-01T08:40:56.548Z"
      },
      {
        "duration": 7,
        "start_time": "2022-11-01T08:41:01.697Z"
      },
      {
        "duration": 79,
        "start_time": "2022-11-01T08:41:02.648Z"
      },
      {
        "duration": 13,
        "start_time": "2022-11-01T08:41:06.063Z"
      },
      {
        "duration": 16,
        "start_time": "2022-11-01T08:41:08.152Z"
      }
    ],
    "kernelspec": {
      "display_name": "Python 3 (ipykernel)",
      "language": "python",
      "name": "python3"
    },
    "language_info": {
      "codemirror_mode": {
        "name": "ipython",
        "version": 3
      },
      "file_extension": ".py",
      "mimetype": "text/x-python",
      "name": "python",
      "nbconvert_exporter": "python",
      "pygments_lexer": "ipython3",
      "version": "3.9.5"
    },
    "toc": {
      "base_numbering": 1,
      "nav_menu": {},
      "number_sections": true,
      "sideBar": true,
      "skip_h1_title": true,
      "title_cell": "Table of Contents",
      "title_sidebar": "Contents",
      "toc_cell": false,
      "toc_position": {
        "height": "calc(100% - 180px)",
        "left": "10px",
        "top": "150px",
        "width": "165px"
      },
      "toc_section_display": true,
      "toc_window_display": true
    },
    "colab": {
      "provenance": []
    }
  },
  "nbformat": 4,
  "nbformat_minor": 0
}