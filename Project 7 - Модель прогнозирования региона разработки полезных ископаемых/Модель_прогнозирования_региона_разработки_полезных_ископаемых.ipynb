{
  "cells": [
    {
      "cell_type": "markdown",
      "metadata": {
        "id": "Gju_NJzrWJcY"
      },
      "source": [
        "# Выбор локации для скважины"
      ]
    },
    {
      "cell_type": "markdown",
      "metadata": {
        "id": "04VEjq4lWJcZ"
      },
      "source": [
        "Допустим, вы работаете в добывающей компании «ГлавРосГосНефть». Нужно решить, где бурить новую скважину.\n",
        "\n",
        "Вам предоставлены пробы нефти в трёх регионах: в каждом 10 000 месторождений, где измерили качество нефти и объём её запасов. Постройте модель машинного обучения, которая поможет определить регион, где добыча принесёт наибольшую прибыль. Проанализируйте возможную прибыль и риски техникой *Bootstrap.*\n",
        "\n",
        "Шаги для выбора локации:\n",
        "\n",
        "- В избранном регионе ищут месторождения, для каждого определяют значения признаков;\n",
        "- Строят модель и оценивают объём запасов;\n",
        "- Выбирают месторождения с самым высокими оценками значений. Количество месторождений зависит от бюджета компании и стоимости разработки одной скважины;\n",
        "- Прибыль равна суммарной прибыли отобранных месторождений."
      ]
    },
    {
      "cell_type": "markdown",
      "metadata": {
        "id": "iSkA2zoXWJcb"
      },
      "source": [
        "Данные геологоразведки трёх регионов находятся в файлах:\n",
        "- /datasets/geo_data_0.csv.\n",
        "- /datasets/geo_data_1.csv.\n",
        "- /datasets/geo_data_2.csv.\n",
        "\n",
        "Описание столбцов:\n",
        "- id — уникальный идентификатор скважины;\n",
        "- f0, f1, f2 — три признака точек (неважно, что они означают, но сами признаки значимы);\n",
        "- product — объём запасов в скважине (тыс. баррелей)."
      ]
    },
    {
      "cell_type": "markdown",
      "metadata": {
        "id": "cECxEU64WJcd"
      },
      "source": [
        "Условия задачи:\n",
        "\n",
        "- Для обучения модели подходит только линейная регрессия (остальные — недостаточно предсказуемые).\n",
        "- При разведке региона исследуют 500 точек, из которых с помощью машинного обучения выбирают 200 лучших для разработки.\n",
        "- Бюджет на разработку скважин в регионе — 10 млрд рублей.\n",
        "- При нынешних ценах один баррель сырья приносит 450 рублей дохода. Доход с каждой единицы продукта составляет 450 тыс. рублей, поскольку объём указан в тысячах баррелей.\n",
        "- После оценки рисков нужно оставить лишь те регионы, в которых вероятность убытков меньше 2.5%. Среди них выбирают регион с наибольшей средней прибылью."
      ]
    },
    {
      "cell_type": "markdown",
      "metadata": {
        "id": "432pORRIWJce"
      },
      "source": [
        "## Загрузка и подготовка данных"
      ]
    },
    {
      "cell_type": "markdown",
      "metadata": {
        "id": "fPDpVuEHWJcf"
      },
      "source": [
        "*Загрузим необходимые бибилиотеки*"
      ]
    },
    {
      "cell_type": "code",
      "execution_count": null,
      "metadata": {
        "id": "G1QzdtuWWJch"
      },
      "outputs": [],
      "source": [
        "import pandas as pd\n",
        "from sklearn.model_selection import train_test_split\n",
        "from sklearn.linear_model import LinearRegression\n",
        "from sklearn.metrics import mean_squared_error\n",
        "from sklearn.preprocessing import StandardScaler\n",
        "from sklearn.utils import shuffle\n",
        "import warnings\n",
        "import matplotlib.pyplot as plt\n",
        "import numpy as np\n",
        "from numpy import sqrt\n",
        "import seaborn as sns\n",
        "from scipy import stats as st # для доверительного интервала\n",
        "pd.set_option('display.float_format', '{:.3f}'.format) # значения float до 3 знаков после запятой\n",
        "\n",
        "warnings.filterwarnings('ignore')  # уберем некритические предупреждения в коде"
      ]
    },
    {
      "cell_type": "markdown",
      "metadata": {
        "id": "ERCeOJHhWJcl"
      },
      "source": [
        "*Загрузим данные геологоразведки трёх регионов:*"
      ]
    },
    {
      "cell_type": "code",
      "execution_count": null,
      "metadata": {
        "id": "rka-s0onWJcm",
        "outputId": "1fc938bc-261e-4fc1-a802-1bbe7ba49236"
      },
      "outputs": [
        {
          "data": {
            "text/html": [
              "<div>\n",
              "<style scoped>\n",
              "    .dataframe tbody tr th:only-of-type {\n",
              "        vertical-align: middle;\n",
              "    }\n",
              "\n",
              "    .dataframe tbody tr th {\n",
              "        vertical-align: top;\n",
              "    }\n",
              "\n",
              "    .dataframe thead th {\n",
              "        text-align: right;\n",
              "    }\n",
              "</style>\n",
              "<table border=\"1\" class=\"dataframe\">\n",
              "  <thead>\n",
              "    <tr style=\"text-align: right;\">\n",
              "      <th></th>\n",
              "      <th>id</th>\n",
              "      <th>f0</th>\n",
              "      <th>f1</th>\n",
              "      <th>f2</th>\n",
              "      <th>product</th>\n",
              "    </tr>\n",
              "  </thead>\n",
              "  <tbody>\n",
              "    <tr>\n",
              "      <th>0</th>\n",
              "      <td>txEyH</td>\n",
              "      <td>0.706</td>\n",
              "      <td>-0.498</td>\n",
              "      <td>1.221</td>\n",
              "      <td>105.280</td>\n",
              "    </tr>\n",
              "    <tr>\n",
              "      <th>1</th>\n",
              "      <td>2acmU</td>\n",
              "      <td>1.335</td>\n",
              "      <td>-0.340</td>\n",
              "      <td>4.365</td>\n",
              "      <td>73.038</td>\n",
              "    </tr>\n",
              "    <tr>\n",
              "      <th>2</th>\n",
              "      <td>409Wp</td>\n",
              "      <td>1.023</td>\n",
              "      <td>0.152</td>\n",
              "      <td>1.420</td>\n",
              "      <td>85.266</td>\n",
              "    </tr>\n",
              "    <tr>\n",
              "      <th>3</th>\n",
              "      <td>iJLyR</td>\n",
              "      <td>-0.032</td>\n",
              "      <td>0.139</td>\n",
              "      <td>2.979</td>\n",
              "      <td>168.621</td>\n",
              "    </tr>\n",
              "    <tr>\n",
              "      <th>4</th>\n",
              "      <td>Xdl7t</td>\n",
              "      <td>1.988</td>\n",
              "      <td>0.155</td>\n",
              "      <td>4.752</td>\n",
              "      <td>154.037</td>\n",
              "    </tr>\n",
              "  </tbody>\n",
              "</table>\n",
              "</div>"
            ],
            "text/plain": [
              "      id     f0     f1    f2  product\n",
              "0  txEyH  0.706 -0.498 1.221  105.280\n",
              "1  2acmU  1.335 -0.340 4.365   73.038\n",
              "2  409Wp  1.023  0.152 1.420   85.266\n",
              "3  iJLyR -0.032  0.139 2.979  168.621\n",
              "4  Xdl7t  1.988  0.155 4.752  154.037"
            ]
          },
          "metadata": {},
          "output_type": "display_data"
        },
        {
          "data": {
            "text/html": [
              "<div>\n",
              "<style scoped>\n",
              "    .dataframe tbody tr th:only-of-type {\n",
              "        vertical-align: middle;\n",
              "    }\n",
              "\n",
              "    .dataframe tbody tr th {\n",
              "        vertical-align: top;\n",
              "    }\n",
              "\n",
              "    .dataframe thead th {\n",
              "        text-align: right;\n",
              "    }\n",
              "</style>\n",
              "<table border=\"1\" class=\"dataframe\">\n",
              "  <thead>\n",
              "    <tr style=\"text-align: right;\">\n",
              "      <th></th>\n",
              "      <th>id</th>\n",
              "      <th>f0</th>\n",
              "      <th>f1</th>\n",
              "      <th>f2</th>\n",
              "      <th>product</th>\n",
              "    </tr>\n",
              "  </thead>\n",
              "  <tbody>\n",
              "    <tr>\n",
              "      <th>0</th>\n",
              "      <td>kBEdx</td>\n",
              "      <td>-15.001</td>\n",
              "      <td>-8.276</td>\n",
              "      <td>-0.006</td>\n",
              "      <td>3.179</td>\n",
              "    </tr>\n",
              "    <tr>\n",
              "      <th>1</th>\n",
              "      <td>62mP7</td>\n",
              "      <td>14.272</td>\n",
              "      <td>-3.475</td>\n",
              "      <td>0.999</td>\n",
              "      <td>26.953</td>\n",
              "    </tr>\n",
              "    <tr>\n",
              "      <th>2</th>\n",
              "      <td>vyE1P</td>\n",
              "      <td>6.263</td>\n",
              "      <td>-5.948</td>\n",
              "      <td>5.001</td>\n",
              "      <td>134.766</td>\n",
              "    </tr>\n",
              "    <tr>\n",
              "      <th>3</th>\n",
              "      <td>KcrkZ</td>\n",
              "      <td>-13.081</td>\n",
              "      <td>-11.506</td>\n",
              "      <td>4.999</td>\n",
              "      <td>137.945</td>\n",
              "    </tr>\n",
              "    <tr>\n",
              "      <th>4</th>\n",
              "      <td>AHL4O</td>\n",
              "      <td>12.702</td>\n",
              "      <td>-8.147</td>\n",
              "      <td>5.004</td>\n",
              "      <td>134.766</td>\n",
              "    </tr>\n",
              "  </tbody>\n",
              "</table>\n",
              "</div>"
            ],
            "text/plain": [
              "      id      f0      f1     f2  product\n",
              "0  kBEdx -15.001  -8.276 -0.006    3.179\n",
              "1  62mP7  14.272  -3.475  0.999   26.953\n",
              "2  vyE1P   6.263  -5.948  5.001  134.766\n",
              "3  KcrkZ -13.081 -11.506  4.999  137.945\n",
              "4  AHL4O  12.702  -8.147  5.004  134.766"
            ]
          },
          "metadata": {},
          "output_type": "display_data"
        },
        {
          "data": {
            "text/html": [
              "<div>\n",
              "<style scoped>\n",
              "    .dataframe tbody tr th:only-of-type {\n",
              "        vertical-align: middle;\n",
              "    }\n",
              "\n",
              "    .dataframe tbody tr th {\n",
              "        vertical-align: top;\n",
              "    }\n",
              "\n",
              "    .dataframe thead th {\n",
              "        text-align: right;\n",
              "    }\n",
              "</style>\n",
              "<table border=\"1\" class=\"dataframe\">\n",
              "  <thead>\n",
              "    <tr style=\"text-align: right;\">\n",
              "      <th></th>\n",
              "      <th>id</th>\n",
              "      <th>f0</th>\n",
              "      <th>f1</th>\n",
              "      <th>f2</th>\n",
              "      <th>product</th>\n",
              "    </tr>\n",
              "  </thead>\n",
              "  <tbody>\n",
              "    <tr>\n",
              "      <th>0</th>\n",
              "      <td>fwXo0</td>\n",
              "      <td>-1.147</td>\n",
              "      <td>0.963</td>\n",
              "      <td>-0.829</td>\n",
              "      <td>27.759</td>\n",
              "    </tr>\n",
              "    <tr>\n",
              "      <th>1</th>\n",
              "      <td>WJtFt</td>\n",
              "      <td>0.263</td>\n",
              "      <td>0.270</td>\n",
              "      <td>-2.530</td>\n",
              "      <td>56.070</td>\n",
              "    </tr>\n",
              "    <tr>\n",
              "      <th>2</th>\n",
              "      <td>ovLUW</td>\n",
              "      <td>0.195</td>\n",
              "      <td>0.289</td>\n",
              "      <td>-5.586</td>\n",
              "      <td>62.872</td>\n",
              "    </tr>\n",
              "    <tr>\n",
              "      <th>3</th>\n",
              "      <td>q6cA6</td>\n",
              "      <td>2.236</td>\n",
              "      <td>-0.554</td>\n",
              "      <td>0.930</td>\n",
              "      <td>114.573</td>\n",
              "    </tr>\n",
              "    <tr>\n",
              "      <th>4</th>\n",
              "      <td>WPMUX</td>\n",
              "      <td>-0.516</td>\n",
              "      <td>1.716</td>\n",
              "      <td>5.899</td>\n",
              "      <td>149.601</td>\n",
              "    </tr>\n",
              "  </tbody>\n",
              "</table>\n",
              "</div>"
            ],
            "text/plain": [
              "      id     f0     f1     f2  product\n",
              "0  fwXo0 -1.147  0.963 -0.829   27.759\n",
              "1  WJtFt  0.263  0.270 -2.530   56.070\n",
              "2  ovLUW  0.195  0.289 -5.586   62.872\n",
              "3  q6cA6  2.236 -0.554  0.930  114.573\n",
              "4  WPMUX -0.516  1.716  5.899  149.601"
            ]
          },
          "metadata": {},
          "output_type": "display_data"
        }
      ],
      "source": [
        "data_0 = pd.read_csv('/datasets/geo_data_0.csv')\n",
        "data_1 = pd.read_csv('/datasets/geo_data_1.csv')\n",
        "data_2 = pd.read_csv('/datasets/geo_data_2.csv')\n",
        "display(data_0.head())\n",
        "display(data_1.head())\n",
        "display(data_2.head())"
      ]
    },
    {
      "cell_type": "markdown",
      "metadata": {
        "id": "FqMfEpQ5WJcp"
      },
      "source": [
        "*Изучим основную информацию.*"
      ]
    },
    {
      "cell_type": "code",
      "execution_count": null,
      "metadata": {
        "id": "OuWQrWCiWJcq",
        "outputId": "84c3770f-4ce0-4a7b-ad68-f61cb65c8f23"
      },
      "outputs": [
        {
          "name": "stdout",
          "output_type": "stream",
          "text": [
            "<class 'pandas.core.frame.DataFrame'>\n",
            "RangeIndex: 100000 entries, 0 to 99999\n",
            "Data columns (total 5 columns):\n",
            " #   Column   Non-Null Count   Dtype  \n",
            "---  ------   --------------   -----  \n",
            " 0   id       100000 non-null  object \n",
            " 1   f0       100000 non-null  float64\n",
            " 2   f1       100000 non-null  float64\n",
            " 3   f2       100000 non-null  float64\n",
            " 4   product  100000 non-null  float64\n",
            "dtypes: float64(4), object(1)\n",
            "memory usage: 3.8+ MB\n"
          ]
        },
        {
          "data": {
            "text/plain": [
              "None"
            ]
          },
          "metadata": {},
          "output_type": "display_data"
        },
        {
          "name": "stdout",
          "output_type": "stream",
          "text": [
            "<class 'pandas.core.frame.DataFrame'>\n",
            "RangeIndex: 100000 entries, 0 to 99999\n",
            "Data columns (total 5 columns):\n",
            " #   Column   Non-Null Count   Dtype  \n",
            "---  ------   --------------   -----  \n",
            " 0   id       100000 non-null  object \n",
            " 1   f0       100000 non-null  float64\n",
            " 2   f1       100000 non-null  float64\n",
            " 3   f2       100000 non-null  float64\n",
            " 4   product  100000 non-null  float64\n",
            "dtypes: float64(4), object(1)\n",
            "memory usage: 3.8+ MB\n"
          ]
        },
        {
          "data": {
            "text/plain": [
              "None"
            ]
          },
          "metadata": {},
          "output_type": "display_data"
        },
        {
          "name": "stdout",
          "output_type": "stream",
          "text": [
            "<class 'pandas.core.frame.DataFrame'>\n",
            "RangeIndex: 100000 entries, 0 to 99999\n",
            "Data columns (total 5 columns):\n",
            " #   Column   Non-Null Count   Dtype  \n",
            "---  ------   --------------   -----  \n",
            " 0   id       100000 non-null  object \n",
            " 1   f0       100000 non-null  float64\n",
            " 2   f1       100000 non-null  float64\n",
            " 3   f2       100000 non-null  float64\n",
            " 4   product  100000 non-null  float64\n",
            "dtypes: float64(4), object(1)\n",
            "memory usage: 3.8+ MB\n"
          ]
        },
        {
          "data": {
            "text/plain": [
              "None"
            ]
          },
          "metadata": {},
          "output_type": "display_data"
        }
      ],
      "source": [
        "display(data_0.info())\n",
        "display(data_1.info())\n",
        "display(data_2.info())"
      ]
    },
    {
      "cell_type": "markdown",
      "metadata": {
        "id": "nmU4jBvMWJcs"
      },
      "source": [
        "*Посмотрим основные статистические показатели данных.*"
      ]
    },
    {
      "cell_type": "code",
      "execution_count": null,
      "metadata": {
        "id": "LQZDBITeWJcs",
        "outputId": "3479c7ef-7ad2-476e-e81a-808779bb8d60"
      },
      "outputs": [
        {
          "name": "stdout",
          "output_type": "stream",
          "text": [
            "Data_0 describe:\n"
          ]
        },
        {
          "data": {
            "text/html": [
              "<div>\n",
              "<style scoped>\n",
              "    .dataframe tbody tr th:only-of-type {\n",
              "        vertical-align: middle;\n",
              "    }\n",
              "\n",
              "    .dataframe tbody tr th {\n",
              "        vertical-align: top;\n",
              "    }\n",
              "\n",
              "    .dataframe thead th {\n",
              "        text-align: right;\n",
              "    }\n",
              "</style>\n",
              "<table border=\"1\" class=\"dataframe\">\n",
              "  <thead>\n",
              "    <tr style=\"text-align: right;\">\n",
              "      <th></th>\n",
              "      <th>f0</th>\n",
              "      <th>f1</th>\n",
              "      <th>f2</th>\n",
              "      <th>product</th>\n",
              "    </tr>\n",
              "  </thead>\n",
              "  <tbody>\n",
              "    <tr>\n",
              "      <th>count</th>\n",
              "      <td>100000.000</td>\n",
              "      <td>100000.000</td>\n",
              "      <td>100000.000</td>\n",
              "      <td>100000.000</td>\n",
              "    </tr>\n",
              "    <tr>\n",
              "      <th>mean</th>\n",
              "      <td>0.500</td>\n",
              "      <td>0.250</td>\n",
              "      <td>2.503</td>\n",
              "      <td>92.500</td>\n",
              "    </tr>\n",
              "    <tr>\n",
              "      <th>std</th>\n",
              "      <td>0.872</td>\n",
              "      <td>0.504</td>\n",
              "      <td>3.248</td>\n",
              "      <td>44.289</td>\n",
              "    </tr>\n",
              "    <tr>\n",
              "      <th>min</th>\n",
              "      <td>-1.409</td>\n",
              "      <td>-0.848</td>\n",
              "      <td>-12.088</td>\n",
              "      <td>0.000</td>\n",
              "    </tr>\n",
              "    <tr>\n",
              "      <th>25%</th>\n",
              "      <td>-0.073</td>\n",
              "      <td>-0.201</td>\n",
              "      <td>0.288</td>\n",
              "      <td>56.498</td>\n",
              "    </tr>\n",
              "    <tr>\n",
              "      <th>50%</th>\n",
              "      <td>0.502</td>\n",
              "      <td>0.250</td>\n",
              "      <td>2.516</td>\n",
              "      <td>91.850</td>\n",
              "    </tr>\n",
              "    <tr>\n",
              "      <th>75%</th>\n",
              "      <td>1.074</td>\n",
              "      <td>0.701</td>\n",
              "      <td>4.715</td>\n",
              "      <td>128.564</td>\n",
              "    </tr>\n",
              "    <tr>\n",
              "      <th>max</th>\n",
              "      <td>2.362</td>\n",
              "      <td>1.344</td>\n",
              "      <td>16.004</td>\n",
              "      <td>185.364</td>\n",
              "    </tr>\n",
              "  </tbody>\n",
              "</table>\n",
              "</div>"
            ],
            "text/plain": [
              "              f0         f1         f2    product\n",
              "count 100000.000 100000.000 100000.000 100000.000\n",
              "mean       0.500      0.250      2.503     92.500\n",
              "std        0.872      0.504      3.248     44.289\n",
              "min       -1.409     -0.848    -12.088      0.000\n",
              "25%       -0.073     -0.201      0.288     56.498\n",
              "50%        0.502      0.250      2.516     91.850\n",
              "75%        1.074      0.701      4.715    128.564\n",
              "max        2.362      1.344     16.004    185.364"
            ]
          },
          "metadata": {},
          "output_type": "display_data"
        },
        {
          "name": "stdout",
          "output_type": "stream",
          "text": [
            "Data_1 describe:\n"
          ]
        },
        {
          "data": {
            "text/html": [
              "<div>\n",
              "<style scoped>\n",
              "    .dataframe tbody tr th:only-of-type {\n",
              "        vertical-align: middle;\n",
              "    }\n",
              "\n",
              "    .dataframe tbody tr th {\n",
              "        vertical-align: top;\n",
              "    }\n",
              "\n",
              "    .dataframe thead th {\n",
              "        text-align: right;\n",
              "    }\n",
              "</style>\n",
              "<table border=\"1\" class=\"dataframe\">\n",
              "  <thead>\n",
              "    <tr style=\"text-align: right;\">\n",
              "      <th></th>\n",
              "      <th>f0</th>\n",
              "      <th>f1</th>\n",
              "      <th>f2</th>\n",
              "      <th>product</th>\n",
              "    </tr>\n",
              "  </thead>\n",
              "  <tbody>\n",
              "    <tr>\n",
              "      <th>count</th>\n",
              "      <td>100000.000</td>\n",
              "      <td>100000.000</td>\n",
              "      <td>100000.000</td>\n",
              "      <td>100000.000</td>\n",
              "    </tr>\n",
              "    <tr>\n",
              "      <th>mean</th>\n",
              "      <td>1.141</td>\n",
              "      <td>-4.797</td>\n",
              "      <td>2.495</td>\n",
              "      <td>68.825</td>\n",
              "    </tr>\n",
              "    <tr>\n",
              "      <th>std</th>\n",
              "      <td>8.966</td>\n",
              "      <td>5.120</td>\n",
              "      <td>1.704</td>\n",
              "      <td>45.944</td>\n",
              "    </tr>\n",
              "    <tr>\n",
              "      <th>min</th>\n",
              "      <td>-31.610</td>\n",
              "      <td>-26.359</td>\n",
              "      <td>-0.018</td>\n",
              "      <td>0.000</td>\n",
              "    </tr>\n",
              "    <tr>\n",
              "      <th>25%</th>\n",
              "      <td>-6.299</td>\n",
              "      <td>-8.268</td>\n",
              "      <td>1.000</td>\n",
              "      <td>26.953</td>\n",
              "    </tr>\n",
              "    <tr>\n",
              "      <th>50%</th>\n",
              "      <td>1.153</td>\n",
              "      <td>-4.813</td>\n",
              "      <td>2.011</td>\n",
              "      <td>57.086</td>\n",
              "    </tr>\n",
              "    <tr>\n",
              "      <th>75%</th>\n",
              "      <td>8.621</td>\n",
              "      <td>-1.333</td>\n",
              "      <td>4.000</td>\n",
              "      <td>107.813</td>\n",
              "    </tr>\n",
              "    <tr>\n",
              "      <th>max</th>\n",
              "      <td>29.422</td>\n",
              "      <td>18.734</td>\n",
              "      <td>5.020</td>\n",
              "      <td>137.945</td>\n",
              "    </tr>\n",
              "  </tbody>\n",
              "</table>\n",
              "</div>"
            ],
            "text/plain": [
              "              f0         f1         f2    product\n",
              "count 100000.000 100000.000 100000.000 100000.000\n",
              "mean       1.141     -4.797      2.495     68.825\n",
              "std        8.966      5.120      1.704     45.944\n",
              "min      -31.610    -26.359     -0.018      0.000\n",
              "25%       -6.299     -8.268      1.000     26.953\n",
              "50%        1.153     -4.813      2.011     57.086\n",
              "75%        8.621     -1.333      4.000    107.813\n",
              "max       29.422     18.734      5.020    137.945"
            ]
          },
          "metadata": {},
          "output_type": "display_data"
        },
        {
          "name": "stdout",
          "output_type": "stream",
          "text": [
            "Data_2 describe:\n"
          ]
        },
        {
          "data": {
            "text/html": [
              "<div>\n",
              "<style scoped>\n",
              "    .dataframe tbody tr th:only-of-type {\n",
              "        vertical-align: middle;\n",
              "    }\n",
              "\n",
              "    .dataframe tbody tr th {\n",
              "        vertical-align: top;\n",
              "    }\n",
              "\n",
              "    .dataframe thead th {\n",
              "        text-align: right;\n",
              "    }\n",
              "</style>\n",
              "<table border=\"1\" class=\"dataframe\">\n",
              "  <thead>\n",
              "    <tr style=\"text-align: right;\">\n",
              "      <th></th>\n",
              "      <th>f0</th>\n",
              "      <th>f1</th>\n",
              "      <th>f2</th>\n",
              "      <th>product</th>\n",
              "    </tr>\n",
              "  </thead>\n",
              "  <tbody>\n",
              "    <tr>\n",
              "      <th>count</th>\n",
              "      <td>100000.000</td>\n",
              "      <td>100000.000</td>\n",
              "      <td>100000.000</td>\n",
              "      <td>100000.000</td>\n",
              "    </tr>\n",
              "    <tr>\n",
              "      <th>mean</th>\n",
              "      <td>0.002</td>\n",
              "      <td>-0.002</td>\n",
              "      <td>2.495</td>\n",
              "      <td>95.000</td>\n",
              "    </tr>\n",
              "    <tr>\n",
              "      <th>std</th>\n",
              "      <td>1.732</td>\n",
              "      <td>1.730</td>\n",
              "      <td>3.473</td>\n",
              "      <td>44.750</td>\n",
              "    </tr>\n",
              "    <tr>\n",
              "      <th>min</th>\n",
              "      <td>-8.760</td>\n",
              "      <td>-7.084</td>\n",
              "      <td>-11.970</td>\n",
              "      <td>0.000</td>\n",
              "    </tr>\n",
              "    <tr>\n",
              "      <th>25%</th>\n",
              "      <td>-1.162</td>\n",
              "      <td>-1.175</td>\n",
              "      <td>0.130</td>\n",
              "      <td>59.450</td>\n",
              "    </tr>\n",
              "    <tr>\n",
              "      <th>50%</th>\n",
              "      <td>0.009</td>\n",
              "      <td>-0.009</td>\n",
              "      <td>2.484</td>\n",
              "      <td>94.926</td>\n",
              "    </tr>\n",
              "    <tr>\n",
              "      <th>75%</th>\n",
              "      <td>1.159</td>\n",
              "      <td>1.164</td>\n",
              "      <td>4.859</td>\n",
              "      <td>130.595</td>\n",
              "    </tr>\n",
              "    <tr>\n",
              "      <th>max</th>\n",
              "      <td>7.238</td>\n",
              "      <td>7.845</td>\n",
              "      <td>16.739</td>\n",
              "      <td>190.030</td>\n",
              "    </tr>\n",
              "  </tbody>\n",
              "</table>\n",
              "</div>"
            ],
            "text/plain": [
              "              f0         f1         f2    product\n",
              "count 100000.000 100000.000 100000.000 100000.000\n",
              "mean       0.002     -0.002      2.495     95.000\n",
              "std        1.732      1.730      3.473     44.750\n",
              "min       -8.760     -7.084    -11.970      0.000\n",
              "25%       -1.162     -1.175      0.130     59.450\n",
              "50%        0.009     -0.009      2.484     94.926\n",
              "75%        1.159      1.164      4.859    130.595\n",
              "max        7.238      7.845     16.739    190.030"
            ]
          },
          "metadata": {},
          "output_type": "display_data"
        }
      ],
      "source": [
        "print('Data_0 describe:')\n",
        "display(data_0.describe())\n",
        "print('Data_1 describe:')\n",
        "display(data_1.describe())\n",
        "print('Data_2 describe:')\n",
        "display(data_2.describe())"
      ]
    },
    {
      "cell_type": "markdown",
      "metadata": {
        "id": "UOYKAZxGWJcu"
      },
      "source": [
        "*Построим матрицу корреляций.*"
      ]
    },
    {
      "cell_type": "code",
      "execution_count": null,
      "metadata": {
        "id": "o4qoMLDnWJcu",
        "outputId": "26e8a0c6-c6fa-46f3-9af4-f9182b2f20b0"
      },
      "outputs": [
        {
          "data": {
            "image/png": "[encoded data removed]",
            "text/plain": [
              "<Figure size 432x432 with 1 Axes>"
            ]
          },
          "metadata": {
            "needs_background": "light"
          },
          "output_type": "display_data"
        }
      ],
      "source": [
        "plt.figure(figsize=(6, 6))\n",
        "sns.heatmap(data_0.corr(), annot=True, cmap='YlGnBu', cbar=False, robust=True, linewidths=.2)\n",
        "plt.show()"
      ]
    },
    {
      "cell_type": "code",
      "execution_count": null,
      "metadata": {
        "id": "1CI3A5aoWJcv",
        "outputId": "bcc12ca0-6a8e-4312-ea6c-7fa2eeea0347"
      },
      "outputs": [
        {
          "data": {
            "image/png": "[encoded data removed]",
            "text/plain": [
              "<Figure size 432x432 with 1 Axes>"
            ]
          },
          "metadata": {
            "needs_background": "light"
          },
          "output_type": "display_data"
        }
      ],
      "source": [
        "plt.figure(figsize=(6, 6))\n",
        "sns.heatmap(data_1.corr(), annot=True, cmap='YlGnBu', cbar=False, robust=True, linewidths=.2)\n",
        "plt.show()"
      ]
    },
    {
      "cell_type": "code",
      "execution_count": null,
      "metadata": {
        "id": "4ZGj8BA3WJcw",
        "outputId": "03b5b8bc-6f56-41d7-c33b-b20ee2cfbd70"
      },
      "outputs": [
        {
          "data": {
            "image/png": "[encoded data removed]",
            "text/plain": [
              "<Figure size 432x432 with 1 Axes>"
            ]
          },
          "metadata": {
            "needs_background": "light"
          },
          "output_type": "display_data"
        }
      ],
      "source": [
        "plt.figure(figsize=(6, 6))\n",
        "sns.heatmap(data_2.corr(), annot=True, cmap='YlGnBu', cbar=False, robust=True, linewidths=.2)\n",
        "plt.show()"
      ]
    },
    {
      "cell_type": "markdown",
      "metadata": {
        "id": "EVC9-YjEWJcy"
      },
      "source": [
        "*Корреляции между признаками практически нет. Во втором регионе есть прямая корреляция от признака. Данная ситуация допустима и говорит о том, что объем добываемой нефти в этом регионе напрямую зависит от признака f2.*"
      ]
    },
    {
      "cell_type": "markdown",
      "metadata": {
        "id": "t-6JbzggWJcz"
      },
      "source": [
        "*Проверим данные на пропущенные значения.*"
      ]
    },
    {
      "cell_type": "code",
      "execution_count": null,
      "metadata": {
        "id": "5BxnEpMzWJc0",
        "outputId": "98846337-3533-472c-d348-5834bd5eb2b1"
      },
      "outputs": [
        {
          "data": {
            "text/plain": [
              "(id         0\n",
              " f0         0\n",
              " f1         0\n",
              " f2         0\n",
              " product    0\n",
              " dtype: int64,\n",
              " id         0\n",
              " f0         0\n",
              " f1         0\n",
              " f2         0\n",
              " product    0\n",
              " dtype: int64,\n",
              " id         0\n",
              " f0         0\n",
              " f1         0\n",
              " f2         0\n",
              " product    0\n",
              " dtype: int64)"
            ]
          },
          "execution_count": 8,
          "metadata": {},
          "output_type": "execute_result"
        }
      ],
      "source": [
        "data_0.isna().sum(), data_1.isna().sum(), data_2.isna().sum()"
      ]
    },
    {
      "cell_type": "markdown",
      "metadata": {
        "id": "Uh348CSbWJc1"
      },
      "source": [
        "*Проверим данные на дубликаты.*"
      ]
    },
    {
      "cell_type": "code",
      "execution_count": null,
      "metadata": {
        "id": "Zt6KXvg8WJc1",
        "outputId": "b1771593-3245-456c-cd57-09e56ee4a1b9"
      },
      "outputs": [
        {
          "data": {
            "text/plain": [
              "(0, 0, 0)"
            ]
          },
          "execution_count": 9,
          "metadata": {},
          "output_type": "execute_result"
        }
      ],
      "source": [
        "data_0.duplicated().sum(), data_1.duplicated().sum(), data_2.duplicated().sum()"
      ]
    },
    {
      "cell_type": "markdown",
      "metadata": {
        "id": "rLZHBFaRWJc2"
      },
      "source": [
        "*Для нашей задачи столбец 'id' не потребуется. Удалим его из каждой таблицы.*"
      ]
    },
    {
      "cell_type": "code",
      "execution_count": null,
      "metadata": {
        "id": "ydQ5Al8EWJc3"
      },
      "outputs": [],
      "source": [
        "data_0 = data_0.drop('id', axis=1)\n",
        "data_1 = data_1.drop('id', axis=1)\n",
        "data_2 = data_2.drop('id', axis=1)"
      ]
    },
    {
      "cell_type": "markdown",
      "metadata": {
        "id": "xjJMB5TSWJc3"
      },
      "source": [
        "**Вывод:**\n",
        "* В представленных данных отсутствуют пропуски.\n",
        "* Корреляции между признаками практически нет.\n",
        "* Удален столбец 'id' из таблиц, так как он не потребуется для дальнейшего анализа и обучения.\n",
        "* Дубликаты в данных отсутствуют.\n",
        "* Данные готовы для разделения на выборки и последующего обучения."
      ]
    },
    {
      "cell_type": "markdown",
      "metadata": {
        "id": "yc6abTptWJc6"
      },
      "source": [
        "## Обучение и проверка модели"
      ]
    },
    {
      "cell_type": "markdown",
      "metadata": {
        "id": "_CXePetzWJc6"
      },
      "source": [
        "### Разбьём данные на обучающую и валидационную выборки для каждого региона в соотношении 75:25."
      ]
    },
    {
      "cell_type": "markdown",
      "metadata": {
        "id": "m1U9L9v4WJc7"
      },
      "source": [
        "*Напишем функцию для разбивки данных на обучающие и валидационные выборки.*"
      ]
    },
    {
      "cell_type": "code",
      "execution_count": null,
      "metadata": {
        "id": "4A4WuZ7iWJc8"
      },
      "outputs": [],
      "source": [
        "def split_data(data, target):\n",
        "    features = data.drop([target], axis=1)\n",
        "    target = data[target]\n",
        "\n",
        "    features_train, features_valid, target_train, target_valid = train_test_split(\n",
        "    features, target, test_size=0.25, random_state=12345)\n",
        "\n",
        "    return features_train, features_valid, target_train, target_valid"
      ]
    },
    {
      "cell_type": "markdown",
      "metadata": {
        "id": "gzPmb1irWJc-"
      },
      "source": [
        "*Получим features и target для 3-х регионов.*"
      ]
    },
    {
      "cell_type": "code",
      "execution_count": null,
      "metadata": {
        "id": "RHcXM9pTWJc-",
        "outputId": "0cd5e01c-37af-4d94-a51a-6040c5d7c19d"
      },
      "outputs": [
        {
          "name": "stdout",
          "output_type": "stream",
          "text": [
            "Размер обучающей выборки для первого региона (75000, 3) (75000,)\n",
            "Размер валидационной выборки для первого региона (25000, 3) (25000,)\n",
            "\n",
            "Размер обучающей выборки для второго региона (75000, 3) (75000,)\n",
            "Размер валидационной выборки для второго региона (25000, 3) (25000,)\n",
            "\n",
            "Размер обучающей выборки для третьего региона (75000, 3) (75000,)\n",
            "Размер валидационной выборки для третьего региона (25000, 3) (25000,)\n"
          ]
        }
      ],
      "source": [
        "features_train_0, features_valid_0, target_train_0, target_valid_0 = split_data(data_0, 'product')\n",
        "print('Размер обучающей выборки для первого региона',\\\n",
        "     features_train_0.shape,\\\n",
        "     target_train_0.shape)\n",
        "print('Размер валидационной выборки для первого региона',\\\n",
        "     features_valid_0.shape,\\\n",
        "     target_valid_0.shape)\n",
        "print()\n",
        "features_train_1, features_valid_1, target_train_1, target_valid_1 = split_data(data_1, 'product')\n",
        "print('Размер обучающей выборки для второго региона',\\\n",
        "     features_train_1.shape,\\\n",
        "     target_train_1.shape)\n",
        "print('Размер валидационной выборки для второго региона',\\\n",
        "     features_valid_1.shape,\\\n",
        "     target_valid_1.shape)\n",
        "print()\n",
        "features_train_2, features_valid_2, target_train_2, target_valid_2 = split_data(data_2, 'product')\n",
        "print('Размер обучающей выборки для третьего региона',\\\n",
        "     features_train_2.shape,\\\n",
        "     target_train_2.shape)\n",
        "print('Размер валидационной выборки для третьего региона',\\\n",
        "     features_valid_2.shape,\\\n",
        "     target_valid_2.shape)"
      ]
    },
    {
      "cell_type": "markdown",
      "metadata": {
        "id": "qmqX9Mg4WJdA"
      },
      "source": [
        "*Проверим необходимость масштабирования признаков.*"
      ]
    },
    {
      "cell_type": "code",
      "execution_count": null,
      "metadata": {
        "id": "tBn4TFDuWJdB",
        "outputId": "ad07ac6c-9938-44ef-cc7a-3c5864072263"
      },
      "outputs": [
        {
          "name": "stdout",
          "output_type": "stream",
          "text": [
            "Немасштабированные данные RMSE: 37.579\n"
          ]
        }
      ],
      "source": [
        "model = LinearRegression() # инициализируем модель LinearRegression\n",
        "\n",
        "model.fit(features_train_0, target_train_0)\n",
        "predicted_target_0 = model.predict(features_valid_0)\n",
        "print('Немасштабированные данные RMSE: {:.3f}'.format(mean_squared_error(target_valid_0, predicted_target_0)**0.5))"
      ]
    },
    {
      "cell_type": "code",
      "execution_count": null,
      "metadata": {
        "id": "aZ7Q7OWGWJdC",
        "outputId": "af99d581-1b52-4b95-a68c-18b366d8ecaf"
      },
      "outputs": [
        {
          "name": "stdout",
          "output_type": "stream",
          "text": [
            "Масштабированные данные RMSE: 37.579\n"
          ]
        }
      ],
      "source": [
        "features_train_0m, features_valid_0m, target_train_0m, target_valid_0m = split_data(data_0, 'product')\n",
        "\n",
        "numeric = ['f0', 'f1', 'f2']\n",
        "scaler = StandardScaler()\n",
        "scaler.fit(features_train_0m[numeric])\n",
        "features_train_0m[numeric] = scaler.transform(features_train_0m[numeric])\n",
        "features_valid_0m[numeric] = scaler.transform(features_valid_0m[numeric])\n",
        "\n",
        "model.fit(features_train_0m, target_train_0m)\n",
        "predicted_target_0m = model.predict(features_valid_0m)\n",
        "\n",
        "print('Масштабированные данные RMSE: {:.3f}'.format(mean_squared_error(target_valid_0m, predicted_target_0m)**0.5))"
      ]
    },
    {
      "cell_type": "markdown",
      "metadata": {
        "id": "Uhm5qODFWJdE"
      },
      "source": [
        "*Одинаковые метрики RMSE масштабированных и немасштабированных данных говорят о том, что в масштабировании признаков модели нет необходимости.*"
      ]
    },
    {
      "cell_type": "markdown",
      "metadata": {
        "id": "rsIy7IdgWJeE"
      },
      "source": [
        "### Обучим модель и сделаем предсказания на валидационной выборке."
      ]
    },
    {
      "cell_type": "code",
      "execution_count": null,
      "metadata": {
        "id": "RHAHafXIWJeF"
      },
      "outputs": [],
      "source": [
        "#функция для обучения и предсказания модели.\n",
        "def model_prediction(features_train, features_valid, target_train, target_valid):\n",
        "\n",
        "    model.fit(features_train, target_train) # обучаем модель на тренировочной выборке\n",
        "    predicted_valid = model.predict(features_valid) # получаем предсказания модели на валидационной выборке\n",
        "    rmse = mean_squared_error(target_valid, predicted_valid)**0.5 # считаем значение метрики RMSE на валидационной выборке\n",
        "    mean_product = predicted_valid.mean()\n",
        "\n",
        "    return predicted_valid, rmse, mean_product,"
      ]
    },
    {
      "cell_type": "markdown",
      "metadata": {
        "id": "1NN8yRNCWJeG"
      },
      "source": [
        "### Сохраним предсказания и правильные ответы на валидационной выборке."
      ]
    },
    {
      "cell_type": "code",
      "execution_count": null,
      "metadata": {
        "id": "WptOiTS1WJeH"
      },
      "outputs": [],
      "source": [
        "# получим данные для всех регионов\n",
        "predicted_valid_0, rmse_0, mean_product_0 = model_prediction(features_train_0, features_valid_0, target_train_0, target_valid_0)\n",
        "predicted_valid_1, rmse_1, mean_product_1 = model_prediction(features_train_1, features_valid_1, target_train_1, target_valid_1)\n",
        "predicted_valid_2, rmse_2, mean_product_2 = model_prediction(features_train_2, features_valid_2, target_train_2, target_valid_2)"
      ]
    },
    {
      "cell_type": "markdown",
      "metadata": {
        "id": "2I0odncJWJeI"
      },
      "source": [
        "### Напечатаем на экране средний запас истинного, предсказанного сырья и RMSE модели."
      ]
    },
    {
      "cell_type": "markdown",
      "metadata": {
        "id": "-8GiiWC2WJeJ"
      },
      "source": [
        "*Оценим истинные, предсказанные средние запасы и RMSE по регионам и сведем в таблицу для наглядности.*"
      ]
    },
    {
      "cell_type": "code",
      "execution_count": null,
      "metadata": {
        "id": "4_KWZrsNWJeK",
        "outputId": "bd9214ed-9f1d-41a9-b40c-dbfcd4ef204e"
      },
      "outputs": [
        {
          "data": {
            "text/html": [
              "<div>\n",
              "<style scoped>\n",
              "    .dataframe tbody tr th:only-of-type {\n",
              "        vertical-align: middle;\n",
              "    }\n",
              "\n",
              "    .dataframe tbody tr th {\n",
              "        vertical-align: top;\n",
              "    }\n",
              "\n",
              "    .dataframe thead th {\n",
              "        text-align: right;\n",
              "    }\n",
              "</style>\n",
              "<table border=\"1\" class=\"dataframe\">\n",
              "  <thead>\n",
              "    <tr style=\"text-align: right;\">\n",
              "      <th></th>\n",
              "      <th>real_target_mean</th>\n",
              "      <th>predict_target_mean</th>\n",
              "      <th>RMSE</th>\n",
              "    </tr>\n",
              "  </thead>\n",
              "  <tbody>\n",
              "    <tr>\n",
              "      <th>0</th>\n",
              "      <td>92.079</td>\n",
              "      <td>92.593</td>\n",
              "      <td>37.579</td>\n",
              "    </tr>\n",
              "    <tr>\n",
              "      <th>1</th>\n",
              "      <td>68.723</td>\n",
              "      <td>68.729</td>\n",
              "      <td>0.893</td>\n",
              "    </tr>\n",
              "    <tr>\n",
              "      <th>2</th>\n",
              "      <td>94.884</td>\n",
              "      <td>94.965</td>\n",
              "      <td>40.030</td>\n",
              "    </tr>\n",
              "  </tbody>\n",
              "</table>\n",
              "</div>"
            ],
            "text/plain": [
              "   real_target_mean  predict_target_mean   RMSE\n",
              "0            92.079               92.593 37.579\n",
              "1            68.723               68.729  0.893\n",
              "2            94.884               94.965 40.030"
            ]
          },
          "execution_count": 17,
          "metadata": {},
          "output_type": "execute_result"
        }
      ],
      "source": [
        "model_results = pd.DataFrame({'real_target_mean'        :[target_valid_0.mean(),     # истинные средние запасы\n",
        "                                                               target_valid_1.mean(),\n",
        "                                                               target_valid_2.mean()],\n",
        "                              'predict_target_mean'      : [mean_product_0.mean(),   # предсказанные средние запасы\n",
        "                                                                mean_product_1.mean(),\n",
        "                                                                mean_product_2.mean()],\n",
        "                              'RMSE'                         : [rmse_0,              # RMSE\n",
        "                                                                rmse_1,\n",
        "                                                                rmse_2],\n",
        "}\n",
        ")\n",
        "\n",
        "model_results\n"
      ]
    },
    {
      "cell_type": "markdown",
      "metadata": {
        "id": "9cZgnyOMWJeL"
      },
      "source": [
        "**Вывод:**\n",
        "\n",
        "* разбили данные на обучающую и валидационную выборки для каждого региона в соотношении 75:25\n",
        "* проверили необходимость масштабирования признаков - необходимости нет\n",
        "* инициировали модель линейной регрессии, обучили и получили предсказания\n",
        "* модель предсказывает значения, которые близки к истинным во всех трёх регионах\n",
        "* первый и третий регион наиболее перспективные по среднему предсказанному запасу сырья\n",
        "* минимальное значение RMSE получено для 2-го региона"
      ]
    },
    {
      "cell_type": "markdown",
      "metadata": {
        "id": "DxIAfi88WJeN"
      },
      "source": [
        "## Подготовка к расчёту прибыли"
      ]
    },
    {
      "cell_type": "markdown",
      "metadata": {
        "id": "bWczdSvKWJeO"
      },
      "source": [
        "### Сохраним все ключевые значения для расчётов в отдельных переменных."
      ]
    },
    {
      "cell_type": "code",
      "execution_count": null,
      "metadata": {
        "id": "rmKUudzXWJeO"
      },
      "outputs": [],
      "source": [
        "all_points = 500 # количество точек для исследования\n",
        "best_points = 200 # количество точек для разработки\n",
        "budget = 10**10 # бюджет на разработку скважин в регионе\n",
        "revenue_barrel = 450* 10**3 # доход с 1 тыс баррель\n",
        "loss_probability = 0.025 # максимальная вероятность убытков\n",
        "bootstrap_samples = 1000"
      ]
    },
    {
      "cell_type": "markdown",
      "metadata": {
        "id": "OjNEO_dVWJeP"
      },
      "source": [
        "### Рассчитаем достаточный объём сырья для безубыточной разработки новой скважины. Сравним полученный объём сырья со средним запасом в каждом регионе."
      ]
    },
    {
      "cell_type": "markdown",
      "metadata": {
        "id": "GyKURv2SWJeQ"
      },
      "source": [
        "*Рассчитаем объём сырья для безубыточной разработки новой скважины:*\n",
        "\n",
        "*1. Вычислим допустимые средние затраты на разработку одной скважины - разделим бюджет на количество скважин.*\n",
        "\n",
        "*2. Вычислим какое количество в тыс. баррель необходимо для покрытия затрат на одну скважину.*"
      ]
    },
    {
      "cell_type": "code",
      "execution_count": null,
      "metadata": {
        "id": "cMcn6JiZWJeR",
        "outputId": "89b450af-f3d6-404d-c512-e73bc8cd2636"
      },
      "outputs": [
        {
          "name": "stdout",
          "output_type": "stream",
          "text": [
            "Достаточный объём сырья для безубыточной разработки новой скважины 111.111 тыс. барелей\n"
          ]
        }
      ],
      "source": [
        "expenses_well_mean = budget/best_points\n",
        "breakeven_volume_well = expenses_well_mean/revenue_barrel\n",
        "print('Достаточный объём сырья для безубыточной разработки новой скважины {:.3f}'.format(breakeven_volume_well), 'тыс. барелей')\n"
      ]
    },
    {
      "cell_type": "markdown",
      "metadata": {
        "id": "-QM9_SlyWJeS"
      },
      "source": [
        "*Сравним объём сырья для безубыточной торговли со средним запасом в каждом регионе.*"
      ]
    },
    {
      "cell_type": "code",
      "execution_count": null,
      "metadata": {
        "id": "l0mlFQAaWJeT",
        "outputId": "aff7113c-585d-4763-f7fc-174a7d9f5e31"
      },
      "outputs": [
        {
          "name": "stdout",
          "output_type": "stream",
          "text": [
            "Объём сырья в [0] регионе недостаточен для безубыточной торговли.\n",
            "Разница объёма сырья составляет: -19.033 тыс. барелей\n",
            "\n",
            "Объём сырья в [1] регионе недостаточен для безубыточной торговли.\n",
            "Разница объёма сырья составляет: -42.388 тыс. барелей\n",
            "\n",
            "Объём сырья в [2] регионе недостаточен для безубыточной торговли.\n",
            "Разница объёма сырья составляет: -16.227 тыс. барелей\n",
            "\n"
          ]
        }
      ],
      "source": [
        "for i in model_results['real_target_mean']:\n",
        "    if i < breakeven_volume_well:\n",
        "        print('Объём сырья в', model_results.index[model_results['real_target_mean']==i].tolist(),\\\n",
        "              'регионе недостаточен для безубыточной торговли.')\n",
        "        print('Разница объёма сырья составляет: {:.3f}'.format(i-breakeven_volume_well), 'тыс. барелей',)\n",
        "        print()\n",
        "    else:\n",
        "        print('Объём сырья в', model_results.index[model_results['real_target_mean']==i].tolist(),\\\n",
        "              'регионе достаточен для безубыточной торговли.')"
      ]
    },
    {
      "cell_type": "markdown",
      "metadata": {
        "id": "mmX1oVJ8WJeU"
      },
      "source": [
        "### Выводы по этапу подготовки расчёта прибыли."
      ]
    },
    {
      "cell_type": "markdown",
      "metadata": {
        "id": "HMcgVNRdWJeU"
      },
      "source": [
        "* Рассчитали достаточный объём сырья для безубыточной разработки новой скважины: 111.111 тыс. барелей.\n",
        "* Объём сырья во всех трёх регионах недостаточен для безубыточной торговли.\n",
        "* После проведения рассчетов достаточного объёма сырья для безубыточной разработки новой скважины и сравнения со средними значением запасов по трём регионам пришли к выводу, что высока доля риска неокупаемости затраченного бюджета при разработке скважин, выбранных случайным образом.\n",
        "* Наименьшая разница объема сырья у третьего региона, наибольшая у второго."
      ]
    },
    {
      "cell_type": "markdown",
      "metadata": {
        "id": "G2kMy47yWJeW"
      },
      "source": [
        "## Расчёт прибыли и рисков"
      ]
    },
    {
      "cell_type": "markdown",
      "metadata": {
        "id": "wVAm7Bn4WJeX"
      },
      "source": [
        "### Выберем скважины с максимальными значениями предсказаний."
      ]
    },
    {
      "cell_type": "code",
      "execution_count": null,
      "metadata": {
        "id": "jLw4rU7NWJeX"
      },
      "outputs": [],
      "source": [
        "def revenue (target, probabilities, best_points):\n",
        "    target = pd.Series(target).reset_index(drop=True)\n",
        "    probabilities = pd.Series(probabilities).reset_index(drop=True)\n",
        "    # сортируем скважины с максимальным объемом нефти\n",
        "    pred_choice = probabilities.sort_values(ascending=False)\n",
        "    # определяем верные значения для отобранных случайных скважин и берем только нужное количество\n",
        "    target_choice = target[pred_choice.index][:best_points]\n",
        "    income = target_choice.sum() * revenue_barrel - budget # доход в млн. рублей\n",
        "    return income"
      ]
    },
    {
      "cell_type": "markdown",
      "metadata": {
        "id": "9dgGQzXtWJea"
      },
      "source": [
        "### Рассчитаем прибыль для полученного объёма сырья для каждого региона."
      ]
    },
    {
      "cell_type": "code",
      "execution_count": null,
      "metadata": {
        "id": "8tp8PswMWJea",
        "outputId": "25199c13-2558-48c8-946e-002cef65fd2f"
      },
      "outputs": [
        {
          "name": "stdout",
          "output_type": "stream",
          "text": [
            "Прибыль в с 200 выбранных по предсказаниям модели скважин составит:\n",
            "для региона 1: 3320826043.140 руб.\n",
            "для региона 2: 2415086696.682 руб.\n",
            "для региона 3: 2710349963.600 руб.\n"
          ]
        }
      ],
      "source": [
        "print('Прибыль в с 200 выбранных по предсказаниям модели скважин составит:')\n",
        "print('для региона 1: {:.3f} руб.'.format(revenue(target_valid_0, predicted_valid_0, best_points)))\n",
        "print('для региона 2: {:.3f} руб.'.format(revenue(target_valid_1, predicted_valid_1, best_points)))\n",
        "print('для региона 3: {:.3f} руб.'.format(revenue(target_valid_2, predicted_valid_2, best_points)))"
      ]
    },
    {
      "cell_type": "markdown",
      "metadata": {
        "id": "hc1n1NF_WJec"
      },
      "source": [
        "*Получили очень высокие значения прибыли для каждого региона. Данные значения мы можем получить, если проведем геолоразведку по всем точкам и выберем 200 лучших, что повлечет за собой большие затраты. Согласно требованиям заказчика мы можем провести геолоразведку только по 500 точкам.*"
      ]
    },
    {
      "cell_type": "markdown",
      "metadata": {
        "id": "03i2FxDJWJed"
      },
      "source": [
        "## Посчитаем риски и прибыль для каждого региона."
      ]
    },
    {
      "cell_type": "markdown",
      "metadata": {
        "id": "rSOmUlweWJed"
      },
      "source": [
        "### Применим технику Bootstrap с 1000 выборок, чтобы найти распределение прибыли."
      ]
    },
    {
      "cell_type": "markdown",
      "metadata": {
        "id": "gtcQ8o5JWJee"
      },
      "source": [
        "*Напишем функцию для расчета выручки для 500 случайных скважин, определим распределение прибыли с помощью техники Bootstrap для 1000 выборок. Определим среднюю выручку, доверительный интервал и риски.*"
      ]
    },
    {
      "cell_type": "code",
      "execution_count": null,
      "metadata": {
        "id": "ElF8EKepWJef"
      },
      "outputs": [],
      "source": [
        "def bootstrap(target_valid, predicted_valid, bootstrap_samples, all_points):\n",
        "    state = np.random.RandomState(12345)\n",
        "    values = []\n",
        "    for i in range(bootstrap_samples):\n",
        "        target_subsample = target_valid.sample(n=all_points, random_state=state, replace=True)\n",
        "        probs_subsample = predicted_valid[target_subsample.index]\n",
        "        values.append(revenue(target_subsample, probs_subsample, best_points))\n",
        "\n",
        "    values = pd.Series(values)\n",
        "    mean = values.mean()\n",
        "    risk = (values < 0).mean()*100\n",
        "\n",
        "    lower = values.quantile(0.025)\n",
        "    upper = values.quantile(0.975)\n",
        "    return round(mean,2), round(risk, 2), lower, upper"
      ]
    },
    {
      "cell_type": "markdown",
      "metadata": {
        "id": "u85vKrFOWJef"
      },
      "source": [
        "### Посчитаем нужные нам показатели для каждого региона."
      ]
    },
    {
      "cell_type": "code",
      "execution_count": null,
      "metadata": {
        "id": "jw4cbh0VWJeg"
      },
      "outputs": [],
      "source": [
        "mean_0, risk_0, lower_0, upper_0 = bootstrap(target_valid_0.reset_index(drop=True),\\\n",
        "                                             predicted_valid_0, bootstrap_samples, all_points)\n",
        "mean_1, risk_1, lower_1, upper_1 = bootstrap(target_valid_1.reset_index(drop=True),\\\n",
        "                                             predicted_valid_1, bootstrap_samples, all_points)\n",
        "mean_2, risk_2, lower_2, upper_2 = bootstrap(target_valid_2.reset_index(drop=True),\\\n",
        "                                             predicted_valid_2, bootstrap_samples, all_points)"
      ]
    },
    {
      "cell_type": "markdown",
      "metadata": {
        "id": "ihSUq5XZWJeh"
      },
      "source": [
        "*Сведем все показатели в итоговую таблицу для наглядности.*"
      ]
    },
    {
      "cell_type": "code",
      "execution_count": null,
      "metadata": {
        "id": "YtsEmbDvWJeh",
        "outputId": "8cd8d902-74f9-4286-da9f-fae71b4bb626"
      },
      "outputs": [
        {
          "data": {
            "text/html": [
              "<div>\n",
              "<style scoped>\n",
              "    .dataframe tbody tr th:only-of-type {\n",
              "        vertical-align: middle;\n",
              "    }\n",
              "\n",
              "    .dataframe tbody tr th {\n",
              "        vertical-align: top;\n",
              "    }\n",
              "\n",
              "    .dataframe thead th {\n",
              "        text-align: right;\n",
              "    }\n",
              "</style>\n",
              "<table border=\"1\" class=\"dataframe\">\n",
              "  <thead>\n",
              "    <tr style=\"text-align: right;\">\n",
              "      <th></th>\n",
              "      <th>Средняя прибыль по региону, руб</th>\n",
              "      <th>95% доверительный интервал от</th>\n",
              "      <th>95% доверительный интервал до</th>\n",
              "      <th>Процент риска</th>\n",
              "    </tr>\n",
              "  </thead>\n",
              "  <tbody>\n",
              "    <tr>\n",
              "      <th>Регион 1</th>\n",
              "      <td>396164984.800</td>\n",
              "      <td>-111215545.890</td>\n",
              "      <td>909766941.553</td>\n",
              "      <td>6.900</td>\n",
              "    </tr>\n",
              "    <tr>\n",
              "      <th>Регион 2</th>\n",
              "      <td>456045105.790</td>\n",
              "      <td>33820509.399</td>\n",
              "      <td>852289453.866</td>\n",
              "      <td>1.500</td>\n",
              "    </tr>\n",
              "    <tr>\n",
              "      <th>Регион 3</th>\n",
              "      <td>404403866.570</td>\n",
              "      <td>-163350413.396</td>\n",
              "      <td>950359574.924</td>\n",
              "      <td>7.600</td>\n",
              "    </tr>\n",
              "  </tbody>\n",
              "</table>\n",
              "</div>"
            ],
            "text/plain": [
              "          Средняя прибыль по региону, руб  95% доверительный интервал от  \\\n",
              "Регион 1                    396164984.800                 -111215545.890   \n",
              "Регион 2                    456045105.790                   33820509.399   \n",
              "Регион 3                    404403866.570                 -163350413.396   \n",
              "\n",
              "          95% доверительный интервал до  Процент риска  \n",
              "Регион 1                  909766941.553          6.900  \n",
              "Регион 2                  852289453.866          1.500  \n",
              "Регион 3                  950359574.924          7.600  "
            ]
          },
          "execution_count": 25,
          "metadata": {},
          "output_type": "execute_result"
        }
      ],
      "source": [
        "final_results = pd.DataFrame({'Средняя прибыль по региону, руб'        :[mean_0, mean_1, mean_2],\n",
        "                              '95% доверительный интервал от'     : [lower_0, lower_1, lower_2],\n",
        "                              '95% доверительный интервал до'     : [upper_0, upper_1, upper_2],\n",
        "                              'Процент риска'                     : [risk_0, risk_1, risk_2]},\n",
        "                             index=['Регион 1','Регион 2','Регион 3'])\n",
        "\n",
        "final_results"
      ]
    },
    {
      "cell_type": "markdown",
      "metadata": {
        "id": "e77RWrtgWJei"
      },
      "source": [
        "**Вывод:**\n",
        "\n",
        "* Исследовали и подготовили данные по трем регионам для обучения модели.\n",
        "* Разбили данные на обучающую и валидационную выборки для каждого региона в соотношении 75:25.\n",
        "* Инициировали модель линейной регрессии, обучили и получили предсказания.\n",
        "* Модель предсказывает значения, которые близки к истинным во всех трёх регионах.\n",
        "* Первый и третий регион наиболее перспективные по среднему предсказанному запасу сырья.\n",
        "* Минимальное значение RMSE получено для 2-го региона.\n",
        "* Рассчитали достаточный объём сырья для безубыточной разработки новой скважины: 111.111 тыс. барелей.\n",
        "* После проведения рассчетов достаточного объёма сырья для безубыточной разработки новой скважины и сравнения со средними значением запасов по трём регионам пришли к выводу, что высока доля риска неокупаемости затраченного бюджета при разработке скважин, выбранных случайным образом.\n",
        "* При расчете средней выручки по трем регионам, все являются прибыльными:\n",
        "\n",
        "  Регион 1:   396164984.800 руб.\n",
        "\n",
        "  Регион 2:   456045105.790 руб\n",
        "\n",
        "  Регион 3:   404403866.570 руб\n",
        "\n",
        "\n",
        "* У региона 1 и 3 высокая вероятность убытков - 6.9% и 7.6% соответственно, и не проходят по условиям бизнес-задачи.\n",
        "* Ситуация вероятности убытков регионов 1 и 3 хорошо описывается 95-% доврительным интервалом. Левая граница, которая отделяет 2.5 % данных для 1-го и 3-го регионов, принимает отрицательное значение, что говорит о том, что более 2.5 % выборок имеют отрицательную прибыль.\n",
        "* Регион 2 лидирует по всем показателям: наибольший средний чек, имеет наименьшую вероятность убытков, которая проходит по условиям бизнес-задачи.\n",
        "\n",
        "\n",
        "**Для разработки рекомендуется Регион 2 по следующим причинам:**\n",
        "\n",
        "* минимальная вероятность убытков - 1.5%\n",
        "* максимальная средняя прибыль из предложенных для анализа регионов\n",
        "* левая граница 95-% доверительного интервала положительная\n"
      ]
    },
    {
      "cell_type": "code",
      "execution_count": null,
      "metadata": {
        "id": "Y72ZGwEpWJeo"
      },
      "outputs": [],
      "source": []
    }
  ],
  "metadata": {
    "ExecuteTimeLog": [
      {
        "duration": 1728,
        "start_time": "2022-12-27T11:54:28.859Z"
      },
      {
        "duration": 149,
        "start_time": "2022-12-27T11:58:35.310Z"
      },
      {
        "duration": 40,
        "start_time": "2022-12-27T11:58:54.672Z"
      },
      {
        "duration": 955,
        "start_time": "2022-12-27T11:59:36.532Z"
      },
      {
        "duration": 47,
        "start_time": "2022-12-27T12:05:59.054Z"
      },
      {
        "duration": 42,
        "start_time": "2022-12-27T12:06:23.845Z"
      },
      {
        "duration": 44,
        "start_time": "2022-12-27T12:06:34.368Z"
      },
      {
        "duration": 55,
        "start_time": "2022-12-27T12:06:52.591Z"
      },
      {
        "duration": 61,
        "start_time": "2022-12-27T12:07:07.081Z"
      },
      {
        "duration": 37,
        "start_time": "2022-12-27T12:07:18.691Z"
      },
      {
        "duration": 39,
        "start_time": "2022-12-27T12:07:35.779Z"
      },
      {
        "duration": 38,
        "start_time": "2022-12-27T12:07:53.215Z"
      },
      {
        "duration": 36,
        "start_time": "2022-12-27T12:09:04.709Z"
      },
      {
        "duration": 43,
        "start_time": "2022-12-27T12:10:11.718Z"
      },
      {
        "duration": 139,
        "start_time": "2022-12-27T12:20:16.903Z"
      },
      {
        "duration": 101,
        "start_time": "2022-12-27T12:21:54.373Z"
      },
      {
        "duration": 100,
        "start_time": "2022-12-27T12:22:40.655Z"
      },
      {
        "duration": 105,
        "start_time": "2022-12-27T12:23:25.675Z"
      },
      {
        "duration": 104,
        "start_time": "2022-12-27T12:23:49.847Z"
      },
      {
        "duration": 358,
        "start_time": "2022-12-27T12:28:04.175Z"
      },
      {
        "duration": 352,
        "start_time": "2022-12-27T12:28:17.719Z"
      },
      {
        "duration": 436,
        "start_time": "2022-12-27T12:28:27.787Z"
      },
      {
        "duration": 19,
        "start_time": "2022-12-27T12:31:33.505Z"
      },
      {
        "duration": 15,
        "start_time": "2022-12-27T12:39:25.388Z"
      },
      {
        "duration": 301,
        "start_time": "2022-12-27T12:58:12.498Z"
      },
      {
        "duration": 284,
        "start_time": "2022-12-27T12:58:24.338Z"
      },
      {
        "duration": 233,
        "start_time": "2022-12-27T12:59:41.630Z"
      },
      {
        "duration": 295,
        "start_time": "2022-12-27T12:59:56.390Z"
      },
      {
        "duration": 44,
        "start_time": "2022-12-27T13:17:57.601Z"
      },
      {
        "duration": 32,
        "start_time": "2022-12-27T13:18:14.823Z"
      },
      {
        "duration": 31,
        "start_time": "2022-12-27T13:18:21.326Z"
      },
      {
        "duration": 88,
        "start_time": "2022-12-27T13:20:01.884Z"
      },
      {
        "duration": 31,
        "start_time": "2022-12-27T13:20:17.317Z"
      },
      {
        "duration": 50,
        "start_time": "2022-12-27T13:20:25.217Z"
      },
      {
        "duration": 34,
        "start_time": "2022-12-27T13:20:35.368Z"
      },
      {
        "duration": 1573,
        "start_time": "2023-01-04T10:17:54.507Z"
      },
      {
        "duration": 2491,
        "start_time": "2023-01-04T10:17:59.514Z"
      },
      {
        "duration": 38,
        "start_time": "2023-01-04T10:18:04.736Z"
      },
      {
        "duration": 114,
        "start_time": "2023-01-04T10:18:06.725Z"
      },
      {
        "duration": 298,
        "start_time": "2023-01-04T10:18:08.876Z"
      },
      {
        "duration": 247,
        "start_time": "2023-01-04T10:18:10.322Z"
      },
      {
        "duration": 257,
        "start_time": "2023-01-04T10:18:11.751Z"
      },
      {
        "duration": 20,
        "start_time": "2023-01-04T10:18:15.991Z"
      },
      {
        "duration": 127,
        "start_time": "2023-01-04T10:18:18.377Z"
      },
      {
        "duration": 18,
        "start_time": "2023-01-04T10:18:20.598Z"
      },
      {
        "duration": 4,
        "start_time": "2023-01-04T10:18:25.104Z"
      },
      {
        "duration": 47,
        "start_time": "2023-01-04T10:27:25.373Z"
      },
      {
        "duration": 4,
        "start_time": "2023-01-04T10:27:28.021Z"
      },
      {
        "duration": 33,
        "start_time": "2023-01-04T10:27:31.853Z"
      },
      {
        "duration": 29,
        "start_time": "2023-01-04T10:31:50.285Z"
      },
      {
        "duration": 30,
        "start_time": "2023-01-04T10:42:16.730Z"
      },
      {
        "duration": 33,
        "start_time": "2023-01-04T10:43:42.388Z"
      },
      {
        "duration": 30,
        "start_time": "2023-01-04T10:44:57.593Z"
      },
      {
        "duration": 30,
        "start_time": "2023-01-04T10:45:42.877Z"
      },
      {
        "duration": 41,
        "start_time": "2023-01-04T10:46:41.040Z"
      },
      {
        "duration": 4,
        "start_time": "2023-01-04T10:47:13.233Z"
      },
      {
        "duration": 30,
        "start_time": "2023-01-04T11:21:22.631Z"
      },
      {
        "duration": 71,
        "start_time": "2023-01-04T11:22:01.279Z"
      },
      {
        "duration": 33,
        "start_time": "2023-01-04T11:23:05.886Z"
      },
      {
        "duration": 30,
        "start_time": "2023-01-04T11:23:56.843Z"
      },
      {
        "duration": 29,
        "start_time": "2023-01-04T11:24:49.451Z"
      },
      {
        "duration": 143,
        "start_time": "2023-01-04T11:26:04.324Z"
      },
      {
        "duration": 30,
        "start_time": "2023-01-04T11:26:22.403Z"
      },
      {
        "duration": 4,
        "start_time": "2023-01-04T11:34:42.446Z"
      },
      {
        "duration": 77,
        "start_time": "2023-01-04T11:34:47.946Z"
      },
      {
        "duration": 20,
        "start_time": "2023-01-04T11:36:21.684Z"
      },
      {
        "duration": 134,
        "start_time": "2023-01-04T11:36:57.102Z"
      },
      {
        "duration": 87,
        "start_time": "2023-01-04T11:38:02.683Z"
      },
      {
        "duration": 37,
        "start_time": "2023-01-04T11:39:03.077Z"
      },
      {
        "duration": 5,
        "start_time": "2023-01-04T11:39:16.212Z"
      },
      {
        "duration": 102,
        "start_time": "2023-01-04T11:39:18.729Z"
      },
      {
        "duration": 38,
        "start_time": "2023-01-04T11:39:19.841Z"
      },
      {
        "duration": 7,
        "start_time": "2023-01-04T11:39:28.665Z"
      },
      {
        "duration": 433,
        "start_time": "2023-01-04T11:39:30.320Z"
      },
      {
        "duration": 55,
        "start_time": "2023-01-04T11:39:40.853Z"
      },
      {
        "duration": 145,
        "start_time": "2023-01-04T11:39:44.027Z"
      },
      {
        "duration": 277,
        "start_time": "2023-01-04T11:39:49.962Z"
      },
      {
        "duration": 371,
        "start_time": "2023-01-04T11:39:52.104Z"
      },
      {
        "duration": 234,
        "start_time": "2023-01-04T11:39:52.938Z"
      },
      {
        "duration": 32,
        "start_time": "2023-01-04T11:39:55.531Z"
      },
      {
        "duration": 130,
        "start_time": "2023-01-04T11:39:57.569Z"
      },
      {
        "duration": 17,
        "start_time": "2023-01-04T11:39:58.902Z"
      },
      {
        "duration": 5,
        "start_time": "2023-01-04T11:40:03.055Z"
      },
      {
        "duration": 80,
        "start_time": "2023-01-04T11:40:05.802Z"
      },
      {
        "duration": 38,
        "start_time": "2023-01-04T11:40:07.969Z"
      },
      {
        "duration": 1453,
        "start_time": "2023-01-04T11:40:53.580Z"
      },
      {
        "duration": 392,
        "start_time": "2023-01-04T11:40:56.850Z"
      },
      {
        "duration": 39,
        "start_time": "2023-01-04T11:41:06.104Z"
      },
      {
        "duration": 120,
        "start_time": "2023-01-04T11:41:09.332Z"
      },
      {
        "duration": 220,
        "start_time": "2023-01-04T11:41:12.874Z"
      },
      {
        "duration": 273,
        "start_time": "2023-01-04T11:41:14.608Z"
      },
      {
        "duration": 214,
        "start_time": "2023-01-04T11:41:15.974Z"
      },
      {
        "duration": 20,
        "start_time": "2023-01-04T11:41:20.311Z"
      },
      {
        "duration": 134,
        "start_time": "2023-01-04T11:41:22.387Z"
      },
      {
        "duration": 22,
        "start_time": "2023-01-04T11:41:24.152Z"
      },
      {
        "duration": 5,
        "start_time": "2023-01-04T11:41:29.361Z"
      },
      {
        "duration": 89,
        "start_time": "2023-01-04T11:41:36.972Z"
      },
      {
        "duration": 34,
        "start_time": "2023-01-04T11:41:40.506Z"
      },
      {
        "duration": 4,
        "start_time": "2023-01-04T11:44:16.357Z"
      },
      {
        "duration": 38,
        "start_time": "2023-01-04T11:44:18.930Z"
      },
      {
        "duration": 181,
        "start_time": "2023-01-04T11:46:50.185Z"
      },
      {
        "duration": 32,
        "start_time": "2023-01-04T11:47:02.059Z"
      },
      {
        "duration": 37,
        "start_time": "2023-01-04T11:47:22.078Z"
      },
      {
        "duration": 18,
        "start_time": "2023-01-04T11:53:14.596Z"
      },
      {
        "duration": 14,
        "start_time": "2023-01-04T11:53:41.220Z"
      },
      {
        "duration": 11,
        "start_time": "2023-01-04T11:55:53.674Z"
      },
      {
        "duration": 21,
        "start_time": "2023-01-04T11:56:14.849Z"
      },
      {
        "duration": 89,
        "start_time": "2023-01-04T11:56:28.433Z"
      },
      {
        "duration": 3,
        "start_time": "2023-01-04T12:38:56.570Z"
      },
      {
        "duration": 9,
        "start_time": "2023-01-04T12:45:13.735Z"
      },
      {
        "duration": 3,
        "start_time": "2023-01-04T12:45:45.193Z"
      },
      {
        "duration": 11,
        "start_time": "2023-01-04T12:45:47.625Z"
      },
      {
        "duration": 208,
        "start_time": "2023-01-04T12:48:25.015Z"
      },
      {
        "duration": 203,
        "start_time": "2023-01-04T12:48:52.020Z"
      },
      {
        "duration": 160,
        "start_time": "2023-01-04T12:49:32.965Z"
      },
      {
        "duration": 4,
        "start_time": "2023-01-04T12:52:29.955Z"
      },
      {
        "duration": 374,
        "start_time": "2023-01-04T12:52:31.901Z"
      },
      {
        "duration": 4,
        "start_time": "2023-01-04T12:52:53.362Z"
      },
      {
        "duration": 380,
        "start_time": "2023-01-04T12:52:55.452Z"
      },
      {
        "duration": 45,
        "start_time": "2023-01-04T12:52:58.176Z"
      },
      {
        "duration": 101,
        "start_time": "2023-01-04T12:53:00.163Z"
      },
      {
        "duration": 254,
        "start_time": "2023-01-04T12:53:02.006Z"
      },
      {
        "duration": 340,
        "start_time": "2023-01-04T12:53:03.850Z"
      },
      {
        "duration": 236,
        "start_time": "2023-01-04T12:53:05.435Z"
      },
      {
        "duration": 21,
        "start_time": "2023-01-04T12:53:08.686Z"
      },
      {
        "duration": 142,
        "start_time": "2023-01-04T12:53:10.514Z"
      },
      {
        "duration": 16,
        "start_time": "2023-01-04T12:53:12.247Z"
      },
      {
        "duration": 7,
        "start_time": "2023-01-04T12:53:16.554Z"
      },
      {
        "duration": 31,
        "start_time": "2023-01-04T12:53:18.804Z"
      },
      {
        "duration": 107,
        "start_time": "2023-01-04T12:53:21.915Z"
      },
      {
        "duration": 103,
        "start_time": "2023-01-04T12:53:23.020Z"
      },
      {
        "duration": 4,
        "start_time": "2023-01-04T12:53:28.221Z"
      },
      {
        "duration": 65,
        "start_time": "2023-01-04T12:53:29.864Z"
      },
      {
        "duration": 6,
        "start_time": "2023-01-04T12:57:27.840Z"
      },
      {
        "duration": 114,
        "start_time": "2023-01-04T12:58:13.511Z"
      },
      {
        "duration": 205,
        "start_time": "2023-01-04T12:58:48.328Z"
      },
      {
        "duration": 305,
        "start_time": "2023-01-04T12:59:22.018Z"
      },
      {
        "duration": 18,
        "start_time": "2023-01-04T13:09:31.719Z"
      },
      {
        "duration": 11,
        "start_time": "2023-01-04T13:09:48.816Z"
      },
      {
        "duration": 124,
        "start_time": "2023-01-04T13:10:22.410Z"
      },
      {
        "duration": 10,
        "start_time": "2023-01-04T13:11:20.874Z"
      },
      {
        "duration": 11,
        "start_time": "2023-01-04T13:16:22.037Z"
      },
      {
        "duration": 1426,
        "start_time": "2023-01-05T08:21:14.850Z"
      },
      {
        "duration": 764,
        "start_time": "2023-01-05T08:21:18.845Z"
      },
      {
        "duration": 38,
        "start_time": "2023-01-05T08:21:20.949Z"
      },
      {
        "duration": 106,
        "start_time": "2023-01-05T08:21:25.811Z"
      },
      {
        "duration": 312,
        "start_time": "2023-01-05T08:21:27.586Z"
      },
      {
        "duration": 239,
        "start_time": "2023-01-05T08:21:28.677Z"
      },
      {
        "duration": 241,
        "start_time": "2023-01-05T08:21:30.920Z"
      },
      {
        "duration": 19,
        "start_time": "2023-01-05T08:21:50.769Z"
      },
      {
        "duration": 129,
        "start_time": "2023-01-05T08:21:59.322Z"
      },
      {
        "duration": 16,
        "start_time": "2023-01-05T08:22:00.982Z"
      },
      {
        "duration": 4,
        "start_time": "2023-01-05T08:22:05.005Z"
      },
      {
        "duration": 36,
        "start_time": "2023-01-05T08:22:06.765Z"
      },
      {
        "duration": 148,
        "start_time": "2023-01-05T08:22:09.167Z"
      },
      {
        "duration": 52,
        "start_time": "2023-01-05T08:22:09.961Z"
      },
      {
        "duration": 4,
        "start_time": "2023-01-05T08:22:12.955Z"
      },
      {
        "duration": 47,
        "start_time": "2023-01-05T08:22:14.679Z"
      },
      {
        "duration": 9,
        "start_time": "2023-01-05T08:22:17.307Z"
      },
      {
        "duration": 5,
        "start_time": "2023-01-05T08:35:25.234Z"
      },
      {
        "duration": 4,
        "start_time": "2023-01-05T09:22:10.871Z"
      },
      {
        "duration": 4,
        "start_time": "2023-01-05T09:26:30.009Z"
      },
      {
        "duration": 5,
        "start_time": "2023-01-05T09:26:46.324Z"
      },
      {
        "duration": 3,
        "start_time": "2023-01-05T09:29:20.215Z"
      },
      {
        "duration": 416,
        "start_time": "2023-01-05T09:29:22.163Z"
      },
      {
        "duration": 40,
        "start_time": "2023-01-05T09:29:24.775Z"
      },
      {
        "duration": 97,
        "start_time": "2023-01-05T09:29:26.519Z"
      },
      {
        "duration": 207,
        "start_time": "2023-01-05T09:29:28.358Z"
      },
      {
        "duration": 308,
        "start_time": "2023-01-05T09:29:29.772Z"
      },
      {
        "duration": 244,
        "start_time": "2023-01-05T09:29:34.672Z"
      },
      {
        "duration": 19,
        "start_time": "2023-01-05T09:29:38.042Z"
      },
      {
        "duration": 122,
        "start_time": "2023-01-05T09:29:39.656Z"
      },
      {
        "duration": 14,
        "start_time": "2023-01-05T09:29:43.319Z"
      },
      {
        "duration": 4,
        "start_time": "2023-01-05T09:29:48.020Z"
      },
      {
        "duration": 29,
        "start_time": "2023-01-05T09:29:49.813Z"
      },
      {
        "duration": 79,
        "start_time": "2023-01-05T09:29:51.734Z"
      },
      {
        "duration": 72,
        "start_time": "2023-01-05T09:29:53.041Z"
      },
      {
        "duration": 3,
        "start_time": "2023-01-05T09:30:00.424Z"
      },
      {
        "duration": 114,
        "start_time": "2023-01-05T09:30:02.305Z"
      },
      {
        "duration": 10,
        "start_time": "2023-01-05T09:30:05.443Z"
      },
      {
        "duration": 3,
        "start_time": "2023-01-05T09:30:14.471Z"
      },
      {
        "duration": 3,
        "start_time": "2023-01-05T09:30:18.634Z"
      },
      {
        "duration": 3,
        "start_time": "2023-01-05T09:30:34.649Z"
      },
      {
        "duration": 16,
        "start_time": "2023-01-05T09:32:16.035Z"
      },
      {
        "duration": 50,
        "start_time": "2023-01-05T09:33:16.669Z"
      },
      {
        "duration": 13,
        "start_time": "2023-01-05T09:34:02.630Z"
      },
      {
        "duration": 13,
        "start_time": "2023-01-05T09:34:17.232Z"
      },
      {
        "duration": 42,
        "start_time": "2023-01-05T09:34:19.290Z"
      },
      {
        "duration": 4,
        "start_time": "2023-01-05T09:34:54.769Z"
      },
      {
        "duration": 4,
        "start_time": "2023-01-05T09:35:07.401Z"
      },
      {
        "duration": 1287,
        "start_time": "2023-01-05T09:35:32.664Z"
      },
      {
        "duration": 410,
        "start_time": "2023-01-05T09:35:36.352Z"
      },
      {
        "duration": 5,
        "start_time": "2023-01-05T09:35:53.596Z"
      },
      {
        "duration": 366,
        "start_time": "2023-01-05T09:35:56.478Z"
      },
      {
        "duration": 54,
        "start_time": "2023-01-05T09:35:58.880Z"
      },
      {
        "duration": 113,
        "start_time": "2023-01-05T09:36:00.508Z"
      },
      {
        "duration": 255,
        "start_time": "2023-01-05T09:36:02.484Z"
      },
      {
        "duration": 239,
        "start_time": "2023-01-05T09:36:04.416Z"
      },
      {
        "duration": 240,
        "start_time": "2023-01-05T09:36:05.432Z"
      },
      {
        "duration": 20,
        "start_time": "2023-01-05T09:36:08.440Z"
      },
      {
        "duration": 105,
        "start_time": "2023-01-05T09:36:10.130Z"
      },
      {
        "duration": 14,
        "start_time": "2023-01-05T09:36:11.751Z"
      },
      {
        "duration": 3,
        "start_time": "2023-01-05T09:36:16.879Z"
      },
      {
        "duration": 32,
        "start_time": "2023-01-05T09:36:18.665Z"
      },
      {
        "duration": 65,
        "start_time": "2023-01-05T09:36:20.647Z"
      },
      {
        "duration": 79,
        "start_time": "2023-01-05T09:36:22.236Z"
      },
      {
        "duration": 4,
        "start_time": "2023-01-05T09:36:25.171Z"
      },
      {
        "duration": 89,
        "start_time": "2023-01-05T09:36:27.427Z"
      },
      {
        "duration": 9,
        "start_time": "2023-01-05T09:36:30.361Z"
      },
      {
        "duration": 3,
        "start_time": "2023-01-05T09:36:34.558Z"
      },
      {
        "duration": 3,
        "start_time": "2023-01-05T09:36:39.149Z"
      },
      {
        "duration": 102,
        "start_time": "2023-01-05T09:42:53.685Z"
      },
      {
        "duration": 49,
        "start_time": "2023-01-05T09:43:24.809Z"
      },
      {
        "duration": 9,
        "start_time": "2023-01-05T09:43:31.722Z"
      },
      {
        "duration": 10,
        "start_time": "2023-01-05T09:45:02.351Z"
      },
      {
        "duration": 10,
        "start_time": "2023-01-05T09:45:19.400Z"
      },
      {
        "duration": 5,
        "start_time": "2023-01-05T09:48:58.987Z"
      },
      {
        "duration": 787,
        "start_time": "2023-01-05T09:49:32.122Z"
      },
      {
        "duration": 11,
        "start_time": "2023-01-05T09:49:50.634Z"
      },
      {
        "duration": 5,
        "start_time": "2023-01-05T09:50:56.112Z"
      },
      {
        "duration": 11,
        "start_time": "2023-01-05T09:51:21.903Z"
      },
      {
        "duration": 11,
        "start_time": "2023-01-05T09:51:36.575Z"
      },
      {
        "duration": 12,
        "start_time": "2023-01-05T09:54:05.805Z"
      },
      {
        "duration": 5,
        "start_time": "2023-01-05T09:55:28.514Z"
      },
      {
        "duration": 3,
        "start_time": "2023-01-05T09:56:46.629Z"
      },
      {
        "duration": 5,
        "start_time": "2023-01-05T09:56:49.397Z"
      },
      {
        "duration": 4,
        "start_time": "2023-01-05T09:56:57.506Z"
      },
      {
        "duration": 4,
        "start_time": "2023-01-05T09:57:22.551Z"
      },
      {
        "duration": 11,
        "start_time": "2023-01-05T10:01:02.222Z"
      },
      {
        "duration": 11,
        "start_time": "2023-01-05T10:02:01.140Z"
      },
      {
        "duration": 11,
        "start_time": "2023-01-05T10:02:39.393Z"
      },
      {
        "duration": 10,
        "start_time": "2023-01-05T10:03:12.178Z"
      },
      {
        "duration": 43,
        "start_time": "2023-01-05T10:04:32.990Z"
      },
      {
        "duration": 5,
        "start_time": "2023-01-05T10:05:04.668Z"
      },
      {
        "duration": 10,
        "start_time": "2023-01-05T10:06:22.753Z"
      },
      {
        "duration": 12,
        "start_time": "2023-01-05T10:06:39.718Z"
      },
      {
        "duration": 686,
        "start_time": "2023-01-05T10:07:13.214Z"
      },
      {
        "duration": 10,
        "start_time": "2023-01-05T10:10:51.115Z"
      },
      {
        "duration": 1390,
        "start_time": "2023-01-05T10:11:13.395Z"
      },
      {
        "duration": 414,
        "start_time": "2023-01-05T10:11:16.104Z"
      },
      {
        "duration": 41,
        "start_time": "2023-01-05T10:11:19.293Z"
      },
      {
        "duration": 100,
        "start_time": "2023-01-05T10:11:21.254Z"
      },
      {
        "duration": 266,
        "start_time": "2023-01-05T10:11:23.393Z"
      },
      {
        "duration": 232,
        "start_time": "2023-01-05T10:11:25.133Z"
      },
      {
        "duration": 219,
        "start_time": "2023-01-05T10:11:26.750Z"
      },
      {
        "duration": 19,
        "start_time": "2023-01-05T10:11:30.291Z"
      },
      {
        "duration": 132,
        "start_time": "2023-01-05T10:11:32.117Z"
      },
      {
        "duration": 17,
        "start_time": "2023-01-05T10:11:33.844Z"
      },
      {
        "duration": 3,
        "start_time": "2023-01-05T10:11:40.904Z"
      },
      {
        "duration": 39,
        "start_time": "2023-01-05T10:11:43.058Z"
      },
      {
        "duration": 22,
        "start_time": "2023-01-05T10:11:45.451Z"
      },
      {
        "duration": 40,
        "start_time": "2023-01-05T10:11:47.790Z"
      },
      {
        "duration": 3,
        "start_time": "2023-01-05T10:11:51.464Z"
      },
      {
        "duration": 33,
        "start_time": "2023-01-05T10:11:55.081Z"
      },
      {
        "duration": 10,
        "start_time": "2023-01-05T10:12:00.151Z"
      },
      {
        "duration": 3,
        "start_time": "2023-01-05T10:12:04.717Z"
      },
      {
        "duration": 5,
        "start_time": "2023-01-05T10:12:09.648Z"
      },
      {
        "duration": 109,
        "start_time": "2023-01-05T10:12:24.355Z"
      },
      {
        "duration": 12,
        "start_time": "2023-01-05T10:13:31.483Z"
      },
      {
        "duration": 10,
        "start_time": "2023-01-05T10:13:55.134Z"
      },
      {
        "duration": 6,
        "start_time": "2023-01-05T10:14:21.374Z"
      },
      {
        "duration": 1381,
        "start_time": "2023-01-05T12:59:51.852Z"
      },
      {
        "duration": 922,
        "start_time": "2023-01-05T12:59:55.420Z"
      },
      {
        "duration": 39,
        "start_time": "2023-01-05T12:59:59.875Z"
      },
      {
        "duration": 103,
        "start_time": "2023-01-05T13:00:01.655Z"
      },
      {
        "duration": 316,
        "start_time": "2023-01-05T13:00:03.459Z"
      },
      {
        "duration": 267,
        "start_time": "2023-01-05T13:00:04.619Z"
      },
      {
        "duration": 279,
        "start_time": "2023-01-05T13:00:06.071Z"
      },
      {
        "duration": 21,
        "start_time": "2023-01-05T13:00:09.294Z"
      },
      {
        "duration": 118,
        "start_time": "2023-01-05T13:00:11.346Z"
      },
      {
        "duration": 22,
        "start_time": "2023-01-05T13:00:14.008Z"
      },
      {
        "duration": 4,
        "start_time": "2023-01-05T13:00:17.836Z"
      },
      {
        "duration": 49,
        "start_time": "2023-01-05T13:00:19.918Z"
      },
      {
        "duration": 81,
        "start_time": "2023-01-05T13:00:24.124Z"
      },
      {
        "duration": 44,
        "start_time": "2023-01-05T13:00:26.560Z"
      },
      {
        "duration": 4,
        "start_time": "2023-01-05T13:00:29.511Z"
      },
      {
        "duration": 194,
        "start_time": "2023-01-05T13:00:32.109Z"
      },
      {
        "duration": 9,
        "start_time": "2023-01-05T13:00:35.301Z"
      },
      {
        "duration": 3,
        "start_time": "2023-01-05T13:00:42.473Z"
      },
      {
        "duration": 3,
        "start_time": "2023-01-05T13:00:51.925Z"
      },
      {
        "duration": 51,
        "start_time": "2023-01-05T13:05:21.367Z"
      },
      {
        "duration": 7,
        "start_time": "2023-01-05T13:05:27.854Z"
      },
      {
        "duration": 7,
        "start_time": "2023-01-05T13:05:58.214Z"
      },
      {
        "duration": 5,
        "start_time": "2023-01-05T13:06:07.217Z"
      },
      {
        "duration": 100,
        "start_time": "2023-01-05T13:06:57.734Z"
      },
      {
        "duration": 6,
        "start_time": "2023-01-05T13:07:09.529Z"
      },
      {
        "duration": 6,
        "start_time": "2023-01-05T13:14:57.892Z"
      },
      {
        "duration": 6,
        "start_time": "2023-01-05T13:18:34.199Z"
      },
      {
        "duration": 6,
        "start_time": "2023-01-05T13:19:08.853Z"
      },
      {
        "duration": 4,
        "start_time": "2023-01-05T14:02:38.449Z"
      },
      {
        "duration": 3,
        "start_time": "2023-01-05T14:04:18.350Z"
      },
      {
        "duration": 9,
        "start_time": "2023-01-05T14:04:42.710Z"
      },
      {
        "duration": 3,
        "start_time": "2023-01-05T14:09:01.786Z"
      },
      {
        "duration": 4,
        "start_time": "2023-01-05T14:13:48.547Z"
      },
      {
        "duration": 10,
        "start_time": "2023-01-05T14:14:31.768Z"
      },
      {
        "duration": 10,
        "start_time": "2023-01-05T14:15:07.156Z"
      },
      {
        "duration": 9,
        "start_time": "2023-01-05T14:15:12.337Z"
      },
      {
        "duration": 12,
        "start_time": "2023-01-05T14:17:10.834Z"
      },
      {
        "duration": 3,
        "start_time": "2023-01-05T14:20:21.761Z"
      },
      {
        "duration": 364,
        "start_time": "2023-01-05T14:20:28.850Z"
      },
      {
        "duration": 35,
        "start_time": "2023-01-05T14:20:32.375Z"
      },
      {
        "duration": 82,
        "start_time": "2023-01-05T14:20:35.170Z"
      },
      {
        "duration": 229,
        "start_time": "2023-01-05T14:20:37.705Z"
      },
      {
        "duration": 329,
        "start_time": "2023-01-05T14:20:39.702Z"
      },
      {
        "duration": 208,
        "start_time": "2023-01-05T14:20:41.424Z"
      },
      {
        "duration": 27,
        "start_time": "2023-01-05T14:20:44.660Z"
      },
      {
        "duration": 97,
        "start_time": "2023-01-05T14:20:46.533Z"
      },
      {
        "duration": 12,
        "start_time": "2023-01-05T14:20:49.313Z"
      },
      {
        "duration": 3,
        "start_time": "2023-01-05T14:20:54.118Z"
      },
      {
        "duration": 30,
        "start_time": "2023-01-05T14:20:56.966Z"
      },
      {
        "duration": 16,
        "start_time": "2023-01-05T14:20:58.762Z"
      },
      {
        "duration": 30,
        "start_time": "2023-01-05T14:20:59.900Z"
      },
      {
        "duration": 4,
        "start_time": "2023-01-05T14:21:02.675Z"
      },
      {
        "duration": 158,
        "start_time": "2023-01-05T14:21:05.841Z"
      },
      {
        "duration": 9,
        "start_time": "2023-01-05T14:21:09.337Z"
      },
      {
        "duration": 3,
        "start_time": "2023-01-05T14:21:17.325Z"
      },
      {
        "duration": 4,
        "start_time": "2023-01-05T14:21:20.105Z"
      },
      {
        "duration": 6,
        "start_time": "2023-01-05T14:21:23.150Z"
      },
      {
        "duration": 13,
        "start_time": "2023-01-05T14:21:32.401Z"
      },
      {
        "duration": 4,
        "start_time": "2023-01-05T14:22:25.946Z"
      },
      {
        "duration": 10,
        "start_time": "2023-01-05T14:22:32.491Z"
      },
      {
        "duration": 3,
        "start_time": "2023-01-05T14:23:36.582Z"
      },
      {
        "duration": 5,
        "start_time": "2023-01-07T11:14:36.133Z"
      },
      {
        "duration": 379,
        "start_time": "2023-01-07T11:14:37.531Z"
      },
      {
        "duration": 50,
        "start_time": "2023-01-07T11:14:39.008Z"
      },
      {
        "duration": 96,
        "start_time": "2023-01-07T11:14:40.341Z"
      },
      {
        "duration": 268,
        "start_time": "2023-01-07T11:14:41.800Z"
      },
      {
        "duration": 220,
        "start_time": "2023-01-07T11:14:42.874Z"
      },
      {
        "duration": 284,
        "start_time": "2023-01-07T11:14:43.609Z"
      },
      {
        "duration": 32,
        "start_time": "2023-01-07T11:14:46.085Z"
      },
      {
        "duration": 121,
        "start_time": "2023-01-07T11:15:00.335Z"
      },
      {
        "duration": 12,
        "start_time": "2023-01-07T11:15:06.302Z"
      },
      {
        "duration": 3,
        "start_time": "2023-01-07T11:15:14.903Z"
      },
      {
        "duration": 32,
        "start_time": "2023-01-07T11:15:26.305Z"
      },
      {
        "duration": 130,
        "start_time": "2023-01-07T11:16:00.110Z"
      },
      {
        "duration": 108,
        "start_time": "2023-01-07T11:16:01.415Z"
      },
      {
        "duration": 3,
        "start_time": "2023-01-07T11:16:05.044Z"
      },
      {
        "duration": 146,
        "start_time": "2023-01-07T11:16:06.294Z"
      },
      {
        "duration": 10,
        "start_time": "2023-01-07T11:16:08.377Z"
      },
      {
        "duration": 4,
        "start_time": "2023-01-07T11:16:14.106Z"
      },
      {
        "duration": 4,
        "start_time": "2023-01-07T11:16:19.155Z"
      },
      {
        "duration": 7,
        "start_time": "2023-01-07T11:16:20.763Z"
      },
      {
        "duration": 4,
        "start_time": "2023-01-07T11:16:27.157Z"
      },
      {
        "duration": 18,
        "start_time": "2023-01-07T11:16:29.547Z"
      },
      {
        "duration": 4,
        "start_time": "2023-01-07T11:24:36.280Z"
      },
      {
        "duration": 5,
        "start_time": "2023-01-07T11:24:42.091Z"
      },
      {
        "duration": 14,
        "start_time": "2023-01-07T11:25:08.673Z"
      },
      {
        "duration": 4,
        "start_time": "2023-01-07T11:28:50.977Z"
      },
      {
        "duration": 14,
        "start_time": "2023-01-07T11:28:53.388Z"
      },
      {
        "duration": 4,
        "start_time": "2023-01-07T11:29:18.791Z"
      },
      {
        "duration": 15,
        "start_time": "2023-01-07T11:29:21.931Z"
      },
      {
        "duration": 13,
        "start_time": "2023-01-07T11:29:43.322Z"
      },
      {
        "duration": 17,
        "start_time": "2023-01-07T11:29:44.487Z"
      },
      {
        "duration": 8,
        "start_time": "2023-01-07T11:36:09.806Z"
      },
      {
        "duration": 10,
        "start_time": "2023-01-07T11:37:03.540Z"
      },
      {
        "duration": 10,
        "start_time": "2023-01-07T11:37:52.889Z"
      },
      {
        "duration": 1115,
        "start_time": "2023-01-07T11:38:07.354Z"
      },
      {
        "duration": 4,
        "start_time": "2023-01-07T11:41:27.980Z"
      },
      {
        "duration": 387,
        "start_time": "2023-01-07T11:41:28.941Z"
      },
      {
        "duration": 45,
        "start_time": "2023-01-07T11:41:29.840Z"
      },
      {
        "duration": 107,
        "start_time": "2023-01-07T11:41:30.776Z"
      },
      {
        "duration": 277,
        "start_time": "2023-01-07T11:41:31.613Z"
      },
      {
        "duration": 268,
        "start_time": "2023-01-07T11:41:32.226Z"
      },
      {
        "duration": 251,
        "start_time": "2023-01-07T11:41:32.779Z"
      },
      {
        "duration": 21,
        "start_time": "2023-01-07T11:41:34.183Z"
      },
      {
        "duration": 147,
        "start_time": "2023-01-07T11:41:35.346Z"
      },
      {
        "duration": 13,
        "start_time": "2023-01-07T11:41:36.403Z"
      },
      {
        "duration": 3,
        "start_time": "2023-01-07T11:41:39.391Z"
      },
      {
        "duration": 34,
        "start_time": "2023-01-07T11:41:40.348Z"
      },
      {
        "duration": 25,
        "start_time": "2023-01-07T11:41:41.385Z"
      },
      {
        "duration": 42,
        "start_time": "2023-01-07T11:41:41.809Z"
      },
      {
        "duration": 4,
        "start_time": "2023-01-07T11:41:43.262Z"
      },
      {
        "duration": 118,
        "start_time": "2023-01-07T11:41:44.308Z"
      },
      {
        "duration": 9,
        "start_time": "2023-01-07T11:41:46.377Z"
      },
      {
        "duration": 3,
        "start_time": "2023-01-07T11:41:50.101Z"
      },
      {
        "duration": 4,
        "start_time": "2023-01-07T11:41:52.166Z"
      },
      {
        "duration": 7,
        "start_time": "2023-01-07T11:41:54.097Z"
      },
      {
        "duration": 4,
        "start_time": "2023-01-07T11:41:56.963Z"
      },
      {
        "duration": 19,
        "start_time": "2023-01-07T11:41:58.229Z"
      },
      {
        "duration": 97,
        "start_time": "2023-01-07T11:42:01.159Z"
      },
      {
        "duration": 1413,
        "start_time": "2023-01-07T11:42:02.236Z"
      },
      {
        "duration": 1469,
        "start_time": "2023-01-07T11:54:01.735Z"
      },
      {
        "duration": 407,
        "start_time": "2023-01-07T11:54:03.205Z"
      },
      {
        "duration": 53,
        "start_time": "2023-01-07T11:54:03.614Z"
      },
      {
        "duration": 128,
        "start_time": "2023-01-07T11:54:03.670Z"
      },
      {
        "duration": 294,
        "start_time": "2023-01-07T11:54:03.800Z"
      },
      {
        "duration": 280,
        "start_time": "2023-01-07T11:54:04.096Z"
      },
      {
        "duration": 254,
        "start_time": "2023-01-07T11:54:04.378Z"
      },
      {
        "duration": 30,
        "start_time": "2023-01-07T11:54:04.634Z"
      },
      {
        "duration": 148,
        "start_time": "2023-01-07T11:54:04.666Z"
      },
      {
        "duration": 21,
        "start_time": "2023-01-07T11:54:04.827Z"
      },
      {
        "duration": 13,
        "start_time": "2023-01-07T11:54:04.850Z"
      },
      {
        "duration": 67,
        "start_time": "2023-01-07T11:54:04.865Z"
      },
      {
        "duration": 88,
        "start_time": "2023-01-07T11:54:04.933Z"
      },
      {
        "duration": 138,
        "start_time": "2023-01-07T11:54:05.025Z"
      },
      {
        "duration": 4,
        "start_time": "2023-01-07T11:54:05.165Z"
      },
      {
        "duration": 304,
        "start_time": "2023-01-07T11:54:05.222Z"
      },
      {
        "duration": 94,
        "start_time": "2023-01-07T11:54:05.529Z"
      },
      {
        "duration": 19,
        "start_time": "2023-01-07T11:54:05.626Z"
      },
      {
        "duration": 9,
        "start_time": "2023-01-07T11:54:05.647Z"
      },
      {
        "duration": 67,
        "start_time": "2023-01-07T11:54:05.658Z"
      },
      {
        "duration": 5,
        "start_time": "2023-01-07T11:54:05.726Z"
      },
      {
        "duration": 30,
        "start_time": "2023-01-07T11:54:05.732Z"
      },
      {
        "duration": 17,
        "start_time": "2023-01-07T11:54:05.764Z"
      },
      {
        "duration": 1558,
        "start_time": "2023-01-07T11:54:05.783Z"
      },
      {
        "duration": 4,
        "start_time": "2023-01-07T11:56:30.108Z"
      },
      {
        "duration": 5,
        "start_time": "2023-01-07T11:57:18.046Z"
      },
      {
        "duration": 130,
        "start_time": "2023-01-07T11:57:20.705Z"
      },
      {
        "duration": 5,
        "start_time": "2023-01-07T11:57:37.409Z"
      },
      {
        "duration": 18,
        "start_time": "2023-01-07T11:57:39.536Z"
      },
      {
        "duration": 5,
        "start_time": "2023-01-07T11:58:26.333Z"
      },
      {
        "duration": 992,
        "start_time": "2023-01-07T11:58:27.646Z"
      },
      {
        "duration": 10,
        "start_time": "2023-01-07T12:06:29.769Z"
      },
      {
        "duration": 12,
        "start_time": "2023-01-07T12:08:19.236Z"
      },
      {
        "duration": 12,
        "start_time": "2023-01-07T12:08:48.420Z"
      },
      {
        "duration": 7,
        "start_time": "2023-01-07T12:09:31.837Z"
      },
      {
        "duration": 1011,
        "start_time": "2023-01-07T12:09:33.271Z"
      },
      {
        "duration": 19,
        "start_time": "2023-01-07T12:10:11.160Z"
      },
      {
        "duration": 7,
        "start_time": "2023-01-07T12:10:15.218Z"
      },
      {
        "duration": 3100,
        "start_time": "2023-01-07T12:10:16.418Z"
      },
      {
        "duration": 11,
        "start_time": "2023-01-07T12:10:21.924Z"
      },
      {
        "duration": 9,
        "start_time": "2023-01-07T12:11:31.278Z"
      },
      {
        "duration": 1395,
        "start_time": "2023-01-07T12:12:07.898Z"
      },
      {
        "duration": 406,
        "start_time": "2023-01-07T12:12:12.257Z"
      },
      {
        "duration": 41,
        "start_time": "2023-01-07T12:12:14.054Z"
      },
      {
        "duration": 100,
        "start_time": "2023-01-07T12:12:17.160Z"
      },
      {
        "duration": 227,
        "start_time": "2023-01-07T12:12:19.457Z"
      },
      {
        "duration": 283,
        "start_time": "2023-01-07T12:12:20.698Z"
      },
      {
        "duration": 283,
        "start_time": "2023-01-07T12:12:21.688Z"
      },
      {
        "duration": 22,
        "start_time": "2023-01-07T12:12:24.720Z"
      },
      {
        "duration": 142,
        "start_time": "2023-01-07T12:12:26.125Z"
      },
      {
        "duration": 17,
        "start_time": "2023-01-07T12:12:27.661Z"
      },
      {
        "duration": 4,
        "start_time": "2023-01-07T12:12:31.860Z"
      },
      {
        "duration": 44,
        "start_time": "2023-01-07T12:12:33.404Z"
      },
      {
        "duration": 85,
        "start_time": "2023-01-07T12:12:35.240Z"
      },
      {
        "duration": 42,
        "start_time": "2023-01-07T12:12:36.462Z"
      },
      {
        "duration": 4,
        "start_time": "2023-01-07T12:12:38.635Z"
      },
      {
        "duration": 76,
        "start_time": "2023-01-07T12:12:40.155Z"
      },
      {
        "duration": 11,
        "start_time": "2023-01-07T12:12:43.021Z"
      },
      {
        "duration": 12,
        "start_time": "2023-01-07T12:12:47.940Z"
      },
      {
        "duration": 3,
        "start_time": "2023-01-07T12:12:51.009Z"
      },
      {
        "duration": 4,
        "start_time": "2023-01-07T12:12:53.364Z"
      },
      {
        "duration": 9,
        "start_time": "2023-01-07T12:12:55.003Z"
      },
      {
        "duration": 4,
        "start_time": "2023-01-07T12:13:03.707Z"
      },
      {
        "duration": 25,
        "start_time": "2023-01-07T12:13:05.249Z"
      },
      {
        "duration": 4,
        "start_time": "2023-01-07T12:13:09.211Z"
      },
      {
        "duration": 2961,
        "start_time": "2023-01-07T12:13:10.674Z"
      },
      {
        "duration": 12,
        "start_time": "2023-01-07T12:13:13.637Z"
      },
      {
        "duration": 1048,
        "start_time": "2023-01-07T12:13:13.657Z"
      },
      {
        "duration": 5,
        "start_time": "2023-01-07T12:13:40.776Z"
      },
      {
        "duration": 3060,
        "start_time": "2023-01-07T12:13:43.438Z"
      },
      {
        "duration": 9,
        "start_time": "2023-01-07T12:13:48.170Z"
      },
      {
        "duration": 9,
        "start_time": "2023-01-07T12:15:12.814Z"
      },
      {
        "duration": 9,
        "start_time": "2023-01-07T12:15:26.710Z"
      },
      {
        "duration": 4,
        "start_time": "2023-01-07T12:21:55.280Z"
      },
      {
        "duration": 23,
        "start_time": "2023-01-07T12:21:57.832Z"
      },
      {
        "duration": 57,
        "start_time": "2023-01-07T12:25:58.473Z"
      },
      {
        "duration": 10,
        "start_time": "2023-01-07T12:28:42.230Z"
      },
      {
        "duration": 1491,
        "start_time": "2023-01-07T12:58:30.020Z"
      },
      {
        "duration": 415,
        "start_time": "2023-01-07T12:58:31.513Z"
      },
      {
        "duration": 45,
        "start_time": "2023-01-07T12:58:31.930Z"
      },
      {
        "duration": 128,
        "start_time": "2023-01-07T12:58:31.977Z"
      },
      {
        "duration": 289,
        "start_time": "2023-01-07T12:58:32.107Z"
      },
      {
        "duration": 287,
        "start_time": "2023-01-07T12:58:32.398Z"
      },
      {
        "duration": 294,
        "start_time": "2023-01-07T12:58:32.687Z"
      },
      {
        "duration": 22,
        "start_time": "2023-01-07T12:58:32.983Z"
      },
      {
        "duration": 146,
        "start_time": "2023-01-07T12:58:33.021Z"
      },
      {
        "duration": 17,
        "start_time": "2023-01-07T12:58:33.169Z"
      },
      {
        "duration": 13,
        "start_time": "2023-01-07T12:58:33.188Z"
      },
      {
        "duration": 56,
        "start_time": "2023-01-07T12:58:33.203Z"
      },
      {
        "duration": 61,
        "start_time": "2023-01-07T12:58:33.261Z"
      },
      {
        "duration": 131,
        "start_time": "2023-01-07T12:58:33.328Z"
      },
      {
        "duration": 4,
        "start_time": "2023-01-07T12:58:33.524Z"
      },
      {
        "duration": 206,
        "start_time": "2023-01-07T12:58:33.530Z"
      },
      {
        "duration": 99,
        "start_time": "2023-01-07T12:58:33.738Z"
      },
      {
        "duration": 19,
        "start_time": "2023-01-07T12:58:33.922Z"
      },
      {
        "duration": 14,
        "start_time": "2023-01-07T12:58:33.943Z"
      },
      {
        "duration": 26,
        "start_time": "2023-01-07T12:58:33.959Z"
      },
      {
        "duration": 18,
        "start_time": "2023-01-07T12:58:33.986Z"
      },
      {
        "duration": 48,
        "start_time": "2023-01-07T12:58:34.005Z"
      },
      {
        "duration": 5,
        "start_time": "2023-01-07T12:58:34.055Z"
      },
      {
        "duration": 3045,
        "start_time": "2023-01-07T12:58:34.061Z"
      },
      {
        "duration": 9,
        "start_time": "2023-01-07T12:58:37.107Z"
      },
      {
        "duration": 10,
        "start_time": "2023-01-07T12:59:59.402Z"
      },
      {
        "duration": 1450,
        "start_time": "2023-01-08T00:22:42.779Z"
      },
      {
        "duration": 422,
        "start_time": "2023-01-08T00:22:44.231Z"
      },
      {
        "duration": 47,
        "start_time": "2023-01-08T00:22:44.656Z"
      },
      {
        "duration": 159,
        "start_time": "2023-01-08T00:22:44.705Z"
      },
      {
        "duration": 276,
        "start_time": "2023-01-08T00:22:44.867Z"
      },
      {
        "duration": 293,
        "start_time": "2023-01-08T00:22:45.144Z"
      },
      {
        "duration": 275,
        "start_time": "2023-01-08T00:22:45.439Z"
      },
      {
        "duration": 36,
        "start_time": "2023-01-08T00:22:45.716Z"
      },
      {
        "duration": 151,
        "start_time": "2023-01-08T00:22:45.754Z"
      },
      {
        "duration": 19,
        "start_time": "2023-01-08T00:22:45.907Z"
      },
      {
        "duration": 22,
        "start_time": "2023-01-08T00:22:45.928Z"
      },
      {
        "duration": 44,
        "start_time": "2023-01-08T00:22:45.953Z"
      },
      {
        "duration": 56,
        "start_time": "2023-01-08T00:22:45.999Z"
      },
      {
        "duration": 143,
        "start_time": "2023-01-08T00:22:46.059Z"
      },
      {
        "duration": 5,
        "start_time": "2023-01-08T00:22:46.251Z"
      },
      {
        "duration": 209,
        "start_time": "2023-01-08T00:22:46.257Z"
      },
      {
        "duration": 100,
        "start_time": "2023-01-08T00:22:46.552Z"
      },
      {
        "duration": 3,
        "start_time": "2023-01-08T00:22:46.654Z"
      },
      {
        "duration": 8,
        "start_time": "2023-01-08T00:22:46.659Z"
      },
      {
        "duration": 11,
        "start_time": "2023-01-08T00:22:46.668Z"
      },
      {
        "duration": 5,
        "start_time": "2023-01-08T00:22:46.680Z"
      },
      {
        "duration": 67,
        "start_time": "2023-01-08T00:22:46.687Z"
      },
      {
        "duration": 5,
        "start_time": "2023-01-08T00:22:46.756Z"
      },
      {
        "duration": 4936,
        "start_time": "2023-01-08T00:22:46.764Z"
      },
      {
        "duration": 10,
        "start_time": "2023-01-08T00:22:51.702Z"
      },
      {
        "duration": 1460,
        "start_time": "2023-01-08T00:23:23.923Z"
      },
      {
        "duration": 417,
        "start_time": "2023-01-08T00:23:25.385Z"
      },
      {
        "duration": 59,
        "start_time": "2023-01-08T00:23:25.803Z"
      },
      {
        "duration": 119,
        "start_time": "2023-01-08T00:23:25.864Z"
      },
      {
        "duration": 240,
        "start_time": "2023-01-08T00:23:25.985Z"
      },
      {
        "duration": 268,
        "start_time": "2023-01-08T00:23:26.226Z"
      },
      {
        "duration": 221,
        "start_time": "2023-01-08T00:23:26.495Z"
      },
      {
        "duration": 34,
        "start_time": "2023-01-08T00:23:26.718Z"
      },
      {
        "duration": 143,
        "start_time": "2023-01-08T00:23:26.754Z"
      },
      {
        "duration": 19,
        "start_time": "2023-01-08T00:23:26.899Z"
      },
      {
        "duration": 20,
        "start_time": "2023-01-08T00:23:26.919Z"
      },
      {
        "duration": 67,
        "start_time": "2023-01-08T00:23:26.941Z"
      },
      {
        "duration": 16,
        "start_time": "2023-01-08T00:23:27.010Z"
      },
      {
        "duration": 151,
        "start_time": "2023-01-08T00:23:27.028Z"
      },
      {
        "duration": 71,
        "start_time": "2023-01-08T00:23:27.181Z"
      },
      {
        "duration": 499,
        "start_time": "2023-01-08T00:23:27.255Z"
      },
      {
        "duration": 100,
        "start_time": "2023-01-08T00:23:27.756Z"
      },
      {
        "duration": 116,
        "start_time": "2023-01-08T00:23:27.861Z"
      },
      {
        "duration": 9,
        "start_time": "2023-01-08T00:23:27.979Z"
      },
      {
        "duration": 33,
        "start_time": "2023-01-08T00:23:27.990Z"
      },
      {
        "duration": 16,
        "start_time": "2023-01-08T00:23:28.024Z"
      },
      {
        "duration": 30,
        "start_time": "2023-01-08T00:23:28.042Z"
      },
      {
        "duration": 11,
        "start_time": "2023-01-08T00:23:28.074Z"
      },
      {
        "duration": 3366,
        "start_time": "2023-01-08T00:23:28.086Z"
      },
      {
        "duration": 10,
        "start_time": "2023-01-08T00:23:31.454Z"
      }
    ],
    "kernelspec": {
      "display_name": "Python 3 (ipykernel)",
      "language": "python",
      "name": "python3"
    },
    "language_info": {
      "codemirror_mode": {
        "name": "ipython",
        "version": 3
      },
      "file_extension": ".py",
      "mimetype": "text/x-python",
      "name": "python",
      "nbconvert_exporter": "python",
      "pygments_lexer": "ipython3",
      "version": "3.9.5"
    },
    "toc": {
      "base_numbering": 1,
      "nav_menu": {},
      "number_sections": true,
      "sideBar": true,
      "skip_h1_title": true,
      "title_cell": "Table of Contents",
      "title_sidebar": "Contents",
      "toc_cell": false,
      "toc_position": {},
      "toc_section_display": true,
      "toc_window_display": true
    },
    "colab": {
      "provenance": []
    }
  },
  "nbformat": 4,
  "nbformat_minor": 0
}