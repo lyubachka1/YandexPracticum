{
  "cells": [
    {
      "cell_type": "markdown",
      "metadata": {
        "toc": true,
        "id": "8W89hbMVhGox"
      },
      "source": [
        "<h1>Содержание<span class=\"tocSkip\"></span></h1>\n",
        "<div class=\"toc\"><ul class=\"toc-item\"><li><span><a href=\"#Загрузка-данных\" data-toc-modified-id=\"Загрузка-данных-1\"><span class=\"toc-item-num\">1&nbsp;&nbsp;</span>Загрузка данных</a></span></li><li><span><a href=\"#Умножение-матриц\" data-toc-modified-id=\"Умножение-матриц-2\"><span class=\"toc-item-num\">2&nbsp;&nbsp;</span>Умножение матриц</a></span></li><li><span><a href=\"#Алгоритм-преобразования\" data-toc-modified-id=\"Алгоритм-преобразования-3\"><span class=\"toc-item-num\">3&nbsp;&nbsp;</span>Алгоритм преобразования</a></span></li><li><span><a href=\"#Проверка-алгоритма\" data-toc-modified-id=\"Проверка-алгоритма-4\"><span class=\"toc-item-num\">4&nbsp;&nbsp;</span>Проверка алгоритма</a></span></li><li><span><a href=\"#Чек-лист-проверки\" data-toc-modified-id=\"Чек-лист-проверки-5\"><span class=\"toc-item-num\">5&nbsp;&nbsp;</span>Чек-лист проверки</a></span></li></ul></div>"
      ]
    },
    {
      "cell_type": "markdown",
      "metadata": {
        "id": "S6s7hxNrhGoz"
      },
      "source": [
        "# Защита персональных данных клиентов"
      ]
    },
    {
      "cell_type": "markdown",
      "metadata": {
        "id": "GYlqtdhghGo0"
      },
      "source": [
        "Вам нужно защитить данные клиентов страховой компании «Хоть потоп». Разработайте такой метод преобразования данных, чтобы по ним было сложно восстановить персональную информацию. Обоснуйте корректность его работы.\n",
        "\n",
        "Нужно защитить данные, чтобы при преобразовании качество моделей машинного обучения не ухудшилось. Подбирать наилучшую модель не требуется."
      ]
    },
    {
      "cell_type": "markdown",
      "metadata": {
        "id": "Aj1ZF2BHhGo1"
      },
      "source": [
        "*Набор данных находится в файле /datasets/insurance.csv.*\n",
        "\n",
        "* **Признаки:** пол, возраст и зарплата застрахованного, количество членов его семьи.\n",
        "* **Целевой признак:** количество страховых выплат клиенту за последние 5 лет."
      ]
    },
    {
      "cell_type": "markdown",
      "metadata": {
        "id": "MW7T8S18hGo2"
      },
      "source": [
        "## Загрузка данных"
      ]
    },
    {
      "cell_type": "markdown",
      "metadata": {
        "id": "NhHqpaFQhGo3"
      },
      "source": [
        "***Откроем файлы и изучим их.***"
      ]
    },
    {
      "cell_type": "markdown",
      "metadata": {
        "id": "TVGfJS9xhGo4"
      },
      "source": [
        "*Импортируем необходимые библиотеки.*"
      ]
    },
    {
      "cell_type": "code",
      "execution_count": null,
      "metadata": {
        "id": "psFHO031hGo5"
      },
      "outputs": [],
      "source": [
        "import pandas as pd\n",
        "import numpy as np\n",
        "\n",
        "from sklearn.linear_model import LinearRegression\n",
        "from sklearn.metrics import r2_score\n",
        "\n",
        "import matplotlib.pyplot as plt\n",
        "import seaborn as sns\n",
        "\n",
        "import warnings\n",
        "warnings.filterwarnings('ignore') # уберем некритические предупреждения в код\n",
        "\n",
        "pd.set_option('display.float_format', '{:.3f}'.format) #вывод значения float до 3 знаков после запятой"
      ]
    },
    {
      "cell_type": "markdown",
      "metadata": {
        "id": "7f_1-ygKhGo9"
      },
      "source": [
        "*Напишем функцию для загрузки данных, посмотрим первые 5 строк датасета, с помощью метода info() изучим структуры таблиц: типы данных, количество строк, столбцов, пропущенных данных и наличие дубликатов.*"
      ]
    },
    {
      "cell_type": "code",
      "execution_count": null,
      "metadata": {
        "id": "bEfXw-5xhGo-"
      },
      "outputs": [],
      "source": [
        "def data_read(file):\n",
        "    # читаем данные из .csv файла с помощью метода read_csv()\n",
        "    data = pd.read_csv(file)\n",
        "    display(data.head())\n",
        "    print()\n",
        "    print('Количество пропусков:')\n",
        "    print(data.isna().sum())\n",
        "    print()\n",
        "    data.info()\n",
        "    print()\n",
        "    print('Количество дубликатов:', sum(data.duplicated()))\n",
        "    return data"
      ]
    },
    {
      "cell_type": "code",
      "execution_count": null,
      "metadata": {
        "id": "aLgOQ3xJhGo_",
        "outputId": "ccaa3492-2ff4-4240-dbbb-cc2e7f7c7742"
      },
      "outputs": [
        {
          "data": {
            "text/html": [
              "<div>\n",
              "<style scoped>\n",
              "    .dataframe tbody tr th:only-of-type {\n",
              "        vertical-align: middle;\n",
              "    }\n",
              "\n",
              "    .dataframe tbody tr th {\n",
              "        vertical-align: top;\n",
              "    }\n",
              "\n",
              "    .dataframe thead th {\n",
              "        text-align: right;\n",
              "    }\n",
              "</style>\n",
              "<table border=\"1\" class=\"dataframe\">\n",
              "  <thead>\n",
              "    <tr style=\"text-align: right;\">\n",
              "      <th></th>\n",
              "      <th>Пол</th>\n",
              "      <th>Возраст</th>\n",
              "      <th>Зарплата</th>\n",
              "      <th>Члены семьи</th>\n",
              "      <th>Страховые выплаты</th>\n",
              "    </tr>\n",
              "  </thead>\n",
              "  <tbody>\n",
              "    <tr>\n",
              "      <th>0</th>\n",
              "      <td>1</td>\n",
              "      <td>41.000</td>\n",
              "      <td>49600.000</td>\n",
              "      <td>1</td>\n",
              "      <td>0</td>\n",
              "    </tr>\n",
              "    <tr>\n",
              "      <th>1</th>\n",
              "      <td>0</td>\n",
              "      <td>46.000</td>\n",
              "      <td>38000.000</td>\n",
              "      <td>1</td>\n",
              "      <td>1</td>\n",
              "    </tr>\n",
              "    <tr>\n",
              "      <th>2</th>\n",
              "      <td>0</td>\n",
              "      <td>29.000</td>\n",
              "      <td>21000.000</td>\n",
              "      <td>0</td>\n",
              "      <td>0</td>\n",
              "    </tr>\n",
              "    <tr>\n",
              "      <th>3</th>\n",
              "      <td>0</td>\n",
              "      <td>21.000</td>\n",
              "      <td>41700.000</td>\n",
              "      <td>2</td>\n",
              "      <td>0</td>\n",
              "    </tr>\n",
              "    <tr>\n",
              "      <th>4</th>\n",
              "      <td>1</td>\n",
              "      <td>28.000</td>\n",
              "      <td>26100.000</td>\n",
              "      <td>0</td>\n",
              "      <td>0</td>\n",
              "    </tr>\n",
              "  </tbody>\n",
              "</table>\n",
              "</div>"
            ],
            "text/plain": [
              "   Пол  Возраст  Зарплата  Члены семьи  Страховые выплаты\n",
              "0    1   41.000 49600.000            1                  0\n",
              "1    0   46.000 38000.000            1                  1\n",
              "2    0   29.000 21000.000            0                  0\n",
              "3    0   21.000 41700.000            2                  0\n",
              "4    1   28.000 26100.000            0                  0"
            ]
          },
          "metadata": {},
          "output_type": "display_data"
        },
        {
          "name": "stdout",
          "output_type": "stream",
          "text": [
            "\n",
            "Количество пропусков:\n",
            "Пол                  0\n",
            "Возраст              0\n",
            "Зарплата             0\n",
            "Члены семьи          0\n",
            "Страховые выплаты    0\n",
            "dtype: int64\n",
            "\n",
            "<class 'pandas.core.frame.DataFrame'>\n",
            "RangeIndex: 5000 entries, 0 to 4999\n",
            "Data columns (total 5 columns):\n",
            " #   Column             Non-Null Count  Dtype  \n",
            "---  ------             --------------  -----  \n",
            " 0   Пол                5000 non-null   int64  \n",
            " 1   Возраст            5000 non-null   float64\n",
            " 2   Зарплата           5000 non-null   float64\n",
            " 3   Члены семьи        5000 non-null   int64  \n",
            " 4   Страховые выплаты  5000 non-null   int64  \n",
            "dtypes: float64(2), int64(3)\n",
            "memory usage: 195.4 KB\n",
            "\n",
            "Количество дубликатов: 153\n"
          ]
        }
      ],
      "source": [
        "# исходные данные\n",
        "data = data_read('/datasets/insurance.csv')"
      ]
    },
    {
      "cell_type": "markdown",
      "metadata": {
        "id": "XJFkaFyehGpE"
      },
      "source": [
        "*Видим наличие дубликатов. Удалим их.*"
      ]
    },
    {
      "cell_type": "code",
      "execution_count": null,
      "metadata": {
        "id": "TepQL-q1hGpF",
        "outputId": "92e57b6d-4c23-4519-dd16-c3c7eaed85d6"
      },
      "outputs": [
        {
          "data": {
            "text/plain": [
              "0"
            ]
          },
          "execution_count": 4,
          "metadata": {},
          "output_type": "execute_result"
        }
      ],
      "source": [
        "data.drop_duplicates(inplace=True)\n",
        "data.duplicated().sum()"
      ]
    },
    {
      "cell_type": "markdown",
      "metadata": {
        "id": "qBA-gUq1hGpH"
      },
      "source": [
        "*Посмотрим основные статистические показатели данных.*"
      ]
    },
    {
      "cell_type": "code",
      "execution_count": null,
      "metadata": {
        "id": "LjJdrEruhGpI",
        "outputId": "8baa0d27-c104-4edd-bcc4-ca5ce0285c76"
      },
      "outputs": [
        {
          "data": {
            "text/html": [
              "<div>\n",
              "<style scoped>\n",
              "    .dataframe tbody tr th:only-of-type {\n",
              "        vertical-align: middle;\n",
              "    }\n",
              "\n",
              "    .dataframe tbody tr th {\n",
              "        vertical-align: top;\n",
              "    }\n",
              "\n",
              "    .dataframe thead th {\n",
              "        text-align: right;\n",
              "    }\n",
              "</style>\n",
              "<table border=\"1\" class=\"dataframe\">\n",
              "  <thead>\n",
              "    <tr style=\"text-align: right;\">\n",
              "      <th></th>\n",
              "      <th>Пол</th>\n",
              "      <th>Возраст</th>\n",
              "      <th>Зарплата</th>\n",
              "      <th>Члены семьи</th>\n",
              "      <th>Страховые выплаты</th>\n",
              "    </tr>\n",
              "  </thead>\n",
              "  <tbody>\n",
              "    <tr>\n",
              "      <th>count</th>\n",
              "      <td>4847.000</td>\n",
              "      <td>4847.000</td>\n",
              "      <td>4847.000</td>\n",
              "      <td>4847.000</td>\n",
              "      <td>4847.000</td>\n",
              "    </tr>\n",
              "    <tr>\n",
              "      <th>mean</th>\n",
              "      <td>0.498</td>\n",
              "      <td>31.024</td>\n",
              "      <td>39895.812</td>\n",
              "      <td>1.203</td>\n",
              "      <td>0.152</td>\n",
              "    </tr>\n",
              "    <tr>\n",
              "      <th>std</th>\n",
              "      <td>0.500</td>\n",
              "      <td>8.488</td>\n",
              "      <td>9972.954</td>\n",
              "      <td>1.099</td>\n",
              "      <td>0.469</td>\n",
              "    </tr>\n",
              "    <tr>\n",
              "      <th>min</th>\n",
              "      <td>0.000</td>\n",
              "      <td>18.000</td>\n",
              "      <td>5300.000</td>\n",
              "      <td>0.000</td>\n",
              "      <td>0.000</td>\n",
              "    </tr>\n",
              "    <tr>\n",
              "      <th>25%</th>\n",
              "      <td>0.000</td>\n",
              "      <td>24.000</td>\n",
              "      <td>33200.000</td>\n",
              "      <td>0.000</td>\n",
              "      <td>0.000</td>\n",
              "    </tr>\n",
              "    <tr>\n",
              "      <th>50%</th>\n",
              "      <td>0.000</td>\n",
              "      <td>30.000</td>\n",
              "      <td>40200.000</td>\n",
              "      <td>1.000</td>\n",
              "      <td>0.000</td>\n",
              "    </tr>\n",
              "    <tr>\n",
              "      <th>75%</th>\n",
              "      <td>1.000</td>\n",
              "      <td>37.000</td>\n",
              "      <td>46600.000</td>\n",
              "      <td>2.000</td>\n",
              "      <td>0.000</td>\n",
              "    </tr>\n",
              "    <tr>\n",
              "      <th>max</th>\n",
              "      <td>1.000</td>\n",
              "      <td>65.000</td>\n",
              "      <td>79000.000</td>\n",
              "      <td>6.000</td>\n",
              "      <td>5.000</td>\n",
              "    </tr>\n",
              "  </tbody>\n",
              "</table>\n",
              "</div>"
            ],
            "text/plain": [
              "           Пол  Возраст  Зарплата  Члены семьи  Страховые выплаты\n",
              "count 4847.000 4847.000  4847.000     4847.000           4847.000\n",
              "mean     0.498   31.024 39895.812        1.203              0.152\n",
              "std      0.500    8.488  9972.954        1.099              0.469\n",
              "min      0.000   18.000  5300.000        0.000              0.000\n",
              "25%      0.000   24.000 33200.000        0.000              0.000\n",
              "50%      0.000   30.000 40200.000        1.000              0.000\n",
              "75%      1.000   37.000 46600.000        2.000              0.000\n",
              "max      1.000   65.000 79000.000        6.000              5.000"
            ]
          },
          "execution_count": 5,
          "metadata": {},
          "output_type": "execute_result"
        }
      ],
      "source": [
        "data.describe()"
      ]
    },
    {
      "cell_type": "markdown",
      "metadata": {
        "id": "KrRHbLujhGpJ"
      },
      "source": [
        "* *Пол - данные практически равномерно распределены между мужчинами и женщинами.*\n",
        "* *Возраст - средний возраст застрахованного составляет 31 год, медиана составляет 30 лет.*\n",
        "* *Члены семьи - половина клиентов не имеет семьи.*\n",
        "* *Средняя зарплата 40 000 руб.*"
      ]
    },
    {
      "cell_type": "markdown",
      "metadata": {
        "id": "gnyEECRshGpK"
      },
      "source": [
        "*Построим матрицу корреляций.*"
      ]
    },
    {
      "cell_type": "code",
      "execution_count": null,
      "metadata": {
        "id": "HACB0kxfhGpK",
        "outputId": "4eca7a9b-f371-4c23-c13e-0ddf709d585f"
      },
      "outputs": [
        {
          "data": {
            "text/plain": [
              "<AxesSubplot:>"
            ]
          },
          "execution_count": 6,
          "metadata": {},
          "output_type": "execute_result"
        },
        {
          "data": {
            "image/png": "[encoded data removed]",
            "text/plain": [
              "<Figure size 504x504 with 2 Axes>"
            ]
          },
          "metadata": {
            "needs_background": "light"
          },
          "output_type": "display_data"
        }
      ],
      "source": [
        "plt.rcParams['figure.figsize'] = (7.0, 7.0)\n",
        "sns.heatmap(data.corr(), annot=True, cmap='YlGnBu', linewidths=0.1, linecolor='black')"
      ]
    },
    {
      "cell_type": "markdown",
      "metadata": {
        "id": "j2bIRFSahGpL"
      },
      "source": [
        "*Матрица корелляций показывает зависимость страховых выплат от возраста.\\\n",
        "Значительных зависимостей между обучающими признаками нет.*"
      ]
    },
    {
      "cell_type": "markdown",
      "metadata": {
        "id": "UOIIgmMEhGpM"
      },
      "source": [
        "*Посмотрим зависимость между возрастом и страховыми выплатами.*"
      ]
    },
    {
      "cell_type": "code",
      "execution_count": null,
      "metadata": {
        "id": "Zuwbck4AhGpM",
        "outputId": "dac43ccf-ee97-4760-e050-549e357386c9"
      },
      "outputs": [
        {
          "data": {
            "image/png": "[encoded data removed]",
            "text/plain": [
              "<Figure size 504x504 with 1 Axes>"
            ]
          },
          "metadata": {
            "needs_background": "light"
          },
          "output_type": "display_data"
        }
      ],
      "source": [
        "data.plot(x='Возраст', y='Страховые выплаты',style='o', alpha=0.5, grid=True)\n",
        "plt.title('Корреляция между возрастом и страховыми выплатами')\n",
        "plt.show()"
      ]
    },
    {
      "cell_type": "markdown",
      "metadata": {
        "id": "Dbe4HqFXhGpN"
      },
      "source": [
        "*Чем больше возраст застрахованного лица, тем больше вероятность того, что ему потребуются страховые выплаты.*"
      ]
    },
    {
      "cell_type": "markdown",
      "metadata": {
        "id": "UmeNUSshhGpO"
      },
      "source": [
        "**Вывод:**\n",
        "* Загружены и изучены данные\n",
        "* Все данные в датасете заполнены (пропусков нет).\n",
        "* Выявлены и удалены дубликаты.\n",
        "* Основные статистические показатели данных:\n",
        "    * *Пол - данные практически равномерно распределены между мужчинами и женщинами.*\n",
        "    * *Возраст - средний возраст застрахованного составляет 31 год, медиана составляет 30 лет.*\n",
        "    * *Члены семьи - половина клиентов не имеет семьи.*\n",
        "    * *Средняя зарплата 40 000 руб.*\n",
        "* Матрица корелляций показала зависимость страховых выплат от возраста: чем больше возраст застрахованного лица, тем больше вероятность того, что ему потребуются страховые выплаты."
      ]
    },
    {
      "cell_type": "markdown",
      "metadata": {
        "id": "aOa1QW89hGpR"
      },
      "source": [
        "## Умножение матриц"
      ]
    },
    {
      "cell_type": "markdown",
      "metadata": {
        "id": "UhCFUbk6hGpR"
      },
      "source": [
        "В этом задании вы можете записывать формулы в *Jupyter Notebook.*\n",
        "\n",
        "Чтобы записать формулу внутри текста, окружите её символами доллара \\\\$; если снаружи —  двойными символами \\\\$\\\\$. Эти формулы записываются на языке вёрстки *LaTeX.*\n",
        "\n",
        "Для примера мы записали формулы линейной регрессии. Можете их скопировать и отредактировать, чтобы решить задачу.\n",
        "\n",
        "Работать в *LaTeX* необязательно."
      ]
    },
    {
      "cell_type": "markdown",
      "metadata": {
        "id": "afLlXkA6hGpS"
      },
      "source": [
        "Обозначения:\n",
        "\n",
        "- $X$ — матрица признаков (нулевой столбец состоит из единиц)\n",
        "\n",
        "- $y$ — вектор целевого признака\n",
        "\n",
        "- $P$ — матрица, на которую умножаются признаки\n",
        "\n",
        "- $w$ — вектор весов линейной регрессии (нулевой элемент равен сдвигу)"
      ]
    },
    {
      "cell_type": "markdown",
      "metadata": {
        "id": "2M5pr1YkhGpS"
      },
      "source": [
        "Предсказания:\n",
        "\n",
        "$$\n",
        "a = Xw\n",
        "$$\n",
        "\n",
        "Задача обучения:\n",
        "\n",
        "$$\n",
        "w = \\arg\\min_w MSE(Xw, y)\n",
        "$$\n",
        "\n",
        "Формула обучения:\n",
        "\n",
        "$$\n",
        "w = (X^T X)^{-1} X^T y\n",
        "$$"
      ]
    },
    {
      "cell_type": "markdown",
      "metadata": {
        "id": "mhX7tx8VhGpT"
      },
      "source": [
        "**Ответ:** не изменится\n",
        "\n",
        "**Обоснование:**"
      ]
    },
    {
      "cell_type": "markdown",
      "metadata": {
        "id": "RUQeUdAXhGpU"
      },
      "source": [
        "Если любую матрицу A умножить на единичную (или наоборот), получится эта же матрица A (1):\n",
        "\n",
        "$$\n",
        "AE = EA = A\n",
        "$$\n",
        "\n",
        "Обратная для квадратной матрицы A (англ. inverse matrix) — матрица A с верхним индексом -1, произведение которой на А равно единичной матрице. Умножение может быть в любом порядке (2):\n",
        "\n",
        "$$\n",
        "AA^{-1}=A^{-1}A\n",
        "$$\n",
        "\n",
        "Свойства матриц, которые нам понадобятся (3), (4):\n",
        "\n",
        "$$\n",
        "(AB)^{T}=B^{T}A^{T}\n",
        "$$\n",
        "$$\n",
        "(AB)^{-1}=B^{-1}A^{-1}\n",
        "$$\n",
        "\n",
        "Предположим что $a = a'$, где $a'$ - это предсказание, в которое мы передали матрицу признаков $X$, умноженную на матрицу\n",
        "\n",
        "Получим предсказания для домноженных признаков.\\\n",
        "Умноженная матрица будет иметь вид $XP$. Фомула предсказаний примет следующий вид:\n",
        "\n",
        "$$\n",
        "a'=XPw'\n",
        "$$\n",
        "\n",
        "Подставим в формулу предсказаний формулу обучения. Получим:\n",
        "\n",
        "$$\n",
        "a'=XP((XP)^T XP)^{-1} (XP)^T y\n",
        "$$\n",
        "\n",
        "Преобразуем уравнение с помощью свойства (3):\n",
        "\n",
        "$$\n",
        "a'=XP(P^T X^T XP)^{-1} P^T X^T y\n",
        "$$\n",
        "\n",
        "Преобразуем уравнение с помощью свойства (4):\n",
        "\n",
        "$$\n",
        "a'=XP(X^T XP)^{-1} (P^T)^{-1} P^T X^T y = XP (P)^{-1}(X^T X)^{-1} (P^T)^{-1} P^T X^T y\n",
        "$$\n",
        "\n",
        "Преобразуем уравнение с помощью свойства (1) и сократим его:\n",
        "\n",
        "$$\n",
        "a'=XE(X^T X)^{-1} E X^T y=X(X^T X)^{-1} X^Ty\n",
        "$$\n",
        "\n",
        "\n",
        "Так как\n",
        "$$\n",
        "a'= X(X^T X)^{-1} X^Ty\n",
        "$$\n",
        "$$\n",
        "w = (X^T X)^{-1} X^T y\n",
        "$$\n",
        "То $a'=Xw$, $a=a'$\n",
        "\n",
        "*Следовательно, домножение признаков на обратимую матрицу не влияет на качество линейной регрессии.\\\n",
        "Что и требовалось докозать.*"
      ]
    },
    {
      "cell_type": "markdown",
      "metadata": {
        "id": "6Y8z5bjhhGpV"
      },
      "source": [
        "**Вывод:**\\\n",
        "Теоретически доказали, что при умножении признаков на обратимую матрицу, качество линейной регрессии не изменяется."
      ]
    },
    {
      "cell_type": "markdown",
      "metadata": {
        "id": "_6W2nQbHhGpY"
      },
      "source": [
        "## Алгоритм преобразования"
      ]
    },
    {
      "cell_type": "markdown",
      "metadata": {
        "id": "6ZAuZ3t8hGpw"
      },
      "source": [
        "**Алгоритм**\n",
        "\n",
        "\n",
        "*Напишем класс для создания алгоритма, применив матричные операции.*"
      ]
    },
    {
      "cell_type": "code",
      "execution_count": null,
      "metadata": {
        "id": "MCS8YO5thGpx"
      },
      "outputs": [],
      "source": [
        "# класс линейной регрессии\n",
        "class LinearRegression:\n",
        " # метод обучения модели для матрицы признаков\n",
        "    def fit(self, train_features, train_target):\n",
        "        X = np.concatenate((np.ones((train_features.shape[0], 1)), train_features), axis=1)\n",
        "        y = train_target\n",
        "        # вектов весов для матрицы признаков\n",
        "        self.w = np.linalg.inv(X.T @ X) @ X.T @ y\n",
        "\n",
        "# метод обучения модели для матрицы зашифрованных данных\n",
        "    def fit_encryption(self, train_features, train_target):\n",
        "        # Формируем матрицу X с первым единичным полем\n",
        "        X = np.concatenate((np.ones((train_features.shape[0], 1)), train_features), axis=1)\n",
        "        y = train_target\n",
        "        # Формируем рандомную квадратную матрицу 5 на 5\n",
        "        self.P = np.random.normal(0, 100, (5,5))\n",
        "        # Проверим, обратима ли матрица\n",
        "        np.linalg.inv(self.P )\n",
        "        #  матрица зашифрованных данных\n",
        "        Z = X @ self.P\n",
        "        self.w = np.linalg.inv(Z.T @ Z) @ Z.T @ y\n",
        "\n",
        "# метод получения прогноза для матрицы признаков\n",
        "    def predict(self, test_features):\n",
        "        X = np.concatenate((np.ones((test_features.shape[0], 1)), test_features), axis=1)\n",
        "        A = X @ self.w\n",
        "        return A\n",
        "\n",
        "# метод получения прогноза для матрицы зашифрованных данных\n",
        "    def predict_encryption(self, test_features):\n",
        "        X = np.concatenate((np.ones((test_features.shape[0], 1)), test_features), axis=1)\n",
        "        Z = X @ self.P\n",
        "        A_1 = Z @ self.w\n",
        "        return A_1"
      ]
    },
    {
      "cell_type": "markdown",
      "metadata": {
        "id": "zsKgrYc0hGpy"
      },
      "source": [
        "**Обоснование**\n",
        "\n",
        "\n",
        "*В основе написанного алгоритма лежит доказанное выше утверждение.*"
      ]
    },
    {
      "cell_type": "markdown",
      "metadata": {
        "id": "CuaQXrIHhGpz"
      },
      "source": [
        "**Вывод:**\\\n",
        "Написали класс для создания алгоритма, применив матричные операции."
      ]
    },
    {
      "cell_type": "markdown",
      "metadata": {
        "id": "Rg2DPqbchGp1"
      },
      "source": [
        "## Проверка алгоритма"
      ]
    },
    {
      "cell_type": "code",
      "execution_count": null,
      "metadata": {
        "id": "xgln61JIhGp1"
      },
      "outputs": [],
      "source": [
        "features = data.drop('Страховые выплаты', axis=1)\n",
        "target = data['Страховые выплаты']"
      ]
    },
    {
      "cell_type": "code",
      "execution_count": null,
      "metadata": {
        "id": "kUpejaRehGp2"
      },
      "outputs": [],
      "source": [
        "# прогнозная модель для матрицы признаков\n",
        "model = LinearRegression()\n",
        "model.fit(features, target)\n",
        "predictions_X = model.predict(features)"
      ]
    },
    {
      "cell_type": "code",
      "execution_count": null,
      "metadata": {
        "id": "txgUuK5LhGp3"
      },
      "outputs": [],
      "source": [
        "# прогнозная модель для зашифрованной матрицы\n",
        "model.fit_encryption(features, target)\n",
        "predictions_Z = model.predict_encryption(features)"
      ]
    },
    {
      "cell_type": "code",
      "execution_count": null,
      "metadata": {
        "id": "ZW_hjuxRhGp4",
        "outputId": "a9eb2140-6903-4429-cbd3-048c2291850c"
      },
      "outputs": [
        {
          "data": {
            "text/html": [
              "<div>\n",
              "<style scoped>\n",
              "    .dataframe tbody tr th:only-of-type {\n",
              "        vertical-align: middle;\n",
              "    }\n",
              "\n",
              "    .dataframe tbody tr th {\n",
              "        vertical-align: top;\n",
              "    }\n",
              "\n",
              "    .dataframe thead th {\n",
              "        text-align: right;\n",
              "    }\n",
              "</style>\n",
              "<table border=\"1\" class=\"dataframe\">\n",
              "  <thead>\n",
              "    <tr style=\"text-align: right;\">\n",
              "      <th></th>\n",
              "      <th>Тип данных</th>\n",
              "      <th>R2-score</th>\n",
              "    </tr>\n",
              "  </thead>\n",
              "  <tbody>\n",
              "    <tr>\n",
              "      <th>0</th>\n",
              "      <td>нешифрованные данные</td>\n",
              "      <td>0.430</td>\n",
              "    </tr>\n",
              "    <tr>\n",
              "      <th>1</th>\n",
              "      <td>шифрованные данные</td>\n",
              "      <td>0.430</td>\n",
              "    </tr>\n",
              "  </tbody>\n",
              "</table>\n",
              "</div>"
            ],
            "text/plain": [
              "             Тип данных  R2-score\n",
              "0  нешифрованные данные     0.430\n",
              "1    шифрованные данные     0.430"
            ]
          },
          "execution_count": 12,
          "metadata": {},
          "output_type": "execute_result"
        }
      ],
      "source": [
        "# сведём R2 показатели для матрицы признаков(нешифрованных данных) и зашифрованной матрицы(шифрованные данные)\n",
        "data_result = pd.DataFrame({'Тип данных' : ['нешифрованные данные',\n",
        "                                            'шифрованные данные'],\n",
        "                            'R2-score'   : [r2_score(target, predictions_X),\n",
        "                                            r2_score(target, predictions_Z)]})\n",
        "data_result"
      ]
    },
    {
      "cell_type": "markdown",
      "metadata": {
        "id": "gUZj2IhohGp5"
      },
      "source": [
        "*Метрики R2 обеих моделей одиннаковые, следовательно умножение исходных данных на случайную обратимую матрицу может быть применено для шифрования.*"
      ]
    },
    {
      "cell_type": "markdown",
      "metadata": {
        "id": "kR8xuk03hGp8"
      },
      "source": [
        "**Вывод:**\n",
        "* Загрузили и изучили данные.\n",
        "* Пропусков нет. Дубликаты удалены.\n",
        "* Найдена зависимость количества страховых выплат за последние пять лет от возраста клиента.\n",
        "* Теоретически обосновали, что при умножении признаков на обратимую матрицу, качество линейной регрессии не изменяется.\n",
        "* Написан алгоритм преобразования, основанный на теоретически доказанном утверждении.\n",
        "* Практически проверили алгоритм: метрики R2 обеих моделей (нешифрованных и шифрованных данных) совпадают.\n",
        "* Умножение исходных данных на случайную обратимую матрицу может быть применено для шифрования данных."
      ]
    }
  ],
  "metadata": {
    "ExecuteTimeLog": [
      {
        "duration": 70,
        "start_time": "2023-01-28T09:22:31.421Z"
      },
      {
        "duration": 2,
        "start_time": "2023-01-28T09:38:24.872Z"
      },
      {
        "duration": 46,
        "start_time": "2023-01-28T09:39:19.647Z"
      },
      {
        "duration": 1028,
        "start_time": "2023-01-28T09:39:34.055Z"
      },
      {
        "duration": 3,
        "start_time": "2023-01-28T09:39:38.306Z"
      },
      {
        "duration": 108,
        "start_time": "2023-01-28T09:39:39.345Z"
      },
      {
        "duration": 4,
        "start_time": "2023-01-28T09:41:06.133Z"
      },
      {
        "duration": 7,
        "start_time": "2023-01-28T09:43:55.579Z"
      },
      {
        "duration": 4,
        "start_time": "2023-01-28T09:46:59.423Z"
      },
      {
        "duration": 38,
        "start_time": "2023-01-28T09:47:03.788Z"
      },
      {
        "duration": 4,
        "start_time": "2023-01-28T09:47:15.134Z"
      },
      {
        "duration": 41,
        "start_time": "2023-01-28T09:47:17.523Z"
      },
      {
        "duration": 44,
        "start_time": "2023-01-28T09:47:36.149Z"
      },
      {
        "duration": 3,
        "start_time": "2023-01-28T09:48:26.566Z"
      },
      {
        "duration": 39,
        "start_time": "2023-01-28T09:48:29.431Z"
      },
      {
        "duration": 64,
        "start_time": "2023-01-28T09:51:56.286Z"
      },
      {
        "duration": 431,
        "start_time": "2023-01-28T09:52:26.547Z"
      },
      {
        "duration": 21,
        "start_time": "2023-01-28T09:52:31.129Z"
      },
      {
        "duration": 58,
        "start_time": "2023-01-28T09:52:53.414Z"
      },
      {
        "duration": 708,
        "start_time": "2023-01-28T09:52:58.384Z"
      },
      {
        "duration": 351,
        "start_time": "2023-01-28T09:53:16.225Z"
      },
      {
        "duration": 441,
        "start_time": "2023-01-28T09:53:54.280Z"
      },
      {
        "duration": 454,
        "start_time": "2023-01-28T09:54:07.146Z"
      },
      {
        "duration": 75,
        "start_time": "2023-01-28T09:57:01.279Z"
      },
      {
        "duration": 458,
        "start_time": "2023-01-28T09:57:51.475Z"
      },
      {
        "duration": 391,
        "start_time": "2023-01-28T09:58:16.667Z"
      },
      {
        "duration": 408,
        "start_time": "2023-01-28T09:58:24.937Z"
      },
      {
        "duration": 379,
        "start_time": "2023-01-28T09:58:30.735Z"
      },
      {
        "duration": 384,
        "start_time": "2023-01-28T09:59:06.260Z"
      },
      {
        "duration": 397,
        "start_time": "2023-01-28T09:59:22.110Z"
      },
      {
        "duration": 426,
        "start_time": "2023-01-28T10:00:05.256Z"
      },
      {
        "duration": 402,
        "start_time": "2023-01-28T10:00:14.562Z"
      },
      {
        "duration": 369,
        "start_time": "2023-01-28T10:00:24.758Z"
      },
      {
        "duration": 419,
        "start_time": "2023-01-28T10:00:32.268Z"
      },
      {
        "duration": 468,
        "start_time": "2023-01-28T10:00:39.838Z"
      },
      {
        "duration": 366,
        "start_time": "2023-01-28T10:01:00.041Z"
      },
      {
        "duration": 190,
        "start_time": "2023-01-28T10:06:14.198Z"
      },
      {
        "duration": 1478,
        "start_time": "2023-01-28T10:10:29.580Z"
      },
      {
        "duration": 5,
        "start_time": "2023-01-28T10:10:31.061Z"
      },
      {
        "duration": 63,
        "start_time": "2023-01-28T10:10:31.067Z"
      },
      {
        "duration": 11,
        "start_time": "2023-01-28T10:10:31.132Z"
      },
      {
        "duration": 430,
        "start_time": "2023-01-28T10:10:31.145Z"
      },
      {
        "duration": 169,
        "start_time": "2023-01-28T10:10:31.577Z"
      },
      {
        "duration": 197,
        "start_time": "2023-01-28T10:11:36.562Z"
      },
      {
        "duration": 146,
        "start_time": "2023-01-28T10:11:47.743Z"
      },
      {
        "duration": 223,
        "start_time": "2023-01-28T10:12:26.935Z"
      },
      {
        "duration": 153,
        "start_time": "2023-01-28T10:12:32.451Z"
      },
      {
        "duration": 169,
        "start_time": "2023-01-28T10:12:46.864Z"
      },
      {
        "duration": 210,
        "start_time": "2023-01-28T10:12:56.981Z"
      },
      {
        "duration": 225,
        "start_time": "2023-01-28T10:13:30.206Z"
      },
      {
        "duration": 214,
        "start_time": "2023-01-28T10:13:35.665Z"
      },
      {
        "duration": 162,
        "start_time": "2023-01-28T10:13:44.934Z"
      },
      {
        "duration": 186,
        "start_time": "2023-01-28T10:13:50.849Z"
      },
      {
        "duration": 19,
        "start_time": "2023-01-28T10:14:58.976Z"
      },
      {
        "duration": 4,
        "start_time": "2023-01-28T10:36:40.901Z"
      },
      {
        "duration": 4,
        "start_time": "2023-01-28T10:36:45.003Z"
      },
      {
        "duration": 38,
        "start_time": "2023-01-28T10:36:47.141Z"
      },
      {
        "duration": 9,
        "start_time": "2023-01-28T10:36:51.779Z"
      },
      {
        "duration": 22,
        "start_time": "2023-01-28T10:36:53.547Z"
      },
      {
        "duration": 382,
        "start_time": "2023-01-28T10:37:00.671Z"
      },
      {
        "duration": 166,
        "start_time": "2023-01-28T10:37:05.302Z"
      },
      {
        "duration": 1578,
        "start_time": "2023-01-28T16:52:17.798Z"
      },
      {
        "duration": 5,
        "start_time": "2023-01-28T16:52:19.378Z"
      },
      {
        "duration": 143,
        "start_time": "2023-01-28T16:52:19.384Z"
      },
      {
        "duration": 10,
        "start_time": "2023-01-28T16:52:19.529Z"
      },
      {
        "duration": 37,
        "start_time": "2023-01-28T16:52:19.540Z"
      },
      {
        "duration": 429,
        "start_time": "2023-01-28T16:52:19.579Z"
      },
      {
        "duration": 166,
        "start_time": "2023-01-28T16:52:20.011Z"
      },
      {
        "duration": 6,
        "start_time": "2023-01-28T16:52:20.182Z"
      },
      {
        "duration": 33,
        "start_time": "2023-01-28T16:52:20.190Z"
      },
      {
        "duration": 135,
        "start_time": "2023-01-28T16:52:20.227Z"
      },
      {
        "duration": 0,
        "start_time": "2023-01-28T16:52:20.365Z"
      },
      {
        "duration": 1,
        "start_time": "2023-01-28T16:52:20.365Z"
      },
      {
        "duration": 0,
        "start_time": "2023-01-28T16:52:20.367Z"
      },
      {
        "duration": 1384,
        "start_time": "2023-01-28T16:57:39.745Z"
      },
      {
        "duration": 3,
        "start_time": "2023-01-28T16:57:41.131Z"
      },
      {
        "duration": 51,
        "start_time": "2023-01-28T16:57:41.135Z"
      },
      {
        "duration": 7,
        "start_time": "2023-01-28T16:57:41.187Z"
      },
      {
        "duration": 21,
        "start_time": "2023-01-28T16:57:41.196Z"
      },
      {
        "duration": 353,
        "start_time": "2023-01-28T16:57:41.218Z"
      },
      {
        "duration": 166,
        "start_time": "2023-01-28T16:57:41.573Z"
      },
      {
        "duration": 6,
        "start_time": "2023-01-28T16:57:49.178Z"
      },
      {
        "duration": 10,
        "start_time": "2023-01-28T16:57:49.186Z"
      },
      {
        "duration": 70,
        "start_time": "2023-01-28T16:57:49.198Z"
      },
      {
        "duration": 0,
        "start_time": "2023-01-28T16:57:49.270Z"
      },
      {
        "duration": 0,
        "start_time": "2023-01-28T16:57:49.272Z"
      },
      {
        "duration": 0,
        "start_time": "2023-01-28T16:57:49.273Z"
      },
      {
        "duration": 8,
        "start_time": "2023-01-28T16:58:14.532Z"
      },
      {
        "duration": 125,
        "start_time": "2023-01-28T16:58:17.085Z"
      },
      {
        "duration": 4,
        "start_time": "2023-01-28T17:02:13.386Z"
      },
      {
        "duration": 5,
        "start_time": "2023-01-28T17:02:24.286Z"
      },
      {
        "duration": 13,
        "start_time": "2023-01-28T17:02:28.684Z"
      },
      {
        "duration": 4,
        "start_time": "2023-01-28T17:04:27.576Z"
      },
      {
        "duration": 4,
        "start_time": "2023-01-28T17:04:45.811Z"
      },
      {
        "duration": 7,
        "start_time": "2023-01-28T17:05:26.111Z"
      },
      {
        "duration": 13,
        "start_time": "2023-01-28T17:05:30.920Z"
      },
      {
        "duration": 1347,
        "start_time": "2023-01-28T17:06:13.387Z"
      },
      {
        "duration": 4,
        "start_time": "2023-01-28T17:06:14.736Z"
      },
      {
        "duration": 53,
        "start_time": "2023-01-28T17:06:14.741Z"
      },
      {
        "duration": 6,
        "start_time": "2023-01-28T17:06:14.796Z"
      },
      {
        "duration": 21,
        "start_time": "2023-01-28T17:06:14.804Z"
      },
      {
        "duration": 359,
        "start_time": "2023-01-28T17:06:14.826Z"
      },
      {
        "duration": 156,
        "start_time": "2023-01-28T17:06:15.187Z"
      },
      {
        "duration": 6,
        "start_time": "2023-01-28T17:06:15.344Z"
      },
      {
        "duration": 10,
        "start_time": "2023-01-28T17:06:15.351Z"
      },
      {
        "duration": 26,
        "start_time": "2023-01-28T17:06:15.363Z"
      },
      {
        "duration": 195,
        "start_time": "2023-01-28T17:06:15.391Z"
      },
      {
        "duration": 116,
        "start_time": "2023-01-28T17:06:15.588Z"
      },
      {
        "duration": 0,
        "start_time": "2023-01-28T17:06:15.706Z"
      },
      {
        "duration": 6,
        "start_time": "2023-01-28T17:06:52.031Z"
      },
      {
        "duration": 4,
        "start_time": "2023-01-28T17:06:56.771Z"
      },
      {
        "duration": 8,
        "start_time": "2023-01-28T17:06:58.205Z"
      },
      {
        "duration": 5,
        "start_time": "2023-01-28T17:06:59.843Z"
      },
      {
        "duration": 15,
        "start_time": "2023-01-28T17:07:00.749Z"
      },
      {
        "duration": 6,
        "start_time": "2023-01-28T17:07:36.554Z"
      },
      {
        "duration": 5,
        "start_time": "2023-01-28T17:07:42.094Z"
      },
      {
        "duration": 8,
        "start_time": "2023-01-28T17:07:43.261Z"
      },
      {
        "duration": 4,
        "start_time": "2023-01-28T17:07:44.079Z"
      },
      {
        "duration": 7,
        "start_time": "2023-01-28T17:07:45.458Z"
      },
      {
        "duration": 5,
        "start_time": "2023-01-28T17:07:47.332Z"
      },
      {
        "duration": 5,
        "start_time": "2023-01-28T17:07:53.195Z"
      },
      {
        "duration": 9,
        "start_time": "2023-01-28T17:07:57.217Z"
      },
      {
        "duration": 4,
        "start_time": "2023-01-28T17:08:06.519Z"
      },
      {
        "duration": 5,
        "start_time": "2023-01-28T17:08:15.006Z"
      },
      {
        "duration": 5,
        "start_time": "2023-01-28T17:12:08.383Z"
      },
      {
        "duration": 10,
        "start_time": "2023-01-28T17:12:16.677Z"
      },
      {
        "duration": 86,
        "start_time": "2023-01-28T17:14:43.632Z"
      },
      {
        "duration": 4,
        "start_time": "2023-01-28T17:14:54.986Z"
      },
      {
        "duration": 9,
        "start_time": "2023-01-28T17:15:12.920Z"
      },
      {
        "duration": 10,
        "start_time": "2023-01-28T17:15:54.173Z"
      },
      {
        "duration": 10,
        "start_time": "2023-01-28T17:16:01.346Z"
      },
      {
        "duration": 10,
        "start_time": "2023-01-28T17:16:08.573Z"
      },
      {
        "duration": 1399,
        "start_time": "2023-01-28T17:16:35.167Z"
      },
      {
        "duration": 3,
        "start_time": "2023-01-28T17:16:36.567Z"
      },
      {
        "duration": 54,
        "start_time": "2023-01-28T17:16:36.572Z"
      },
      {
        "duration": 8,
        "start_time": "2023-01-28T17:16:36.628Z"
      },
      {
        "duration": 21,
        "start_time": "2023-01-28T17:16:36.637Z"
      },
      {
        "duration": 375,
        "start_time": "2023-01-28T17:16:36.660Z"
      },
      {
        "duration": 152,
        "start_time": "2023-01-28T17:16:37.036Z"
      },
      {
        "duration": 6,
        "start_time": "2023-01-28T17:16:37.189Z"
      },
      {
        "duration": 35,
        "start_time": "2023-01-28T17:16:37.196Z"
      },
      {
        "duration": 33,
        "start_time": "2023-01-28T17:16:37.234Z"
      },
      {
        "duration": 109,
        "start_time": "2023-01-28T17:16:37.282Z"
      },
      {
        "duration": 90,
        "start_time": "2023-01-28T17:16:37.393Z"
      },
      {
        "duration": 107,
        "start_time": "2023-01-28T17:16:37.488Z"
      },
      {
        "duration": 74,
        "start_time": "2023-01-28T17:35:36.202Z"
      },
      {
        "duration": 70,
        "start_time": "2023-01-28T17:36:39.426Z"
      },
      {
        "duration": 10,
        "start_time": "2023-01-28T17:37:23.838Z"
      },
      {
        "duration": 9,
        "start_time": "2023-01-28T17:37:30.562Z"
      },
      {
        "duration": 9,
        "start_time": "2023-01-28T17:37:43.303Z"
      },
      {
        "duration": 13,
        "start_time": "2023-01-28T17:37:54.464Z"
      },
      {
        "duration": 5,
        "start_time": "2023-01-28T17:39:38.397Z"
      },
      {
        "duration": 1405,
        "start_time": "2023-01-28T17:54:48.978Z"
      },
      {
        "duration": 4,
        "start_time": "2023-01-28T17:54:50.385Z"
      },
      {
        "duration": 54,
        "start_time": "2023-01-28T17:54:50.390Z"
      },
      {
        "duration": 8,
        "start_time": "2023-01-28T17:54:50.445Z"
      },
      {
        "duration": 20,
        "start_time": "2023-01-28T17:54:50.454Z"
      },
      {
        "duration": 385,
        "start_time": "2023-01-28T17:54:50.475Z"
      },
      {
        "duration": 158,
        "start_time": "2023-01-28T17:54:50.862Z"
      },
      {
        "duration": 5,
        "start_time": "2023-01-28T17:54:51.206Z"
      },
      {
        "duration": 16,
        "start_time": "2023-01-28T17:54:51.214Z"
      },
      {
        "duration": 14,
        "start_time": "2023-01-28T17:54:51.232Z"
      },
      {
        "duration": 139,
        "start_time": "2023-01-28T17:54:51.250Z"
      },
      {
        "duration": 203,
        "start_time": "2023-01-28T17:54:51.392Z"
      },
      {
        "duration": 1409,
        "start_time": "2023-01-28T17:55:36.864Z"
      },
      {
        "duration": 7,
        "start_time": "2023-01-28T17:55:38.275Z"
      },
      {
        "duration": 69,
        "start_time": "2023-01-28T17:55:38.284Z"
      },
      {
        "duration": 9,
        "start_time": "2023-01-28T17:55:38.355Z"
      },
      {
        "duration": 27,
        "start_time": "2023-01-28T17:55:38.365Z"
      },
      {
        "duration": 342,
        "start_time": "2023-01-28T17:55:38.394Z"
      },
      {
        "duration": 155,
        "start_time": "2023-01-28T17:55:38.738Z"
      },
      {
        "duration": 5,
        "start_time": "2023-01-28T17:55:38.895Z"
      },
      {
        "duration": 20,
        "start_time": "2023-01-28T17:55:38.902Z"
      },
      {
        "duration": 16,
        "start_time": "2023-01-28T17:55:38.924Z"
      },
      {
        "duration": 142,
        "start_time": "2023-01-28T17:55:38.941Z"
      },
      {
        "duration": 214,
        "start_time": "2023-01-28T17:55:39.085Z"
      },
      {
        "duration": 1404,
        "start_time": "2023-01-28T17:56:58.573Z"
      },
      {
        "duration": 3,
        "start_time": "2023-01-28T17:56:59.979Z"
      },
      {
        "duration": 65,
        "start_time": "2023-01-28T17:56:59.984Z"
      },
      {
        "duration": 9,
        "start_time": "2023-01-28T17:57:00.051Z"
      },
      {
        "duration": 63,
        "start_time": "2023-01-28T17:57:00.061Z"
      },
      {
        "duration": 372,
        "start_time": "2023-01-28T17:57:00.126Z"
      },
      {
        "duration": 163,
        "start_time": "2023-01-28T17:57:00.500Z"
      },
      {
        "duration": 6,
        "start_time": "2023-01-28T17:57:00.665Z"
      },
      {
        "duration": 35,
        "start_time": "2023-01-28T17:57:00.680Z"
      },
      {
        "duration": 37,
        "start_time": "2023-01-28T17:57:00.719Z"
      },
      {
        "duration": 143,
        "start_time": "2023-01-28T17:57:00.758Z"
      },
      {
        "duration": 229,
        "start_time": "2023-01-28T17:57:00.903Z"
      },
      {
        "duration": 4,
        "start_time": "2023-01-28T17:57:18.451Z"
      },
      {
        "duration": 360,
        "start_time": "2023-01-28T17:58:10.491Z"
      },
      {
        "duration": 2444,
        "start_time": "2023-01-29T04:55:41.617Z"
      },
      {
        "duration": 3,
        "start_time": "2023-01-29T04:55:44.064Z"
      },
      {
        "duration": 128,
        "start_time": "2023-01-29T04:55:44.069Z"
      },
      {
        "duration": 29,
        "start_time": "2023-01-29T04:55:56.516Z"
      },
      {
        "duration": 416,
        "start_time": "2023-01-29T04:55:58.075Z"
      },
      {
        "duration": 175,
        "start_time": "2023-01-29T04:55:59.530Z"
      },
      {
        "duration": 4,
        "start_time": "2023-01-29T05:06:54.907Z"
      },
      {
        "duration": 7,
        "start_time": "2023-01-29T05:06:58.894Z"
      },
      {
        "duration": 6,
        "start_time": "2023-01-29T05:07:03.212Z"
      },
      {
        "duration": 7,
        "start_time": "2023-01-29T05:07:04.853Z"
      },
      {
        "duration": 10,
        "start_time": "2023-01-29T05:07:05.681Z"
      },
      {
        "duration": 1634,
        "start_time": "2023-01-29T16:04:08.925Z"
      },
      {
        "duration": 5,
        "start_time": "2023-01-29T16:04:10.561Z"
      },
      {
        "duration": 113,
        "start_time": "2023-01-29T16:04:10.568Z"
      },
      {
        "duration": 9,
        "start_time": "2023-01-29T16:04:10.683Z"
      },
      {
        "duration": 25,
        "start_time": "2023-01-29T16:04:10.695Z"
      },
      {
        "duration": 453,
        "start_time": "2023-01-29T16:04:10.722Z"
      },
      {
        "duration": 181,
        "start_time": "2023-01-29T16:04:11.176Z"
      },
      {
        "duration": 7,
        "start_time": "2023-01-29T16:04:11.359Z"
      },
      {
        "duration": 15,
        "start_time": "2023-01-29T16:04:11.368Z"
      },
      {
        "duration": 13,
        "start_time": "2023-01-29T16:04:11.384Z"
      },
      {
        "duration": 143,
        "start_time": "2023-01-29T16:04:11.400Z"
      },
      {
        "duration": 218,
        "start_time": "2023-01-29T16:04:11.547Z"
      }
    ],
    "kernelspec": {
      "display_name": "Python 3 (ipykernel)",
      "language": "python",
      "name": "python3"
    },
    "language_info": {
      "codemirror_mode": {
        "name": "ipython",
        "version": 3
      },
      "file_extension": ".py",
      "mimetype": "text/x-python",
      "name": "python",
      "nbconvert_exporter": "python",
      "pygments_lexer": "ipython3",
      "version": "3.9.5"
    },
    "toc": {
      "base_numbering": 1,
      "nav_menu": {},
      "number_sections": true,
      "sideBar": true,
      "skip_h1_title": true,
      "title_cell": "Содержание",
      "title_sidebar": "Contents",
      "toc_cell": true,
      "toc_position": {},
      "toc_section_display": true,
      "toc_window_display": true
    },
    "colab": {
      "provenance": []
    }
  },
  "nbformat": 4,
  "nbformat_minor": 0
}