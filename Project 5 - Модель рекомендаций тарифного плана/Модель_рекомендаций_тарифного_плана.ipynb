{
  "cells": [
    {
      "cell_type": "markdown",
      "metadata": {
        "id": "3yFWPAT9Qgux"
      },
      "source": [
        "# Рекомендация тарифов"
      ]
    },
    {
      "cell_type": "markdown",
      "metadata": {
        "id": "p3s22CuMQgux"
      },
      "source": [
        "В вашем распоряжении данные о поведении клиентов, которые уже перешли на эти тарифы (из проекта курса «Статистический анализ данных»). Нужно построить модель для задачи классификации, которая выберет подходящий тариф. Предобработка данных не понадобится — вы её уже сделали.\n",
        "\n",
        "Постройте модель с максимально большим значением *accuracy*. Чтобы сдать проект успешно, нужно довести долю правильных ответов по крайней мере до 0.75. Проверьте *accuracy* на тестовой выборке самостоятельно."
      ]
    },
    {
      "cell_type": "markdown",
      "metadata": {
        "id": "bSdBglT-Qguz"
      },
      "source": [
        "## Откройте и изучите файл"
      ]
    },
    {
      "cell_type": "code",
      "execution_count": null,
      "metadata": {
        "id": "HMZ3ki-fQgu0"
      },
      "outputs": [],
      "source": [
        "# импортируем необходимые библиотеки\n",
        "import pandas as pd\n",
        "from sklearn.tree import DecisionTreeClassifier\n",
        "from sklearn.ensemble import RandomForestClassifier\n",
        "from sklearn.linear_model import LogisticRegression\n",
        "from sklearn.dummy import DummyClassifier\n",
        "from sklearn.model_selection import train_test_split\n",
        "from sklearn.metrics import mean_squared_error\n",
        "from sklearn.metrics import accuracy_score"
      ]
    },
    {
      "cell_type": "code",
      "execution_count": null,
      "metadata": {
        "id": "xCR1f2NlQgu4"
      },
      "outputs": [],
      "source": [
        "df = pd.read_csv('/datasets/users_behavior.csv')"
      ]
    },
    {
      "cell_type": "markdown",
      "metadata": {
        "id": "d_Azs_qOQgu5"
      },
      "source": [
        "*Изучим данные*"
      ]
    },
    {
      "cell_type": "code",
      "execution_count": null,
      "metadata": {
        "id": "ZzhsNdURQgu6",
        "outputId": "5ac444a5-d824-4422-c483-5dcfa2d9d571"
      },
      "outputs": [
        {
          "data": {
            "text/html": [
              "<div>\n",
              "<style scoped>\n",
              "    .dataframe tbody tr th:only-of-type {\n",
              "        vertical-align: middle;\n",
              "    }\n",
              "\n",
              "    .dataframe tbody tr th {\n",
              "        vertical-align: top;\n",
              "    }\n",
              "\n",
              "    .dataframe thead th {\n",
              "        text-align: right;\n",
              "    }\n",
              "</style>\n",
              "<table border=\"1\" class=\"dataframe\">\n",
              "  <thead>\n",
              "    <tr style=\"text-align: right;\">\n",
              "      <th></th>\n",
              "      <th>calls</th>\n",
              "      <th>minutes</th>\n",
              "      <th>messages</th>\n",
              "      <th>mb_used</th>\n",
              "      <th>is_ultra</th>\n",
              "    </tr>\n",
              "  </thead>\n",
              "  <tbody>\n",
              "    <tr>\n",
              "      <th>0</th>\n",
              "      <td>40.0</td>\n",
              "      <td>311.90</td>\n",
              "      <td>83.0</td>\n",
              "      <td>19915.42</td>\n",
              "      <td>0</td>\n",
              "    </tr>\n",
              "    <tr>\n",
              "      <th>1</th>\n",
              "      <td>85.0</td>\n",
              "      <td>516.75</td>\n",
              "      <td>56.0</td>\n",
              "      <td>22696.96</td>\n",
              "      <td>0</td>\n",
              "    </tr>\n",
              "    <tr>\n",
              "      <th>2</th>\n",
              "      <td>77.0</td>\n",
              "      <td>467.66</td>\n",
              "      <td>86.0</td>\n",
              "      <td>21060.45</td>\n",
              "      <td>0</td>\n",
              "    </tr>\n",
              "    <tr>\n",
              "      <th>3</th>\n",
              "      <td>106.0</td>\n",
              "      <td>745.53</td>\n",
              "      <td>81.0</td>\n",
              "      <td>8437.39</td>\n",
              "      <td>1</td>\n",
              "    </tr>\n",
              "    <tr>\n",
              "      <th>4</th>\n",
              "      <td>66.0</td>\n",
              "      <td>418.74</td>\n",
              "      <td>1.0</td>\n",
              "      <td>14502.75</td>\n",
              "      <td>0</td>\n",
              "    </tr>\n",
              "  </tbody>\n",
              "</table>\n",
              "</div>"
            ],
            "text/plain": [
              "   calls  minutes  messages   mb_used  is_ultra\n",
              "0   40.0   311.90      83.0  19915.42         0\n",
              "1   85.0   516.75      56.0  22696.96         0\n",
              "2   77.0   467.66      86.0  21060.45         0\n",
              "3  106.0   745.53      81.0   8437.39         1\n",
              "4   66.0   418.74       1.0  14502.75         0"
            ]
          },
          "execution_count": 37,
          "metadata": {},
          "output_type": "execute_result"
        }
      ],
      "source": [
        "df.head()"
      ]
    },
    {
      "cell_type": "code",
      "execution_count": null,
      "metadata": {
        "id": "-UA7YuavQgu8",
        "outputId": "dda0f6f8-d1d8-4d2c-b11a-752f974b0136"
      },
      "outputs": [
        {
          "name": "stdout",
          "output_type": "stream",
          "text": [
            "<class 'pandas.core.frame.DataFrame'>\n",
            "RangeIndex: 3214 entries, 0 to 3213\n",
            "Data columns (total 5 columns):\n",
            " #   Column    Non-Null Count  Dtype  \n",
            "---  ------    --------------  -----  \n",
            " 0   calls     3214 non-null   float64\n",
            " 1   minutes   3214 non-null   float64\n",
            " 2   messages  3214 non-null   float64\n",
            " 3   mb_used   3214 non-null   float64\n",
            " 4   is_ultra  3214 non-null   int64  \n",
            "dtypes: float64(4), int64(1)\n",
            "memory usage: 125.7 KB\n"
          ]
        }
      ],
      "source": [
        "df.info()"
      ]
    },
    {
      "cell_type": "code",
      "execution_count": null,
      "metadata": {
        "id": "m93TClkUQgu-",
        "outputId": "3006382a-7b16-4d59-a726-195f8b4aa266"
      },
      "outputs": [
        {
          "data": {
            "text/plain": [
              "0"
            ]
          },
          "execution_count": 39,
          "metadata": {},
          "output_type": "execute_result"
        }
      ],
      "source": [
        "#Проверим дубликаты\n",
        "df.duplicated().sum()"
      ]
    },
    {
      "cell_type": "markdown",
      "metadata": {
        "id": "mCqKPJQ1Qgu_"
      },
      "source": [
        "**Вывод:**\n",
        "предобработки данных не требуется, так как она была проведена ранее; пропусков и дубликатов нет.\n"
      ]
    },
    {
      "cell_type": "markdown",
      "metadata": {
        "id": "FjR_Y2J9QgvA"
      },
      "source": [
        "## Разбейте данные на выборки"
      ]
    },
    {
      "cell_type": "markdown",
      "metadata": {
        "id": "ukXGMYqoQgvA"
      },
      "source": [
        "*Извлечем признаки и целевой признак*"
      ]
    },
    {
      "cell_type": "code",
      "execution_count": null,
      "metadata": {
        "id": "KEyH5HvzQgvB"
      },
      "outputs": [],
      "source": [
        "features = df.drop(['is_ultra'], axis=1) # признаки\n",
        "target = df['is_ultra'] # целевой признак"
      ]
    },
    {
      "cell_type": "markdown",
      "metadata": {
        "id": "vvOLZ-kKQgvC"
      },
      "source": [
        "*Разделим данные на обучающую, валидационную и тестовую выборки 3:1:1*"
      ]
    },
    {
      "cell_type": "code",
      "execution_count": null,
      "metadata": {
        "id": "Dqm587B0QgvC"
      },
      "outputs": [],
      "source": [
        "# отделяем тестовую выборку\n",
        "features_train_valid, features_test, target_train_valid, target_test = train_test_split(\n",
        "    features, target, test_size=0.2, random_state=12345)\n",
        "# выделяем из валидационной обучающую\n",
        "features_train, features_valid, target_train, target_valid = train_test_split(\n",
        "    features_train_valid, target_train_valid, test_size=0.2, random_state=12345)"
      ]
    },
    {
      "cell_type": "markdown",
      "metadata": {
        "id": "UWu-K6zSQgvD"
      },
      "source": [
        "*Выведем размеры выборок*"
      ]
    },
    {
      "cell_type": "code",
      "execution_count": null,
      "metadata": {
        "id": "o31CMnPRQgvE",
        "outputId": "ab0c9c1d-878d-47d4-d3ab-4367f420cb98"
      },
      "outputs": [
        {
          "name": "stdout",
          "output_type": "stream",
          "text": [
            "(2056, 4)\n",
            "(2056,)\n"
          ]
        }
      ],
      "source": [
        "# размер обучающей выборки\n",
        "print(features_train.shape)\n",
        "print(target_train.shape)"
      ]
    },
    {
      "cell_type": "code",
      "execution_count": null,
      "metadata": {
        "id": "d56yv-j_QgvE",
        "outputId": "08678bb8-9b20-44c7-8a1a-e01dccec91f4"
      },
      "outputs": [
        {
          "name": "stdout",
          "output_type": "stream",
          "text": [
            "(515, 4)\n",
            "(515,)\n"
          ]
        }
      ],
      "source": [
        "# размер валидационной выборки\n",
        "print(features_valid.shape)\n",
        "print(target_valid.shape)"
      ]
    },
    {
      "cell_type": "code",
      "execution_count": null,
      "metadata": {
        "id": "Kf8yUmIhQgvG",
        "outputId": "34c02458-3d5d-4930-9ecc-b559bd4c33b9"
      },
      "outputs": [
        {
          "name": "stdout",
          "output_type": "stream",
          "text": [
            "(643, 4)\n",
            "(643,)\n"
          ]
        }
      ],
      "source": [
        "# размер тестовой выборки\n",
        "print(features_test.shape)\n",
        "print(target_test.shape)"
      ]
    },
    {
      "cell_type": "markdown",
      "metadata": {
        "id": "-Pxrb3ncQgvH"
      },
      "source": [
        "**На этом этапе извлекли признаки и целевой признак из исходных данных, и разделили данные на обучающую, валидационную и тестовую выборки 3:1:1 (60%, 20% и 20% соответственно).**"
      ]
    },
    {
      "cell_type": "markdown",
      "metadata": {
        "id": "CQxThXr_QgvK"
      },
      "source": [
        "## Исследуйте модели"
      ]
    },
    {
      "cell_type": "markdown",
      "metadata": {
        "id": "muTkAlSPQgvL"
      },
      "source": [
        "### Решающее дерево"
      ]
    },
    {
      "cell_type": "markdown",
      "metadata": {
        "id": "pHwT6h_KQgvM"
      },
      "source": [
        "*Найдём наилучшую модель. Переберем гиперпараметр 'max_depth' и оценим качество модели на валидационной выборке.*"
      ]
    },
    {
      "cell_type": "code",
      "execution_count": null,
      "metadata": {
        "id": "gjkuJb1SQgvN",
        "outputId": "81242690-f16c-4218-b2db-93b31dd57722"
      },
      "outputs": [
        {
          "name": "stdout",
          "output_type": "stream",
          "text": [
            "Глубина дерева: 7\n",
            "Качество модели: 0.7650485436893204\n"
          ]
        }
      ],
      "source": [
        "best_model_dc = None\n",
        "best_depth_dc = 0\n",
        "best_result_dc = 0\n",
        "for depth in range(1, 11):\n",
        "    model_dc = DecisionTreeClassifier(random_state=12345, max_depth = depth).fit(features_train, target_train)\n",
        "    predictions_valid_dc = model_dc.predict(features_valid)\n",
        "    result_dc = accuracy_score(target_valid, predictions_valid_dc)\n",
        "    if best_result_dc < result_dc:\n",
        "        best_model_dc = model_dc\n",
        "        best_depth_dc = depth\n",
        "        best_result_dc = result_dc\n",
        "\n",
        "print('Глубина дерева:', best_depth_dc)\n",
        "print('Качество модели:', best_result_dc)\n"
      ]
    },
    {
      "cell_type": "markdown",
      "metadata": {
        "id": "qgHllqFiQgvQ"
      },
      "source": [
        "**Вывод:** Accuracy лучшей модели дерева решений из десяти равно 0.7650485436893204, с гиперпараметром max_depth = 7."
      ]
    },
    {
      "cell_type": "markdown",
      "metadata": {
        "id": "S5Ckv_aqQgvQ"
      },
      "source": [
        "### Случайный лес"
      ]
    },
    {
      "cell_type": "markdown",
      "metadata": {
        "id": "iR2WNKWRQgvR"
      },
      "source": [
        "*Найдём наилучшую модель. Переберем гиперпараметры 'n_estimators' и 'max_depth', и оценим качество модели на валидационной выборке.*"
      ]
    },
    {
      "cell_type": "code",
      "execution_count": null,
      "metadata": {
        "id": "oHYbYCKFQgvS"
      },
      "outputs": [],
      "source": [
        "best_model_rc = None\n",
        "best_est_rc = 0\n",
        "best_depth_rc = 0\n",
        "best_result_rc = 0\n",
        "for est in range(1, 11):\n",
        "    for depth in range(1, 11):\n",
        "        model_rc = RandomForestClassifier(random_state=12345, n_estimators=est, max_depth = depth).\\\n",
        "        fit(features_train, target_train)\n",
        "        predictions_valid_rc = model_rc.predict(features_valid)\n",
        "        result_rc = accuracy_score(target_valid, predictions_valid_rc)\n",
        "            if best_result_rc < result_rc:\n",
        "            best_model_rc = model_rc\n",
        "            best_est_rc = est\n",
        "            best_depth_rc = depth\n",
        "            best_result_rc = result_rc\n",
        "print('Количество деревьев:', best_est_rc)\n",
        "print('Глубина дерева:', best_depth_rc)\n",
        "print('Качество модели:', best_result_rc)"
      ]
    },
    {
      "cell_type": "markdown",
      "metadata": {
        "id": "KyXlJ9ZsQgvU"
      },
      "source": [
        "**Вывод:** Accuracy лучшей модели из десяти равно 0.7922330097087379, с гиперпараметром n_estimators = 6 и max_depth = 9,"
      ]
    },
    {
      "cell_type": "markdown",
      "metadata": {
        "id": "z5fWXIbIQgvU"
      },
      "source": [
        "### Логистическая регрессия"
      ]
    },
    {
      "cell_type": "markdown",
      "metadata": {
        "id": "Eo7Nce3NQgvV"
      },
      "source": [
        "*Найдём наилучшую модель. Переберем гиперпараметры 'newton-cg', 'lbfgs', 'liblinear', 'sag', 'saga', и оценим качество модели на валидационной выборке.*"
      ]
    },
    {
      "cell_type": "code",
      "execution_count": null,
      "metadata": {
        "id": "JAB2zfcEQgvW",
        "outputId": "98f9bf67-58a6-4bb4-f86f-0afbf22a69a5"
      },
      "outputs": [
        {
          "name": "stderr",
          "output_type": "stream",
          "text": [
            "/opt/conda/lib/python3.9/site-packages/scipy/optimize/_linesearch.py:456: LineSearchWarning: The line search algorithm did not converge\n",
            "  warn('The line search algorithm did not converge', LineSearchWarning)\n",
            "/opt/conda/lib/python3.9/site-packages/scipy/optimize/_linesearch.py:305: LineSearchWarning: The line search algorithm did not converge\n",
            "  warn('The line search algorithm did not converge', LineSearchWarning)\n"
          ]
        },
        {
          "name": "stdout",
          "output_type": "stream",
          "text": [
            "Качество модели: 0.7184466019417476\n",
            "Лучший гиперпараметр: liblinear\n"
          ]
        }
      ],
      "source": [
        "best_model_lr = None\n",
        "best_result_lr = 0\n",
        "solver = ['newton-cg', 'lbfgs', 'liblinear', 'sag', 'saga']\n",
        "for s in solver:\n",
        "    model_lr = LogisticRegression(random_state=12345, solver=s, max_iter=10000).fit(features_train, target_train)\n",
        "    predictions_valid_lr = model_lr.predict(features_valid)\n",
        "    result_lr = accuracy_score(target_valid, predictions_valid_lr)\n",
        "    if best_result_lr < result_lr:\n",
        "        best_model_lr = model_lr\n",
        "        best_result_lr = result_lr\n",
        "        best_s = s\n",
        "\n",
        "print('Качество модели:', best_result_lr)\n",
        "print('Лучший гиперпараметр:', best_s)"
      ]
    },
    {
      "cell_type": "markdown",
      "metadata": {
        "id": "x34YvC9gQgvX"
      },
      "source": [
        "**Вывод:** Accuracy лучшей модели равно 0.7184466019417476 с гиперпараметром liblinear."
      ]
    },
    {
      "cell_type": "markdown",
      "metadata": {
        "id": "5_Cg6Z0JQgvw"
      },
      "source": [
        "**Вывод:**\n",
        "* наилучший результат качества у модели Случайный лес - RandomForestClassifier -  0.7922330097087379;\n",
        "* наилучший результат качества у модели Решающее дерево - DecisionTreeClassifier - 0.7650485436893204;\n",
        "* наилучший результат качества у модели Логистическая регрессия - LogisticRegression -  0.7184466019417476.\n"
      ]
    },
    {
      "cell_type": "markdown",
      "metadata": {
        "id": "rIw61VUnQgvx"
      },
      "source": [
        "## Проверьте модель на тестовой выборке"
      ]
    },
    {
      "cell_type": "markdown",
      "metadata": {
        "id": "KQH5wHErQgvy"
      },
      "source": [
        "*Наиболее эффективно себя показала модель случайного леса - RandomForestClassifier, поэтому проверим ее на тестовой выборке.*"
      ]
    },
    {
      "cell_type": "code",
      "execution_count": null,
      "metadata": {
        "id": "ProleNjGQgvz",
        "outputId": "702d23f1-c2db-4c55-b8ca-61f74cb0597a"
      },
      "outputs": [
        {
          "name": "stdout",
          "output_type": "stream",
          "text": [
            "Качество модели: 0.7947122861586314\n"
          ]
        }
      ],
      "source": [
        "model_rc = RandomForestClassifier(random_state=12345, n_estimators = 6, max_depth = 9).fit(features_train, target_train)\n",
        "predictions_test_rc = model_rc.predict(features_test)\n",
        "result_test_rc = accuracy_score(target_test, predictions_test_rc)\n",
        "print('Качество модели:', result_test_rc)"
      ]
    },
    {
      "cell_type": "markdown",
      "metadata": {
        "id": "XV8Pz52XQgv1"
      },
      "source": [
        "**Вывод:** Accuracy модели на тестовой выборке равно 0.7947122861586314."
      ]
    },
    {
      "cell_type": "markdown",
      "metadata": {
        "id": "2IBLiLZhQgv3"
      },
      "source": [
        "## (бонус) Проверьте модели на адекватность"
      ]
    },
    {
      "cell_type": "markdown",
      "metadata": {
        "id": "t9ZsrTgTQgv3"
      },
      "source": [
        "*Для проверки используем модель DummyClassifier.*"
      ]
    },
    {
      "cell_type": "code",
      "execution_count": null,
      "metadata": {
        "id": "z2r6hHWtQgv4",
        "outputId": "912e2509-07db-4589-9a9c-da895c36d19e"
      },
      "outputs": [
        {
          "name": "stdout",
          "output_type": "stream",
          "text": [
            "Качество DummyClassifier: 0.6757281553398058\n",
            "Качество RandomForestClassifier: 0.7947122861586314\n"
          ]
        }
      ],
      "source": [
        "model_dc = DummyClassifier(strategy='most_frequent', random_state=12345)\n",
        "model_dc.fit(features_train, target_train)\n",
        "result_dc = model_dc.score(features_valid, target_valid)\n",
        "print('Качество DummyClassifier:', result_dc)\n",
        "print('Качество RandomForestClassifier:', result_test_rc)"
      ]
    },
    {
      "cell_type": "markdown",
      "metadata": {
        "id": "RnIRLjRKQgv5"
      },
      "source": [
        "**Вывод:** качество случайной модели DummyClassifier ниже, чем у модели RandomForestClassifier - модель адекватна и эффективна."
      ]
    },
    {
      "cell_type": "markdown",
      "metadata": {
        "id": "ZzDev2pKQgv7"
      },
      "source": [
        "## **Общий вывод:**\n",
        "* исследованы модели Decision Tree Classifier, RandomForestClassifier и Logistic Regression;\n",
        "* наилучшую эффективность показала модель RandomForestClassifier с гиперпараметрами n_estimators равным = 6 и max_depth = 9;\n",
        "* модель RandomForestClassifier с наилучшими гиперапараметрами проверена на тестовой выборке и показала accuracy = 0.7947122861586314;\n",
        "* также модель RandomForestClassifier проверена на вменяемость, для проверки использовалась модель DummyClassifier, которая показала результат accuracy = 0.7060653188180405, что ниже, чем у тестовой модели."
      ]
    },
    {
      "cell_type": "code",
      "execution_count": null,
      "metadata": {
        "id": "ejjQX-IGQgv-"
      },
      "outputs": [],
      "source": []
    }
  ],
  "metadata": {
    "ExecuteTimeLog": [
      {
        "duration": 1246,
        "start_time": "2022-11-20T07:46:18.173Z"
      },
      {
        "duration": 121,
        "start_time": "2022-11-20T07:46:20.369Z"
      },
      {
        "duration": 19,
        "start_time": "2022-11-20T07:46:24.204Z"
      },
      {
        "duration": 11,
        "start_time": "2022-11-20T07:47:02.866Z"
      },
      {
        "duration": 1156,
        "start_time": "2022-11-20T10:41:17.189Z"
      },
      {
        "duration": 121,
        "start_time": "2022-11-20T10:41:18.347Z"
      },
      {
        "duration": 15,
        "start_time": "2022-11-20T10:41:19.196Z"
      },
      {
        "duration": 11,
        "start_time": "2022-11-20T10:41:20.307Z"
      },
      {
        "duration": 97,
        "start_time": "2022-11-20T10:41:42.756Z"
      },
      {
        "duration": 5,
        "start_time": "2022-11-20T10:43:17.858Z"
      },
      {
        "duration": 46,
        "start_time": "2022-11-23T06:08:38.505Z"
      },
      {
        "duration": 6,
        "start_time": "2022-11-23T06:08:49.871Z"
      },
      {
        "duration": 1095,
        "start_time": "2022-11-23T06:09:18.215Z"
      },
      {
        "duration": 69,
        "start_time": "2022-11-23T06:09:20.033Z"
      },
      {
        "duration": 16,
        "start_time": "2022-11-23T06:09:21.547Z"
      },
      {
        "duration": 11,
        "start_time": "2022-11-23T06:09:22.902Z"
      },
      {
        "duration": 6,
        "start_time": "2022-11-23T06:09:25.035Z"
      },
      {
        "duration": 45,
        "start_time": "2022-11-29T09:23:08.575Z"
      },
      {
        "duration": 1157,
        "start_time": "2022-11-29T09:23:13.785Z"
      },
      {
        "duration": 4,
        "start_time": "2022-11-29T09:23:20.282Z"
      },
      {
        "duration": 65,
        "start_time": "2022-11-29T09:23:21.814Z"
      },
      {
        "duration": 16,
        "start_time": "2022-11-29T09:23:23.471Z"
      },
      {
        "duration": 12,
        "start_time": "2022-11-29T09:23:25.391Z"
      },
      {
        "duration": 4,
        "start_time": "2022-11-29T09:23:27.576Z"
      },
      {
        "duration": 5,
        "start_time": "2022-11-29T09:23:29.197Z"
      },
      {
        "duration": 8,
        "start_time": "2022-11-29T09:26:23.080Z"
      },
      {
        "duration": 3,
        "start_time": "2022-11-29T09:27:04.320Z"
      },
      {
        "duration": 7,
        "start_time": "2022-11-29T09:27:40.371Z"
      },
      {
        "duration": 4,
        "start_time": "2022-11-29T09:31:17.073Z"
      },
      {
        "duration": 3,
        "start_time": "2022-11-29T09:32:06.402Z"
      },
      {
        "duration": 30,
        "start_time": "2022-11-29T13:15:38.983Z"
      },
      {
        "duration": 59,
        "start_time": "2022-11-29T13:38:39.148Z"
      },
      {
        "duration": 4,
        "start_time": "2022-11-29T13:39:00.728Z"
      },
      {
        "duration": 29,
        "start_time": "2022-11-29T13:39:01.875Z"
      },
      {
        "duration": 9,
        "start_time": "2022-11-29T13:39:02.751Z"
      },
      {
        "duration": 10,
        "start_time": "2022-11-29T13:39:03.500Z"
      },
      {
        "duration": 4,
        "start_time": "2022-11-29T13:39:05.566Z"
      },
      {
        "duration": 6,
        "start_time": "2022-11-29T13:39:08.318Z"
      },
      {
        "duration": 4,
        "start_time": "2022-11-29T13:39:10.780Z"
      },
      {
        "duration": 3,
        "start_time": "2022-11-29T13:39:11.505Z"
      },
      {
        "duration": 3,
        "start_time": "2022-11-29T13:39:12.254Z"
      },
      {
        "duration": 9,
        "start_time": "2022-11-29T13:39:17.895Z"
      },
      {
        "duration": 11,
        "start_time": "2022-11-29T13:39:37.156Z"
      },
      {
        "duration": 500,
        "start_time": "2022-11-29T13:40:42.671Z"
      },
      {
        "duration": 10,
        "start_time": "2022-11-29T13:41:09.199Z"
      },
      {
        "duration": 9,
        "start_time": "2022-11-29T13:41:35.142Z"
      },
      {
        "duration": 14,
        "start_time": "2022-11-29T13:42:15.380Z"
      },
      {
        "duration": 1237,
        "start_time": "2022-12-02T12:34:49.094Z"
      },
      {
        "duration": 164,
        "start_time": "2022-12-02T12:34:51.102Z"
      },
      {
        "duration": 26,
        "start_time": "2022-12-02T12:34:52.251Z"
      },
      {
        "duration": 12,
        "start_time": "2022-12-02T12:34:54.013Z"
      },
      {
        "duration": 5,
        "start_time": "2022-12-02T12:34:57.024Z"
      },
      {
        "duration": 7,
        "start_time": "2022-12-02T12:34:58.854Z"
      },
      {
        "duration": 7,
        "start_time": "2022-12-02T12:35:00.735Z"
      },
      {
        "duration": 4,
        "start_time": "2022-12-02T12:35:01.690Z"
      },
      {
        "duration": 4,
        "start_time": "2022-12-02T12:35:02.564Z"
      },
      {
        "duration": 103,
        "start_time": "2022-12-02T12:35:08.010Z"
      },
      {
        "duration": 3,
        "start_time": "2022-12-02T12:37:06.278Z"
      },
      {
        "duration": 17,
        "start_time": "2022-12-02T12:37:14.800Z"
      },
      {
        "duration": 5,
        "start_time": "2022-12-02T12:37:21.708Z"
      },
      {
        "duration": 29,
        "start_time": "2022-12-02T12:37:22.764Z"
      },
      {
        "duration": 15,
        "start_time": "2022-12-02T12:37:23.646Z"
      },
      {
        "duration": 14,
        "start_time": "2022-12-02T12:37:24.616Z"
      },
      {
        "duration": 5,
        "start_time": "2022-12-02T12:37:26.964Z"
      },
      {
        "duration": 10,
        "start_time": "2022-12-02T12:37:28.544Z"
      },
      {
        "duration": 4,
        "start_time": "2022-12-02T12:37:31.367Z"
      },
      {
        "duration": 5,
        "start_time": "2022-12-02T12:37:32.205Z"
      },
      {
        "duration": 4,
        "start_time": "2022-12-02T12:37:33.018Z"
      },
      {
        "duration": 25,
        "start_time": "2022-12-02T12:37:37.934Z"
      },
      {
        "duration": 3,
        "start_time": "2022-12-02T12:43:06.958Z"
      },
      {
        "duration": 29,
        "start_time": "2022-12-02T12:43:08.363Z"
      },
      {
        "duration": 9,
        "start_time": "2022-12-02T12:43:09.246Z"
      },
      {
        "duration": 10,
        "start_time": "2022-12-02T12:43:09.964Z"
      },
      {
        "duration": 4,
        "start_time": "2022-12-02T12:43:11.883Z"
      },
      {
        "duration": 9,
        "start_time": "2022-12-02T12:43:13.125Z"
      },
      {
        "duration": 3,
        "start_time": "2022-12-02T12:43:14.519Z"
      },
      {
        "duration": 3,
        "start_time": "2022-12-02T12:43:15.249Z"
      },
      {
        "duration": 3,
        "start_time": "2022-12-02T12:43:15.965Z"
      },
      {
        "duration": 34,
        "start_time": "2022-12-02T12:43:20.201Z"
      },
      {
        "duration": 39,
        "start_time": "2022-12-02T12:46:36.813Z"
      },
      {
        "duration": 48,
        "start_time": "2022-12-02T12:46:46.590Z"
      },
      {
        "duration": 5,
        "start_time": "2022-12-02T12:48:09.902Z"
      },
      {
        "duration": 32,
        "start_time": "2022-12-02T12:48:11.340Z"
      },
      {
        "duration": 13,
        "start_time": "2022-12-02T12:48:12.195Z"
      },
      {
        "duration": 12,
        "start_time": "2022-12-02T12:48:12.928Z"
      },
      {
        "duration": 4,
        "start_time": "2022-12-02T12:48:14.858Z"
      },
      {
        "duration": 7,
        "start_time": "2022-12-02T12:48:16.331Z"
      },
      {
        "duration": 4,
        "start_time": "2022-12-02T12:48:18.142Z"
      },
      {
        "duration": 4,
        "start_time": "2022-12-02T12:48:19.222Z"
      },
      {
        "duration": 3,
        "start_time": "2022-12-02T12:48:20.011Z"
      },
      {
        "duration": 51,
        "start_time": "2022-12-02T12:48:25.046Z"
      },
      {
        "duration": 294,
        "start_time": "2022-12-02T12:51:40.095Z"
      },
      {
        "duration": 1020,
        "start_time": "2022-12-02T12:53:03.383Z"
      },
      {
        "duration": 251,
        "start_time": "2022-12-02T12:53:11.974Z"
      },
      {
        "duration": 19,
        "start_time": "2022-12-02T12:54:55.658Z"
      },
      {
        "duration": 276,
        "start_time": "2022-12-02T12:58:13.483Z"
      },
      {
        "duration": 310,
        "start_time": "2022-12-02T13:00:21.842Z"
      },
      {
        "duration": 51,
        "start_time": "2022-12-02T13:00:43.224Z"
      },
      {
        "duration": 44,
        "start_time": "2022-12-02T13:00:50.518Z"
      },
      {
        "duration": 272,
        "start_time": "2022-12-02T13:01:09.425Z"
      },
      {
        "duration": 314,
        "start_time": "2022-12-02T13:01:24.350Z"
      },
      {
        "duration": 909,
        "start_time": "2022-12-02T13:01:36.970Z"
      },
      {
        "duration": 277,
        "start_time": "2022-12-02T13:02:43.615Z"
      },
      {
        "duration": 290,
        "start_time": "2022-12-02T13:08:35.295Z"
      },
      {
        "duration": 284,
        "start_time": "2022-12-02T13:09:21.498Z"
      },
      {
        "duration": 11,
        "start_time": "2022-12-02T13:11:06.149Z"
      },
      {
        "duration": 10,
        "start_time": "2022-12-02T13:14:47.824Z"
      },
      {
        "duration": 11,
        "start_time": "2022-12-02T13:15:39.896Z"
      },
      {
        "duration": 9,
        "start_time": "2022-12-02T13:15:48.113Z"
      },
      {
        "duration": 3,
        "start_time": "2022-12-02T13:16:01.557Z"
      },
      {
        "duration": 29,
        "start_time": "2022-12-02T13:16:02.974Z"
      },
      {
        "duration": 10,
        "start_time": "2022-12-02T13:16:03.687Z"
      },
      {
        "duration": 14,
        "start_time": "2022-12-02T13:16:04.418Z"
      },
      {
        "duration": 4,
        "start_time": "2022-12-02T13:16:06.665Z"
      },
      {
        "duration": 8,
        "start_time": "2022-12-02T13:16:08.235Z"
      },
      {
        "duration": 4,
        "start_time": "2022-12-02T13:16:09.835Z"
      },
      {
        "duration": 4,
        "start_time": "2022-12-02T13:16:10.598Z"
      },
      {
        "duration": 3,
        "start_time": "2022-12-02T13:16:11.323Z"
      },
      {
        "duration": 48,
        "start_time": "2022-12-02T13:16:15.292Z"
      },
      {
        "duration": 258,
        "start_time": "2022-12-02T13:16:17.333Z"
      },
      {
        "duration": 114,
        "start_time": "2022-12-02T13:16:19.779Z"
      },
      {
        "duration": 199,
        "start_time": "2022-12-02T13:16:32.971Z"
      },
      {
        "duration": 535,
        "start_time": "2022-12-02T13:17:08.942Z"
      },
      {
        "duration": 279,
        "start_time": "2022-12-02T13:19:04.829Z"
      },
      {
        "duration": 274,
        "start_time": "2022-12-02T13:19:19.400Z"
      },
      {
        "duration": 283,
        "start_time": "2022-12-02T13:19:39.893Z"
      },
      {
        "duration": 46,
        "start_time": "2022-12-02T13:20:19.300Z"
      },
      {
        "duration": 293,
        "start_time": "2022-12-02T13:20:26.977Z"
      },
      {
        "duration": 288,
        "start_time": "2022-12-02T13:21:08.658Z"
      },
      {
        "duration": 546,
        "start_time": "2022-12-02T13:22:06.005Z"
      },
      {
        "duration": 580,
        "start_time": "2022-12-02T13:22:21.090Z"
      },
      {
        "duration": 1211,
        "start_time": "2022-12-02T13:25:10.019Z"
      },
      {
        "duration": 1264,
        "start_time": "2022-12-02T13:27:21.398Z"
      },
      {
        "duration": 1283,
        "start_time": "2022-12-02T13:28:47.826Z"
      },
      {
        "duration": 48,
        "start_time": "2022-12-05T17:20:17.674Z"
      },
      {
        "duration": 1120,
        "start_time": "2022-12-05T17:20:23.505Z"
      },
      {
        "duration": 165,
        "start_time": "2022-12-05T17:20:26.037Z"
      },
      {
        "duration": 17,
        "start_time": "2022-12-05T17:20:28.804Z"
      },
      {
        "duration": 12,
        "start_time": "2022-12-05T17:20:30.280Z"
      },
      {
        "duration": 7,
        "start_time": "2022-12-05T17:20:31.367Z"
      },
      {
        "duration": 68,
        "start_time": "2022-12-05T17:25:28.239Z"
      },
      {
        "duration": 4,
        "start_time": "2022-12-05T17:25:38.246Z"
      },
      {
        "duration": 7,
        "start_time": "2022-12-05T17:25:40.300Z"
      },
      {
        "duration": 4,
        "start_time": "2022-12-05T17:25:42.801Z"
      },
      {
        "duration": 4,
        "start_time": "2022-12-05T17:25:44.643Z"
      },
      {
        "duration": 3,
        "start_time": "2022-12-05T17:25:45.786Z"
      },
      {
        "duration": 3,
        "start_time": "2022-12-05T17:25:46.994Z"
      },
      {
        "duration": 4,
        "start_time": "2022-12-05T17:25:49.914Z"
      },
      {
        "duration": 73,
        "start_time": "2022-12-05T17:25:58.775Z"
      },
      {
        "duration": 69,
        "start_time": "2022-12-05T17:32:52.344Z"
      },
      {
        "duration": 68,
        "start_time": "2022-12-05T17:35:58.700Z"
      },
      {
        "duration": 68,
        "start_time": "2022-12-05T17:36:24.179Z"
      },
      {
        "duration": 111,
        "start_time": "2022-12-05T17:36:31.908Z"
      },
      {
        "duration": 68,
        "start_time": "2022-12-05T17:37:00.027Z"
      },
      {
        "duration": 1785,
        "start_time": "2022-12-05T17:42:37.976Z"
      },
      {
        "duration": 1786,
        "start_time": "2022-12-05T17:46:03.862Z"
      },
      {
        "duration": 129,
        "start_time": "2022-12-05T17:54:12.714Z"
      },
      {
        "duration": 126,
        "start_time": "2022-12-05T17:54:48.587Z"
      },
      {
        "duration": 1348,
        "start_time": "2022-12-05T17:55:36.093Z"
      },
      {
        "duration": 1295,
        "start_time": "2022-12-05T17:56:19.383Z"
      },
      {
        "duration": 1306,
        "start_time": "2022-12-05T17:56:45.763Z"
      },
      {
        "duration": 1245,
        "start_time": "2022-12-05T17:57:53.720Z"
      },
      {
        "duration": 1274,
        "start_time": "2022-12-05T18:00:54.299Z"
      },
      {
        "duration": 1276,
        "start_time": "2022-12-05T18:06:12.775Z"
      },
      {
        "duration": 31,
        "start_time": "2022-12-05T18:19:58.418Z"
      },
      {
        "duration": 28,
        "start_time": "2022-12-05T18:20:37.844Z"
      },
      {
        "duration": 9,
        "start_time": "2022-12-05T18:26:38.116Z"
      },
      {
        "duration": 9,
        "start_time": "2022-12-05T18:27:07.656Z"
      },
      {
        "duration": 3,
        "start_time": "2022-12-05T18:27:43.012Z"
      },
      {
        "duration": 29,
        "start_time": "2022-12-05T18:27:43.867Z"
      },
      {
        "duration": 11,
        "start_time": "2022-12-05T18:27:46.947Z"
      },
      {
        "duration": 11,
        "start_time": "2022-12-05T18:27:57.209Z"
      },
      {
        "duration": 6,
        "start_time": "2022-12-05T18:27:57.610Z"
      },
      {
        "duration": 4,
        "start_time": "2022-12-05T18:27:58.688Z"
      },
      {
        "duration": 8,
        "start_time": "2022-12-05T18:27:59.240Z"
      },
      {
        "duration": 4,
        "start_time": "2022-12-05T18:27:59.850Z"
      },
      {
        "duration": 4,
        "start_time": "2022-12-05T18:28:00.137Z"
      },
      {
        "duration": 4,
        "start_time": "2022-12-05T18:28:00.425Z"
      },
      {
        "duration": 90,
        "start_time": "2022-12-05T18:28:01.865Z"
      },
      {
        "duration": 1894,
        "start_time": "2022-12-05T18:28:03.234Z"
      },
      {
        "duration": 1294,
        "start_time": "2022-12-05T18:28:05.130Z"
      },
      {
        "duration": 28,
        "start_time": "2022-12-05T18:28:10.359Z"
      },
      {
        "duration": 6,
        "start_time": "2022-12-05T18:28:13.656Z"
      },
      {
        "duration": 6,
        "start_time": "2022-12-05T18:28:33.132Z"
      },
      {
        "duration": 67,
        "start_time": "2022-12-05T18:37:38.411Z"
      },
      {
        "duration": 1768,
        "start_time": "2022-12-05T18:37:58.520Z"
      },
      {
        "duration": 1258,
        "start_time": "2022-12-05T18:38:19.359Z"
      },
      {
        "duration": 35,
        "start_time": "2022-12-05T18:38:33.917Z"
      },
      {
        "duration": 114,
        "start_time": "2022-12-08T09:15:22.821Z"
      }
    ],
    "kernelspec": {
      "display_name": "Python 3 (ipykernel)",
      "language": "python",
      "name": "python3"
    },
    "language_info": {
      "codemirror_mode": {
        "name": "ipython",
        "version": 3
      },
      "file_extension": ".py",
      "mimetype": "text/x-python",
      "name": "python",
      "nbconvert_exporter": "python",
      "pygments_lexer": "ipython3",
      "version": "3.9.5"
    },
    "toc": {
      "base_numbering": 1,
      "nav_menu": {},
      "number_sections": true,
      "sideBar": true,
      "skip_h1_title": true,
      "title_cell": "Table of Contents",
      "title_sidebar": "Contents",
      "toc_cell": false,
      "toc_position": {},
      "toc_section_display": true,
      "toc_window_display": false
    },
    "colab": {
      "provenance": []
    }
  },
  "nbformat": 4,
  "nbformat_minor": 0
}