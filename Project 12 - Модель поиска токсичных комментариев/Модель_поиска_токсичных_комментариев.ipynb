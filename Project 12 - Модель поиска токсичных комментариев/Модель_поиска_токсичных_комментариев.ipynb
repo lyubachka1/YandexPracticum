{
  "cells": [
    {
      "cell_type": "markdown",
      "metadata": {
        "id": "nkvFJ5os1emu"
      },
      "source": [
        "# Проект для «Викишоп»"
      ]
    },
    {
      "cell_type": "markdown",
      "metadata": {
        "id": "nabzKAA91emv"
      },
      "source": [
        "Интернет-магазин «Викишоп» запускает новый сервис. Теперь пользователи могут редактировать и дополнять описания товаров, как в вики-сообществах. То есть клиенты предлагают свои правки и комментируют изменения других. Магазину нужен инструмент, который будет искать токсичные комментарии и отправлять их на модерацию.\n",
        "\n",
        "Обучите модель классифицировать комментарии на позитивные и негативные. В вашем распоряжении набор данных с разметкой о токсичности правок.\n",
        "\n",
        "Постройте модель со значением метрики качества *F1* не меньше 0.75.\n",
        "\n",
        "**Инструкция по выполнению проекта**\n",
        "\n",
        "1. Загрузите и подготовьте данные.\n",
        "2. Обучите разные модели.\n",
        "3. Сделайте выводы.\n",
        "\n",
        "Для выполнения проекта применять *BERT* необязательно, но вы можете попробовать.\n",
        "\n",
        "**Описание данных**\n",
        "\n",
        "Данные находятся в файле `toxic_comments.csv`. Столбец *text* в нём содержит текст комментария, а *toxic* — целевой признак."
      ]
    },
    {
      "cell_type": "markdown",
      "metadata": {
        "toc": true,
        "id": "0WSuWXQX1emt"
      },
      "source": [
        "<h1>Содержание<span class=\"tocSkip\"></span></h1>\n",
        "</font></a></span></li></ul></li><li><span><a href=\"#Подготовка\" data-toc-modified-id=\"Подготовка-1\"><span class=\"toc-item-num\">1&nbsp;&nbsp;</span>Подготовка</a></span></li><li><span><a href=\"#Обучение\" data-toc-modified-id=\"Обучение-2\"><span class=\"toc-item-num\">2&nbsp;&nbsp;</span>Обучение</a></span><ul class=\"toc-item\"><li><span><a href=\"#LogisticRegression\" data-toc-modified-id=\"LogisticRegression-2.1\"><span class=\"toc-item-num\">2.1&nbsp;&nbsp;</span>LogisticRegression</a></span></li><li><span><a href=\"#DecisionTreeClassifier\" data-toc-modified-id=\"DecisionTreeClassifier-2.2\"><span class=\"toc-item-num\">2.2&nbsp;&nbsp;</span>DecisionTreeClassifier</a></span></li><li><span><a href=\"#RandomForestClassifier\" data-toc-modified-id=\"RandomForestClassifier-2.3\"><span class=\"toc-item-num\">2.3&nbsp;&nbsp;</span>RandomForestClassifier</a></span></li><li><span><a href=\"#Тестирование\" data-toc-modified-id=\"Тестирование-2.4\"><span class=\"toc-item-num\">2.4&nbsp;&nbsp;</span>Тестирование</a></span></li></ul></li><li><span><a href=\"#Выводы\" data-toc-modified-id=\"Выводы-3\"><span class=\"toc-item-num\">3&nbsp;&nbsp;</span>Выводы</a></span></li><li><span><a href=\"#Чек-лист-проверки\" data-toc-modified-id=\"Чек-лист-проверки-4\"><span class=\"toc-item-num\">4&nbsp;&nbsp;</span>Чек-лист проверки</a></span></li></ul></div>"
      ]
    },
    {
      "cell_type": "markdown",
      "metadata": {
        "id": "l8Kjpk5d1emw"
      },
      "source": [
        "## Подготовка"
      ]
    },
    {
      "cell_type": "markdown",
      "metadata": {
        "id": "Ldb61SOM1emy"
      },
      "source": [
        "*Откроем файл с данными и изучим общую информацию.*"
      ]
    },
    {
      "cell_type": "code",
      "execution_count": null,
      "metadata": {
        "id": "3MHr5N941emz",
        "outputId": "5f9eca37-ed92-4805-c0ce-c8f07b8b2fa2"
      },
      "outputs": [
        {
          "name": "stderr",
          "output_type": "stream",
          "text": [
            "[nltk_data] Downloading package stopwords to /home/jovyan/nltk_data...\n",
            "[nltk_data]   Package stopwords is already up-to-date!\n",
            "[nltk_data] Downloading package wordnet to /home/jovyan/nltk_data...\n",
            "[nltk_data]   Package wordnet is already up-to-date!\n"
          ]
        }
      ],
      "source": [
        "# импортируем необходимые библиотеки\n",
        "\n",
        "import pandas as pd\n",
        "import numpy as np\n",
        "import re\n",
        "import nltk\n",
        "import seaborn as sns\n",
        "from sklearn.pipeline import Pipeline\n",
        "from matplotlib import pyplot as plt\n",
        "\n",
        "from nltk.corpus import stopwords as nltk_stopwords\n",
        "from sklearn.metrics import f1_score\n",
        "from sklearn.feature_extraction.text import TfidfVectorizer\n",
        "from sklearn.linear_model import LogisticRegression\n",
        "from sklearn.ensemble import RandomForestClassifier\n",
        "from sklearn.tree import DecisionTreeClassifier\n",
        "from sklearn.model_selection import (\n",
        "    GridSearchCV,\n",
        "    RandomizedSearchCV,\n",
        "    cross_val_score,\n",
        "    cross_val_predict,\n",
        "    train_test_split\n",
        ")\n",
        "\n",
        "nltk.download('stopwords')\n",
        "nltk.download('wordnet')\n",
        "from nltk.stem import WordNetLemmatizer\n",
        "\n",
        "import warnings\n",
        "warnings.filterwarnings('ignore')\n",
        "pd.set_option('display.float_format', '{:.2f}'.format) #вывод значения float до 2 знаков после запятой"
      ]
    },
    {
      "cell_type": "markdown",
      "metadata": {
        "id": "geQuGyW81em5"
      },
      "source": [
        "*Загрузам данные и выведем первые 10 строчек датафрейма на экран.*"
      ]
    },
    {
      "cell_type": "code",
      "execution_count": null,
      "metadata": {
        "id": "PkBpwvZz1em6",
        "outputId": "8f7abae7-cb86-4d9e-866b-aece21686448"
      },
      "outputs": [
        {
          "data": {
            "text/html": [
              "<div>\n",
              "<style scoped>\n",
              "    .dataframe tbody tr th:only-of-type {\n",
              "        vertical-align: middle;\n",
              "    }\n",
              "\n",
              "    .dataframe tbody tr th {\n",
              "        vertical-align: top;\n",
              "    }\n",
              "\n",
              "    .dataframe thead th {\n",
              "        text-align: right;\n",
              "    }\n",
              "</style>\n",
              "<table border=\"1\" class=\"dataframe\">\n",
              "  <thead>\n",
              "    <tr style=\"text-align: right;\">\n",
              "      <th></th>\n",
              "      <th>text</th>\n",
              "      <th>toxic</th>\n",
              "    </tr>\n",
              "  </thead>\n",
              "  <tbody>\n",
              "    <tr>\n",
              "      <th>0</th>\n",
              "      <td>Explanation\\nWhy the edits made under my usern...</td>\n",
              "      <td>0</td>\n",
              "    </tr>\n",
              "    <tr>\n",
              "      <th>1</th>\n",
              "      <td>D'aww! He matches this background colour I'm s...</td>\n",
              "      <td>0</td>\n",
              "    </tr>\n",
              "    <tr>\n",
              "      <th>2</th>\n",
              "      <td>Hey man, I'm really not trying to edit war. It...</td>\n",
              "      <td>0</td>\n",
              "    </tr>\n",
              "    <tr>\n",
              "      <th>3</th>\n",
              "      <td>\"\\nMore\\nI can't make any real suggestions on ...</td>\n",
              "      <td>0</td>\n",
              "    </tr>\n",
              "    <tr>\n",
              "      <th>4</th>\n",
              "      <td>You, sir, are my hero. Any chance you remember...</td>\n",
              "      <td>0</td>\n",
              "    </tr>\n",
              "    <tr>\n",
              "      <th>5</th>\n",
              "      <td>\"\\n\\nCongratulations from me as well, use the ...</td>\n",
              "      <td>0</td>\n",
              "    </tr>\n",
              "    <tr>\n",
              "      <th>6</th>\n",
              "      <td>COCKSUCKER BEFORE YOU PISS AROUND ON MY WORK</td>\n",
              "      <td>1</td>\n",
              "    </tr>\n",
              "    <tr>\n",
              "      <th>7</th>\n",
              "      <td>Your vandalism to the Matt Shirvington article...</td>\n",
              "      <td>0</td>\n",
              "    </tr>\n",
              "    <tr>\n",
              "      <th>8</th>\n",
              "      <td>Sorry if the word 'nonsense' was offensive to ...</td>\n",
              "      <td>0</td>\n",
              "    </tr>\n",
              "    <tr>\n",
              "      <th>9</th>\n",
              "      <td>alignment on this subject and which are contra...</td>\n",
              "      <td>0</td>\n",
              "    </tr>\n",
              "  </tbody>\n",
              "</table>\n",
              "</div>"
            ],
            "text/plain": [
              "                                                text  toxic\n",
              "0  Explanation\\nWhy the edits made under my usern...      0\n",
              "1  D'aww! He matches this background colour I'm s...      0\n",
              "2  Hey man, I'm really not trying to edit war. It...      0\n",
              "3  \"\\nMore\\nI can't make any real suggestions on ...      0\n",
              "4  You, sir, are my hero. Any chance you remember...      0\n",
              "5  \"\\n\\nCongratulations from me as well, use the ...      0\n",
              "6       COCKSUCKER BEFORE YOU PISS AROUND ON MY WORK      1\n",
              "7  Your vandalism to the Matt Shirvington article...      0\n",
              "8  Sorry if the word 'nonsense' was offensive to ...      0\n",
              "9  alignment on this subject and which are contra...      0"
            ]
          },
          "execution_count": 2,
          "metadata": {},
          "output_type": "execute_result"
        }
      ],
      "source": [
        "data = pd.read_csv('/datasets/toxic_comments.csv', index_col=0)\n",
        "data.head(10)"
      ]
    },
    {
      "cell_type": "code",
      "execution_count": null,
      "metadata": {
        "scrolled": true,
        "id": "R0Y09IAK1em8",
        "outputId": "308542f2-006a-4e92-b8b9-ef03244a613d"
      },
      "outputs": [
        {
          "name": "stdout",
          "output_type": "stream",
          "text": [
            "<class 'pandas.core.frame.DataFrame'>\n",
            "Int64Index: 159292 entries, 0 to 159450\n",
            "Data columns (total 2 columns):\n",
            " #   Column  Non-Null Count   Dtype \n",
            "---  ------  --------------   ----- \n",
            " 0   text    159292 non-null  object\n",
            " 1   toxic   159292 non-null  int64 \n",
            "dtypes: int64(1), object(1)\n",
            "memory usage: 3.6+ MB\n"
          ]
        }
      ],
      "source": [
        "# с помощью метода info() изучим структуры таблиц: типы данных, количество строк, столбцов, пропущенных данных\n",
        "data.info()"
      ]
    },
    {
      "cell_type": "markdown",
      "metadata": {
        "id": "rq2RtbRi1em9"
      },
      "source": [
        "*Посмотрим на соотношение классов.*"
      ]
    },
    {
      "cell_type": "code",
      "execution_count": null,
      "metadata": {
        "id": "MH5ZeMk01em9",
        "outputId": "36a11775-d513-4dbc-f594-445dfb15f275"
      },
      "outputs": [
        {
          "data": {
            "text/plain": [
              "0    143106\n",
              "1     16186\n",
              "Name: toxic, dtype: int64"
            ]
          },
          "metadata": {},
          "output_type": "display_data"
        }
      ],
      "source": [
        "display(data['toxic'].value_counts())"
      ]
    },
    {
      "cell_type": "code",
      "execution_count": null,
      "metadata": {
        "id": "8fpV0saa1em-"
      },
      "outputs": [],
      "source": [
        "#fig, ax = plt.subplots(figsize=(8,6))\n",
        "\n",
        "#sns.countplot(data=data, x='toxic',  ax=ax)\n",
        "#ax.axes.get_xaxis().set_visible(False)\n",
        "#plt.title(\"Соотношение классов\")\n",
        "#plt.show()"
      ]
    },
    {
      "cell_type": "code",
      "execution_count": null,
      "metadata": {
        "id": "TfY38Nz71em_",
        "outputId": "7f9d530a-e29a-4008-eaa5-ce7f864259c9"
      },
      "outputs": [
        {
          "data": {
            "image/png": "[encoded data removed]",
            "text/plain": [
              "<Figure size 504x504 with 1 Axes>"
            ]
          },
          "metadata": {},
          "output_type": "display_data"
        }
      ],
      "source": [
        "sns.set_style('darkgrid')\n",
        "data['toxic'].value_counts(normalize=True).plot(kind='pie',figsize=[7,7],\n",
        "                                                legend=False, autopct='%1.1f%%',\n",
        "                                                labels=['Отзыв не токсичный',\n",
        "                                                        'Отзыв токсичный'])\n",
        "plt.title('Баланс распределения классов в данных')\n",
        "plt.ylabel('')\n",
        "plt.show()"
      ]
    },
    {
      "cell_type": "markdown",
      "metadata": {
        "id": "rj6ifBwV1enA"
      },
      "source": [
        "*Наблюдается дисбаланс классов.*\n"
      ]
    },
    {
      "cell_type": "markdown",
      "metadata": {
        "id": "iew6dCis1enB"
      },
      "source": [
        "*Напишем функции для очистки текстов от лишних символов, приведению к нижнему регистру и лемматизации.*"
      ]
    },
    {
      "cell_type": "code",
      "execution_count": null,
      "metadata": {
        "id": "YID40jn21enC",
        "outputId": "ef3e5248-6346-4867-dae1-506cab30999f"
      },
      "outputs": [
        {
          "data": {
            "text/html": [
              "<div>\n",
              "<style scoped>\n",
              "    .dataframe tbody tr th:only-of-type {\n",
              "        vertical-align: middle;\n",
              "    }\n",
              "\n",
              "    .dataframe tbody tr th {\n",
              "        vertical-align: top;\n",
              "    }\n",
              "\n",
              "    .dataframe thead th {\n",
              "        text-align: right;\n",
              "    }\n",
              "</style>\n",
              "<table border=\"1\" class=\"dataframe\">\n",
              "  <thead>\n",
              "    <tr style=\"text-align: right;\">\n",
              "      <th></th>\n",
              "      <th>text</th>\n",
              "      <th>toxic</th>\n",
              "      <th>lemm_text</th>\n",
              "    </tr>\n",
              "  </thead>\n",
              "  <tbody>\n",
              "    <tr>\n",
              "      <th>0</th>\n",
              "      <td>explanationwhy the edits made under my usernam...</td>\n",
              "      <td>0</td>\n",
              "      <td>explanationwhy the edits made under my usernam...</td>\n",
              "    </tr>\n",
              "    <tr>\n",
              "      <th>1</th>\n",
              "      <td>daww he matches this background colour im seem...</td>\n",
              "      <td>0</td>\n",
              "      <td>daww he match this background colour im seemin...</td>\n",
              "    </tr>\n",
              "    <tr>\n",
              "      <th>2</th>\n",
              "      <td>hey man im really not trying to edit war its j...</td>\n",
              "      <td>0</td>\n",
              "      <td>hey man im really not trying to edit war it ju...</td>\n",
              "    </tr>\n",
              "    <tr>\n",
              "      <th>3</th>\n",
              "      <td>morei cant make any real suggestions on improv...</td>\n",
              "      <td>0</td>\n",
              "      <td>morei cant make any real suggestion on improve...</td>\n",
              "    </tr>\n",
              "    <tr>\n",
              "      <th>4</th>\n",
              "      <td>you sir are my hero any chance you remember wh...</td>\n",
              "      <td>0</td>\n",
              "      <td>you sir are my hero any chance you remember wh...</td>\n",
              "    </tr>\n",
              "  </tbody>\n",
              "</table>\n",
              "</div>"
            ],
            "text/plain": [
              "                                                text  toxic  \\\n",
              "0  explanationwhy the edits made under my usernam...      0   \n",
              "1  daww he matches this background colour im seem...      0   \n",
              "2  hey man im really not trying to edit war its j...      0   \n",
              "3  morei cant make any real suggestions on improv...      0   \n",
              "4  you sir are my hero any chance you remember wh...      0   \n",
              "\n",
              "                                           lemm_text  \n",
              "0  explanationwhy the edits made under my usernam...  \n",
              "1  daww he match this background colour im seemin...  \n",
              "2  hey man im really not trying to edit war it ju...  \n",
              "3  morei cant make any real suggestion on improve...  \n",
              "4  you sir are my hero any chance you remember wh...  "
            ]
          },
          "execution_count": 6,
          "metadata": {},
          "output_type": "execute_result"
        }
      ],
      "source": [
        "def clear_text(text):\n",
        "    re_list = re.sub(r\"(?:\\n|\\r)\", \" \", text)\n",
        "    re_list = re.sub(r\"[^a-zA-Z ]+\", \"\", text).strip()\n",
        "    re_list = re_list.split()\n",
        "    re_list = \" \".join(re_list)\n",
        "    re_list = re_list.lower()\n",
        "    return re_list\n",
        "\n",
        "m = WordNetLemmatizer()\n",
        "\n",
        "def lemmatize_text(text):\n",
        "    word_list = nltk.word_tokenize(text)\n",
        "\n",
        "    return ' '.join([m.lemmatize(w) for w in word_list])\n",
        "\n",
        "data['text'] = data['text'].apply(clear_text)\n",
        "data['lemm_text'] = data['text'].apply(lemmatize_text)\n",
        "\n",
        "# проверим\n",
        "data.head()"
      ]
    },
    {
      "cell_type": "code",
      "execution_count": null,
      "metadata": {
        "id": "0VAGkPkg1enD"
      },
      "outputs": [],
      "source": [
        "# удалим столбец 'text'\n",
        "data = data.drop('text', axis = 1)"
      ]
    },
    {
      "cell_type": "markdown",
      "metadata": {
        "id": "UGZsdA1m1enE"
      },
      "source": [
        "## Обучение"
      ]
    },
    {
      "cell_type": "markdown",
      "metadata": {
        "id": "R6UtinRq1enF"
      },
      "source": [
        "*Разделим данные на обучающую и тестовые выборки.*"
      ]
    },
    {
      "cell_type": "code",
      "execution_count": null,
      "metadata": {
        "id": "n2K6MLZ01enF"
      },
      "outputs": [],
      "source": [
        "features = data.drop('toxic', axis=1)\n",
        "target = data['toxic'].values"
      ]
    },
    {
      "cell_type": "code",
      "execution_count": null,
      "metadata": {
        "id": "puH64mKO1enG"
      },
      "outputs": [],
      "source": [
        "features_train, features_test, target_train, target_test = train_test_split(features,\n",
        "                                                                            target,\n",
        "                                                                            test_size=0.2,\n",
        "                                                                            stratify=target,\n",
        "                                                                            random_state=12345)"
      ]
    },
    {
      "cell_type": "code",
      "execution_count": null,
      "metadata": {
        "id": "2VGFSLxY1enH",
        "outputId": "2a9aec00-c587-4834-ecb4-881ef621b9ae"
      },
      "outputs": [
        {
          "data": {
            "text/plain": [
              "(31859, 1)"
            ]
          },
          "execution_count": 10,
          "metadata": {},
          "output_type": "execute_result"
        }
      ],
      "source": [
        "features_test.shape"
      ]
    },
    {
      "cell_type": "code",
      "execution_count": null,
      "metadata": {
        "id": "HpmJFQ3q1enH",
        "outputId": "99460159-e752-4f78-b3c1-247b9cbdc9e4"
      },
      "outputs": [
        {
          "data": {
            "text/plain": [
              "(127433, 1)"
            ]
          },
          "execution_count": 11,
          "metadata": {},
          "output_type": "execute_result"
        }
      ],
      "source": [
        "features_train.shape"
      ]
    },
    {
      "cell_type": "code",
      "execution_count": null,
      "metadata": {
        "id": "2FPP7UnQ1enI"
      },
      "outputs": [],
      "source": [
        "stopwords = set(nltk_stopwords.words('english'))\n",
        "stopwords = list(stopwords)"
      ]
    },
    {
      "cell_type": "code",
      "execution_count": null,
      "metadata": {
        "id": "-zuMK9rV1enJ",
        "outputId": "1925af0a-8303-45db-c037-9237853aa93a"
      },
      "outputs": [
        {
          "data": {
            "text/plain": [
              "(127433,)"
            ]
          },
          "execution_count": 17,
          "metadata": {},
          "output_type": "execute_result"
        }
      ],
      "source": [
        "# создадим корпус из лемматизированных и очищенных слов\n",
        "corpus_lemm_train = features_train['lemm_text'].values\n",
        "corpus_lemm_train.shape"
      ]
    },
    {
      "cell_type": "code",
      "execution_count": null,
      "metadata": {
        "id": "2GJfkRs11enK",
        "outputId": "9d4ccadd-a1d9-494a-d408-91f327315054"
      },
      "outputs": [
        {
          "data": {
            "text/plain": [
              "(127433, 223623)"
            ]
          },
          "metadata": {},
          "output_type": "display_data"
        }
      ],
      "source": [
        "# считаем величину TF-IDF для обучающей выборки\n",
        "\n",
        "count_tf_idf_train = TfidfVectorizer(stop_words = stopwords)\n",
        "features_train = count_tf_idf_train.fit_transform(corpus_lemm_train)\n",
        "display(features_train.shape)"
      ]
    },
    {
      "cell_type": "code",
      "execution_count": null,
      "metadata": {
        "id": "zvkhBnD31enL",
        "outputId": "87c4ef83-449f-4e0c-d697-617278f55ec9"
      },
      "outputs": [
        {
          "data": {
            "text/plain": [
              "(31859,)"
            ]
          },
          "execution_count": 19,
          "metadata": {},
          "output_type": "execute_result"
        }
      ],
      "source": [
        "# создадим так же корпус слов и для тестовой выборки\n",
        "corpus_lemm_test = features_test['lemm_text'].values\n",
        "corpus_lemm_test.shape"
      ]
    },
    {
      "cell_type": "code",
      "execution_count": null,
      "metadata": {
        "scrolled": true,
        "id": "YlgywKIf1enM",
        "outputId": "d5683efa-b650-4004-9f25-65390b272b19"
      },
      "outputs": [
        {
          "data": {
            "text/plain": [
              "(31859, 223623)"
            ]
          },
          "metadata": {},
          "output_type": "display_data"
        }
      ],
      "source": [
        "# считаем величину TF-IDF для обучающей выборки\n",
        "\n",
        "count_tf_idf_test = TfidfVectorizer(stop_words = stopwords)\n",
        "features_test = count_tf_idf_train.transform(corpus_lemm_test)\n",
        "display(features_test.shape)"
      ]
    },
    {
      "cell_type": "markdown",
      "metadata": {
        "id": "AD1Ds8Uc1enN"
      },
      "source": [
        "*Проведем обучение моделей LogisticRegression, DecisionTreeClassifier,  и LGBMClassifier.*"
      ]
    },
    {
      "cell_type": "markdown",
      "metadata": {
        "id": "ph0FaX0x1enP"
      },
      "source": [
        "### LogisticRegression"
      ]
    },
    {
      "cell_type": "markdown",
      "metadata": {
        "id": "Xb_1vKN91enQ"
      },
      "source": [
        "*Подберем наилучшие параметры для LogisticRegression.*"
      ]
    },
    {
      "cell_type": "code",
      "execution_count": null,
      "metadata": {
        "id": "lzrcY5pJ1enR",
        "outputId": "3f7f5c08-cd11-4241-80e8-3f0492350f87"
      },
      "outputs": [
        {
          "name": "stdout",
          "output_type": "stream",
          "text": [
            "Наилучшие параметры для LogisticRegression: {'model__C': 9, 'model__max_iter': 16}\n",
            "F1 LogisticRegression на обучающей выборке: 0.7584248366410239\n",
            "CPU times: user 1min 59s, sys: 177 ms, total: 1min 59s\n",
            "Wall time: 1min 59s\n"
          ]
        },
        {
          "data": {
            "text/plain": [
              "Pipeline(steps=[('model',\n",
              "                 LogisticRegression(C=9, class_weight='balanced', max_iter=16,\n",
              "                                    random_state=12345, solver='sag'))])"
            ]
          },
          "execution_count": 25,
          "metadata": {},
          "output_type": "execute_result"
        }
      ],
      "source": [
        "%%time\n",
        "\n",
        "pipe_lr = Pipeline([('model', LogisticRegression(random_state=12345, solver='sag', class_weight='balanced'))])\n",
        "\n",
        "parametrs_lr = {'model__C': range (1, 10),\n",
        "                'model__max_iter': range (10,17,2)}\n",
        "grid_lr = GridSearchCV(pipe_lr, parametrs_lr, cv=3, scoring='f1')\n",
        "grid_lr.fit(features_train, target_train)\n",
        "params_lr = grid_lr.best_params_\n",
        "f1_lr = grid_lr.best_score_\n",
        "print('Наилучшие параметры для LogisticRegression:', params_lr)\n",
        "print('F1 LogisticRegression на обучающей выборке:', f1_lr)\n",
        "\n",
        "best_rf = grid_lr.best_estimator_\n",
        "\n",
        "best_rf.fit(features_train, target_train)"
      ]
    },
    {
      "cell_type": "markdown",
      "metadata": {
        "id": "hPZcL0cu1enU"
      },
      "source": [
        "### DecisionTreeClassifier"
      ]
    },
    {
      "cell_type": "markdown",
      "metadata": {
        "id": "XvWowBGt1enV"
      },
      "source": [
        "*Подберем наилучшие параметры для DecisionTreeClassifier.*"
      ]
    },
    {
      "cell_type": "code",
      "execution_count": null,
      "metadata": {
        "id": "OfJHEf3a1enV",
        "outputId": "c80ea1e8-a6a7-4d33-bebd-85d942498cb1"
      },
      "outputs": [
        {
          "name": "stdout",
          "output_type": "stream",
          "text": [
            "Fitting 3 folds for each of 6 candidates, totalling 18 fits\n",
            "[CV 1/3] END ......model__criterion=gini, model__max_depth=1; total time=   9.0s\n",
            "[CV 2/3] END ......model__criterion=gini, model__max_depth=1; total time=   9.1s\n",
            "[CV 3/3] END ......model__criterion=gini, model__max_depth=1; total time=   8.9s\n",
            "[CV 1/3] END ......model__criterion=gini, model__max_depth=6; total time=  10.9s\n",
            "[CV 2/3] END ......model__criterion=gini, model__max_depth=6; total time=  10.7s\n",
            "[CV 3/3] END ......model__criterion=gini, model__max_depth=6; total time=  10.5s\n",
            "[CV 1/3] END .....model__criterion=gini, model__max_depth=11; total time=  13.5s\n",
            "[CV 2/3] END .....model__criterion=gini, model__max_depth=11; total time=  14.0s\n",
            "[CV 3/3] END .....model__criterion=gini, model__max_depth=11; total time=  13.4s\n",
            "[CV 1/3] END ...model__criterion=entropy, model__max_depth=1; total time=   9.2s\n",
            "[CV 2/3] END ...model__criterion=entropy, model__max_depth=1; total time=   9.4s\n",
            "[CV 3/3] END ...model__criterion=entropy, model__max_depth=1; total time=   9.2s\n",
            "[CV 1/3] END ...model__criterion=entropy, model__max_depth=6; total time=  12.2s\n",
            "[CV 2/3] END ...model__criterion=entropy, model__max_depth=6; total time=  12.2s\n",
            "[CV 3/3] END ...model__criterion=entropy, model__max_depth=6; total time=  11.6s\n",
            "[CV 1/3] END ..model__criterion=entropy, model__max_depth=11; total time=  16.1s\n",
            "[CV 2/3] END ..model__criterion=entropy, model__max_depth=11; total time=  16.5s\n",
            "[CV 3/3] END ..model__criterion=entropy, model__max_depth=11; total time=  15.7s\n",
            "Наилучшие параметры для DecisionTreeClassifier: {'model__criterion': 'gini', 'model__max_depth': 11}\n",
            "F1 DecisionTreeClassifier на обучающей выборке: 0.56\n",
            "CPU times: user 3min 47s, sys: 241 ms, total: 3min 47s\n",
            "Wall time: 3min 48s\n"
          ]
        },
        {
          "data": {
            "text/plain": [
              "Pipeline(steps=[('model',\n",
              "                 DecisionTreeClassifier(class_weight='balanced', max_depth=11,\n",
              "                                        random_state=12345))])"
            ]
          },
          "execution_count": 26,
          "metadata": {},
          "output_type": "execute_result"
        }
      ],
      "source": [
        "%%time\n",
        "\n",
        "pipe_dtc = Pipeline([('model', DecisionTreeClassifier(random_state=12345, class_weight='balanced'))])\n",
        "#clf_dtc = DecisionTreeClassifier(random_state = 12345, class_weight='balanced')\n",
        "params_dtc = {\n",
        "   'model__criterion':['gini', 'entropy'],\n",
        "   'model__max_depth':list(range(1,15,5)),\n",
        "}\n",
        "grid_dtc = GridSearchCV(pipe_dtc, params_dtc, cv=3, scoring='f1', verbose=5)\n",
        "grid_dtc.fit(features_train, target_train)\n",
        "params_dtc = grid_dtc.best_params_\n",
        "f1_dtc = grid_dtc.best_score_.round(2)\n",
        "print('Наилучшие параметры для DecisionTreeClassifier:', params_dtc)\n",
        "print('F1 DecisionTreeClassifier на обучающей выборке:', f1_dtc)\n",
        "\n",
        "best_dtc = grid_dtc.best_estimator_\n",
        "\n",
        "best_dtc.fit(features_train, target_train)"
      ]
    },
    {
      "cell_type": "markdown",
      "metadata": {
        "id": "7w9Ck9iT1enW"
      },
      "source": [
        "### RandomForestClassifier"
      ]
    },
    {
      "cell_type": "markdown",
      "metadata": {
        "id": "M5RAGm5w1enX"
      },
      "source": [
        "*Подберем наилучшие параметры для RandomForestClassifier.*"
      ]
    },
    {
      "cell_type": "code",
      "execution_count": null,
      "metadata": {
        "id": "QxA-V24Q1enY",
        "outputId": "37cf6f12-46c4-4fd8-bad0-5b25afa3850f"
      },
      "outputs": [
        {
          "name": "stdout",
          "output_type": "stream",
          "text": [
            "Fitting 5 folds for each of 2 candidates, totalling 10 fits\n",
            "[CV 1/5] END model__max_depth=3, model__min_samples_leaf=2, model__min_samples_split=5; total time=   8.0s\n",
            "[CV 2/5] END model__max_depth=3, model__min_samples_leaf=2, model__min_samples_split=5; total time=   7.4s\n",
            "[CV 3/5] END model__max_depth=3, model__min_samples_leaf=2, model__min_samples_split=5; total time=   7.4s\n",
            "[CV 4/5] END model__max_depth=3, model__min_samples_leaf=2, model__min_samples_split=5; total time=   7.3s\n",
            "[CV 5/5] END model__max_depth=3, model__min_samples_leaf=2, model__min_samples_split=5; total time=   7.3s\n",
            "[CV 1/5] END model__max_depth=7, model__min_samples_leaf=4, model__min_samples_split=10; total time=  15.8s\n",
            "[CV 2/5] END model__max_depth=7, model__min_samples_leaf=4, model__min_samples_split=10; total time=  16.3s\n",
            "[CV 3/5] END model__max_depth=7, model__min_samples_leaf=4, model__min_samples_split=10; total time=  15.7s\n",
            "[CV 4/5] END model__max_depth=7, model__min_samples_leaf=4, model__min_samples_split=10; total time=  15.7s\n",
            "[CV 5/5] END model__max_depth=7, model__min_samples_leaf=4, model__min_samples_split=10; total time=  15.9s\n",
            "Наилучшие параметры для RandomForestClassifier: {'model__min_samples_split': 10, 'model__min_samples_leaf': 4, 'model__max_depth': 7}\n",
            "F1 RandomForestClassifier на обучающей выборке: 0.32787653966324326\n",
            "CPU times: user 2min 1s, sys: 101 ms, total: 2min 1s\n",
            "Wall time: 2min 1s\n"
          ]
        },
        {
          "data": {
            "text/plain": [
              "Pipeline(steps=[('model',\n",
              "                 RandomForestClassifier(class_weight='balanced', max_depth=7,\n",
              "                                        min_samples_leaf=4,\n",
              "                                        min_samples_split=10,\n",
              "                                        random_state=12345))])"
            ]
          },
          "execution_count": 27,
          "metadata": {},
          "output_type": "execute_result"
        }
      ],
      "source": [
        "%%time\n",
        "\n",
        "pipe_rfc = Pipeline([('model', RandomForestClassifier(n_estimators=100, random_state=12345, class_weight='balanced'))])\n",
        "#clf_rfc = RandomForestClassifier(n_estimators=100, random_state=12345, class_weight='balanced')\n",
        "params_rfc = {'model__max_depth': [3, 7, 11, 15, 10, 20],\n",
        "              'model__min_samples_leaf': [1, 2, 4, 8],\n",
        "              'model__min_samples_split': [2, 5, 10]}\n",
        "\n",
        "grid_rfc = RandomizedSearchCV(pipe_rfc,\n",
        "                        params_rfc,\n",
        "                        n_iter = 2,\n",
        "                        scoring = 'f1',\n",
        "                        n_jobs = -1,\n",
        "                        verbose = 5,\n",
        "                        random_state = 12345)\n",
        "grid_rfc.fit(features_train, target_train)\n",
        "params_rfc = grid_rfc.best_params_\n",
        "f1_rfc = grid_rfc.best_score_\n",
        "print('Наилучшие параметры для RandomForestClassifier:', params_rfc)\n",
        "print('F1 RandomForestClassifier на обучающей выборке:', f1_rfc)\n",
        "\n",
        "best_rfc = grid_rfc.best_estimator_\n",
        "\n",
        "best_rfc.fit(features_train, target_train)"
      ]
    },
    {
      "cell_type": "markdown",
      "metadata": {
        "id": "PFg298Z31enZ"
      },
      "source": [
        "*Сведём полученные результаты в таблицу.*"
      ]
    },
    {
      "cell_type": "code",
      "execution_count": null,
      "metadata": {
        "id": "9z60uOIj1enZ",
        "outputId": "9079b322-87e9-47ce-8a30-1669363c11fe"
      },
      "outputs": [
        {
          "data": {
            "text/html": [
              "<div>\n",
              "<style scoped>\n",
              "    .dataframe tbody tr th:only-of-type {\n",
              "        vertical-align: middle;\n",
              "    }\n",
              "\n",
              "    .dataframe tbody tr th {\n",
              "        vertical-align: top;\n",
              "    }\n",
              "\n",
              "    .dataframe thead th {\n",
              "        text-align: right;\n",
              "    }\n",
              "</style>\n",
              "<table border=\"1\" class=\"dataframe\">\n",
              "  <thead>\n",
              "    <tr style=\"text-align: right;\">\n",
              "      <th></th>\n",
              "      <th>F1</th>\n",
              "    </tr>\n",
              "  </thead>\n",
              "  <tbody>\n",
              "    <tr>\n",
              "      <th>LogisticRegression</th>\n",
              "      <td>0.76</td>\n",
              "    </tr>\n",
              "    <tr>\n",
              "      <th>DecisionTreeClassifier</th>\n",
              "      <td>0.56</td>\n",
              "    </tr>\n",
              "    <tr>\n",
              "      <th>RandomForestClassifier</th>\n",
              "      <td>0.33</td>\n",
              "    </tr>\n",
              "  </tbody>\n",
              "</table>\n",
              "</div>"
            ],
            "text/plain": [
              "                         F1\n",
              "LogisticRegression     0.76\n",
              "DecisionTreeClassifier 0.56\n",
              "RandomForestClassifier 0.33"
            ]
          },
          "execution_count": 28,
          "metadata": {},
          "output_type": "execute_result"
        }
      ],
      "source": [
        "list_train = (f1_lr, f1_dtc, f1_rfc)\n",
        "\n",
        "data_f1=pd.DataFrame(list_train,\n",
        "                           index=['LogisticRegression',\n",
        "                                  'DecisionTreeClassifier',\n",
        "                                  'RandomForestClassifier'],\n",
        "                           columns = ['F1'])\n",
        "data_f1"
      ]
    },
    {
      "cell_type": "markdown",
      "metadata": {
        "id": "hmSSWWO-1enb"
      },
      "source": [
        "*Лучшее значение метрики F1 и времени обучения показала модель LogisticRegression. Проведем её тестирование на подобранных гиперпараметрах.*"
      ]
    },
    {
      "cell_type": "markdown",
      "metadata": {
        "id": "dRqqhrLH1enc"
      },
      "source": [
        "### Тестирование"
      ]
    },
    {
      "cell_type": "markdown",
      "metadata": {
        "id": "reJqOBRq1end"
      },
      "source": [
        "*Определим F1 на тестовой выборке  LogisticRegression с подобранными гиперпараметрами.*"
      ]
    },
    {
      "cell_type": "code",
      "execution_count": null,
      "metadata": {
        "id": "LateiJM11ene",
        "outputId": "1f4d5745-5a7a-453c-b9b1-aefab5680836"
      },
      "outputs": [
        {
          "name": "stdout",
          "output_type": "stream",
          "text": [
            "F1 LogisticRegression на тестовой выборке: 0.7549271636675237\n"
          ]
        }
      ],
      "source": [
        "predict_lr = best_rf.predict(features_test)\n",
        "\n",
        "f1_lr_test = f1_score(predict_lr, target_test)\n",
        "f1_lr_test\n",
        "print('F1 LogisticRegression на тестовой выборке:', f1_lr_test)\n"
      ]
    },
    {
      "cell_type": "markdown",
      "metadata": {
        "id": "Ynens-Af1enf"
      },
      "source": [
        "*Полученное значение удовлетворяет требованиям.*"
      ]
    },
    {
      "cell_type": "markdown",
      "metadata": {
        "id": "IkDv5yUB1enj"
      },
      "source": [
        "## Выводы"
      ]
    },
    {
      "cell_type": "markdown",
      "metadata": {
        "id": "h4-PGPv61enk"
      },
      "source": [
        "* Провели первичный анализ данных, очистили текст от спецсимволов, тегов, стоп-слов\n",
        "* Провели лемматизацию текста\n",
        "* Подобрали лучшие параметры для обучения моделей классификации LogisticRegression, DecisionTreeClassifier, RandomForestClassifier\n",
        "* Сравнили модели по значению метрики F1\n",
        "* Лучший результат по скорости обучения показала LogisticRegression\n",
        "* Лучший результат по значению метрики показала LogisticRegression\n"
      ]
    },
    {
      "cell_type": "code",
      "execution_count": null,
      "metadata": {
        "id": "bX9wMgIG1enn"
      },
      "outputs": [],
      "source": []
    }
  ],
  "metadata": {
    "ExecuteTimeLog": [
      {
        "duration": 1731,
        "start_time": "2023-03-04T05:18:45.845Z"
      },
      {
        "duration": 13,
        "start_time": "2023-03-04T05:24:03.315Z"
      },
      {
        "duration": 2416,
        "start_time": "2023-03-04T05:51:31.155Z"
      },
      {
        "duration": 32,
        "start_time": "2023-03-04T06:01:13.447Z"
      },
      {
        "duration": 824,
        "start_time": "2023-03-04T06:18:24.537Z"
      },
      {
        "duration": 851,
        "start_time": "2023-03-04T06:18:50.987Z"
      },
      {
        "duration": 37,
        "start_time": "2023-03-04T08:13:32.077Z"
      },
      {
        "duration": 1847,
        "start_time": "2023-03-04T08:14:12.806Z"
      },
      {
        "duration": 1093,
        "start_time": "2023-03-04T08:14:14.655Z"
      },
      {
        "duration": 42,
        "start_time": "2023-03-04T08:14:15.753Z"
      },
      {
        "duration": 198,
        "start_time": "2023-03-04T08:14:15.799Z"
      },
      {
        "duration": 7,
        "start_time": "2023-03-04T08:14:54.579Z"
      },
      {
        "duration": 24,
        "start_time": "2023-03-04T08:15:20.551Z"
      },
      {
        "duration": 5,
        "start_time": "2023-03-04T08:15:28.797Z"
      },
      {
        "duration": 12,
        "start_time": "2023-03-04T08:24:53.092Z"
      },
      {
        "duration": 4658,
        "start_time": "2023-03-04T08:25:04.475Z"
      },
      {
        "duration": 832,
        "start_time": "2023-03-04T09:05:47.570Z"
      },
      {
        "duration": 1454,
        "start_time": "2023-03-04T09:06:04.074Z"
      },
      {
        "duration": 900,
        "start_time": "2023-03-04T09:06:05.530Z"
      },
      {
        "duration": 29,
        "start_time": "2023-03-04T09:06:06.432Z"
      },
      {
        "duration": 146,
        "start_time": "2023-03-04T09:06:06.463Z"
      },
      {
        "duration": 0,
        "start_time": "2023-03-04T09:06:06.611Z"
      },
      {
        "duration": 2956,
        "start_time": "2023-03-04T09:22:22.129Z"
      },
      {
        "duration": 12,
        "start_time": "2023-03-04T09:26:24.194Z"
      },
      {
        "duration": 442,
        "start_time": "2023-03-04T09:26:54.456Z"
      },
      {
        "duration": 245,
        "start_time": "2023-03-04T09:26:59.756Z"
      },
      {
        "duration": 72,
        "start_time": "2023-03-04T09:27:48.059Z"
      },
      {
        "duration": 132,
        "start_time": "2023-03-04T09:27:55.883Z"
      },
      {
        "duration": 128,
        "start_time": "2023-03-04T09:28:12.171Z"
      },
      {
        "duration": 128,
        "start_time": "2023-03-04T09:32:55.089Z"
      },
      {
        "duration": 11,
        "start_time": "2023-03-04T09:36:04.667Z"
      },
      {
        "duration": 12,
        "start_time": "2023-03-04T09:36:12.484Z"
      },
      {
        "duration": 9,
        "start_time": "2023-03-04T09:36:37.533Z"
      },
      {
        "duration": 1941,
        "start_time": "2023-03-04T12:42:14.483Z"
      },
      {
        "duration": 945,
        "start_time": "2023-03-04T12:42:16.426Z"
      },
      {
        "duration": 38,
        "start_time": "2023-03-04T12:42:17.373Z"
      },
      {
        "duration": 34,
        "start_time": "2023-03-04T12:42:17.413Z"
      },
      {
        "duration": 148,
        "start_time": "2023-03-04T12:42:17.450Z"
      },
      {
        "duration": 2922,
        "start_time": "2023-03-04T12:42:17.600Z"
      },
      {
        "duration": 2484,
        "start_time": "2023-03-05T06:22:17.421Z"
      },
      {
        "duration": 2665,
        "start_time": "2023-03-05T06:22:19.907Z"
      },
      {
        "duration": 42,
        "start_time": "2023-03-05T06:22:22.574Z"
      },
      {
        "duration": 11,
        "start_time": "2023-03-05T06:22:22.618Z"
      },
      {
        "duration": 143,
        "start_time": "2023-03-05T06:22:22.631Z"
      },
      {
        "duration": 2903,
        "start_time": "2023-03-05T06:22:22.776Z"
      },
      {
        "duration": 32,
        "start_time": "2023-03-05T07:58:45.430Z"
      },
      {
        "duration": 2082,
        "start_time": "2023-03-06T06:26:22.264Z"
      },
      {
        "duration": 2328,
        "start_time": "2023-03-06T06:35:13.643Z"
      },
      {
        "duration": 31,
        "start_time": "2023-03-06T06:35:17.836Z"
      },
      {
        "duration": 6,
        "start_time": "2023-03-06T06:35:20.000Z"
      },
      {
        "duration": 131,
        "start_time": "2023-03-06T06:35:21.331Z"
      },
      {
        "duration": 137,
        "start_time": "2023-03-06T06:35:24.922Z"
      },
      {
        "duration": 5,
        "start_time": "2023-03-06T06:36:13.043Z"
      },
      {
        "duration": 129284,
        "start_time": "2023-03-06T06:36:20.017Z"
      },
      {
        "duration": 180,
        "start_time": "2023-03-06T06:41:05.995Z"
      },
      {
        "duration": 128604,
        "start_time": "2023-03-06T06:41:11.550Z"
      },
      {
        "duration": 40395,
        "start_time": "2023-03-06T06:53:59.610Z"
      },
      {
        "duration": 367,
        "start_time": "2023-03-06T06:55:10.484Z"
      },
      {
        "duration": 1870,
        "start_time": "2023-03-06T06:56:24.233Z"
      },
      {
        "duration": 799,
        "start_time": "2023-03-06T06:56:26.106Z"
      },
      {
        "duration": 29,
        "start_time": "2023-03-06T06:56:26.907Z"
      },
      {
        "duration": 7,
        "start_time": "2023-03-06T06:56:26.947Z"
      },
      {
        "duration": 133,
        "start_time": "2023-03-06T06:56:26.955Z"
      },
      {
        "duration": 80346,
        "start_time": "2023-03-06T06:56:27.090Z"
      },
      {
        "duration": 1874,
        "start_time": "2023-03-06T06:57:47.438Z"
      },
      {
        "duration": 4,
        "start_time": "2023-03-06T06:57:49.313Z"
      },
      {
        "duration": 47,
        "start_time": "2023-03-06T06:57:49.319Z"
      },
      {
        "duration": 141,
        "start_time": "2023-03-06T06:57:49.368Z"
      },
      {
        "duration": 80266,
        "start_time": "2023-03-06T07:21:03.709Z"
      },
      {
        "duration": 31,
        "start_time": "2023-03-06T07:24:12.900Z"
      },
      {
        "duration": 17,
        "start_time": "2023-03-06T07:24:20.091Z"
      },
      {
        "duration": 25,
        "start_time": "2023-03-06T07:24:55.600Z"
      },
      {
        "duration": 25,
        "start_time": "2023-03-06T07:25:13.184Z"
      },
      {
        "duration": 15,
        "start_time": "2023-03-06T07:25:43.753Z"
      },
      {
        "duration": 15,
        "start_time": "2023-03-06T07:25:49.535Z"
      },
      {
        "duration": 13,
        "start_time": "2023-03-06T07:27:56.636Z"
      },
      {
        "duration": 13,
        "start_time": "2023-03-06T07:28:33.601Z"
      },
      {
        "duration": 14,
        "start_time": "2023-03-06T07:29:00.158Z"
      },
      {
        "duration": 10,
        "start_time": "2023-03-06T07:29:14.630Z"
      },
      {
        "duration": 4,
        "start_time": "2023-03-06T07:29:20.983Z"
      },
      {
        "duration": 9,
        "start_time": "2023-03-06T07:29:37.776Z"
      },
      {
        "duration": 1811,
        "start_time": "2023-03-06T07:30:09.720Z"
      },
      {
        "duration": 833,
        "start_time": "2023-03-06T07:30:11.533Z"
      },
      {
        "duration": 30,
        "start_time": "2023-03-06T07:30:12.367Z"
      },
      {
        "duration": 14,
        "start_time": "2023-03-06T07:30:12.399Z"
      },
      {
        "duration": 139,
        "start_time": "2023-03-06T07:30:12.414Z"
      },
      {
        "duration": 81980,
        "start_time": "2023-03-06T07:30:12.555Z"
      },
      {
        "duration": 4,
        "start_time": "2023-03-06T07:31:34.537Z"
      },
      {
        "duration": 15,
        "start_time": "2023-03-06T07:31:34.548Z"
      },
      {
        "duration": 30,
        "start_time": "2023-03-06T07:31:34.564Z"
      },
      {
        "duration": 145,
        "start_time": "2023-03-06T07:31:34.596Z"
      },
      {
        "duration": 3,
        "start_time": "2023-03-06T07:36:10.796Z"
      },
      {
        "duration": 11,
        "start_time": "2023-03-06T07:40:03.299Z"
      },
      {
        "duration": 10,
        "start_time": "2023-03-06T07:40:35.825Z"
      },
      {
        "duration": 11,
        "start_time": "2023-03-06T07:40:43.981Z"
      },
      {
        "duration": 1927,
        "start_time": "2023-03-06T07:40:57.431Z"
      },
      {
        "duration": 866,
        "start_time": "2023-03-06T07:40:59.361Z"
      },
      {
        "duration": 40,
        "start_time": "2023-03-06T07:41:00.229Z"
      },
      {
        "duration": 7,
        "start_time": "2023-03-06T07:41:00.272Z"
      },
      {
        "duration": 163,
        "start_time": "2023-03-06T07:41:00.281Z"
      },
      {
        "duration": 84401,
        "start_time": "2023-03-06T07:41:00.449Z"
      },
      {
        "duration": 32,
        "start_time": "2023-03-06T07:42:24.852Z"
      },
      {
        "duration": 3,
        "start_time": "2023-03-06T07:42:24.886Z"
      },
      {
        "duration": 39,
        "start_time": "2023-03-06T07:42:24.890Z"
      },
      {
        "duration": 159,
        "start_time": "2023-03-06T07:56:35.206Z"
      },
      {
        "duration": 13,
        "start_time": "2023-03-06T08:01:42.228Z"
      },
      {
        "duration": 1856,
        "start_time": "2023-03-06T08:02:49.794Z"
      },
      {
        "duration": 856,
        "start_time": "2023-03-06T08:02:51.652Z"
      },
      {
        "duration": 43,
        "start_time": "2023-03-06T08:02:52.509Z"
      },
      {
        "duration": 10,
        "start_time": "2023-03-06T08:02:52.554Z"
      },
      {
        "duration": 141,
        "start_time": "2023-03-06T08:02:52.566Z"
      },
      {
        "duration": 81944,
        "start_time": "2023-03-06T08:02:52.709Z"
      },
      {
        "duration": 33,
        "start_time": "2023-03-06T08:04:14.655Z"
      },
      {
        "duration": 4,
        "start_time": "2023-03-06T08:04:14.690Z"
      },
      {
        "duration": 48,
        "start_time": "2023-03-06T08:04:14.696Z"
      },
      {
        "duration": 129,
        "start_time": "2023-03-06T08:04:14.746Z"
      },
      {
        "duration": 165,
        "start_time": "2023-03-06T12:18:47.514Z"
      },
      {
        "duration": 5918,
        "start_time": "2023-03-06T12:18:56.820Z"
      },
      {
        "duration": 2348,
        "start_time": "2023-03-06T12:20:31.749Z"
      },
      {
        "duration": 28,
        "start_time": "2023-03-06T12:20:52.317Z"
      },
      {
        "duration": 16,
        "start_time": "2023-03-06T12:30:15.610Z"
      },
      {
        "duration": 1964,
        "start_time": "2023-03-06T12:31:02.643Z"
      },
      {
        "duration": 2318,
        "start_time": "2023-03-06T12:31:04.610Z"
      },
      {
        "duration": 35,
        "start_time": "2023-03-06T12:31:06.929Z"
      },
      {
        "duration": 12,
        "start_time": "2023-03-06T12:31:06.967Z"
      },
      {
        "duration": 168,
        "start_time": "2023-03-06T12:31:06.980Z"
      },
      {
        "duration": 83318,
        "start_time": "2023-03-06T12:31:07.151Z"
      },
      {
        "duration": 33,
        "start_time": "2023-03-06T12:32:30.471Z"
      },
      {
        "duration": 18,
        "start_time": "2023-03-06T12:32:30.505Z"
      },
      {
        "duration": 72,
        "start_time": "2023-03-06T12:32:30.524Z"
      },
      {
        "duration": 28,
        "start_time": "2023-03-06T12:32:30.598Z"
      },
      {
        "duration": 192,
        "start_time": "2023-03-06T12:32:30.628Z"
      },
      {
        "duration": 0,
        "start_time": "2023-03-06T12:32:30.821Z"
      },
      {
        "duration": 0,
        "start_time": "2023-03-06T12:32:30.823Z"
      },
      {
        "duration": 5672,
        "start_time": "2023-03-06T12:47:16.107Z"
      },
      {
        "duration": 1612,
        "start_time": "2023-03-06T12:47:24.316Z"
      },
      {
        "duration": 1878,
        "start_time": "2023-03-06T18:13:18.262Z"
      },
      {
        "duration": 835,
        "start_time": "2023-03-06T18:13:20.142Z"
      },
      {
        "duration": 30,
        "start_time": "2023-03-06T18:13:20.979Z"
      },
      {
        "duration": 10,
        "start_time": "2023-03-06T18:13:21.011Z"
      },
      {
        "duration": 140,
        "start_time": "2023-03-06T18:13:21.022Z"
      },
      {
        "duration": 81768,
        "start_time": "2023-03-06T18:13:21.163Z"
      },
      {
        "duration": 43,
        "start_time": "2023-03-06T18:14:42.933Z"
      },
      {
        "duration": 3,
        "start_time": "2023-03-06T18:14:42.978Z"
      },
      {
        "duration": 147,
        "start_time": "2023-03-06T18:14:42.983Z"
      },
      {
        "duration": 18,
        "start_time": "2023-03-06T18:14:43.132Z"
      },
      {
        "duration": 5,
        "start_time": "2023-03-06T18:14:43.156Z"
      },
      {
        "duration": 5718,
        "start_time": "2023-03-06T18:14:43.163Z"
      },
      {
        "duration": 1440,
        "start_time": "2023-03-06T18:14:48.882Z"
      },
      {
        "duration": 103,
        "start_time": "2023-03-06T18:16:28.825Z"
      },
      {
        "duration": 95,
        "start_time": "2023-03-06T18:17:59.142Z"
      },
      {
        "duration": 112,
        "start_time": "2023-03-06T18:18:17.716Z"
      },
      {
        "duration": 3,
        "start_time": "2023-03-06T18:19:40.820Z"
      },
      {
        "duration": 134,
        "start_time": "2023-03-06T18:24:21.015Z"
      },
      {
        "duration": 20,
        "start_time": "2023-03-06T18:26:09.023Z"
      },
      {
        "duration": 66,
        "start_time": "2023-03-06T19:35:18.314Z"
      },
      {
        "duration": 4,
        "start_time": "2023-03-06T19:37:03.915Z"
      },
      {
        "duration": 4,
        "start_time": "2023-03-06T19:37:17.715Z"
      },
      {
        "duration": 129,
        "start_time": "2023-03-06T19:39:30.307Z"
      },
      {
        "duration": 123,
        "start_time": "2023-03-06T19:39:45.039Z"
      },
      {
        "duration": 104,
        "start_time": "2023-03-06T19:40:15.694Z"
      },
      {
        "duration": 90,
        "start_time": "2023-03-06T19:41:30.515Z"
      },
      {
        "duration": 327,
        "start_time": "2023-03-06T19:41:52.125Z"
      },
      {
        "duration": 95,
        "start_time": "2023-03-06T19:51:24.424Z"
      },
      {
        "duration": 86,
        "start_time": "2023-03-06T19:51:54.820Z"
      },
      {
        "duration": 282,
        "start_time": "2023-03-06T19:52:45.533Z"
      },
      {
        "duration": 49685,
        "start_time": "2023-03-06T19:52:52.604Z"
      },
      {
        "duration": 47,
        "start_time": "2023-03-06T19:54:11.224Z"
      },
      {
        "duration": 40,
        "start_time": "2023-03-06T19:54:49.513Z"
      },
      {
        "duration": 2024,
        "start_time": "2023-03-06T20:01:56.342Z"
      },
      {
        "duration": 867,
        "start_time": "2023-03-06T20:01:58.368Z"
      },
      {
        "duration": 38,
        "start_time": "2023-03-06T20:01:59.237Z"
      },
      {
        "duration": 16,
        "start_time": "2023-03-06T20:01:59.278Z"
      },
      {
        "duration": 10,
        "start_time": "2023-03-06T20:01:59.296Z"
      },
      {
        "duration": 189,
        "start_time": "2023-03-06T20:01:59.308Z"
      },
      {
        "duration": 83430,
        "start_time": "2023-03-06T20:01:59.499Z"
      },
      {
        "duration": 52,
        "start_time": "2023-03-06T20:03:22.931Z"
      },
      {
        "duration": 2,
        "start_time": "2023-03-06T20:03:22.985Z"
      },
      {
        "duration": 76,
        "start_time": "2023-03-06T20:03:22.990Z"
      },
      {
        "duration": 1284,
        "start_time": "2023-03-06T20:03:23.068Z"
      },
      {
        "duration": 0,
        "start_time": "2023-03-06T20:03:24.354Z"
      },
      {
        "duration": 0,
        "start_time": "2023-03-06T20:03:24.355Z"
      },
      {
        "duration": 0,
        "start_time": "2023-03-06T20:03:24.356Z"
      },
      {
        "duration": 0,
        "start_time": "2023-03-06T20:03:24.358Z"
      },
      {
        "duration": 0,
        "start_time": "2023-03-06T20:03:24.359Z"
      },
      {
        "duration": 3,
        "start_time": "2023-03-06T20:04:03.018Z"
      },
      {
        "duration": 5,
        "start_time": "2023-03-06T20:04:05.677Z"
      },
      {
        "duration": 18,
        "start_time": "2023-03-06T20:04:11.325Z"
      },
      {
        "duration": 81,
        "start_time": "2023-03-06T20:04:47.773Z"
      },
      {
        "duration": 82,
        "start_time": "2023-03-06T20:05:19.409Z"
      },
      {
        "duration": 369435,
        "start_time": "2023-03-06T20:05:54.433Z"
      },
      {
        "duration": 132,
        "start_time": "2023-03-06T20:12:06.674Z"
      },
      {
        "duration": 1860,
        "start_time": "2023-03-06T20:30:52.110Z"
      },
      {
        "duration": 891,
        "start_time": "2023-03-06T20:30:53.972Z"
      },
      {
        "duration": 35,
        "start_time": "2023-03-06T20:30:54.864Z"
      },
      {
        "duration": 7,
        "start_time": "2023-03-06T20:30:54.901Z"
      },
      {
        "duration": 8,
        "start_time": "2023-03-06T20:30:54.909Z"
      },
      {
        "duration": 150,
        "start_time": "2023-03-06T20:30:54.919Z"
      },
      {
        "duration": 89592,
        "start_time": "2023-03-06T20:30:55.071Z"
      },
      {
        "duration": 29,
        "start_time": "2023-03-06T20:32:24.673Z"
      },
      {
        "duration": 2,
        "start_time": "2023-03-06T20:32:24.704Z"
      },
      {
        "duration": 73,
        "start_time": "2023-03-06T20:32:24.709Z"
      },
      {
        "duration": 3,
        "start_time": "2023-03-06T20:32:24.784Z"
      },
      {
        "duration": 11,
        "start_time": "2023-03-06T20:32:24.788Z"
      },
      {
        "duration": 6,
        "start_time": "2023-03-06T20:32:24.800Z"
      },
      {
        "duration": 4,
        "start_time": "2023-03-06T20:32:24.808Z"
      },
      {
        "duration": 1009670,
        "start_time": "2023-03-06T20:32:24.814Z"
      },
      {
        "duration": 2015,
        "start_time": "2023-03-08T13:47:55.545Z"
      },
      {
        "duration": 2274,
        "start_time": "2023-03-08T13:47:57.562Z"
      },
      {
        "duration": 23,
        "start_time": "2023-03-08T13:47:59.837Z"
      },
      {
        "duration": 12,
        "start_time": "2023-03-08T13:47:59.862Z"
      },
      {
        "duration": 19,
        "start_time": "2023-03-08T13:47:59.876Z"
      },
      {
        "duration": 123,
        "start_time": "2023-03-08T13:47:59.897Z"
      },
      {
        "duration": 74555,
        "start_time": "2023-03-08T13:48:00.022Z"
      },
      {
        "duration": 23,
        "start_time": "2023-03-08T13:49:14.578Z"
      },
      {
        "duration": 3,
        "start_time": "2023-03-08T13:49:14.602Z"
      },
      {
        "duration": 70,
        "start_time": "2023-03-08T13:49:14.607Z"
      },
      {
        "duration": 3,
        "start_time": "2023-03-08T13:49:14.678Z"
      },
      {
        "duration": 6,
        "start_time": "2023-03-08T13:49:14.682Z"
      },
      {
        "duration": 4,
        "start_time": "2023-03-08T13:49:14.689Z"
      },
      {
        "duration": 4,
        "start_time": "2023-03-08T13:49:14.694Z"
      },
      {
        "duration": 7,
        "start_time": "2023-03-08T13:49:14.699Z"
      },
      {
        "duration": 81,
        "start_time": "2023-03-08T13:49:14.707Z"
      },
      {
        "duration": 71,
        "start_time": "2023-03-08T13:52:30.169Z"
      },
      {
        "duration": 2,
        "start_time": "2023-03-08T13:53:37.195Z"
      },
      {
        "duration": 133,
        "start_time": "2023-03-08T13:53:59.356Z"
      },
      {
        "duration": 3,
        "start_time": "2023-03-08T13:54:33.196Z"
      },
      {
        "duration": 103220,
        "start_time": "2023-03-08T14:03:23.758Z"
      },
      {
        "duration": 9626,
        "start_time": "2023-03-08T14:11:40.246Z"
      },
      {
        "duration": 86651,
        "start_time": "2023-03-08T14:11:58.350Z"
      },
      {
        "duration": 1918,
        "start_time": "2023-03-08T14:32:54.294Z"
      },
      {
        "duration": 914,
        "start_time": "2023-03-08T14:32:56.214Z"
      },
      {
        "duration": 40,
        "start_time": "2023-03-08T14:32:57.134Z"
      },
      {
        "duration": 8,
        "start_time": "2023-03-08T14:32:57.175Z"
      },
      {
        "duration": 12,
        "start_time": "2023-03-08T14:32:57.185Z"
      },
      {
        "duration": 164,
        "start_time": "2023-03-08T14:32:57.199Z"
      },
      {
        "duration": 82587,
        "start_time": "2023-03-08T14:32:57.365Z"
      },
      {
        "duration": 30,
        "start_time": "2023-03-08T14:34:19.954Z"
      },
      {
        "duration": 3,
        "start_time": "2023-03-08T14:34:19.985Z"
      },
      {
        "duration": 102,
        "start_time": "2023-03-08T14:34:19.989Z"
      },
      {
        "duration": 2,
        "start_time": "2023-03-08T14:34:20.093Z"
      },
      {
        "duration": 6,
        "start_time": "2023-03-08T14:34:20.097Z"
      },
      {
        "duration": 147,
        "start_time": "2023-03-08T14:34:20.104Z"
      },
      {
        "duration": 0,
        "start_time": "2023-03-08T14:34:20.254Z"
      },
      {
        "duration": 0,
        "start_time": "2023-03-08T14:34:20.255Z"
      },
      {
        "duration": 0,
        "start_time": "2023-03-08T14:34:20.256Z"
      },
      {
        "duration": 0,
        "start_time": "2023-03-08T14:34:20.258Z"
      },
      {
        "duration": 0,
        "start_time": "2023-03-08T14:34:20.259Z"
      },
      {
        "duration": 0,
        "start_time": "2023-03-08T14:34:20.260Z"
      },
      {
        "duration": 0,
        "start_time": "2023-03-08T14:34:20.261Z"
      },
      {
        "duration": 0,
        "start_time": "2023-03-08T14:34:20.263Z"
      },
      {
        "duration": 1855,
        "start_time": "2023-03-08T14:38:51.561Z"
      },
      {
        "duration": 14,
        "start_time": "2023-03-08T14:38:57.989Z"
      },
      {
        "duration": 13,
        "start_time": "2023-03-08T14:39:15.470Z"
      },
      {
        "duration": 8050,
        "start_time": "2023-03-08T14:39:48.474Z"
      },
      {
        "duration": 595,
        "start_time": "2023-03-08T14:39:56.538Z"
      },
      {
        "duration": 2133,
        "start_time": "2023-03-08T14:40:32.485Z"
      },
      {
        "duration": 2045,
        "start_time": "2023-03-08T14:40:43.629Z"
      },
      {
        "duration": 95283,
        "start_time": "2023-03-08T14:45:09.354Z"
      },
      {
        "duration": 81864,
        "start_time": "2023-03-08T14:49:03.518Z"
      },
      {
        "duration": 256413,
        "start_time": "2023-03-08T15:02:19.791Z"
      },
      {
        "duration": 81,
        "start_time": "2023-03-08T15:12:26.355Z"
      },
      {
        "duration": 29,
        "start_time": "2023-03-08T15:13:42.926Z"
      },
      {
        "duration": 120,
        "start_time": "2023-03-08T15:17:57.676Z"
      },
      {
        "duration": 2253,
        "start_time": "2023-03-08T15:18:09.855Z"
      },
      {
        "duration": 2286,
        "start_time": "2023-03-08T15:18:12.110Z"
      },
      {
        "duration": 27,
        "start_time": "2023-03-08T15:18:14.397Z"
      },
      {
        "duration": 9,
        "start_time": "2023-03-08T15:18:14.426Z"
      },
      {
        "duration": 3,
        "start_time": "2023-03-08T15:18:14.436Z"
      },
      {
        "duration": 117,
        "start_time": "2023-03-08T15:18:14.440Z"
      },
      {
        "duration": 72951,
        "start_time": "2023-03-08T15:18:14.559Z"
      },
      {
        "duration": 30,
        "start_time": "2023-03-08T15:19:27.512Z"
      },
      {
        "duration": 3,
        "start_time": "2023-03-08T15:19:27.543Z"
      },
      {
        "duration": 64,
        "start_time": "2023-03-08T15:19:27.548Z"
      },
      {
        "duration": 2,
        "start_time": "2023-03-08T15:19:27.613Z"
      },
      {
        "duration": 20,
        "start_time": "2023-03-08T15:19:27.616Z"
      },
      {
        "duration": 1518,
        "start_time": "2023-03-08T15:19:27.637Z"
      },
      {
        "duration": 7085,
        "start_time": "2023-03-08T15:19:29.158Z"
      },
      {
        "duration": 424,
        "start_time": "2023-03-08T15:19:36.244Z"
      },
      {
        "duration": 1757,
        "start_time": "2023-03-08T15:19:36.670Z"
      },
      {
        "duration": 70465,
        "start_time": "2023-03-08T15:19:38.429Z"
      },
      {
        "duration": 222837,
        "start_time": "2023-03-08T15:20:48.896Z"
      },
      {
        "duration": 75,
        "start_time": "2023-03-08T15:25:29.515Z"
      },
      {
        "duration": 41,
        "start_time": "2023-03-08T15:25:38.531Z"
      },
      {
        "duration": 2358,
        "start_time": "2023-03-08T15:27:24.884Z"
      },
      {
        "duration": 2273,
        "start_time": "2023-03-08T15:27:27.243Z"
      },
      {
        "duration": 32,
        "start_time": "2023-03-08T15:27:29.518Z"
      },
      {
        "duration": 7,
        "start_time": "2023-03-08T15:27:29.552Z"
      },
      {
        "duration": 2,
        "start_time": "2023-03-08T15:27:29.560Z"
      },
      {
        "duration": 131,
        "start_time": "2023-03-08T15:27:29.564Z"
      },
      {
        "duration": 78146,
        "start_time": "2023-03-08T15:27:29.697Z"
      },
      {
        "duration": 24,
        "start_time": "2023-03-08T15:28:47.845Z"
      },
      {
        "duration": 2,
        "start_time": "2023-03-08T15:28:47.871Z"
      },
      {
        "duration": 74,
        "start_time": "2023-03-08T15:28:47.876Z"
      },
      {
        "duration": 2,
        "start_time": "2023-03-08T15:28:47.952Z"
      },
      {
        "duration": 8,
        "start_time": "2023-03-08T15:28:47.956Z"
      },
      {
        "duration": 1555,
        "start_time": "2023-03-08T15:28:47.965Z"
      },
      {
        "duration": 7227,
        "start_time": "2023-03-08T15:28:49.522Z"
      },
      {
        "duration": 384,
        "start_time": "2023-03-08T15:28:56.751Z"
      },
      {
        "duration": 1818,
        "start_time": "2023-03-08T15:28:57.137Z"
      },
      {
        "duration": 82964,
        "start_time": "2023-03-08T15:28:58.957Z"
      },
      {
        "duration": 236722,
        "start_time": "2023-03-08T15:30:21.922Z"
      },
      {
        "duration": 2350,
        "start_time": "2023-03-08T15:52:05.047Z"
      },
      {
        "duration": 2265,
        "start_time": "2023-03-08T15:52:07.399Z"
      },
      {
        "duration": 29,
        "start_time": "2023-03-08T15:52:09.666Z"
      },
      {
        "duration": 7,
        "start_time": "2023-03-08T15:52:09.697Z"
      },
      {
        "duration": 2,
        "start_time": "2023-03-08T15:52:09.707Z"
      },
      {
        "duration": 122,
        "start_time": "2023-03-08T15:52:09.711Z"
      },
      {
        "duration": 75558,
        "start_time": "2023-03-08T15:52:09.835Z"
      },
      {
        "duration": 25,
        "start_time": "2023-03-08T15:53:25.395Z"
      },
      {
        "duration": 11,
        "start_time": "2023-03-08T15:53:25.422Z"
      },
      {
        "duration": 67,
        "start_time": "2023-03-08T15:53:25.435Z"
      },
      {
        "duration": 2,
        "start_time": "2023-03-08T15:53:25.504Z"
      },
      {
        "duration": 12,
        "start_time": "2023-03-08T15:53:25.507Z"
      },
      {
        "duration": 1602,
        "start_time": "2023-03-08T15:53:25.521Z"
      },
      {
        "duration": 7089,
        "start_time": "2023-03-08T15:53:27.133Z"
      },
      {
        "duration": 390,
        "start_time": "2023-03-08T15:53:34.224Z"
      },
      {
        "duration": 1942,
        "start_time": "2023-03-08T15:53:34.616Z"
      },
      {
        "duration": 73592,
        "start_time": "2023-03-08T15:53:36.559Z"
      },
      {
        "duration": 224849,
        "start_time": "2023-03-08T15:54:50.153Z"
      },
      {
        "duration": 221,
        "start_time": "2023-03-08T15:58:35.004Z"
      },
      {
        "duration": 10,
        "start_time": "2023-03-08T15:58:35.227Z"
      },
      {
        "duration": 0,
        "start_time": "2023-03-08T15:58:35.239Z"
      },
      {
        "duration": 0,
        "start_time": "2023-03-08T15:58:35.240Z"
      },
      {
        "duration": 0,
        "start_time": "2023-03-08T15:58:35.241Z"
      },
      {
        "duration": 0,
        "start_time": "2023-03-08T15:58:35.242Z"
      },
      {
        "duration": 22,
        "start_time": "2023-03-08T16:00:30.935Z"
      },
      {
        "duration": 85,
        "start_time": "2023-03-08T16:00:39.515Z"
      },
      {
        "duration": 117,
        "start_time": "2023-03-08T16:04:10.215Z"
      },
      {
        "duration": 2451,
        "start_time": "2023-03-08T16:04:23.410Z"
      },
      {
        "duration": 1836,
        "start_time": "2023-03-08T16:04:33.262Z"
      },
      {
        "duration": 2334,
        "start_time": "2023-03-08T16:04:35.100Z"
      },
      {
        "duration": 30,
        "start_time": "2023-03-08T16:04:37.435Z"
      },
      {
        "duration": 8,
        "start_time": "2023-03-08T16:04:37.467Z"
      },
      {
        "duration": 4,
        "start_time": "2023-03-08T16:04:37.476Z"
      },
      {
        "duration": 121,
        "start_time": "2023-03-08T16:04:37.482Z"
      },
      {
        "duration": 75671,
        "start_time": "2023-03-08T16:04:37.605Z"
      },
      {
        "duration": 24,
        "start_time": "2023-03-08T16:05:53.277Z"
      },
      {
        "duration": 10,
        "start_time": "2023-03-08T16:05:53.303Z"
      },
      {
        "duration": 106,
        "start_time": "2023-03-08T16:05:53.315Z"
      },
      {
        "duration": 2,
        "start_time": "2023-03-08T16:05:53.422Z"
      },
      {
        "duration": 23,
        "start_time": "2023-03-08T16:05:53.426Z"
      },
      {
        "duration": 1590,
        "start_time": "2023-03-08T16:05:53.450Z"
      },
      {
        "duration": 7139,
        "start_time": "2023-03-08T16:05:55.042Z"
      },
      {
        "duration": 385,
        "start_time": "2023-03-08T16:06:02.183Z"
      },
      {
        "duration": 1794,
        "start_time": "2023-03-08T16:06:02.569Z"
      },
      {
        "duration": 73575,
        "start_time": "2023-03-08T16:06:04.365Z"
      },
      {
        "duration": 220960,
        "start_time": "2023-03-08T16:07:17.941Z"
      },
      {
        "duration": 221,
        "start_time": "2023-03-08T16:10:58.903Z"
      },
      {
        "duration": 12,
        "start_time": "2023-03-08T16:10:59.125Z"
      },
      {
        "duration": 0,
        "start_time": "2023-03-08T16:10:59.138Z"
      },
      {
        "duration": 0,
        "start_time": "2023-03-08T16:10:59.140Z"
      },
      {
        "duration": 0,
        "start_time": "2023-03-08T16:10:59.141Z"
      },
      {
        "duration": 0,
        "start_time": "2023-03-08T16:10:59.142Z"
      },
      {
        "duration": 101,
        "start_time": "2023-03-08T16:11:14.419Z"
      },
      {
        "duration": 113,
        "start_time": "2023-03-08T16:12:03.355Z"
      },
      {
        "duration": 236,
        "start_time": "2023-03-08T16:12:19.818Z"
      },
      {
        "duration": 131,
        "start_time": "2023-03-08T16:15:01.682Z"
      },
      {
        "duration": 99,
        "start_time": "2023-03-08T16:15:55.237Z"
      },
      {
        "duration": 36,
        "start_time": "2023-03-08T16:16:56.015Z"
      },
      {
        "duration": 41,
        "start_time": "2023-03-08T16:17:12.016Z"
      },
      {
        "duration": 43,
        "start_time": "2023-03-08T16:17:46.415Z"
      },
      {
        "duration": 42,
        "start_time": "2023-03-08T16:17:53.353Z"
      },
      {
        "duration": 111,
        "start_time": "2023-03-08T16:18:36.033Z"
      },
      {
        "duration": 110,
        "start_time": "2023-03-08T16:18:44.761Z"
      },
      {
        "duration": 40,
        "start_time": "2023-03-08T16:20:23.535Z"
      },
      {
        "duration": 56,
        "start_time": "2023-03-08T16:20:43.256Z"
      },
      {
        "duration": 98,
        "start_time": "2023-03-08T16:21:01.119Z"
      },
      {
        "duration": 104,
        "start_time": "2023-03-08T16:22:15.519Z"
      },
      {
        "duration": 2185,
        "start_time": "2023-03-09T02:28:20.586Z"
      },
      {
        "duration": 2565,
        "start_time": "2023-03-09T02:28:22.774Z"
      },
      {
        "duration": 31,
        "start_time": "2023-03-09T02:28:25.341Z"
      },
      {
        "duration": 8,
        "start_time": "2023-03-09T02:28:25.374Z"
      },
      {
        "duration": 4,
        "start_time": "2023-03-09T02:28:25.384Z"
      },
      {
        "duration": 131,
        "start_time": "2023-03-09T02:28:25.390Z"
      },
      {
        "duration": 85682,
        "start_time": "2023-03-09T02:28:25.523Z"
      },
      {
        "duration": 31,
        "start_time": "2023-03-09T02:29:51.207Z"
      },
      {
        "duration": 3,
        "start_time": "2023-03-09T02:29:51.240Z"
      },
      {
        "duration": 85,
        "start_time": "2023-03-09T02:29:51.245Z"
      },
      {
        "duration": 14,
        "start_time": "2023-03-09T02:29:51.332Z"
      },
      {
        "duration": 17,
        "start_time": "2023-03-09T02:29:51.350Z"
      },
      {
        "duration": 1698,
        "start_time": "2023-03-09T02:29:51.369Z"
      },
      {
        "duration": 8377,
        "start_time": "2023-03-09T02:29:53.072Z"
      },
      {
        "duration": 432,
        "start_time": "2023-03-09T02:30:01.451Z"
      },
      {
        "duration": 2135,
        "start_time": "2023-03-09T02:30:01.884Z"
      },
      {
        "duration": 92967,
        "start_time": "2023-03-09T02:30:04.022Z"
      },
      {
        "duration": 255843,
        "start_time": "2023-03-09T02:31:36.991Z"
      },
      {
        "duration": 213,
        "start_time": "2023-03-09T02:35:52.835Z"
      },
      {
        "duration": 116,
        "start_time": "2023-03-09T02:35:53.049Z"
      },
      {
        "duration": 13,
        "start_time": "2023-03-09T02:35:53.167Z"
      },
      {
        "duration": 0,
        "start_time": "2023-03-09T02:35:53.183Z"
      },
      {
        "duration": 0,
        "start_time": "2023-03-09T02:35:53.184Z"
      },
      {
        "duration": 0,
        "start_time": "2023-03-09T02:35:53.186Z"
      },
      {
        "duration": 0,
        "start_time": "2023-03-09T02:35:53.188Z"
      },
      {
        "duration": 86,
        "start_time": "2023-03-09T02:44:00.763Z"
      },
      {
        "duration": 124,
        "start_time": "2023-03-09T02:44:51.985Z"
      },
      {
        "duration": 265208,
        "start_time": "2023-03-09T02:45:31.830Z"
      },
      {
        "duration": 70701,
        "start_time": "2023-03-09T02:50:08.356Z"
      },
      {
        "duration": 92,
        "start_time": "2023-03-09T02:51:59.071Z"
      },
      {
        "duration": 134809,
        "start_time": "2023-03-09T02:52:49.363Z"
      },
      {
        "duration": 135250,
        "start_time": "2023-03-09T02:55:30.480Z"
      },
      {
        "duration": 2065,
        "start_time": "2023-03-09T02:58:22.120Z"
      },
      {
        "duration": 924,
        "start_time": "2023-03-09T02:58:24.187Z"
      },
      {
        "duration": 33,
        "start_time": "2023-03-09T02:58:25.113Z"
      },
      {
        "duration": 20,
        "start_time": "2023-03-09T02:58:25.148Z"
      },
      {
        "duration": 17,
        "start_time": "2023-03-09T02:58:25.173Z"
      },
      {
        "duration": 133,
        "start_time": "2023-03-09T02:58:25.192Z"
      },
      {
        "duration": 84611,
        "start_time": "2023-03-09T02:58:25.327Z"
      },
      {
        "duration": 44,
        "start_time": "2023-03-09T02:59:49.940Z"
      },
      {
        "duration": 2,
        "start_time": "2023-03-09T02:59:49.986Z"
      },
      {
        "duration": 82,
        "start_time": "2023-03-09T02:59:49.991Z"
      },
      {
        "duration": 2,
        "start_time": "2023-03-09T02:59:50.075Z"
      },
      {
        "duration": 10,
        "start_time": "2023-03-09T02:59:50.079Z"
      },
      {
        "duration": 1865,
        "start_time": "2023-03-09T02:59:50.090Z"
      },
      {
        "duration": 8375,
        "start_time": "2023-03-09T02:59:51.957Z"
      },
      {
        "duration": 499,
        "start_time": "2023-03-09T03:00:00.334Z"
      },
      {
        "duration": 2213,
        "start_time": "2023-03-09T03:00:00.836Z"
      },
      {
        "duration": 95224,
        "start_time": "2023-03-09T03:00:03.052Z"
      },
      {
        "duration": 260411,
        "start_time": "2023-03-09T03:01:38.278Z"
      },
      {
        "duration": 107141,
        "start_time": "2023-03-09T03:05:58.691Z"
      },
      {
        "duration": 9,
        "start_time": "2023-03-09T03:10:00.745Z"
      },
      {
        "duration": 7030,
        "start_time": "2023-03-09T03:10:00.756Z"
      },
      {
        "duration": 0,
        "start_time": "2023-03-09T03:10:07.788Z"
      },
      {
        "duration": 0,
        "start_time": "2023-03-09T03:10:07.789Z"
      },
      {
        "duration": 0,
        "start_time": "2023-03-09T03:10:07.791Z"
      },
      {
        "duration": 0,
        "start_time": "2023-03-09T03:10:07.794Z"
      },
      {
        "duration": 135622,
        "start_time": "2023-03-09T03:10:27.109Z"
      },
      {
        "duration": 89,
        "start_time": "2023-03-09T03:18:44.169Z"
      },
      {
        "duration": 144891,
        "start_time": "2023-03-09T03:19:26.408Z"
      },
      {
        "duration": 10,
        "start_time": "2023-03-09T03:22:08.273Z"
      },
      {
        "duration": 6700,
        "start_time": "2023-03-09T03:23:10.474Z"
      },
      {
        "duration": 13,
        "start_time": "2023-03-09T03:25:27.771Z"
      },
      {
        "duration": 7661,
        "start_time": "2023-03-09T03:26:14.409Z"
      },
      {
        "duration": 9103,
        "start_time": "2023-03-09T03:33:25.588Z"
      },
      {
        "duration": 107022,
        "start_time": "2023-03-09T03:33:38.232Z"
      },
      {
        "duration": 18,
        "start_time": "2023-03-09T03:37:27.831Z"
      },
      {
        "duration": 119,
        "start_time": "2023-03-09T03:47:03.553Z"
      },
      {
        "duration": 761,
        "start_time": "2023-03-09T03:49:15.049Z"
      },
      {
        "duration": 757,
        "start_time": "2023-03-09T03:50:43.811Z"
      },
      {
        "duration": 4,
        "start_time": "2023-03-09T03:56:42.968Z"
      },
      {
        "duration": 8441,
        "start_time": "2023-03-09T03:56:46.178Z"
      },
      {
        "duration": 2051,
        "start_time": "2023-03-09T03:57:12.558Z"
      },
      {
        "duration": 21,
        "start_time": "2023-03-09T04:04:27.153Z"
      },
      {
        "duration": 18,
        "start_time": "2023-03-09T04:59:55.147Z"
      },
      {
        "duration": 15,
        "start_time": "2023-03-09T05:00:24.395Z"
      },
      {
        "duration": 15,
        "start_time": "2023-03-09T05:02:10.267Z"
      },
      {
        "duration": 2094,
        "start_time": "2023-03-09T05:02:24.363Z"
      },
      {
        "duration": 956,
        "start_time": "2023-03-09T05:02:26.459Z"
      },
      {
        "duration": 35,
        "start_time": "2023-03-09T05:02:27.417Z"
      },
      {
        "duration": 23,
        "start_time": "2023-03-09T05:02:27.455Z"
      },
      {
        "duration": 12,
        "start_time": "2023-03-09T05:02:27.480Z"
      },
      {
        "duration": 136,
        "start_time": "2023-03-09T05:02:27.494Z"
      },
      {
        "duration": 97665,
        "start_time": "2023-03-09T05:02:27.632Z"
      },
      {
        "duration": 36,
        "start_time": "2023-03-09T05:04:05.300Z"
      },
      {
        "duration": 3,
        "start_time": "2023-03-09T05:04:05.339Z"
      },
      {
        "duration": 138,
        "start_time": "2023-03-09T05:04:05.347Z"
      },
      {
        "duration": 2,
        "start_time": "2023-03-09T05:04:05.488Z"
      },
      {
        "duration": 15,
        "start_time": "2023-03-09T05:04:05.494Z"
      },
      {
        "duration": 169,
        "start_time": "2023-03-09T05:04:05.511Z"
      },
      {
        "duration": 0,
        "start_time": "2023-03-09T05:04:05.683Z"
      },
      {
        "duration": 0,
        "start_time": "2023-03-09T05:04:05.685Z"
      },
      {
        "duration": 0,
        "start_time": "2023-03-09T05:04:05.687Z"
      },
      {
        "duration": 0,
        "start_time": "2023-03-09T05:04:05.689Z"
      },
      {
        "duration": 0,
        "start_time": "2023-03-09T05:04:05.691Z"
      },
      {
        "duration": 0,
        "start_time": "2023-03-09T05:04:05.692Z"
      },
      {
        "duration": 0,
        "start_time": "2023-03-09T05:04:05.695Z"
      },
      {
        "duration": 0,
        "start_time": "2023-03-09T05:04:05.696Z"
      },
      {
        "duration": 0,
        "start_time": "2023-03-09T05:04:05.698Z"
      },
      {
        "duration": 0,
        "start_time": "2023-03-09T05:04:05.700Z"
      },
      {
        "duration": 0,
        "start_time": "2023-03-09T05:04:05.701Z"
      },
      {
        "duration": 0,
        "start_time": "2023-03-09T05:04:05.703Z"
      },
      {
        "duration": 0,
        "start_time": "2023-03-09T05:04:05.705Z"
      },
      {
        "duration": 0,
        "start_time": "2023-03-09T05:04:05.708Z"
      },
      {
        "duration": 1927,
        "start_time": "2023-03-09T05:05:13.240Z"
      },
      {
        "duration": 86,
        "start_time": "2023-03-09T05:05:21.252Z"
      },
      {
        "duration": 9576,
        "start_time": "2023-03-09T05:06:53.769Z"
      },
      {
        "duration": 489,
        "start_time": "2023-03-09T05:07:03.347Z"
      },
      {
        "duration": 2395,
        "start_time": "2023-03-09T05:07:11.345Z"
      },
      {
        "duration": 135,
        "start_time": "2023-03-09T05:08:28.527Z"
      },
      {
        "duration": 6,
        "start_time": "2023-03-09T05:08:30.509Z"
      },
      {
        "duration": 70,
        "start_time": "2023-03-09T05:08:31.743Z"
      },
      {
        "duration": 4,
        "start_time": "2023-03-09T05:08:36.752Z"
      },
      {
        "duration": 8,
        "start_time": "2023-03-09T05:08:47.602Z"
      },
      {
        "duration": 2610,
        "start_time": "2023-03-09T05:09:19.722Z"
      },
      {
        "duration": 3257,
        "start_time": "2023-03-09T05:09:22.336Z"
      },
      {
        "duration": 45,
        "start_time": "2023-03-09T05:09:25.595Z"
      },
      {
        "duration": 15,
        "start_time": "2023-03-09T05:09:25.644Z"
      },
      {
        "duration": 3,
        "start_time": "2023-03-09T05:09:25.662Z"
      },
      {
        "duration": 171,
        "start_time": "2023-03-09T05:09:25.676Z"
      },
      {
        "duration": 114437,
        "start_time": "2023-03-09T05:09:25.850Z"
      },
      {
        "duration": 43,
        "start_time": "2023-03-09T05:11:20.289Z"
      },
      {
        "duration": 3,
        "start_time": "2023-03-09T05:11:20.334Z"
      },
      {
        "duration": 138,
        "start_time": "2023-03-09T05:11:20.341Z"
      },
      {
        "duration": 6,
        "start_time": "2023-03-09T05:11:20.482Z"
      },
      {
        "duration": 50,
        "start_time": "2023-03-09T05:11:20.490Z"
      },
      {
        "duration": 40,
        "start_time": "2023-03-09T05:11:20.543Z"
      },
      {
        "duration": 42,
        "start_time": "2023-03-09T05:11:20.589Z"
      },
      {
        "duration": 2173,
        "start_time": "2023-03-09T05:11:20.633Z"
      },
      {
        "duration": 11023,
        "start_time": "2023-03-09T05:11:22.808Z"
      },
      {
        "duration": 529,
        "start_time": "2023-03-09T05:11:33.833Z"
      },
      {
        "duration": 2665,
        "start_time": "2023-03-09T05:11:34.365Z"
      },
      {
        "duration": 1087,
        "start_time": "2023-03-09T05:11:37.032Z"
      },
      {
        "duration": 154,
        "start_time": "2023-03-09T05:11:38.122Z"
      },
      {
        "duration": 20,
        "start_time": "2023-03-09T05:11:38.278Z"
      },
      {
        "duration": 0,
        "start_time": "2023-03-09T05:11:38.301Z"
      },
      {
        "duration": 0,
        "start_time": "2023-03-09T05:11:38.303Z"
      },
      {
        "duration": 0,
        "start_time": "2023-03-09T05:11:38.304Z"
      },
      {
        "duration": 0,
        "start_time": "2023-03-09T05:11:38.306Z"
      },
      {
        "duration": 0,
        "start_time": "2023-03-09T05:11:38.308Z"
      },
      {
        "duration": 0,
        "start_time": "2023-03-09T05:11:38.309Z"
      },
      {
        "duration": 0,
        "start_time": "2023-03-09T05:11:38.311Z"
      },
      {
        "duration": 0,
        "start_time": "2023-03-09T05:11:38.313Z"
      },
      {
        "duration": 26,
        "start_time": "2023-03-09T05:16:43.900Z"
      },
      {
        "duration": 2110,
        "start_time": "2023-03-09T05:16:55.609Z"
      },
      {
        "duration": 977,
        "start_time": "2023-03-09T05:16:57.721Z"
      },
      {
        "duration": 36,
        "start_time": "2023-03-09T05:16:58.700Z"
      },
      {
        "duration": 7,
        "start_time": "2023-03-09T05:16:58.739Z"
      },
      {
        "duration": 26,
        "start_time": "2023-03-09T05:16:58.748Z"
      },
      {
        "duration": 150,
        "start_time": "2023-03-09T05:16:58.776Z"
      },
      {
        "duration": 89324,
        "start_time": "2023-03-09T05:16:58.929Z"
      },
      {
        "duration": 44,
        "start_time": "2023-03-09T05:18:28.255Z"
      },
      {
        "duration": 2,
        "start_time": "2023-03-09T05:18:28.301Z"
      },
      {
        "duration": 20,
        "start_time": "2023-03-09T05:18:28.307Z"
      },
      {
        "duration": 75,
        "start_time": "2023-03-09T05:18:28.329Z"
      },
      {
        "duration": 5,
        "start_time": "2023-03-09T05:18:28.405Z"
      },
      {
        "duration": 17,
        "start_time": "2023-03-09T05:18:28.412Z"
      },
      {
        "duration": 17,
        "start_time": "2023-03-09T05:18:28.431Z"
      },
      {
        "duration": 23,
        "start_time": "2023-03-09T05:18:28.450Z"
      },
      {
        "duration": 1811,
        "start_time": "2023-03-09T05:18:28.475Z"
      },
      {
        "duration": 8686,
        "start_time": "2023-03-09T05:18:30.288Z"
      },
      {
        "duration": 442,
        "start_time": "2023-03-09T05:18:38.976Z"
      },
      {
        "duration": 2202,
        "start_time": "2023-03-09T05:18:39.420Z"
      },
      {
        "duration": 888,
        "start_time": "2023-03-09T05:18:41.625Z"
      },
      {
        "duration": 110,
        "start_time": "2023-03-09T05:18:42.515Z"
      },
      {
        "duration": 12,
        "start_time": "2023-03-09T05:18:42.628Z"
      },
      {
        "duration": 0,
        "start_time": "2023-03-09T05:18:42.642Z"
      },
      {
        "duration": 0,
        "start_time": "2023-03-09T05:18:42.643Z"
      },
      {
        "duration": 0,
        "start_time": "2023-03-09T05:18:42.645Z"
      },
      {
        "duration": 0,
        "start_time": "2023-03-09T05:18:42.645Z"
      },
      {
        "duration": 0,
        "start_time": "2023-03-09T05:18:42.647Z"
      },
      {
        "duration": 0,
        "start_time": "2023-03-09T05:18:42.648Z"
      },
      {
        "duration": 1,
        "start_time": "2023-03-09T05:18:42.649Z"
      },
      {
        "duration": 0,
        "start_time": "2023-03-09T05:18:42.651Z"
      },
      {
        "duration": 2433,
        "start_time": "2023-03-09T05:19:40.664Z"
      },
      {
        "duration": 9271,
        "start_time": "2023-03-09T05:20:26.464Z"
      },
      {
        "duration": 18,
        "start_time": "2023-03-09T05:21:07.970Z"
      },
      {
        "duration": 2531,
        "start_time": "2023-03-09T05:21:25.823Z"
      },
      {
        "duration": 1010,
        "start_time": "2023-03-09T05:21:28.357Z"
      },
      {
        "duration": 42,
        "start_time": "2023-03-09T05:21:29.373Z"
      },
      {
        "duration": 7,
        "start_time": "2023-03-09T05:21:29.418Z"
      },
      {
        "duration": 4,
        "start_time": "2023-03-09T05:21:29.428Z"
      },
      {
        "duration": 220,
        "start_time": "2023-03-09T05:21:29.434Z"
      },
      {
        "duration": 97396,
        "start_time": "2023-03-09T05:21:29.656Z"
      },
      {
        "duration": 42,
        "start_time": "2023-03-09T05:23:07.054Z"
      },
      {
        "duration": 3,
        "start_time": "2023-03-09T05:23:07.099Z"
      },
      {
        "duration": 32,
        "start_time": "2023-03-09T05:23:07.106Z"
      },
      {
        "duration": 110,
        "start_time": "2023-03-09T05:23:07.140Z"
      },
      {
        "duration": 5,
        "start_time": "2023-03-09T05:23:07.252Z"
      },
      {
        "duration": 15,
        "start_time": "2023-03-09T05:23:07.260Z"
      },
      {
        "duration": 4,
        "start_time": "2023-03-09T05:23:07.277Z"
      },
      {
        "duration": 8,
        "start_time": "2023-03-09T05:23:07.284Z"
      },
      {
        "duration": 1870,
        "start_time": "2023-03-09T05:23:07.294Z"
      },
      {
        "duration": 9183,
        "start_time": "2023-03-09T05:23:09.172Z"
      },
      {
        "duration": 445,
        "start_time": "2023-03-09T05:23:18.357Z"
      },
      {
        "duration": 2355,
        "start_time": "2023-03-09T05:23:18.804Z"
      },
      {
        "duration": 924,
        "start_time": "2023-03-09T05:23:21.161Z"
      },
      {
        "duration": 134,
        "start_time": "2023-03-09T05:23:22.087Z"
      },
      {
        "duration": 13,
        "start_time": "2023-03-09T05:23:22.223Z"
      },
      {
        "duration": 0,
        "start_time": "2023-03-09T05:23:22.238Z"
      },
      {
        "duration": 0,
        "start_time": "2023-03-09T05:23:22.240Z"
      },
      {
        "duration": 0,
        "start_time": "2023-03-09T05:23:22.242Z"
      },
      {
        "duration": 0,
        "start_time": "2023-03-09T05:23:22.244Z"
      },
      {
        "duration": 0,
        "start_time": "2023-03-09T05:23:22.245Z"
      },
      {
        "duration": 0,
        "start_time": "2023-03-09T05:23:22.247Z"
      },
      {
        "duration": 0,
        "start_time": "2023-03-09T05:23:22.248Z"
      },
      {
        "duration": 0,
        "start_time": "2023-03-09T05:23:22.250Z"
      },
      {
        "duration": 2495,
        "start_time": "2023-03-09T05:27:29.758Z"
      },
      {
        "duration": 2511,
        "start_time": "2023-03-09T05:28:54.222Z"
      },
      {
        "duration": 1124,
        "start_time": "2023-03-09T05:28:56.735Z"
      },
      {
        "duration": 45,
        "start_time": "2023-03-09T05:28:57.861Z"
      },
      {
        "duration": 17,
        "start_time": "2023-03-09T05:28:57.909Z"
      },
      {
        "duration": 3,
        "start_time": "2023-03-09T05:28:57.928Z"
      },
      {
        "duration": 181,
        "start_time": "2023-03-09T05:28:57.933Z"
      },
      {
        "duration": 107181,
        "start_time": "2023-03-09T05:28:58.116Z"
      },
      {
        "duration": 38,
        "start_time": "2023-03-09T05:30:45.299Z"
      },
      {
        "duration": 2,
        "start_time": "2023-03-09T05:30:45.339Z"
      },
      {
        "duration": 29,
        "start_time": "2023-03-09T05:30:45.345Z"
      },
      {
        "duration": 68,
        "start_time": "2023-03-09T05:30:45.376Z"
      },
      {
        "duration": 5,
        "start_time": "2023-03-09T05:30:45.447Z"
      },
      {
        "duration": 25,
        "start_time": "2023-03-09T05:30:45.454Z"
      },
      {
        "duration": 17,
        "start_time": "2023-03-09T05:30:45.485Z"
      },
      {
        "duration": 7,
        "start_time": "2023-03-09T05:30:45.504Z"
      },
      {
        "duration": 1927,
        "start_time": "2023-03-09T05:30:45.513Z"
      },
      {
        "duration": 10105,
        "start_time": "2023-03-09T05:30:47.443Z"
      },
      {
        "duration": 463,
        "start_time": "2023-03-09T05:30:57.550Z"
      },
      {
        "duration": 2265,
        "start_time": "2023-03-09T05:30:58.016Z"
      },
      {
        "duration": 1164,
        "start_time": "2023-03-09T05:31:00.283Z"
      },
      {
        "duration": 169,
        "start_time": "2023-03-09T05:31:01.449Z"
      },
      {
        "duration": 13,
        "start_time": "2023-03-09T05:31:01.622Z"
      },
      {
        "duration": 0,
        "start_time": "2023-03-09T05:31:01.637Z"
      },
      {
        "duration": 0,
        "start_time": "2023-03-09T05:31:01.639Z"
      },
      {
        "duration": 0,
        "start_time": "2023-03-09T05:31:01.640Z"
      },
      {
        "duration": 0,
        "start_time": "2023-03-09T05:31:01.642Z"
      },
      {
        "duration": 0,
        "start_time": "2023-03-09T05:31:01.643Z"
      },
      {
        "duration": 0,
        "start_time": "2023-03-09T05:31:01.644Z"
      },
      {
        "duration": 0,
        "start_time": "2023-03-09T05:31:01.647Z"
      },
      {
        "duration": 1,
        "start_time": "2023-03-09T05:31:01.647Z"
      },
      {
        "duration": 7,
        "start_time": "2023-03-09T05:35:54.090Z"
      },
      {
        "duration": 47,
        "start_time": "2023-03-09T05:36:34.996Z"
      },
      {
        "duration": 141,
        "start_time": "2023-03-09T05:36:46.591Z"
      },
      {
        "duration": 121755,
        "start_time": "2023-03-09T05:36:56.836Z"
      },
      {
        "duration": 25,
        "start_time": "2023-03-09T05:39:32.256Z"
      },
      {
        "duration": 26,
        "start_time": "2023-03-09T05:40:14.846Z"
      },
      {
        "duration": 339112,
        "start_time": "2023-03-09T05:40:21.640Z"
      },
      {
        "duration": 178363,
        "start_time": "2023-03-09T05:46:32.055Z"
      },
      {
        "duration": 24897,
        "start_time": "2023-03-09T05:49:39.487Z"
      },
      {
        "duration": 10,
        "start_time": "2023-03-09T05:50:09.696Z"
      },
      {
        "duration": 7637,
        "start_time": "2023-03-09T05:50:15.732Z"
      },
      {
        "duration": 29,
        "start_time": "2023-03-09T05:53:12.278Z"
      },
      {
        "duration": 344602,
        "start_time": "2023-03-09T05:55:51.524Z"
      },
      {
        "duration": 228572,
        "start_time": "2023-03-09T06:10:46.085Z"
      },
      {
        "duration": 13,
        "start_time": "2023-03-09T06:14:54.612Z"
      },
      {
        "duration": 22,
        "start_time": "2023-03-09T06:14:59.328Z"
      },
      {
        "duration": 66,
        "start_time": "2023-03-09T06:15:05.972Z"
      },
      {
        "duration": 31,
        "start_time": "2023-03-09T06:15:18.419Z"
      },
      {
        "duration": 744,
        "start_time": "2023-03-09T06:15:26.095Z"
      },
      {
        "duration": 21,
        "start_time": "2023-03-09T06:15:31.789Z"
      },
      {
        "duration": 970942,
        "start_time": "2023-03-09T06:16:06.304Z"
      },
      {
        "duration": 2446,
        "start_time": "2023-03-09T06:37:38.921Z"
      },
      {
        "duration": 1144,
        "start_time": "2023-03-09T06:37:41.369Z"
      },
      {
        "duration": 37,
        "start_time": "2023-03-09T06:37:42.514Z"
      },
      {
        "duration": 42,
        "start_time": "2023-03-09T06:37:42.554Z"
      },
      {
        "duration": 9,
        "start_time": "2023-03-09T06:37:42.608Z"
      },
      {
        "duration": 174,
        "start_time": "2023-03-09T06:37:42.624Z"
      },
      {
        "duration": 119861,
        "start_time": "2023-03-09T06:37:42.801Z"
      },
      {
        "duration": 57,
        "start_time": "2023-03-09T06:39:42.664Z"
      },
      {
        "duration": 43,
        "start_time": "2023-03-09T06:39:42.723Z"
      },
      {
        "duration": 62,
        "start_time": "2023-03-09T06:39:42.770Z"
      },
      {
        "duration": 103,
        "start_time": "2023-03-09T06:39:42.834Z"
      },
      {
        "duration": 4,
        "start_time": "2023-03-09T06:39:42.940Z"
      },
      {
        "duration": 11,
        "start_time": "2023-03-09T06:39:42.946Z"
      },
      {
        "duration": 65,
        "start_time": "2023-03-09T06:39:42.958Z"
      },
      {
        "duration": 53,
        "start_time": "2023-03-09T06:39:43.025Z"
      },
      {
        "duration": 2316,
        "start_time": "2023-03-09T06:39:43.080Z"
      },
      {
        "duration": 11393,
        "start_time": "2023-03-09T06:39:45.399Z"
      },
      {
        "duration": 493,
        "start_time": "2023-03-09T06:39:56.794Z"
      },
      {
        "duration": 2649,
        "start_time": "2023-03-09T06:39:57.290Z"
      },
      {
        "duration": 5,
        "start_time": "2023-03-09T06:39:59.942Z"
      },
      {
        "duration": 313888,
        "start_time": "2023-03-09T06:39:59.949Z"
      },
      {
        "duration": 17,
        "start_time": "2023-03-09T06:45:13.839Z"
      },
      {
        "duration": 0,
        "start_time": "2023-03-09T06:45:13.859Z"
      },
      {
        "duration": 0,
        "start_time": "2023-03-09T06:45:13.861Z"
      },
      {
        "duration": 0,
        "start_time": "2023-03-09T06:45:13.862Z"
      },
      {
        "duration": 0,
        "start_time": "2023-03-09T06:45:13.864Z"
      },
      {
        "duration": 1,
        "start_time": "2023-03-09T06:45:13.864Z"
      },
      {
        "duration": 0,
        "start_time": "2023-03-09T06:45:13.866Z"
      },
      {
        "duration": 0,
        "start_time": "2023-03-09T06:45:13.867Z"
      },
      {
        "duration": 0,
        "start_time": "2023-03-09T06:45:13.869Z"
      },
      {
        "duration": 0,
        "start_time": "2023-03-09T06:45:13.870Z"
      },
      {
        "duration": 0,
        "start_time": "2023-03-09T06:45:13.871Z"
      },
      {
        "duration": 149907,
        "start_time": "2023-03-09T06:45:40.495Z"
      },
      {
        "duration": 27,
        "start_time": "2023-03-09T06:52:06.282Z"
      },
      {
        "duration": 349780,
        "start_time": "2023-03-09T06:52:39.430Z"
      },
      {
        "duration": 121742,
        "start_time": "2023-03-09T06:58:31.417Z"
      },
      {
        "duration": 378495,
        "start_time": "2023-03-09T07:01:01.220Z"
      },
      {
        "duration": 75,
        "start_time": "2023-03-09T07:07:19.721Z"
      },
      {
        "duration": 198492,
        "start_time": "2023-03-09T07:09:00.198Z"
      },
      {
        "duration": 114,
        "start_time": "2023-03-09T07:12:35.999Z"
      },
      {
        "duration": 238,
        "start_time": "2023-03-09T07:25:00.456Z"
      },
      {
        "duration": 2379,
        "start_time": "2023-03-09T07:25:16.301Z"
      },
      {
        "duration": 2951,
        "start_time": "2023-03-09T07:25:18.684Z"
      },
      {
        "duration": 40,
        "start_time": "2023-03-09T07:25:21.637Z"
      },
      {
        "duration": 9,
        "start_time": "2023-03-09T07:25:21.686Z"
      },
      {
        "duration": 4,
        "start_time": "2023-03-09T07:25:21.698Z"
      },
      {
        "duration": 144,
        "start_time": "2023-03-09T07:25:21.704Z"
      },
      {
        "duration": 106639,
        "start_time": "2023-03-09T07:25:21.851Z"
      },
      {
        "duration": 39,
        "start_time": "2023-03-09T07:27:08.497Z"
      },
      {
        "duration": 3,
        "start_time": "2023-03-09T07:27:08.538Z"
      },
      {
        "duration": 18,
        "start_time": "2023-03-09T07:27:08.544Z"
      },
      {
        "duration": 92,
        "start_time": "2023-03-09T07:27:08.564Z"
      },
      {
        "duration": 4,
        "start_time": "2023-03-09T07:27:08.658Z"
      },
      {
        "duration": 13,
        "start_time": "2023-03-09T07:27:08.664Z"
      },
      {
        "duration": 34,
        "start_time": "2023-03-09T07:27:08.678Z"
      },
      {
        "duration": 12,
        "start_time": "2023-03-09T07:27:08.713Z"
      },
      {
        "duration": 2013,
        "start_time": "2023-03-09T07:27:08.727Z"
      },
      {
        "duration": 10177,
        "start_time": "2023-03-09T07:27:10.742Z"
      },
      {
        "duration": 491,
        "start_time": "2023-03-09T07:27:20.921Z"
      },
      {
        "duration": 2312,
        "start_time": "2023-03-09T07:27:21.415Z"
      },
      {
        "duration": 187522,
        "start_time": "2023-03-09T07:27:23.729Z"
      },
      {
        "duration": 11,
        "start_time": "2023-03-09T07:30:31.253Z"
      },
      {
        "duration": 0,
        "start_time": "2023-03-09T07:30:31.266Z"
      },
      {
        "duration": 0,
        "start_time": "2023-03-09T07:30:31.267Z"
      },
      {
        "duration": 0,
        "start_time": "2023-03-09T07:30:31.268Z"
      },
      {
        "duration": 0,
        "start_time": "2023-03-09T07:30:31.270Z"
      },
      {
        "duration": 0,
        "start_time": "2023-03-09T07:30:31.271Z"
      },
      {
        "duration": 0,
        "start_time": "2023-03-09T07:30:31.277Z"
      },
      {
        "duration": 0,
        "start_time": "2023-03-09T07:30:31.281Z"
      },
      {
        "duration": 0,
        "start_time": "2023-03-09T07:30:31.283Z"
      },
      {
        "duration": 0,
        "start_time": "2023-03-09T07:30:31.285Z"
      },
      {
        "duration": 0,
        "start_time": "2023-03-09T07:30:31.287Z"
      },
      {
        "duration": 115180,
        "start_time": "2023-03-09T07:30:52.646Z"
      },
      {
        "duration": 25652,
        "start_time": "2023-03-09T07:36:11.929Z"
      },
      {
        "duration": 299247,
        "start_time": "2023-03-09T07:36:58.956Z"
      },
      {
        "duration": 24264,
        "start_time": "2023-03-09T07:42:46.528Z"
      },
      {
        "duration": 7,
        "start_time": "2023-03-09T07:43:18.125Z"
      },
      {
        "duration": 312908,
        "start_time": "2023-03-09T07:43:34.342Z"
      },
      {
        "duration": 157975,
        "start_time": "2023-03-09T07:52:10.057Z"
      },
      {
        "duration": 9,
        "start_time": "2023-03-09T07:56:19.037Z"
      },
      {
        "duration": 20,
        "start_time": "2023-03-09T07:56:24.324Z"
      },
      {
        "duration": 30,
        "start_time": "2023-03-09T07:56:59.383Z"
      },
      {
        "duration": 608,
        "start_time": "2023-03-09T07:57:03.089Z"
      },
      {
        "duration": 77,
        "start_time": "2023-03-09T07:57:09.138Z"
      },
      {
        "duration": 9,
        "start_time": "2023-03-09T07:57:14.206Z"
      },
      {
        "duration": 8,
        "start_time": "2023-03-09T07:57:28.002Z"
      },
      {
        "duration": 11,
        "start_time": "2023-03-09T07:58:47.564Z"
      },
      {
        "duration": 607,
        "start_time": "2023-03-09T07:58:52.226Z"
      },
      {
        "duration": 8,
        "start_time": "2023-03-09T07:58:55.394Z"
      },
      {
        "duration": 10,
        "start_time": "2023-03-09T07:59:08.379Z"
      },
      {
        "duration": 17,
        "start_time": "2023-03-09T07:59:20.717Z"
      },
      {
        "duration": 112,
        "start_time": "2023-03-09T08:01:39.992Z"
      },
      {
        "duration": 2204,
        "start_time": "2023-03-09T08:15:33.664Z"
      },
      {
        "duration": 951,
        "start_time": "2023-03-09T08:15:35.870Z"
      },
      {
        "duration": 36,
        "start_time": "2023-03-09T08:15:36.823Z"
      },
      {
        "duration": 7,
        "start_time": "2023-03-09T08:15:36.874Z"
      },
      {
        "duration": 6,
        "start_time": "2023-03-09T08:15:36.883Z"
      },
      {
        "duration": 138,
        "start_time": "2023-03-09T08:15:36.891Z"
      },
      {
        "duration": 88535,
        "start_time": "2023-03-09T08:15:37.031Z"
      },
      {
        "duration": 37,
        "start_time": "2023-03-09T08:17:05.568Z"
      },
      {
        "duration": 11,
        "start_time": "2023-03-09T08:17:05.607Z"
      },
      {
        "duration": 82,
        "start_time": "2023-03-09T08:17:05.621Z"
      },
      {
        "duration": 4,
        "start_time": "2023-03-09T08:17:05.705Z"
      },
      {
        "duration": 7,
        "start_time": "2023-03-09T08:17:05.711Z"
      },
      {
        "duration": 6,
        "start_time": "2023-03-09T08:17:05.719Z"
      },
      {
        "duration": 1840,
        "start_time": "2023-03-09T08:17:05.727Z"
      },
      {
        "duration": 8379,
        "start_time": "2023-03-09T08:17:07.569Z"
      },
      {
        "duration": 448,
        "start_time": "2023-03-09T08:17:15.950Z"
      },
      {
        "duration": 1939,
        "start_time": "2023-03-09T08:17:16.400Z"
      },
      {
        "duration": 162485,
        "start_time": "2023-03-09T08:17:18.341Z"
      },
      {
        "duration": 283763,
        "start_time": "2023-03-09T08:20:00.827Z"
      },
      {
        "duration": 145700,
        "start_time": "2023-03-09T08:24:44.594Z"
      },
      {
        "duration": 7,
        "start_time": "2023-03-09T08:27:10.296Z"
      },
      {
        "duration": 21,
        "start_time": "2023-03-09T08:27:10.305Z"
      },
      {
        "duration": 49,
        "start_time": "2023-03-09T08:27:10.328Z"
      },
      {
        "duration": 604,
        "start_time": "2023-03-09T08:27:10.379Z"
      },
      {
        "duration": 8,
        "start_time": "2023-03-09T08:27:10.985Z"
      },
      {
        "duration": 2447,
        "start_time": "2023-03-10T08:42:03.324Z"
      },
      {
        "duration": 5285,
        "start_time": "2023-03-10T08:42:09.118Z"
      },
      {
        "duration": 40,
        "start_time": "2023-03-10T08:42:17.066Z"
      },
      {
        "duration": 7,
        "start_time": "2023-03-10T08:42:18.366Z"
      },
      {
        "duration": 146,
        "start_time": "2023-03-10T08:42:22.270Z"
      },
      {
        "duration": 109430,
        "start_time": "2023-03-10T08:42:25.468Z"
      },
      {
        "duration": 36,
        "start_time": "2023-03-10T08:53:58.907Z"
      },
      {
        "duration": 10,
        "start_time": "2023-03-10T08:54:15.296Z"
      },
      {
        "duration": 64,
        "start_time": "2023-03-10T08:54:17.118Z"
      },
      {
        "duration": 4,
        "start_time": "2023-03-10T08:54:18.675Z"
      },
      {
        "duration": 4,
        "start_time": "2023-03-10T08:54:20.122Z"
      },
      {
        "duration": 5,
        "start_time": "2023-03-10T08:54:22.607Z"
      },
      {
        "duration": 1556,
        "start_time": "2023-03-10T08:54:23.823Z"
      },
      {
        "duration": 3,
        "start_time": "2023-03-10T08:55:38.872Z"
      },
      {
        "duration": 131,
        "start_time": "2023-03-10T08:55:44.318Z"
      },
      {
        "duration": 11,
        "start_time": "2023-03-10T08:55:51.511Z"
      },
      {
        "duration": 160,
        "start_time": "2023-03-10T08:55:57.772Z"
      },
      {
        "duration": 5787,
        "start_time": "2023-03-10T08:56:02.512Z"
      },
      {
        "duration": 4,
        "start_time": "2023-03-10T08:56:15.327Z"
      },
      {
        "duration": 1227,
        "start_time": "2023-03-10T08:56:20.250Z"
      },
      {
        "duration": 59,
        "start_time": "2023-03-10T08:57:12.920Z"
      },
      {
        "duration": 62,
        "start_time": "2023-03-10T09:00:13.154Z"
      },
      {
        "duration": 8,
        "start_time": "2023-03-10T09:01:15.124Z"
      },
      {
        "duration": 87,
        "start_time": "2023-03-10T09:01:22.740Z"
      },
      {
        "duration": 119493,
        "start_time": "2023-03-10T09:02:42.059Z"
      },
      {
        "duration": 228098,
        "start_time": "2023-03-10T09:05:36.164Z"
      },
      {
        "duration": 121596,
        "start_time": "2023-03-10T09:09:50.494Z"
      },
      {
        "duration": 13,
        "start_time": "2023-03-10T09:14:21.340Z"
      },
      {
        "duration": 28,
        "start_time": "2023-03-10T09:15:16.330Z"
      }
    ],
    "kernelspec": {
      "display_name": "Python 3 (ipykernel)",
      "language": "python",
      "name": "python3"
    },
    "language_info": {
      "codemirror_mode": {
        "name": "ipython",
        "version": 3
      },
      "file_extension": ".py",
      "mimetype": "text/x-python",
      "name": "python",
      "nbconvert_exporter": "python",
      "pygments_lexer": "ipython3",
      "version": "3.9.5"
    },
    "toc": {
      "base_numbering": 1,
      "nav_menu": {},
      "number_sections": true,
      "sideBar": true,
      "skip_h1_title": true,
      "title_cell": "Содержание",
      "title_sidebar": "Contents",
      "toc_cell": true,
      "toc_position": {
        "height": "calc(100% - 180px)",
        "left": "10px",
        "top": "150px",
        "width": "302.391px"
      },
      "toc_section_display": true,
      "toc_window_display": false
    },
    "colab": {
      "provenance": []
    }
  },
  "nbformat": 4,
  "nbformat_minor": 0
}